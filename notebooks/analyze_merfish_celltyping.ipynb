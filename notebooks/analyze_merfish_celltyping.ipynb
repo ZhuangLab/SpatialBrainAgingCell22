{
 "cells": [
  {
   "cell_type": "code",
   "execution_count": null,
   "metadata": {},
   "outputs": [],
   "source": [
    "import scanpy as sc\n",
    "import matplotlib.pyplot as plt\n",
    "import numpy as np\n",
    "import matplotlib as mpl\n",
    "import os\n",
    "import anndata as ad\n",
    "mpl.rcParams['figure.dpi'] = 150\n",
    "plt.rcParams['pdf.fonttype'] = 42\n",
    "\n",
    "import sys\n",
    "from spatial_analysis import *\n",
    "from plotting import *\n",
    "sns.set_style('white')"
   ]
  },
  {
   "cell_type": "code",
   "execution_count": null,
   "metadata": {},
   "outputs": [],
   "source": [
    "def unbinarize_strings(A):\n",
    "    A.var_names = [i.decode('ascii') for i in A.var_names]\n",
    "    A.obs.index = [i.decode('ascii') for i in A.obs.index]\n",
    "    for i in A.obs.columns:\n",
    "        if A.obs[i].dtype != np.dtype('bool') and \\\n",
    "            A.obs[i].dtype != np.dtype('int64') and \\\n",
    "            A.obs[i].dtype != np.dtype('int32') and \\\n",
    "            A.obs[i].dtype != np.dtype('object_') and \\\n",
    "            A.obs[i].dtype != np.dtype('float64') and A.obs[i].dtype != np.dtype('float32'):\n",
    "            if A.obs[i].dtype.is_dtype('category'):\n",
    "                try:\n",
    "                    A.obs[i] = [i.decode('ascii') for i in A.obs[i]]\n",
    "                except Exception as e:\n",
    "                    pass\n",
    "    return A\n"
   ]
  },
  {
   "cell_type": "code",
   "execution_count": null,
   "metadata": {},
   "outputs": [],
   "source": [
    "sns.set_style('white')"
   ]
  },
  {
   "cell_type": "code",
   "execution_count": null,
   "metadata": {},
   "outputs": [],
   "source": [
    "def plot_gene_by_cells(A, gene_name, s=0.1, vmin=0,vmax=5, cmap=plt.cm.Reds):\n",
    "    gene_expr = A.X[:,np.argwhere(A.var.index==gene_name)[0][0]]\n",
    "    plt.scatter(A.obs.center_x, A.obs.center_y, s=s, c=gene_expr, vmin=vmin,vmax=vmax, cmap=cmap)"
   ]
  },
  {
   "cell_type": "code",
   "execution_count": null,
   "metadata": {},
   "outputs": [],
   "source": [
    "# load all merged data\n",
    "adata = ad.read_h5ad(\"/faststorage/brain_aging/merfish/exported/102821_merged_combined_merfish_allages.h5ad\")"
   ]
  },
  {
   "cell_type": "code",
   "execution_count": null,
   "metadata": {},
   "outputs": [],
   "source": [
    "print(\"Starting with\", adata.shape[0], \"cells\")"
   ]
  },
  {
   "cell_type": "code",
   "execution_count": null,
   "metadata": {},
   "outputs": [],
   "source": [
    "# genes to exclude that included bit 40 in their code, which had very low signal\n",
    "bad_genes = ['Prom1',\n",
    " 'Parp8',\n",
    " 'Rbpj',\n",
    " 'Skap2',\n",
    " 'Ago3',\n",
    " 'Cntnap3',\n",
    " 'Meis2',\n",
    " 'Arnt2',\n",
    " 'Hivep2',\n",
    " 'Foxn3',\n",
    " 'Parp2',\n",
    " 'Zfp608',\n",
    " 'Fbxl7',\n",
    " 'Htr2c',\n",
    " 'Klf7',\n",
    " 'Timp2',\n",
    " 'Zbtb16',\n",
    " 'Egflam',\n",
    " 'Ikzf2',\n",
    " 'Cdh13',\n",
    " 'Cd63',\n",
    " 'Marcks',\n",
    " 'Parp11',\n",
    " 'Herc6',\n",
    " 'Cdh9',\n",
    " 'Tsc22d1',\n",
    " 'Lef1',\n",
    " 'Shisa6',\n",
    " 'St8sia6',\n",
    " 'Trp53',\n",
    " 'Plch1',\n",
    " 'Cp',\n",
    " '9630014M24Rik',\n",
    " 'Elf2',\n",
    " 'Tafa1',\n",
    " 'Ntn1',\n",
    " 'Rarb',\n",
    " 'Zfp462',\n",
    " 'Sirt5',\n",
    " 'Mamdc2',\n",
    " 'Bach2']\n"
   ]
  },
  {
   "cell_type": "code",
   "execution_count": null,
   "metadata": {},
   "outputs": [],
   "source": [
    "adata = adata[:, ~adata.var_names.isin(bad_genes)]"
   ]
  },
  {
   "cell_type": "code",
   "execution_count": null,
   "metadata": {},
   "outputs": [],
   "source": [
    "sc.pp.calculate_qc_metrics(adata, qc_vars=[], percent_top=None, log1p=False, inplace=True)\n"
   ]
  },
  {
   "cell_type": "code",
   "execution_count": null,
   "metadata": {},
   "outputs": [],
   "source": [
    "plt.scatter(adata.obs.total_counts, adata.obs.n_genes_by_counts,s=0.1,alpha=0.1,c=np.array([int(i[:-2]) for i in adata.obs.age]))\n",
    "plt.xlabel('Counts')\n",
    "plt.ylabel('Genes')\n",
    "plt.axvline(20,color='k')\n",
    "plt.axhline(5,color='k')"
   ]
  },
  {
   "cell_type": "code",
   "execution_count": null,
   "metadata": {},
   "outputs": [],
   "source": [
    "plt.scatter(adata.obs.total_counts, adata.obs.n_genes_by_counts,s=0.1,alpha=0.1,c=adata.obs.batch)\n",
    "plt.xlabel('Counts')\n",
    "plt.ylabel('Genes')\n",
    "plt.axvline(20,color='k')\n",
    "plt.axhline(5,color='k')"
   ]
  },
  {
   "cell_type": "code",
   "execution_count": null,
   "metadata": {
    "scrolled": true
   },
   "outputs": [],
   "source": [
    "# use scrublet\n",
    "import scrublet as scr\n",
    "\n",
    "all_doublet_scores = []\n",
    "for i in adata.obs.batch.unique():\n",
    "    print(\"Doubleting\", i)\n",
    "    curr_adata = adata[adata.obs.batch==i]\n",
    "    scrub = scr.Scrublet(curr_adata.X)\n",
    "    doublet_scores, predicted_doublets = scrub.scrub_doublets(log_transform=True)\n",
    "    all_doublet_scores.append(doublet_scores)\n",
    "    #scrub.plot_histogram()"
   ]
  },
  {
   "cell_type": "code",
   "execution_count": null,
   "metadata": {},
   "outputs": [],
   "source": [
    "adata.obs[\"doublet_scores\"] = np.hstack(all_doublet_scores)"
   ]
  },
  {
   "cell_type": "code",
   "execution_count": null,
   "metadata": {},
   "outputs": [],
   "source": [
    "plt.hist(np.hstack(all_doublet_scores),100);\n"
   ]
  },
  {
   "cell_type": "code",
   "execution_count": null,
   "metadata": {},
   "outputs": [],
   "source": [
    "adata.write_h5ad(\"/faststorage/brain_aging/merfish/exported/011722_merged_combined_merfish_with_doublet_allages.h5ad\")"
   ]
  },
  {
   "cell_type": "code",
   "execution_count": null,
   "metadata": {},
   "outputs": [],
   "source": [
    "#adata = ad.read_h5ad(\"/faststorage/brain_aging/merfish/exported/011722_merged_combined_merfish_with_doublet_allages.h5ad\")"
   ]
  },
  {
   "cell_type": "code",
   "execution_count": null,
   "metadata": {},
   "outputs": [],
   "source": [
    "adata = adata[adata.obs.doublet_scores<0.2]"
   ]
  },
  {
   "cell_type": "code",
   "execution_count": null,
   "metadata": {},
   "outputs": [],
   "source": [
    "# remove cells < 100 um in volume or > 3 x median of all cells\n",
    "median_vol = np.median(adata.obs.volume)\n",
    "adata = adata[np.logical_and(adata.obs.volume >= 100, adata.obs.volume < 3*median_vol)]"
   ]
  },
  {
   "cell_type": "code",
   "execution_count": null,
   "metadata": {},
   "outputs": [],
   "source": [
    "plt.hist(adata.obs.volume,100);\n",
    "plt.axvline(100)"
   ]
  },
  {
   "cell_type": "code",
   "execution_count": null,
   "metadata": {},
   "outputs": [],
   "source": [
    "sc.pp.filter_cells(adata, min_genes=5)\n",
    "sc.pp.filter_cells(adata, min_counts=20)\n"
   ]
  },
  {
   "cell_type": "code",
   "execution_count": null,
   "metadata": {},
   "outputs": [],
   "source": [
    "# normalize counts by volume of cell\n",
    "for i in range(adata.shape[0]):\n",
    "    adata.X[i,:] /= adata.obs.volume[i]\n",
    "\n",
    "    # We removed the cells that had total RNA counts lower than 2% quantile or higher than 98% quantile\n",
    "norm_rna_counts = adata.X.sum(1)\n",
    "quantile2 = np.quantile(norm_rna_counts, 0.02)\n",
    "quantile98 = np.quantile(norm_rna_counts, 0.98)\n",
    "adata = adata[np.logical_and(norm_rna_counts>=quantile2, norm_rna_counts<=quantile98)]\n",
    "# then by sum\n",
    "sc.pp.normalize_total(adata, target_sum=250)\n"
   ]
  },
  {
   "cell_type": "code",
   "execution_count": null,
   "metadata": {},
   "outputs": [],
   "source": [
    "print(adata.shape[0])"
   ]
  },
  {
   "cell_type": "code",
   "execution_count": null,
   "metadata": {},
   "outputs": [],
   "source": [
    "sc.pl.violin(adata, ['n_genes_by_counts', 'total_counts'],\n",
    "             jitter=0.4, multi_panel=True)\n"
   ]
  },
  {
   "cell_type": "code",
   "execution_count": null,
   "metadata": {},
   "outputs": [],
   "source": [
    "for i in adata.obs.batch.unique():\n",
    "    curr_adata = adata[adata.obs.batch==i]\n",
    "    print(i, curr_adata.shape[0], np.mean(curr_adata.obs.n_genes_by_counts), np.mean(curr_adata.obs.total_counts))"
   ]
  },
  {
   "cell_type": "code",
   "execution_count": null,
   "metadata": {},
   "outputs": [],
   "source": [
    "sns.violinplot(x='age',y='total_counts', data=adata.obs)"
   ]
  },
  {
   "cell_type": "code",
   "execution_count": null,
   "metadata": {},
   "outputs": [],
   "source": [
    "sns.violinplot(x='age',y='n_genes_by_counts', data=adata.obs)"
   ]
  },
  {
   "cell_type": "code",
   "execution_count": null,
   "metadata": {},
   "outputs": [],
   "source": [
    "sc.pl.scatter(adata, x='total_counts', y='n_genes_by_counts')\n"
   ]
  },
  {
   "cell_type": "code",
   "execution_count": null,
   "metadata": {},
   "outputs": [],
   "source": [
    "sc.pp.log1p(adata)\n"
   ]
  },
  {
   "cell_type": "code",
   "execution_count": null,
   "metadata": {},
   "outputs": [],
   "source": [
    "adata.raw = adata\n",
    "#sc.pp.regress_out(adata, ['total_counts', 'volume'])\n",
    "\n",
    "sc.pp.scale(adata, max_value=10)\n",
    "\n",
    "sc.tl.pca(adata, svd_solver='arpack')\n"
   ]
  },
  {
   "cell_type": "code",
   "execution_count": null,
   "metadata": {},
   "outputs": [],
   "source": [
    "sc.pl.pca(adata, color=['total_counts','Vtn','Csf1r','Adora2a','Slc17a7','Slc32a1','Mbp','Cx3cr1', 'age', 'batch'])"
   ]
  },
  {
   "cell_type": "code",
   "execution_count": null,
   "metadata": {},
   "outputs": [],
   "source": [
    "sc.pl.pca_variance_ratio(adata, log=True)\n"
   ]
  },
  {
   "cell_type": "code",
   "execution_count": null,
   "metadata": {},
   "outputs": [],
   "source": [
    "#sc.pp.neighbors(adata, n_neighbors=10, n_pcs=30)\n",
    "import bbknn\n",
    "bbknn.bbknn(adata,batch_key='batch')\n",
    "\n",
    "#sc.external.pp.bbknn(adata, batch_key='batch',n_pcs=30)"
   ]
  },
  {
   "cell_type": "code",
   "execution_count": null,
   "metadata": {},
   "outputs": [],
   "source": [
    "sc.tl.umap(adata)\n"
   ]
  },
  {
   "cell_type": "code",
   "execution_count": null,
   "metadata": {},
   "outputs": [],
   "source": [
    "sc.pl.umap(adata, color=['age','batch','total_counts', 'volume'])"
   ]
  },
  {
   "cell_type": "code",
   "execution_count": null,
   "metadata": {},
   "outputs": [],
   "source": [
    "#adata.write_h5ad(\"/faststorage/brain_aging/merfish/exported/011722_merged_combined_merfish_with_doublet_umap_allages.h5ad\")"
   ]
  },
  {
   "cell_type": "markdown",
   "metadata": {},
   "source": [
    "# Run integration"
   ]
  },
  {
   "cell_type": "code",
   "execution_count": null,
   "metadata": {},
   "outputs": [],
   "source": [
    "# start with log transformed counts\n",
    "#adata = ad.read_h5ad(\"/faststorage/brain_aging/merfish/exported/102821_merged_combined_merfish_with_doublet_umap_allages.h5ad\")\n",
    "adata = adata.raw.to_adata()\n",
    "adata.raw = adata\n",
    "# increment batch for MERFISH\n",
    "adata.obs.batch = adata.obs.batch+1"
   ]
  },
  {
   "cell_type": "code",
   "execution_count": null,
   "metadata": {},
   "outputs": [],
   "source": [
    "celltype_markers = adata.var_names#[adata.var.library == \"cell_type\"]"
   ]
  },
  {
   "cell_type": "code",
   "execution_count": null,
   "metadata": {},
   "outputs": [],
   "source": [
    "# start with raw 10X data\n",
    "adata10x = sc.read_h5ad(\"/faststorage/brain_aging/rna_analysis/adata_finalclusts_annot.h5ad\")\n",
    "adata10x = adata10x.raw.to_adata()"
   ]
  },
  {
   "cell_type": "code",
   "execution_count": null,
   "metadata": {},
   "outputs": [],
   "source": [
    "adata10x_subset = adata10x[adata10x.obs.area==\"PFC\"]"
   ]
  },
  {
   "cell_type": "code",
   "execution_count": null,
   "metadata": {},
   "outputs": [],
   "source": [
    "import anndata as ad\n",
    "\n",
    "def integrate_10x_merfish(adata_10x, adata_merfish):\n",
    "    shared_fields = [\"fov\", \"volumne\", \"center_x\", \"center_y\", \"min_x\", \"max_x\", \"min_y\", \"max_y\", \"cell_type\", \"clust_label\", \"age\", \"dtype\", 'batch', 'total_counts', 'n_genes']\n",
    "    # deal with 10X\n",
    "    for i in [\"fov\", \"volumne\", \"center_x\", \"center_y\", \"min_x\", \"max_x\", \"min_y\", \"max_y\"]:\n",
    "        adata_10x.obs[i] = [\"\"]*adata_10x.obs.shape[0]\n",
    "    adata_10x.obs['batch'] = 0\n",
    "    adata_10x.obs[\"dtype\"] = \"scrnaseq\"\n",
    "    \n",
    "    adata10x_reduced = adata_10x[:, adata_merfish.var_names]\n",
    "    adata10x_reduced.obs = adata10x_reduced.obs[shared_fields]\n",
    "\n",
    "    # deal with merfish\n",
    "    for i in [\"cell_type\", \"clust_label\"]:\n",
    "        adata_merfish.obs[i] = [\"Unlabeled\"]*adata_merfish.obs.shape[0]\n",
    "    adata_merfish.obs[\"dtype\"] = \"merfish\"\n",
    "    sc.pp.scale(adata_merfish, max_value=10)\n",
    "    sc.pp.scale(adata10x_reduced, max_value=10)\n",
    "    # combine datasets\n",
    "    print(\"Concatenating\")\n",
    "    adata_combined = ad.concat({\n",
    "        '10x': ad.AnnData(\n",
    "            adata10x_reduced.X,\n",
    "            obs=adata10x_reduced.obs,\n",
    "            var=adata10x_reduced.var\n",
    "        ),\n",
    "        'merfish': ad.AnnData(\n",
    "            adata_merfish.X,\n",
    "            obs=adata_merfish.obs,\n",
    "            var=adata_merfish.var\n",
    "        )\n",
    "    },)\n",
    "    adata_combined.uns['raw_scrnaseq_X'] = adata_10x.X.copy()\n",
    "    adata_combined.uns['raw_merfish_X'] = adata_merfish.X.copy()\n",
    "    adata_combined.raw = adata_combined\n",
    "    \n",
    "    print(\"Scaling\")\n",
    "    #sc.pp.scale(adata_combined, max_value=10)\n",
    "    print(\"PCA\")\n",
    "    sc.tl.pca(adata_combined, svd_solver='arpack')\n",
    "    print(\"Harmony\")\n",
    "    sc.external.pp.harmony_integrate(adata_combined, 'dtype')\n",
    "    return adata_combined"
   ]
  },
  {
   "cell_type": "code",
   "execution_count": null,
   "metadata": {},
   "outputs": [],
   "source": [
    "adata_combined = integrate_10x_merfish(adata10x_subset, adata)"
   ]
  },
  {
   "cell_type": "code",
   "execution_count": null,
   "metadata": {},
   "outputs": [],
   "source": [
    "adata_combined"
   ]
  },
  {
   "cell_type": "code",
   "execution_count": null,
   "metadata": {},
   "outputs": [],
   "source": [
    "# copy over harmony PCA\n",
    "temp = adata_combined.obsm['X_pca']\n",
    "adata_combined.obsm['X_pca'] = adata_combined.obsm['X_pca_harmony']\n",
    "adata_combined.obsm['X_pca_orig'] = temp"
   ]
  },
  {
   "cell_type": "code",
   "execution_count": null,
   "metadata": {
    "scrolled": true
   },
   "outputs": [],
   "source": [
    "# first try without bbknn\n",
    "sc.pl.pca(adata_combined, color=['dtype', 'age'])\n",
    "sc.pp.neighbors(adata_combined, n_pcs=30)\n"
   ]
  },
  {
   "cell_type": "code",
   "execution_count": null,
   "metadata": {},
   "outputs": [],
   "source": [
    "sc.tl.umap(adata_combined, n_components=2)\n",
    "\n",
    "sc.pl.umap(adata_combined, color=['dtype','age', 'batch'])"
   ]
  },
  {
   "cell_type": "code",
   "execution_count": null,
   "metadata": {},
   "outputs": [],
   "source": [
    "# then try with bbknn\n",
    "import bbknn\n",
    "bbknn.bbknn(adata_combined, batch_key='batch') \n",
    "sc.tl.umap(adata_combined, n_components=2)\n"
   ]
  },
  {
   "cell_type": "code",
   "execution_count": null,
   "metadata": {},
   "outputs": [],
   "source": [
    "sc.pl.umap(adata_combined, color=['dtype','age', 'batch','Cd3e', 'Cd74','Cx3cr1','Foxj1','Aqp4','Vtn'],size=1, cmap=plt.cm.Reds)"
   ]
  },
  {
   "cell_type": "code",
   "execution_count": null,
   "metadata": {},
   "outputs": [],
   "source": [
    "sc.tl.leiden(adata_combined, resolution=1.0)"
   ]
  },
  {
   "cell_type": "code",
   "execution_count": null,
   "metadata": {},
   "outputs": [],
   "source": [
    "sc.pl.umap(adata_combined, color=['dtype','age', 'batch','leiden'],size=5, cmap=plt.cm.Reds)"
   ]
  },
  {
   "cell_type": "code",
   "execution_count": null,
   "metadata": {},
   "outputs": [],
   "source": [
    "sc.pl.pca(adata_combined[adata_combined.obs.dtype==\"scrnaseq\"], color=['dtype', 'age'])"
   ]
  },
  {
   "cell_type": "code",
   "execution_count": null,
   "metadata": {},
   "outputs": [],
   "source": [
    "sc.pl.pca(adata_combined[adata_combined.obs.dtype==\"merfish\"], color=['dtype', 'age'])"
   ]
  },
  {
   "cell_type": "code",
   "execution_count": null,
   "metadata": {},
   "outputs": [],
   "source": [
    "f, ax = plt.subplots(figsize=(5,5))\n",
    "sc.pl.umap(adata_combined, color=['dtype'],ax=ax)\n",
    "plt.savefig(\"/home/user/Dropbox/zhuang_lab/aging/aging_atlas_paper/figures_int/fig1_integration_umap.png\",dpi=300,bbox_inches='tight')"
   ]
  },
  {
   "cell_type": "code",
   "execution_count": null,
   "metadata": {},
   "outputs": [],
   "source": [
    "f, ax = plt.subplots(figsize=(5,5))\n",
    "sc.pl.umap(adata_combined[adata_combined.obs.age.isin(['4wk','90wk'])], color=['age'],ax=ax)\n",
    "ax.axis('off')\n",
    "f.savefig(\"/home/user/Dropbox/zhuang_lab/aging/aging_atlas_paper/figures_int/fig1_integration_age_twocolor.png\",dpi=300,bbox_inches='tight')"
   ]
  },
  {
   "cell_type": "code",
   "execution_count": null,
   "metadata": {},
   "outputs": [],
   "source": [
    "for i in ['4wk', '24wk', '90wk']:\n",
    "    adata_combined.obs['is_'+i] = [1 if j==i else 0 for j in adata_combined.obs.age]"
   ]
  },
  {
   "cell_type": "code",
   "execution_count": null,
   "metadata": {},
   "outputs": [],
   "source": [
    "sc.tl.embedding_density(adata_combined, basis='umap', groupby='age')\n"
   ]
  },
  {
   "cell_type": "code",
   "execution_count": null,
   "metadata": {},
   "outputs": [],
   "source": [
    "for i in ['4wk', '24wk', '90wk']:\n",
    "    f = sc.pl.embedding_density(adata_combined, basis='umap', key='umap_density_age',bg_dotsize=10,fg_dotsize=1,color_map=plt.cm.Reds,group=i,show=False, return_fig=True)\n",
    "    plt.axis('off')\n",
    "    f.set_size_inches((5,5))\n",
    "    f.savefig(f\"/home/user/Dropbox/zhuang_lab/aging/aging_atlas_paper/figures_int/fig1_density_{i}.png\",bbox_inches='tight',dpi=300)\n",
    "#cbar = plt.colorbar()\n",
    "#plt.colorbar()"
   ]
  },
  {
   "cell_type": "code",
   "execution_count": null,
   "metadata": {},
   "outputs": [],
   "source": [
    "sc.pl.umap(adata_combined, color=['is_4wk'],size=0.5,cmap=plt.cm.Greys, add_outline=True)\n"
   ]
  },
  {
   "cell_type": "code",
   "execution_count": null,
   "metadata": {},
   "outputs": [],
   "source": [
    "sc.pl.umap(adata_combined, color=['is_24wk'],size=0.5,cmap=plt.cm.Greys, add_outline=True)\n"
   ]
  },
  {
   "cell_type": "code",
   "execution_count": null,
   "metadata": {},
   "outputs": [],
   "source": [
    "sc.pl.umap(adata_combined, color=['is_90wk'],size=0.5,cmap=plt.cm.Reds, add_outline=True)\n"
   ]
  },
  {
   "cell_type": "code",
   "execution_count": null,
   "metadata": {},
   "outputs": [],
   "source": [
    "genes_to_plot = [\"Cux2\",\"Rorb\", \"Vip\", \"Slc32a1\", \"Ctss\",'Aqp4','Vtn', 'Cd3e','Cd74','Foxj1']\n",
    "sc.pl.umap(adata_combined, color=genes_to_plot,cmap=plt.cm.Reds,size=5,use_raw=True)\n"
   ]
  },
  {
   "cell_type": "code",
   "execution_count": null,
   "metadata": {},
   "outputs": [],
   "source": [
    "sc.pl.umap(adata_combined[adata_combined.obs.dtype=='scrnaseq'], color=genes_to_plot,cmap=plt.cm.Reds,size=5)\n"
   ]
  },
  {
   "cell_type": "code",
   "execution_count": null,
   "metadata": {},
   "outputs": [],
   "source": [
    "sc.pl.umap(adata_combined[adata_combined.obs.dtype=='merfish'], color=genes_to_plot,cmap=plt.cm.Reds,size=5)\n"
   ]
  },
  {
   "cell_type": "markdown",
   "metadata": {},
   "source": [
    "#  De novo clustering: Cluster the integrated MERFISH and scRNAseq data"
   ]
  },
  {
   "cell_type": "code",
   "execution_count": null,
   "metadata": {},
   "outputs": [],
   "source": [
    "# first leiden cluster integrated data\n",
    "sc.tl.leiden(adata_combined, resolution=0.5)"
   ]
  },
  {
   "cell_type": "code",
   "execution_count": null,
   "metadata": {},
   "outputs": [],
   "source": [
    "major_celltype_markers = ['Slc17a6', 'Slc17a7', 'Gad1', 'Drd1', 'Adora2a', 'Trem2','Ctss','Aqp4','Foxj1','Vtn','Flt1','Olig1','Plp1','Pdgfra','Igf2','Cd74','Cd3e']"
   ]
  },
  {
   "cell_type": "code",
   "execution_count": null,
   "metadata": {},
   "outputs": [],
   "source": [
    "sc.pl.umap(adata_combined, color=major_celltype_markers,size=5)"
   ]
  },
  {
   "cell_type": "code",
   "execution_count": null,
   "metadata": {},
   "outputs": [],
   "source": [
    "sc.pl.umap(adata_combined, color=['age','leiden','Foxj1'],size=1)"
   ]
  },
  {
   "cell_type": "code",
   "execution_count": null,
   "metadata": {},
   "outputs": [],
   "source": [
    "sc.pl.dotplot(adata_combined, var_names=major_celltype_markers, groupby='leiden',figsize=(5,5))"
   ]
  },
  {
   "cell_type": "code",
   "execution_count": null,
   "metadata": {},
   "outputs": [],
   "source": [
    "major_cell_type_map = {\n",
    "    '0' : 'Olig',\n",
    "    '1' : 'ExN',\n",
    "    '2' : 'Astro',\n",
    "    '3' : 'MSN',\n",
    "    '4' : 'ExN',\n",
    "    '5' : 'Vascular',\n",
    "    '6' : 'MSN',\n",
    "    '7' : 'Micro',\n",
    "    '8' : 'ExN',\n",
    "    '9' : 'InN',\n",
    "    '10' : 'InN',\n",
    "    '11' : 'Vascular',\n",
    "    '12' : 'OPC',\n",
    "    '13' : 'ExN',\n",
    "    '14' : 'Olig',\n",
    "    '15' : 'Immune',\n",
    "}"
   ]
  },
  {
   "cell_type": "code",
   "execution_count": null,
   "metadata": {},
   "outputs": [],
   "source": [
    "adata_combined.obs[\"cell_type\"] = [major_cell_type_map[i] for i in adata_combined.obs.leiden]"
   ]
  },
  {
   "cell_type": "code",
   "execution_count": null,
   "metadata": {},
   "outputs": [],
   "source": [
    "f,ax = plt.subplots(figsize=(5,5))\n",
    "sc.pl.umap(adata_combined, color=['cell_type'],size=5,ax=ax)"
   ]
  },
  {
   "cell_type": "code",
   "execution_count": null,
   "metadata": {},
   "outputs": [],
   "source": [
    "#adata_combined.write_h5ad(\"/faststorage/brain_aging/merfish/exported/011722_integrated_merfish_10x_allages.h5ad\")"
   ]
  },
  {
   "cell_type": "code",
   "execution_count": null,
   "metadata": {},
   "outputs": [],
   "source": [
    "adata_combined = ad.read_h5ad(\"/faststorage/brain_aging/merfish/exported/011722_integrated_merfish_10x_allages.h5ad\")"
   ]
  },
  {
   "cell_type": "markdown",
   "metadata": {},
   "source": [
    "# Subcluster neurons"
   ]
  },
  {
   "cell_type": "code",
   "execution_count": null,
   "metadata": {},
   "outputs": [],
   "source": [
    "def hcluster_adata(A):\n",
    "    from scipy.spatial.distance import pdist\n",
    "    import scipy.cluster.hierarchy as hc\n",
    "\n",
    "    expr_mat = np.zeros((len(A.obs.leiden.unique()), A.X.shape[1]))\n",
    "    for i,k in enumerate(sorted(A.obs.leiden.unique())):\n",
    "        expr_mat[i,:] = A[A.obs.leiden==k].X.mean(0)\n",
    "\n",
    "\n",
    "    D = pdist(expr_mat, 'cosine')\n",
    "    Z = hc.linkage(D,'complete',optimal_ordering=True)\n",
    "    dn = hc.dendrogram(Z,no_plot=False)\n",
    "    plt.axhline(0.1, color='k')\n"
   ]
  },
  {
   "cell_type": "code",
   "execution_count": null,
   "metadata": {},
   "outputs": [],
   "source": [
    "# subset into inhibitory and excitatory\n",
    "adata_subset_inhib = adata_combined[adata_combined.obs.cell_type==\"InN\"]\n",
    "del adata_subset_inhib.uns['raw_scrnaseq_X']\n",
    "del adata_subset_inhib.uns['raw_merfish_X']\n",
    "\n",
    "#adata_subset_msn = adata_subset_neurons[adata_subset_neurons.obs.msn==1]\n",
    "\n",
    "adata_subset_excite = adata_combined[adata_combined.obs.cell_type==\"ExN\"]\n",
    "del adata_subset_excite.uns['raw_scrnaseq_X']\n",
    "del adata_subset_excite.uns['raw_merfish_X']\n"
   ]
  },
  {
   "cell_type": "code",
   "execution_count": null,
   "metadata": {},
   "outputs": [],
   "source": [
    "def recluster_subset(A,resolution=0.6,npcs=25):\n",
    "    #A = A.raw.to_adata()\n",
    "    #print(\"Scaling\")\n",
    "    #sc.pp.scale(A, max_value=10)\n",
    "    #print(\"PCA\")\n",
    "    #sc.tl.pca(A, svd_solver='arpack',n_comps=npcs)\n",
    "    #print(\"Harmony\")\n",
    "    #sc.external.pp.harmony_integrate(A, 'dtype', max_iter_harmony=20)\n",
    "    #temp = A.obsm['X_pca']\n",
    "    #A.obsm['X_pca'] = A.obsm['X_pca_harmony']\n",
    "    #A.obsm['X_pca_orig'] = temp\n",
    "    #print(\"Neighbors\")\n",
    "    #sc.pp.neighbors(A, n_pcs=npcs)\n",
    "    bbknn.bbknn(A,n_pcs=npcs,batch_key='batch')\n",
    "    print(\"UMAP\")\n",
    "    sc.tl.umap(A)\n",
    "    print(\"Leiden\")\n",
    "    sc.tl.leiden(A,resolution=resolution)\n",
    "    return A\n",
    "\n",
    "def crosstab_clusts(A):\n",
    "    temp = pd.crosstab(index=A.obs.leiden,columns=A.obs.clust_annot, normalize=True).idxmax(axis=1)\n",
    "    for i in temp.iteritems():\n",
    "        print(f\"\\\"{i[0]}\\\" : \\\"{i[1]}\\\",\")\n",
    "        \n",
    "def count_ages(A, key=\"clust_annot\",normalize=True):\n",
    "    temp = pd.crosstab(index=A.obs[key],columns=A.obs.age,normalize=normalize)\n",
    "    \n",
    "    return temp"
   ]
  },
  {
   "cell_type": "code",
   "execution_count": null,
   "metadata": {},
   "outputs": [],
   "source": [
    "adata_subset_inhib = recluster_subset(adata_subset_inhib,resolution=1.6, npcs=30)"
   ]
  },
  {
   "cell_type": "code",
   "execution_count": null,
   "metadata": {},
   "outputs": [],
   "source": [
    "sc.pl.umap(adata_subset_inhib, color=['age','leiden','Sst','Vip','Pvalb','Th','Sncg', 'Chat','Lamp5', 'dtype', 'total_counts'])"
   ]
  },
  {
   "cell_type": "code",
   "execution_count": null,
   "metadata": {},
   "outputs": [],
   "source": [
    "def plot_clusts(curr_adata, key='leiden'):\n",
    "    for i in sorted(curr_adata.obs[key].unique()):\n",
    "        X = np.array(curr_adata.obs.center_x).astype(np.float64)\n",
    "        Y = np.array(curr_adata.obs.center_y).astype(np.float64)\n",
    "\n",
    "        pos = np.array([X,Y]).T\n",
    "        plt.figure()\n",
    "        plt.title(i)\n",
    "        plt.scatter(pos[:,0], pos[:,1],s=1,c='lightgray')\n",
    "        curr_cells = np.argwhere(np.array(curr_adata.obs[key]==i)).flatten()\n",
    "        plt.scatter(pos[curr_cells,:][:,0], pos[curr_cells,:][:,1],s=1,c='r')\n"
   ]
  },
  {
   "cell_type": "code",
   "execution_count": null,
   "metadata": {},
   "outputs": [],
   "source": [
    "curr_adata = adata_subset_inhib[adata_subset_inhib.obs.batch==5]\n",
    "plot_clusts(curr_adata)"
   ]
  },
  {
   "cell_type": "code",
   "execution_count": null,
   "metadata": {},
   "outputs": [],
   "source": [
    "sc.tl.rank_genes_groups(adata_subset_inhib, 'leiden', method='t-test')\n"
   ]
  },
  {
   "cell_type": "code",
   "execution_count": null,
   "metadata": {},
   "outputs": [],
   "source": [
    "sc.pl.rank_genes_groups(adata_subset_inhib, n_genes=3, sharey=False)\n"
   ]
  },
  {
   "cell_type": "code",
   "execution_count": null,
   "metadata": {},
   "outputs": [],
   "source": [
    "sc.pl.dotplot(adata_subset_inhib, [\"Lhx6\",\"Adarb2\",\"Cnr1\",\"Egfr\",\"Crhr2\",\"Prox1\",\"Serpinf1\",\"Clic4\",\"Th\",\"Crhr2\", \"Vip\",'Sst','Pvalb','Chat','Calb2','Calb1','Lamp5','Sncg'], groupby='leiden')"
   ]
  },
  {
   "cell_type": "code",
   "execution_count": null,
   "metadata": {},
   "outputs": [],
   "source": [
    "hcluster_adata(adata_subset_inhib)"
   ]
  },
  {
   "cell_type": "code",
   "execution_count": null,
   "metadata": {},
   "outputs": [],
   "source": [
    "crosstab_clusts(adata_subset_inhib)"
   ]
  },
  {
   "cell_type": "code",
   "execution_count": null,
   "metadata": {},
   "outputs": [],
   "source": [
    "inhib_mapping = {\n",
    "    \"0\" : \"InN-Pvalb-1\",\n",
    "    \"1\" : \"InN-LatSept-1\",\n",
    "    \"2\" : \"InN-Sst-1\",\n",
    "    \"3\" : \"InN-Sst-2\",\n",
    "    \"4\" : \"InN-Pvalb-3\",\n",
    "    \"5\" : \"InN-Vip\",\n",
    "    \"6\" : \"InN-Lamp5\",\n",
    "    \"7\" : \"InN-LatSept-2\",\n",
    "    \"8\" : \"InN-Pvalb-2\",\n",
    "    \"9\" : \"InN-Calb2-1\",\n",
    "    \"10\" : \"InN-Calb2-2\",\n",
    "    \"11\" : \"InN-Lhx6\",\n",
    "    \"12\" : \"InN-Chat\"\n",
    "}"
   ]
  },
  {
   "cell_type": "code",
   "execution_count": null,
   "metadata": {},
   "outputs": [],
   "source": [
    "adata_subset_inhib.obs[\"clust_annot\"] = [inhib_mapping[i] for i in adata_subset_inhib.obs.leiden]"
   ]
  },
  {
   "cell_type": "code",
   "execution_count": null,
   "metadata": {},
   "outputs": [],
   "source": [
    "sc.pl.dotplot(adata_subset_inhib, \n",
    "              [\"Adarb2\",\"Cnr1\",\"Egfr\",\"Crhr2\",\"Prox1\",\"Serpinf1\",\"Clic4\",\"Th\",\"Crhr2\", \"Vip\",'Sst','Pvalb','Chat','Calb2','Calb1','Lamp5','Sncg'], groupby='clust_annot')"
   ]
  },
  {
   "cell_type": "code",
   "execution_count": null,
   "metadata": {},
   "outputs": [],
   "source": [
    "import bbknn\n",
    "adata_subset_excite = recluster_subset(adata_subset_excite, resolution=1.6, npcs=30)"
   ]
  },
  {
   "cell_type": "code",
   "execution_count": null,
   "metadata": {},
   "outputs": [],
   "source": [
    "sc.pl.umap(adata_subset_excite, color=['clust_annot','leiden','age','dtype'],size=5)"
   ]
  },
  {
   "cell_type": "code",
   "execution_count": null,
   "metadata": {},
   "outputs": [],
   "source": [
    "curr_adata = adata_subset_excite[adata_subset_excite.obs.batch==3]\n",
    "for i in sorted(curr_adata.obs.leiden.unique()):\n",
    "    X = np.array(curr_adata.obs.center_x).astype(np.float64)\n",
    "    Y = np.array(curr_adata.obs.center_y).astype(np.float64)\n",
    "\n",
    "    pos = np.array([X,Y]).T\n",
    "    plt.figure()\n",
    "    plt.title(i)\n",
    "    plt.scatter(pos[:,0], pos[:,1],s=1,c='lightgray')\n",
    "    curr_cells = np.argwhere(np.array(curr_adata.obs.leiden==i)).flatten()\n",
    "    plt.scatter(pos[curr_cells,:][:,0], pos[curr_cells,:][:,1],s=1,c='r')\n"
   ]
  },
  {
   "cell_type": "code",
   "execution_count": null,
   "metadata": {},
   "outputs": [],
   "source": [
    "sc.tl.rank_genes_groups(adata_subset_excite, 'leiden', method='t-test')\n",
    "\n",
    "sc.pl.rank_genes_groups(adata_subset_excite, n_genes=3, sharey=False)\n"
   ]
  },
  {
   "cell_type": "code",
   "execution_count": null,
   "metadata": {},
   "outputs": [],
   "source": [
    "sc.pl.dotplot(adata_subset_excite, [\"Cux2\",\"Lamp5\",'Calb1','Gbp10',\"Syt6\",\"Foxp2\", \"Ptpru\",\"Fezf2\",'Rorb','Tshz2',   \"Npr3\",  \"Nxph4\",'Nr4a2', 'Scube1','Deptor','Htr4'], groupby='leiden')"
   ]
  },
  {
   "cell_type": "code",
   "execution_count": null,
   "metadata": {},
   "outputs": [],
   "source": [
    "hcluster_adata(adata_subset_excite)"
   ]
  },
  {
   "cell_type": "code",
   "execution_count": null,
   "metadata": {},
   "outputs": [],
   "source": [
    "crosstab_clusts(adata_subset_excite)"
   ]
  },
  {
   "cell_type": "code",
   "execution_count": null,
   "metadata": {},
   "outputs": [],
   "source": [
    "\n",
    "                                                                           \n",
    "excite_map =  {\n",
    "    \"0\" : \"ExN-L6-1\",\n",
    "    \"1\" : \"ExN-L6-2\",\n",
    "    \"2\" : \"ExN-L2/3-1\",\n",
    "    \"3\" : \"ExN-L5-2\",\n",
    "    \"4\" : \"ExN-L5-1\",\n",
    "    \"5\" : \"ExN-L5-2\",\n",
    "    \"6\" : \"ExN-L2/3-2\",\n",
    "    \"7\" : \"ExN-LatSept-1\",\n",
    "    \"8\" : \"ExN-L6-2\",\n",
    "    \"9\" : \"ExN-L2/3-1\",\n",
    "    \"10\" : \"ExN-L5-3\",\n",
    "    \"11\" : \"ExN-L6-3\",\n",
    "    \"12\" : \"ExN-L6-2\",\n",
    "    \"13\" : \"ExN-LatSept-2\",\n",
    "}\n"
   ]
  },
  {
   "cell_type": "code",
   "execution_count": null,
   "metadata": {},
   "outputs": [],
   "source": [
    "adata_subset_excite.obs[\"clust_annot\"] = [excite_map[i] for i in adata_subset_excite.obs.leiden]"
   ]
  },
  {
   "cell_type": "code",
   "execution_count": null,
   "metadata": {},
   "outputs": [],
   "source": [
    "curr_adata = adata_subset_excite[adata_subset_excite.obs.batch==3]\n",
    "for i in sorted(curr_adata.obs.clust_annot.unique()):\n",
    "    X = np.array(curr_adata.obs.center_x).astype(np.float64)\n",
    "    Y = np.array(curr_adata.obs.center_y).astype(np.float64)\n",
    "\n",
    "    pos = np.array([X,Y]).T\n",
    "    plt.figure()\n",
    "    plt.title(i)\n",
    "    plt.scatter(pos[:,0], pos[:,1],s=1,c='lightgray')\n",
    "    curr_cells = np.argwhere(np.array(curr_adata.obs.clust_annot==i)).flatten()\n",
    "    plt.scatter(pos[curr_cells,:][:,0], pos[curr_cells,:][:,1],s=1,c='r')\n",
    "\n"
   ]
  },
  {
   "cell_type": "code",
   "execution_count": null,
   "metadata": {},
   "outputs": [],
   "source": [
    "sc.pl.dotplot(adata_subset_excite, [\"Aqp4\",\"Slc17a6\", \"Slc17a7\",\"Cldn5\", \"Nr4a2\",'Cux2','Rorb', \"Npr3\",\"Fezf2\", 'Syt6', 'Nxph4', \"Tshz2\", 'Otof'], groupby='clust_annot')"
   ]
  },
  {
   "cell_type": "code",
   "execution_count": null,
   "metadata": {},
   "outputs": [],
   "source": [
    "sc.pl.umap(adata_subset_excite, color=[\"clust_annot\"])"
   ]
  },
  {
   "cell_type": "code",
   "execution_count": null,
   "metadata": {},
   "outputs": [],
   "source": [
    "# MSNs|\n",
    "adata_subset_msn = adata_combined[adata_combined.obs.cell_type==\"MSN\"]\n",
    "del adata_subset_msn.uns['raw_scrnaseq_X']\n",
    "del adata_subset_msn.uns['raw_merfish_X']\n",
    "\n",
    "adata_subset_msn = recluster_subset(adata_subset_msn)"
   ]
  },
  {
   "cell_type": "code",
   "execution_count": null,
   "metadata": {},
   "outputs": [],
   "source": [
    "#sc.tl.leiden(adata_subset_msn, resolution=0.6)"
   ]
  },
  {
   "cell_type": "code",
   "execution_count": null,
   "metadata": {},
   "outputs": [],
   "source": [
    "sc.pl.umap(adata_subset_msn, color=['leiden', 'age','dtype', 'Drd1', 'Adora2a'])"
   ]
  },
  {
   "cell_type": "code",
   "execution_count": null,
   "metadata": {
    "scrolled": true
   },
   "outputs": [],
   "source": [
    "curr_adata = adata_subset_msn[adata_subset_msn.obs.batch==11]\n",
    "for i in sorted(curr_adata.obs.leiden.unique()):\n",
    "    \n",
    "    X = np.array(curr_adata.obs.center_x).astype(np.float64)\n",
    "    Y = np.array(curr_adata.obs.center_y).astype(np.float64)\n",
    "\n",
    "    pos = np.array([X,Y]).T\n",
    "    plt.figure()\n",
    "    plt.title(i)\n",
    "    plt.scatter(pos[:,0], pos[:,1],s=1,c='lightgray')\n",
    "    curr_cells = np.argwhere(np.array(curr_adata.obs.leiden==i)).flatten()\n",
    "    plt.scatter(pos[curr_cells,:][:,0], pos[curr_cells,:][:,1],s=1,c='r')\n"
   ]
  },
  {
   "cell_type": "code",
   "execution_count": null,
   "metadata": {},
   "outputs": [],
   "source": [
    "sc.tl.rank_genes_groups(curr_adata, 'leiden', method='t-test')\n",
    "\n",
    "sc.pl.rank_genes_groups(curr_adata, n_genes=3, sharey=False)\n"
   ]
  },
  {
   "cell_type": "code",
   "execution_count": null,
   "metadata": {},
   "outputs": [],
   "source": []
  },
  {
   "cell_type": "code",
   "execution_count": null,
   "metadata": {},
   "outputs": [],
   "source": [
    "sc.pl.dotplot(adata_subset_msn,[\"Adora2a\", \"Drd1\",'Gad1', 'Cxcl9', 'Otof'],groupby='leiden')"
   ]
  },
  {
   "cell_type": "code",
   "execution_count": null,
   "metadata": {},
   "outputs": [],
   "source": [
    "hcluster_adata(adata_subset_msn)"
   ]
  },
  {
   "cell_type": "code",
   "execution_count": null,
   "metadata": {},
   "outputs": [],
   "source": [
    "crosstab_clusts(adata_subset_msn)"
   ]
  },
  {
   "cell_type": "code",
   "execution_count": null,
   "metadata": {},
   "outputs": [],
   "source": [
    "msn_mapping = {\n",
    "\"0\" : \"MSN-D1-1\",\n",
    "\"1\" : \"MSN-D2\",\n",
    "\"2\" : \"MSN-D1-1\",\n",
    "\"3\" : \"MSN-D2\",\n",
    "\"4\" : \"MSN-D1-2\",\n",
    "}"
   ]
  },
  {
   "cell_type": "code",
   "execution_count": null,
   "metadata": {},
   "outputs": [],
   "source": [
    "adata_subset_msn.obs[\"clust_annot\"] = [msn_mapping[i] for i in adata_subset_msn.obs.leiden]"
   ]
  },
  {
   "cell_type": "code",
   "execution_count": null,
   "metadata": {},
   "outputs": [],
   "source": [
    "sc.pl.dotplot(adata_subset_msn,[\"Adora2a\", \"Drd1\",'Gad1', 'Cxcl9', 'Otof'],groupby='clust_annot')"
   ]
  },
  {
   "cell_type": "code",
   "execution_count": null,
   "metadata": {},
   "outputs": [],
   "source": [
    "adata_subset_msn.write_h5ad(\"/faststorage/brain_aging/merfish/exported/011722_adata_subset_msn.h5ad\")\n",
    "adata_subset_inhib.write_h5ad(\"/faststorage/brain_aging/merfish/exported/011722_adata_subset_inhib.h5ad\")\n",
    "adata_subset_excite.write_h5ad(\"/faststorage/brain_aging/merfish/exported/011722_adata_subset_excite.h5ad\")"
   ]
  },
  {
   "cell_type": "markdown",
   "metadata": {},
   "source": [
    "## Subcluster non-neuronal cells"
   ]
  },
  {
   "cell_type": "code",
   "execution_count": null,
   "metadata": {},
   "outputs": [],
   "source": [
    "# don't accidentally run this!\n",
    "non_neuronal_adatas = {}\n"
   ]
  },
  {
   "cell_type": "code",
   "execution_count": null,
   "metadata": {
    "scrolled": true
   },
   "outputs": [],
   "source": [
    "import bbknn\n",
    "non_neuronal_celltypes = ['Olig', 'Astro', 'Micro', 'OPC', 'Vascular']\n",
    "for i in non_neuronal_celltypes:\n",
    "    print(i)\n",
    "    curr_adata = adata_combined[adata_combined.obs.cell_type==i]\n",
    "    #del curr_adata.uns['raw_merfish_X']\n",
    "    #del curr_adata.uns['raw_scrnaseq_X']\n",
    "    non_neuronal_adatas[i] = recluster_subset(curr_adata, resolution=1.6)"
   ]
  },
  {
   "cell_type": "code",
   "execution_count": null,
   "metadata": {},
   "outputs": [],
   "source": [
    "non_neuronal_celltypes"
   ]
  },
  {
   "cell_type": "markdown",
   "metadata": {},
   "source": [
    "## Subcluster astrocytes"
   ]
  },
  {
   "cell_type": "code",
   "execution_count": null,
   "metadata": {},
   "outputs": [],
   "source": [
    "import bbknn\n",
    "curr_adata = adata_combined[adata_combined.obs.cell_type==\"Astro\"]#,npcs=20,resolution=1.6)\n",
    "#sc.tl.leiden(curr_adata, resolution=1.2)\n"
   ]
  },
  {
   "cell_type": "code",
   "execution_count": null,
   "metadata": {},
   "outputs": [],
   "source": [
    "curr_adata = recluster_subset(curr_adata, npcs=30, resolution=0.6)"
   ]
  },
  {
   "cell_type": "code",
   "execution_count": null,
   "metadata": {},
   "outputs": [],
   "source": [
    "sc.tl.score_genes(curr_adata, gene_list=['B2m','Trem2', 'Ccl2', 'Apoe',  'Axl', 'Itgax', 'Cd9','C1qa','C1qc','Lyz2','Ctss'], score_name='activate_micro', use_raw=False)\n"
   ]
  },
  {
   "cell_type": "code",
   "execution_count": null,
   "metadata": {},
   "outputs": [],
   "source": [
    "sc.pl.umap(curr_adata,color=['activate_astro', 'age','leiden','dtype','Foxj1','C3','C4b','Gfap'],size=10)"
   ]
  },
  {
   "cell_type": "code",
   "execution_count": null,
   "metadata": {},
   "outputs": [],
   "source": [
    "sc.tl.rank_genes_groups(curr_adata, 'leiden', method='t-test')\n",
    "\n",
    "sc.pl.rank_genes_groups(curr_adata, n_genes=3, sharey=False)\n"
   ]
  },
  {
   "cell_type": "code",
   "execution_count": null,
   "metadata": {},
   "outputs": [],
   "source": [
    "temp = curr_adata[curr_adata.obs.batch==8]\n",
    "plot_clusts(temp)"
   ]
  },
  {
   "cell_type": "code",
   "execution_count": null,
   "metadata": {},
   "outputs": [],
   "source": [
    "sc.pl.dotplot(curr_adata,['activate_astro','Gfap', 'Aqp4', 'B2m','Cldn5', 'Gfap', 'Tnc','Foxj1'],groupby='leiden')"
   ]
  },
  {
   "cell_type": "code",
   "execution_count": null,
   "metadata": {},
   "outputs": [],
   "source": [
    "import pandas as pd\n",
    "def assign_clusts(A, clust_labels, new_key='clust_annot'):\n",
    "    A.obs[new_key] = [clust_labels[i] for i in A.obs.leiden]"
   ]
  },
  {
   "cell_type": "code",
   "execution_count": null,
   "metadata": {},
   "outputs": [],
   "source": [
    "crosstab_clusts(curr_adata)"
   ]
  },
  {
   "cell_type": "code",
   "execution_count": null,
   "metadata": {},
   "outputs": [],
   "source": [
    "astro_clusts = {\n",
    "\"0\" : \"Astro-1\",\n",
    "\"1\" : \"Astro-2\",\n",
    "\"2\" : \"Astro-2\",\n",
    "\"3\" : \"Astro-2\",\n",
    "\"4\" : \"Astro-3\",\n",
    "\"5\" : \"Astro-3\",\n",
    "}\n",
    "assign_clusts(curr_adata, astro_clusts)\n"
   ]
  },
  {
   "cell_type": "code",
   "execution_count": null,
   "metadata": {},
   "outputs": [],
   "source": [
    "xtab = np.array(pd.crosstab(curr_adata.obs.age, curr_adata.obs.clust_annot).values.astype(np.float))"
   ]
  },
  {
   "cell_type": "code",
   "execution_count": null,
   "metadata": {},
   "outputs": [],
   "source": [
    "for i in range(3):\n",
    "    xtab[i,:] = xtab[i,:] / xtab[i,:].sum()"
   ]
  },
  {
   "cell_type": "code",
   "execution_count": null,
   "metadata": {},
   "outputs": [],
   "source": [
    "pd.DataFrame(xtab.T, index=['Astro-1','Astro-2','Astro-3'], columns=['4wk','24wk','90wk']).plot(kind='bar')"
   ]
  },
  {
   "cell_type": "code",
   "execution_count": null,
   "metadata": {},
   "outputs": [],
   "source": [
    "sc.pl.violin(curr_adata, 'activate_astro', groupby='clust_annot')"
   ]
  },
  {
   "cell_type": "code",
   "execution_count": null,
   "metadata": {},
   "outputs": [],
   "source": [
    "temp = curr_adata[curr_adata.obs.clust_annot==\"Epen\"]"
   ]
  },
  {
   "cell_type": "code",
   "execution_count": null,
   "metadata": {},
   "outputs": [],
   "source": [
    "temp = recluster_subset(temp)"
   ]
  },
  {
   "cell_type": "code",
   "execution_count": null,
   "metadata": {},
   "outputs": [],
   "source": [
    "sc.pl.umap(temp, color=['Foxj1','leiden'])"
   ]
  },
  {
   "cell_type": "code",
   "execution_count": null,
   "metadata": {},
   "outputs": [],
   "source": [
    "assign_clusts(curr_adata, astro_clusts)\n",
    "curr_adata.obs.loc[temp[temp.obs.leiden==\"1\"].obs.index, \"clust_annot\"] = \"Epen\"\n",
    "curr_adata.obs.loc[temp[temp.obs.leiden!=\"1\"].obs.index, \"clust_annot\"] = \"Astro-2\"\n",
    "non_neuronal_adatas['Astrocyte'] = curr_adata\n"
   ]
  },
  {
   "cell_type": "code",
   "execution_count": null,
   "metadata": {},
   "outputs": [],
   "source": [
    "counts = count_ages(curr_adata,normalize=False)\n",
    "val_counts = counts.values.astype(np.float)\n",
    "for i in range(val_counts.shape[1]):\n",
    "    val_counts[:,i] = val_counts[:,i] / float(val_counts[:,i].sum())"
   ]
  },
  {
   "cell_type": "code",
   "execution_count": null,
   "metadata": {},
   "outputs": [],
   "source": [
    "pd.DataFrame(val_counts, index=counts.index, columns=counts.columns).transpose().plot(kind='bar')"
   ]
  },
  {
   "cell_type": "code",
   "execution_count": null,
   "metadata": {},
   "outputs": [],
   "source": [
    "count_ages(curr_adata).plot(kind='bar')\n",
    "sc.pl.violin(curr_adata, 'activate_astro',groupby='clust_annot')"
   ]
  },
  {
   "cell_type": "code",
   "execution_count": null,
   "metadata": {
    "scrolled": true
   },
   "outputs": [],
   "source": [
    "temp = curr_adata[curr_adata.obs.batch==3]\n",
    "print(temp.obs.age[0])\n",
    "plot_clusts(temp, 'clust_annot')"
   ]
  },
  {
   "cell_type": "markdown",
   "metadata": {},
   "source": [
    "## Subcluster vascular cells"
   ]
  },
  {
   "cell_type": "code",
   "execution_count": null,
   "metadata": {},
   "outputs": [],
   "source": [
    "curr_adata = non_neuronal_adatas['Vascular'].copy()\n",
    "#sc.tl.leiden(curr_adata, resolution=0.6)\n"
   ]
  },
  {
   "cell_type": "code",
   "execution_count": null,
   "metadata": {},
   "outputs": [],
   "source": [
    "tcell_markers = [\"Tcrd\",\n",
    "\"Tcrb\",\n",
    "\"Ptprc\",\n",
    "\"Rorc\",\n",
    "\"Gata3\",\n",
    "\"Foxp3\",\n",
    "\"Tbx21\",\n",
    "\"Il2ra\",\n",
    "\"Il7r\",\n",
    "\"Il2rb\",\n",
    "\"Il2rg\",\n",
    "\"Il15ra\",\n",
    "\"Pdcd1\",\n",
    "\"Ctla4\",\n",
    "\"Cd3e\"]\n",
    "bcell_markers = [\n",
    "    \"Ms4a1\",\n",
    "    \"Cd19\",\n",
    "    \"Prdm1\"\n",
    "]\n",
    "\n",
    "sc.tl.score_genes(curr_adata, gene_list=tcell_markers,score_name='tcell')\n",
    "sc.tl.score_genes(curr_adata, gene_list=bcell_markers,score_name='bcell')"
   ]
  },
  {
   "cell_type": "code",
   "execution_count": null,
   "metadata": {
    "scrolled": true
   },
   "outputs": [],
   "source": [
    "temp = curr_adata[curr_adata.obs.batch==7]\n",
    "plot_clusts(temp)"
   ]
  },
  {
   "cell_type": "code",
   "execution_count": null,
   "metadata": {},
   "outputs": [],
   "source": [
    "sc.tl.rank_genes_groups(curr_adata, 'leiden', method='t-test')\n",
    "\n",
    "sc.pl.rank_genes_groups(curr_adata, n_genes=3, sharey=False)\n"
   ]
  },
  {
   "cell_type": "code",
   "execution_count": null,
   "metadata": {},
   "outputs": [],
   "source": [
    "sc.pl.dotplot(curr_adata,[\"Cldn5\", \"Vtn\", \"Cspg4\", \"Il33\", \"Pdgfra\"],groupby='leiden')"
   ]
  },
  {
   "cell_type": "code",
   "execution_count": null,
   "metadata": {},
   "outputs": [],
   "source": [
    "crosstab_clusts(curr_adata)"
   ]
  },
  {
   "cell_type": "code",
   "execution_count": null,
   "metadata": {},
   "outputs": [],
   "source": [
    "vascular_clusts = {\n",
    "\"0\" : \"Endo-2\",\n",
    "\"1\" : \"Endo-1\",\n",
    "\"2\" : \"Endo-1\",\n",
    "\"3\" : \"Peri-1\",\n",
    "\"4\" : \"Endo-2\",\n",
    "\"5\" : \"Vlmc\",\n",
    "\"6\" : \"Endo-3\",\n",
    "\"7\" : \"Endo-1\",\n",
    "\"8\" : \"Endo-1\",\n",
    "\"9\" : \"Peri-1\",\n",
    "\"10\" : \"Peri-2\",\n",
    "\"11\" : \"Peri-1\",\n",
    "\"12\" : \"Endo-3\",\n",
    "\"13\" : \"Endo-1\",\n",
    "\"14\" : \"Peri-1\",\n",
    "\"15\" : \"Endo-1\",\n",
    "\"16\" : \"Endo-1\",\n",
    "    \n",
    "}\n",
    "assign_clusts(curr_adata, vascular_clusts)\n",
    "non_neuronal_adatas['Vascular'] = curr_adata\n"
   ]
  },
  {
   "cell_type": "markdown",
   "metadata": {},
   "source": [
    "## Subcluster oligodendrocytes"
   ]
  },
  {
   "cell_type": "code",
   "execution_count": null,
   "metadata": {},
   "outputs": [],
   "source": [
    "curr_adata = non_neuronal_adatas['Olig']\n",
    "#sc.tl.leiden(curr_adata, resolution=0.6)\n",
    "sc.pl.umap(curr_adata,color=['age','leiden', 'dtype','Il33'])"
   ]
  },
  {
   "cell_type": "code",
   "execution_count": null,
   "metadata": {
    "scrolled": true
   },
   "outputs": [],
   "source": [
    "temp = curr_adata[curr_adata.obs.batch==7]\n",
    "plot_clusts(temp)"
   ]
  },
  {
   "cell_type": "code",
   "execution_count": null,
   "metadata": {},
   "outputs": [],
   "source": [
    "sc.tl.rank_genes_groups(curr_adata, 'leiden', method='t-test')\n",
    "\n",
    "sc.pl.rank_genes_groups(curr_adata, n_genes=3, sharey=False)\n"
   ]
  },
  {
   "cell_type": "code",
   "execution_count": null,
   "metadata": {},
   "outputs": [],
   "source": []
  },
  {
   "cell_type": "code",
   "execution_count": null,
   "metadata": {},
   "outputs": [],
   "source": [
    "sc.pl.dotplot(curr_adata,['Flt1', 'Foxj1', 'Atp10b','Cldn5', 'Gfap', 'Vtn', 'Olig1', 'Olig2','Plp1'],groupby='leiden')"
   ]
  },
  {
   "cell_type": "code",
   "execution_count": null,
   "metadata": {},
   "outputs": [],
   "source": [
    "crosstab_clusts(curr_adata)"
   ]
  },
  {
   "cell_type": "code",
   "execution_count": null,
   "metadata": {},
   "outputs": [],
   "source": [
    "oligo_clusts = {\n",
    "\"0\" : \"Olig-1\",\n",
    "\"1\" : \"Olig-2\",\n",
    "\"2\" : \"Olig-2\",\n",
    "\"3\" : \"Olig-1\",\n",
    "\"4\" : \"Olig-1\",\n",
    "\"5\" : \"Olig-1\",\n",
    "\"6\" : \"Olig-1\",\n",
    "\"7\" : \"Olig-3\",\n",
    "\"8\" : \"Olig-1\",\n",
    "\"9\" : \"Olig-1\",\n",
    "\"10\" : \"Olig-1\",\n",
    "\"11\" : \"Olig-1\",\n",
    "\"12\" : \"Olig-3\",\n",
    "\"13\" : \"Olig-2\",\n",
    "\"14\" : \"Olig-1\",\n",
    "\"15\" : \"Olig-3\",\n",
    "\"16\" : \"Olig-2\",\n",
    "\"17\" : \"Olig-2\",\n",
    "\"18\" : \"Olig-1\",\n",
    "\"19\" : \"Olig-1\",\n",
    "}\n",
    "assign_clusts(curr_adata, oligo_clusts)\n"
   ]
  },
  {
   "cell_type": "code",
   "execution_count": null,
   "metadata": {},
   "outputs": [],
   "source": [
    "temp = curr_adata[curr_adata.obs.batch==3]\n",
    "print(temp.obs.age.unique())\n",
    "plot_clusts(temp,key='clust_annot')"
   ]
  },
  {
   "cell_type": "code",
   "execution_count": null,
   "metadata": {},
   "outputs": [],
   "source": [
    "sc.pl.umap(curr_adata, color=['clust_annot'])"
   ]
  },
  {
   "cell_type": "code",
   "execution_count": null,
   "metadata": {},
   "outputs": [],
   "source": [
    "non_neuronal_adatas['Oligodendrocyte'] = curr_adata\n"
   ]
  },
  {
   "cell_type": "markdown",
   "metadata": {},
   "source": [
    "## Subcluster microglia"
   ]
  },
  {
   "cell_type": "code",
   "execution_count": null,
   "metadata": {},
   "outputs": [],
   "source": [
    "curr_adata = adata_combined[adata_combined.obs.cell_type.isin(['Micro','Immune'])]#non_neuronal_adatas['Micro'].copy()\n",
    "#sc.tl.leiden(curr_adata, resolution=1.6)\n",
    "#curr_adata = curr_adata[curr_adata.obs.dtype==\"merfish\"]\n",
    "#curr_adata\n",
    "#sc.tl.pca(curr_adata)\n",
    "curr_adata = recluster_subset(curr_adata)\n",
    "sc.pl.umap(curr_adata,color=['age','leiden', 'dtype', 'Cd3e', 'Cd74','Trem2','Cx3cr1','Igf2','F13a1'],size=5)"
   ]
  },
  {
   "cell_type": "code",
   "execution_count": null,
   "metadata": {},
   "outputs": [],
   "source": [
    "#hcluster_adata(curr_adata)\n",
    "hcluster_adata(curr_adata)\n",
    "plt.axhline(0.1,color='k')"
   ]
  },
  {
   "cell_type": "code",
   "execution_count": null,
   "metadata": {},
   "outputs": [],
   "source": [
    "sc.tl.score_genes(curr_adata, gene_list=tcell_markers,score_name='tcell')\n",
    "sc.tl.score_genes(curr_adata, gene_list=bcell_markers,score_name='bcell')"
   ]
  },
  {
   "cell_type": "code",
   "execution_count": null,
   "metadata": {},
   "outputs": [],
   "source": [
    "curr_adata_immune = curr_adata[curr_adata.obs.leiden.isin(['4'])]\n",
    "curr_adata_micro = curr_adata[~curr_adata.obs.leiden.isin(['4'])]"
   ]
  },
  {
   "cell_type": "code",
   "execution_count": null,
   "metadata": {},
   "outputs": [],
   "source": [
    "recluster_subset(curr_adata_immune, npcs=30)\n",
    "sc.pl.umap(curr_adata_immune,color=['leiden'])\n"
   ]
  },
  {
   "cell_type": "code",
   "execution_count": null,
   "metadata": {},
   "outputs": [],
   "source": [
    "sc.tl.rank_genes_groups(curr_adata_immune, 'leiden', method='t-test')\n",
    "\n",
    "sc.pl.rank_genes_groups(curr_adata_immune, n_genes=3, sharey=False)\n"
   ]
  },
  {
   "cell_type": "code",
   "execution_count": null,
   "metadata": {},
   "outputs": [],
   "source": [
    "sc.pl.umap(curr_adata_immune,color=['age','dtype','leiden','Cd3e','Cd74','Ctss','tcell'])"
   ]
  },
  {
   "cell_type": "code",
   "execution_count": null,
   "metadata": {},
   "outputs": [],
   "source": [
    "immune_clusts = {\n",
    "    '0' : \"Macro\",\n",
    "    '1' : \"Macro\",\n",
    "    '2' : \"T cell\",\n",
    "    '3' : \"Macro\",\n",
    "\n",
    "}\n",
    "assign_clusts(curr_adata_immune, immune_clusts)\n",
    "non_neuronal_adatas['Immune'] = curr_adata_immune\n"
   ]
  },
  {
   "cell_type": "code",
   "execution_count": null,
   "metadata": {},
   "outputs": [],
   "source": [
    "curr_adata_micro = non_neuronal_adatas['Micro'].copy()\n",
    "curr_adata_micro = curr_adata_micro[~curr_adata_micro.obs.index.isin(curr_adata_immune.obs.index)]"
   ]
  },
  {
   "cell_type": "code",
   "execution_count": null,
   "metadata": {},
   "outputs": [],
   "source": [
    "curr_adata_micro = adata_combined[adata_combined.obs.cell_type==\"Micro\"]"
   ]
  },
  {
   "cell_type": "code",
   "execution_count": null,
   "metadata": {},
   "outputs": [],
   "source": [
    "recluster_subset(curr_adata_micro, npcs=30, resolution=1.2)\n"
   ]
  },
  {
   "cell_type": "code",
   "execution_count": null,
   "metadata": {},
   "outputs": [],
   "source": [
    "sc.tl.rank_genes_groups(curr_adata_micro, 'leiden', method='t-test')\n",
    "\n",
    "sc.pl.rank_genes_groups(curr_adata_micro, n_genes=3, sharey=False)\n"
   ]
  },
  {
   "cell_type": "code",
   "execution_count": null,
   "metadata": {},
   "outputs": [],
   "source": [
    "sc.pl.umap(curr_adata_micro, color=['leiden','age','Abi3', 'Selplg','Sptan1','Apoe','C4b','Trem2'])"
   ]
  },
  {
   "cell_type": "code",
   "execution_count": null,
   "metadata": {},
   "outputs": [],
   "source": [
    "sc.pl.dotplot(curr_adata_micro, var_names=['Abi3', 'Selplg','Sptan1','Apoe'],groupby='leiden')"
   ]
  },
  {
   "cell_type": "code",
   "execution_count": null,
   "metadata": {},
   "outputs": [],
   "source": [
    "sc.tl.score_genes(curr_adata_micro, gene_list=['B2m','Trem2', 'Ccl2', 'Apoe',  'Axl', 'Itgax', 'Cd9','C1qa','C1qc','Lyz2','Ctss'], score_name='activate_micro', use_raw=False)\n"
   ]
  },
  {
   "cell_type": "code",
   "execution_count": null,
   "metadata": {},
   "outputs": [],
   "source": [
    "crosstab_clusts(curr_adata_micro)"
   ]
  },
  {
   "cell_type": "code",
   "execution_count": null,
   "metadata": {},
   "outputs": [],
   "source": [
    "micro_clusts = {\n",
    "\"0\" : \"Micro-3\",\n",
    "\"1\" : \"Micro-1\",\n",
    "\"2\" : \"Micro-2\",\n",
    "\"3\" : \"Micro-3\",\n",
    "\"4\" : \"Micro-2\",\n",
    "\"5\" : \"Micro-1\",\n",
    "\"6\" : \"Micro-2\",\n",
    "\"7\" : \"Micro-1\",\n",
    "\"8\" : \"Micro-1\",\n",
    "\"9\" : \"Micro-1\",\n",
    "\"10\" : \"Micro-1\",\n",
    "}\n",
    "assign_clusts(curr_adata_micro, micro_clusts)\n",
    "#non_neuronal_adatas['Microglia'] = curr_adata_micro\n"
   ]
  },
  {
   "cell_type": "code",
   "execution_count": null,
   "metadata": {},
   "outputs": [],
   "source": [
    "sc.pl.violin(curr_adata_micro, 'activate_micro', groupby='clust_annot')"
   ]
  },
  {
   "cell_type": "code",
   "execution_count": null,
   "metadata": {},
   "outputs": [],
   "source": [
    "adata_combined.obs.loc[curr_adata_micro.obs.index,'clust_annot'] = curr_adata_micro.obs.clust_annot"
   ]
  },
  {
   "cell_type": "markdown",
   "metadata": {},
   "source": [
    "## Subcluster OPC"
   ]
  },
  {
   "cell_type": "code",
   "execution_count": null,
   "metadata": {},
   "outputs": [],
   "source": [
    "curr_adata = non_neuronal_adatas['OPC']\n",
    "sc.tl.leiden(curr_adata,resolution=0.4)\n",
    "sc.pl.umap(curr_adata,color=['age','leiden', 'dtype','Pdgfra','Grin2b'])"
   ]
  },
  {
   "cell_type": "code",
   "execution_count": null,
   "metadata": {},
   "outputs": [],
   "source": [
    "sc.tl.rank_genes_groups(curr_adata, 'leiden', method='t-test')\n",
    "\n",
    "sc.pl.rank_genes_groups(curr_adata, n_genes=3, sharey=False)\n"
   ]
  },
  {
   "cell_type": "code",
   "execution_count": null,
   "metadata": {
    "scrolled": true
   },
   "outputs": [],
   "source": [
    "plot_clusts(curr_adata[curr_adata.obs.batch==11])"
   ]
  },
  {
   "cell_type": "code",
   "execution_count": null,
   "metadata": {},
   "outputs": [],
   "source": [
    "hcluster_adata(curr_adata)"
   ]
  },
  {
   "cell_type": "code",
   "execution_count": null,
   "metadata": {},
   "outputs": [],
   "source": [
    "opc_clusts = {\n",
    "    '0' : \"OPC\",\n",
    "    '1' : \"OPC\",\n",
    "}\n",
    "assign_clusts(curr_adata, opc_clusts)\n",
    "non_neuronal_adatas['OPC'] = curr_adata\n"
   ]
  },
  {
   "cell_type": "code",
   "execution_count": null,
   "metadata": {},
   "outputs": [],
   "source": [
    "non_neuronal_adatas"
   ]
  },
  {
   "cell_type": "code",
   "execution_count": null,
   "metadata": {},
   "outputs": [],
   "source": [
    "sc.tl.rank_genes_groups(curr_adata, 'leiden', method='t-test')\n",
    "\n",
    "sc.pl.rank_genes_groups(curr_adata, n_genes=3, sharey=False)\n"
   ]
  },
  {
   "cell_type": "code",
   "execution_count": null,
   "metadata": {},
   "outputs": [],
   "source": [
    "for i in ['Astrocyte', 'Vascular', 'Oligodendrocyte', 'Immune', 'Microglia', 'OPC']:\n",
    "    print(i)\n",
    "    non_neuronal_adatas[i].write_h5ad(f\"/faststorage/brain_aging/merfish/exported/011722_adata_subset_{i.lower()}.h5ad\")"
   ]
  },
  {
   "cell_type": "code",
   "execution_count": null,
   "metadata": {},
   "outputs": [],
   "source": [
    "np.sum(non_neuronal_adatas[\"Microglia\"].obs.cell_type==\"\")"
   ]
  },
  {
   "cell_type": "markdown",
   "metadata": {},
   "source": [
    "# Transfer manual annotations to main dataset"
   ]
  },
  {
   "cell_type": "code",
   "execution_count": null,
   "metadata": {},
   "outputs": [],
   "source": [
    "adata_combined = ad.read_h5ad(\"/faststorage/brain_aging/merfish/exported/011722_integrated_merfish_10x_allages.h5ad\")"
   ]
  },
  {
   "cell_type": "code",
   "execution_count": null,
   "metadata": {},
   "outputs": [],
   "source": [
    "adata_combined.obs['clust_annot'] = 'Unlabeled'"
   ]
  },
  {
   "cell_type": "code",
   "execution_count": null,
   "metadata": {},
   "outputs": [],
   "source": [
    "subsets = {}\n",
    "subset_names = [\"OPC\",\"Microglia\",\"Immune\", \"Oligodendrocyte\",\"Vascular\",\"Astrocyte\",\"Excite\",\"Inhib\",\"MSN\"]\n",
    "for i in subset_names:\n",
    "    print(i)\n",
    "    curr_subset = ad.read_h5ad(f\"/faststorage/brain_aging/merfish/exported/011722_adata_subset_{i.lower()}.h5ad\")\n",
    "    curr_subset.obs['cell_type'] = i\n",
    "    subsets[i] = curr_subset#adata_subset.obs[\"clust_annot\"] = [\"NA\"] * adata_subset.obs.shape[0]"
   ]
  },
  {
   "cell_type": "code",
   "execution_count": null,
   "metadata": {},
   "outputs": [],
   "source": [
    "combined_obs = adata_combined.obs.copy()\n",
    "combined_obs[\"cell_type_annot\"] = \"\"\n",
    "combined_obs[\"clust_annot\"] = \"\"\n"
   ]
  },
  {
   "cell_type": "code",
   "execution_count": null,
   "metadata": {},
   "outputs": [],
   "source": [
    "adata_combined[adata_combined.obs.dtype==\"merfish\"]"
   ]
  },
  {
   "cell_type": "code",
   "execution_count": null,
   "metadata": {},
   "outputs": [],
   "source": [
    "import pandas as pd\n",
    "for i in subsets.keys():\n",
    "    print(i)\n",
    "    combined_obs.loc[subsets[i].obs.index,\"cell_type_annot\"] = i\n",
    "    combined_obs.loc[subsets[i].obs.index,\"clust_annot\"] = subsets[i].obs.clust_annot\n"
   ]
  },
  {
   "cell_type": "code",
   "execution_count": null,
   "metadata": {},
   "outputs": [],
   "source": [
    "adata_combined.obs = combined_obs"
   ]
  },
  {
   "cell_type": "code",
   "execution_count": null,
   "metadata": {},
   "outputs": [],
   "source": [
    "# fix mistakes\n",
    "annot_fix_map = {\n",
    "    #'OPC-1' : 'OPC',\n",
    "    #\"OPC-2\" : \"OPC\",\n",
    "    #\"MSN-D1-3\" : \"MSN-D1-2\"\n",
    "    #'ExN-LateSept' : \"ExN-LatSept\",\n",
    "    #\"ExN-L2/3-3\" : \"ExN-L5-1\",\n",
    "    #'ExN-L4-1' : 'ExN-L5-2',\n",
    "    # 'ExN-L4-2' : 'ExN-L5-3',\n",
    "    # 'ExN-L5-1' : 'ExN-L6-1',\n",
    "    # 'ExN-L5-2' : \"ExN-L6-2\",\n",
    "    # 'ExN-L6' : \"ExN-L6-3\"\n",
    "\n",
    "}\n",
    "annots = list(adata_combined.obs.clust_annot)\n",
    "for i in range(len(annots)):\n",
    "    if annots[i] in annot_fix_map:\n",
    "        annots[i] = annot_fix_map[annots[i]]\n",
    "adata_combined.obs['clust_annot'] = annots"
   ]
  },
  {
   "cell_type": "code",
   "execution_count": null,
   "metadata": {},
   "outputs": [],
   "source": [
    "adata_combined.obs['cell_type'] = [i.split(\"-\")[0] for i in adata_combined.obs.clust_annot]"
   ]
  },
  {
   "cell_type": "code",
   "execution_count": null,
   "metadata": {},
   "outputs": [],
   "source": [
    "# fix missing labels\n",
    "from sklearn.neighbors import KNeighborsClassifier\n",
    "# first classify cell type\n",
    "adata_unlabeled =  adata_combined[adata_combined.obs.cell_type=='']\n",
    "adata_labeled = adata_combined[adata_combined.obs.cell_type!='']\n",
    "# train on labeled data\n",
    "clf = KNeighborsClassifier(n_jobs=-1).fit(adata_labeled.obsm['X_pca'], adata_labeled.obs.cell_type)"
   ]
  },
  {
   "cell_type": "code",
   "execution_count": null,
   "metadata": {
    "scrolled": true
   },
   "outputs": [],
   "source": [
    "preds = clf.predict(adata_unlabeled.obsm['X_pca'])"
   ]
  },
  {
   "cell_type": "code",
   "execution_count": null,
   "metadata": {},
   "outputs": [],
   "source": [
    "adata_unlabeled.obs.cell_type = preds"
   ]
  },
  {
   "cell_type": "code",
   "execution_count": null,
   "metadata": {},
   "outputs": [],
   "source": [
    "# train classifier for each cell_type\n",
    "for i in adata_unlabeled.obs.cell_type.unique():\n",
    "    print(i)\n",
    "    curr_adata = adata_labeled[adata_labeled.obs.cell_type==i]\n",
    "    curr_unlabeled = adata_unlabeled[adata_unlabeled.obs.cell_type==i]\n",
    "    curr_clf = KNeighborsClassifier(n_jobs=-1).fit(curr_adata.obsm['X_pca'], \n",
    "                                                   curr_adata.obs.cell_type)\n",
    "    KNeighborsClassifier(n_jobs=-1).fit(curr_adata.obsm['X_pca'], curr_adata.obs.cell_type)\n",
    "    preds = curr_clf.predict(curr_unlabeled.obsm['X_pca'])\n",
    "    adata_unlabeled.obs.loc[curr_unlabeled.obs.index, \"clust_annot\"] = preds"
   ]
  },
  {
   "cell_type": "code",
   "execution_count": null,
   "metadata": {},
   "outputs": [],
   "source": [
    "sorted(adata_combined.obs.clust_annot.unique())"
   ]
  },
  {
   "cell_type": "code",
   "execution_count": null,
   "metadata": {},
   "outputs": [],
   "source": [
    "celltype_colors, celltype_pals, label_colors, clust_pals = generate_palettes(adata_combined)"
   ]
  },
  {
   "cell_type": "code",
   "execution_count": null,
   "metadata": {},
   "outputs": [],
   "source": [
    "temp = adata_combined[adata_combined.obs.cell_type.isin(['Astro','Epen'])]\n",
    "sc.tl.leiden(temp, resolution=2)"
   ]
  },
  {
   "cell_type": "code",
   "execution_count": null,
   "metadata": {},
   "outputs": [],
   "source": [
    "sc.pl.umap(temp,color='leiden')"
   ]
  },
  {
   "cell_type": "code",
   "execution_count": null,
   "metadata": {},
   "outputs": [],
   "source": [
    "temp = temp[temp.obs.leiden=='10']\n",
    "adata_combined.obs.loc[temp.obs.index, 'cell_type'] = \"Epen\"\n",
    "adata_combined.obs.loc[temp.obs.index, 'clust_annot'] = \"Epen\"\n"
   ]
  },
  {
   "cell_type": "code",
   "execution_count": null,
   "metadata": {},
   "outputs": [],
   "source": [
    "sc.pl.umap(adata_combined,color=['clust_annot','Foxj1'],palette=clust_pals)"
   ]
  },
  {
   "cell_type": "code",
   "execution_count": null,
   "metadata": {},
   "outputs": [],
   "source": [
    "sc.pl.umap(adata_combined,color=['cell_type_annot', 'clust_annot','age','dtype'],size=1)"
   ]
  },
  {
   "cell_type": "code",
   "execution_count": null,
   "metadata": {},
   "outputs": [],
   "source": [
    "sc.pl.umap(adata_combined[adata_combined.obs.age!='24wk'],color=['cell_type_annot', 'clust_annot','age','dtype'],size=1)"
   ]
  },
  {
   "cell_type": "code",
   "execution_count": null,
   "metadata": {},
   "outputs": [],
   "source": [
    "# convert to squidpy representation\n",
    "n_scrnaseq = adata_combined[adata_combined.obs.dtype==\"scrnaseq\"].shape[0]\n",
    "coords = np.array(adata_combined[adata_combined.obs.dtype==\"merfish\"].obs[[\"center_x\", \"center_y\"]]).astype(np.float64)\n",
    "coords = np.vstack((np.zeros((n_scrnaseq, 2)), coords))\n",
    "adata_combined.obsm['spatial'] = coords"
   ]
  },
  {
   "cell_type": "code",
   "execution_count": null,
   "metadata": {
    "scrolled": true
   },
   "outputs": [],
   "source": [
    "# assign points to slices\n",
    "from sklearn.cluster import KMeans\n",
    "# number of slices for eachbatch\n",
    "nslices = {\n",
    "    0 : 1,\n",
    "    1 : 1,\n",
    "    2 : 2,\n",
    "    3 : 2,\n",
    "    4 : 3,\n",
    "    5 : 3,\n",
    "    6 : 3,\n",
    "    7 : 3,\n",
    "    8 : 3,\n",
    "    9 : 3,\n",
    "    10 : 4,\n",
    "    11 : 3,\n",
    "    12 : 2\n",
    "} \n",
    "slice_labels = []\n",
    "adata_combined.obs[\"slice\"] = 0\n",
    "for i in list(adata_combined.obs.batch.unique()):\n",
    "    if i > 0:\n",
    "        curr_adata = adata_combined[adata_combined.obs.batch==i]\n",
    "        pos = curr_adata.obsm['spatial']\n",
    "        lbl = KMeans(n_clusters=nslices[i]).fit_predict(pos)\n",
    "        #slice_labels.extend(lbl)\n",
    "        print(pos.shape, curr_adata.shape)\n",
    "        adata_combined.obs.loc[curr_adata.obs.index, \"slice\"] = lbl\n",
    "    \n",
    "#    plt.figure()\n",
    "#    plt.scatter(curr_adata.obs.center_x, curr_adata.obs.center_y, s=1, c=lbl)\n",
    "#adata_annot.obs[\"slice\"] = slice_labels"
   ]
  },
  {
   "cell_type": "code",
   "execution_count": null,
   "metadata": {},
   "outputs": [],
   "source": [
    "for i in list(adata_combined.obs.batch.unique()):\n",
    "    curr_adata = adata_combined[adata_combined.obs.batch==i]\n",
    "    pos = curr_adata.obsm['spatial']\n",
    "    plt.figure()\n",
    "    plt.scatter(pos[:,0], pos[:,1], s=1, c=curr_adata.obs.slice)\n"
   ]
  },
  {
   "cell_type": "code",
   "execution_count": null,
   "metadata": {},
   "outputs": [],
   "source": [
    "# adjust coordinates so that each brain section is far away from others \n",
    "# (a bit of a hack for neighborhood graph computation)\n",
    "coords = []\n",
    "index = []\n",
    "n = 0\n",
    "for i,b in enumerate(adata_combined.obs.batch.unique()):\n",
    "    print('--')\n",
    "    curr_adata = adata_combined[adata_combined.obs.batch==b]\n",
    "    for j,s in enumerate(sorted(curr_adata.obs.slice.unique())):\n",
    "        print(s)\n",
    "        curr_slice = curr_adata[curr_adata.obs.slice==s]\n",
    "        curr_coords = curr_slice.obsm['spatial']#np.vstack((curr_slice.obs.center_x, curr_slice.obs.center_y)).T\n",
    "        #curr_coords = curr_slice.obsm['spatial']\n",
    "        curr_coords += n*1e5\n",
    "        plt.figure()\n",
    "        plt.scatter(curr_coords[:,0], curr_coords[:,1], s=1)\n",
    "        n += 1\n",
    "        coords.append(curr_coords)\n",
    "        index.extend(list(curr_slice.obs.index))\n",
    "#adata_combined[index,:].obsm['spatial'] = np.vstack(coords)"
   ]
  },
  {
   "cell_type": "code",
   "execution_count": null,
   "metadata": {},
   "outputs": [],
   "source": [
    "adata_combined = adata_combined[index]\n",
    "adata_combined.obsm['spatial'] = np.vstack(coords)"
   ]
  },
  {
   "cell_type": "code",
   "execution_count": null,
   "metadata": {},
   "outputs": [],
   "source": [
    "x = adata_combined.obsm['spatial'][:,0]\n",
    "y = adata_combined.obsm['spatial'][:,1]\n",
    "plt.plot(x,y,'k.')"
   ]
  },
  {
   "cell_type": "code",
   "execution_count": null,
   "metadata": {},
   "outputs": [],
   "source": [
    "for i in list(adata_combined.obs.batch.unique()):\n",
    "    curr_adata = adata_combined[adata_combined.obs.batch==i]\n",
    "\n",
    "    temp = curr_adata.obsm['spatial']\n",
    "    plt.figure()\n",
    "    plt.scatter(temp[:,0], temp[:,1],s=1)"
   ]
  },
  {
   "cell_type": "code",
   "execution_count": null,
   "metadata": {},
   "outputs": [],
   "source": [
    "# remove bad section\n",
    "# remove bad section\n",
    "good_cells = np.argwhere(np.array(~np.logical_and(adata_combined.obs.batch==10, adata_combined.obs.slice==3))).flatten()\n",
    "adata_combined_merfish = adata_combined[adata_combined.obs.dtype==\"merfish\"]\n",
    "good_cells_merfish = np.argwhere(np.array(~np.logical_and(adata_combined_merfish.obs.batch==10, adata_combined_merfish.obs.slice==3))).flatten()\n",
    "adata_combined = adata_combined[good_cells]\n",
    "adata_combined.uns['raw_merfish_X'] = adata_combined.uns['raw_merfish_X'][good_cells_merfish]"
   ]
  },
  {
   "cell_type": "code",
   "execution_count": null,
   "metadata": {},
   "outputs": [],
   "source": [
    "sc.pl.umap(adata_combined, color='clust_annot')"
   ]
  },
  {
   "cell_type": "code",
   "execution_count": null,
   "metadata": {},
   "outputs": [],
   "source": [
    "adata_combined.obs['cell_type'] = [i.split(\"-\")[0] for i in adata_combined.obs.clust_annot]"
   ]
  },
  {
   "cell_type": "code",
   "execution_count": null,
   "metadata": {},
   "outputs": [],
   "source": [
    "sc.pl.umap(adata_combined, color=['Gfap','C4b', 'Il33', 'Il13','Il18','Tnf','C3','age'])"
   ]
  },
  {
   "cell_type": "code",
   "execution_count": null,
   "metadata": {},
   "outputs": [],
   "source": []
  },
  {
   "cell_type": "code",
   "execution_count": null,
   "metadata": {},
   "outputs": [],
   "source": [
    "#f,ax = plt.subplots(figsize=(5,5))\n",
    "#sc.pl.umap(adata_combined, color=['cell_type'], palette=celltype_pals, size=1,ax=ax)\n",
    "#f.savefig(\"/home/user/Dropbox/zhuang_lab/aging/aging_atlas_paper/figures_int/fig3_celltype.pdf\", bbox_inches='tight', dpi=200)"
   ]
  },
  {
   "cell_type": "markdown",
   "metadata": {},
   "source": [
    "## Segment layers"
   ]
  },
  {
   "cell_type": "code",
   "execution_count": null,
   "metadata": {},
   "outputs": [],
   "source": [
    "adata_merfish = adata_combined[adata_combined.obs.dtype==\"merfish\"]"
   ]
  },
  {
   "cell_type": "code",
   "execution_count": null,
   "metadata": {},
   "outputs": [],
   "source": [
    "nbor_stats = compute_neighborhood_stats(adata_merfish.obsm['spatial'], adata_merfish.obs.clust_annot,radius=125)"
   ]
  },
  {
   "cell_type": "code",
   "execution_count": null,
   "metadata": {},
   "outputs": [],
   "source": [
    "nbor_stats[np.isnan(nbor_stats)] = 0"
   ]
  },
  {
   "cell_type": "code",
   "execution_count": null,
   "metadata": {},
   "outputs": [],
   "source": [
    "from sklearn.decomposition import PCA\n",
    "xform = PCA(random_state=50).fit_transform(nbor_stats)"
   ]
  },
  {
   "cell_type": "code",
   "execution_count": null,
   "metadata": {},
   "outputs": [],
   "source": [
    "labels_quant = LabelEncoder().fit_transform(adata_merfish.obs.clust_annot)\n"
   ]
  },
  {
   "cell_type": "code",
   "execution_count": null,
   "metadata": {},
   "outputs": [],
   "source": [
    "plt.scatter(xform[:,0],xform[:,1],s=1, c=labels_quant, cmap=mpl.colors.ListedColormap(np.vstack(label_colors.values())))"
   ]
  },
  {
   "cell_type": "code",
   "execution_count": null,
   "metadata": {},
   "outputs": [],
   "source": [
    "from sklearn.cluster import KMeans\n",
    "kmeans = KMeans(n_clusters=25, random_state=42).fit_predict(xform)"
   ]
  },
  {
   "cell_type": "code",
   "execution_count": null,
   "metadata": {},
   "outputs": [],
   "source": [
    "plt.scatter(xform[:,0],xform[:,1],s=1, c=kmeans, cmap=mpl.colors.ListedColormap(np.vstack(label_colors.values())))"
   ]
  },
  {
   "cell_type": "code",
   "execution_count": null,
   "metadata": {},
   "outputs": [],
   "source": [
    "adata_merfish.obs['kmeans'] = kmeans"
   ]
  },
  {
   "cell_type": "code",
   "execution_count": null,
   "metadata": {},
   "outputs": [],
   "source": [
    "curr_adata = adata_merfish[np.logical_and(adata_merfish.obs.batch==12, adata_merfish.obs.slice==1)]\n",
    "print(curr_adata.obs.age[0])\n",
    "pos = curr_adata.obsm['spatial']\n",
    "plt.scatter(pos[:,0], pos[:,1],s=1, c=curr_adata.obs.kmeans, cmap=plt.cm.nipy_spectral)\n",
    "plt.legend()"
   ]
  },
  {
   "cell_type": "code",
   "execution_count": null,
   "metadata": {},
   "outputs": [],
   "source": [
    "def plot_clust(A,clust_name, ax,s=0.1,key='kmeans'):\n",
    "    pos = curr_adata.obsm['spatial']\n",
    "    ax.scatter(pos[:,0], pos[:,1],s=1, c='gray')\n",
    "    ax.scatter(pos[A.obs[key]==clust_name,0], pos[A.obs[key]==clust_name,1],s=s, c='r')\n",
    "    ax.axis('off')\n",
    "    ax.set_title(clust_name)"
   ]
  },
  {
   "cell_type": "code",
   "execution_count": null,
   "metadata": {},
   "outputs": [],
   "source": [
    "curr_adata = adata_merfish[np.logical_and(adata_merfish.obs.batch==8, adata_merfish.obs.slice==1)]\n",
    "\n",
    "plt.figure(figsize=(20,20))\n",
    "for i in range(curr_adata.obs.kmeans.max()+1):\n",
    "    ax = plt.subplot(5,5,i+1)\n",
    "    plot_clust(curr_adata,i,ax,key='kmeans')"
   ]
  },
  {
   "cell_type": "code",
   "execution_count": null,
   "metadata": {},
   "outputs": [],
   "source": [
    "# count cell types per kmeans clust\n",
    "clust_counts = np.vstack(adata_merfish.obs.groupby('kmeans').apply(lambda x: [np.sum(x.clust_annot==i) for i in sorted(adata_merfish.obs.clust_annot.unique())]).reset_index()[0])\n",
    "clust_avgs = np.zeros((kmeans.max()+1, nbor_stats.shape[1]))\n",
    "for i in sorted(np.unique(kmeans)):\n",
    "    clust_avgs[i,:] = nbor_stats[kmeans==i,:].mean(0)\n",
    "for i in range(clust_avgs.shape[1]):\n",
    "    clust_avgs[:,i] = zscore(clust_avgs[:,i])\n",
    "    \n",
    "    # hierarchically cluster \n",
    "from scipy.spatial.distance import pdist\n",
    "import scipy.cluster.hierarchy as hc\n",
    "\n",
    "D = pdist(clust_avgs,'cosine')\n",
    "Z = hc.linkage(D,'ward',optimal_ordering=True)\n",
    "dn = hc.dendrogram(Z)\n",
    "#lbl_order = [clust_ids[c] for c in dn['leaves']]\n",
    "\n",
    "f, ax = plt.subplots(figsize=(5,2))\n",
    "ax.imshow(clust_avgs[ dn['leaves']],aspect='auto',vmin=-5,vmax=5, cmap=plt.cm.seismic)\n",
    "#for i in range(clust_counts.shape[0]):\n",
    "    #ax.scatter(np.arange(clust_counts.shape[1]), i*np.ones(clust_counts.shape[1]), s=0.005*clust_counts[i,:],c='k')\n",
    "ax.set_xticks(np.arange(clust_counts.shape[1]));\n",
    "ax.set_yticks(np.arange(clust_counts.shape[0]));\n",
    "ax.set_yticklabels(dn['leaves'],fontsize=6)\n",
    "ax.set_xticklabels(sorted(adata_combined.obs.clust_annot.unique()),rotation=90,fontsize=6);"
   ]
  },
  {
   "cell_type": "code",
   "execution_count": null,
   "metadata": {},
   "outputs": [],
   "source": [
    "def crosstab_spatial_clusts(A):\n",
    "    temp = pd.crosstab(index=A.obs.kmeans,columns=A.obs.spatial_clust_annots, normalize=True).idxmax(axis=1)\n",
    "    return {k:v for k,v in temp.iteritems()}\n",
    "        #print(f\"{i[0]} : \\\"{i[1]}\\\",\")\n"
   ]
  },
  {
   "cell_type": "code",
   "execution_count": null,
   "metadata": {},
   "outputs": [],
   "source": [
    "spatial_clust_annots = crosstab_spatial_clusts(adata_merfish)"
   ]
  },
  {
   "cell_type": "code",
   "execution_count": null,
   "metadata": {},
   "outputs": [],
   "source": [
    "spatial_clust_annots = {\n",
    "    0: 'L5',\n",
    " 1: 'Striatum',\n",
    " 2: 'L6',\n",
    " 3: 'L2/3',\n",
    " 4: 'L6',\n",
    " 5: 'L6',\n",
    " 6: 'LatSept',\n",
    " 7: 'Ventricle',\n",
    " 8: 'LatSept',\n",
    " 9: 'Pia',\n",
    " 10: 'CC',\n",
    " 11: 'L6',\n",
    " 12: 'CC',\n",
    " 13: 'L6',\n",
    " 14: 'L2/3',\n",
    " 15: 'L6',\n",
    " 16: 'CC',\n",
    " 17: 'Striatum',\n",
    " 18: 'Striatum',\n",
    " 19: 'L6',\n",
    " 20: 'L5',\n",
    " 21: 'L5',\n",
    " 22: 'Pia',\n",
    " 23: 'L5',\n",
    " 24: 'CC'\n",
    "}\n",
    "\n"
   ]
  },
  {
   "cell_type": "code",
   "execution_count": null,
   "metadata": {},
   "outputs": [],
   "source": [
    "spatial_clust_annots_values = {\n",
    "    'Pia' : 0,\n",
    "    'L2/3' : 1, \n",
    "    'L5' : 2,\n",
    "    'L6' : 3, \n",
    "    'LatSept' : 4,\n",
    "    'CC' : 5,\n",
    "    'Striatum' : 6,\n",
    "    'Ventricle' : 7\n",
    "    }"
   ]
  },
  {
   "cell_type": "code",
   "execution_count": null,
   "metadata": {},
   "outputs": [],
   "source": [
    "adata_merfish.obs['spatial_clust_annots'] = [spatial_clust_annots[i] for i in adata_merfish.obs.kmeans]\n",
    "adata_merfish.obs['spatial_clust_annots_value'] = [spatial_clust_annots_values[i] for i in adata_merfish.obs.spatial_clust_annots]"
   ]
  },
  {
   "cell_type": "code",
   "execution_count": null,
   "metadata": {},
   "outputs": [],
   "source": [
    "curr_adata = adata_merfish[np.logical_and(adata_merfish.obs.batch==3, adata_merfish.obs.slice==1)]\n",
    "\n",
    "plt.figure(figsize=(20,20))\n",
    "for i in range(curr_adata.obs.spatial_clust_annots_value.max()+1):\n",
    "    ax = plt.subplot(4,5,i+1)\n",
    "    plot_clust(curr_adata,i,ax,key='spatial_clust_annots_value')"
   ]
  },
  {
   "cell_type": "code",
   "execution_count": null,
   "metadata": {},
   "outputs": [],
   "source": [
    "curr_adata = adata_merfish[np.logical_and(adata_merfish.obs.batch==4, adata_merfish.obs.slice==0)]\n",
    "\n",
    "pos = curr_adata.obsm['spatial']\n",
    "\n",
    "plt.scatter(pos[:,0], pos[:,1],s=1, c=curr_adata.obs.spatial_clust_annots_value,cmap=plt.cm.turbo,vmin=0,vmax=9)\n"
   ]
  },
  {
   "cell_type": "code",
   "execution_count": null,
   "metadata": {},
   "outputs": [],
   "source": [
    "curr_adata = adata_merfish[np.logical_and(adata_merfish.obs.batch==12, adata_merfish.obs.slice==0)]\n",
    "\n",
    "plt.figure(figsize=(20,20))\n",
    "for i in range(9):\n",
    "    ax = plt.subplot(4,4,i+1)\n",
    "    plot_clust(curr_adata,i,ax,key='spatial_clust_annots_value')"
   ]
  },
  {
   "cell_type": "code",
   "execution_count": null,
   "metadata": {},
   "outputs": [],
   "source": [
    "adata_combined.obs['spatial_clust_annots_value'] = -1\n",
    "adata_combined.obs['spatial_clust_annots'] = \"NA\"\n"
   ]
  },
  {
   "cell_type": "code",
   "execution_count": null,
   "metadata": {},
   "outputs": [],
   "source": [
    "plot_seg(curr_adata,plt.cm.rainbow)"
   ]
  },
  {
   "cell_type": "code",
   "execution_count": null,
   "metadata": {},
   "outputs": [],
   "source": [
    "adata_combined.obs.loc[adata_merfish.obs.index, \"spatial_clust_annots_value\"] = adata_merfish.obs.spatial_clust_annots_value\n",
    "adata_combined.obs.loc[adata_merfish.obs.index, \"spatial_clust_annots\"] = adata_merfish.obs.spatial_clust_annots"
   ]
  },
  {
   "cell_type": "code",
   "execution_count": null,
   "metadata": {},
   "outputs": [],
   "source": [
    "adata_combined[adata_combined.obs.dtype==\"merfish\"].shape"
   ]
  },
  {
   "cell_type": "markdown",
   "metadata": {},
   "source": [
    "# Save out data"
   ]
  },
  {
   "cell_type": "code",
   "execution_count": null,
   "metadata": {},
   "outputs": [],
   "source": [
    "#adata_combined.write_h5ad(\"/faststorage/brain_aging/merfish/exported/011722_adata_combined_harmony.h5ad\")"
   ]
  },
  {
   "cell_type": "code",
   "execution_count": null,
   "metadata": {},
   "outputs": [],
   "source": [
    "adata_combined = ad.read_h5ad(\"/faststorage/brain_aging/merfish/exported/011722_adata_combined_harmony.h5ad\")\n",
    "#print(adata_combined.shape[0])"
   ]
  },
  {
   "cell_type": "code",
   "execution_count": null,
   "metadata": {},
   "outputs": [],
   "source": [
    "adata_combined = unbinarize_strings(adata_combined)"
   ]
  },
  {
   "cell_type": "code",
   "execution_count": null,
   "metadata": {},
   "outputs": [],
   "source": [
    "np.sum(adata_combined.obs.cell_type == \"T cell\")"
   ]
  },
  {
   "cell_type": "code",
   "execution_count": null,
   "metadata": {},
   "outputs": [],
   "source": [
    "from utils import *\n"
   ]
  },
  {
   "cell_type": "code",
   "execution_count": null,
   "metadata": {},
   "outputs": [],
   "source": [
    "from utils import *"
   ]
  },
  {
   "cell_type": "code",
   "execution_count": null,
   "metadata": {},
   "outputs": [],
   "source": [
    "# run this\n",
    "celltype_colors, celltype_pals, label_colors, clust_pals = generate_palettes(adata_combined)"
   ]
  },
  {
   "cell_type": "code",
   "execution_count": null,
   "metadata": {},
   "outputs": [],
   "source": [
    "age_colors = ['cornflowerblue','thistle','lightcoral']\n",
    "age_cmap = mpl.colors.ListedColormap(age_colors)\n",
    "f,ax = plt.subplots(figsize=(5,5))\n",
    "sc.pl.umap(adata_combined, color=['age'], size=1, legend_loc='bottom',ax=ax, palette=sns.color_palette(age_colors))\n",
    "#ax.set_rastera\\ized(True)\n",
    "ax.axis('off')\n",
    "ax.set_title('')\n",
    "f.savefig(\"/home/user/Dropbox/zhuang_lab/aging/aging_atlas_paper/figures_int/fig3_age.png\",bbox_inches='tight', dpi=200)\n",
    "\n",
    "f,ax = plt.subplots(figsize=(5,5))\n",
    "\n",
    "dtype_colors = ['mediumslateblue', 'goldenrod']\n",
    "dtype_cmap = mpl.colors.ListedColormap(dtype_colors)\n",
    "sc.pl.umap(adata_combined, color='dtype', palette=sns.color_palette(dtype_colors),ax=ax, size=1)\n",
    "f.savefig(\"/home/user/Dropbox/zhuang_lab/aging/aging_atlas_paper/figures_int/fig3_dtype.png\", bbox_inches='tight', dpi=200)\n",
    "\n",
    "f,ax = plt.subplots(figsize=(5,5))\n",
    "\n",
    "dtype_colors_temp = ['mediumslateblue']\n",
    "dtype_cmap_temp = mpl.colors.ListedColormap(dtype_colors)\n",
    "sc.pl.umap(adata_combined[adata_combined.obs.dtype=='merfish'], color='clust_annot', palette=clust_pals,ax=ax, size=5,legend_loc='bottom')\n",
    "ax.axis('off')\n",
    "ax.set_title('')\n",
    "f.savefig(\"/home/user/Dropbox/zhuang_lab/aging/aging_atlas_paper/figures_int/fig3_dtype_merfish.png\", bbox_inches='tight', dpi=200)\n",
    "\n",
    "\n",
    "f,ax = plt.subplots(figsize=(5,5))\n",
    "\n",
    "dtype_colors = [ 'goldenrod']\n",
    "_, _, _, clust_pals10x = generate_palettes(adata_combined[adata_combined.obs.dtype=='scrnaseq'])\n",
    "sc.pl.umap(adata_combined[adata_combined.obs.dtype=='scrnaseq'], color='clust_annot', palette=clust_pals,ax=ax, size=5,legend_loc='bottom')\n",
    "ax.axis('off')\n",
    "ax.set_title('')\n",
    "f.savefig(\"/home/user/Dropbox/zhuang_lab/aging/aging_atlas_paper/figures_int/fig3_dtype_scrnaseq.png\", bbox_inches='tight', dpi=200)\n",
    "\n",
    "f,ax = plt.subplots(figsize=(5,5))\n",
    "\n",
    "sc.pl.umap(adata_combined, color=['clust_annot'], palette=clust_pals, size=1, legend_loc='bottom',ax=ax)\n",
    "ax.axis('off')\n",
    "ax.set_title('')\n",
    "f.savefig(\"/home/user/Dropbox/zhuang_lab/aging/aging_atlas_paper/figures_int/fig3_clust.png\", bbox_inches='tight', dpi=200)"
   ]
  },
  {
   "cell_type": "code",
   "execution_count": null,
   "metadata": {},
   "outputs": [],
   "source": [
    "# Cleanup all sections\n"
   ]
  },
  {
   "cell_type": "code",
   "execution_count": null,
   "metadata": {
    "scrolled": true
   },
   "outputs": [],
   "source": [
    "#adata_combined.obs[\"smoothed_spatial_clust_annot_values\"] = np.nan\n",
    "for i in adata_combined.obs.batch.unique():\n",
    "    print(i)\n",
    "    if i > 0:\n",
    "        curr_adata = adata_combined[adata_combined.obs.batch==i]\n",
    "        for j in curr_adata.obs.slice.unique():\n",
    "            A_section = curr_adata[np.logical_and(curr_adata.obs.slice==j, curr_adata.obs.spatial_clust_annots.isin(['L2/3','L5','L6']))]\n",
    "            A_section = cleanup_section(A_section,50)\n",
    "            adata_combined.obs.loc[A_section.obs.index, \"smoothed_spatial_clust_annot_values\"] = np.array(A_section.obs[\"smoothed_spatial_clust_annot_values\"])\n",
    "adata_combined.obs['spatial_clust_annots_value'] = adata_combined.obs.smoothed_spatial_clust_annot_values"
   ]
  },
  {
   "cell_type": "code",
   "execution_count": null,
   "metadata": {},
   "outputs": [],
   "source": [
    "curr_adata = adata_combined[np.logical_and(adata_combined.obs.batch==12, adata_combined.obs.slice==1)]\n",
    "plt.scatter(curr_adata.obsm['spatial'][:,0],curr_adata.obsm['spatial'][:,1],c=curr_adata.obs.spatial_clust_annots_value,s=1,cmap=plt.cm.rainbow)"
   ]
  },
  {
   "cell_type": "markdown",
   "metadata": {},
   "source": [
    "# Fig. 2: MERFISH Expression matrix"
   ]
  },
  {
   "cell_type": "code",
   "execution_count": null,
   "metadata": {},
   "outputs": [],
   "source": [
    "# make dendrogram of cell types for MERFISH\n",
    "# compute average of cell type markers\n",
    "import seaborn as sns\n",
    "adata_subset_celltype = adata_combined#[:, celltype_markers]\n",
    "clust_avg = []\n",
    "clust_ids = sorted(adata_subset_celltype.obs.clust_annot.unique())\n",
    "for i in clust_ids:\n",
    "    clust_avg.append(adata_subset_celltype[adata_subset_celltype.obs.clust_annot == i].X.mean(0))\n",
    "# make dendrogram\n",
    "clust_avg = np.vstack(clust_avg)"
   ]
  },
  {
   "cell_type": "code",
   "execution_count": null,
   "metadata": {},
   "outputs": [],
   "source": [
    "from scipy.spatial.distance import pdist\n",
    "import scipy.cluster.hierarchy as hc\n",
    "\n",
    "D = pdist(clust_avg,'correlation')\n",
    "Z = hc.linkage(D,'complete',optimal_ordering=True)\n",
    "#label_colors['NA'] = (0,0,0)"
   ]
  },
  {
   "cell_type": "code",
   "execution_count": null,
   "metadata": {},
   "outputs": [],
   "source": [
    "dn = hc.dendrogram(Z)\n"
   ]
  },
  {
   "cell_type": "code",
   "execution_count": null,
   "metadata": {},
   "outputs": [],
   "source": [
    "lbl_order = [clust_ids[c] for c in dn['leaves']]"
   ]
  },
  {
   "cell_type": "markdown",
   "metadata": {},
   "source": [
    "## Fraction of cell types per age"
   ]
  },
  {
   "cell_type": "code",
   "execution_count": null,
   "metadata": {
    "scrolled": true
   },
   "outputs": [],
   "source": [
    "# compute fraction of each cluster per age and per brain area\n",
    "n_bins = 100\n",
    "frac_per_age = np.zeros((len(lbl_order), n_bins))\n",
    "#frac4 = total_4wk/(total_90wk+total_24wk+total_4wk)\n",
    "#frac24 = total_24wk/(total_90wk+total_24wk+total_4wk)\n",
    "#frac90 = total_90wk/(total_90wk+total_24wk+total_4wk)\n",
    "\n",
    "total_90wk = np.sum(adata_combined.obs.age=='90wk')\n",
    "total_24wk = np.sum(adata_combined.obs.age=='24wk')\n",
    "total_4wk = np.sum(adata_combined.obs.age=='4wk')\n",
    "\n",
    "for n,c in enumerate(lbl_order):\n",
    "    curr_clust = adata_combined[adata_combined.obs.clust_annot==c]\n",
    "    # count fraction of total cells that are in this area for each age\n",
    "    curr4 = np.sum(curr_clust.obs.age == \"4wk\")/curr_clust.shape[0] #np.sum(adata_combined.obs.age == \"4wk\")\n",
    "    curr24 = np.sum(curr_clust.obs.age == \"24wk\")/curr_clust.shape[0] #np.sum(adata_combined.obs.age == \"24wk\")\n",
    "    curr90 = np.sum(curr_clust.obs.age == \"90wk\")/curr_clust.shape[0] #np.sum(adata_combined.obs.age == \"90wk\")\n",
    "    \n",
    "    # scale based on the relative number of cells in each age in the total experiment\n",
    "    denom = total_4wk + total_24wk + total_90wk\n",
    "    curr4 /= total_4wk\n",
    "    curr24 /= total_24wk\n",
    "    curr90 /= total_90wk\n",
    "    denom = curr4+curr24+curr90\n",
    "    curr4 /= denom\n",
    "    curr24 /= denom\n",
    "    curr90 /= denom\n",
    "    nbins90 = int(round(n_bins*curr90))\n",
    "    nbins24 = int(round(n_bins*curr24))\n",
    "    print(n, c, curr4, curr24, curr90)\n",
    "    frac_per_age[n,:] = np.hstack([2*np.ones(nbins90),\n",
    "                                   np.ones(nbins24), \n",
    "                                   np.zeros(n_bins-nbins90-nbins24)])\n"
   ]
  },
  {
   "cell_type": "code",
   "execution_count": null,
   "metadata": {},
   "outputs": [],
   "source": [
    "# fraction of cells in MERFISH vs scRNAseq\n",
    "frac_per_dtype = np.zeros((len(lbl_order), n_bins))\n",
    "\n",
    "for n,c in enumerate(lbl_order):\n",
    "    curr_clust = adata_combined[adata_combined.obs.clust_annot==c]\n",
    "    curr_merfish = np.sum(curr_clust.obs.dtype == \"merfish\")/curr_clust.shape[0] #np.sum(adata_combined.obs.age == \"4wk\")\n",
    "    curr_10x = np.sum(curr_clust.obs.dtype == \"scrnaseq\")/curr_clust.shape[0] #np.sum(adata_combined.obs.age == \"4wk\")\n",
    "\n",
    "    curr_merfish /= np.sum(adata_combined.obs.dtype=='merfish')\n",
    "    curr_10x /=  np.sum(adata_combined.obs.dtype=='scrnaseq')\n",
    "    denom = curr_merfish + curr_10x\n",
    "    curr_merfish /= denom\n",
    "    curr_10x /= denom\n",
    "    print(n, c, curr_merfish, curr_10x)\n",
    "    frac_per_dtype[n,:] = np.hstack([np.zeros(round(n_bins*(curr_merfish))), \n",
    "                                   np.ones(round(n_bins*(1-curr_merfish)))])\n"
   ]
  },
  {
   "cell_type": "code",
   "execution_count": null,
   "metadata": {},
   "outputs": [],
   "source": [
    "def unbinarize_strings(A):\n",
    "    A.var_names = [i.decode('ascii') for i in A.var_names]\n",
    "    A.obs.index = [i.decode('ascii') for i in A.obs.index]\n",
    "    for i in A.obs.columns:\n",
    "        if A.obs[i].dtype != np.dtype('bool') and \\\n",
    "            A.obs[i].dtype != np.dtype('int64') and \\\n",
    "            A.obs[i].dtype != np.dtype('int32') and \\\n",
    "            A.obs[i].dtype != np.dtype('object_') and \\\n",
    "            A.obs[i].dtype != np.dtype('float64') and A.obs[i].dtype != np.dtype('float32'):\n",
    "            if A.obs[i].dtype.is_dtype('category'):\n",
    "                try:\n",
    "                    A.obs[i] = [i.decode('ascii') for i in A.obs[i]]\n",
    "                except Exception as e:\n",
    "                    pass\n",
    "    return A\n"
   ]
  },
  {
   "cell_type": "code",
   "execution_count": null,
   "metadata": {},
   "outputs": [],
   "source": [
    "adata_raw_merfish = ad.read_h5ad(\"/faststorage/brain_aging/merfish/exported/011722_merged_combined_merfish_with_doublet_umap_allages.h5ad\")\n"
   ]
  },
  {
   "cell_type": "code",
   "execution_count": null,
   "metadata": {},
   "outputs": [],
   "source": [
    "adata_raw_merfish = unbinarize_strings(adata_raw_merfish)\n",
    "#adata_combined = unbinarize_strings(adata_combined)"
   ]
  },
  {
   "cell_type": "code",
   "execution_count": null,
   "metadata": {},
   "outputs": [],
   "source": [
    "adata_raw_merfish = ad.read_h5ad(\"/faststorage/brain_aging/merfish/exported/011722_merged_combined_merfish_with_doublet_umap_allages.h5ad\")\n",
    "\n",
    "adata_raw_merfish = adata_raw_merfish[adata_combined[adata_combined.obs.dtype==\"merfish\"].obs.index]\n",
    "adata_combined_merfish = adata_combined[adata_combined.obs.dtype=='merfish']\n",
    "adata_combined_merfish.X = adata_raw_merfish.X#adata_combined_merfish.uns['raw_merfish_X']"
   ]
  },
  {
   "cell_type": "code",
   "execution_count": null,
   "metadata": {},
   "outputs": [],
   "source": [
    "# make values for dotplot\n",
    "dotplot_genes = [\n",
    "'Slc17a7',\n",
    "    'Gad2',\n",
    "    'Cux2',\n",
    " 'Rspo1',\n",
    " 'Scube1',\n",
    " 'Fezf2',\n",
    " 'Ndst4',\n",
    " 'Nxph4',\n",
    " 'Hs3st4',\n",
    " 'Tshz2',\n",
    " 'Chat',\n",
    " 'Ptpru',\n",
    " 'Sst',\n",
    " 'Pvalb',\n",
    " 'Syt6',\n",
    " 'Cpne7',\n",
    " 'Lamp5',\n",
    " 'Lhx6',\n",
    " 'Vip',\n",
    " 'Adarb2',\n",
    " 'Calb2',\n",
    " 'Otof',\n",
    " 'Drd1',\n",
    " 'Adora2a',\n",
    " 'Pdgfra',\n",
    " 'Olig1',\n",
    " 'Rorb',\n",
    " 'Aqp4',\n",
    " 'Foxj1',\n",
    " 'Cspg4',\n",
    " 'Vtn',\n",
    " 'Cldn5',\n",
    " 'F13a1',\n",
    " 'Cd3e',\n",
    " 'Ctss']\n",
    "\n",
    "from scipy.stats import zscore\n",
    "#              categories_order=lbl_order, groupby='clust_label', swap_axes=True, ax=ax)\n",
    "dotplot_vals = np.zeros((len(dotplot_genes), len(lbl_order)))\n",
    "dotplot_frac = np.zeros((len(dotplot_genes), len(lbl_order)))\n",
    "\n",
    "for n,i in enumerate(lbl_order):\n",
    "    dotplot_vals[:,n] = np.mean(adata_combined_merfish[adata_combined_merfish.obs.clust_annot == i][:, dotplot_genes].X.toarray(),0)\n",
    "    dotplot_frac[:,n] = np.sum(adata_combined_merfish[adata_combined_merfish.obs.clust_annot == i][:, dotplot_genes].X.toarray()>0,0)/np.sum(adata_combined_merfish.obs.clust_annot == i)\n",
    "for n,i in enumerate(dotplot_genes):\n",
    "    dotplot_vals[n,:] = zscore(dotplot_vals[n,:])\n",
    "    #dotplot_vals[n,:] /= dotplot_vals[n,:].max()\n",
    "max_idx = np.arange(len(dotplot_genes))\n",
    "\n",
    "# uncomment optimize order\n",
    "#from scipy.optimize import linear_sum_assignment\n",
    "#_, max_idx = linear_sum_assignment(-dotplot_frac.T)\n",
    "#dotplot_genes = [dotplot_genes[i] for i in max_idx]\n"
   ]
  },
  {
   "cell_type": "code",
   "execution_count": null,
   "metadata": {},
   "outputs": [],
   "source": [
    "from scipy.stats import ttest_ind, ranksums, fisher_exact, chisquare\n",
    "from statsmodels.stats.proportion import proportions_ztest, test_proportions_2indep"
   ]
  },
  {
   "cell_type": "code",
   "execution_count": null,
   "metadata": {},
   "outputs": [],
   "source": [
    "# get significance star\n",
    "adata_obs = adata_combined.obs.copy()\n",
    "adata_obs = adata_obs[adata_obs.dtype==\"merfish\"]\n",
    "clust_names = adata_obs.clust_annot.unique()\n",
    "change_freq_pvals = []\n",
    "change_freq_names = []\n",
    "for k in clust_names:\n",
    "    #curr4 = []\n",
    "    #curr90 = []\n",
    "    curr_obs = adata_obs[adata_obs.clust_annot==k]\n",
    "    n4 = np.sum(adata_obs.age=='4wk')\n",
    "    n90 = np.sum(adata_obs.age=='90wk')\n",
    "    curr4 = np.sum(curr_obs[curr_obs.age=='4wk'].clust_annot==k)#/curr_obs.shape[0]\n",
    "    curr90 = np.sum(curr_obs[curr_obs.age=='90wk'].clust_annot==k)#/curr_obs.shape[0]\n",
    "    #for j in curr_obs.batch.unique():\n",
    "    #    temp = curr_obs[curr_obs.batch == j]\n",
    "    #    counts = 100*np.sum(temp.clust_annot==k)/curr_obs.shape[0]\n",
    "    #    if temp.age[0] == '4wk':\n",
    "    #        curr4.append(counts)\n",
    "    #    elif temp.age[0] == '90wk':\n",
    "    #        curr90.append(counts)\n",
    "    #change_freq_pvals.append(ttest_ind(curr4, curr90)[1])\n",
    "    change_freq_pvals.append(test_proportions_2indep(curr4, n4, curr90, n4)[1])\n",
    "    change_freq_names.append(k)\n",
    "    "
   ]
  },
  {
   "cell_type": "code",
   "execution_count": null,
   "metadata": {},
   "outputs": [],
   "source": [
    "#change_freq_pvals = multipletests(change_freq_pvals,method='fdr_by')[1]"
   ]
  },
  {
   "cell_type": "code",
   "execution_count": null,
   "metadata": {},
   "outputs": [],
   "source": [
    "change_freq_pvals = np.array(change_freq_pvals)"
   ]
  },
  {
   "cell_type": "code",
   "execution_count": null,
   "metadata": {},
   "outputs": [],
   "source": [
    "change_freq_pvals"
   ]
  },
  {
   "cell_type": "code",
   "execution_count": null,
   "metadata": {},
   "outputs": [],
   "source": [
    "change_freq_qvals = multipletests(change_freq_pvals,method='fdr_bh')[1]"
   ]
  },
  {
   "cell_type": "code",
   "execution_count": null,
   "metadata": {},
   "outputs": [],
   "source": [
    "signif_change = list(np.array(change_freq_names)[change_freq_qvals<0.05])"
   ]
  },
  {
   "cell_type": "code",
   "execution_count": null,
   "metadata": {},
   "outputs": [],
   "source": [
    "sns.set_style('white')"
   ]
  },
  {
   "cell_type": "code",
   "execution_count": null,
   "metadata": {},
   "outputs": [],
   "source": [
    "lbl_order_starred = [i  if i in signif_change else i for i in lbl_order]\n"
   ]
  },
  {
   "cell_type": "code",
   "execution_count": null,
   "metadata": {},
   "outputs": [],
   "source": [
    "#f,ax = plt.subplots(figsize=(20,2.5), nrows=3, ncols=1)\n",
    "dotscale = 35\n",
    "f = plt.figure(figsize=(8,8))\n",
    "gs = plt.GridSpec(nrows=5, ncols=1, height_ratios=[5,1,30,6,6], hspace=0.1)\n",
    "ax = plt.subplot(gs[0])\n",
    "\n",
    "hc.dendrogram(Z,ax=ax,labels=clust_ids,leaf_font_size=10,color_threshold=0,above_threshold_color='k');\n",
    "sns.despine(ax=ax,left=True)\n",
    "ax.axis('off')\n",
    "lbl_order = []\n",
    "for lbl in plt.gca().get_xmajorticklabels():\n",
    "    if lbl != 'NA':\n",
    "        #lbl.set_color(label_colors[lbl.get_text()])\n",
    "        lbl_order.append(lbl.get_text())\n",
    "ax = plt.subplot(gs[1])\n",
    "\n",
    "curr_cols = mpl.colors.ListedColormap([label_colors[c] for c in lbl_order])\n",
    "ax.imshow(np.expand_dims(np.arange(len(label_colors.keys())),1).T, cmap=curr_cols,aspect='auto',interpolation='none')\n",
    "#ax.axis('off')\n",
    "ax.set_yticklabels([])\n",
    "ax.set_xticks(np.arange(len(lbl_order)))\n",
    "ax.set_xticklabels([np.sum(adata_combined.obs.clust_annot==c) for c in lbl_order],rotation=90)\n",
    "sns.despine(ax=ax,left=True)\n",
    "ax = plt.subplot(gs[2])\n",
    "\n",
    "for i in range(dotplot_vals.shape[1]):\n",
    "    plt.scatter( i*np.ones((dotplot_vals.shape[0])),-np.arange(dotplot_vals.shape[0]), c=dotplot_vals[max_idx,:][:,i], s=dotscale*dotplot_frac[max_idx,:][:,i], cmap=plt.cm.seismic, vmin=-5,vmax=5)\n",
    "ax.set_yticks(-np.arange(len(dotplot_genes)));\n",
    "ax.set_yticklabels(dotplot_genes, fontsize=8)\n",
    "ax.set_xlim([-0.5, dotplot_vals.shape[1]-0.5])\n",
    "ax.set_xticks([])\n",
    "sns.despine(ax=ax,bottom=True)\n",
    "#ax.axis('off')\n",
    "\n",
    "# age\n",
    "ax = plt.subplot(gs[3])\n",
    "ax.imshow(frac_per_age.T, vmin=0,vmax=2,aspect='auto',interpolation='none', cmap=age_cmap)\n",
    "ax.set_yticklabels([])\n",
    "ax.set_xticks([])\n",
    "#ax.set_xticklabels(lbl_order,rotation=90); #[str(np.sum(adata.obs.clust_label==i)) + \" \" + i for i in lbl_order])\n",
    "ax.axhline(33,color='w',linestyle='--')\n",
    "ax.axhline(66,color='w',linestyle='--')\n",
    "sns.despine(ax=ax, left=True)\n",
    "\n",
    "# dtype\n",
    "ax = plt.subplot(gs[4])\n",
    "ax.imshow(frac_per_dtype.T, vmin=0,vmax=1,aspect='auto',interpolation='none', cmap=dtype_cmap)\n",
    "ax.set_yticklabels([])\n",
    "ax.set_xticks(np.arange(len(lbl_order)))\n",
    "ax.set_xticklabels(lbl_order,rotation=90); #[str(np.sum(adata.obs.clust_label==i)) + \" \" + i for i in lbl_order])\n",
    "ax.axhline(50,color='w',linestyle='--')\n",
    "\n",
    "sns.despine(ax=ax, left=True)\n",
    "for lbl in plt.gca().get_xmajorticklabels():\n",
    "    if lbl != 'NA':\n",
    "        lbl.set_color(label_colors[lbl.get_text()])\n",
    "    #if lbl.get_text() in signif_change:\n",
    "    #    lbl.set_text(\"* \" + lbl.get_text())\n",
    "ax.set_xticklabels(lbl_order_starred,rotation=90); #[str(np.sum(adata.obs.clust_label==i)) + \" \" + i for i in lbl_order])\n",
    "\n",
    "f.savefig('/home/user/Dropbox/zhuang_lab/aging/aging_atlas_paper/figures_int/fig3_cluster_heatmap.pdf',bbox_inches='tight', dpi=200)"
   ]
  },
  {
   "cell_type": "code",
   "execution_count": null,
   "metadata": {},
   "outputs": [],
   "source": [
    "age_pal = sns.color_palette(age_colors)\n"
   ]
  },
  {
   "cell_type": "code",
   "execution_count": null,
   "metadata": {},
   "outputs": [],
   "source": [
    "# show per-batch number of cells for certain cell types\n",
    "import pandas as pd\n",
    "adata_obs = adata_combined.obs.copy()\n",
    "adata_obs = adata_obs[adata_obs.dtype==\"merfish\"]\n",
    "clust_names = sorted(adata_obs.clust_annot.unique())\n",
    "ct_counts = []\n",
    "ages = []\n",
    "clusts = []\n",
    "for k in clust_names:\n",
    "    for i in ['4wk','24wk','90wk']:\n",
    "        curr_obs = adata_obs[adata_obs.age==i]\n",
    "        for j in curr_obs.batch.unique():\n",
    "            temp = curr_obs[curr_obs.batch == j]\n",
    "            ct_counts.append(100*np.sum(temp.clust_annot==k)/temp.shape[0])\n",
    "            ages.append(i)\n",
    "            clusts.append(k)\n",
    "            \n",
    "counts = pd.DataFrame({'count':ct_counts, 'age': ages, 'clust': clusts})\n",
    "f = plt.figure(figsize=(20,20))\n",
    "gs = plt.GridSpec(nrows=7, ncols=7, wspace=0.5,hspace=0.5)\n",
    "for n,i in enumerate(clust_names):\n",
    "    curr_counts = counts[counts.clust==i]\n",
    "    ax = plt.subplot(gs[n])\n",
    "    sns.barplot(x='age',y='count',data=curr_counts,ax=ax, palette=sns.color_palette(age_colors),linewidth=0, errwidth=1,zorder=0)\n",
    "\n",
    "    #sns.scatterplot(x='age',y='count',data=curr_counts,ax=ax,color='k',zorder=1,linewidth=1)\n",
    "\n",
    "    sns.despine(ax=ax)\n",
    "    ax.set_ylabel('')\n",
    "    ax.set_title(i)\n",
    "f.savefig('/home/user/Dropbox/zhuang_lab/aging/aging_atlas_paper/figures_int/figS6_perbatch_counts.pdf',bbox_inches='tight', dpi=200)"
   ]
  },
  {
   "cell_type": "code",
   "execution_count": null,
   "metadata": {},
   "outputs": [],
   "source": [
    "# show normalized fraction of cell types for each time point\n",
    "# compute fraction of each cluster per age and per brain area\n",
    "n_bins = 100\n",
    "frac_per_age = np.zeros((len(lbl_order), n_bins))\n",
    "#frac4 = total_4wk/(total_90wk+total_24wk+total_4wk)\n",
    "#frac24 = total_24wk/(total_90wk+total_24wk+total_4wk)\n",
    "#frac90 = total_90wk/(total_90wk+total_24wk+total_4wk)\n",
    "\n",
    "total_90wk = np.sum(adata_combined.obs.age=='90wk')\n",
    "total_24wk = np.sum(adata_combined.obs.age=='24wk')\n",
    "total_4wk = np.sum(adata_combined.obs.age=='4wk')\n",
    "frac_per_age = []\n",
    "for n,c in enumerate(lbl_order):\n",
    "    curr_clust = adata_combined[adata_combined.obs.clust_annot==c]\n",
    "    # count fraction of total cells that are in this area for each age\n",
    "    curr4 = np.sum(curr_clust.obs.age == \"4wk\")/curr_clust.shape[0] #np.sum(adata_combined.obs.age == \"4wk\")\n",
    "    curr24 = np.sum(curr_clust.obs.age == \"24wk\")/curr_clust.shape[0] #np.sum(adata_combined.obs.age == \"24wk\")\n",
    "    curr90 = np.sum(curr_clust.obs.age == \"90wk\")/curr_clust.shape[0] #np.sum(adata_combined.obs.age == \"90wk\")\n",
    "    \n",
    "    # scale based on the relative number of cells in each age in the total experiment\n",
    "    denom = total_4wk + total_24wk + total_90wk\n",
    "    curr4 /= total_4wk\n",
    "    curr24 /= total_24wk\n",
    "    curr90 /= total_90wk\n",
    "    denom = curr4+curr24+curr90\n",
    "    curr4 /= denom\n",
    "    curr24 /= denom\n",
    "    curr90 /= denom\n",
    "    nbins90 = int(round(n_bins*curr90))\n",
    "    nbins24 = int(round(n_bins*curr24))\n",
    "    frac_per_age.append((curr4, curr24, curr90))\n",
    "frac_per_age = np.vstack(frac_per_age)"
   ]
  },
  {
   "cell_type": "code",
   "execution_count": null,
   "metadata": {},
   "outputs": [],
   "source": [
    "clust_colors = [label_colors[i] for i in lbl_order]\n",
    "plt.figure(figsize=(10,1))\n",
    "for i in range(frac_per_age.shape[0]):\n",
    "    print(clust_colors[i])\n",
    "    plt.scatter(i*np.ones(3), 0.1*np.arange(3), s=100*frac_per_age[i,:], c=i*np.ones(3),cmap=mpl.colors.ListedColormap(clust_colors),vmin=0,vmax=len(clust_colors))\n",
    "plt.ylim([-0.1,0.3])"
   ]
  },
  {
   "cell_type": "code",
   "execution_count": null,
   "metadata": {},
   "outputs": [],
   "source": [
    "adata_combined.obs.batch.unique()"
   ]
  },
  {
   "cell_type": "code",
   "execution_count": null,
   "metadata": {},
   "outputs": [],
   "source": [
    "## Pie charts\n",
    "import pandas as pd\n",
    "cell_types_young = adata_combined[adata_combined.obs.age=='4wk'].obs.cell_type_annot\n",
    "cell_types_med = adata_combined[adata_combined.obs.age=='24wk'].obs.cell_type_annot\n",
    "cell_types_old = adata_combined[adata_combined.obs.age=='90wk'].obs.cell_type_annot\n"
   ]
  },
  {
   "cell_type": "code",
   "execution_count": null,
   "metadata": {},
   "outputs": [],
   "source": [
    "def count_celltypes(A, age, key='cell_type'):\n",
    "    counts = {\n",
    "    \"Inhibitory\":0,\n",
    "    \"Excitatory\":0,\n",
    "    \"MSN\":0,\n",
    "    \"Non-neuronal\":0\n",
    "    }\n",
    "    cell_types = A[A.obs.age==age].obs[key]\n",
    "    for i in cell_types:\n",
    "        if \"ExN\" in i:\n",
    "            counts[\"Excitatory\"] += 1\n",
    "        elif \"InN\" in i:\n",
    "            counts[\"Inhibitory\"] += 1\n",
    "        elif \"MSN\" in i:\n",
    "            counts[\"MSN\"] += 1\n",
    "        else:\n",
    "            counts[\"Non-neuronal\"] += 1\n",
    "    return pd.DataFrame({ 'counts':list(counts.values())},index=list(counts.keys()))"
   ]
  },
  {
   "cell_type": "code",
   "execution_count": null,
   "metadata": {},
   "outputs": [],
   "source": [
    "def simplify_celltypes(A, age, key='cell_type'):\n",
    "    celltypes = []\n",
    "    for i in A[A.obs.age==age].obs[key]:\n",
    "        if \"ExN\" in i:\n",
    "            celltypes.append(\"ExN\")\n",
    "        elif \"InN\" in i:\n",
    "            celltypes.append(\"InN\")\n",
    "        elif \"MSN\" in i:\n",
    "            celltypes.append(\"MSN\")\n",
    "        #else:\n",
    "        #    celltypes.append(\"Non-neuronal\")\n",
    "\n",
    "    return pd.DataFrame({'cell_type':celltypes, 'count':np.ones(len(celltypes)), 'age':age})\n",
    "\n",
    "def simplify_clusts(A, age, key='cell_type'):\n",
    "    celltypes = list(A[A.obs.age==age].obs[key])\n",
    "    return pd.DataFrame({'cell_type':celltypes, 'count':np.ones(len(celltypes)), 'age':age})"
   ]
  },
  {
   "cell_type": "code",
   "execution_count": null,
   "metadata": {},
   "outputs": [],
   "source": [
    "young_ct = simplify_celltypes(adata_combined, '4wk')\n",
    "med_ct = simplify_celltypes(adata_combined, '24wk')\n",
    "old_ct = simplify_celltypes(adata_combined, '90wk')\n",
    "combined_ct = pd.concat([young_ct, med_ct, old_ct])"
   ]
  },
  {
   "cell_type": "code",
   "execution_count": null,
   "metadata": {},
   "outputs": [],
   "source": [
    "colors=[celltype_colors[i] for i in [\"ExN\",\"InN\",\"MSN\"]]# + [np.array([0.7, 0.7, 0.7])]"
   ]
  },
  {
   "cell_type": "code",
   "execution_count": null,
   "metadata": {},
   "outputs": [],
   "source": [
    "#f = plt.figure(figsize=(3,3))\n",
    "#gs = plt.GridSpec(ncols=3, nrows=1, wspace=0.1)\n",
    "#ax = plt.subplot(gs[0])\n",
    "#sns.histplot(x='age',data=young_ct,multiple='stack',hue='cell_type',palette=sns.color_palette(colors), linewidth=0,hue_order=[\"ExN\", \"InN\",\"MSN\",\"Non-neuronal\"], stat='percent',legend=None, ax=ax)\n",
    "#sns.despine(ax=ax)\n",
    "#ax = plt.subplot(gs[1])\n",
    "#sns.histplot(x='age',data=med_ct,multiple='stack',hue='cell_type',palette=sns.color_palette(colors), linewidth=0,hue_order=[\"ExN\", \"InN\",\"MSN\",\"Non-neuronal\"],stat='percent',legend=None, ax=ax)\n",
    "#sns.despine(ax=ax,left=True)\n",
    "#ax.set_yticks([])\n",
    "#ax.set_ylabel('')\n",
    "#ax = plt.subplot(gs[2])\n",
    "#sns.histplot(x='age',data=old_ct,multiple='stack',hue='cell_type',palette=sns.color_palette(colors), linewidth=0,hue_order=[\"ExN\", \"InN\",\"MSN\",\"Non-neuronal\"],stat='percent',legend=None, ax=ax)\n",
    "#sns.despine(ax=ax, left=True)\n",
    "#ax.set_yticks([])\n",
    "#ax.set_ylabel('')\n",
    "#f.savefig(\"/home/user/Dropbox/zhuang_lab/aging/aging_atlas_paper/figures_int/fig2_celltype_barplot.pdf\",bbox_inches='tight', dpi=200)"
   ]
  },
  {
   "cell_type": "code",
   "execution_count": null,
   "metadata": {},
   "outputs": [],
   "source": [
    "f, axes = plt.subplots(figsize=(8,24), nrows=1, ncols=3, gridspec_kw={'wspace':0.1})\n",
    "young_ct_agg = young_ct.value_counts().reset_index()\n",
    "axes[0].pie(young_ct_agg[0],colors=[celltype_colors[i] for i in young_ct_agg.cell_type], labels=young_ct_agg.cell_type);\n",
    "\n",
    "med_ct_agg = med_ct.value_counts().reset_index()\n",
    "axes[1].pie(med_ct_agg[0],colors=[celltype_colors[i] for i in med_ct_agg.cell_type], labels=med_ct_agg.cell_type);\n",
    "\n",
    "old_ct_agg = old_ct.value_counts().reset_index()\n",
    "axes[2].pie(old_ct_agg[0],colors=[celltype_colors[i] for i in old_ct_agg.cell_type], labels=old_ct_agg.cell_type);\n",
    "f.savefig(\"/home/user/Dropbox/zhuang_lab/aging/aging_atlas_paper/figures_int/fig1_celltype_comp_neuronal.pdf\", bbox_inches='tight')"
   ]
  },
  {
   "cell_type": "code",
   "execution_count": null,
   "metadata": {},
   "outputs": [],
   "source": [
    "adata_nonneuronal = adata_combined[~adata_combined.obs.cell_type.isin(['ExN',\"InN\",\"MSN\"])]\n",
    "young_ct = simplify_clusts(adata_nonneuronal, '4wk')\n",
    "med_ct = simplify_clusts(adata_nonneuronal, '24wk')\n",
    "old_ct = simplify_clusts(adata_nonneuronal, '90wk')\n",
    "combined_ct = pd.concat([young_ct, med_ct, old_ct])"
   ]
  },
  {
   "cell_type": "code",
   "execution_count": null,
   "metadata": {},
   "outputs": [],
   "source": [
    "#non_neuronal_celltypes = list(combined_ct.cell_type.unique())\n",
    "non_neuronal_celltypes = ['Olig',\n",
    "                           'OPC',\n",
    " 'Astro',\n",
    " 'Epen',\n",
    " 'Vlmc',\n",
    " 'Endo',\n",
    " 'Peri',\n",
    " 'Micro',\n",
    " 'Macro',\n",
    " 'T cell',\n",
    "]\n",
    "\n",
    "non_neuronal_celltype_colors = [celltype_colors[i] for i in non_neuronal_celltypes]"
   ]
  },
  {
   "cell_type": "code",
   "execution_count": null,
   "metadata": {},
   "outputs": [],
   "source": [
    "sc.pl.umap(adata_combined, color='cell_type',palette=celltype_pals)"
   ]
  },
  {
   "cell_type": "code",
   "execution_count": null,
   "metadata": {},
   "outputs": [],
   "source": [
    "f = plt.figure(figsize=(3,3))\n",
    "gs = plt.GridSpec(ncols=3, nrows=1, wspace=0.1)\n",
    "ax = plt.subplot(gs[0])\n",
    "sns.histplot(x='age',data=young_ct,multiple='stack',hue='cell_type',linewidth=0,palette=sns.color_palette(non_neuronal_celltype_colors), hue_order=non_neuronal_celltypes, stat='percent',legend=None, ax=ax)\n",
    "sns.despine(ax=ax)\n",
    "ax = plt.subplot(gs[1])\n",
    "sns.histplot(x='age',data=med_ct,multiple='stack',hue='cell_type',linewidth=0,palette=sns.color_palette(non_neuronal_celltype_colors), hue_order=non_neuronal_celltypes,stat='percent',legend=None, ax=ax)\n",
    "sns.despine(ax=ax,left=True)\n",
    "ax.set_yticks([])\n",
    "ax.set_ylabel('')\n",
    "ax = plt.subplot(gs[2])\n",
    "sns.histplot(x='age',data=old_ct,multiple='stack',hue='cell_type',linewidth=0,palette=sns.color_palette(non_neuronal_celltype_colors), hue_order=non_neuronal_celltypes,stat='percent',legend=None, ax=ax)\n",
    "sns.despine(ax=ax, left=True)\n",
    "ax.set_yticks([])\n",
    "ax.set_ylabel('')\n",
    "f.savefig(\"/home/user/Dropbox/zhuang_lab/aging/aging_atlas_paper/figures_int/fig2_neurons_barplot_nonneuronal.pdf\",bbox_inches='tight', dpi=200)"
   ]
  },
  {
   "cell_type": "code",
   "execution_count": null,
   "metadata": {},
   "outputs": [],
   "source": [
    "f, axes = plt.subplots(figsize=(8,24), nrows=1, ncols=3, gridspec_kw={'wspace':0.1})\n",
    "young_ct_agg = young_ct.value_counts().reset_index()\n",
    "axes[0].pie(young_ct_agg[0],colors=[celltype_colors[i] for i in young_ct_agg.cell_type], labels=young_ct_agg.cell_type);\n",
    "\n",
    "med_ct_agg = med_ct.value_counts().reset_index()\n",
    "axes[1].pie(med_ct_agg[0],colors=[celltype_colors[i] for i in med_ct_agg.cell_type], labels=med_ct_agg.cell_type);\n",
    "\n",
    "old_ct_agg = old_ct.value_counts().reset_index()\n",
    "axes[2].pie(old_ct_agg[0],colors=[celltype_colors[i] for i in old_ct_agg.cell_type], labels=old_ct_agg.cell_type);\n",
    "f.savefig(\"/home/user/Dropbox/zhuang_lab/aging/aging_atlas_paper/figures_int/fig1_celltype_comp_nonneuronal.pdf\", bbox_inches='tight')"
   ]
  },
  {
   "cell_type": "code",
   "execution_count": null,
   "metadata": {},
   "outputs": [],
   "source": [
    "# for each section, compute area covered by section\n",
    "from scipy.spatial import ConvexHull\n",
    "section_area = {}\n",
    "age_total_area = {}\n",
    "ages = []\n",
    "cell_type = []\n",
    "counts = []\n",
    "all_ct = [\"ExN\", \"InN\",\"MSN\"]#adata_combined.obs.cell_type.unique()\n",
    "for i in np.arange(1, adata_combined.obs.batch.max()):\n",
    "    curr_batch = adata_combined[adata_combined.obs.batch==i]\n",
    "    curr_batch_area = 0\n",
    "    for j in curr_batch.obs.slice.unique():\n",
    "        curr_slice = curr_batch[curr_batch.obs.slice==j]\n",
    "        curr_age = curr_slice.obs.age[0]\n",
    "        hull = ConvexHull(curr_slice.obsm['spatial'])\n",
    "        section_area[(i,j)] = hull.area\n",
    "        if curr_age not in age_total_area:\n",
    "            age_total_area[curr_age] = 0\n",
    "        age_total_area[curr_age] += hull.area\n",
    "        curr_batch_area += hull.area\n",
    "    for ct in all_ct:\n",
    "        counts.append(1000*curr_batch[curr_batch.obs.cell_type==ct].shape[0]/curr_batch_area)\n",
    "        cell_type.append(ct)\n",
    "        ages.append(curr_batch.obs.age.unique()[0])"
   ]
  },
  {
   "cell_type": "code",
   "execution_count": null,
   "metadata": {},
   "outputs": [],
   "source": [
    "area_norm_data = pd.DataFrame({'age':ages,'cell_type':cell_type,'counts':counts})\n"
   ]
  },
  {
   "cell_type": "code",
   "execution_count": null,
   "metadata": {},
   "outputs": [],
   "source": [
    "from scipy.stats import ttest_ind\n",
    "tstats = []\n",
    "for i in all_ct:\n",
    "    curr_ct = area_norm_data[area_norm_data.cell_type==i]\n",
    "    tstats.append(ttest_ind(curr_ct[curr_ct.age=='4wk'].counts, curr_ct[curr_ct.age=='90wk'].counts)[1])\n",
    "tstats = multipletests(tstats, method='fdr_bh')[1]"
   ]
  },
  {
   "cell_type": "code",
   "execution_count": null,
   "metadata": {},
   "outputs": [],
   "source": [
    "age_pal = sns.color_palette(age_colors)\n",
    "\n",
    "sns.barplot(x='cell_type',y='counts',data=area_norm_data,hue='age',palette=age_pal,errwidth=1,order=all_ct,hue_order=['4wk','24wk','90wk'])\n",
    "sns.despine()\n",
    "plt.ylabel('Cells/mm^2')\n",
    "plt.savefig(\"/home/user/Dropbox/zhuang_lab/aging/aging_atlas_paper/figures_int/figS6_area_normalized_counts_neurons.pdf\",bbox_inches='tight')"
   ]
  },
  {
   "cell_type": "code",
   "execution_count": null,
   "metadata": {},
   "outputs": [],
   "source": [
    "# for each section, compute area covered by section\n",
    "from scipy.spatial import ConvexHull\n",
    "section_area = {}\n",
    "age_total_area = {}\n",
    "ages = []\n",
    "cell_type = []\n",
    "counts = []\n",
    "all_ct = [\"ExN\",\"InN\",\"MSN\",\"Olig\", \"Astro\", \"Endo\", \"Micro\",\"OPC\", \"Peri\", \"Vlmc\",\"Epen\",   \"Macro\", \"T cell\"]#adata_combined.obs.cell_type.unique()\n",
    "for i in np.arange(1, adata_combined.obs.batch.max()):\n",
    "    curr_batch = adata_combined[adata_combined.obs.batch==i]\n",
    "    curr_batch_area = 0\n",
    "    for j in curr_batch.obs.slice.unique():\n",
    "        curr_slice = curr_batch[curr_batch.obs.slice==j]\n",
    "        curr_age = curr_slice.obs.age[0]\n",
    "        hull = ConvexHull(curr_slice.obsm['spatial'])\n",
    "        section_area[(i,j)] = hull.area\n",
    "        if curr_age not in age_total_area:\n",
    "            age_total_area[curr_age] = 0\n",
    "        age_total_area[curr_age] += hull.area\n",
    "        curr_batch_area += hull.area\n",
    "    for ct in all_ct:\n",
    "        counts.append(1000*curr_batch[curr_batch.obs.cell_type==ct].shape[0]/curr_batch_area)\n",
    "        cell_type.append(ct)\n",
    "        ages.append(curr_batch.obs.age.unique()[0])"
   ]
  },
  {
   "cell_type": "code",
   "execution_count": null,
   "metadata": {},
   "outputs": [],
   "source": [
    "area_norm_data = pd.DataFrame({'age':ages,'cell_type':cell_type,'counts':counts})\n"
   ]
  },
  {
   "cell_type": "code",
   "execution_count": null,
   "metadata": {},
   "outputs": [],
   "source": [
    "from scipy.stats import ttest_ind\n",
    "tstats = []\n",
    "for i in all_ct:\n",
    "    curr_ct = area_norm_data[area_norm_data.cell_type==i]\n",
    "    tstats.append(ttest_ind(curr_ct[curr_ct.age=='4wk'].counts, curr_ct[curr_ct.age=='90wk'].counts)[1])\n",
    "tstats = multipletests(tstats, method='fdr_bh')[1]"
   ]
  },
  {
   "cell_type": "code",
   "execution_count": null,
   "metadata": {},
   "outputs": [],
   "source": [
    "np.array(all_ct)[tstats<0.05]"
   ]
  },
  {
   "cell_type": "code",
   "execution_count": null,
   "metadata": {},
   "outputs": [],
   "source": [
    "age_pal = sns.color_palette(age_colors)\n",
    "#sns.scatterplot(x='cell_type',y='counts',data=area_norm_data,gr='age',palette=age_pal,hue_order=['4wk','24wk','90wk'])\n",
    "\n",
    "sns.barplot(x='cell_type',y='counts',data=area_norm_data,hue='age',palette=age_pal,errwidth=1,order=all_ct,hue_order=['4wk','24wk','90wk'])\n",
    "sns.despine()\n",
    "plt.ylabel('Cells/mm^2')\n",
    "plt.savefig(\"/home/user/Dropbox/zhuang_lab/aging/aging_atlas_paper/figures_int/figS6_area_normalized_counts.pdf\",bbox_inches='tight')"
   ]
  },
  {
   "cell_type": "code",
   "execution_count": null,
   "metadata": {},
   "outputs": [],
   "source": [
    "age_pal = sns.color_palette(age_colors)\n",
    "\n",
    "area_norm_data = pd.DataFrame({'age':ages,'cell_type':cell_type,'counts':counts})\n",
    "sns.barplot(x='cell_type',y='counts',data=area_norm_data,hue='age',palette=age_pal,errwidth=1,order=['Vlmc','Epen','Macro','T cell'],hue_order=['4wk','24wk','90wk'])\n",
    "sns.despine()\n",
    "plt.ylabel('Cells/mm^2')\n",
    "plt.savefig(\"/home/user/Dropbox/zhuang_lab/aging/aging_atlas_paper/figures_int/figS6_area_normalized_counts_inset.pdf\",bbox_inches='tight')"
   ]
  },
  {
   "cell_type": "code",
   "execution_count": null,
   "metadata": {},
   "outputs": [],
   "source": [
    "area_norm_data_normed = area_norm_data.copy()\n",
    "for i in area_norm_data_normed.cell_type.unique():\n",
    "    curr_ct = area_norm_data_normed[area_norm_data_normed.cell_type==i]\n",
    "    for j in ['4wk','24wk','90wk']:\n",
    "        area_norm_data_normed.loc[np.logical_and(area_norm_data_normed.cell_type==i, area_norm_data_normed.age==j),'counts'] /= curr_ct[curr_ct.age=='4wk'].counts.values[0]"
   ]
  },
  {
   "cell_type": "code",
   "execution_count": null,
   "metadata": {},
   "outputs": [],
   "source": [
    "sns.barplot(x='cell_type',y='counts',data=area_norm_data_normed,hue='age',palette=age_pal)\n",
    "sns.despine()\n",
    "plt.ylabel('Fold change in cells/mm^2 relative to 4 wk')\n",
    "plt.savefig(\"/home/user/Dropbox/zhuang_lab/aging/aging_atlas_paper/figures_int/figS6_fc_area_normalized_counts.pdf\",bbox_inches='tight')"
   ]
  },
  {
   "cell_type": "code",
   "execution_count": null,
   "metadata": {},
   "outputs": [],
   "source": [
    "# for each section, compute area covered by section\n",
    "from scipy.spatial import ConvexHull\n",
    "section_area = {}\n",
    "age_total_area = {}\n",
    "ages = []\n",
    "cell_type = []\n",
    "counts = []\n",
    "all_clust = adata_combined.obs.clust_annot.unique()\n",
    "for i in np.arange(1, adata_combined.obs.batch.max()):\n",
    "    curr_batch = adata_combined[adata_combined.obs.batch==i]\n",
    "    curr_batch_area = 0\n",
    "    for j in curr_batch.obs.slice.unique():\n",
    "        curr_slice = curr_batch[curr_batch.obs.slice==j]\n",
    "        curr_age = curr_slice.obs.age[0]\n",
    "        hull = ConvexHull(curr_slice.obsm['spatial'])\n",
    "        section_area[(i,j)] = hull.area\n",
    "        if curr_age not in age_total_area:\n",
    "            age_total_area[curr_age] = 0\n",
    "        age_total_area[curr_age] += hull.area\n",
    "        curr_batch_area += hull.area\n",
    "    for ct in all_clust:\n",
    "        counts.append(1000*curr_batch[curr_batch.obs.clust_annot==ct].shape[0]/curr_batch_area)\n",
    "        cell_type.append(ct)\n",
    "        ages.append(curr_batch.obs.age.unique()[0])\n"
   ]
  },
  {
   "cell_type": "code",
   "execution_count": null,
   "metadata": {},
   "outputs": [],
   "source": [
    "#from scipy.stats import ttest_ind\n",
    "#tstats = []\n",
    "#for i in all_clust:\n",
    "#    curr_ct = area_norm_data[area_norm_data.cell_type==i]\n",
    "#    tstats.append(ttest_ind(curr_ct[curr_ct.age=='4wk'].counts, curr_ct[curr_ct.age=='90wk'].counts)[1])\n",
    "#tstats = multipletests(tstats, method='fdr_bh')[1]"
   ]
  },
  {
   "cell_type": "code",
   "execution_count": null,
   "metadata": {},
   "outputs": [],
   "source": [
    "np.cumsum()"
   ]
  },
  {
   "cell_type": "code",
   "execution_count": null,
   "metadata": {},
   "outputs": [],
   "source": [
    "f,axes = plt.subplots(nrows=4, ncols=1, figsize=(4,6), gridspec_kw={'wspace':0.1, 'hspace':0.1})\n",
    "k = 0\n",
    "for k,ct in enumerate(['Micro','Astro','Endo', 'Olig']):\n",
    "    ax = axes[k]\n",
    "\n",
    "    for n,i in enumerate(['4wk','24wk','90wk']):\n",
    "        curr_adata = adata_combined[adata_combined.obs.age==i]\n",
    "        curr_adata = curr_adata[curr_adata.obs.cell_type==ct]\n",
    "        df = curr_adata.obs.clust_annot.value_counts()#.plot(kind='pie',ax=ax)\n",
    "        df = df.sort_index()\n",
    "        vals = df.values\n",
    "        vals = vals / vals.sum()\n",
    "        colors = [label_colors[c] for c in df.index]\n",
    "        for j in range(len(df.index)):\n",
    "        #    print(ct, i, vals[j])\n",
    "            if j == 0:\n",
    "                ax.bar(n+0.25, vals[j], 0.5, color=colors[j],bottom=0, align='edge')\n",
    "            else:\n",
    "                ax.bar(n+0.25, vals[j], 0.5, color=colors[j], bottom=np.sum(vals[:j]), align='edge')\n",
    "        #ax.set_ylim([0,1])\n",
    "        ax.axis('off')\n",
    "        #df = df.reset_index()\n",
    "        #sns.histplot(x='clust_annot',data=df,multiple='stack',hue='index',linewidth=0,stat='percent',legend=None, ax=ax)\n",
    "        #ax.pie(df, colors=[label_colors[i] for i in df.index],labels=df.index)\n",
    "f.savefig(\"/home/user/Dropbox/zhuang_lab/aging/aging_atlas_paper/figures_int/fig1_clust_stacked.pdf\",bbox_inches='tight')"
   ]
  },
  {
   "cell_type": "code",
   "execution_count": null,
   "metadata": {},
   "outputs": [],
   "source": [
    "f,axes = plt.subplots(nrows=4, ncols=3, figsize=(12,6), gridspec_kw={'wspace':0.1, 'hspace':0.1})\n",
    "k = 0\n",
    "for k,ct in enumerate(['Micro','Astro','Endo', 'Olig']):\n",
    "    for n,i in enumerate(['4wk','24wk','90wk']):\n",
    "        ax = axes[k,n]\n",
    "        curr_adata = adata_combined[adata_combined.obs.age==i]\n",
    "        curr_adata = curr_adata[curr_adata.obs.cell_type==ct]\n",
    "        df = curr_adata.obs.clust_annot.value_counts()#.plot(kind='pie',ax=ax)\n",
    "        df = df.sort_index()\n",
    "        ax.pie(df, colors=[label_colors[i] for i in df.index],labels=df.index)\n",
    "#f.savefig(\"/home/user/Dropbox/zhuang_lab/aging/aging_atlas_paper/figures_int/fig1_clust_piechart.pdf\",bbox_inches='tight')"
   ]
  },
  {
   "cell_type": "code",
   "execution_count": null,
   "metadata": {},
   "outputs": [],
   "source": [
    "f,axes = plt.subplots(nrows=4, ncols=3, figsize=(12,6), gridspec_kw={'wspace':0.1, 'hspace':0.1})\n",
    "k = 0\n",
    "for k,ct in enumerate(['Micro','Astro','Endo', 'Olig']):\n",
    "    for n,i in enumerate(['4wk','24wk','90wk']):\n",
    "        ax = axes[k,n]\n",
    "        curr_adata = adata_combined[adata_combined.obs.age==i]\n",
    "        curr_adata = curr_adata[curr_adata.obs.cell_type==ct]\n",
    "        df = curr_adata.obs.clust_annot.value_counts()#.plot(kind='pie',ax=ax)\n",
    "        df = df.sort_index()\n",
    "        ax.pie(df, colors=[label_colors[i] for i in df.index],labels=df.index)\n",
    "f.savefig(\"/home/user/Dropbox/zhuang_lab/aging/aging_atlas_paper/figures_int/fig1_clust_piechart.pdf\",bbox_inches='tight')"
   ]
  },
  {
   "cell_type": "code",
   "execution_count": null,
   "metadata": {},
   "outputs": [],
   "source": [
    "# show per-batch number of cells for certain cell types\n",
    "import pandas as pd\n",
    "adata_obs = adata_combined.obs.copy()\n",
    "adata_obs = adata_obs[adata_obs.dtype==\"merfish\"]\n",
    "clust_names = [\"Olig-3\", \"Olig-1\",\"Olig-2\",  \n",
    "               'Micro-2','Micro-1','Micro-3', \n",
    "               'Astro-2','Astro-4','Astro-3',\n",
    "              'Endo-3','Endo-1','Endo-2']\n",
    "#for k in clust_names:\n",
    "#    for i in ['4wk','24wk','90wk']:\n",
    "##        curr_obs = adata_obs[adata_obs.age==i]\n",
    "#        for j in curr_obs.batch.unique():\n",
    "#            temp = curr_obs[curr_obs.batch == j]\n",
    "##            ct_counts.append(100*np.sum(temp.clust_annot==k)/temp.shape[0])\n",
    "#            ages.append(i)\n",
    "#            clusts.append(k)\n",
    "            \n",
    "clust_counts = pd.DataFrame({'counts':counts, 'age': ages, 'clust': cell_type})\n",
    "f = plt.figure(figsize=(6,6))\n",
    "gs = plt.GridSpec(nrows=4, ncols=3, wspace=0.5,hspace=0.5)\n",
    "for n,i in enumerate(clust_names):\n",
    "    curr_counts = clust_counts[clust_counts.clust==i]\n",
    "    ax = plt.subplot(gs[n])\n",
    "    sns.barplot(x='age',y='counts',data=curr_counts,ax=ax,order=['4wk','24wk','90wk'],palette=sns.color_palette(age_colors),linewidth=0, errwidth=1,zorder=0)\n",
    "    #sns.scatterplot(x='age',y='count',data=curr_counts,ax=ax,color='k',zorder=1,linewidth=1)\n",
    "\n",
    "    sns.despine(ax=ax)\n",
    "    ax.set_ylabel('')\n",
    "    ax.set_xlabel('')\n",
    "    ax.set_title(i)\n",
    "f.savefig('/home/user/Dropbox/zhuang_lab/aging/aging_atlas_paper/figures_int/fig3_perbatch_counts.pdf',bbox_inches='tight', dpi=200)"
   ]
  },
  {
   "cell_type": "code",
   "execution_count": null,
   "metadata": {},
   "outputs": [],
   "source": [
    "# show per-batch number of cells for certain cell types\n",
    "import pandas as pd\n",
    "adata_obs = adata_combined.obs.copy()\n",
    "adata_obs = adata_obs[adata_obs.dtype==\"merfish\"]\n",
    "clust_names = [\n",
    "               'Astro-1','Astro-2'\n",
    "              ]\n",
    "#for k in clust_names:\n",
    "#    for i in ['4wk','24wk','90wk']:\n",
    "##        curr_obs = adata_obs[adata_obs.age==i]\n",
    "#        for j in curr_obs.batch.unique():\n",
    "#            temp = curr_obs[curr_obs.batch == j]\n",
    "##            ct_counts.append(100*np.sum(temp.clust_annot==k)/temp.shape[0])\n",
    "#            ages.append(i)\n",
    "#            clusts.append(k)\n",
    "            \n",
    "clust_counts = pd.DataFrame({'counts':counts, 'age': ages, 'clust': cell_type})\n",
    "f = plt.figure(figsize=(6,6))\n",
    "gs = plt.GridSpec(nrows=4, ncols=3, wspace=0.5,hspace=0.5)\n",
    "for n,i in enumerate(clust_names):\n",
    "    curr_counts = clust_counts[clust_counts.clust==i]\n",
    "    ax = plt.subplot(gs[n])\n",
    "    sns.barplot(x='age',y='counts',data=curr_counts,ax=ax,order=['4wk','24wk','90wk'],palette=sns.color_palette(age_colors),linewidth=0, errwidth=1,zorder=0)\n",
    "    #sns.scatterplot(x='age',y='count',data=curr_counts,ax=ax,color='k',zorder=1,linewidth=1)\n",
    "\n",
    "    sns.despine(ax=ax)\n",
    "    ax.set_ylabel('')\n",
    "    ax.set_xlabel('')\n",
    "    ax.set_title(i)\n",
    "f.savefig('/home/user/Dropbox/zhuang_lab/aging/aging_atlas_paper/figures_int/fig3_perbatch_counts.pdf',bbox_inches='tight', dpi=200)"
   ]
  },
  {
   "cell_type": "code",
   "execution_count": null,
   "metadata": {},
   "outputs": [],
   "source": [
    "from scipy.stats import ttest_ind\n",
    "tstats = []\n",
    "for i in all_clust:\n",
    "    curr_ct = clust_counts[clust_counts.clust==i]\n",
    "    tstats.append(ttest_ind(curr_ct[curr_ct.age=='4wk'].counts, curr_ct[curr_ct.age=='90wk'].counts)[1])\n",
    "#tstats = multipletests(tstats, method='fdr_bh')[1]"
   ]
  },
  {
   "cell_type": "code",
   "execution_count": null,
   "metadata": {},
   "outputs": [],
   "source": [
    "pd.DataFrame({'clust':all_clust, 'pval':tstats}).sort_values(\"clust\")"
   ]
  },
  {
   "cell_type": "markdown",
   "metadata": {},
   "source": [
    "# Spatial Organization"
   ]
  },
  {
   "cell_type": "code",
   "execution_count": null,
   "metadata": {},
   "outputs": [],
   "source": [
    "adata_combined_old = adata_combined[adata_combined.obs.age=='90wk']\n",
    "adata_combined_med = adata_combined[adata_combined.obs.age=='90wk']\n",
    "\n",
    "adata_combined_young = adata_combined[adata_combined.obs.age=='4wk']"
   ]
  },
  {
   "cell_type": "code",
   "execution_count": null,
   "metadata": {},
   "outputs": [],
   "source": [
    "from matplotlib import cm\n"
   ]
  },
  {
   "cell_type": "code",
   "execution_count": null,
   "metadata": {},
   "outputs": [],
   "source": [
    "import seaborn as sns\n",
    "import pandas as pd\n",
    "\n",
    "from plotting import *"
   ]
  },
  {
   "cell_type": "code",
   "execution_count": null,
   "metadata": {},
   "outputs": [],
   "source": [
    "clust_encoding = {}\n",
    "for i,v in enumerate(adata_combined.obs.clust_annot.unique()):\n",
    "    clust_encoding[v] = i\n",
    "\n",
    "celltype_encoding = {}\n",
    "for i,v in enumerate(adata_combined.obs.cell_type.unique()):\n",
    "    celltype_encoding[v] = i\n",
    "    \n",
    "\n",
    "adata_combined.obs[\"clust_id\"] = [clust_encoding[i] for i in adata_combined.obs.clust_annot]\n",
    "adata_combined.obs[\"celltype_id\"] = [celltype_encoding[i] for i in adata_combined.obs.cell_type]\n",
    "#adata_annot.obs[\"remapped_celltype_id\"] = [remapped_celltype_encoding[i] for i in adata_annot.obs.remapped_cell_type]"
   ]
  },
  {
   "cell_type": "code",
   "execution_count": null,
   "metadata": {},
   "outputs": [],
   "source": [
    "def plot_obs_by_cells(A, obs_name, s=0.1, cmap=plt.cm.gist_rainbow, show_legend=False, vmax=None, rot=0):\n",
    "    pts = A.obsm['spatial']#np.array([A.obs.center_x, A.obs.center_y]).T\n",
    "    if rot != 0:\n",
    "        pts = rotate(pts, degrees=rot)\n",
    "    pts = pd.DataFrame({'x': pts[:,0], 'y': pts[:,1], 'obs':A.obs[obs_name]})\n",
    "    if vmax is None:\n",
    "        vmax = len(pts.obs.unique())\n",
    "    cols = cmap(np.linspace(0,1,vmax+1))\n",
    "    #for n,i in enumerate(pts.obs.unique()):\n",
    "        #curr_pts = pts[pts.obs==i]\n",
    "    plt.scatter(pts.x,pts.y,s=s,vmin=0,vmax=vmax,c=pts.obs,cmap=cmap)\n",
    "    if show_legend:\n",
    "        plt.legend(pts.obs.unique())\n"
   ]
  },
  {
   "cell_type": "code",
   "execution_count": null,
   "metadata": {},
   "outputs": [],
   "source": [
    "curr_adata = adata_combined[np.logical_and(adata_combined.obs.batch==8, adata_combined.obs.slice==2)]\n",
    "print(curr_adata.obs.age.unique())\n",
    "celltype_cmap = mpl.colors.ListedColormap([celltype_colors[i] for i in adata_combined.obs.cell_type.unique()])\n",
    "plt.figure(figsize=(3,5))\n",
    "plot_obs_by_cells(curr_adata, 'celltype_id',s=1,vmax=adata_combined.obs.celltype_id.max(),\n",
    "                  cmap=celltype_cmap,rot=-187)\n",
    "plt.axis('off')\n",
    "plt.savefig(\"/home/user/Dropbox/zhuang_lab/aging/aging_atlas_paper/figures_int/fig3_majorcelltypes_young_combined.pdf\",dpi=300,bbox_inches='tight')"
   ]
  },
  {
   "cell_type": "code",
   "execution_count": null,
   "metadata": {},
   "outputs": [],
   "source": [
    "curr_adata = adata_combined[np.logical_and(adata_combined.obs.batch==12, adata_combined.obs.slice==1)]\n",
    "plt.figure(figsize=(3,5))\n",
    "print(curr_adata.obs.age.unique())\n",
    "\n",
    "plot_obs_by_cells(curr_adata, 'celltype_id',s=1,vmax=adata_combined.obs.celltype_id.max(),\n",
    "                  cmap=celltype_cmap, rot=-15)\n",
    "plt.axis('off')\n",
    "#plt.savefig(\"/home/user/Dropbox/zhuang_lab/aging/aging_atlas_paper/figures_int/fig3_majorcelltypes_med_combined.pdf\",dpi=300,bbox_inches='tight')"
   ]
  },
  {
   "cell_type": "code",
   "execution_count": null,
   "metadata": {},
   "outputs": [],
   "source": [
    "curr_adata = adata_combined[np.logical_and(adata_combined.obs.batch==9, adata_combined.obs.slice==2)]\n",
    "plt.figure(figsize=(3,5))\n",
    "print(curr_adata.obs.age.unique())\n",
    "\n",
    "plot_obs_by_cells(curr_adata, 'celltype_id',s=1,vmax=adata_combined.obs.celltype_id.max(),\n",
    "                  cmap=celltype_cmap, rot=35)\n",
    "plt.axis('off')\n",
    "plt.savefig(\"/home/user/Dropbox/zhuang_lab/aging/aging_atlas_paper/figures_int/fig3_majorcelltypes_old_combined.pdf\",dpi=300,bbox_inches='tight')"
   ]
  },
  {
   "cell_type": "code",
   "execution_count": null,
   "metadata": {},
   "outputs": [],
   "source": [
    "from plotting import *\n",
    "clust_encoding = {k:i for i,k in enumerate(label_colors.keys())}\n",
    "#celltype_colors, celltype_pals, label_colors, clust_pals = generate_palettes_new(adata)\n",
    "curr_cmap = mpl.colors.ListedColormap([label_colors[i] for i in label_colors.keys()])\n",
    "adata_combined.obs['clust_encoding'] = [clust_encoding[i] for i in adata_combined.obs.clust_annot]"
   ]
  },
  {
   "cell_type": "code",
   "execution_count": null,
   "metadata": {},
   "outputs": [],
   "source": [
    "seg_max = adata_combined.obs.spatial_clust_annots_value.max()"
   ]
  },
  {
   "cell_type": "code",
   "execution_count": null,
   "metadata": {},
   "outputs": [],
   "source": [
    "seg_cmap = mpl.colors.ListedColormap([ 'gold', 'orange', 'chocolate', 'brown', 'steelblue','gray',  'purple', 'darkkhaki'])"
   ]
  },
  {
   "cell_type": "code",
   "execution_count": null,
   "metadata": {},
   "outputs": [],
   "source": [
    "def plot_seg(A, cmap, ax=None, rot=0, s=0.1, xlim=None, ylim=None,key='spatial_clust_annots_value',vmax=7):\n",
    "    if ax is None:\n",
    "        f,ax = plt.subplots()\n",
    "    all_pts = A.obsm['spatial'].copy()#np.array([A.obs.center_x, A.obs.center_y]).T\n",
    "    # zero center all_pts\n",
    "    all_pts = rotate(all_pts, degrees=rot)\n",
    "    all_pts[:,0] -= all_pts[:,0].min()\n",
    "    all_pts[:,1] -= all_pts[:,1].min()\n",
    "    ax.scatter(all_pts[:,0], all_pts[:,1],s=s, c=A.obs[key],cmap=cmap,vmin=0,vmax=vmax)\n",
    "    ax.axis('off')\n",
    "    if xlim is not None:\n",
    "        ax.set_xlim(xlim)\n",
    "    if ylim is not None:\n",
    "        ax.set_ylim(ylim)\n"
   ]
  },
  {
   "cell_type": "code",
   "execution_count": null,
   "metadata": {},
   "outputs": [],
   "source": [
    "\n",
    "curr_adata = adata_combined[np.logical_and(adata_combined.obs.batch==8, adata_combined.obs.slice==1)]\n",
    "aspect_ratio, nx, ny = calculate_aspect_ratio(curr_adata)\n",
    "curr_rot = -183\n",
    "curr_size = 3\n",
    "xlim = [200, 2300]\n",
    "ylim = [200, 4000]\n",
    "aspect_ratio = (xlim[1]-xlim[0])/(ylim[1]-ylim[0])\n",
    "#aspect_ratio, nx, ny = calculate_aspect_ratio(curr_adata, rot=curr_rot)\n",
    "print(aspect_ratio, nx, ny)\n",
    "f, ax = plt.subplots(figsize=(5*7*aspect_ratio,5))\n",
    "ax = plt.subplot(1,7,1)\n",
    "plot_seg(curr_adata, seg_cmap, rot=curr_rot,s=curr_size, ax=ax,xlim=xlim, ylim=ylim,vmax=seg_max)\n",
    "cell_types = adata_combined.obs.clust_annot[adata_combined.obs.cell_type.isin(['ExN'])].unique()\n",
    "ax = plt.subplot(1,7,2)\n",
    "plot_clust_subset(curr_adata, cell_types, curr_cmap, rot=curr_rot,s=curr_size, ax=ax, xlim=xlim, ylim=ylim)\n",
    "\n",
    "ax = plt.subplot(1,7,3)\n",
    "cell_types = adata_combined.obs.clust_annot[adata_combined.obs.cell_type.isin(['InN', 'MSN'])].unique()\n",
    "plot_clust_subset(curr_adata, cell_types, curr_cmap, rot=curr_rot,s=curr_size, ax=ax,xlim=xlim, ylim=ylim)\n",
    "\n",
    "ax = plt.subplot(1,7,4)\n",
    "cell_types = adata_combined.obs.clust_annot[adata_combined.obs.cell_type.isin(['Olig', 'OPC'])].unique()\n",
    "plot_clust_subset(curr_adata, cell_types, curr_cmap, rot=curr_rot,s=curr_size, ax=ax,xlim=xlim, ylim=ylim)\n",
    "\n",
    "ax = plt.subplot(1,7,5)\n",
    "cell_types = adata_combined.obs.clust_annot[adata_combined.obs.cell_type.isin(['Astro'])].unique()\n",
    "plot_clust_subset(curr_adata, cell_types, curr_cmap, rot=curr_rot,s=curr_size, ax=ax,xlim=xlim, ylim=ylim)\n",
    "\n",
    "ax = plt.subplot(1,7,6)\n",
    "cell_types = adata_combined.obs.clust_annot[adata_combined.obs.cell_type.isin(['Epen', 'Endo', 'Vlmc', 'Peri'])].unique()\n",
    "plot_clust_subset(curr_adata, cell_types, curr_cmap, rot=curr_rot,s=curr_size, ax=ax,xlim=xlim, ylim=ylim)\n",
    "\n",
    "ax = plt.subplot(1,7,7)\n",
    "cell_types = adata_combined.obs.clust_annot[adata_combined.obs.cell_type.isin(['Micro','Macro','T cell','B cell'])].unique()\n",
    "plot_clust_subset(curr_adata, cell_types, curr_cmap, rot=curr_rot,s=curr_size, ax=ax,xlim=xlim, ylim=ylim)\n",
    "#plt.savefig(\"/home/user/Dropbox/zhuang_lab/aging/aging_atlas_paper/figures_int/fig3_majorcelltypes_young.pdf\",dpi=300,bbox_inches='tight')"
   ]
  },
  {
   "cell_type": "code",
   "execution_count": null,
   "metadata": {},
   "outputs": [],
   "source": [
    "\n",
    "curr_adata = adata_combined[np.logical_and(adata_combined.obs.batch==12, adata_combined.obs.slice==0)]\n",
    "curr_rot = -12\n",
    "aspect_ratio, nx, ny = calculate_aspect_ratio(curr_adata, rot=curr_rot)\n",
    "print(aspect_ratio, nx, ny)\n",
    "xlim = [1950, 1950+2100]\n",
    "ylim = [200, 3700]\n",
    "aspect_ratio = (xlim[1]-xlim[0])/(ylim[1]-ylim[0])\n",
    "f, ax = plt.subplots(figsize=(5*7*aspect_ratio,5))\n",
    "ax = plt.subplot(1,7,1)\n",
    "plot_seg(curr_adata, seg_cmap, rot=curr_rot,s=curr_size, ax=ax,xlim=xlim, ylim=ylim,)\n",
    "cell_types = adata_combined.obs.clust_annot[adata_combined.obs.cell_type.isin(['ExN'])].unique()\n",
    "ax = plt.subplot(1,7,2)\n",
    "plot_clust_subset(curr_adata, cell_types, curr_cmap, rot=curr_rot,s=curr_size, ax=ax, xlim=xlim, ylim=ylim)\n",
    "\n",
    "ax = plt.subplot(1,7,3)\n",
    "cell_types = adata_combined.obs.clust_annot[adata_combined.obs.cell_type.isin(['InN', 'MSN'])].unique()\n",
    "plot_clust_subset(curr_adata, cell_types, curr_cmap, rot=curr_rot,s=curr_size, ax=ax,xlim=xlim, ylim=ylim)\n",
    "\n",
    "ax = plt.subplot(1,7,4)\n",
    "cell_types = adata_combined.obs.clust_annot[adata_combined.obs.cell_type.isin(['Olig', 'OPC'])].unique()\n",
    "plot_clust_subset(curr_adata, cell_types, curr_cmap, rot=curr_rot,s=curr_size, ax=ax,xlim=xlim, ylim=ylim)\n",
    "\n",
    "ax = plt.subplot(1,7,5)\n",
    "cell_types = adata_combined.obs.clust_annot[adata_combined.obs.cell_type.isin(['Astro'])].unique()\n",
    "plot_clust_subset(curr_adata, cell_types, curr_cmap, rot=curr_rot,s=curr_size, ax=ax,xlim=xlim, ylim=ylim)\n",
    "\n",
    "ax = plt.subplot(1,7,6)\n",
    "cell_types = adata_combined.obs.clust_annot[adata_combined.obs.cell_type.isin(['Epen', 'Endo', 'Vlmc', 'Peri'])].unique()\n",
    "plot_clust_subset(curr_adata, cell_types, curr_cmap, rot=curr_rot,s=curr_size, ax=ax,xlim=xlim, ylim=ylim)\n",
    "\n",
    "ax = plt.subplot(1,7,7)\n",
    "cell_types = adata_combined.obs.clust_annot[adata_combined.obs.cell_type.isin(['Micro','Macro','T cell','B cell'])].unique()\n",
    "plot_clust_subset(curr_adata, cell_types, curr_cmap, rot=curr_rot,s=curr_size, ax=ax,xlim=xlim, ylim=ylim)\n",
    "\n",
    "plt.savefig(\"/home/user/Dropbox/zhuang_lab/aging/aging_atlas_paper/figures_int/fig3_majorcelltypes_med.pdf\",dpi=300,bbox_inches='tight')"
   ]
  },
  {
   "cell_type": "code",
   "execution_count": null,
   "metadata": {},
   "outputs": [],
   "source": [
    "\n",
    "curr_adata = adata_combined[np.logical_and(adata_combined.obs.batch==9, adata_combined.obs.slice==1)]\n",
    "print(curr_adata.obs.age.unique())\n",
    "curr_rot = 35\n",
    "aspect_ratio, nx, ny = calculate_aspect_ratio(curr_adata, rot=curr_rot)\n",
    "print(aspect_ratio, nx, ny)\n",
    "xlim = [200, 2300]\n",
    "ylim = [400, 4000]\n",
    "aspect_ratio = (xlim[1]-xlim[0])/(ylim[1]-ylim[0])\n",
    "f, ax = plt.subplots(figsize=(5*7*aspect_ratio,5))\n",
    "ax = plt.subplot(1,7,1)\n",
    "plot_seg(curr_adata, seg_cmap, rot=curr_rot,s=curr_size, ax=ax,xlim=xlim, ylim=ylim)\n",
    "cell_types = adata_combined.obs.clust_annot[adata_combined.obs.cell_type.isin(['ExN'])].unique()\n",
    "ax = plt.subplot(1,7,2)\n",
    "plot_clust_subset(curr_adata, cell_types, curr_cmap, rot=curr_rot,s=curr_size, ax=ax, xlim=xlim, ylim=ylim)\n",
    "\n",
    "ax = plt.subplot(1,7,3)\n",
    "cell_types = adata_combined.obs.clust_annot[adata_combined.obs.cell_type.isin(['InN', 'MSN'])].unique()\n",
    "plot_clust_subset(curr_adata, cell_types, curr_cmap, rot=curr_rot,s=curr_size, ax=ax,xlim=xlim, ylim=ylim)\n",
    "\n",
    "ax = plt.subplot(1,7,4)\n",
    "cell_types = adata_combined.obs.clust_annot[adata_combined.obs.cell_type.isin(['Olig', 'OPC'])].unique()\n",
    "plot_clust_subset(curr_adata, cell_types, curr_cmap, rot=curr_rot,s=curr_size, ax=ax,xlim=xlim, ylim=ylim)\n",
    "\n",
    "ax = plt.subplot(1,7,5)\n",
    "cell_types = adata_combined.obs.clust_annot[adata_combined.obs.cell_type.isin(['Astro'])].unique()\n",
    "plot_clust_subset(curr_adata, cell_types, curr_cmap, rot=curr_rot,s=curr_size, ax=ax,xlim=xlim, ylim=ylim)\n",
    "\n",
    "ax = plt.subplot(1,7,6)\n",
    "cell_types = adata_combined.obs.clust_annot[adata_combined.obs.cell_type.isin(['Epen', 'Endo', 'Vlmc', 'Peri'])].unique()\n",
    "plot_clust_subset(curr_adata, cell_types, curr_cmap, rot=curr_rot,s=curr_size, ax=ax,xlim=xlim, ylim=ylim)\n",
    "\n",
    "ax = plt.subplot(1,7,7)\n",
    "cell_types = adata_combined.obs.clust_annot[adata_combined.obs.cell_type.isin(['Micro','Macro','T cell','B cell'])].unique()\n",
    "plot_clust_subset(curr_adata, cell_types, curr_cmap, rot=curr_rot,s=curr_size, ax=ax,xlim=xlim, ylim=ylim)\n",
    "\n",
    "plt.savefig(\"/home/user/Dropbox/zhuang_lab/aging/aging_atlas_paper/figures_int/fig3_majorcelltypes_old.pdf\",dpi=300,bbox_inches='tight')"
   ]
  },
  {
   "cell_type": "code",
   "execution_count": null,
   "metadata": {},
   "outputs": [],
   "source": [
    "# make plots of cell type enrichment per \n",
    "# count cell types per kmeans clust\n",
    "spatial_domains = ['Pia','L2/3', 'L5', 'L6','LatSept', 'CC', 'Striatum','Ventricle']\n",
    "clust_order = [\n",
    " 'ExN-L2/3-1',\n",
    " 'ExN-L2/3-2',\n",
    " 'ExN-L5-1',\n",
    " 'ExN-L5-2',\n",
    " 'ExN-L5-3',\n",
    " 'ExN-L6-1',\n",
    " 'ExN-L6-2',\n",
    " 'ExN-L6-3',\n",
    " 'ExN-Olf',\n",
    " 'InN-Olf-1',\n",
    " 'InN-Olf-2',\n",
    "\n",
    " 'InN-Vip',\n",
    "\n",
    " 'InN-Lamp5',\n",
    "\n",
    " 'InN-Pvalb-1',\n",
    " 'InN-Pvalb-2',\n",
    " 'InN-Pvalb-3',\n",
    " 'InN-Sst-1',\n",
    " 'InN-Sst-2',\n",
    " 'InN-Calb2-1',\n",
    " 'InN-Calb2-2',\n",
    " 'InN-Chat',\n",
    " 'InN-Lhx6',\n",
    "\n",
    "'MSN-D1-1',\n",
    " 'MSN-D1-2',\n",
    " 'MSN-D2',\n",
    " 'OPC',\n",
    " 'Olig-1',\n",
    " 'Olig-2',\n",
    " 'Olig-3',\n",
    "\n",
    "'Astro-1',\n",
    " 'Astro-2',\n",
    " 'Vlmc',\n",
    " 'Peri-1',\n",
    " 'Peri-2',\n",
    " 'Endo-1',\n",
    " 'Endo-2',\n",
    " 'Endo-3',\n",
    " 'Epen',\n",
    "\n",
    " 'Micro-1',\n",
    " 'Micro-2',\n",
    " 'Micro-3',\n",
    " 'Macro',\n",
    " 'T cell',\n",
    "]\n",
    "\n",
    "short_clust_order = [\n",
    " 'OPC',\n",
    " 'Olig',\n",
    "\n",
    "'Astro',\n",
    " 'Vlmc',\n",
    " 'Peri',\n",
    " 'Endo',\n",
    " 'Epen',\n",
    "\n",
    " 'Micro',\n",
    " 'Macro',\n",
    " 'T cell',\n",
    "]\n",
    "\n",
    "\n"
   ]
  },
  {
   "cell_type": "code",
   "execution_count": null,
   "metadata": {},
   "outputs": [],
   "source": [
    "short_clust_annot = []\n",
    "for i in list(adata_combined.obs.clust_annot):\n",
    "    if \"-\" in i:\n",
    "        split_name = i.split(\"-\")\n",
    "        if len(split_name) == 2:\n",
    "            short_clust_annot.append(split_name[0])\n",
    "        else:\n",
    "            short_clust_annot.append(split_name[0] + \"-\" + split_name[1])\n",
    "    else:\n",
    "        short_clust_annot.append(i)\n",
    "adata_combined.obs['short_clust_annot'] = short_clust_annot"
   ]
  },
  {
   "cell_type": "code",
   "execution_count": null,
   "metadata": {},
   "outputs": [],
   "source": [
    "adata_merfish = adata_combined[adata_combined.obs.dtype==\"merfish\"]"
   ]
  },
  {
   "cell_type": "code",
   "execution_count": null,
   "metadata": {},
   "outputs": [],
   "source": [
    "def plot_clust_spatial_enrichment(A,vmin=0,vmax=1,uniq_clusts=None,clust_key='clust_annot',label_colors=None, spatial_domains=['Pia','L2/3', 'L5','L6', 'LatSept', 'CC', 'Striatum','Ventricle'],\n",
    "    seg_cmap=plt.cm.viridis):\n",
    "    if uniq_clusts is None:\n",
    "        uniq_clusts = sorted(A.obs[clust_key].unique())\n",
    "    n_spatial_domains = int(A.obs.spatial_clust_annots_value.max() + 1)\n",
    "    clust_counts = np.zeros((n_spatial_domains, len(uniq_clusts)))\n",
    "    print(clust_counts.shape)\n",
    "    for i in range(n_spatial_domains):\n",
    "        curr_clusts = A[A.obs.spatial_clust_annots_value==i,:].obs[clust_key]\n",
    "        for j,c in enumerate(uniq_clusts):\n",
    "            clust_counts[i,j] = np.sum(curr_clusts==c)\n",
    "    clust_avgs = clust_counts.copy()\n",
    "    for i in range(clust_avgs.shape[1]):\n",
    "        clust_avgs[:,i] /= clust_avgs[:,i].sum()\n",
    "\n",
    "    f, ax = plt.subplots(figsize=(5.5,1))\n",
    "    gs = plt.GridSpec(nrows=2,ncols=2,width_ratios=[0.36, 20], height_ratios=[20,2], wspace=0.01, hspace=0.05)\n",
    "\n",
    "    ax = plt.subplot(gs[0,0])\n",
    "    ax.imshow(np.expand_dims(np.arange(n_spatial_domains),1),aspect='auto',interpolation='none', cmap=seg_cmap,rasterized=True)\n",
    "    sns.despine(ax=ax,bottom=True,left=True)\n",
    "    ax.set_yticks(np.arange(clust_avgs.shape[0]));\n",
    "    ax.set_yticklabels(spatial_domains,fontsize=6)\n",
    "    ax.set_xticks([])\n",
    "    ax = plt.subplot(gs[0,1])\n",
    "    ax.imshow(clust_avgs,aspect='auto',vmin=vmin,vmax=vmax, cmap=plt.cm.viridis)\n",
    "    ax.set_xticks([])\n",
    "    ax.set_yticks([])\n",
    "    ax.axis('off')\n",
    "    #for i in range(clust_counts.shape[0]):\n",
    "        #ax.scatter(np.arange(clust_counts.shape[1]), i*np.ones(clust_counts.shape[1]), s=0.005*clust_counts[i,:],c='k')\n",
    "    ax = plt.subplot(gs[1,1])\n",
    "    if label_colors is None:\n",
    "        curr_cmap = plt.cm.viridis\n",
    "    else:\n",
    "        curr_cmap = mpl.colors.ListedColormap([label_colors[i] for i in uniq_clusts])\n",
    "    ax.imshow(np.expand_dims(np.arange(len(uniq_clusts)),1).T,aspect='auto',interpolation='none', cmap=curr_cmap,rasterized=True)\n",
    "\n",
    "    ax.set_xticks(np.arange(clust_avgs.shape[1]));\n",
    "    ax.set_yticks([])\n",
    "    ax.set_xticklabels(uniq_clusts,rotation=90,fontsize=6);\n",
    "    sns.despine(ax=ax, left=True, bottom=True)\n",
    "    return clust_avgs, clust_counts\n"
   ]
  },
  {
   "cell_type": "code",
   "execution_count": null,
   "metadata": {},
   "outputs": [],
   "source": [
    "young_clusts, young_counts = plot_clust_spatial_enrichment(adata_merfish[adata_merfish.obs.age=='4wk'],vmax=1,uniq_clusts=clust_order,seg_cmap=seg_cmap,label_colors=label_colors)\n",
    "plt.savefig(\"/home/user/Dropbox/zhuang_lab/aging/aging_atlas_paper/figures_int/fig3_cellcomp_young.pdf\",dpi=300,bbox_inches='tight')"
   ]
  },
  {
   "cell_type": "code",
   "execution_count": null,
   "metadata": {},
   "outputs": [],
   "source": [
    "plot_clust_spatial_enrichment(adata_merfish[adata_merfish.obs.age=='24wk'],vmax=1,uniq_clusts=clust_order,seg_cmap=seg_cmap,label_colors=label_colors);\n",
    "plt.savefig(\"/home/user/Dropbox/zhuang_lab/aging/aging_atlas_paper/figures_int/fig3_cellcomp_med.pdf\",dpi=300,bbox_inches='tight')"
   ]
  },
  {
   "cell_type": "code",
   "execution_count": null,
   "metadata": {},
   "outputs": [],
   "source": [
    "old_clusts, old_counts = plot_clust_spatial_enrichment(adata_merfish[adata_merfish.obs.age=='90wk'],vmax=1,uniq_clusts=clust_order, seg_cmap=seg_cmap,label_colors=label_colors);\n",
    "plt.savefig(\"/home/user/Dropbox/zhuang_lab/aging/aging_atlas_paper/figures_int/fig3_cellcomp_old.pdf\",dpi=300,bbox_inches='tight')"
   ]
  },
  {
   "cell_type": "code",
   "execution_count": null,
   "metadata": {},
   "outputs": [],
   "source": [
    "short_clust_order = ['Astro-1',\n",
    " 'Astro-2',\n",
    " 'Endo-1',\n",
    " 'Endo-2',\n",
    " 'Endo-3',\n",
    " 'Epen',\n",
    " 'OPC',\n",
    " 'Olig-1',\n",
    " 'Olig-2',\n",
    " 'Olig-3',\n",
    " 'Peri-1',\n",
    " 'Peri-2',\n",
    " 'Vlmc',\n",
    " 'Macro',\n",
    " 'Micro-1',\n",
    " 'Micro-2',\n",
    " 'Micro-3',\n",
    "\n",
    " 'T cell',\n",
    "                     \n",
    "                \n",
    "]\n",
    "\n",
    "short_clust_order = [\n",
    "    'Astro',\n",
    "    'Endo',\n",
    "    \"Peri\",\n",
    "    'Vlmc',\n",
    "    'Epen',\n",
    "    'OPC',\n",
    "    'Olig',\n",
    "    'Micro',\n",
    "    'Macro',\n",
    "    'T cell',\n",
    "]"
   ]
  },
  {
   "cell_type": "code",
   "execution_count": null,
   "metadata": {},
   "outputs": [],
   "source": [
    "sns.set_style('white')\n",
    "diff = old_avgs-young_avgs#,vmin=-0.75,vmax=0.75,cmap=plt.cm.bwr)\n",
    "diff[np.isinf(diff)] = 5\n",
    "f, ax = plt.subplots(figsize=(3,2))\n",
    "gs = plt.GridSpec(nrows=2,ncols=2,width_ratios=[0.36, 20], height_ratios=[20,2], wspace=0.01, hspace=0.05)\n",
    "uniq_clusts = short_clust_order\n",
    "n_spatial_domains = diff.shape[0]\n",
    "#ax = plt.subplot(gs[0,0])\n",
    "#ax.imshow(np.expand_dims(np.arange(n_spatial_domains),1),aspect='auto',interpolation='none', cmap=seg_cmap,rasterized=True)\n",
    "#sns.despine(ax=ax,bottom=True,left=True)\n",
    "\n",
    "ax = plt.subplot(gs[0,1])\n",
    "ax.imshow(diff,cmap=plt.cm.seismic, vmin=-0.25, vmax=0.25,rasterized=True, aspect='auto',interpolation='none')\n",
    "ax.set_yticks(np.arange(diff.shape[0]));\n",
    "ax.set_yticklabels(spatial_domains,fontsize=6)\n",
    "ax.set_xticks([])\n",
    "#ax.set_xticks([])\n",
    "#ax.set_yticks([])\n",
    "#ax.axis('off')\n",
    "#ax = plt.subplot(gs[1,1])\n",
    "#curr_cmap = mpl.colors.ListedColormap([label_colors[i] for i in uniq_clusts])\n",
    "#ax.imshow(np.expand_dims(np.arange(len(uniq_clusts)),1).T,aspect='auto',interpolation='none', cmap=curr_cmap,rasterized=True)\n",
    "\n",
    "ax.set_xticks(np.arange(diff.shape[1]));\n",
    "#ax.set_yticks([])\n",
    "ax.set_xticklabels(uniq_clusts,rotation=90,fontsize=6);\n",
    "sns.despine(ax=ax, left=True, bottom=True)\n",
    "\n",
    "f.savefig(\"/home/user/Dropbox/zhuang_lab/aging/aging_atlas_paper/figures_int/fig3_enrichment_diff.pdf\",bbox_inches='tight', dpi=200)"
   ]
  },
  {
   "cell_type": "code",
   "execution_count": null,
   "metadata": {},
   "outputs": [],
   "source": []
  },
  {
   "cell_type": "code",
   "execution_count": null,
   "metadata": {},
   "outputs": [],
   "source": [
    "# show examples of cell types that are specific to one age \n",
    "age_specific_celltypes = [\"Olig-1\", \"Olig-2\",\"Olig-3\"]\n",
    "k = 0\n",
    "figsize_height = 5\n",
    "figsize_width = figsize_height*3*1.1*aspect_ratio\n",
    "f, axes = plt.subplots(figsize=(figsize_height,figsize_width), nrows=3, ncols=3, gridspec_kw={'wspace':0.1, 'hspace':0.1})\n",
    "curr_size = 0.5\n",
    "\n",
    "for c in age_specific_celltypes:\n",
    "    # young\n",
    "    ax = axes[0, k]#plt.subplot(3,3,k)\n",
    "\n",
    "    curr_adata = adata_combined[np.logical_and(adata_combined.obs.batch==8, adata_combined.obs.slice==1)]\n",
    "\n",
    "    curr_rot = -183\n",
    "    xlim = [200, 2300]\n",
    "    ylim = [200, 4000]\n",
    "    plot_clust_subset(curr_adata, c, curr_cmap, rot=curr_rot,s=curr_size, ax=ax,xlim=xlim, ylim=ylim)\n",
    "    \n",
    "    #k += 1\n",
    "    \n",
    "    # med\n",
    "    ax = axes[1,k] #plt.subplot(3,3,k)\n",
    "\n",
    "    curr_adata = adata_combined[np.logical_and(adata_combined.obs.batch==12, adata_combined.obs.slice==0)]\n",
    "\n",
    "    curr_rot = -12; xlim = [1950, 1950+2100]; ylim = [200, 3700]\n",
    "\n",
    "    plot_clust_subset(curr_adata, c, curr_cmap, rot=curr_rot,s=curr_size, ax=ax,xlim=xlim, ylim=ylim)\n",
    "\n",
    "    #k += 1\n",
    "    # old\n",
    "    ax = axes[2,k] #plt.subplot(3,3,k)\n",
    "\n",
    "    curr_adata = adata_combined[np.logical_and(adata_combined.obs.batch==9, adata_combined.obs.slice==1)]\n",
    "    curr_rot = 35; xlim = [200, 2300]; ylim = [400, 4000]\n",
    "\n",
    "    plot_clust_subset(curr_adata, c, curr_cmap, rot=curr_rot,s=curr_size, ax=ax,xlim=xlim, ylim=ylim)\n",
    "    k += 1\n",
    "\n",
    "#f.savefig(\"/home/user/Dropbox/zhuang_lab/aging/aging_atlas_paper/figures_int/fig3_majorcelltypes_examples_olig.png\",dpi=300,bbox_inches='tight')"
   ]
  },
  {
   "cell_type": "code",
   "execution_count": null,
   "metadata": {},
   "outputs": [],
   "source": [
    "# show examples of cell types that are specific to one age \n",
    "age_specific_celltypes = ['Micro-1','Micro-2','Micro-3']\n",
    "k = 0\n",
    "figsize_height = 5\n",
    "figsize_width = figsize_height*3*1.1*aspect_ratio\n",
    "f, axes = plt.subplots(figsize=(figsize_height,figsize_width), nrows=3, ncols=3, gridspec_kw={'wspace':0.1, 'hspace':0.1})\n",
    "curr_size = 1\n",
    "\n",
    "for c in age_specific_celltypes:\n",
    "    # young\n",
    "    ax = axes[0, k]#plt.subplot(3,3,k)\n",
    "\n",
    "    curr_adata = adata_combined[np.logical_and(adata_combined.obs.batch==8, adata_combined.obs.slice==1)]\n",
    "    print(curr_adata.obs.age[0])\n",
    "    curr_rot = -183\n",
    "    xlim = [200, 2300]\n",
    "    ylim = [200, 4000]\n",
    "    plot_clust_subset(curr_adata, c, curr_cmap, rot=curr_rot,s=curr_size, ax=ax,xlim=xlim, ylim=ylim)\n",
    "    \n",
    "    #k += 1\n",
    "    \n",
    "    # med\n",
    "    ax = axes[1, k]#plt.subplot(3,3,k)\n",
    "\n",
    "    curr_adata = adata_combined[np.logical_and(adata_combined.obs.batch==12, adata_combined.obs.slice==0)]\n",
    "\n",
    "    curr_rot = -12; xlim = [1950, 1950+2100]; ylim = [200, 3700]\n",
    "\n",
    "    plot_clust_subset(curr_adata, c, curr_cmap, rot=curr_rot,s=curr_size, ax=ax,xlim=xlim, ylim=ylim)\n",
    "\n",
    "    #k += 1\n",
    "    # old\n",
    "    ax = axes[2, k]#plt.subplot(3,3,k)\n",
    "\n",
    "    curr_adata = adata_combined[np.logical_and(adata_combined.obs.batch==9, adata_combined.obs.slice==1)]\n",
    "    curr_rot = 35; xlim = [200, 2300]; ylim = [400, 4000]\n",
    "\n",
    "    plot_clust_subset(curr_adata, c, curr_cmap, rot=curr_rot,s=curr_size, ax=ax,xlim=xlim, ylim=ylim)\n",
    "    k += 1\n",
    "\n",
    "f.savefig(\"/home/user/Dropbox/zhuang_lab/aging/aging_atlas_paper/figures_int/fig3_majorcelltypes_examples_micro.png\",dpi=300,bbox_inches='tight')"
   ]
  },
  {
   "cell_type": "code",
   "execution_count": null,
   "metadata": {},
   "outputs": [],
   "source": [
    "# show examples of cell types that are specific to one age \n",
    "age_specific_celltypes = ['Astro-1','Astro-2']\n",
    "k = 0\n",
    "figsize_height = 5\n",
    "figsize_width = figsize_height*3*1.1*aspect_ratio\n",
    "f, axes = plt.subplots(figsize=(figsize_height,figsize_width), nrows=3, ncols=3, gridspec_kw={'wspace':0.1, 'hspace':0.1})\n",
    "curr_size = 1\n",
    "\n",
    "for c in age_specific_celltypes:\n",
    "    # young\n",
    "    ax = axes[0,k]\n",
    "\n",
    "    curr_adata = adata_combined[np.logical_and(adata_combined.obs.batch==8, adata_combined.obs.slice==1)]\n",
    "\n",
    "    curr_rot = -183\n",
    "    xlim = [200, 2300]\n",
    "    ylim = [200, 4000]\n",
    "    plot_clust_subset(curr_adata, c, curr_cmap, rot=curr_rot,s=curr_size, ax=ax,xlim=xlim, ylim=ylim)\n",
    "    \n",
    "    #k += 1\n",
    "    \n",
    "    # med\n",
    "    ax =axes[1,k]#plt.subplot(4,3,k)\n",
    "\n",
    "    curr_adata = adata_combined[np.logical_and(adata_combined.obs.batch==12, adata_combined.obs.slice==0)]\n",
    "\n",
    "    curr_rot = -12; xlim = [1950, 1950+2100]; ylim = [200, 3700]\n",
    "\n",
    "    plot_clust_subset(curr_adata, c, curr_cmap, rot=curr_rot,s=curr_size, ax=ax,xlim=xlim, ylim=ylim)\n",
    "\n",
    "    #k += 1\n",
    "    # old\n",
    "    ax = axes[2,k]#plt.subplot(4,3,k)\n",
    "\n",
    "    curr_adata = adata_combined[np.logical_and(adata_combined.obs.batch==9, adata_combined.obs.slice==1)]\n",
    "    curr_rot = 35; xlim = [200, 2300]; ylim = [400, 4000]\n",
    "\n",
    "    plot_clust_subset(curr_adata, c, curr_cmap, rot=curr_rot,s=curr_size, ax=ax,xlim=xlim, ylim=ylim)\n",
    "    k += 1\n",
    "for i in range(3):\n",
    "    axes[i,2].axis('off')\n",
    "f.savefig(\"/home/user/Dropbox/zhuang_lab/aging/aging_atlas_paper/figures_int/fig3_majorcelltypes_examples_astro.png\",dpi=300,bbox_inches='tight')"
   ]
  },
  {
   "cell_type": "code",
   "execution_count": null,
   "metadata": {},
   "outputs": [],
   "source": [
    "# show examples of cell types that are specific to one age \n",
    "age_specific_celltypes = ['Endo-1','Endo-2','Endo-3']\n",
    "k = 0\n",
    "figsize_height = 5\n",
    "figsize_width = figsize_height*3*1.1*aspect_ratio\n",
    "f, axes = plt.subplots(figsize=(figsize_height,figsize_width), nrows=3, ncols=3, gridspec_kw={'wspace':0.1, 'hspace':0.1})\n",
    "curr_size = 1\n",
    "\n",
    "for c in age_specific_celltypes:\n",
    "    # young\n",
    "    ax = axes[0, k]#plt.subplot(3,3,k)\n",
    "\n",
    "    curr_adata = adata_combined[np.logical_and(adata_combined.obs.batch==8, adata_combined.obs.slice==1)]\n",
    "    print(curr_adata.obs.age[0])\n",
    "    curr_rot = -183\n",
    "    xlim = [200, 2300]\n",
    "    ylim = [200, 4000]\n",
    "    plot_clust_subset(curr_adata, c, curr_cmap, rot=curr_rot,s=curr_size, ax=ax,xlim=xlim, ylim=ylim)\n",
    "    \n",
    "    #k += 1\n",
    "    \n",
    "    # med\n",
    "    ax = axes[1, k]#plt.subplot(3,3,k)\n",
    "\n",
    "    curr_adata = adata_combined[np.logical_and(adata_combined.obs.batch==12, adata_combined.obs.slice==0)]\n",
    "\n",
    "    curr_rot = -12; xlim = [1950, 1950+2100]; ylim = [200, 3700]\n",
    "\n",
    "    plot_clust_subset(curr_adata, c, curr_cmap, rot=curr_rot,s=curr_size, ax=ax,xlim=xlim, ylim=ylim)\n",
    "\n",
    "    #k += 1\n",
    "    # old\n",
    "    ax = axes[2, k]#plt.subplot(3,3,k)\n",
    "\n",
    "    curr_adata = adata_combined[np.logical_and(adata_combined.obs.batch==9, adata_combined.obs.slice==1)]\n",
    "    curr_rot = 35; xlim = [200, 2300]; ylim = [400, 4000]\n",
    "\n",
    "    plot_clust_subset(curr_adata, c, curr_cmap, rot=curr_rot,s=curr_size, ax=ax,xlim=xlim, ylim=ylim)\n",
    "    k += 1\n",
    "\n",
    "f.savefig(\"/home/user/Dropbox/zhuang_lab/aging/aging_atlas_paper/figures_int/fig3_majorcelltypes_examples_endo.png\",dpi=300,bbox_inches='tight')"
   ]
  },
  {
   "cell_type": "markdown",
   "metadata": {},
   "source": [
    "# Show markers for clusters for Fig 1"
   ]
  },
  {
   "cell_type": "code",
   "execution_count": null,
   "metadata": {},
   "outputs": [],
   "source": [
    "endo_cells = adata_combined_merfish[adata_combined_merfish.obs.cell_type==\"Endo\"]\n",
    "sc.tl.rank_genes_groups(endo_cells,groupby='clust_annot')\n",
    "sc.tl.filter_rank_genes_groups(endo_cells,min_fold_change=1.5,min_in_group_fraction=0.3)\n",
    "sc.pl.rank_genes_groups_stacked_violin(endo_cells, groupby='clust_annot')\n"
   ]
  },
  {
   "cell_type": "code",
   "execution_count": null,
   "metadata": {},
   "outputs": [],
   "source": [
    "f, ax = plt.subplots()\n",
    "sc.pl.stacked_violin(endo_cells, var_names=['Cldn5','Sparc','Xdh'], groupby='clust_annot', cmap=sns.light_palette(\"darkkhaki\", as_cmap=True),ax=ax)\n",
    "f.savefig(\"/home/user/Dropbox/zhuang_lab/aging/aging_atlas_paper/figures_int/fig1_endo_cluster_expr.pdf\",bbox_inches='tight')"
   ]
  },
  {
   "cell_type": "code",
   "execution_count": null,
   "metadata": {},
   "outputs": [],
   "source": [
    "micro_cells = adata_combined_merfish[adata_combined_merfish.obs.cell_type==\"Micro\"]\n",
    "sc.pp.regress_out(micro_cells,'total_counts')\n",
    "sc.tl.rank_genes_groups(micro_cells,groupby='clust_annot')\n",
    "sc.tl.filter_rank_genes_groups(micro_cells,min_fold_change=1,min_in_group_fraction=0.15)\n",
    "sc.pl.rank_genes_groups_stacked_violin(micro_cells, groupby='clust_annot')\n"
   ]
  },
  {
   "cell_type": "code",
   "execution_count": null,
   "metadata": {},
   "outputs": [],
   "source": [
    "sc.pl.rank_genes_groups(micro_cells)"
   ]
  },
  {
   "cell_type": "code",
   "execution_count": null,
   "metadata": {},
   "outputs": [],
   "source": [
    "f, ax = plt.subplots()\n",
    "sc.pl.stacked_violin(micro_cells, var_names=['Selplg','Zfhx3','B2m'], groupby='clust_annot',cmap=sns.light_palette(\"deeppink\", as_cmap=True),ax=ax)\n",
    "f.savefig(\"/home/user/Dropbox/zhuang_lab/aging/aging_atlas_paper/figures_int/fig1_microg_cluster_expr_V2.pdf\",bbox_inches='tight')"
   ]
  },
  {
   "cell_type": "code",
   "execution_count": null,
   "metadata": {},
   "outputs": [],
   "source": [
    "olig_cells = adata_combined_merfish[adata_combined_merfish.obs.cell_type==\"Olig\"]\n",
    "\n",
    "sc.tl.rank_genes_groups(olig_cells,groupby='clust_annot')\n",
    "sc.tl.filter_rank_genes_groups(olig_cells,min_fold_change=2,min_in_group_fraction=0.3)\n",
    "sc.pl.rank_genes_groups_stacked_violin(olig_cells, groupby='clust_annot')"
   ]
  },
  {
   "cell_type": "code",
   "execution_count": null,
   "metadata": {},
   "outputs": [],
   "source": [
    "f,ax = plt.subplots()\n",
    "sc.pl.stacked_violin(olig_cells, var_names=['Olig1','Neat1','Il33'], groupby='clust_annot',cmap=plt.cm.Greys,ax=ax)\n",
    "f.savefig(\"/home/user/Dropbox/zhuang_lab/aging/aging_atlas_paper/figures_int/fig1_olig_cluster_expr.pdf\",bbox_inches='tight')"
   ]
  },
  {
   "cell_type": "code",
   "execution_count": null,
   "metadata": {},
   "outputs": [],
   "source": [
    "astro_cells = adata_combined_merfish[adata_combined_merfish.obs.cell_type==\"Astro\"]\n",
    "sc.tl.rank_genes_groups(astro_cells,groupby='clust_annot')\n",
    "sc.tl.filter_rank_genes_groups(astro_cells,min_fold_change=2,min_in_group_fraction=0.3)\n",
    "sc.pl.rank_genes_groups_stacked_violin(astro_cells, groupby='clust_annot')\n"
   ]
  },
  {
   "cell_type": "code",
   "execution_count": null,
   "metadata": {},
   "outputs": [],
   "source": [
    "f,ax = plt.subplots()\n",
    "sc.pl.stacked_violin(astro_cells, var_names=['Mfge8','Gfap','C4b'], groupby='clust_annot',cmap=sns.light_palette(\"seagreen\", as_cmap=True),ax=ax)\n",
    "f.savefig(\"/home/user/Dropbox/zhuang_lab/aging/aging_atlas_paper/figures_int/fig1_astro_cluster_expr.pdf\",bbox_inches='tight')"
   ]
  },
  {
   "cell_type": "code",
   "execution_count": null,
   "metadata": {},
   "outputs": [],
   "source": [
    "sc.pl.stacked_violin(astro_cells, var_names=['Mfge8','Gfap','C4b'], groupby='clust_annot',cmap=sns.light_palette(\"seagreen\", as_cmap=True),standard_scale='col')\n"
   ]
  },
  {
   "cell_type": "code",
   "execution_count": null,
   "metadata": {},
   "outputs": [],
   "source": [
    "plot_info = {\n",
    "    'young' : {\n",
    "        'batch' : 8,\n",
    "        'slice' : 1,\n",
    "        'rot' : -183,\n",
    "        'xlim' : [200, 2300],\n",
    "        'ylim' : [200, 4000]\n",
    "    },\n",
    "    'mid' : {\n",
    "        'batch' : 12,\n",
    "        'slice' : 0,\n",
    "        'rot' : -12,\n",
    "        'xlim' : [1950, 1950+2100],\n",
    "        'ylim' : [200, 3700]\n",
    "    },\n",
    "    'old' : {\n",
    "        'batch' : 9,\n",
    "        'slice' : 1,\n",
    "        'rot' : 35,\n",
    "        'xlim' : [200, 2300],\n",
    "        'ylim' : [400, 4000]\n",
    "    }\n",
    "}\n"
   ]
  },
  {
   "cell_type": "code",
   "execution_count": null,
   "metadata": {},
   "outputs": [],
   "source": [
    "adata_combined_merfish = adata_combined[adata_combined.obs.dtype==\"merfish\"]\n",
    "#adata_combined_merfish.X = \n"
   ]
  },
  {
   "cell_type": "code",
   "execution_count": null,
   "metadata": {},
   "outputs": [],
   "source": [
    "def identify_nearest_neighbors_with_idx(X,Y,dist_thresh, min_dist_thresh=15):\n",
    "    if X.shape[0] > 0 and Y.shape[0] > 0:\n",
    "        kdtree = KDTree(Y)\n",
    "        ind, dists = kdtree.query_radius(X, r=dist_thresh, count_only=False,return_distance=True)\n",
    "        ind_X = np.hstack([[i]*len(ind[i]) for i in np.arange(len(ind)) if len(ind[i])>0])\n",
    "        \n",
    "        ind = np.hstack(ind)\n",
    "        dists = np.hstack(dists)\n",
    "        if len(ind) > 0:\n",
    "            ind = ind[dists>min_dist_thresh]      \n",
    "            ind_X = ind_X[dists>min_dist_thresh]\n",
    "        return ind.astype(np.int), ind_X.astype(np.int)\n",
    "    else:\n",
    "        return np.array([])\n",
    "\n",
    "def identify_nearest_neighbors_with_dist(X,Y):\n",
    "    if X.shape[0] > 0 and Y.shape[0] > 0:\n",
    "        kdtree = KDTree(Y)\n",
    "        dists, ind = kdtree.query(X, k=1,return_distance=True)\n",
    "        #ind_X = np.hstack([[i]*len(ind[i]) for i in np.arange(len(ind)) if len(ind[i])>0])\n",
    "        return dists, ind\n",
    "    else:\n",
    "        return np.array([])\n",
    "\n",
    "def compute_celltype_obs_distance_correlation(A,cell_type_X, cell_type_Y, obs_key_X, celltype_key='cell_type'):\n",
    "    X = A[A.obs[celltype_key] == cell_type_X]\n",
    "    Y = A[A.obs[celltype_key] == cell_type_Y]\n",
    "    obs_X = X.obs[obs_key_X]\n",
    "    curr_X = X.obsm['spatial']\n",
    "    curr_Y = Y.obsm['spatial']\n",
    "    dists_Y, ind_Y = identify_nearest_neighbors_with_dist(curr_X, curr_Y)\n",
    "    return obs_X.values, dists_Y\n",
    "\n",
    "def compute_celltype_obs_correlation(A,cell_type_X, cell_type_Y, obs_key_X, obs_key_Y, celltype_key='cell_type', radius=40, min_dist_thresh=15):\n",
    "    X = A[A.obs[celltype_key] == cell_type_X]\n",
    "    Y = A[A.obs[celltype_key] == cell_type_Y]\n",
    "    obs_X = X.obs[obs_key_X]\n",
    "    obs_Y = Y.obs[obs_key_Y]\n",
    "    curr_X = X.obsm['spatial']\n",
    "    curr_Y = Y.obsm['spatial']\n",
    "    neighbors_X, ind_X = identify_nearest_neighbors_with_idx(curr_X, curr_Y, dist_thresh=radius, min_dist_thresh=min_dist_thresh)\n",
    "    curr_expr = obs_Y[neighbors_X]\n",
    "    return obs_X.values[ind_X], curr_expr.values"
   ]
  },
  {
   "cell_type": "code",
   "execution_count": null,
   "metadata": {},
   "outputs": [],
   "source": [
    "\n",
    "k = 1\n",
    "plt.figure(figsize=(5, 6))\n",
    "gs = plt.GridSpec(nrows=3, ncols=4,hspace=0.01,wspace=0.1)\n",
    "for i,ct in enumerate([\"Astro\",\"Micro\",\"Olig\"]):\n",
    "    score_name = f\"activate_{ct.lower()}\"\n",
    "    age_score = adata_combined_merfish[adata_combined_merfish.obs.cell_type==ct].obs[score_name]\n",
    "    age_score = age_score[~np.isnan(age_score)]\n",
    "    curr_vmin = np.quantile(age_score,0.05)#.min()\n",
    "    curr_vmax = np.quantile(age_score, 0.95)#.max()\n",
    "    for j,age in enumerate(['young','mid','old']):\n",
    "        curr_adata = adata_combined_merfish[np.logical_and(adata_combined_merfish.obs.batch==plot_info[age]['batch'], adata_combined_merfish.obs.slice==plot_info[age]['slice'])]\n",
    "        ax = plt.subplot(gs[j,i])\n",
    "        if age==\"young\":\n",
    "            ax.set_title(ct)\n",
    "        curr_adata_celltype = curr_adata[curr_adata.obs.cell_type==ct]\n",
    "        plot_obs(curr_adata, curr_adata_celltype.obs.clust_annot.unique(), score_name,plt.cm.rainbow,s=0.5,alpha=0.1,rot=plot_info[age]['rot'], vmin=curr_vmin,vmax=curr_vmax, ax=ax, xlim=plot_info[age]['xlim'], ylim=plot_info[age]['ylim'])\n",
    "        if i == 0:\n",
    "            ax.set_ylabel(age)\n",
    "\n",
    "#plt.savefig(\"/home/user/Dropbox/zhuang_lab/aging/aging_atlas_paper/figures_int/fig2_activation_score_spatial.pdf\",bbox_inches='tight',dpi=300)"
   ]
  },
  {
   "cell_type": "code",
   "execution_count": null,
   "metadata": {},
   "outputs": [],
   "source": [
    "print(curr_adata.obs.age.unique())\n",
    "\n",
    "k = 1\n",
    "plt.figure(figsize=(5, 6))\n",
    "gs = plt.GridSpec(nrows=3, ncols=4,hspace=0.01,wspace=0.1)\n",
    "for i,ct in enumerate([\"Astro\",\"Micro\",\"Endo\",\"Olig\"]):\n",
    "    age_score = adata_combined[adata_combined.obs.cell_type==ct].obs.age_score\n",
    "    age_score = age_score[~np.isnan(age_score)]\n",
    "    curr_vmin = np.quantile(age_score,0.05)#.min()\n",
    "    curr_vmax = np.quantile(age_score, 0.95)#.max()\n",
    "    for j,age in enumerate(['young','mid','old']):\n",
    "        curr_adata = adata_combined[np.logical_and(adata_combined.obs.batch==plot_info[age]['batch'], adata_combined.obs.slice==plot_info[age]['slice'])]\n",
    "        ax = plt.subplot(gs[j,i])\n",
    "        if age==\"young\":\n",
    "            ax.set_title(ct)\n",
    "        curr_adata_celltype = curr_adata[curr_adata.obs.cell_type==ct]\n",
    "        plot_obs(curr_adata, curr_adata_celltype.obs.clust_annot.unique(), \"age_score\",plt.cm.turbo,s=0.1,alpha=0.1,rot=plot_info[age]['rot'], vmin=curr_vmin,vmax=curr_vmax, ax=ax, xlim=plot_info[age]['xlim'], ylim=plot_info[age]['ylim'])\n",
    "        if i == 0:\n",
    "            ax.set_ylabel(age)\n",
    "\n",
    "#plt.savefig(\"/home/user/Dropbox/zhuang_lab/aging/aging_atlas_paper/figures_int/fig2_age_score_spatial.pdf\",bbox_inches='tight',dpi=300)"
   ]
  },
  {
   "cell_type": "code",
   "execution_count": null,
   "metadata": {},
   "outputs": [],
   "source": [
    "# plot age score by anatomical region\n",
    "spatial_regions = ['Pia', 'L2/3','L5', 'L6', 'CC','LatSept',  'Striatum',  'Ventricle']\n",
    "age_score_spatial = np.zeros((6,3,len(spatial_regions)))\n",
    "celltypes = [\"ExN\",\"InN\", \"Astro\",\"Micro\",\"Endo\",\"Olig\"]\n",
    "for i,ct in enumerate(celltypes):\n",
    "    print(i)\n",
    "    for j,age in enumerate(['4wk','24wk','90wk']):\n",
    "            for k,r in enumerate(spatial_regions):\n",
    "                curr_adata = adata_combined[np.logical_and(adata_combined.obs.cell_type==ct, adata_combined.obs.age==age)]\n",
    "                age_score_spatial[i,j,k] = np.mean(curr_adata[curr_adata.obs.spatial_clust_annots==r].obs.age_score)\n"
   ]
  },
  {
   "cell_type": "code",
   "execution_count": null,
   "metadata": {},
   "outputs": [],
   "source": [
    "\n",
    "for i in range(4):\n",
    "    sns.set_style('white')\n",
    "    age_score = adata_combined[adata_combined.obs.cell_type==celltypes[i]].obs.age_score\n",
    "    age_score = age_score[~np.isnan(age_score)]\n",
    "    curr_vmin = np.quantile(age_score,0.02)#.min()\n",
    "    curr_vmax = np.quantile(age_score, 0.98)#.max()\n",
    "\n",
    "    f,ax = plt.subplots()\n",
    "    ax.imshow(age_score_spatial[i,:,:],cmap=age_score_cmap,rasterized=True)\n",
    "    ax.set_xticks(np.arange(len(spatial_regions)))\n",
    "    ax.set_yticks([0,1,2])\n",
    "    ax.set_yticklabels(['Young',\"Mid\",\"Old\"])\n",
    "    ax.set_xticklabels(spatial_regions,rotation=90);\n",
    "    sns.despine(ax=ax,left=True,bottom=True)\n",
    "    #plt.savefig(f\"/home/user/Dropbox/zhuang_lab/aging/aging_atlas_paper/figures_int/fig2_age_score_spatial_quant_{celltypes[i]}.pdf\",bbox_inches='tight',dpi=300)"
   ]
  },
  {
   "cell_type": "markdown",
   "metadata": {},
   "source": [
    "# Show differentially expressed genes"
   ]
  },
  {
   "cell_type": "code",
   "execution_count": null,
   "metadata": {},
   "outputs": [],
   "source": [
    "age_specific_genes = ['C4b','Il33','Gfap', 'Xdh']#'Nr6a1','Xdh','Ifit3', 'Il33', 'C4b', 'Fmo2', 'Xdh', 'Cdkn1a', 'C3', 'Serpina3n','Sparc', 'Sncg'] \n",
    "#age_specific_genes = sorted(list(np.unique([i for i in age_specific_genes if i in adata_combined.var_names])))\n",
    "# sort by average expression old vs young\n",
    "celltypes = adata_combined_merfish.obs.clust_annot.unique()\n",
    "diffs = []\n",
    "k = 1\n",
    "aspect_ratio = (2500-200)/(4000-200)\n",
    "f, ax = plt.subplots(figsize=(2.5*aspect_ratio*len(age_specific_genes),2.5*3), gridspec_kw={'wspace':0.1, 'hspace':0.1})\n",
    "vmax = 5\n",
    "\n",
    "for c in age_specific_genes:\n",
    "    ax = plt.subplot(3,len(age_specific_genes),k)\n",
    "    ax.set_title(c)\n",
    "\n",
    "    # young\n",
    "    curr_adata = adata_combined_merfish[np.logical_and(adata_combined_merfish.obs.batch==8, adata_combined_merfish.obs.slice==1)]\n",
    "\n",
    "    curr_rot = -183\n",
    "    curr_size = 1\n",
    "    xlim = [200, 2500]\n",
    "    ylim = [200, 4000]\n",
    "    aspect_ratio = (xlim[1]-xlim[0])/(ylim[1]-ylim[0])\n",
    "    plot_gene_expr(curr_adata, celltypes, c, plt.cm.Reds, s=0.25,vmin=0,vmax=vmax, rot=curr_rot, ax=ax, xlim=xlim, ylim=ylim)\n",
    "    k += 1\n",
    "    \n",
    "for c in age_specific_genes:\n",
    "    # med\n",
    "    \n",
    "    ax = plt.subplot(3,len(age_specific_genes),k)\n",
    "    # old\n",
    "    curr_adata = adata_combined_merfish[np.logical_and(adata_combined_merfish.obs.batch==12, adata_combined_merfish.obs.slice==0)]\n",
    "    print(curr_adata.obs.age.unique())\n",
    "    curr_rot = -15\n",
    "    xlim = [1950, 1950+2100]\n",
    "    ylim = [200, 3600]\n",
    "    aspect_ratio = (xlim[1]-xlim[0])/(ylim[1]-ylim[0])\n",
    "    plot_gene_expr(curr_adata, celltypes, c, plt.cm.Reds, s=0.25,vmin=0,vmax=vmax, rot=curr_rot, ax=ax, xlim=xlim, ylim=ylim)\n",
    "    k += 1\n",
    "\n",
    "for c in age_specific_genes:\n",
    "    \n",
    "    ax = plt.subplot(3,len(age_specific_genes),k)\n",
    "    # old\n",
    "    curr_adata = adata_combined_merfish[np.logical_and(adata_combined_merfish.obs.batch==9, adata_combined_merfish.obs.slice==1)]\n",
    "    curr_rot = 35\n",
    "    xlim = [200, 2300]\n",
    "    ylim = [400, 4000]\n",
    "    aspect_ratio = (xlim[1]-xlim[0])/(ylim[1]-ylim[0])\n",
    "    plot_gene_expr(curr_adata, celltypes, c, plt.cm.Reds, s=0.25,vmin=0,vmax=vmax, rot=curr_rot, ax=ax, xlim=xlim, ylim=ylim)\n",
    "    k += 1\n",
    "plt.tight_layout()\n",
    "f.savefig(\"/home/user/Dropbox/zhuang_lab/aging/aging_atlas_paper/figures_int/fig4_aging_expr_diff.pdf\", bbox_inches='tight',dpi=300)"
   ]
  },
  {
   "cell_type": "code",
   "execution_count": null,
   "metadata": {},
   "outputs": [],
   "source": [
    "f, ax = plt.subplots(figsize=(5,5))\n",
    "sc.pl.stacked_violin(adata_combined_merfish[np.logical_and(adata_combined_merfish.obs.age=='4wk',\n",
    "                                                           adata_combined_merfish.obs.cell_type.isin(['Astro','Endo','Micro', 'Olig']))], var_names=age_specific_genes, groupby='cell_type',ax=ax)\n",
    "f.savefig(\"/home/user/Dropbox/zhuang_lab/aging/aging_atlas_paper/figures_int/extrafig_example_expr_violinplot_young.pdf\")"
   ]
  },
  {
   "cell_type": "code",
   "execution_count": null,
   "metadata": {},
   "outputs": [],
   "source": [
    "f, ax = plt.subplots(figsize=(5,5))\n",
    "\n",
    "sc.pl.stacked_violin(adata_combined_merfish[np.logical_and(adata_combined_merfish.obs.age=='90wk',\n",
    "                                                           adata_combined_merfish.obs.cell_type.isin(['Astro','Endo','Micro', 'Olig']))], var_names=age_specific_genes, groupby='cell_type',ax=ax)\n",
    "f.savefig(\"/home/user/Dropbox/zhuang_lab/aging/aging_atlas_paper/figures_int/extrafig_example_expr_violinplot_old.pdf\")"
   ]
  },
  {
   "cell_type": "code",
   "execution_count": null,
   "metadata": {},
   "outputs": [],
   "source": [
    "adata_combined_merfish = unbinarize_strings(adata_combined_merfish)"
   ]
  },
  {
   "cell_type": "code",
   "execution_count": null,
   "metadata": {},
   "outputs": [],
   "source": [
    "plot_gene_expr(curr_adata, celltypes, c, plt.cm.Reds, s=1,alpha=0.5, vmin=vmin,vmax=vmax, rot=curr_rot, ax=ax, xlim=xlim, ylim=ylim)\n"
   ]
  },
  {
   "cell_type": "code",
   "execution_count": null,
   "metadata": {},
   "outputs": [],
   "source": []
  },
  {
   "cell_type": "code",
   "execution_count": null,
   "metadata": {},
   "outputs": [],
   "source": [
    "# plot area specific genes\n",
    "area_genes = [\n",
    " 'Otof',\n",
    "'Cux2',\n",
    "'Rorb',\n",
    "  'Rspo1',\n",
    "\n",
    " 'Scube1',\n",
    "  'Fezf2',\n",
    " 'Syt6',\n",
    " 'Drd1',\n",
    " 'Drd2',\n",
    "]\n",
    "curr_size = 5\n",
    "celltypes = adata_combined_merfish.obs.clust_annot.unique()\n",
    "\n",
    "curr_adata = adata_combined_merfish[np.logical_and(adata_combined_merfish.obs.batch==9, adata_combined_merfish.obs.slice==1)]\n",
    "curr_rot = 35\n",
    "xlim = [200, 2300]\n",
    "ylim = [400, 4000]\n",
    "aspect_ratio = (xlim[1]-xlim[0])/(ylim[1]-ylim[0])\n",
    "\n",
    "f, axes = plt.subplots(nrows=1, ncols=len(area_genes), figsize=(5*aspect_ratio*(len(area_genes)+1),5*1))\n",
    "#plot_seg(curr_adata, seg_cmap, rot=curr_rot,s=curr_size, ax=axes[0],xlim=xlim, ylim=ylim)\n",
    "\n",
    "k = 1\n",
    "for c in area_genes: \n",
    "    ax = axes[k]\n",
    "    gene_expr = curr_adata[:,c].X\n",
    "    vmin = np.quantile(gene_expr, 0.01)\n",
    "    vmax = np.quantile(gene_expr, 0.99)\n",
    "    #temp = curr_adata[gene_expr<0.5*(vmax-vmin),:]\n",
    "    #plot_gene_expr(temp, celltypes, c, plt.cm.Greys, s=2.5,alpha=0.1,vmin=vmin,vmax=vmin, rot=curr_rot, ax=ax, xlim=xlim, ylim=ylim)\n",
    "    plot_gene_expr(curr_adata, celltypes, c, plt.cm.Reds, s=1,alpha=0.5, vmin=vmin,vmax=vmax, rot=curr_rot, ax=ax, xlim=xlim, ylim=ylim)\n",
    "    k += 1\n",
    "    ax.set_title(c)\n",
    "f.savefig(\"/home/user/Dropbox/zhuang_lab/aging/aging_atlas_paper_v2/figures/figS4_layer_markers.png\",bbox_inches='tight',dpi=300)"
   ]
  },
  {
   "cell_type": "code",
   "execution_count": null,
   "metadata": {},
   "outputs": [],
   "source": [
    "pro_inflammatory = ['Il1b','Il1a','Tnf','Il6','Il18']"
   ]
  },
  {
   "cell_type": "code",
   "execution_count": null,
   "metadata": {},
   "outputs": [],
   "source": [
    "activate_endo = [\"B2m\", \"Nfkbia\", \"Serinc3\",\"Xdh\", \"Gfap\", \"Tap1\"]"
   ]
  },
  {
   "cell_type": "code",
   "execution_count": null,
   "metadata": {},
   "outputs": [],
   "source": [
    "sc.tl.score_genes(adata_combined_merfish, gene_list=pro_inflammatory, score_name='pro_inflammatory', use_raw=True)\n"
   ]
  },
  {
   "cell_type": "code",
   "execution_count": null,
   "metadata": {},
   "outputs": [],
   "source": [
    "#sc.tl.score_genes(adata_combined_merfish, gene_list=activate_endo, score_name='activate_endo', use_raw=True)\n"
   ]
  },
  {
   "cell_type": "code",
   "execution_count": null,
   "metadata": {},
   "outputs": [],
   "source": [
    "sc.tl.score_genes(adata_combined_merfish, gene_list=['B2m','Trem2', 'Ccl2', 'Apoe',  'Axl', 'Itgax', 'Cd9','C1qa','C1qc','Lyz2','Ctss'], score_name='activate_micro', use_raw=False)\n",
    "sc.tl.score_genes(adata_combined_merfish, gene_list=['C4b', 'C3', 'Serpina3n', 'Cxcl10', 'Gfap', 'Vim', 'Il18','Hif3a'], score_name='activate_astro', use_raw=False)\n",
    "activate_endo = [\"B2m\", \"Nfkbia\", \"Serinc3\",\"Xdh\", \"Gfap\", \"Tap1\"]\n",
    "sc.tl.score_genes(adata_combined_merfish, gene_list=activate_endo, score_name='activate_endo',use_raw=False)\n",
    "sc.tl.score_genes(adata_combined_merfish, gene_list=[\"Il33\", \"C4b\",\"Neat1\"], score_name='activate_olig',use_raw=False)"
   ]
  },
  {
   "cell_type": "code",
   "execution_count": null,
   "metadata": {},
   "outputs": [],
   "source": [
    "adata_astro = adata_combined_merfish[adata_combined_merfish.obs.cell_type==\"Astro\"]\n",
    "adata_combined_merfish.obs.activate_astro = adata_combined_merfish.obs.activate_astro - np.mean(adata_astro[adata_astro.obs.age=='4wk'].obs.activate_astro)"
   ]
  },
  {
   "cell_type": "code",
   "execution_count": null,
   "metadata": {},
   "outputs": [],
   "source": [
    "f, ax = plt.subplots(figsize=(5,3))\n",
    "\n",
    "sc.pl.violin(adata_combined_merfish[adata_combined_merfish.obs.cell_type=='Astro'], 'activate_astro', groupby='age', ax=ax)\n",
    "sns.despine()\n",
    "\n",
    "sns.despine(ax=ax)\n",
    "ax.set_rasterized(True)\n",
    "\n",
    "\n",
    "f.savefig(\"/home/user/Dropbox/zhuang_lab/aging/aging_atlas_paper/figures_int/fig4_active_astro_age_violin.pdf\",bbox_inches='tight',dpi=300)"
   ]
  },
  {
   "cell_type": "code",
   "execution_count": null,
   "metadata": {},
   "outputs": [],
   "source": [
    "adata_micro = adata_combined_merfish[adata_combined_merfish.obs.cell_type==\"Micro\"]\n",
    "adata_combined_merfish.obs.activate_micro = adata_combined_merfish.obs.activate_micro - np.mean(adata_micro[adata_micro.obs.age=='4wk'].obs.activate_micro)"
   ]
  },
  {
   "cell_type": "code",
   "execution_count": null,
   "metadata": {},
   "outputs": [],
   "source": [
    "f, ax = plt.subplots(figsize=(5,3))\n",
    "\n",
    "sc.pl.violin(adata_combined_merfish[adata_combined_merfish.obs.cell_type=='Micro'], 'activate_micro', groupby='age', ax=ax)\n",
    "sns.despine()\n",
    "\n",
    "sns.despine(ax=ax)\n",
    "ax.set_rasterized(True)\n",
    "\n",
    "\n",
    "f.savefig(\"/home/user/Dropbox/zhuang_lab/aging/aging_atlas_paper/figures_int/fig4_active_micro_age_violin.pdf\",bbox_inches='tight',dpi=300)"
   ]
  },
  {
   "cell_type": "code",
   "execution_count": null,
   "metadata": {},
   "outputs": [],
   "source": [
    "sc.pl.umap(adata_combined_merfish, color=['age','activate_olig','activate_micro', 'activate_astro', 'activate_endo'])"
   ]
  },
  {
   "cell_type": "code",
   "execution_count": null,
   "metadata": {},
   "outputs": [],
   "source": [
    "adata_olig = adata_combined_merfish[adata_combined_merfish.obs.cell_type==\"Olig\"]\n",
    "adata_combined_merfish.obs.activate_olig = adata_combined_merfish.obs.activate_olig - np.mean(adata_micro[adata_micro.obs.age=='4wk'].obs.activate_olig)\n"
   ]
  },
  {
   "cell_type": "code",
   "execution_count": null,
   "metadata": {},
   "outputs": [],
   "source": [
    "f, ax = plt.subplots(figsize=(5,3))\n",
    "\n",
    "sc.pl.violin(adata_combined_merfish[adata_combined_merfish.obs.clust_annot.isin(['Olig-1','Olig-2','Olig-3'])],keys=[\"activate_olig\"],groupby='clust_annot',order=['Olig-3','Olig-1','Olig-2'],ax=ax)\n",
    "sns.despine(ax=ax)\n",
    "ax.set_rasterized(True)\n",
    "\n",
    "\n",
    "f.savefig(\"/home/user/Dropbox/zhuang_lab/aging/aging_atlas_paper/figures_int/fig4_active_olig_violin.pdf\",bbox_inches='tight',dpi=300)"
   ]
  },
  {
   "cell_type": "code",
   "execution_count": null,
   "metadata": {},
   "outputs": [],
   "source": [
    "f, ax = plt.subplots(figsize=(5,3))\n",
    "astro_subtypes = ['Astro-1','Astro-2']\n",
    "sc.pl.violin(adata_combined_merfish[adata_combined_merfish.obs.clust_annot.isin(astro_subtypes)],keys=[\"activate_astro\"],groupby='clust_annot', order=astro_subtypes, ax=ax)\n",
    "ax.set_rasterized(True)\n",
    "sns.despine(ax=ax)\n",
    "f.savefig(\"/home/user/Dropbox/zhuang_lab/aging/aging_atlas_paper/figures_int/fig4_active_astro_violin.pdf\",bbox_inches='tight',dpi=300)"
   ]
  },
  {
   "cell_type": "code",
   "execution_count": null,
   "metadata": {},
   "outputs": [],
   "source": [
    "f, ax = plt.subplots(figsize=(5,3))\n",
    "sc.pl.violin(adata_combined_merfish[adata_combined_merfish.obs.clust_annot.isin(['Micro-1','Micro-2','Micro-3'])],keys=[\"activate_micro\"],groupby='clust_annot', order=['Micro-1','Micro-2','Micro-3'], ax=ax)\n",
    "sns.despine(ax=ax)\n",
    "ax.set_rasterized(True)\n",
    "\n",
    "f.savefig(\"/home/user/Dropbox/zhuang_lab/aging/aging_atlas_paper/figures_int/fig4_active_micro_violin.pdf\",bbox_inches='tight',dpi=300)"
   ]
  },
  {
   "cell_type": "code",
   "execution_count": null,
   "metadata": {},
   "outputs": [],
   "source": [
    "spatial_order = ['Pia','L2/3','L5','L6','CC','LatSept','Striatum','Ventricle']"
   ]
  },
  {
   "cell_type": "code",
   "execution_count": null,
   "metadata": {},
   "outputs": [],
   "source": [
    "def plot_age_obs_comparison(data, x, y, cell_type, figsize=(5,3), show_pvals=False, order=None, clust_key='cell_type', age_pal=sns.color_palette(['cornflowerblue','thistle','lightcoral'])):\n",
    "    f, ax = plt.subplots(figsize=(5,3))\n",
    "    curr_df = data[data.obs[clust_key]==cell_type].obs\n",
    "    if order is None:\n",
    "        order = sorted(curr_df[x].unique())\n",
    "    #sns.violinplot(x=x, y=y, data=curr_df,hue='age',fliersize=1,linewidth=1,palette=age_pal, ax=ax,inner=None,order=order,rasterized=True)\n",
    "    sns.boxplot(x=x, y=y, data=curr_df,hue='age',fliersize=0,linewidth=1,palette=age_pal, ax=ax,order=order)\n",
    "\n",
    "    sns.stripplot(data=curr_df, x=x, y=y, hue=\"age\", ax=ax,jitter=0.15,size=0.5,dodge=True,color='k',order=order, rasterized=True)\n",
    "\n",
    "    sns.despine()\n",
    "    plt.legend([],[], frameon=False)\n",
    "    if show_pvals:\n",
    "        pvals = calc_pvals_for_grouping(x,y,curr_df, \"age\",order=order)\n",
    "        plot_pvals(ax, pvals)\n",
    "    return f\n"
   ]
  },
  {
   "cell_type": "code",
   "execution_count": null,
   "metadata": {},
   "outputs": [],
   "source": [
    "f = plot_age_obs_comparison(adata_combined_merfish, \"spatial_clust_annots\", \"activate_olig\", \"Olig\", show_pvals=True, order=spatial_order);\n",
    "f.savefig(\"/home/user/Dropbox/zhuang_lab/aging/aging_atlas_paper/figures_int/fig4_active_olig_spatial_merfish.pdf\",bbox_inches='tight',dpi=300)"
   ]
  },
  {
   "cell_type": "code",
   "execution_count": null,
   "metadata": {},
   "outputs": [],
   "source": [
    "f = plot_age_obs_comparison(adata_combined_merfish, \"spatial_clust_annots\", \"activate_endo\", \"Endo\", show_pvals=True, order=spatial_order);\n",
    "f.savefig(\"/home/user/Dropbox/zhuang_lab/aging/aging_atlas_paper/figures_int/fig4_active_endo_spatial_merfish.pdf\",bbox_inches='tight',dpi=300)"
   ]
  },
  {
   "cell_type": "code",
   "execution_count": null,
   "metadata": {},
   "outputs": [],
   "source": [
    "f = plot_age_obs_comparison(adata_combined_merfish, \"spatial_clust_annots\", \"activate_olig\", \"Olig\", show_pvals=True, order=spatial_order);\n",
    "f.savefig(\"/home/user/Dropbox/zhuang_lab/aging/aging_atlas_paper/figures_int/fig4_active_olig_spatial_merfish.pdf\",bbox_inches='tight',dpi=300)"
   ]
  },
  {
   "cell_type": "code",
   "execution_count": null,
   "metadata": {},
   "outputs": [],
   "source": [
    "#f = plot_age_obs_comparison(adata_combined_merfish, \"spatial_clust_annots\", \"pro_inflammatory\", \"Astro\", show_pvals=True, order=spatial_order);\n"
   ]
  },
  {
   "cell_type": "code",
   "execution_count": null,
   "metadata": {},
   "outputs": [],
   "source": [
    "f = plot_age_obs_comparison(adata_combined_merfish, \"spatial_clust_annots\", \"activate_micro\", \"Micro\", show_pvals=False, order=spatial_order);\n",
    "f.savefig(\"/home/user/Dropbox/zhuang_lab/aging/aging_atlas_paper/figures_int/fig4_active_micro_spatial_merfish.pdf\",bbox_inches='tight',dpi=300)"
   ]
  },
  {
   "cell_type": "code",
   "execution_count": null,
   "metadata": {},
   "outputs": [],
   "source": [
    "f = plot_age_obs_comparison(adata_combined_merfish, \"spatial_clust_annots\", \"activate_astro\", \"Astro\", show_pvals=False, order=spatial_order);\n",
    "f.savefig(\"/home/user/Dropbox/zhuang_lab/aging/aging_atlas_paper/figures_int/fig4_active_astro_spatial_merfish.pdf\",bbox_inches='tight',dpi=300)"
   ]
  },
  {
   "cell_type": "code",
   "execution_count": null,
   "metadata": {},
   "outputs": [],
   "source": [
    "def plot_obs_by_conditions(A, obs_name, vmin=0,vmax=3,cmap=plt.cm.Reds, cell_types=None,key='clust_annot_preds',s=0.1):\n",
    "    if cell_types is None:\n",
    "        cell_types = A.obs.clust_annot_preds.unique()\n",
    "    f,ax = plt.subplots(figsize=(4,10), nrows=3, ncols=2, gridspec_kw={'wspace':0.05, 'hspace':0.01})\n",
    "    for i, cond in enumerate(['ctrl','lps']):\n",
    "        for j, age in enumerate(['4wk', '24wk', '90wk']):\n",
    "            batch, dslice, xlim, ylim, rot = get_plot_info(age, cond)\n",
    "            curr_ax = ax[j][i]\n",
    "            curr_adata = A[np.logical_and(A.obs.data_batch==str(batch), A.obs.slice==dslice)]\n",
    "            plot_obs(curr_adata, cell_types, obs_name,rot=rot,s=s,vmin=vmin,vmax=vmax,key=key,cmap=cmap,ax=curr_ax)\n",
    "            curr_ax.set_xlim(xlim)\n",
    "            curr_ax.set_ylim(ylim)\n",
    "    return f\n"
   ]
  },
  {
   "cell_type": "code",
   "execution_count": null,
   "metadata": {},
   "outputs": [],
   "source": [
    "# plot celltype specific genes\n",
    "k = 1\n",
    "celltype_specific_genes = ['Slc17a7', 'Gad1','Drd1', 'Aqp4',  'Olig1', 'Pdgfra', 'Vtn']\n",
    "f, ax = plt.subplots(figsize=(2.5*aspect_ratio*len(celltype_specific_genes),2.5*2))\n",
    "vmax = 3\n",
    "for c in celltype_specific_genes:\n",
    "    # young\n",
    "    \n",
    "    ax = plt.subplot(2,len(celltype_specific_genes),k)\n",
    "    # old\n",
    "    curr_adata = adata_annot[np.logical_and(adata_annot.obs.batch==7, adata_annot.obs.slice==2)]\n",
    "    curr_rot = -183\n",
    "    xlim = [200, 2500]\n",
    "    ylim = [200, 4000]\n",
    "    aspect_ratio = (xlim[1]-xlim[0])/(ylim[1]-ylim[0])\n",
    "    plot_gene_expr(curr_adata, celltypes, c, plt.cm.Reds, vmin=1,vmax=vmax, rot=curr_rot, ax=ax, xlim=xlim, ylim=ylim)\n",
    "    ax.set_title(c)\n",
    "    k += 1\n",
    "f.savefig(\"/home/user/Dropbox/zhuang_lab/aging/aging_atlas_paper/figures/fig5_celltype_marker_comparison_merfish.pdf\", bbox_inches='tight', dpi=300)"
   ]
  }
 ],
 "metadata": {
  "kernelspec": {
   "display_name": "Python 3.8.1 64-bit ('scrnaseq': conda)",
   "language": "python",
   "name": "python38164bitscrnaseqcondaced2695c94d346d998c0cef2164233d9"
  },
  "language_info": {
   "codemirror_mode": {
    "name": "ipython",
    "version": 3
   },
   "file_extension": ".py",
   "mimetype": "text/x-python",
   "name": "python",
   "nbconvert_exporter": "python",
   "pygments_lexer": "ipython3",
   "version": "3.8.1"
  }
 },
 "nbformat": 4,
 "nbformat_minor": 4
}
