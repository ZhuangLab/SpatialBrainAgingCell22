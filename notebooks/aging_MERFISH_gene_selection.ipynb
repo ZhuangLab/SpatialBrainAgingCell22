{
 "cells": [
  {
   "cell_type": "code",
   "execution_count": null,
   "metadata": {},
   "outputs": [],
   "source": [
    "%load_ext autoreload\n",
    "%autoreload 2\n",
    "%matplotlib inline"
   ]
  },
  {
   "cell_type": "code",
   "execution_count": null,
   "metadata": {},
   "outputs": [],
   "source": [
    "import matplotlib.pyplot as plt\n",
    "import seaborn as sns\n",
    "import pandas as pd\n",
    "import numpy as np\n",
    "import scanpy as sc\n",
    "import sys"
   ]
  },
  {
   "cell_type": "code",
   "execution_count": null,
   "metadata": {},
   "outputs": [],
   "source": [
    "sc.settings.verbosity = 3             # verbosity: errors (0), warnings (1), info (2), hints (3)\n",
    "sc.settings.set_figure_params(dpi=80, facecolor='white', frameon=False, figsize=(5,5))"
   ]
  },
  {
   "cell_type": "code",
   "execution_count": null,
   "metadata": {},
   "outputs": [],
   "source": [
    "from find_merfish_markers import *"
   ]
  },
  {
   "cell_type": "markdown",
   "metadata": {},
   "source": [
    "# Script to select cell type marker genes for MERFISH"
   ]
  },
  {
   "cell_type": "code",
   "execution_count": null,
   "metadata": {},
   "outputs": [],
   "source": [
    "adata = sc.read(\"/faststorage/brain_aging/rna_analysis/adata_finalclusts_annot.h5ad\")"
   ]
  },
  {
   "cell_type": "markdown",
   "metadata": {},
   "source": [
    "# Known markers"
   ]
  },
  {
   "cell_type": "code",
   "execution_count": null,
   "metadata": {},
   "outputs": [],
   "source": [
    "\n",
    "cortex_major_markers = ['Slc17a7', 'Slc32a1', 'Slc30a3', 'Cux2', 'Rorb', 'Sulf2', \n",
    "                  'Ptpru', 'Car3', 'Fam84b', 'Syt6', 'Nxph4', 'Tshz2', 'Pvalb', 'Sst', 'Vip',\n",
    "                 'Sncg', 'Lamp5', 'Sox10', 'Pdgfra', 'Aqp4', 'Igf2', 'Ctss', 'Cldn5', 'Flt1', 'Bgn', 'Vtn', 'Gfap',\n",
    "                        'Gad1', 'Gad2', 'Fn1', 'Myh11', 'Cd24a', 'Selplg', 'Pdgfra', 'Aqp4', 'Mbp', 'Ttyh2',\n",
    "                        \"Crhbp\", \"Cnr1\", \"Cpne5\", \"Crh\", \"Kcnip2\", \"Tbr1\", \"Lamp5\", \"Rorb\", \"Syt6\", \"Aldoc\", \"Gfap\",\n",
    "                        \"Serpinf1\", \"Mfge8\", \"Sox10\", \"Plp1\", \"Pdgfra\", \"Tmem8\", \"Itpr2\", \"Ctps\", \"Bmp4\", \"Anln\",\n",
    "                        \"Hexb\", \"Mrc1\", \"Vtn\", \"Flt1\", \"Apln\", \"Acta2\", \"Ttr\", \"Foxj1\"\n",
    "                       ]\n",
    "\n",
    "cortex_major_markers.extend([\n",
    "\"Acta2\",\"Aqp4\",\"Bgn\", \"Calb2\",\"Car3\", \"Cd14\", \"Chat\", \"Chodl\", \"Chrna2\", \"Cldn5\", \"Crhr2\",\n",
    "\"Crispld2\",\"Cspg4\",\"Ctss\",\"Cux2\",\"Egfr\",\"Enpp6\",\"Fam84b\",\"Fezf2\",\"Flt1\",\"Foxp2\",\"Gfap\",\"Hpse\",\"Igf2\",\"Kcnj8\",\n",
    "\"Lhx6\",\"Lmo1\",\"Lsp1\",\"Mrc1\",\"Nxph2\",\"Nxph4\",\"Opalin\",\"Osr1\",\"Otof\",\"Pdgfra\",\"Prox1\",\"Rorb\",\"Rspo1\",\"Rxfp1\",\n",
    "\"Satb2\",\"Serpinf1\",\"Slc17a6\",\"Slc17a8\",\"Slc30a3\",\"Slc32a1\",\"Sncg\",\"Sox10\",\"Sox6\",\"Sulf1\",\"Syt6\",\"Tcap\",\"Th\",\"Tshz2\",\n",
    "\"Vipr2\",\"Vtn\",\"Vip\",\"Sst\",\"Calb1\",\"Gad2\",\"Slc17a7\",\"Lamp5\",\"Gad1\",\"Pvalb\",\"Fezf2\", \"Bcl11b\", \"Npr3\", \"Otof\"\n",
    "    ])\n",
    "\n",
    "cortex_major_markers = list(set(cortex_major_markers))\n",
    "hypo_major_markers = [\n",
    "    'Agtr1a', 'Pomc', 'Oxt', 'Npy', 'Agrp', 'Esr1', 'Slc17a6',\n",
    "    'Meis2', 'Th', 'Gpr101', 'Hcrt', 'Nrgn', 'Sst', 'Map1b', 'Nts', 'Pmch', 'Cartpt',\n",
    "    'Gpr83', 'Bdnf', 'Otp', 'Calb2', 'Tac1', 'Tac2', 'Calb1', 'Trh', 'Gal', 'Col25a1', 'Synpr'\n",
    "]\n",
    "\n",
    "moffitt_genes = [\n",
    "    \"Ace2\", \"Adora2a\", \"Aldh1l1\", \"Amigo2\", \"Ano3\", \"Aqp4\", \"Ar\", \"Arhgap36\", \"Avpr1a\", \"Avpr2\", \"Baiap2\", \"Bdnf\", \"Bmp7\", \"Brs3\",\"Calcr\",\"Cbln1\",\"Cbln2\",\"Cckar\",\"Cckbr\",\"Ccnd2\",\"Cd24a\",\"Cdkn1a\",\"Cenpe\",\"Chat\",\"Coch\",\"Col25a1\",\"Cplx3\",\"Cpne5\",\"Creb3l1\",\"Crhbp\",\"Crhr1\",\"Crhr2\",\"Cspg5\",\"Cxcl14\",\"Cyp19a1\",\"Cyp26a1\",\"Cyr61\",\"Dgkk\",\"Ebf3\",\"Egr2\",\"Ermn\",\"Esr1\",\"Etv1\",\"Fbxw13\",\"Fezf1\",\"Fn1\",\"Fst\",\"Gabra1\",\"Gabrg1\"\"Gad1\",\"Galr1\",\"Galr2\",\"Gbx2\",\"Gda\",\"Gem\",\"Gjc3\",\"Glra3\",\"Gpr165\",\"Greb1\",\"Grpr\",\"Htr2c\",\"Igf1r\",\"Igf2r\",\"Irs4\",\"Isl1\",\"Kiss1r\",\"Klf4\",\"Lepr\",\"Lmod1\",\"Lpar1\",\"Man1a\",\"Mc4r\",\"Mki67\",\"Mlc1\",\"Myh11\",\"Ndnf\",\"Ndrg1\",\"Necab1\",\"Nos1\",\"Npas1\",\"Npy1r\",\"Npy2r\",\"Ntng1\",\"Ntsr1\",\"Nup62cl\",\"Omp\",\"Onecut2\",\"Opalin\",\"Oprd1\",\"Oprk1\",\"Oprl1\",\"Oxtr\",\"Pak3\",\"Pcdh11x\",\"Pdgfra\",\"Pgr\",\"Plin3\",\"Pnoc\",\"Pou3f2\",\"Prlr\",\"Ramp3\",\"Rgs2\",\"Rgs5\",\"Rnd3\",\"Rxfp1\",\"Scgn\",\"Selplg\",\"Sema3c\",\"Sema4d\",\"Serpinb1b\",\"Serpine1\",\"Sgk1\",\"Slc15a3\",\"Slc17a6\",\"Slc17a7\",\"Slc17a8\",\"Slc18a2\",\"Slco1a4\",\"Sox4\",\"Sox6\",\"Sox8\",\"Sp9\",\"Synpr\",\"Syt2\",\"Syt4\",\"Sytl4\",\"Tacr1\",\"Tacr3\",\"Tiparp\",\"Tmem108\",\"Traf4\",\"Trhr\",\"Ttn\",\"Ttyh2\",\"Oxt\",\"Penk\",\"Sst\",\"Tac1\",\"Gal\",\"Cartpt\",\"Vgf\",\"Trh\",\"Nts\",\"Scg2\",\"Gnrh1\",\"Tac2\",\"Cck\",\"Crh\",\"Ucn3\",\"Adcyap1\",\"Nnat\",\"Sln\",\"Mbp\",\n",
    "\"Th\"\n",
    "]\n",
    "t_cell_genes = [\n",
    "    \"Ptprc\", \"Rorc\", \"Gata3\", \"Foxp3\", \"Tbx21\", \"Il2ra\", \"Il7r\", \"Il2rb\", \"Il2rg\", \"Il15ra\", \"Pdcd1\", \"Ctla4\", \"Cd3e\"    \n",
    "]\n",
    "macrophage_genes = [\n",
    "    \"Spi1\", \"Cx3cr1\", \"Ccr2\", \"Adgr1\", \"Aif1\", \"Csf1r\", \"Trem2\", \"H2-Ab1\", \"Itgae\", \"Clec10a\", \"Itgam\", \"Itgax\"\n",
    "]\n",
    "bcell_genes = [\"Ms4a1\", \"Cd19\", \"Prdm1\"]\n",
    "nkcell_genes = [\"Klrk1\", \"Klrb1\", \"Eomes\", \"Klrg1\"]\n",
    "misc_immune = [\"Cxcl9\", \"Cxcl10\", \"Ccl2\", \"Cd1d1\", \"Fcer1a\", \"Fcgr1\", \"Cr2\", \"Cd47\"]\n",
    "innate_bacterial = ['Il1b', 'Tnf', 'Il6', 'Ptges2']\n",
    "innate_viral = ['Ifna12', 'Ifna16', 'Ifna2']\n",
    "th1 = ['Ifng', 'Il12a']\n",
    "th2 = ['Il4', 'Il5', 'Il13']\n",
    "th17 = ['Il17a', 'Il17f', 'Il22', 'Il23a']\n",
    "treg = ['Il10', 'Tgfb2', 'Tgfb1', 'Tgfb3']\n",
    "other_immune = [\"Nfkb1\", \"Nfkbia\", \"Irf3\", \"Nlrp3\", \"Irf7\", \"Gsdmd\", \"Il18\"]\n",
    "\n",
    "minimal_aging = [\"C3\", \"C4b\", \"Il33\",\"Tnf\",\"Cdkn2a\", \"Cdkn2b\", 'B2m', 'C1qa', 'C1qc', 'C4b', 'Ctss', 'Gbp6', 'Gbp10', 'Ifi44', 'Ifit3', 'Ifitm3', 'Itgb2', 'Parp14', 'Serpina3n', 'Tap1', 'Trim30a']"
   ]
  },
  {
   "cell_type": "code",
   "execution_count": null,
   "metadata": {},
   "outputs": [],
   "source": [
    "known_markers_pfc = np.unique(np.concatenate([\n",
    "    cortex_major_markers,\n",
    "    t_cell_genes, macrophage_genes, bcell_genes, nkcell_genes, \n",
    "    misc_immune, innate_bacterial, innate_viral, \n",
    "    th1, th2, th17, treg, other_immune,\n",
    "    minimal_aging\n",
    "]))"
   ]
  },
  {
   "cell_type": "markdown",
   "metadata": {},
   "source": [
    "# Select MERFISH genes for cell type markers in PFC "
   ]
  },
  {
   "cell_type": "code",
   "execution_count": null,
   "metadata": {},
   "outputs": [],
   "source": [
    "adata_pfc = adata[adata.obs.area == \"PFC\"]"
   ]
  },
  {
   "cell_type": "code",
   "execution_count": null,
   "metadata": {},
   "outputs": [],
   "source": [
    "# Meng/Stephen approach: for pairs of clusters, compute differential expression\n",
    "adata_raw = adata_pfc.raw.to_adata()\n",
    "adata_raw = adata_raw[:, adata_raw.var.highly_variable]"
   ]
  },
  {
   "cell_type": "code",
   "execution_count": null,
   "metadata": {
    "scrolled": true
   },
   "outputs": [],
   "source": [
    "# pairwise\n",
    "de_subclusts = compute_pairwise_de_for_clusts(adata_raw, \"clust_label\",n_de=10)\n",
    "de_majorclusts = compute_pairwise_de_for_clusts(adata_raw, \"cell_type\",n_de=10)\n",
    "\n",
    "# one vs all\n",
    "minorclusts_onevsall = compute_onevsall_de_for_clusts(adata_raw, 'clust_label',n_de=15)\n",
    "majorclusts_onevsall = compute_onevsall_de_for_clusts(adata_raw, 'cell_type',n_de=15)\n"
   ]
  },
  {
   "cell_type": "code",
   "execution_count": null,
   "metadata": {},
   "outputs": [],
   "source": [
    "#de_minorclust_pairwise = greedily_select_markers(de_subclusts, 1, pairwise=True,de_marker_genes=known_markers_pfc)\n",
    "#de_majorclust_pairwise = greedily_select_markers(de_majorclusts, 5, pairwise=True,de_marker_genes=known_markers_pfc)\n",
    "de_minorclusts_onevsall = greedily_select_markers(minorclusts_onevsall, 2, pairwise=False, de_marker_genes=known_markers_pfc)\n",
    "de_majorclusts_onevsall = greedily_select_markers(majorclusts_onevsall, 2, pairwise=False, de_marker_genes=known_markers_pfc)"
   ]
  },
  {
   "cell_type": "markdown",
   "metadata": {},
   "source": [
    "# List of known markers"
   ]
  },
  {
   "cell_type": "code",
   "execution_count": null,
   "metadata": {},
   "outputs": [],
   "source": [
    "de_combined = list(np.unique( list(de_minorclusts_onevsall) + list(de_majorclusts_onevsall)))"
   ]
  },
  {
   "cell_type": "code",
   "execution_count": null,
   "metadata": {},
   "outputs": [],
   "source": [
    "de_combined"
   ]
  },
  {
   "cell_type": "code",
   "execution_count": null,
   "metadata": {},
   "outputs": [],
   "source": [
    "adata_raw = adata_pfc.raw.to_adata()\n",
    "\n",
    "de_combined = [i for i in de_combined if i in adata_raw.var_names]"
   ]
  },
  {
   "cell_type": "code",
   "execution_count": null,
   "metadata": {},
   "outputs": [],
   "source": [
    "len(de_combined)"
   ]
  },
  {
   "cell_type": "code",
   "execution_count": null,
   "metadata": {},
   "outputs": [],
   "source": [
    "# load per cluster markers and take top N\n",
    "#seurat_clust_markers = pd.read_csv(\"gene_lists/all_clust_markers.csv\")\n",
    "#min_marker_genes = 4\n",
    "#seurat_de_marker_genes = set()\n",
    "#for n,i in enumerate(clust_labels_uniq):\n",
    "#    curr_contrast = seurat_clust_markers[seurat_clust_markers.cluster==i].sort_values('avg_log2FC', ascending=False)\n",
    "#    curr_genes = list(curr_contrast.gene)[:3]\n",
    "#    for k in curr_genes:\n",
    "#        seurat_de_marker_genes.add(k)\n",
    "#seurat_de_marker_genes = list(seurat_de_marker_genes)"
   ]
  },
  {
   "cell_type": "code",
   "execution_count": null,
   "metadata": {},
   "outputs": [],
   "source": [
    "marker_clust_avgs = []\n",
    "clust_avgs = []\n",
    "for i in adata_raw.obs.clust_label.unique():\n",
    "    clust_avgs.append(compute_mean_expression(adata_raw[adata_raw.obs.clust_label==i,:]))\n",
    "    marker_clust_avgs.append(compute_mean_expression(adata_raw[adata_raw.obs.clust_label==i,:][:,de_combined]))"
   ]
  },
  {
   "cell_type": "code",
   "execution_count": null,
   "metadata": {},
   "outputs": [],
   "source": []
  },
  {
   "cell_type": "code",
   "execution_count": null,
   "metadata": {},
   "outputs": [],
   "source": [
    "plot_clustered_celltypes_by_genes(adata_raw, de_combined,normalize=False)"
   ]
  },
  {
   "cell_type": "code",
   "execution_count": null,
   "metadata": {},
   "outputs": [],
   "source": [
    "adata_raw[:,de_combined].X.sum(1).shape"
   ]
  },
  {
   "cell_type": "code",
   "execution_count": null,
   "metadata": {},
   "outputs": [],
   "source": []
  },
  {
   "cell_type": "code",
   "execution_count": null,
   "metadata": {},
   "outputs": [],
   "source": [
    "len(de_combined)\n"
   ]
  },
  {
   "cell_type": "markdown",
   "metadata": {},
   "source": [
    "# Select MERFISH genes for aging"
   ]
  },
  {
   "cell_type": "markdown",
   "metadata": {},
   "source": [
    "1. Cell types:\n",
    "\t1. Pairwise DE of major clusts\n",
    "\t2. Pairwise DE of minor clusts\n",
    "\t3. One-vs-all DE of major clusts\n",
    "\t4. One-vs-all DE of minor clusts\n",
    "\t5. Random forest features of major clusts\n",
    "\t6. Random forest features of minor clusts\n",
    "2. Aging markers:\n",
    "\t1. Random forest features of major clusts\n",
    "\t2. Random forest features of minor clusts\n",
    "\t3. NB differential expression of major clusts\n",
    "\t4. NB differential expression of minor clusts\n",
    "\t5. TF random forests of major clusts\n",
    "\t6. TF random forests of minor clusts"
   ]
  },
  {
   "cell_type": "code",
   "execution_count": null,
   "metadata": {},
   "outputs": [],
   "source": [
    "# load aging differentially expressed genes\n",
    "age_tf_feats = list(pd.read_csv(\"gene_lists/age_tf_feats.csv\").gene)\n",
    "age_de_minor = pd.read_csv(\"gene_lists/nb_glm_age_de_minor.csv\")\n",
    "age_de_major = pd.read_csv(\"gene_lists/nb_glm_age_de_major.csv\")"
   ]
  },
  {
   "cell_type": "code",
   "execution_count": null,
   "metadata": {},
   "outputs": [],
   "source": [
    "age_de_major = age_de_major[age_de_major.qval < 1e-6]\n",
    "age_de_minor = age_de_minor[age_de_minor.qval < 1e-6]"
   ]
  },
  {
   "cell_type": "code",
   "execution_count": null,
   "metadata": {},
   "outputs": [],
   "source": [
    "age_de_major['log10fc'] = np.abs(age_de_major.coef)\n",
    "#age_de_minor['log10fc'] = np.abs(age_de_minor.coef)"
   ]
  },
  {
   "cell_type": "code",
   "execution_count": null,
   "metadata": {},
   "outputs": [],
   "source": [
    "age_de_major_markers = list(select_age_markers({k:age_de_major[age_de_major.cell_type==k] for k in age_de_major.cell_type.unique()}, 5))\n",
    "age_de_minor_markers = list(select_age_markers({k:age_de_minor[age_de_minor.cell_type==k] for k in age_de_minor.cell_type.unique()}, 2))\n"
   ]
  },
  {
   "cell_type": "code",
   "execution_count": null,
   "metadata": {},
   "outputs": [],
   "source": [
    "combined_age_markers = list(set(age_de_minor_markers + age_de_major_markers + age_tf_feats))"
   ]
  },
  {
   "cell_type": "code",
   "execution_count": null,
   "metadata": {},
   "outputs": [],
   "source": [
    "len(combined_age_markers)"
   ]
  },
  {
   "cell_type": "code",
   "execution_count": null,
   "metadata": {},
   "outputs": [],
   "source": [
    "combined_age_markers = sorted(combined_age_markers)"
   ]
  },
  {
   "cell_type": "code",
   "execution_count": null,
   "metadata": {},
   "outputs": [],
   "source": []
  },
  {
   "cell_type": "markdown",
   "metadata": {},
   "source": [
    "# Add in markers from literature"
   ]
  },
  {
   "cell_type": "code",
   "execution_count": null,
   "metadata": {},
   "outputs": [],
   "source": [
    "# Microglia reactivity signature\n",
    "# IL-6, TGFbeta1, IL10, IL-12/p40, IL-1beta, TNFalpha\n",
    "aging_microglia = ['Ccl4', 'Lgals3', 'Ms4a7', 'Ifitm3'] + ['Il10', 'Il6', 'Il21a', 'Il12b', 'Il1b', 'Tnf']\n",
    "aging_microglia += [\"Tmem119\", \"Apoe\", \"Cst7\", \"Clec7a\", \"Lpl\", \"Hif1a\", \"Igf1\", \"Cd74\", \"Ifit2\", \"Ifit3\", \"Irf7\", \"Oasl2\", \"Top2a\", \"Mcm2\"]\n",
    "aging_microglia += [\"Tyrobp\", \"Ctsb\", \"Ctsd\", \"Fth1\", \"Lyz2\", \"Axl\", \"Cst7\", \"Trem2\", \"Cst7\", \"Lpl\", \"Cd9\", \"Csf1\", \"Ccl6\", \"Itgax\", \"Clec7a\", \"Lilrb4\", \"Timp2\", \"Marcks\", \"Serinc3\", \"P2ry12\", \"Cd9\", \"Cd63\"]"
   ]
  },
  {
   "cell_type": "code",
   "execution_count": null,
   "metadata": {},
   "outputs": [],
   "source": [
    "# Aging astrocytes -- The Aging Astrocyte Transcriptome from Multiple Regions of the Mouse Brain, Boisvert et al\n",
    "aging_astro_allregions = ['Sprina3m', 'Serpina3n', 'C4b', 'Pcdh6', 'Pcdhb1', 'Gfap', 'Prss50', # upregulated\n",
    "                          'Gpx8', 'Hspa1b', 'Hspa1a', 'Rsrp1']\n",
    "aging_astro_regionspecific = list(np.unique(['Serpina3f', 'Rpk4', 'Timp1', 'Fbln5', 'Plin4', 'Rab20', 'Capg', 'Zc3hav1', 'Gbp2', 'Ifi35', 'Hs3st3a1', 'Mboat1', 'Psmb8', 'Cyp27a1',\n",
    "                              'Serpina3f', 'Cdr1', 'Zbtb20', 'Grin2b', 'Hipk2', 'Tcp11l1', 'Ago3', 'Oasl2', 'Lnpep', 'Gan', 'Aqp2', 'Bst2', 'Hmbox1', 'Zc3hav1',\n",
    "                             'Serpina3f', 'Cdr1', 'Lars2', 'Zbtb20', 'Grin2b', 'Rpk4', 'Nr5a1', 'Slc22a18', 'Timp1', 'Fcgr2b', 'Hipk2', 'C3', 'Osmr', 'Oasl2', 'Nupr1', # up\n",
    "                                            'Bmp4', 'Kiss1', 'Fst', 'Cyr61', 'Tead2', 'Dnajb1', 'Banp', 'Cdx8', 'Rbm12b1', 'Ece2', \n",
    "                                            'Bmp4', 'Cd38', 'Sptbn2', 'Sptb', 'Pcdh20', 'Eif5b', 'Gm7120', 'Sptan1', 'Hmgcr', 'Trio',\n",
    "                                            'Sspo', 'Wfdc2', 'Ttr', 'Ctgf', 'Thbs4', 'Bmp4', 'Prom1', 'Sptbn2', 'Bgn', 'Tnc', 'Sparc']))\n",
    "combined_astro_marker = list(np.unique(aging_astro_allregions+aging_astro_regionspecific))"
   ]
  },
  {
   "cell_type": "code",
   "execution_count": null,
   "metadata": {},
   "outputs": [],
   "source": [
    "# senescence genes\n",
    "senescence_high = ['Retnla', 'Tnf', 'Cdkn2a', 'Itgax', 'Il12b', 'Il18', 'Cd68', 'Fcgr1',\n",
    "       'Parp14', 'Fcna', 'Cd36', 'Cd38', 'Bst1', 'Itgam', 'Emr1', 'Irg1',\n",
    "       'Il1b', 'Lmnb1', 'Il10', 'Fabp4', 'Lyve1', 'Mrc1', 'Nampt', 'Nadk',\n",
    "       'Bmi1', 'Sirt7']\n",
    "\n",
    "senescence_low = ['Sirt1', 'Nfkbiz', 'Cdkn1a', 'Tiparp', 'Trp53',\n",
    "       'Sirt5', 'Csf1', 'Nfkb1', 'Parp6', 'Sirt2', 'Nnmt', 'Hmgb1', 'Bcl2l2',\n",
    "       'Nt5e', 'Sirt3', 'Serpine1', 'Arg1', 'Parp10', 'Ccl2', 'Il6', 'Nmnat3',\n",
    "       'Cdkn2b', 'Il12a', 'Parp12', 'Parp9', 'Parp11', 'Parp8', 'Sirt6',\n",
    "       'Sirt4', 'Mgl2', 'Parp3', 'Zc3hav1', 'Tnks', 'Parp4', 'Parp2', 'Sarm1',\n",
    "       'Parp16', 'Nmnat2', 'Parp1', 'Nmnat1']\n",
    "\n",
    "reactive_astro1 = ['C3',  'Ggta1', 'Ligp1', 'Gpp2', 'Fbln5', 'Ekbp5', 'Psmb8'] # A1 astrocytes are produced following LPS injection\n",
    "reactive_astro2 = ['Clcf1', 'Tgm1', 'Ptx3', 'S100a10', 'Sphk1', 'Cd109', 'Ptgs2', 'Emp1', 'Slc10a6', 'Tms4sf1', 'B3gnt5', 'Stat3']\n",
    "reactive_astro_pan = ['Lcn2', 'Steap4', 'S1pr3', 'Timp1', 'Hsbp1', 'Cxcl10', 'Cd44', 'Cp', 'Serpina3n', 'Aspg', 'Vim', 'Gfap']\n",
    "\n",
    "# brunet aging genes\n",
    "brunet_genes = ['B2m', 'C1qa', 'C1qc', 'C4b', 'Ctss', 'Gbp6', 'Gbp10', 'Ifi44', 'Ifit3', 'Ifitm3', 'Itgb2', 'Parp14', 'Serpina3n', 'Tap1', 'Trim30a']\n"
   ]
  },
  {
   "cell_type": "code",
   "execution_count": null,
   "metadata": {},
   "outputs": [],
   "source": [
    "combined_senescence = list(np.unique(senescence_high + senescence_low + brunet_genes + reactive_astro1 + reactive_astro2 + reactive_astro_pan))"
   ]
  },
  {
   "cell_type": "code",
   "execution_count": null,
   "metadata": {},
   "outputs": [],
   "source": [
    "orig_all_age_markers = list(list(combined_age_markers + aging_microglia + combined_astro_marker + combined_senescence))"
   ]
  },
  {
   "cell_type": "code",
   "execution_count": null,
   "metadata": {},
   "outputs": [],
   "source": [
    "# remove genes in cell type markers\n",
    "orig_all_age_markers = list(set([i for i in orig_all_age_markers if i not in de_combined]))\n",
    "good_genes = adata.raw.to_adata().var_names\n",
    "orig_all_age_markers = [i for i in orig_all_age_markers if i in good_genes]"
   ]
  },
  {
   "cell_type": "code",
   "execution_count": null,
   "metadata": {},
   "outputs": [],
   "source": [
    "print(len(orig_all_age_markers))"
   ]
  },
  {
   "cell_type": "code",
   "execution_count": null,
   "metadata": {},
   "outputs": [],
   "source": [
    "age_diffexp = compute_average_age_expr_change(adata_raw, orig_all_age_markers)"
   ]
  },
  {
   "cell_type": "code",
   "execution_count": null,
   "metadata": {},
   "outputs": [],
   "source": [
    "# filter based on average change in expression\n",
    "age_threshold = 0.35 #np.log(1.5)\n",
    "all_age_markers = np.array(orig_all_age_markers)[(np.abs(age_diffexp) > age_threshold).any(0)]"
   ]
  },
  {
   "cell_type": "code",
   "execution_count": null,
   "metadata": {},
   "outputs": [],
   "source": [
    "all_age_markers"
   ]
  },
  {
   "cell_type": "code",
   "execution_count": null,
   "metadata": {},
   "outputs": [],
   "source": [
    "print(np.sum([1 if i in combined_senescence else 0 for i in orig_all_age_markers ]))"
   ]
  },
  {
   "cell_type": "code",
   "execution_count": null,
   "metadata": {},
   "outputs": [],
   "source": [
    "mean_age_expr = compute_mean_expression(adata_raw[:,all_age_markers])\n",
    "plt.plot(np.cumsum(np.sort(mean_age_expr))/np.sum(mean_age_expr),'ko-')"
   ]
  },
  {
   "cell_type": "code",
   "execution_count": null,
   "metadata": {},
   "outputs": [],
   "source": [
    "# remove the top 10% highly expressed age markers\n",
    "#sorted_age_markers = np.array(orig_all_age_markers)[np.argsort(mean_age_expr)]\n",
    "#all_age_markers = list(np.array(orig_all_age_markers[:int(0.8*len(sorted_age_markers))]))"
   ]
  },
  {
   "cell_type": "code",
   "execution_count": null,
   "metadata": {},
   "outputs": [],
   "source": [
    "# how \n",
    "#print(np.sum([1 if i in combined_senescence else 0 for i in all_age_markers ]))"
   ]
  },
  {
   "cell_type": "code",
   "execution_count": null,
   "metadata": {},
   "outputs": [],
   "source": [
    "print(\"Senescence genes excluded based on expression\")\n",
    "for i in combined_senescence:\n",
    "    if i not in all_age_markers and i in orig_all_age_markers:\n",
    "        if i in brunet_genes:\n",
    "            print(i, 'brunet')\n",
    "        elif i in senescence_high:\n",
    "            print(i, 'senesce_high')\n",
    "        elif i in senescence_low:\n",
    "            print(i, 'senesce_low')\n",
    "        elif i in combined_astro_marker:\n",
    "            print(i,'combined_astro')\n",
    "        elif i in aging_microglia:\n",
    "            print(i,'microglia')\n",
    "        else:\n",
    "            print(i)"
   ]
  },
  {
   "cell_type": "code",
   "execution_count": null,
   "metadata": {},
   "outputs": [],
   "source": [
    "plot_clustered_ages_by_genes(adata_raw, de_combined)\n",
    "plot_clustered_ages_by_genes(adata_raw, all_age_markers)"
   ]
  },
  {
   "cell_type": "code",
   "execution_count": null,
   "metadata": {},
   "outputs": [],
   "source": [
    "plot_clustered_celltypes_by_genes(adata_raw, all_age_markers,normalize=False)"
   ]
  },
  {
   "cell_type": "code",
   "execution_count": null,
   "metadata": {},
   "outputs": [],
   "source": [
    "plot_per_celltype_sparsity(adata_raw, de_combined)"
   ]
  },
  {
   "cell_type": "code",
   "execution_count": null,
   "metadata": {},
   "outputs": [],
   "source": [
    "plot_per_celltype_sparsity(adata_raw, all_age_markers)"
   ]
  },
  {
   "cell_type": "code",
   "execution_count": null,
   "metadata": {},
   "outputs": [],
   "source": [
    "plot_per_celltype_totalexpr(adata_raw, de_combined)"
   ]
  },
  {
   "cell_type": "code",
   "execution_count": null,
   "metadata": {},
   "outputs": [],
   "source": [
    "plot_per_celltype_totalexpr(adata_raw, all_age_markers)"
   ]
  },
  {
   "cell_type": "code",
   "execution_count": null,
   "metadata": {},
   "outputs": [],
   "source": [
    "plot_per_gene_sparsity(adata_raw, de_combined)"
   ]
  },
  {
   "cell_type": "code",
   "execution_count": null,
   "metadata": {},
   "outputs": [],
   "source": [
    "plot_per_gene_sparsity(adata_raw, all_age_markers)"
   ]
  },
  {
   "cell_type": "code",
   "execution_count": null,
   "metadata": {},
   "outputs": [],
   "source": [
    "pd.DataFrame({'gene':de_combined}).to_csv(\"gene_lists/all_markers_pfc.csv\")\n",
    "pd.DataFrame({'gene':all_age_markers}).to_csv(\"gene_lists/all_markers_pfc_aging.csv\")"
   ]
  },
  {
   "cell_type": "markdown",
   "metadata": {},
   "source": [
    "# Save out per cluster expression for these genes for bit assignment"
   ]
  },
  {
   "cell_type": "code",
   "execution_count": null,
   "metadata": {},
   "outputs": [],
   "source": [
    "# find cluster names\n",
    "adata_raw = adata.raw.to_adata()\n",
    "clust_labels_uniq = adata_raw.obs.clust_label.unique()\n",
    "# find markers actually in adata\n",
    "all_markers = [i for i in all_markers_to_keep if i in adata_raw.var_names]\n",
    "# compute cluster averages\n",
    "clust_avgs = np.vstack([adata_raw[adata_raw.obs.clust_label==i,:][:, list(all_markers_to_keep)].X.mean(0) for i in clust_labels_uniq])"
   ]
  },
  {
   "cell_type": "code",
   "execution_count": null,
   "metadata": {},
   "outputs": [],
   "source": [
    "clust_expr = pd.DataFrame(clust_avgs, index=clust_labels_uniq, columns=all_markers_to_keep).to_csv(\"merfish_cluster_expr.csv\")"
   ]
  },
  {
   "cell_type": "code",
   "execution_count": null,
   "metadata": {},
   "outputs": [],
   "source": [
    "# save this data for bit assignment\n",
    "clust_proportions = np.array([np.sum(adata_raw.obs.clust_label==i) for i in clust_labels_uniq])\n",
    "clust_proportions = clust_proportions/clust_proportions.sum()\n",
    "pd.DataFrame({'clust':clust_labels_uniq,'proportion':clust_proportions}).to_csv(\"merfish_cluster_proportions.csv\")"
   ]
  },
  {
   "cell_type": "code",
   "execution_count": null,
   "metadata": {},
   "outputs": [],
   "source": []
  }
 ],
 "metadata": {
  "kernelspec": {
   "display_name": "Python 3 (ipykernel)",
   "language": "python",
   "name": "python3"
  },
  "language_info": {
   "codemirror_mode": {
    "name": "ipython",
    "version": 3
   },
   "file_extension": ".py",
   "mimetype": "text/x-python",
   "name": "python",
   "nbconvert_exporter": "python",
   "pygments_lexer": "ipython3",
   "version": "3.7.4"
  }
 },
 "nbformat": 4,
 "nbformat_minor": 4
}
