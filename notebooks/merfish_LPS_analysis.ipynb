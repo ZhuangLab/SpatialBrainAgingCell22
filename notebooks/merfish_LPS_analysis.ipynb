{
 "cells": [
  {
   "cell_type": "code",
   "execution_count": null,
   "metadata": {},
   "outputs": [],
   "source": [
    "%load_ext autoreload\n",
    "%autoreload 2\n",
    "import scanpy as sc\n",
    "import matplotlib.pyplot as plt\n",
    "import numpy as np\n",
    "import matplotlib as mpl\n",
    "import os\n",
    "import anndata as ad\n",
    "mpl.rcParams['figure.dpi'] = 150\n",
    "plt.rcParams['pdf.fonttype'] = 42\n",
    "\n",
    "import seaborn as sns\n",
    "import sys\n",
    "from spatial_analysis import *\n",
    "from plotting import *\n",
    "from utils import *\n",
    "sns.set_style('white')\n",
    "import pandas as pd"
   ]
  },
  {
   "cell_type": "code",
   "execution_count": null,
   "metadata": {},
   "outputs": [],
   "source": [
    "def unbinarize_strings(A):\n",
    "    A.var_names = [i.decode('ascii') for i in A.var_names]\n",
    "    A.obs.index = [i.decode('ascii') for i in A.obs.index]\n",
    "    for i in A.obs.columns:\n",
    "        if A.obs[i].dtype != np.dtype('bool') and \\\n",
    "            A.obs[i].dtype != np.dtype('int64') and \\\n",
    "            A.obs[i].dtype != np.dtype('int32') and \\\n",
    "            A.obs[i].dtype != np.dtype('object_') and \\\n",
    "            A.obs[i].dtype != np.dtype('float64') and A.obs[i].dtype != np.dtype('float32'):\n",
    "            if A.obs[i].dtype.is_dtype('category'):\n",
    "                try:\n",
    "                    A.obs[i] = [i.decode('ascii') for i in A.obs[i]]\n",
    "                except Exception as e:\n",
    "                    pass\n",
    "    return A"
   ]
  },
  {
   "cell_type": "code",
   "execution_count": null,
   "metadata": {},
   "outputs": [],
   "source": []
  },
  {
   "cell_type": "code",
   "execution_count": null,
   "metadata": {},
   "outputs": [],
   "source": [
    "adata = ad.read_h5ad(\"/faststorage/brain_aging/merfish/exported/011722_merged_lps_ctrl_allages.h5ad\")\n"
   ]
  },
  {
   "cell_type": "code",
   "execution_count": null,
   "metadata": {},
   "outputs": [],
   "source": [
    "adata = unbinarize_strings(adata)"
   ]
  },
  {
   "cell_type": "code",
   "execution_count": null,
   "metadata": {
    "jupyter": {
     "outputs_hidden": true
    },
    "tags": []
   },
   "outputs": [],
   "source": [
    "adata.obs[\"smoothed_spatial_clust_annot_values\"] = np.nan\n",
    "for i in adata.obs.data_batch.unique():\n",
    "    print(i)\n",
    "    curr_adata = adata[adata.obs.data_batch==i]\n",
    "    for j in curr_adata.obs.slice.unique():\n",
    "        A_section = curr_adata[np.logical_and(curr_adata.obs.slice==j, curr_adata.obs.spatial_clust_annots.isin(['L2/3','L5','L6']))]\n",
    "        A_section = cleanup_section(A_section,50)\n",
    "        adata.obs.loc[A_section.obs.index, \"smoothed_spatial_clust_annot_values\"] = np.array(A_section.obs[\"smoothed_spatial_clust_annot_values\"])\n",
    "#adata.obs['spatial_clust_annots_value'] = adata.obs.smoothed_spatial_clust_annot_values\n",
    "temp = adata.obs.smoothed_spatial_clust_annot_values\n",
    "temp[np.isnan(temp)] = adata.obs.spatial_clust_annots_value[np.isnan(temp)]\n",
    "#adata.obs.spatial_clust_annots = \n",
    "adata.obs.spatial_clust_annots_value = list(temp.copy())"
   ]
  },
  {
   "cell_type": "code",
   "execution_count": null,
   "metadata": {},
   "outputs": [],
   "source": [
    "adata_ctl_raw = ad.read_h5ad(\"/faststorage/brain_aging/merfish/exported/011722_adata_combined_harmony.h5ad\")\n"
   ]
  },
  {
   "cell_type": "code",
   "execution_count": null,
   "metadata": {},
   "outputs": [],
   "source": [
    "adata_ctl_raw_merfish = adata_ctl_raw[adata_ctl_raw.obs.dtype=='merfish']"
   ]
  },
  {
   "cell_type": "code",
   "execution_count": null,
   "metadata": {},
   "outputs": [],
   "source": [
    "idx = [i+'-0' for i in adata_ctl_raw_merfish.obs.index]"
   ]
  },
  {
   "cell_type": "code",
   "execution_count": null,
   "metadata": {},
   "outputs": [],
   "source": [
    "adata.obs.loc[idx,\"spatial_clust_annots_value\"] = list(adata_ctl_raw_merfish.obs.spatial_clust_annots_value)\n",
    "adata.obs.loc[idx,\"spatial_clust_annots\"] = list(adata_ctl_raw_merfish.obs.spatial_clust_annots )"
   ]
  },
  {
   "cell_type": "code",
   "execution_count": null,
   "metadata": {},
   "outputs": [],
   "source": [
    "adata.obs.loc[idx,\"spatial_clust_annots_value\"]"
   ]
  },
  {
   "cell_type": "code",
   "execution_count": null,
   "metadata": {},
   "outputs": [],
   "source": [
    "adata_ctl_raw_merfish.obs.spatial_clust_annots.shape"
   ]
  },
  {
   "cell_type": "code",
   "execution_count": null,
   "metadata": {},
   "outputs": [],
   "source": [
    "#adata_combined.obs.spatial_clust_annots = [spatial_clust_annots_values[i] if i in spatial_clust_annots_values else '' for i in adata_combined.obs.smoothed_spatial_clust_annot_values]"
   ]
  },
  {
   "cell_type": "code",
   "execution_count": null,
   "metadata": {},
   "outputs": [],
   "source": [
    "adata_lps = adata[adata.obs.cond==\"lps\"]\n",
    "adata_ctl = adata[adata.obs.cond==\"ctrl\"]"
   ]
  },
  {
   "cell_type": "code",
   "execution_count": null,
   "metadata": {},
   "outputs": [],
   "source": [
    "adata_lps_raw = ad.read_h5ad(\"/faststorage/brain_aging/merfish/exported/112921_merged_lps_merfish_with_doublet_umap_allages.h5ad\")\n",
    "adata_lps_raw = adata_lps_raw.raw.to_adata()"
   ]
  },
  {
   "cell_type": "code",
   "execution_count": null,
   "metadata": {},
   "outputs": [],
   "source": [
    "lps_idx = [i.split('-')[0] for i in adata_lps.obs.index]"
   ]
  },
  {
   "cell_type": "code",
   "execution_count": null,
   "metadata": {},
   "outputs": [],
   "source": [
    "adata_lps_raw = adata_lps_raw[lps_idx]\n",
    "adata_lps_raw.obs = adata_lps.obs.copy()"
   ]
  },
  {
   "cell_type": "code",
   "execution_count": null,
   "metadata": {},
   "outputs": [],
   "source": [
    "sc.pp.scale(adata_lps_raw,max_value=10)"
   ]
  },
  {
   "cell_type": "code",
   "execution_count": null,
   "metadata": {},
   "outputs": [],
   "source": [
    "sc.pl.pca(adata_lps_raw,color='clust_annot_preds')"
   ]
  },
  {
   "cell_type": "code",
   "execution_count": null,
   "metadata": {},
   "outputs": [],
   "source": [
    "import bbknn\n",
    "sc.tl.pca(adata_lps_raw,n_comps=30)\n"
   ]
  },
  {
   "cell_type": "code",
   "execution_count": null,
   "metadata": {},
   "outputs": [],
   "source": [
    "bbknn.bbknn(adata_lps_raw, 'data_batch')\n"
   ]
  },
  {
   "cell_type": "code",
   "execution_count": null,
   "metadata": {},
   "outputs": [],
   "source": [
    "sc.tl.umap(adata_lps_raw)"
   ]
  },
  {
   "cell_type": "code",
   "execution_count": null,
   "metadata": {},
   "outputs": [],
   "source": [
    "f, ax = plt.subplots(figsize=(5,5))\n",
    "sc.pl.umap(adata_lps_raw, color=['clust_annot_preds'],palette=clust_pals,ax=ax,legend_loc='bottom')\n",
    "ax.axis('off')\n",
    "ax.set_title('')\n",
    "f.savefig(\"/home/user/Dropbox/zhuang_lab/aging/aging_atlas_paper/figures_int/fig4_celltype_umap.png\",bbox_inches='tight',dpi=300)"
   ]
  },
  {
   "cell_type": "code",
   "execution_count": null,
   "metadata": {},
   "outputs": [],
   "source": [
    "f, ax = plt.subplots(figsize=(5,5))\n",
    "sc.pl.umap(adata_lps_raw, color=['age'], palette=age_pal,ax=ax,legend_loc='bottom',)\n",
    "ax.axis('off')\n",
    "ax.set_title('')\n",
    "f.savefig(\"/home/user/Dropbox/zhuang_lab/aging/aging_atlas_paper/figures_int/fig4_age_umap.png\",bbox_inches='tight',dpi=300)"
   ]
  },
  {
   "cell_type": "code",
   "execution_count": null,
   "metadata": {},
   "outputs": [],
   "source": [
    "celltype_colors, celltype_pals, label_colors, clust_pals = generate_palettes(adata, cell_type_key='cell_type_preds',clust_key='clust_annot_preds')"
   ]
  },
  {
   "cell_type": "code",
   "execution_count": null,
   "metadata": {},
   "outputs": [],
   "source": [
    "cond_palette = sns.color_palette(\"Set1\", n_colors=2)\n",
    "cond_palette.reverse()\n"
   ]
  },
  {
   "cell_type": "code",
   "execution_count": null,
   "metadata": {},
   "outputs": [],
   "source": [
    "age_colors = ['cornflowerblue','thistle','lightcoral']\n",
    "\n",
    "f,ax = plt.subplots(figsize=(5,5))\n",
    "sc.pl.umap(adata, color=['age'],palette=sns.color_palette(age_colors),size=0.1,legend_loc='bottom',ax=ax)\n",
    "ax.set_title('')\n",
    "ax.axis('off')\n",
    "f.savefig(\"/home/user/Dropbox/zhuang_lab/aging/aging_atlas_paper/figures_int/fig4_lps_integration.png\", bbox_inches='tight', dpi=300)"
   ]
  },
  {
   "cell_type": "code",
   "execution_count": null,
   "metadata": {},
   "outputs": [],
   "source": [
    "f,ax = plt.subplots(figsize=(5,5))\n",
    "sc.pl.umap(adata, color=['cond'],palette=sns.color_palette(['g','m']),size=0.1,legend_loc='bottom',ax=ax)\n",
    "ax.set_title('')\n",
    "ax.axis('off')\n",
    "f.savefig(\"/home/user/Dropbox/zhuang_lab/aging/aging_atlas_paper/figures_int/fig4_lps_integration.png\", bbox_inches='tight', dpi=300)"
   ]
  },
  {
   "cell_type": "code",
   "execution_count": null,
   "metadata": {},
   "outputs": [],
   "source": [
    "#f,ax = plt.subplots(figsize=(5,5))\n",
    "sc.pl.umap(adata_ctl, color=['C4b','Il33','C3','Gfap','age','Ifit3'],palette=age_pal,size=0.5,legend_loc='bottom')\n"
   ]
  },
  {
   "cell_type": "code",
   "execution_count": null,
   "metadata": {},
   "outputs": [],
   "source": [
    "sc.pl.umap(adata_lps[adata_lps.obs.age=='4wk'], color=['C4b','Il33','C3','Gfap','age','Ifit3'],palette=age_pal,size=0.5,legend_loc='bottom')\n"
   ]
  },
  {
   "cell_type": "code",
   "execution_count": null,
   "metadata": {},
   "outputs": [],
   "source": [
    "sc.pl.umap(adata_lps[adata_lps.obs.age=='90wk'], color=['C4b','Il33','C3','Gfap','age','Ifit3'],palette=age_pal,size=0.5,legend_loc='bottom')\n"
   ]
  },
  {
   "cell_type": "code",
   "execution_count": null,
   "metadata": {},
   "outputs": [],
   "source": [
    "f,ax = plt.subplots(figsize=(5,5))\n",
    "sc.pl.umap(adata_ctl, color=['clust_annot'],palette=clust_pals,size=5,legend_loc='bottom',ax=ax)\n"
   ]
  },
  {
   "cell_type": "code",
   "execution_count": null,
   "metadata": {},
   "outputs": [],
   "source": [
    "f,ax = plt.subplots(figsize=(5,5))\n",
    "sc.pl.umap(adata[adata.obs.cond=='ctrl'], color=['clust_annot_preds'],palette=clust_pals,size=5,legend_loc='bottom',ax=ax)\n",
    "ax.set_title('')\n",
    "ax.axis('off')\n",
    "\n",
    "f.savefig(\"/home/user/Dropbox/zhuang_lab/aging/aging_atlas_paper/figures_int/fig4_ctrl_iclusts.png\", bbox_inches='tight', dpi=200)"
   ]
  },
  {
   "cell_type": "code",
   "execution_count": null,
   "metadata": {},
   "outputs": [],
   "source": [
    "f,ax = plt.subplots(figsize=(5,5))\n",
    "sc.pl.umap(adata[adata.obs.cond=='lps'], color=['clust_annot_preds'],palette=clust_pals,size=5,legend_loc='bottom',ax=ax)\n",
    "ax.set_title('')\n",
    "ax.axis('off')\n",
    "\n",
    "f.savefig(\"/home/user/Dropbox/zhuang_lab/aging/aging_atlas_paper/figures_int/fig4_lps_iclusts.png\", bbox_inches='tight', dpi=200)"
   ]
  },
  {
   "cell_type": "code",
   "execution_count": null,
   "metadata": {
    "scrolled": true
   },
   "outputs": [],
   "source": [
    "# Train classifier on cell type labels for integrated data and create confusion matrix\n",
    "from sklearn.model_selection import train_test_split\n",
    "from sklearn.neighbors import KNeighborsClassifier\n",
    "all_preds = []\n",
    "all_y_test = []\n",
    "for i in range(5):\n",
    "    print(i)\n",
    "    X_train, X_test, y_train, y_test = train_test_split(adata_ctl.obsm['X_pca'], np.array(adata_ctl.obs.clust_annot), test_size=0.2, random_state=42)\n",
    "    mdl = KNeighborsClassifier(n_jobs=-1).fit(X_train, y_train)\n",
    "    preds = mdl.predict(X_test)\n",
    "    all_preds.append(preds)\n",
    "    all_y_test.append(y_test)"
   ]
  },
  {
   "cell_type": "code",
   "execution_count": null,
   "metadata": {},
   "outputs": [],
   "source": [
    "from sklearn.metrics import confusion_matrix"
   ]
  },
  {
   "cell_type": "code",
   "execution_count": null,
   "metadata": {},
   "outputs": [],
   "source": [
    "clusts = sorted(adata_ctl.obs.clust_annot.unique())\n",
    "cmat = np.zeros((len(clusts), len(clusts)))\n",
    "for i in range(3):\n",
    "    cmat += confusion_matrix(all_preds[i], all_y_test[i],labels=clusts).astype(np.float64)\n",
    "for i in range(cmat.shape[0]):\n",
    "    cmat[i,:] = cmat[i,:]/cmat[i,:].sum()"
   ]
  },
  {
   "cell_type": "code",
   "execution_count": null,
   "metadata": {},
   "outputs": [],
   "source": []
  },
  {
   "cell_type": "code",
   "execution_count": null,
   "metadata": {},
   "outputs": [],
   "source": [
    "label_colors = {i:label_colors[i] for i in clusts}"
   ]
  },
  {
   "cell_type": "code",
   "execution_count": null,
   "metadata": {},
   "outputs": [],
   "source": [
    "f, axes = plt.subplots(figsize=(10,10), nrows=2, ncols=2, gridspec_kw={'width_ratios':[1,10],'height_ratios':[10,1], 'wspace':0.01, 'hspace':0.01})\n",
    "ax = axes[1,0]\n",
    "ax.axis('off')\n",
    "ax = axes[0,1]\n",
    "ax.imshow(np.flipud(cmat),vmin=0,vmax=1,cmap=plt.cm.viridis,aspect='auto',interpolation='none',rasterized=True)\n",
    "ax.axis('off')\n",
    "ax = axes[0,0]\n",
    "ax.set_xticks([])\n",
    "ax.set_yticks(np.arange(len(label_colors)));\n",
    "ax.set_yticklabels(clusts[::-1]);\n",
    "sns.despine(ax=ax,bottom=True,left=True)\n",
    "\n",
    "ax.imshow(np.expand_dims(np.arange(len(label_colors))[::-1],1),cmap=mpl.colors.ListedColormap(label_colors.values()))\n",
    "#ax.axis('off')\n",
    "ax = axes[1,1]\n",
    "ax.imshow(np.expand_dims(np.arange(len(label_colors)),1).T,cmap=mpl.colors.ListedColormap(label_colors.values()))\n",
    "#ax.axis('off')\n",
    "ax.set_xticks(np.arange(len(label_colors)));\n",
    "ax.set_xticklabels(clusts, rotation=90);\n",
    "ax.set_yticks([])\n",
    "sns.despine(ax=ax,bottom=True,left=True)\n",
    "plt.savefig(\"/home/user/Dropbox/zhuang_lab/aging/aging_atlas_paper/figures_int/figS12_clust_ident_confusion.pdf\",bbox_inches='tight',dpi=300)"
   ]
  },
  {
   "cell_type": "code",
   "execution_count": null,
   "metadata": {},
   "outputs": [],
   "source": [
    "sorted(clusts)"
   ]
  },
  {
   "cell_type": "code",
   "execution_count": null,
   "metadata": {},
   "outputs": [],
   "source": [
    "spatial_domains = ['Pia','L2/3', 'L5', 'L6','LatSept', 'CC', 'Striatum','Ventricle']\n",
    "clust_order = [\n",
    " 'ExN-L2/3-1',\n",
    " 'ExN-L2/3-2',\n",
    " 'ExN-L5-1',\n",
    " 'ExN-L5-2',\n",
    " 'ExN-L5-3',\n",
    " 'ExN-L6-1',\n",
    " 'ExN-L6-2',\n",
    " 'ExN-L6-3',\n",
    " 'ExN-Olf',\n",
    " 'InN-Olf-1',\n",
    " 'InN-Olf-2',\n",
    "\n",
    " 'InN-Vip',\n",
    "\n",
    " 'InN-Lamp5',\n",
    "\n",
    " 'InN-Pvalb-1',\n",
    " 'InN-Pvalb-2',\n",
    " 'InN-Pvalb-3',\n",
    " 'InN-Sst-1',\n",
    " 'InN-Sst-2',\n",
    " 'InN-Calb2-1',\n",
    " 'InN-Calb2-2',\n",
    " 'InN-Chat',\n",
    " 'InN-Lhx6',\n",
    "\n",
    "'MSN-D1-1',\n",
    " 'MSN-D1-2',\n",
    " 'MSN-D2',\n",
    " 'OPC',\n",
    " 'Olig-1',\n",
    " 'Olig-2',\n",
    " 'Olig-3',\n",
    "\n",
    "'Astro-1',\n",
    " 'Astro-2',\n",
    " 'Vlmc',\n",
    " 'Peri-1',\n",
    " 'Peri-2',\n",
    " 'Endo-1',\n",
    " 'Endo-2',\n",
    " 'Endo-3',\n",
    " 'Epen',\n",
    "\n",
    " 'Micro-1',\n",
    " 'Micro-2',\n",
    " 'Micro-3',\n",
    " 'Macro',\n",
    " 'T cell',\n",
    "]\n",
    "\n",
    "seg_cmap = mpl.colors.ListedColormap([ 'gold','tan', 'peru', 'maroon', 'steelblue','gray',  'purple', 'darkkhaki'])"
   ]
  },
  {
   "cell_type": "code",
   "execution_count": null,
   "metadata": {},
   "outputs": [],
   "source": [
    "# quantify celltypes as a function of region\n",
    "young_clusts, young_counts = plot_clust_spatial_enrichment(adata_lps[adata_lps.obs.age=='4wk'],vmax=1,clust_key='clust_annot_preds',uniq_clusts=clust_order,seg_cmap=seg_cmap,label_colors=label_colors)\n",
    "plt.savefig(\"/home/user/Dropbox/zhuang_lab/aging/aging_atlas_paper/figures_int/figS10_lps_4wk_celltypecomp.pdf\",bbox_inches='tight')"
   ]
  },
  {
   "cell_type": "code",
   "execution_count": null,
   "metadata": {},
   "outputs": [],
   "source": [
    "# quantify celltypes as a function of region\n",
    "young_clusts, young_counts = plot_clust_spatial_enrichment(adata_lps[adata_lps.obs.age=='24wk'],vmax=1,clust_key='clust_annot_preds',uniq_clusts=clust_order,seg_cmap=seg_cmap,label_colors=label_colors)\n",
    "plt.savefig(\"/home/user/Dropbox/zhuang_lab/aging/aging_atlas_paper/figures_int/figS10_lps_24wk_celltypecomp.pdf\",bbox_inches='tight')"
   ]
  },
  {
   "cell_type": "code",
   "execution_count": null,
   "metadata": {},
   "outputs": [],
   "source": [
    "# quantify celltypes as a function of region\n",
    "old_clusts_lps, _ = plot_clust_spatial_enrichment(adata_lps[adata_lps.obs.age=='90wk'],vmax=1,clust_key='clust_annot_preds',uniq_clusts=clust_order,seg_cmap=seg_cmap, label_colors=label_colors)\n",
    "plt.savefig(\"/home/user/Dropbox/zhuang_lab/aging/aging_atlas_paper/figures_int/figS10_lps_90wk_celltypecomp.pdf\",bbox_inches='tight')"
   ]
  },
  {
   "cell_type": "code",
   "execution_count": null,
   "metadata": {},
   "outputs": [],
   "source": [
    "# quantify celltypes as a function of region\n",
    "young_clusts, young_counts = plot_clust_spatial_enrichment(adata_ctl[adata_ctl.obs.age=='4wk'],vmax=1,clust_key='clust_annot_preds',uniq_clusts=clust_order,seg_cmap=seg_cmap,label_colors=label_colors)\n"
   ]
  },
  {
   "cell_type": "code",
   "execution_count": null,
   "metadata": {},
   "outputs": [],
   "source": [
    "old_clusts_ctl, _ = plot_clust_spatial_enrichment(adata_ctl[adata_ctl.obs.age=='90wk'],vmax=1,clust_key='clust_annot_preds',uniq_clusts=clust_order,seg_cmap=seg_cmap, label_colors=label_colors)\n"
   ]
  },
  {
   "cell_type": "code",
   "execution_count": null,
   "metadata": {},
   "outputs": [],
   "source": [
    "# plot cell type fractsion\n",
    "def count_celltypes(A, age, key='cell_type_preds'):\n",
    "    counts = {\n",
    "    \"Inhibitory\":0,\n",
    "    \"Excitatory\":0,\n",
    "    \"MSN\":0,\n",
    "    \"Non-neuronal\":0\n",
    "    }\n",
    "    cell_types = A[A.obs.age==age].obs[key]\n",
    "    for i in cell_types:\n",
    "        if \"ExN\" in i:\n",
    "            counts[\"Excitatory\"] += 1\n",
    "        elif \"InN\" in i:\n",
    "            counts[\"Inhibitory\"] += 1\n",
    "        elif \"MSN\" in i:\n",
    "            counts[\"MSN\"] += 1\n",
    "        else:\n",
    "            counts[\"Non-neuronal\"] += 1\n",
    "    return pd.DataFrame({ 'counts':list(counts.values())},index=list(counts.keys()))\n",
    "\n",
    "def simplify_celltypes(A, age, key='cell_type_preds'):\n",
    "    celltypes = []\n",
    "    for i in A[A.obs.age==age].obs[key]:\n",
    "        if \"ExN\" in i:\n",
    "            celltypes.append(\"ExN\")\n",
    "        elif \"InN\" in i:\n",
    "            celltypes.append(\"InN\")\n",
    "        elif \"MSN\" in i:\n",
    "            celltypes.append(\"MSN\")\n",
    "        #else:\n",
    "        #    celltypes.append(\"Non-neuronal\")\n",
    "\n",
    "    return pd.DataFrame({'cell_type':celltypes, 'count':np.ones(len(celltypes)), 'age':age})\n",
    "\n",
    "def simplify_clusts(A, age, key='cell_type_preds'):\n",
    "    celltypes = list(A[A.obs.age==age].obs[key])\n",
    "    return pd.DataFrame({'cell_type':celltypes, 'count':np.ones(len(celltypes)), 'age':age})"
   ]
  },
  {
   "cell_type": "code",
   "execution_count": null,
   "metadata": {},
   "outputs": [],
   "source": [
    "young_ct = simplify_celltypes(adata_lps, '4wk')\n",
    "med_ct = simplify_celltypes(adata_lps, '24wk')\n",
    "old_ct = simplify_celltypes(adata_lps, '90wk')\n",
    "combined_ct = pd.concat([young_ct, med_ct, old_ct])"
   ]
  },
  {
   "cell_type": "code",
   "execution_count": null,
   "metadata": {},
   "outputs": [],
   "source": [
    "## Pie charts\n",
    "import pandas as pd\n",
    "cell_types_young = adata_lps[adata_lps.obs.age=='4wk'].obs.cell_type_preds\n",
    "cell_types_med = adata_lps[adata_lps.obs.age=='24wk'].obs.cell_type_preds\n",
    "cell_types_old = adata_lps[adata_lps.obs.age=='90wk'].obs.cell_type_preds\n"
   ]
  },
  {
   "cell_type": "code",
   "execution_count": null,
   "metadata": {},
   "outputs": [],
   "source": [
    "f, axes = plt.subplots(figsize=(8,24), nrows=1, ncols=3, gridspec_kw={'wspace':0.1})\n",
    "young_ct_agg = young_ct.value_counts().reset_index()\n",
    "axes[0].pie(young_ct_agg[0],colors=[celltype_colors[i] for i in young_ct_agg.cell_type], labels=young_ct_agg.cell_type);\n",
    "\n",
    "med_ct_agg = med_ct.value_counts().reset_index()\n",
    "axes[1].pie(med_ct_agg[0],colors=[celltype_colors[i] for i in med_ct_agg.cell_type], labels=med_ct_agg.cell_type);\n",
    "\n",
    "old_ct_agg = old_ct.value_counts().reset_index()\n",
    "axes[2].pie(old_ct_agg[0],colors=[celltype_colors[i] for i in old_ct_agg.cell_type], labels=old_ct_agg.cell_type);\n",
    "f.savefig(\"/home/user/Dropbox/zhuang_lab/aging/aging_atlas_paper/figures_int/figS7_celltype_comp_neuronal.pdf\", bbox_inches='tight')"
   ]
  },
  {
   "cell_type": "code",
   "execution_count": null,
   "metadata": {},
   "outputs": [],
   "source": [
    "adata_nonneuronal = adata_lps[~adata_lps.obs.cell_type_preds.isin(['ExN',\"InN\",\"MSN\"])]\n",
    "young_ct = simplify_clusts(adata_nonneuronal, '4wk')\n",
    "med_ct = simplify_clusts(adata_nonneuronal, '24wk')\n",
    "old_ct = simplify_clusts(adata_nonneuronal, '90wk')\n",
    "combined_ct = pd.concat([young_ct, med_ct, old_ct])"
   ]
  },
  {
   "cell_type": "code",
   "execution_count": null,
   "metadata": {},
   "outputs": [],
   "source": [
    "f, axes = plt.subplots(figsize=(8,24), nrows=1, ncols=3, gridspec_kw={'wspace':0.1})\n",
    "young_ct_agg = young_ct.value_counts().reset_index()\n",
    "axes[0].pie(young_ct_agg[0],colors=[celltype_colors[i] for i in young_ct_agg.cell_type], labels=young_ct_agg.cell_type);\n",
    "\n",
    "med_ct_agg = med_ct.value_counts().reset_index()\n",
    "axes[1].pie(med_ct_agg[0],colors=[celltype_colors[i] for i in med_ct_agg.cell_type], labels=med_ct_agg.cell_type);\n",
    "\n",
    "old_ct_agg = old_ct.value_counts().reset_index()\n",
    "axes[2].pie(old_ct_agg[0],colors=[celltype_colors[i] for i in old_ct_agg.cell_type], labels=old_ct_agg.cell_type);\n",
    "f.savefig(\"/home/user/Dropbox/zhuang_lab/aging/aging_atlas_paper/figures_int/figS7_celltype_comp_nonneuronal.pdf\", bbox_inches='tight')"
   ]
  },
  {
   "cell_type": "code",
   "execution_count": null,
   "metadata": {},
   "outputs": [],
   "source": [
    "def compute_frac_per_clust(A,clust_order):\n",
    "    n_bins = 100\n",
    "    frac_per_age = np.zeros((len(clust_order), n_bins))\n",
    "    #frac4 = total_4wk/(total_90wk+total_24wk+total_4wk)\n",
    "    #frac24 = total_24wk/(total_90wk+total_24wk+total_4wk)\n",
    "    #frac90 = total_90wk/(total_90wk+total_24wk+total_4wk)\n",
    "\n",
    "    total_90wk = np.sum(A.obs.age=='90wk')\n",
    "    total_24wk = np.sum(A.obs.age=='24wk')\n",
    "    total_4wk = np.sum(A.obs.age=='4wk')\n",
    "\n",
    "    for n,c in enumerate(clust_order):\n",
    "        curr_clust = A[A.obs.clust_annot_preds==c]\n",
    "        # count fraction of total cells that are in this area for each age\n",
    "        curr4 = np.sum(curr_clust.obs.age == \"4wk\")/curr_clust.shape[0] #np.sum(adata_combined.obs.age == \"4wk\")\n",
    "        curr24 = np.sum(curr_clust.obs.age == \"24wk\")/curr_clust.shape[0] #np.sum(adata_combined.obs.age == \"24wk\")\n",
    "        curr90 = np.sum(curr_clust.obs.age == \"90wk\")/curr_clust.shape[0] #np.sum(adata_combined.obs.age == \"90wk\")\n",
    "\n",
    "        # scale based on the relative number of cells in each age in the total experiment\n",
    "        denom = total_4wk + total_24wk + total_90wk\n",
    "        curr4 /= total_4wk\n",
    "        curr24 /= total_24wk\n",
    "        curr90 /= total_90wk\n",
    "        denom = curr4+curr24+curr90\n",
    "        curr4 /= denom\n",
    "        curr24 /= denom\n",
    "        curr90 /= denom\n",
    "        nbins90 = int(round(n_bins*curr90))\n",
    "        nbins24 = int(round(n_bins*curr24))\n",
    "        #print(n, c, curr4, curr24, curr90)\n",
    "        frac_per_age[n,:] = np.hstack([2*np.ones(nbins90),\n",
    "                                       np.ones(nbins24), \n",
    "                                       np.zeros(n_bins-nbins90-nbins24)])\n",
    "    return frac_per_age"
   ]
  },
  {
   "cell_type": "code",
   "execution_count": null,
   "metadata": {},
   "outputs": [],
   "source": [
    "# make SI plot of fraction of cells per age\n",
    "# compute fraction of each cluster per age and per brain area\n",
    "frac_per_age_lps = compute_frac_per_clust(adata_lps, clust_order)\n",
    "frac_per_age_ctrl = compute_frac_per_clust(adata_ctl, clust_order)"
   ]
  },
  {
   "cell_type": "code",
   "execution_count": null,
   "metadata": {},
   "outputs": [],
   "source": [
    "age_colors = ['cornflowerblue','thistle','lightcoral']\n",
    "age_cmap = mpl.colors.ListedColormap(age_colors)\n",
    "age_pal = sns.color_palette(age_colors)"
   ]
  },
  {
   "cell_type": "code",
   "execution_count": null,
   "metadata": {},
   "outputs": [],
   "source": [
    "curr_cols = mpl.colors.ListedColormap([label_colors[c] for c in clust_order])\n",
    "f,axes=plt.subplots(nrows=3, ncols=1, gridspec_kw={'hspace':0.5, 'height_ratios':[1,10,10]},figsize=(10,5))\n",
    "ax = axes[0]\n",
    "ax.imshow(np.expand_dims(np.arange(len(label_colors.keys())),1).T, cmap=curr_cols,aspect='auto',interpolation='none',rasterized=True)\n",
    "ax.set_yticks([])\n",
    "ax.set_xticks(np.arange(len(clust_order)))\n",
    "ax.set_xticklabels(clust_order,rotation=90)\n",
    "ax.xaxis.set_tick_params(labeltop=True)\n",
    "ax.xaxis.set_tick_params(labelbottom=False)\n",
    "sns.despine(ax=ax, bottom=True, left=True)\n",
    "ax = axes[1]\n",
    "ax.imshow(frac_per_age_ctrl.T, vmin=0,vmax=2,aspect='auto',interpolation='none', cmap=age_cmap,rasterized=True)\n",
    "ax.set_yticklabels([])\n",
    "ax.set_xticks([])\n",
    "#ax.set_xticklabels(lbl_order,rotation=90); #[str(np.sum(adata.obs.clust_label==i)) + \" \" + i for i in lbl_order])\n",
    "ax.axhline(33,color='w',linestyle='--')\n",
    "ax.axhline(66,color='w',linestyle='--')\n",
    "sns.despine(ax=ax, left=True)\n",
    "ax.set_xticks(np.arange(len(clust_order)))\n",
    "ax.set_xticklabels([np.sum(adata_ctl.obs.clust_annot_preds==i) for i in clust_order],rotation=90, fontsize=7)\n",
    "ax.set_ylabel('- LPS')\n",
    "\n",
    "ax = axes[2]\n",
    "ax.imshow(frac_per_age_lps.T, vmin=0,vmax=2,aspect='auto',interpolation='none', cmap=age_cmap,rasterized=True)\n",
    "ax.set_yticklabels([])\n",
    "ax.set_xticks([])\n",
    "#ax.set_xticklabels(lbl_order,rotation=90); #[str(np.sum(adata.obs.clust_label==i)) + \" \" + i for i in lbl_order])\n",
    "ax.axhline(33,color='w',linestyle='--')\n",
    "ax.axhline(66,color='w',linestyle='--')\n",
    "sns.despine(ax=ax, left=True)\n",
    "ax.set_ylabel('+ LPS')\n",
    "ax.set_xticks(np.arange(len(clust_order)))\n",
    "ax.set_xticklabels([np.sum(adata_lps.obs.clust_annot_preds==i) for i in clust_order],rotation=90, fontsize=7);\n",
    "f.savefig(\"/home/user/Dropbox/zhuang_lab/aging/aging_atlas_paper/figures_int/figS9_ctl_lps_cellcomp.pdf\",bbox_inches='tight',dpi=200)"
   ]
  },
  {
   "cell_type": "code",
   "execution_count": null,
   "metadata": {},
   "outputs": [],
   "source": [
    "# show per-batch number of cells for certain cell types\n",
    "import pandas as pd\n",
    "adata_obs = adata_lps.obs.copy()\n",
    "#adata_obs = adata_obs\n",
    "clust_names = sorted(adata_obs.clust_annot_preds.unique())\n",
    "ct_counts = []\n",
    "ages = []\n",
    "clusts = []\n",
    "for k in clust_names:\n",
    "    for i in ['4wk','24wk','90wk']:\n",
    "        curr_obs = adata_obs[adata_obs.age==i]\n",
    "        for j in curr_obs.data_batch.unique():\n",
    "            temp = curr_obs[curr_obs.data_batch == j]\n",
    "            ct_counts.append(100*np.sum(temp.clust_annot_preds==k)/temp.shape[0])\n",
    "            ages.append(i)\n",
    "            clusts.append(k)\n",
    "            \n",
    "counts = pd.DataFrame({'count':ct_counts, 'age': ages, 'clust': clusts})\n",
    "f = plt.figure(figsize=(20,20))\n",
    "gs = plt.GridSpec(nrows=7, ncols=7, wspace=0.5,hspace=0.5)\n",
    "for n,i in enumerate(clust_names):\n",
    "    curr_counts = counts[counts.clust==i]\n",
    "    ax = plt.subplot(gs[n])\n",
    "    sns.barplot(x='age',y='count',data=curr_counts,ax=ax, palette=sns.color_palette(age_colors),linewidth=0, errwidth=0,zorder=0)\n",
    "\n",
    "    sns.scatterplot(x='age',y='count',data=curr_counts,ax=ax,color='k',zorder=1,linewidth=1)\n",
    "\n",
    "    sns.despine(ax=ax)\n",
    "    ax.set_ylabel('')\n",
    "    ax.set_title(i)\n",
    "f.savefig('/home/user/Dropbox/zhuang_lab/aging/aging_atlas_paper/figures_int/figS11_lps_perbatch_counts.pdf',bbox_inches='tight', dpi=200)"
   ]
  },
  {
   "cell_type": "code",
   "execution_count": null,
   "metadata": {},
   "outputs": [],
   "source": [
    "# get normalized number of cells per area"
   ]
  },
  {
   "cell_type": "code",
   "execution_count": null,
   "metadata": {},
   "outputs": [],
   "source": []
  },
  {
   "cell_type": "code",
   "execution_count": null,
   "metadata": {},
   "outputs": [],
   "source": [
    "# Differential expression between ctl/LPS in same age for each cell type"
   ]
  },
  {
   "cell_type": "code",
   "execution_count": null,
   "metadata": {},
   "outputs": [],
   "source": [
    "adata_raw = adata.raw.to_adata()"
   ]
  },
  {
   "cell_type": "code",
   "execution_count": null,
   "metadata": {},
   "outputs": [],
   "source": [
    "adata_lps = adata[adata_raw.obs.cond==\"lps\"]\n",
    "adata_ctl = adata[adata_raw.obs.cond==\"ctrl\"]"
   ]
  },
  {
   "cell_type": "code",
   "execution_count": null,
   "metadata": {},
   "outputs": [],
   "source": [
    "from scipy.stats import mannwhitneyu\n"
   ]
  },
  {
   "cell_type": "code",
   "execution_count": null,
   "metadata": {},
   "outputs": [],
   "source": [
    "#for i in range(lps.shape[1]):\n",
    "#    lps[:,i] = zscore(lps[:,i])\n",
    "    \n",
    "#for j in range(ctl.shape[1]):\n",
    "#    ctl[:,i] = zscore(ctl[:,i])"
   ]
  },
  {
   "cell_type": "code",
   "execution_count": null,
   "metadata": {},
   "outputs": [],
   "source": [
    "def compute_expr_diff(a,b,ct,age):\n",
    "    pvals = []\n",
    "    fcs = []\n",
    "    frac1 = []\n",
    "    frac2 = []\n",
    "    avg1 = []\n",
    "    avg2 = []\n",
    "    for i in range(lps.shape[1]):\n",
    "        pvals.append(mannwhitneyu(lps[:,i], ctl[:,i])[1])\n",
    "        fcs.append(np.log2(a[:,i].mean(0)/b[:,i].mean(0)))\n",
    "        frac1.append(np.sum(a[:,i]>0.1)/a.shape[0])\n",
    "        frac2.append(np.sum(a[:,i]>0.1)/b.shape[0])\n",
    "        avg1.append(a[:,i].mean(0))\n",
    "        avg2.append(b[:,i].mean(0))\n",
    "    pvals = np.array(pvals)\n",
    "    fcs = np.array(fcs)\n",
    "    #pvals = multipletests(pvals, method='fdr_bh')[1]\n",
    "    fcs[np.isnan(fcs)] = 0\n",
    "    res = pd.DataFrame({'gene_names':adata.var_names, 'pval':pvals, 'fc':fcs, 'frac1':frac1, 'frac2':frac2, 'avg1':avg1, 'avg2':avg2, 'cell_type':ct,'age':age})\n",
    "    return res"
   ]
  },
  {
   "cell_type": "code",
   "execution_count": null,
   "metadata": {},
   "outputs": [],
   "source": [
    "cell_types = [\n",
    "  'ExN',\n",
    "  'InN',\n",
    "   'MSN',\n",
    " 'OPC',\n",
    " 'Olig',\n",
    "\n",
    "'Astro',\n",
    " 'Vlmc',\n",
    " 'Peri',\n",
    " 'Endo',\n",
    " 'Epen',\n",
    "\n",
    " 'Micro',\n",
    " 'Macro',\n",
    "]\n",
    "\n",
    "all_res = []\n",
    "for ct in cell_types:\n",
    "    for age in ['4wk','24wk','90wk']:\n",
    "        try:\n",
    "            print(ct,age)\n",
    "            lps = adata_lps[np.logical_and(adata_lps.obs.cell_type_preds==ct,adata_lps.obs.age==age)].X.copy()\n",
    "            ctl = adata_ctl[np.logical_and(adata_ctl.obs.cell_type_preds==ct,adata_ctl.obs.age==age)].X.copy()\n",
    "            all_res.append(compute_expr_diff(lps, ctl,ct,age))\n",
    "        except Exception as e:\n",
    "            pass\n",
    "            #all_res.append()\n",
    "all_res_unfilt = pd.concat(all_res)\n",
    "all_res_unfilt['qval'] = multipletests(all_res_unfilt['pval'],method='fdr_bh')[1]\n",
    "all_res = all_res_unfilt[np.logical_and(all_res_unfilt.qval<0.01, np.abs(all_res_unfilt.fc)>1)]\n",
    "all_res = all_res[np.logical_or(all_res.frac1>0.1, all_res.frac2>0.1)]"
   ]
  },
  {
   "cell_type": "code",
   "execution_count": null,
   "metadata": {},
   "outputs": [],
   "source": [
    "all_res_lps = []\n",
    "for ct in cell_types:\n",
    "    try:\n",
    "        print(ct,age)\n",
    "        lps = adata_lps[np.logical_and(adata_lps.obs.cell_type_preds= =ct,adata_lps.obs.age=='90wk')].X.copy()\n",
    "        ctl = adata_lps[np.logical_and(adata_lps.obs.cell_type_preds==ct,adata_lps.obs.age=='4wk')].X.copy()\n",
    "        all_res_lps.append(compute_expr_diff(lps, ctl,ct,'90wk vs 4wk'))\n",
    "    except Exception as e:\n",
    "        pass\n",
    "        #all_res.append()\n",
    "all_res_lps_unfilt = pd.concat(all_res_lps)\n",
    "all_res_lps_unfilt['qval'] = multipletests(all_res_lps_unfilt['pval'],method='fdr_bh')[1]\n",
    "all_res_lps = all_res_lps_unfilt[np.logical_and(all_res_lps_unfilt.qval<0.01, np.abs(all_res_lps_unfilt.fc)>1)]\n",
    "all_res_lps = all_res_lps[np.logical_or(all_res_lps.frac1>0.1, all_res_lps.frac2>0.1)]"
   ]
  },
  {
   "cell_type": "code",
   "execution_count": null,
   "metadata": {},
   "outputs": [],
   "source": [
    "all_res_ctl = []\n",
    "for ct in cell_types:\n",
    "    try:\n",
    "        print(ct,age)\n",
    "        lps = adata_ctl[np.logical_and(adata_ctl.obs.cell_type_preds==ct,adata_ctl.obs.age=='90wk')].X.copy()\n",
    "        ctl = adata_ctl[np.logical_and(adata_ctl.obs.cell_type_preds==ct,adata_ctl.obs.age=='4wk')].X.copy()\n",
    "        all_res_ctl.append(compute_expr_diff(lps, ctl,ct,'90wk vs 4wk'))\n",
    "    except Exception as e:\n",
    "        pass\n",
    "        #all_res.append()\n",
    "all_res_ctl_unfilt = pd.concat(all_res_ctl)\n",
    "all_res_ctl_unfilt['qval'] = multipletests(all_res_ctl_unfilt['pval'],method='fdr_bh')[1]\n",
    "all_res_ctl = all_res_ctl_unfilt[np.logical_and(all_res_ctl_unfilt.qval<0.01, np.abs(all_res_ctl_unfilt.fc)>1)]\n",
    "all_res_ctl = all_res_ctl[np.logical_or(all_res_ctl.frac1>0.1, all_res_ctl.frac2>0.1)]"
   ]
  },
  {
   "cell_type": "code",
   "execution_count": null,
   "metadata": {},
   "outputs": [],
   "source": [
    "# create summary tables of numbers of differentially expressed genes\n",
    "upreg_counts = []\n",
    "downreg_counts = []\n",
    "cond = []\n",
    "cell_type = []\n",
    "for i in all_res_ctl.cell_type.unique():\n",
    "    upreg = all_res_ctl[all_res_ctl.fc>=0]\n",
    "    downreg = all_res_ctl[all_res_ctl.fc<0]\n",
    "    upreg_counts.append(np.sum(upreg.cell_type==i))\n",
    "    downreg_counts.append(-np.sum(downreg.cell_type==i))\n",
    "    cell_type.append(i)\n",
    "    cond.append(\"ctl\")\n",
    "    \n",
    "for i in all_res.cell_type.unique():\n",
    "    upreg = all_res_lps[all_res_lps.fc>=0]\n",
    "    downreg = all_res_lps[all_res_lps.fc<0]\n",
    "    upreg_counts.append(np.sum(upreg.cell_type==i))\n",
    "    downreg_counts.append(-np.sum(downreg.cell_type==i))\n",
    "    cell_type.append(i)\n",
    "    cond.append(\"lps\")\n"
   ]
  },
  {
   "cell_type": "code",
   "execution_count": null,
   "metadata": {},
   "outputs": [],
   "source": [
    "lps_age_comparison = pd.DataFrame({'upreg':upreg_counts, 'downreg':downreg_counts, 'cond':cond, 'cell_type':cell_type})"
   ]
  },
  {
   "cell_type": "code",
   "execution_count": null,
   "metadata": {},
   "outputs": [],
   "source": [
    "f, ax= plt.subplots()\n",
    "sns.barplot(x='cell_type', y='upreg', data=lps_age_comparison, hue='cond', order=cell_types,ax=ax)\n",
    "sns.barplot(x='cell_type', y='downreg', data=lps_age_comparison, hue='cond', order=cell_types,ax=ax)\n",
    "\n",
    "sns.despine()\n",
    "plt.ylim([-60,60])"
   ]
  },
  {
   "cell_type": "code",
   "execution_count": null,
   "metadata": {},
   "outputs": [],
   "source": [
    "# create summary tables of numbers of differentially expressed genes\n",
    "upreg_counts = []\n",
    "downreg_counts = []\n",
    "age = []\n",
    "cell_type = []\n",
    "for i in all_res_ctl.cell_type.unique():\n",
    "    for j in ['4wk','24wk','90wk']:\n",
    "        curr = all_res[all_res.age==j]\n",
    "        upreg = curr[curr.fc>=0]\n",
    "        downreg = curr[curr.fc<0]\n",
    "        upreg_counts.append(np.sum(upreg.cell_type==i))\n",
    "        downreg_counts.append(-np.sum(downreg.cell_type==i))\n",
    "        cell_type.append(i)\n",
    "        age.append(j)\n",
    "    \n"
   ]
  },
  {
   "cell_type": "code",
   "execution_count": null,
   "metadata": {},
   "outputs": [],
   "source": [
    "lps_ctl_comparison = pd.DataFrame({'upreg':upreg_counts, 'downreg':downreg_counts, 'age':age, 'cell_type':cell_type})"
   ]
  },
  {
   "cell_type": "code",
   "execution_count": null,
   "metadata": {},
   "outputs": [],
   "source": [
    "\n"
   ]
  },
  {
   "cell_type": "code",
   "execution_count": null,
   "metadata": {},
   "outputs": [],
   "source": [
    "f,ax=plt.subplots()\n",
    "sns.barplot(x='cell_type', y='upreg', data=lps_ctl_comparison, hue='age', order=cell_types, palette=age_pal,ax=ax)\n",
    "sns.barplot(x='cell_type', y='downreg', data=lps_ctl_comparison, hue='age', order=cell_types, palette=age_pal,ax=ax)\n",
    "\n",
    "sns.despine()\n",
    "plt.ylim([-80,80])"
   ]
  },
  {
   "cell_type": "code",
   "execution_count": null,
   "metadata": {},
   "outputs": [],
   "source": [
    "# get all genes that are differentially expressed\n",
    "all_de_genes = all_res.gene_names.unique()\n",
    "fc_mat = np.zeros((len(all_res_unfilt.cell_type.unique()), len(genes_to_plot)))\n",
    "for n,i in enumerate(genes_to_plot):\n",
    "    for k,j in enumerate(cell_types):\n",
    "        curr = all_res_unfilt[all_res_unfilt.age=='4wk']\n",
    "        curr = curr[np.logical_and(curr.cell_type==j, curr.gene_names==i)]\n",
    "        fc_mat[k,n] = curr.fc.values[0]\n",
    "        pval_mat[k,n] = curr.qval.values[0]\n"
   ]
  },
  {
   "cell_type": "code",
   "execution_count": null,
   "metadata": {},
   "outputs": [],
   "source": [
    "genes_to_plot = ['Sparc',\"Sst\",\"Vip\", \"Cux2\",\"Cdkn1a\",\"Cxcl10\",\"Il18\",\"Tnf\",\"Il1b\",\"Il6\",\"Ifng\",\"C4b\",\"C3\",\"Gfap\",\"Il33\",'Nfib','Serpina3n','Ifit3','Xdh','Nfkbia','Ifitm3','Hif3a']"
   ]
  },
  {
   "cell_type": "code",
   "execution_count": null,
   "metadata": {},
   "outputs": [],
   "source": [
    "# plot fold change in expression between young/old within LPS\n",
    "fc_mat = np.zeros((len(all_res_unfilt.cell_type.unique()), len(genes_to_plot)))\n",
    "pval_mat = np.zeros((len(all_res_unfilt.cell_type.unique()), len(genes_to_plot)))\n",
    "for n,i in enumerate(genes_to_plot):\n",
    "    for k,j in enumerate(cell_types):\n",
    "        curr = all_res_unfilt[all_res_unfilt.age=='4wk']\n",
    "        curr = curr[np.logical_and(curr.cell_type==j, curr.gene_names==i)]\n",
    "        fc_mat[k,n] = curr.fc.values[0]\n",
    "        pval_mat[k,n] = curr.qval.values[0]\n",
    "pval_mat[np.isnan(pval_mat)] = 0\n",
    "pval_mat[pval_mat<1e-20] = 1e-20"
   ]
  },
  {
   "cell_type": "code",
   "execution_count": null,
   "metadata": {},
   "outputs": [],
   "source": [
    "f,ax = plt.subplots()\n",
    "for i in range(fc_mat.shape[0]):\n",
    "    for j in range(fc_mat.shape[1]):\n",
    "        if pval_mat[i,j] < 1e-10:\n",
    "            ax.scatter(i,j,s=5*-np.log10(pval_mat[i,j]),c=fc_mat[i,j],vmin=-10,vmax=10,cmap=plt.cm.seismic,edgecolor='k',linewidths=0.5)\n",
    "        else:\n",
    "            ax.scatter(i,j,s=5*-np.log10(pval_mat[i,j]),c=fc_mat[i,j],vmin=-10,vmax=10,cmap=plt.cm.seismic)\n",
    "ax.set_xticks(np.arange(fc_mat.shape[0]));\n",
    "ax.set_yticks(np.arange(fc_mat.shape[1]));\n",
    "ax.set_xticklabels(cell_types);\n",
    "ax.set_yticklabels(genes_to_plot);"
   ]
  },
  {
   "cell_type": "code",
   "execution_count": null,
   "metadata": {},
   "outputs": [],
   "source": [
    "# plot fold change in expression between young/old within LPS\n",
    "fc_mat_lps_age = np.zeros((len(all_res_lps.cell_type.unique()), len(genes_to_plot)))\n",
    "pval_mat_lps_age = np.zeros((len(all_res_lps.cell_type.unique()), len(genes_to_plot)))\n",
    "for n,i in enumerate(genes_to_plot):\n",
    "    for k,j in enumerate(cell_types):\n",
    "        curr = all_res_lps_unfilt[np.logical_and(all_res_lps_unfilt.cell_type==j, all_res_lps_unfilt.gene_names==i)]\n",
    "        fc_mat_lps_age[k,n] = curr.fc.values[0]\n",
    "        pval_mat_lps_age[k,n] = curr.qval.values[0]"
   ]
  },
  {
   "cell_type": "code",
   "execution_count": null,
   "metadata": {},
   "outputs": [],
   "source": [
    "pval_mat_lps_age[np.isnan(pval_mat_lps_age)] = 0\n",
    "pval_mat_lps_age[pval_mat_lps_age<1e-20] = 1e-20"
   ]
  },
  {
   "cell_type": "code",
   "execution_count": null,
   "metadata": {},
   "outputs": [],
   "source": [
    "f,ax = plt.subplots()\n",
    "for i in range(fc_mat_lps_age.shape[0]):\n",
    "    for j in range(fc_mat_lps_age.shape[1]):\n",
    "        if pval_mat_lps_age[i,j] < 0.01:\n",
    "            ax.scatter(i,j,s=5*-np.log10(pval_mat_lps_age[i,j]),c=fc_mat_lps_age[i,j],vmin=-10,vmax=10,cmap=plt.cm.seismic,edgecolor='k',linewidths=0.5)\n",
    "        else:\n",
    "            ax.scatter(i,j,s=5*-np.log10(pval_mat_lps_age[i,j]),c=fc_mat_lps_age[i,j],vmin=-10,vmax=10,cmap=plt.cm.seismic,linewidths=0.5)\n",
    "ax.set_xticks(np.arange(fc_mat_lps_age.shape[0]));\n",
    "ax.set_yticks(np.arange(fc_mat_lps_age.shape[1]));\n",
    "ax.set_xticklabels(cell_types);\n",
    "ax.set_yticklabels(genes_to_plot);"
   ]
  },
  {
   "cell_type": "markdown",
   "metadata": {},
   "source": [
    "# Build a statistical model for each cell type that separates age and LPS effects\n"
   ]
  },
  {
   "cell_type": "code",
   "execution_count": null,
   "metadata": {},
   "outputs": [],
   "source": [
    "from de import *"
   ]
  },
  {
   "cell_type": "code",
   "execution_count": null,
   "metadata": {},
   "outputs": [],
   "source": [
    "adata.obs['log_umi'] = np.log(adata.obs.total_counts)"
   ]
  },
  {
   "cell_type": "code",
   "execution_count": null,
   "metadata": {
    "scrolled": true
   },
   "outputs": [],
   "source": [
    "curr_adata = adata[adata.obs.cond=='ctrl']\n",
    "res_age_ctrl = run_glm_de_age_merfish(curr_adata, grouping='cell_type_preds', family='ols')\n"
   ]
  },
  {
   "cell_type": "code",
   "execution_count": null,
   "metadata": {},
   "outputs": [],
   "source": [
    "res_age_ctrl = pd.concat([i for i in res_age_ctrl.values()])"
   ]
  },
  {
   "cell_type": "code",
   "execution_count": null,
   "metadata": {
    "scrolled": true
   },
   "outputs": [],
   "source": [
    "curr_adata = adata[adata.obs.cond=='lps']\n",
    "res_age_lps = run_glm_de_age_merfish(curr_adata, grouping='cell_type_preds', family='ols')\n"
   ]
  },
  {
   "cell_type": "code",
   "execution_count": null,
   "metadata": {},
   "outputs": [],
   "source": [
    "res_age_lps = pd.concat([i for i in res_age_lps.values()])"
   ]
  },
  {
   "cell_type": "code",
   "execution_count": null,
   "metadata": {},
   "outputs": [],
   "source": [
    "res_age_lps.to_csv(\"res_age_lps_major_nologumi_V3.csv\")"
   ]
  },
  {
   "cell_type": "code",
   "execution_count": null,
   "metadata": {},
   "outputs": [],
   "source": [
    "res_age_ctrl.to_csv(\"res_age_ctrl_major_nologumi_V3.csv\")"
   ]
  },
  {
   "cell_type": "code",
   "execution_count": null,
   "metadata": {},
   "outputs": [],
   "source": [
    "# run model for just LPS in 4 wk condition\n",
    "curr_adata = adata[adata.obs.age=='4wk']\n",
    "res_lps = run_glm_de_age_merfish(curr_adata, grouping='cell_type_preds',obs_name='cond', comp_name=\"T.lps\", family='ols')\n",
    "all_de_lps = pd.concat([i for i in res_lps.values()])"
   ]
  },
  {
   "cell_type": "code",
   "execution_count": null,
   "metadata": {
    "scrolled": true
   },
   "outputs": [],
   "source": [
    "# run model for just age in control condition\n",
    "curr_adata = adata[np.logical_and(adata.obs.cond==\"ctrl\", adata.obs.age.isin(['4wk','90wk']))]\n",
    "res_age = run_glm_de_age_merfish(curr_adata, grouping='cell_type_preds', family='ols')\n",
    "all_de_age = pd.concat([i for i in res_age.values()])"
   ]
  },
  {
   "cell_type": "code",
   "execution_count": null,
   "metadata": {},
   "outputs": [],
   "source": [
    "res_age_ctrl = pd.read_csv(\"res_age_ctrl_major_nologumi_V3.csv\")\n",
    "res_age_lps = pd.read_csv(\"res_age_lps_major_nologumi_V3.csv\")"
   ]
  },
  {
   "cell_type": "code",
   "execution_count": null,
   "metadata": {},
   "outputs": [],
   "source": [
    "all_de_age.to_csv(\"all_de_ageonly_minorcelltypes_nologumi_V3.csv\")\n",
    "all_de_lps.to_csv(\"all_de_lpsonly_minorcelltypes_nologumi_V3.csv\")\n"
   ]
  },
  {
   "cell_type": "code",
   "execution_count": null,
   "metadata": {},
   "outputs": [],
   "source": [
    "all_de_age = pd.read_csv(\"all_de_ageonly_minorcelltypes_nologumi_V3.csv\")\n",
    "all_de_lps = pd.read_csv(\"all_de_lpsonly_minorcelltypes_nologumi_V3.csv\")\n"
   ]
  },
  {
   "cell_type": "code",
   "execution_count": null,
   "metadata": {},
   "outputs": [],
   "source": [
    "de_thresh = np.log(2) # originally 2\n",
    "qval_thresh = 1e-4\n",
    "all_de_age['coef_age'] = all_de_age.coef#np.log2(np.exp(all_de_age.coef))\n",
    "all_de_lps['coef_lps'] = all_de_lps.coef#np.log2(np.exp(all_de_lps.coef))\n",
    "\n",
    "de_genes_age = list(all_de_age[np.logical_and(np.abs(all_de_age.coef_age) > de_thresh, all_de_age.qval<qval_thresh)].gene.unique())\n",
    "de_genes_lps = list(all_de_lps[np.logical_and(np.abs(all_de_lps.coef_lps) > de_thresh, all_de_lps.qval<qval_thresh)].gene.unique())\n",
    "combined_genes = list(set(de_genes_age + de_genes_lps))"
   ]
  },
  {
   "cell_type": "code",
   "execution_count": null,
   "metadata": {},
   "outputs": [],
   "source": [
    "len(de_genes_lps)"
   ]
  },
  {
   "cell_type": "code",
   "execution_count": null,
   "metadata": {},
   "outputs": [],
   "source": [
    "coef_age = np.zeros((len(all_de_age.cell_type.unique()), len(combined_genes)))\n",
    "pval_age = np.zeros_like(coef_age)\n",
    "coef_age_lps = np.zeros_like(coef_age)\n",
    "coef_age_ctrl = np.zeros_like(coef_age)\n",
    "age_count = np.zeros(coef_age.shape[0])\n",
    "lps_count = np.zeros(coef_age.shape[0])\n",
    "both_count = np.zeros(coef_age.shape[0])\n",
    "for i,ct in enumerate(all_de_age.cell_type.unique()):\n",
    "    curr_de_age = all_de_age[all_de_age.cell_type==ct]\n",
    "    curr_de_lps = all_de_lps[all_de_lps.cell_type==ct]\n",
    "    curr_age_signif = curr_de_age[np.logical_and(np.abs(curr_de_age.coef_age) > de_thresh, curr_de_age.qval<qval_thresh)]\n",
    "    curr_lps_signif = curr_de_lps[np.logical_and(np.abs(curr_de_lps.coef_lps) > de_thresh, curr_de_lps.qval<qval_thresh)]\n",
    "    print(ct, list(curr_lps_signif.gene), list(curr_age_signif.gene))\n",
    "    both_count[i] = len(np.intersect1d(curr_age_signif.gene, curr_lps_signif.gene))\n",
    "    age_count[i] = curr_age_signif.shape[0] - both_count[i]\n",
    "    lps_count[i] = curr_lps_signif.shape[0] - both_count[i]\n",
    "    \n",
    "for i,ct in enumerate(all_de_age.cell_type.unique()):\n",
    "    for j,g in enumerate(combined_genes):\n",
    "        curr_de = all_de_age[np.logical_and(all_de_age.cell_type==ct, all_de_age.gene==g)]\n",
    "        coef_age[i,j] = curr_de.coef_age.values[0]\n",
    "        pval_age[i,j] = curr_de.qval.values[0]\n",
    "        \n",
    "for i,ct in enumerate(all_de_age.cell_type.unique()):\n",
    "    for j,g in enumerate(combined_genes):\n",
    "        curr_de = res_age_ctrl[np.logical_and(res_age_ctrl.cell_type==ct, res_age_ctrl.gene==g)]\n",
    "        coef_age_ctrl[i,j] = curr_de.coef.values[0]\n",
    "        curr_de = res_age_lps[np.logical_and(res_age_lps.cell_type==ct, res_age_lps.gene==g)]\n",
    "        coef_age_lps[i,j] = curr_de.coef.values[0]\n",
    "\n",
    "coef_lps = np.zeros((len(all_de_age.cell_type.unique()), len(combined_genes)))\n",
    "pval_lps = np.zeros_like(coef_lps)\n",
    "for i,ct in enumerate(all_de_age.cell_type.unique()):\n",
    "    for j,g in enumerate(combined_genes):\n",
    "        curr_de = all_de_lps[np.logical_and(all_de_lps.cell_type==ct, all_de_lps.gene==g)]\n",
    "        coef_lps[i,j] = curr_de.coef_lps.values[0]\n",
    "        pval_lps[i,j] = curr_de.qval.values[0]\n",
    "        \n",
    "#row_idx, dn_row = order_values(coef_lps, return_linkage=True, metric='cosine')\n",
    "#col_idx = order_values(coef_lps.T)\n",
    "col_idx, dn_col = order_values(np.hstack((coef_lps.T,coef_age.T)), return_linkage=True, metric='cosine')\n",
    "\n",
    "coef_lps = coef_lps[:,col_idx]#[row_idx,:][:,col_idx]\n",
    "coef_age = coef_age[:,col_idx]#[row_idx,:][:,col_idx]\n",
    "\n"
   ]
  },
  {
   "cell_type": "code",
   "execution_count": null,
   "metadata": {},
   "outputs": [],
   "source": [
    "ct_uniq = all_de_age.cell_type.unique()"
   ]
  },
  {
   "cell_type": "code",
   "execution_count": null,
   "metadata": {},
   "outputs": [],
   "source": [
    "row_order = [\"ExN\", \"InN\", \"MSN\", \"Olig\",  \"OPC\", \"Astro\", \"Epen\",  \"Vlmc\", \"Endo\", \"Peri\", \"Micro\",  \"Macro\", \"T cell\"]\n",
    "row_idx = np.array([np.argwhere(ct_uniq==i)[0] for i in row_order]).flatten()"
   ]
  },
  {
   "cell_type": "code",
   "execution_count": null,
   "metadata": {},
   "outputs": [],
   "source": [
    "row_idx"
   ]
  },
  {
   "cell_type": "code",
   "execution_count": null,
   "metadata": {},
   "outputs": [],
   "source": [
    "plt.scatter(coef_age_lps.flatten(), coef_age_ctrl.flatten())"
   ]
  },
  {
   "cell_type": "code",
   "execution_count": null,
   "metadata": {},
   "outputs": [],
   "source": [
    "plt.imshow(coef_age_lps[:,col_idx][row_idx,:]-coef_age_ctrl[:,col_idx][row_idx,:],vmin=-2,vmax=2,cmap=plt.cm.seismic)"
   ]
  },
  {
   "cell_type": "code",
   "execution_count": null,
   "metadata": {},
   "outputs": [],
   "source": [
    "hc.dendrogram(dn_col);"
   ]
  },
  {
   "cell_type": "code",
   "execution_count": null,
   "metadata": {},
   "outputs": [],
   "source": [
    "hc.dendrogram(dn_row);"
   ]
  },
  {
   "cell_type": "code",
   "execution_count": null,
   "metadata": {},
   "outputs": [],
   "source": [
    "plt.hist(coef_lps.flatten(),100);\n"
   ]
  },
  {
   "cell_type": "code",
   "execution_count": null,
   "metadata": {},
   "outputs": [],
   "source": [
    "combined_coef_good = np.hstack((all_de_age[np.logical_and(all_de_age.coef_age>0,all_de_age.qval<qval_thresh)].coef_age,\n",
    "                               all_de_lps[np.logical_and(all_de_lps.coef_lps>0, all_de_lps.qval<qval_thresh)].coef_lps))\n",
    "combined_coef_bad = np.hstack((all_de_age[np.logical_and(all_de_age.coef_age>0,all_de_age.qval>=qval_thresh)].coef_age,\n",
    "                               all_de_lps[np.logical_and(all_de_lps.coef_lps>0, all_de_lps.qval>=qval_thresh)].coef_lps))\n",
    "thresh = np.mean(combined_coef_good)-np.mean(combined_coef_bad)"
   ]
  },
  {
   "cell_type": "code",
   "execution_count": null,
   "metadata": {},
   "outputs": [],
   "source": [
    "thresh = np.log(1.25)"
   ]
  },
  {
   "cell_type": "code",
   "execution_count": null,
   "metadata": {},
   "outputs": [],
   "source": [
    "diff_coef = np.abs(coef_lps) - np.abs(coef_age)\n",
    "coef_signif = np.zeros_like(coef_lps)\n",
    "diff_coef = zscore(diff_coef.flatten()).reshape(coef_signif.shape)\n",
    "#thresh = 0.1 #np.log(1.2)\n",
    "diff_thresh = 1\n",
    "for i in range(diff_coef.shape[0]):\n",
    "    for j in range(diff_coef.shape[1]): \n",
    "        #if np.abs(diff_coef[i,j]) > diff_thresh and np.abs(coef_lps[i,j]) > thresh:\n",
    "        #    coef_signif[i,j] = 1\n",
    "        #elif np.abs(diff_coef[i,j]) > diff_thresh and np.abs(coef_age[i,j]) > thresh:\n",
    "        #    coef_signif[i,j] = 2\n",
    "        #elif (np.abs(diff_coef[i,j]) < diff_thresh) and (np.abs(coef_lps[i,j]) > thresh and np.abs(coef_age[i,j]) > thresh):\n",
    "        #    coef_signif[i,j] = 3\n",
    "        if  coef_lps[i,j] > thresh and coef_age[i,j] > thresh:\n",
    "            #if pval_lps[i,j] < 0.01 or pval_age[i,j] < 0.01:\n",
    "            coef_signif[i,j] = 3\n",
    "        elif coef_age[i,j] > thresh:\n",
    "            #if pval_age[i,j] < 0.01:\n",
    "            coef_signif[i,j] = 2\n",
    "        elif coef_lps[i,j] > thresh:\n",
    "            #if pval_lps[i,j] < 0.01:\n",
    "            coef_signif[i,j] = 1\n",
    "        \n",
    "#row_idx = np.argsort(np.sum(coef_signif==1,1))\n",
    "\n",
    "plt.imshow(coef_signif[row_idx,:], cmap=mpl.colors.ListedColormap(['w','m','g','k']),vmin=0,vmax=3)"
   ]
  },
  {
   "cell_type": "code",
   "execution_count": null,
   "metadata": {},
   "outputs": [],
   "source": [
    "fraction_signif = np.vstack((np.sum(coef_signif==1,1), np.sum(coef_signif==3,1), np.sum(coef_signif==2,1) )).T.astype(np.float64)"
   ]
  },
  {
   "cell_type": "code",
   "execution_count": null,
   "metadata": {},
   "outputs": [],
   "source": [
    "for i in range(fraction_signif.shape[0]):\n",
    "    fraction_signif[i,:] = fraction_signif[i,:]/fraction_signif[i,:].sum()\n",
    "    #curr_sum = float(fraction_signif[i,:].sum())\n",
    "    #for j in range(fraction_signif.shape[1]):\n",
    "        #fraction_signif[i,j] /= curr_sum"
   ]
  },
  {
   "cell_type": "code",
   "execution_count": null,
   "metadata": {},
   "outputs": [],
   "source": [
    "plt.imshow(fraction_signif[row_idx,:],vmin=0,vmax=1,cmap=plt.cm.viridis)"
   ]
  },
  {
   "cell_type": "code",
   "execution_count": null,
   "metadata": {},
   "outputs": [],
   "source": [
    "coef_signif = coef_signif[row_idx,:]"
   ]
  },
  {
   "cell_type": "code",
   "execution_count": null,
   "metadata": {},
   "outputs": [],
   "source": [
    "coef_lps = coef_lps[row_idx,:]\n",
    "coef_age = coef_age[row_idx,:]"
   ]
  },
  {
   "cell_type": "code",
   "execution_count": null,
   "metadata": {},
   "outputs": [],
   "source": [
    "f,axes = plt.subplots(ncols=2, figsize=(4,2),gridspec_kw={'width_ratios':[1,20],'wspace':0.1})\n",
    "ax = axes[0]\n",
    "sorted_celltypes = np.array(all_de_age.cell_type.unique())[row_idx]\n",
    "celltype_cmap = mpl.colors.ListedColormap([celltype_colors[i] for i in sorted_celltypes])\n",
    "ax.imshow(np.expand_dims(celltype_annots,1), cmap=celltype_cmap, aspect='auto',interpolation='none',rasterized=True)\n",
    "sns.despine(ax=ax,bottom=True,left=True)\n",
    "ax.set_xticks([])\n",
    "ax.set_yticks([])\n",
    "ax = axes[1]\n",
    "ax.imshow(coef_age,vmin=-3,vmax=3,cmap=plt.cm.seismic,aspect='auto',interpolation='none',rasterized=True)\n",
    "ax.axis('off')\n",
    "f.savefig(\"/home/user/Dropbox/zhuang_lab/aging/aging_atlas_paper/figures_int/fig4_ageonly.pdf\", bbox_inches='tight', dpi=200)"
   ]
  },
  {
   "cell_type": "code",
   "execution_count": null,
   "metadata": {},
   "outputs": [],
   "source": [
    "plt.imshow(coef_lps-coef_age,vmin=-3,vmax=3,cmap=plt.cm.seismic)"
   ]
  },
  {
   "cell_type": "code",
   "execution_count": null,
   "metadata": {},
   "outputs": [],
   "source": [
    "combined_coef = np.zeros((coef_lps.shape[0]*2, coef_lps.shape[1]))\n",
    "combined_coef[1::2,:] = coef_age\n",
    "combined_coef[::2,:] = coef_lps"
   ]
  },
  {
   "cell_type": "code",
   "execution_count": null,
   "metadata": {},
   "outputs": [],
   "source": [
    "combined_pval = np.zeros((pval_lps.shape[0]*2, pval_lps.shape[1]))\n",
    "combined_pval[1::2,:] = pval_age\n",
    "combined_pval[::2,:] = pval_lps"
   ]
  },
  {
   "cell_type": "code",
   "execution_count": null,
   "metadata": {},
   "outputs": [],
   "source": [
    "combined_pval[combined_pval<1e-4] = 1e-4"
   ]
  },
  {
   "cell_type": "code",
   "execution_count": null,
   "metadata": {},
   "outputs": [],
   "source": [
    "row_idx_map = np.zeros(combined_pval.shape[0])\n",
    "row_idx_map[::2] = np.arange(coef_lps.shape[0])\n",
    "row_idx_map[1::2] = np.arange(coef_lps.shape[0])\n",
    "row_idx_map = row_idx_map.astype(np.int)"
   ]
  },
  {
   "cell_type": "code",
   "execution_count": null,
   "metadata": {},
   "outputs": [],
   "source": [
    "# heatmap params\n",
    "vmin = -2 \n",
    "vmax = 2\n",
    "s = 25\n",
    "\n",
    "# plot\n",
    "aspect_ratio = combined_coef.shape[1]/combined_coef.shape[0]\n",
    "f, axes = plt.subplots(figsize=(aspect_ratio*4,4),nrows=2,ncols=4,gridspec_kw={'height_ratios':[2,20], 'hspace':0.1,'width_ratios':[0.25, 0.25,20,  1], 'wspace':0.02})\n",
    "\n",
    "# celltype annots\n",
    "ax = axes[0,0]\n",
    "ax.axis('off')\n",
    "\n",
    "ax = axes[0,1]\n",
    "ax.axis('off')\n",
    "\n",
    "ax = axes[0,2]\n",
    "hc.dendrogram(dn_col,orientation='bottom',ax=ax,above_threshold_color='k',color_threshold=0)\n",
    "ax.invert_yaxis()\n",
    "\n",
    "ax.axis('off')\n",
    "\n",
    "ax = axes[0,3]\n",
    "ax.axis('off')\n",
    "\n",
    "ax = axes[1,0]\n",
    "celltype_annots  = np.zeros(combined_coef.shape[0])\n",
    "k = 0\n",
    "for i in range(0,len(celltype_annots),2):\n",
    "    celltype_annots[i] = k\n",
    "    celltype_annots[i+1] = k\n",
    "    k += 1\n",
    "sorted_celltypes = np.array(all_de_age.cell_type.unique())[row_idx]\n",
    "celltype_cmap = mpl.colors.ListedColormap([celltype_colors[i] for i in sorted_celltypes])\n",
    "ax.imshow(np.expand_dims(celltype_annots,1), cmap=celltype_cmap, aspect='auto',interpolation='none')\n",
    "sns.despine(ax=ax,bottom=True,left=True)\n",
    "ax.set_xticks([])\n",
    "ax.set_yticks(np.arange(2*len(sorted_celltypes)))\n",
    "ylabel = []\n",
    "k = 0\n",
    "for i in range(2*len(sorted_celltypes)):\n",
    "    if i%2 == 0:\n",
    "        ylabel.append(sorted_celltypes[k]) #+ f\" {int(lps_count[row_idx][k]), int(both_count[row_idx[k]]), int(age_count[row_idx][k])}\")\n",
    "        k += 1\n",
    "    else:\n",
    "        ylabel.append(\"\")\n",
    "ax.set_yticklabels(ylabel)\n",
    "# main heatmap\n",
    "ax = axes[1,1]\n",
    "conds = np.zeros(combined_coef.shape[0])\n",
    "conds[1::2] = 1\n",
    "ax.imshow(np.expand_dims(conds,1),aspect='auto',interpolation='none',cmap=mpl.colors.ListedColormap(['m','g']))\n",
    "ax.set_yticks([])\n",
    "ax.axis('off')\n",
    "#\n",
    "ax = axes[1,2]\n",
    "for i in range(combined_coef.shape[0]):\n",
    "    for j in range(combined_coef.shape[1]):\n",
    "        r = row_idx_map[i]\n",
    "        if coef_signif[r,j] == 1:\n",
    "            circle_color = 'm'\n",
    "        elif coef_signif[r,j] == 2:\n",
    "            circle_color = 'g'\n",
    "        elif coef_signif[r,j] == 3:\n",
    "            circle_color = 'k'\n",
    "        else:\n",
    "            circle_color = None\n",
    "        if circle_color is not None:\n",
    "            # if 'm' or 'g', only color the appropriate row\n",
    "            plot_circle = True\n",
    "            if circle_color == 'm':\n",
    "                if i%2 == 1:\n",
    "                    plot_circle = False\n",
    "            elif circle_color == 'g':\n",
    "                if i%2 == 0:\n",
    "                    plot_circle = False\n",
    "            if plot_circle:\n",
    "                ax.scatter(j,i, c=combined_coef[i,j], s=s, vmin=vmin,vmax=vmax, cmap=plt.cm.seismic, edgecolors=circle_color, linewidths=0.5,facecolors='none',)\n",
    "            else:\n",
    "                ax.scatter(j,i, c=combined_coef[i,j], s=15, vmin=-2,vmax=2, cmap=plt.cm.seismic, edgecolors=circle_color, linewidths=0.5,facecolors='none',)\n",
    "\n",
    "\n",
    "        #else:\n",
    "            #ax.scatter(j,i, c=combined_coef[i,j], s=5*-np.log10(combined_pval[i,j]), vmin=-2,vmax=2, cmap=plt.cm.seismic)\n",
    "\n",
    "ax.imshow(combined_coef,vmin=-3,vmax=3,cmap=plt.cm.seismic,aspect='auto',interpolation='none',rasterized=True)\n",
    "ax.set_xticks(np.arange(combined_coef.shape[1]));\n",
    "ax.set_yticks(np.arange(combined_coef.shape[0]));\n",
    "ax.set_xticklabels(np.array(combined_genes)[col_idx],rotation=90,size=6);\n",
    "#ax.set_yticklabels(all_de.cell_type.unique()[row_idx],size=6);\n",
    "for i in range(0,combined_coef.shape[0],2):\n",
    "    ax.axhline(i-0.5,color='k',linestyle='--',lw=0.5)\n",
    "#for i in range(1,len(coef_idx)):\n",
    "#    if coef_idx[i-1] != coef_idx[i]:\n",
    "#        ax.axvline(i-0.5, color='k',linestyle='--',lw=0.5)\n",
    "sns.despine(ax=ax,bottom=True,left=True) \n",
    "#for i in ax.get_xticklabels(): \n",
    "#    if i.get_text() in lps_only:\n",
    "#        i.set_color('m')\n",
    "#    elif i.get_text() in age_only:\n",
    "#        i.set_color('g')\n",
    "#    else:\n",
    "#        i.set_color('k')\n",
    "ax.set_yticks([])\n",
    "# dendrogram\n",
    "ax = axes[1,3]\n",
    "#hc.dendrogram(dn_row,orientation='right',ax=ax,above_threshold_color='k',color_threshold=0)\n",
    "ax.invert_yaxis()\n",
    "ax.axis('off')\n",
    "f.savefig(\"/home/user/Dropbox/zhuang_lab/aging/aging_atlas_paper/figures_int/fig4_lps_age_combined_nologumi.pdf\", bbox_inches='tight', dpi=200)"
   ]
  },
  {
   "cell_type": "code",
   "execution_count": null,
   "metadata": {},
   "outputs": [],
   "source": [
    "good_cols = np.any(coef_signif>0,0)\n",
    "coef_signif = coef_signif[:,good_cols]"
   ]
  },
  {
   "cell_type": "code",
   "execution_count": null,
   "metadata": {},
   "outputs": [],
   "source": [
    "aspect_ratio = combined_coef.shape[1]/combined_coef.shape[0]\n",
    "f, axes = plt.subplots(figsize=(aspect_ratio*3,3),ncols=3,gridspec_kw={'width_ratios':[0.25,20, 2], 'wspace':0.02})\n",
    "ax = axes[0]\n",
    "celltype_annots  = np.zeros(coef_signif.shape[0])\n",
    "k = 0\n",
    "for i in range(0,len(coef_signif)):\n",
    "    celltype_annots[i] = k\n",
    "    k += 1\n",
    "sorted_celltypes = np.array(all_de_age.cell_type.unique())[row_idx]\n",
    "celltype_cmap = mpl.colors.ListedColormap([celltype_colors[i] for i in sorted_celltypes])\n",
    "ax.imshow(np.expand_dims(celltype_annots,1), cmap=celltype_cmap, aspect='auto',interpolation='none')\n",
    "sns.despine(ax=ax,bottom=True,left=True)\n",
    "ax.set_xticks([])\n",
    "ax.set_yticks(np.arange(len(sorted_celltypes)))\n",
    "ylabel = []\n",
    "k = 0\n",
    "for i in range(len(sorted_celltypes)):\n",
    "    ylabel.append(sorted_celltypes[i]) #+ f\" {int(lps_count[row_idx][k]), int(both_count[row_idx[k]]), int(age_count[row_idx][k])}\")\n",
    "ax.set_yticklabels(ylabel)\n",
    "\n",
    "ax = axes[1]\n",
    "for i in range(coef_signif.shape[0]):\n",
    "    for j in range(coef_signif.shape[1]):\n",
    "        if coef_signif[i,j] == 1:\n",
    "            circle_color = 'm'\n",
    "        elif coef_signif[i,j] == 2: \n",
    "            circle_color = 'g' \n",
    "        elif coef_signif[i,j] == 3:\n",
    "            circle_color = 'k'\n",
    "        else:\n",
    "            circle_color = None\n",
    "        if circle_color is not None:\n",
    "            ax.scatter(j,coef_signif.shape[0] - i -1, s=15, vmin=-2,vmax=2, cmap=plt.cm.seismic, edgecolors=circle_color, linewidths=0.5, facecolors=circle_color)\n",
    "        #else:\n",
    "            #ax.scatter(j,i, c=combined_coef[i,j], s=5*-np.log10(combined_pval[i,j]), vmin=-2,vmax=2, cmap=plt.cm.seismic)\n",
    "\n",
    "ax.set_xticks(np.arange(coef_signif.shape[1]));\n",
    "ax.set_yticks(np.arange(coef_signif.shape[0]));\n",
    "ax.set_xticklabels(np.array(combined_genes)[col_idx][good_cols],rotation=90,size=6);\n",
    "#ax.set_yticklabels(all_de.cell_type.unique()[row_idx],size=6);\n",
    "for i in range(0,coef_signif.shape[0]):\n",
    "    ax.axhline(i-0.5,color='k',linestyle='--',lw=0.5)\n",
    "#for i in range(1,len(coef_idx)):\n",
    "#    if coef_idx[i-1] != coef_idx[i]:\n",
    "#        ax.axvline(i-0.5, color='k',linestyle='--',lw=0.5)\n",
    "sns.despine(ax=ax,bottom=True,left=True) \n",
    "#for i in ax.get_xticklabels(): \n",
    "#    if i.get_text() in lps_only:\n",
    "#        i.set_color('m')\n",
    "#    elif i.get_text() in age_only:\n",
    "#        i.set_color('g')\n",
    "#    else:\n",
    "#        i.set_color('k')\n",
    "ax.set_yticks([])\n",
    "\n",
    "ax = axes[2]\n",
    "#hc.dendrogram(dn_row,orientation='right',ax=ax,above_threshold_color='k',color_threshold=0)\n",
    "ax.invert_yaxis()\n",
    "ax.axis('off')\n",
    "f.savefig(\"/home/user/Dropbox/zhuang_lab/aging/aging_atlas_paper/figures_int/fig4_lps_age_de_thresh_nologumi.pdf\", bbox_inches='tight', dpi=200)"
   ]
  },
  {
   "cell_type": "code",
   "execution_count": null,
   "metadata": {},
   "outputs": [],
   "source": [
    "from scipy.stats import pearsonr\n",
    "cross_corr = np.zeros((14,14))\n",
    "for i in range(cross_corr.shape[0]):\n",
    "    for j in range(cross_corr.shape[1]):\n",
    "        cross_corr[i,j] = pearsonr(coef_lps[i,:], coef_age[j,:])[0]\n",
    "        #cross_corr[i,j] = 0.5*(np.corrcoef(coef_lps[i,:], coef_age[j,:])[0,1] + np.corrcoef(coef_lps[j,:], coef_age[i,:])[0,1])"
   ]
  },
  {
   "cell_type": "code",
   "execution_count": null,
   "metadata": {},
   "outputs": [],
   "source": [
    "f, ax = plt.subplots(figsize=(5,4))\n",
    "plt.imshow(cross_corr,vmin=-1,vmax=1,cmap=plt.cm.seismic,aspect='auto',interpolation='none')\n",
    "ax.set_xticks(np.arange(14));\n",
    "ax.set_yticks(np.arange(14));\n",
    "ax.set_xticklabels(sorted_celltypes,rotation=90);\n",
    "ax.set_yticklabels(sorted_celltypes);\n",
    "plt.colorbar()\n",
    "ax.set_xlabel('LPS coef')\n",
    "ax.set_ylabel('Age coef')"
   ]
  },
  {
   "cell_type": "code",
   "execution_count": null,
   "metadata": {},
   "outputs": [],
   "source": [
    "# score genes\n",
    "sc.tl.score_genes(adata, gene_list=['B2m','Trem2', 'Ccl2', 'Apoe', 'Spp1', 'Cst7', 'Axl', 'Itgax', 'Csf1', 'Cd9','C1qa','C1qc','Lyz2','Ctss'], score_name='activate_micro', use_raw=False)\n",
    "activate_endo = [\"B2m\", \"Nfkbia\", \"Serinc3\",\"Xdh\", \"Gfap\", \"Tap1\"]\n",
    "sc.tl.score_genes(adata, gene_list=activate_endo, score_name='activate_endo',use_raw=False)\n",
    "sc.tl.score_genes(adata, gene_list=[\"C4b\", \"Il33\", \"Il18\"], score_name=\"activate_olig\",use_raw=False)"
   ]
  },
  {
   "cell_type": "code",
   "execution_count": null,
   "metadata": {},
   "outputs": [],
   "source": [
    "def get_genes_from_de(A, cell_type):\n",
    "    all_de = A[A.cell_type == cell_type]\n",
    "    de_genes_age = list(all_de[np.logical_and(np.abs(all_de.coef_age > 1), all_de.qval<0.01)].gene.unique())\n",
    "    de_genes_lps = list(all_de[np.logical_and(np.abs(all_de.coef_lps > 1), all_de.qval<0.01)].gene.unique())\n",
    "    combined_genes = list(set(de_genes_age+de_genes_lps))\n",
    "    return combined_genes, de_genes_age, de_genes_lps\n",
    "\n",
    "def get_genes_from_separate_de(A_lps, A_age, cell_type):\n",
    "    all_de = A_age[A_age.cell_type == cell_type]\n",
    "\n",
    "    de_genes_age = list(all_de[np.logical_and(np.abs(all_de.coef) > 1, all_de.qval<0.01)].gene.unique())\n",
    "    all_de = A_lps[A_lps.cell_type == cell_type]\n",
    "\n",
    "    de_genes_lps = list(all_de[np.logical_and(np.abs(all_de.coef) > 1, all_de.qval<0.01)].gene.unique())\n",
    "    combined_genes = list(set(de_genes_age+de_genes_lps))\n",
    "    return combined_genes, de_genes_age, de_genes_lps\n"
   ]
  },
  {
   "cell_type": "code",
   "execution_count": null,
   "metadata": {},
   "outputs": [],
   "source": [
    "cell_types_to_score = ['Vlmc','OPC','Peri','Epen','Astro','Micro','Olig','Endo','Macro']\n",
    "for i in cell_types_to_score:\n",
    "    curr_genes, de_genes_age, de_genes_lps = get_genes_from_separate_de(all_de_age, all_de_lps, i)\n",
    "    print(i, curr_genes)\n",
    "    sc.tl.score_genes(adata, gene_list=curr_genes, score_name=i+\"_score\")\n",
    "    sc.tl.score_genes(adata, gene_list=de_genes_age, score_name=i+\"_score_age\")\n",
    "    sc.tl.score_genes(adata, gene_list=de_genes_lps, score_name=i+\"_score_lps\")"
   ]
  },
  {
   "cell_type": "code",
   "execution_count": null,
   "metadata": {},
   "outputs": [],
   "source": [
    "def compute_celltype_neighborhood_regression(A, celltype_key, source, celltypes=None,min_radiu=0, obs_keys=None):\n",
    "    if obs_keys is None:\n",
    "        expr = A.X\n",
    "    else:\n",
    "        expr = np.array(A.obs.loc[:,obs_keys].values)\n",
    "    if celltypes is None:\n",
    "        celltypes = list(sorted(A.obs[celltype_key].unique()))\n",
    "    pos = A.obsm['spatial']\n",
    "    labels = A.obs[celltype_key]\n",
    "    tstats = np.zeros((len(celltypes), expr.shape[1]))\n",
    "    pvals = np.zeros((len(celltypes), expr.shape[1]))\n",
    "    # get all the cells of a certain type\n",
    "    curr_X = pos[labels==source]\n",
    "    curr_expr = expr[labels==source]\n",
    "    interactions = {}\n",
    "    for i, c1 in enumerate(celltypes):\n",
    "        # find all the cells of the neighboring type\n",
    "        curr_Y = pos[labels==c1]\n",
    "\n",
    "        # identify neighbors of target cell type X to cells in cell type Y\n",
    "        dists, idx = get_nearest_neighbor_dists(curr_Y, curr_X)\n",
    "       #print(c1, curr_X.shape[0], curr_Y.shape[0], len(idx))\n",
    "\n",
    "        interactions[c1] = (dists, curr_expr[idx])\n",
    "    return interactions\n",
    "\n",
    "def get_nearest_neighbor_dists(X,Y):\n",
    "    kdtree = KDTree(Y)\n",
    "    dist, idx = kdtree.query(X, k=2)\n",
    "    return dist[:,1], idx[:,1]\n",
    "\n",
    "\n",
    "def moving_average(x, w):\n",
    "    return np.convolve(x, np.ones(w), 'valid') / w\n",
    "\n",
    "def average_within_bins(dists, score, min_val, max_val, bin_width, smooth_size=5):\n",
    "    scores_bin = []\n",
    "    scores_var = []\n",
    "    for i in range(min_val, max_val):\n",
    "        idx = np.argwhere(dists[np.logical_and(dists>i, dists<=(i+bin_width))]).flatten()\n",
    "        scores_bin.append(np.mean(score[idx]))\n",
    "        scores_var.append(np.std(score[idx]))\n",
    "    scores_bin = moving_average(np.array(scores_bin), smooth_size)\n",
    "    scores_var = np.array(scores_var)\n",
    "    return scores_bin, scores_var\n",
    "\n"
   ]
  },
  {
   "cell_type": "code",
   "execution_count": null,
   "metadata": {},
   "outputs": [],
   "source": [
    "# plot individual genes that change with age, LPS, or both"
   ]
  },
  {
   "cell_type": "code",
   "execution_count": null,
   "metadata": {},
   "outputs": [],
   "source": [
    "plot_info = {\n",
    "    '4wk_ctrl' : {\n",
    "        'batch' : 7,\n",
    "        'slice' : 0,\n",
    "        'rot' : -183,\n",
    "        'xlim' : [200, 2300],\n",
    "        'ylim' : [200, 3800]\n",
    "    },\n",
    "    '24wk_ctrl' : {\n",
    "        'batch' : 11,\n",
    "        'slice' : 0,\n",
    "        'rot' : -12,\n",
    "        'xlim' : [1950, 1950+2100],\n",
    "        'ylim' : [200, 3700]\n",
    "    },\n",
    "    '90wk_ctrl' : {\n",
    "        'batch' : 8,\n",
    "        'slice' : 1,\n",
    "        'rot' : 35,\n",
    "        'xlim' : [200, 2300],\n",
    "        'ylim' : [400, 3900]\n",
    "    },\n",
    "    '4wk_lps' : {\n",
    "        'batch' : 17,\n",
    "        'slice' : 0,\n",
    "        'xlim' : [2150,2150+2100],\n",
    "        'ylim' : [600, 4600],\n",
    "        'rot' : 160\n",
    "    },\n",
    "    '24wk_lps' : {\n",
    "        'batch' : 16,\n",
    "        'slice' : 1,\n",
    "        'rot' : 20,\n",
    "        'xlim' : [1800,1800+2100],\n",
    "        'ylim' : [200, 4300],\n",
    "    },\n",
    "    '90wk_lps' : {\n",
    "        #'batch' : 13,\n",
    "        #'slice' : 0,\n",
    "        #'xlim' : [450,100+2100],\n",
    "        #'ylim' : [150,3700],\n",
    "        #'rot' : 190\n",
    "        'batch' : 19,\n",
    "        'slice' : 1,\n",
    "        'rot' : 0,\n",
    "        'xlim' : [1800,1800+2100],\n",
    "        'ylim' : [150,3900]\n",
    "    }\n",
    "}\n"
   ]
  },
  {
   "cell_type": "code",
   "execution_count": null,
   "metadata": {},
   "outputs": [],
   "source": [
    "clust_encoding = {k:i for i,k in enumerate(label_colors.keys())}\n",
    "curr_cmap = mpl.colors.ListedColormap([label_colors[i] for i in label_colors.keys()])\n",
    "adata.obs['clust_encoding'] = [clust_encoding[i] for i in adata.obs.clust_annot_preds]"
   ]
  },
  {
   "cell_type": "code",
   "execution_count": null,
   "metadata": {},
   "outputs": [],
   "source": [
    "def find_clust_names_with_str(clust_names, to_find):\n",
    "    valid_clusts = []\n",
    "    for i in clust_names:\n",
    "        for j in to_find:\n",
    "            if j in i:\n",
    "                valid_clusts.append(i)\n",
    "    return list(set(valid_clusts))"
   ]
  },
  {
   "cell_type": "code",
   "execution_count": null,
   "metadata": {},
   "outputs": [],
   "source": []
  },
  {
   "cell_type": "code",
   "execution_count": null,
   "metadata": {},
   "outputs": [],
   "source": [
    "for curr_samp in ['4wk_lps','24wk_lps','90wk_lps']:\n",
    "\n",
    "    curr_adata = adata[np.logical_and(adata.obs.data_batch==str(plot_info[curr_samp]['batch']), \n",
    "                                      adata.obs.slice==plot_info[curr_samp]['slice'])]\n",
    "    print(curr_adata.obs.age.unique())\n",
    "    curr_rot = plot_info[curr_samp]['rot']\n",
    "    curr_size = 1\n",
    "    aspect_ratio, nx, ny = calculate_aspect_ratio(curr_adata, rot=curr_rot)\n",
    "    print(aspect_ratio, nx, ny)\n",
    "    xlim = plot_info[curr_samp]['xlim']\n",
    "    ylim = plot_info[curr_samp]['ylim']\n",
    "    aspect_ratio = (xlim[1]-xlim[0])/(ylim[1]-ylim[0])\n",
    "    f, ax = plt.subplots(figsize=(5*7*aspect_ratio,5))\n",
    "    ax = plt.subplot(1,7,1)\n",
    "    plot_seg(curr_adata, seg_cmap, rot=curr_rot,s=curr_size, ax=ax,xlim=xlim, ylim=ylim)\n",
    "    cell_types = find_clust_names_with_str(adata.obs.clust_annot_preds, [\"ExN\"])\n",
    "    ax = plt.subplot(1,7,2)\n",
    "    plot_clust_subset(curr_adata, cell_types, curr_cmap, rot=curr_rot,s=curr_size, ax=ax, xlim=xlim, ylim=ylim,clust_key='clust_annot_preds')\n",
    "\n",
    "    ax = plt.subplot(1,7,3)\n",
    "    cell_types = find_clust_names_with_str(adata.obs.clust_annot_preds, ['InN', 'MSN'])\n",
    "    plot_clust_subset(curr_adata, cell_types, curr_cmap, rot=curr_rot,s=curr_size, ax=ax,xlim=xlim, ylim=ylim,clust_key='clust_annot_preds')\n",
    "\n",
    "    ax = plt.subplot(1,7,4)\n",
    "    cell_types = find_clust_names_with_str(adata.obs.clust_annot_preds, ['Olig', 'OPC'])\n",
    "    plot_clust_subset(curr_adata, cell_types, curr_cmap, rot=curr_rot,s=curr_size, ax=ax,xlim=xlim, ylim=ylim,clust_key='clust_annot_preds')\n",
    "\n",
    "    ax = plt.subplot(1,7,5)\n",
    "    cell_types = find_clust_names_with_str(adata.obs.clust_annot_preds, ['Astro'])\n",
    "    plot_clust_subset(curr_adata, cell_types, curr_cmap, rot=curr_rot,s=curr_size, ax=ax,xlim=xlim, ylim=ylim,clust_key='clust_annot_preds')\n",
    "\n",
    "    ax = plt.subplot(1,7,6)\n",
    "    cell_types = find_clust_names_with_str(adata.obs.clust_annot_preds, ['Epen', 'Endo', 'Vlmc', 'Peri'])\n",
    "    plot_clust_subset(curr_adata, cell_types, curr_cmap, rot=curr_rot,s=curr_size, ax=ax,xlim=xlim, ylim=ylim,clust_key='clust_annot_preds')\n",
    "\n",
    "    ax = plt.subplot(1,7,7)\n",
    "    cell_types = find_clust_names_with_str(adata.obs.clust_annot_preds, ['Micro','Macro','T cell','B cell'])\n",
    "    plot_clust_subset(curr_adata, cell_types, curr_cmap, rot=curr_rot,s=curr_size, ax=ax,xlim=xlim, ylim=ylim,clust_key='clust_annot_preds')\n",
    "    f.savefig(f\"/home/user/Dropbox/zhuang_lab/aging/aging_atlas_paper/figures_int/fig4_spatial_{curr_samp}.pdf\", bbox_inches='tight', dpi=200)"
   ]
  },
  {
   "cell_type": "code",
   "execution_count": null,
   "metadata": {},
   "outputs": [],
   "source": [
    "# plot area specific genes\n",
    "area_genes = [\n",
    " 'Otof',\n",
    "'Cux2',\n",
    "'Rorb',\n",
    "  'Rspo1',\n",
    "\n",
    " 'Scube1',\n",
    "  'Fezf2',\n",
    " 'Ptpru',\n",
    " 'Syt6',\n",
    " 'Nxph4',\n",
    " 'Drd1',\n",
    " 'Drd2',\n",
    "]\n",
    "curr_samp = '4wk_lps'\n",
    "celltypes = adata.obs.clust_annot.unique()\n",
    "curr_adata = adata[np.logical_and(adata.obs.data_batch==str(plot_info[curr_samp]['batch']), \n",
    "                                  adata.obs.slice==plot_info[curr_samp]['slice'])]\n",
    "\n",
    "#curr_adata = adata_combined_merfish[np.logical_and(adata_combined_merfish.obs.batch==9, adata_combined_merfish.obs.slice==1)]\n",
    "curr_rot = plot_info[curr_samp]['rot']\n",
    "xlim = plot_info[curr_samp]['xlim']\n",
    "ylim = plot_info[curr_samp]['ylim']\n",
    "aspect_ratio = (xlim[1]-xlim[0])/(ylim[1]-ylim[0])\n",
    "f, axes = plt.subplots(nrows=1, ncols=len(area_genes)+1, figsize=(5*aspect_ratio*(len(area_genes)+1),5*1))\n",
    "plot_seg(curr_adata, seg_cmap, rot=curr_rot,s=curr_size, ax=axes[0],xlim=xlim, ylim=ylim)\n",
    "\n",
    "k = 1\n",
    "for c in area_genes: \n",
    "    ax = axes[k]\n",
    "    vmin = np.quantile(curr_adata[:,c].X, 0.05)\n",
    "    vmax = np.quantile(curr_adata[:,c].X, 0.95)\n",
    "    plot_gene_expr(curr_adata, celltypes, c, plt.cm.Reds, vmin=vmin,vmax=vmax, rot=curr_rot, ax=ax, xlim=xlim, ylim=ylim)\n",
    "    k += 1\n",
    "    ax.set_title(c)"
   ]
  },
  {
   "cell_type": "code",
   "execution_count": null,
   "metadata": {
    "scrolled": true
   },
   "outputs": [],
   "source": [
    "curr_adata = adata[np.logical_and(adata.obs.data_batch=='16', adata.obs.slice==1)]\n",
    "print(curr_adata.obs.age.unique(), curr_adata.obs.cond.unique())\n",
    "plot_gene_expr(curr_adata, adata.obs.clust_annot_preds.unique(), \"Cxcl10\",rot=0,s=0.1,vmin=vmin,vmax=5,use_raw=False,key='clust_annot_preds',cmap=plt.cm.Reds)\n",
    "plot_gene_expr(curr_adata, adata.obs.clust_annot_preds.unique(), \"Ifit3\",rot=0,s=0.1,vmin=vmin,vmax=10,use_raw=False,key='clust_annot_preds',cmap=plt.cm.Reds)\n",
    "plot_gene_expr(curr_adata, adata.obs.clust_annot_preds.unique(), \"Irf7\",rot=0,s=0.1,vmin=vmin,vmax=10,use_raw=False,key='clust_annot_preds',cmap=plt.cm.Reds)\n"
   ]
  },
  {
   "cell_type": "code",
   "execution_count": null,
   "metadata": {
    "scrolled": true
   },
   "outputs": [],
   "source": [
    "curr_adata = adata[np.logical_and(adata.obs.data_batch=='12', adata.obs.slice==0)]\n",
    "print(curr_adata.obs.age.unique(), curr_adata.obs.cond.unique())\n",
    "plot_gene_expr(curr_adata, adata.obs.clust_annot_preds.unique(), \"Cxcl10\",rot=0,s=0.1,vmin=vmin,vmax=10,use_raw=False,key='clust_annot_preds',cmap=plt.cm.Reds)\n",
    "plot_gene_expr(curr_adata, adata.obs.clust_annot_preds.unique(), \"Ifit3\",rot=0,s=0.1,vmin=vmin,vmax=10,use_raw=False,key='clust_annot_preds',cmap=plt.cm.Reds)\n",
    "plot_gene_expr(curr_adata, adata.obs.clust_annot_preds.unique(), \"Irf7\",rot=0,s=0.1,vmin=vmin,vmax=10,use_raw=False,key='clust_annot_preds',cmap=plt.cm.Reds)\n"
   ]
  },
  {
   "cell_type": "code",
   "execution_count": null,
   "metadata": {},
   "outputs": [],
   "source": [
    "def get_plot_info(age, cond):\n",
    "    info = plot_info[age+\"_\"+cond]\n",
    "    return info['batch'], info['slice'], info['xlim'], info['ylim'], info['rot']\n",
    "\n",
    "def plot_gene_by_conditions(A, gene_name, vmin=0,vmax=3):\n",
    "    f,ax = plt.subplots(figsize=(4,10), nrows=3, ncols=2, gridspec_kw={'wspace':0.05, 'hspace':0.01})\n",
    "    for i, cond in enumerate(['ctrl','lps']):\n",
    "        for j, age in enumerate(['4wk', '24wk', '90wk']):\n",
    "            batch, dslice, xlim, ylim, rot = get_plot_info(age, cond)\n",
    "            curr_ax = ax[j][i]\n",
    "            curr_adata = A[np.logical_and(A.obs.data_batch==str(batch), A.obs.slice==dslice)]\n",
    "            plot_gene_expr(curr_adata, A.obs.clust_annot_preds.unique(), gene_name,rot=rot,s=0.1,vmin=vmin,vmax=vmax,use_raw=False,key='clust_annot_preds',cmap=plt.cm.Reds,ax=curr_ax)\n",
    "            curr_ax.set_xlim(xlim)\n",
    "            curr_ax.set_ylim(ylim)\n",
    "    return f\n",
    "\n",
    "def plot_obs_by_conditions(A, obs_name, vmin=0,vmax=3,cmap=plt.cm.Reds, cell_types=None,key='clust_annot_preds',s=0.1):\n",
    "    if cell_types is None:\n",
    "        cell_types = A.obs.clust_annot_preds.unique()\n",
    "    f,ax = plt.subplots(figsize=(4,10), nrows=3, ncols=2, gridspec_kw={'wspace':0.05, 'hspace':0.01})\n",
    "    for i, cond in enumerate(['ctrl','lps']):\n",
    "        for j, age in enumerate(['4wk', '24wk', '90wk']):\n",
    "            batch, dslice, xlim, ylim, rot = get_plot_info(age, cond)\n",
    "            curr_ax = ax[j][i]\n",
    "            curr_adata = A[np.logical_and(A.obs.data_batch==str(batch), A.obs.slice==dslice)]\n",
    "            plot_obs(curr_adata, cell_types, obs_name,rot=rot,s=s,vmin=vmin,vmax=vmax,key=key,cmap=cmap,ax=curr_ax)\n",
    "            curr_ax.set_xlim(xlim)\n",
    "            curr_ax.set_ylim(ylim)\n",
    "    return f\n"
   ]
  },
  {
   "cell_type": "code",
   "execution_count": null,
   "metadata": {},
   "outputs": [],
   "source": [
    "sc.tl.score_genes(adata, gene_list=['B2m','Trem2', 'Ccl2', 'Apoe',  'Axl', 'Itgax', 'Cd9','C1qa','C1qc','Lyz2','Ctss'], score_name='activate_micro', use_raw=False)\n",
    "sc.tl.score_genes(adata, gene_list=['C4b', 'C3', 'Serpina3n', 'Cxcl10', 'Gfap', 'Vim', 'Il18','Hif3a'], score_name='activate_astro', use_raw=False)\n",
    "\n",
    "adata_micro = adata[adata.obs.cell_type_preds==\"Micro\"]\n",
    "adata.obs.loc[adata.obs.cell_type_preds==\"Micro\",\"activate_micro\"] = adata_micro.obs.activate_micro - np.mean(adata_micro[np.logical_and(adata_micro.obs.cond=='ctrl',\n",
    "                                                                                                                                   \n",
    "                                                                                                                                   adata_micro.obs.age=='4wk')].obs.activate_micro)\n",
    "adata_astro = adata[adata.obs.cell_type_preds==\"Astro\"]\n",
    "adata.obs.loc[adata.obs.cell_type_preds==\"Astro\",\"activate_astro\"] = adata_astro.obs.activate_astro - np.mean(adata_astro[np.logical_and(adata_astro.obs.age=='4wk',\n",
    "                                                                                                                                   adata_astro.obs.cond=='ctrl')].obs.activate_astro)"
   ]
  },
  {
   "cell_type": "code",
   "execution_count": null,
   "metadata": {},
   "outputs": [],
   "source": [
    "vmax = np.quantile(adata[adata.obs.cell_type_preds==\"Micro\"].obs.activate_micro,0.95)#np.quantile(adata.obs.activate_micro,0.99999)\n",
    "vmin = np.quantile(adata[adata.obs.cell_type_preds==\"Micro\"].obs.activate_micro,0.05) #np.quantile(adata.obs.activate_micro,0.00001)\n",
    "\n",
    "f = plot_obs_by_conditions(adata, \"activate_micro\",s=2.5,vmax=vmax, vmin=vmin,cmap=plt.cm.rainbow,cell_types=\"Micro\",key='cell_type_preds');\n",
    "f.savefig(\"/home/user/Dropbox/zhuang_lab/aging/aging_atlas_paper/figures_int/fig4_activate_micro.pdf\", bbox_inches='tight', dpi=200)"
   ]
  },
  {
   "cell_type": "code",
   "execution_count": null,
   "metadata": {},
   "outputs": [],
   "source": [
    "vmax = np.quantile(adata[adata.obs.cell_type_preds==\"Astro\"].obs.activate_astro,0.95)\n",
    "vmin = np.quantile(adata[adata.obs.cell_type_preds==\"Astro\"].obs.activate_astro,0.05)\n",
    "\n",
    "f = plot_obs_by_conditions(adata, \"activate_astro\",s=2.5,vmax=vmax, vmin=vmin,cmap=plt.cm.rainbow,cell_types=\"Astro\",key='cell_type_preds');\n",
    "f.savefig(\"/home/user/Dropbox/zhuang_lab/aging/aging_atlas_paper/figures_int/fig4_activate_astro.pdf\", bbox_inches='tight', dpi=200)"
   ]
  },
  {
   "cell_type": "code",
   "execution_count": null,
   "metadata": {},
   "outputs": [],
   "source": [
    "vmax = np.quantile(adata[adata.obs.cell_type_preds==\"Endo\"].obs.activate_endo,0.95)#np.quantile(adata.obs.activate_endo,0.999)\n",
    "vmin = np.quantile(adata[adata.obs.cell_type_preds==\"Endo\"].obs.activate_endo,0.05)\n",
    "\n",
    "f = plot_obs_by_conditions(adata, \"activate_endo\",s=1, vmax=vmax, vmin=vmin,cmap=plt.cm.rainbow,cell_types=\"Endo\",key='cell_type_preds');\n",
    "f.savefig(\"/home/user/Dropbox/zhuang_lab/aging/aging_atlas_paper/figures_int/fig4_activate_endo.pdf\", bbox_inches='tight', dpi=200)"
   ]
  },
  {
   "cell_type": "code",
   "execution_count": null,
   "metadata": {},
   "outputs": [],
   "source": [
    "vmax = np.quantile(adata[adata.obs.cell_type_preds==\"Olig\"].obs.activate_olig,0.95)#np.quantile(adata.obs.activate_endo,0.999)\n",
    "vmin = np.quantile(adata[adata.obs.cell_type_preds==\"Olig\"].obs.activate_olig,0.05)\n",
    "\n",
    "f = plot_obs_by_conditions(adata, \"activate_olig\",s=1, vmax=vmax, vmin=vmin,cmap=plt.cm.rainbow,cell_types=\"Olig\",key='cell_type_preds');\n",
    "f.savefig(\"/home/user/Dropbox/zhuang_lab/aging/aging_atlas_paper/figures_int/fig4_activate_oligo.pdf\", bbox_inches='tight', dpi=200)"
   ]
  },
  {
   "cell_type": "code",
   "execution_count": null,
   "metadata": {},
   "outputs": [],
   "source": [
    "f = plot_gene_by_conditions(adata, \"Rsrp1\",vmax=3);\n",
    "f.savefig(\"/home/user/Dropbox/zhuang_lab/aging/aging_atlas_paper/figures_int/fig4_rsrp1_example.pdf\", bbox_inches='tight', dpi=200)"
   ]
  },
  {
   "cell_type": "code",
   "execution_count": null,
   "metadata": {},
   "outputs": [],
   "source": [
    "plot_gene_by_conditions(adata, \"Cdkn1a\",vmax=7);\n",
    "f.savefig(\"/home/user/Dropbox/zhuang_lab/aging/aging_atlas_paper/figures_int/fig4_cdkn1a_example.pdf\", bbox_inches='tight', dpi=200)"
   ]
  },
  {
   "cell_type": "code",
   "execution_count": null,
   "metadata": {},
   "outputs": [],
   "source": [
    "f = plot_gene_by_conditions(adata, \"Cdkn1a\",vmax=5);\n",
    "#f.savefig(\"/home/user/Dropbox/zhuang_lab/aging/aging_atlas_paper/figures_int/fig4_il33_example.pdf\", bbox_inches='tight', dpi=200)"
   ]
  },
  {
   "cell_type": "code",
   "execution_count": null,
   "metadata": {},
   "outputs": [],
   "source": [
    "f = plot_gene_by_conditions(adata, \"Il33\",vmax=5);\n",
    "f.savefig(\"/home/user/Dropbox/zhuang_lab/aging/aging_atlas_paper/figures_int/fig4_il33_example.pdf\", bbox_inches='tight', dpi=200)"
   ]
  },
  {
   "cell_type": "code",
   "execution_count": null,
   "metadata": {},
   "outputs": [],
   "source": [
    "f = plot_gene_by_conditions(adata, \"C4b\",vmax=5);\n",
    "f.savefig(\"/home/user/Dropbox/zhuang_lab/aging/aging_atlas_paper/figures_int/fig4_c4b_example.pdf\", bbox_inches='tight', dpi=200)"
   ]
  },
  {
   "cell_type": "code",
   "execution_count": null,
   "metadata": {},
   "outputs": [],
   "source": []
  },
  {
   "cell_type": "code",
   "execution_count": null,
   "metadata": {},
   "outputs": [],
   "source": [
    "adata_olig = adata[adata.obs.cell_type_preds==\"Olig\"]\n",
    "adata.obs.loc[adata.obs.cell_type_preds==\"Olig\",\"activate_olig\"] = adata_olig.obs.activate_olig - np.mean(adata_olig[np.logical_and(adata_olig.obs.age=='4wk',\n",
    "                                                                                                                                   adata_olig.obs.cond=='ctrl')].obs.activate_olig)"
   ]
  },
  {
   "cell_type": "code",
   "execution_count": null,
   "metadata": {},
   "outputs": [],
   "source": [
    "# plot age/obs comparisons\n",
    "from plotting import *\n",
    "ylim = [-1, 3.5]\n",
    "spatial_order = ['Pia','L2/3','L5','L6','CC','LatSept','Striatum','Ventricle']\n",
    "f = plot_cond_obs_comparison(adata[adata.obs.age=='4wk'], \"spatial_clust_annots\", \"activate_astro\", \"Astro\", order=spatial_order,clust_key='cell_type_preds',ylim=ylim);\n",
    "f.savefig(\"/home/user/Dropbox/zhuang_lab/aging/aging_atlas_paper/figures_int/fig4_active_astro_spatial_lps.pdf\",bbox_inches='tight',dpi=300)\n",
    "\n",
    "f = plot_cond_obs_comparison(adata[adata.obs.age=='90wk'], \"spatial_clust_annots\", \"activate_astro\", \"Astro\", order=spatial_order,clust_key='cell_type_preds',ylim=ylim);\n",
    "f.savefig(\"/home/user/Dropbox/zhuang_lab/aging/aging_atlas_paper/figures_int/fig4_active_astro_spatial_lps_old.pdf\",bbox_inches='tight',dpi=300)"
   ]
  },
  {
   "cell_type": "code",
   "execution_count": null,
   "metadata": {},
   "outputs": [],
   "source": [
    "# plot age/obs comparisons\n",
    "# plot age/obs comparisons\n",
    "from plotting import *\n",
    "spatial_order = ['Pia','L2/3','L5','L6','CC','LatSept','Striatum','Ventricle']\n",
    "ylim = [-1.5, 4]\n",
    "f = plot_cond_obs_comparison(adata[adata.obs.age=='4wk'], \"spatial_clust_annots\", \"activate_olig\", \"Olig\", order=spatial_order,clust_key='cell_type_preds', ylim=ylim);\n",
    "f.savefig(\"/home/user/Dropbox/zhuang_lab/aging/aging_atlas_paper/figures_int/fig4_active_olig_spatial_lps.pdf\",bbox_inches='tight',dpi=300)\n",
    "\n",
    "from plotting import *\n",
    "f = plot_cond_obs_comparison(adata[adata.obs.age=='90wk'], \"spatial_clust_annots\", \"activate_olig\", \"Olig\", order=spatial_order,clust_key='cell_type_preds',ylim=ylim);\n",
    "f.savefig(\"/home/user/Dropbox/zhuang_lab/aging/aging_atlas_paper/figures_int/fig4_active_olig_spatial_lps_old.pdf\",bbox_inches='tight',dpi=300)"
   ]
  },
  {
   "cell_type": "code",
   "execution_count": null,
   "metadata": {},
   "outputs": [],
   "source": [
    "ylim = [-1, 4.5]\n",
    "f = plot_cond_obs_comparison(adata[adata.obs.age=='4wk'], \"spatial_clust_annots\", \"activate_endo\", \"Endo\", order=spatial_order,clust_key='cell_type_preds',ylim=ylim);\n",
    "f.savefig(\"/home/user/Dropbox/zhuang_lab/aging/aging_atlas_paper/figures_int/fig4_active_endo_spatial_lps.pdf\",bbox_inches='tight',dpi=300)\n",
    "\n",
    "f = plot_cond_obs_comparison(adata[adata.obs.age=='90wk'], \"spatial_clust_annots\", \"activate_endo\", \"Endo\", order=spatial_order,clust_key='cell_type_preds',ylim=ylim);\n",
    "f.savefig(\"/home/user/Dropbox/zhuang_lab/aging/aging_atlas_paper/figures_int/fig4_active_endo_spatial_lps_old.pdf\",bbox_inches='tight',dpi=300)"
   ]
  },
  {
   "cell_type": "code",
   "execution_count": null,
   "metadata": {},
   "outputs": [],
   "source": [
    "ylim = [-1.5, 2.0]\n",
    "f = plot_cond_obs_comparison(adata[adata.obs.age=='4wk'], \"spatial_clust_annots\", \"activate_micro\", \"Micro\", order=spatial_order,clust_key='cell_type_preds',ylim=ylim);\n",
    "f.savefig(\"/home/user/Dropbox/zhuang_lab/aging/aging_atlas_paper/figures_int/fig4_active_micro_spatial_lps.pdf\",bbox_inches='tight',dpi=300)\n",
    "\n",
    "f = plot_cond_obs_comparison(adata[adata.obs.age=='90wk'], \"spatial_clust_annots\", \"activate_micro\", \"Micro\", order=spatial_order,clust_key='cell_type_preds',ylim=ylim);\n",
    "f.savefig(\"/home/user/Dropbox/zhuang_lab/aging/aging_atlas_paper/figures_int/fig4_active_micro_spatial_lps_old.pdf\",bbox_inches='tight',dpi=300)"
   ]
  },
  {
   "cell_type": "code",
   "execution_count": null,
   "metadata": {},
   "outputs": [],
   "source": [
    "f = plot_age_obs_comparison(adata[np.logical_and(adata.obs.cond==\"lps\",adata.obs.age.isin(['4wk','90wk']))], \"spatial_clust_annots\", \"activate_micro\", \"Micro\", order=spatial_order,clust_key='cell_type_preds',age_pal=sns.color_palette(['cornflowerblue','lightcoral']));\n",
    "f.savefig(\"/home/user/Dropbox/zhuang_lab/aging/aging_atlas_paper/figures_int/fig4_active_micro_spatial_lps_agecomp.pdf\",bbox_inches='tight',dpi=300)"
   ]
  },
  {
   "cell_type": "code",
   "execution_count": null,
   "metadata": {},
   "outputs": [],
   "source": [
    "f = plot_age_obs_comparison(adata[np.logical_and(adata.obs.cond==\"lps\",adata.obs.age.isin(['4wk','90wk']))], \"spatial_clust_annots\", \"activate_astro\", \"Astro\", order=spatial_order,clust_key='cell_type_preds',age_pal=sns.color_palette(['cornflowerblue','lightcoral']));\n",
    "f.savefig(\"/home/user/Dropbox/zhuang_lab/aging/aging_atlas_paper/figures_int/fig4_active_astro_spatial_lps_agecomp.pdf\",bbox_inches='tight',dpi=300)"
   ]
  },
  {
   "cell_type": "code",
   "execution_count": null,
   "metadata": {},
   "outputs": [],
   "source": [
    "f = plot_age_obs_comparison(adata[np.logical_and(adata.obs.cond==\"lps\",adata.obs.age.isin(['4wk','90wk']))], \"spatial_clust_annots\", \"activate_olig\", \"Olig\", order=spatial_order,clust_key='cell_type_preds',age_pal=sns.color_palette(['cornflowerblue','lightcoral']));\n",
    "f.savefig(\"/home/user/Dropbox/zhuang_lab/aging/aging_atlas_paper/figures_int/fig4_active_olig_spatial_lps_agecomp.pdf\",bbox_inches='tight',dpi=300)"
   ]
  },
  {
   "cell_type": "code",
   "execution_count": null,
   "metadata": {},
   "outputs": [],
   "source": [
    "f = plot_age_obs_comparison(adata[np.logical_and(adata.obs.cond==\"lps\",adata.obs.age.isin(['4wk','90wk']))], \"spatial_clust_annots\", \"activate_endo\", \"Endo\", order=spatial_order,clust_key='cell_type_preds',age_pal=sns.color_palette(['cornflowerblue','lightcoral']));\n",
    "f.savefig(\"/home/user/Dropbox/zhuang_lab/aging/aging_atlas_paper/figures_int/fig4_active_endo_spatial_lps_agecomp.pdf\",bbox_inches='tight',dpi=300)"
   ]
  },
  {
   "cell_type": "code",
   "execution_count": null,
   "metadata": {},
   "outputs": [],
   "source": [
    "def identify_nearest_neighbors_with_idx(X,Y,dist_thresh, min_dist_thresh=15):\n",
    "    if X.shape[0] > 0 and Y.shape[0] > 0:\n",
    "        kdtree = KDTree(Y)\n",
    "        ind, dists = kdtree.query_radius(X, r=dist_thresh, count_only=False,return_distance=True)\n",
    "        ind_X = np.hstack([[i]*len(ind[i]) for i in np.arange(len(ind)) if len(ind[i])>0])\n",
    "        \n",
    "        ind = np.hstack(ind)\n",
    "        dists = np.hstack(dists)\n",
    "        if len(ind) > 0:\n",
    "            ind = ind[dists>min_dist_thresh]      \n",
    "            ind_X = ind_X[dists>min_dist_thresh]\n",
    "        return ind.astype(np.int), ind_X.astype(np.int)\n",
    "    else:\n",
    "        return np.array([])\n",
    "\n",
    "def identify_all_nearest_neighbors_with_dist(X,Y,dist_thresh=80, min_dist_thresh=15):\n",
    "    if X.shape[0] > 0 and Y.shape[0] > 0:\n",
    "        kdtree = KDTree(Y)\n",
    "        ind, dists = kdtree.query_radius(X, r=dist_thresh, count_only=False,return_distance=True)\n",
    "        ind = np.hstack(ind)\n",
    "        dists = np.hstack(dists)\n",
    "\n",
    "        #ind_X = np.hstack([[i]*len(ind[i]) for i in np.arange(len(ind)) if len(ind[i])>0])\n",
    "        return dists, ind\n",
    "    else:\n",
    "        return np.array([])\n",
    "\n",
    "def identify_nearest_neighbors_with_dist(X,Y):\n",
    "    if X.shape[0] > 0 and Y.shape[0] > 0:\n",
    "        kdtree = KDTree(Y)\n",
    "        dists, ind = kdtree.query(X, k=1,return_distance=True)\n",
    "        #ind_X = np.hstack([[i]*len(ind[i]) for i in np.arange(len(ind)) if len(ind[i])>0])\n",
    "        return dists, ind\n",
    "    else:\n",
    "        return np.array([])\n",
    "\n",
    "def compute_celltype_obs_distance_correlation(A,cell_type_X, cell_type_Y, obs_key_X, celltype_key='cell_type'):\n",
    "    X = A[A.obs[celltype_key] == cell_type_X]\n",
    "    Y = A[A.obs[celltype_key] == cell_type_Y]\n",
    "    obs_X = X.obs[obs_key_X]\n",
    "    curr_X = X.obsm['spatial']\n",
    "    curr_Y = Y.obsm['spatial']\n",
    "    dists_Y, ind_Y = identify_nearest_neighbors_with_dist(curr_X,curr_Y)#identify_nearest_neighbors_with_dist(curr_X, curr_Y)\n",
    "    return obs_X.values, dists_Y\n",
    "\n",
    "def compute_celltype_obs_correlation(A,cell_type_X, cell_type_Y, obs_key_X, obs_key_Y, celltype_key='cell_type', radius=40, min_dist_thresh=15):\n",
    "    X = A[A.obs[celltype_key] == cell_type_X]\n",
    "    Y = A[A.obs[celltype_key] == cell_type_Y]\n",
    "    obs_X = X.obs[obs_key_X]\n",
    "    obs_Y = Y.obs[obs_key_Y]\n",
    "    curr_X = X.obsm['spatial']\n",
    "    curr_Y = Y.obsm['spatial']\n",
    "    neighbors_X, ind_X = identify_nearest_neighbors_with_idx(curr_X, curr_Y, dist_thresh=radius, min_dist_thresh=min_dist_thresh)\n",
    "    curr_expr = obs_Y[neighbors_X]\n",
    "    return obs_X.values[ind_X], curr_expr.values\n",
    "\n",
    "def compute_binned_values(dists, scores, min_d=0, max_d=100, bin_size=30):\n",
    "    binned_mean = np.zeros(max_d-min_d-bin_size)\n",
    "    binned_std = np.zeros(max_d-min_d-bin_size)\n",
    "    for i in np.arange(min_d, max_d-bin_size):\n",
    "        # find distances in this bin range\n",
    "        idx = np.argwhere(np.logical_and(dists>i, dists<=(i+bin_size)))\n",
    "        curr_scores = scores[idx]\n",
    "        binned_mean[i] = np.mean(curr_scores)#/len(idx)\n",
    "        binned_std[i] = np.std(curr_scores)/np.sqrt(len(curr_scores))#/len(idx)\n",
    "    binned_mean -= binned_mean.mean()\n",
    "    binned_std -= binned_mean.mean()\n",
    "    return binned_mean, binned_std"
   ]
  },
  {
   "cell_type": "code",
   "execution_count": null,
   "metadata": {},
   "outputs": [],
   "source": [
    "plt.figure(figsize=(3,3))\n",
    "celltypes = [\"Peri\",\"Endo\",\"Vlmc\", \"Olig\", \"Epen\"]\n",
    "\n",
    "for i in celltypes:\n",
    "    scores, dists = compute_celltype_obs_distance_correlation(adata[np.logical_and(adata.obs.age=='4wk',adata.obs.cond=='lps')], \"Astro\", i, \"activate_astro\",celltype_key='cell_type_preds')\n",
    "    binned_mean, binned_std = compute_binned_values(dists, scores)\n",
    "    x = np.arange(len(binned_mean))+30\n",
    "    plt.plot(x,binned_mean,color=celltype_colors[i])\n",
    "    plt.fill_between(x,binned_mean-binned_std, binned_mean+binned_std,alpha=0.1,color=celltype_colors[i])\n",
    "\n",
    "plt.legend( celltypes)\n",
    "plt.ylim([-0.05, 0.3])\n",
    "sns.despine()\n",
    "#plt.savefig(\"/home/user/Dropbox/zhuang_lab/aging/aging_atlas_paper/figures_int/fig4_distance_astro_activation_lps.pdf\",bbox_inches='tight')"
   ]
  },
  {
   "cell_type": "code",
   "execution_count": null,
   "metadata": {},
   "outputs": [],
   "source": [
    "plt.figure(figsize=(3,3))\n",
    "celltypes = [\"Peri\",\"Endo\",\"Vlmc\", \"Olig\", \"Epen\"]\n",
    "\n",
    "for i in celltypes:\n",
    "    scores, dists = compute_celltype_obs_distance_correlation(adata[np.logical_and(adata.obs.age=='4wk',adata.obs.cond=='lps')], \"Astro\", i, \"activate_astro\",celltype_key='cell_type_preds')\n",
    "    binned_mean, binned_std = compute_binned_values(dists, scores)\n",
    "    x = np.arange(len(binned_mean))+30\n",
    "    plt.plot(x,binned_mean,color=celltype_colors[i])\n",
    "    plt.fill_between(x,binned_mean-binned_std, binned_mean+binned_std,alpha=0.1,color=celltype_colors[i])\n",
    "\n",
    "plt.legend( celltypes)\n",
    "plt.ylim([-0.05, 0.3])\n",
    "sns.despine()\n",
    "plt.savefig(\"/home/user/Dropbox/zhuang_lab/aging/aging_atlas_paper/figures_int/fig4_distance_astro_activation_lps.pdf\",bbox_inches='tight')"
   ]
  },
  {
   "cell_type": "code",
   "execution_count": null,
   "metadata": {},
   "outputs": [],
   "source": [
    "plt.figure(figsize=(3,3))\n",
    "celltypes = [\"Peri\",\"Endo\",\"Vlmc\", \"Olig\", \"Epen\"]\n",
    "\n",
    "for i in celltypes:\n",
    "    scores, dists = compute_celltype_obs_distance_correlation(adata[np.logical_and(adata.obs.age=='4wk',adata.obs.cond=='ctrl')], \"Astro\", i, \"activate_astro\",celltype_key='cell_type_preds')\n",
    "    binned_mean, binned_std = compute_binned_values(dists, scores)\n",
    "    x = np.arange(len(binned_mean))+30\n",
    "    plt.plot(x,binned_mean,color=celltype_colors[i])\n",
    "    plt.fill_between(x,binned_mean-binned_std, binned_mean+binned_std,alpha=0.1,color=celltype_colors[i])\n",
    "\n",
    "plt.legend( celltypes)\n",
    "plt.ylim([-0.05, 0.3])\n",
    "sns.despine()\n",
    "plt.savefig(\"/home/user/Dropbox/zhuang_lab/aging/aging_atlas_paper/figures_int/fig4_distance_astro_activation_ctrl.pdf\",bbox_inches='tight')"
   ]
  },
  {
   "cell_type": "code",
   "execution_count": null,
   "metadata": {},
   "outputs": [],
   "source": [
    "plt.figure(figsize=(3,3))\n",
    "celltypes = [\"Peri\",\"Endo\",\"Vlmc\", \"Olig\", \"Epen\"]\n",
    "\n",
    "for i in celltypes:\n",
    "    scores, dists = compute_celltype_obs_distance_correlation(adata[np.logical_and(adata.obs.age=='4wk',adata.obs.cond=='lps')], \"Micro\", i, \"activate_micro\",celltype_key='cell_type_preds')\n",
    "    binned_mean, binned_std = compute_binned_values(dists, scores)\n",
    "    x = np.arange(len(binned_mean))+30\n",
    "    plt.plot(x,binned_mean,color=celltype_colors[i])\n",
    "    plt.fill_between(x,binned_mean-binned_std, binned_mean+binned_std,alpha=0.1,color=celltype_colors[i])\n",
    "\n",
    "plt.legend( celltypes)\n",
    "plt.ylim([-0.05, 0.1])\n",
    "sns.despine()\n",
    "plt.savefig(\"/home/user/Dropbox/zhuang_lab/aging/aging_atlas_paper/figures_int/fig4_distance_micro_activation_lps.pdf\",bbox_inches='tight')"
   ]
  },
  {
   "cell_type": "code",
   "execution_count": null,
   "metadata": {},
   "outputs": [],
   "source": [
    "plt.figure(figsize=(3,3))\n",
    "celltypes = [\"Peri\",\"Endo\",\"Vlmc\", \"Olig\", \"Epen\"]\n",
    "\n",
    "for i in celltypes:\n",
    "    scores, dists = compute_celltype_obs_distance_correlation(adata[np.logical_and(adata.obs.age=='4wk',adata.obs.cond=='ctrl')], \"Micro\", i, \"activate_micro\",celltype_key='cell_type_preds')\n",
    "    binned_mean, binned_std = compute_binned_values(dists, scores)\n",
    "    x = np.arange(len(binned_mean))+30\n",
    "    plt.plot(x,binned_mean,color=celltype_colors[i])\n",
    "    plt.fill_between(x,binned_mean-binned_std, binned_mean+binned_std,alpha=0.1,color=celltype_colors[i])\n",
    "\n",
    "plt.legend( celltypes)\n",
    "plt.ylim([-0.05, 0.1])\n",
    "sns.despine()\n",
    "plt.savefig(\"/home/user/Dropbox/zhuang_lab/aging/aging_atlas_paper/figures_int/fig4_distance_micro_activation_ctrl.pdf\",bbox_inches='tight')"
   ]
  },
  {
   "cell_type": "code",
   "execution_count": null,
   "metadata": {},
   "outputs": [],
   "source": [
    "plt.figure(figsize=(3,3))\n",
    "celltypes = [\"Peri\",\"Endo\",\"Vlmc\", \"Olig\", \"Epen\"]\n",
    "\n",
    "for i in celltypes:\n",
    "    scores, dists = compute_celltype_obs_distance_correlation(adata[np.logical_and(adata.obs.age=='90wk',adata.obs.cond=='ctrl')], \"Astro\", i, \"activate_astro\",celltype_key='cell_type_preds')\n",
    "    binned_mean, binned_std = compute_binned_values(dists, scores)\n",
    "    x = np.arange(len(binned_mean))+30\n",
    "    plt.plot(x,binned_mean,color=celltype_colors[i])\n",
    "    plt.fill_between(x,binned_mean-binned_std, binned_mean+binned_std,alpha=0.1,color=celltype_colors[i])\n",
    "\n",
    "plt.legend( celltypes)\n",
    "plt.ylim([-0.05, 0.3])\n",
    "sns.despine()\n",
    "plt.savefig(\"/home/user/Dropbox/zhuang_lab/aging/aging_atlas_paper/figures_int/fig4_distance_astro_activation_ctrl_old.pdf\",bbox_inches='tight')"
   ]
  },
  {
   "cell_type": "code",
   "execution_count": null,
   "metadata": {},
   "outputs": [],
   "source": [
    "plt.figure(figsize=(3,3))\n",
    "celltypes = [\"Peri\",\"Endo\",\"Vlmc\", \"Olig\", \"Epen\"]\n",
    "\n",
    "for i in celltypes:\n",
    "    scores, dists = compute_celltype_obs_distance_correlation(adata[np.logical_and(adata.obs.age=='90wk',adata.obs.cond=='lps')], \"Astro\", i, \"activate_astro\",celltype_key='cell_type_preds')\n",
    "    binned_mean, binned_std = compute_binned_values(dists, scores)\n",
    "    x = np.arange(len(binned_mean))+30\n",
    "    plt.plot(x,binned_mean,color=celltype_colors[i])\n",
    "    plt.fill_between(x,binned_mean-binned_std, binned_mean+binned_std,alpha=0.1,color=celltype_colors[i])\n",
    "\n",
    "plt.legend( celltypes)\n",
    "plt.ylim([-0.05, 0.3])\n",
    "sns.despine()\n",
    "plt.savefig(\"/home/user/Dropbox/zhuang_lab/aging/aging_atlas_paper/figures_int/fig4_distance_astro_activation_lps_old.pdf\",bbox_inches='tight')"
   ]
  },
  {
   "cell_type": "code",
   "execution_count": null,
   "metadata": {},
   "outputs": [],
   "source": [
    "plt.figure(figsize=(3,3))\n",
    "celltypes = [\"Peri\",\"Endo\",\"Vlmc\", \"Olig\", \"Epen\"]\n",
    "\n",
    "for i in celltypes:\n",
    "    scores, dists = compute_celltype_obs_distance_correlation(adata[np.logical_and(adata.obs.age=='90wk',adata.obs.cond=='ctrl')], \"Micro\", i, \"activate_micro\",celltype_key='cell_type_preds')\n",
    "    binned_mean, binned_std = compute_binned_values(dists, scores)\n",
    "    x = np.arange(len(binned_mean))+30\n",
    "    plt.plot(x,binned_mean,color=celltype_colors[i])\n",
    "    plt.fill_between(x,binned_mean-binned_std, binned_mean+binned_std,alpha=0.1,color=celltype_colors[i])\n",
    "\n",
    "plt.legend( celltypes)\n",
    "plt.ylim([-0.05, 0.1])\n",
    "sns.despine()\n",
    "plt.savefig(\"/home/user/Dropbox/zhuang_lab/aging/aging_atlas_paper/figures_int/fig4_distance_micro_activation_ctrl_old.pdf\",bbox_inches='tight')"
   ]
  },
  {
   "cell_type": "code",
   "execution_count": null,
   "metadata": {},
   "outputs": [],
   "source": [
    "plt.figure(figsize=(3,3))\n",
    "celltypes = [\"Peri\",\"Endo\",\"Vlmc\", \"Olig\", \"Epen\"]\n",
    "\n",
    "for i in celltypes:\n",
    "    scores, dists = compute_celltype_obs_distance_correlation(adata[np.logical_and(adata.obs.age=='90wk',adata.obs.cond=='lps')], \"Micro\", i, \"activate_micro\",celltype_key='cell_type_preds')\n",
    "    binned_mean, binned_std = compute_binned_values(dists, scores)\n",
    "    x = np.arange(len(binned_mean))+30\n",
    "    plt.plot(x,binned_mean,color=celltype_colors[i])\n",
    "    plt.fill_between(x,binned_mean-binned_std, binned_mean+binned_std,alpha=0.1,color=celltype_colors[i])\n",
    "\n",
    "plt.legend( celltypes)\n",
    "plt.ylim([-0.05, 0.1])\n",
    "sns.despine()\n",
    "plt.savefig(\"/home/user/Dropbox/zhuang_lab/aging/aging_atlas_paper/figures_int/fig4_distance_micro_activation_lps_old.pdf\",bbox_inches='tight')"
   ]
  },
  {
   "cell_type": "code",
   "execution_count": null,
   "metadata": {},
   "outputs": [],
   "source": [
    "cc_lps = np.zeros((4,4))\n",
    "for n1,i in enumerate(['Astro','Micro','Olig', 'Endo']):\n",
    "    for n2,j in enumerate(['Astro','Micro','Olig', 'Endo']):\n",
    "        x,y = compute_celltype_obs_correlation(adata[adata.obs.cond=='lps'],  i,j, f\"activate_{i.lower()}\",f\"activate_{j.lower()}\",  celltype_key='cell_type_preds', radius=40)\n",
    "        cc_lps[n1,n2] = np.corrcoef(x,y)[0,1]\n",
    "        print(i,j,cc_lps[n1,n2])"
   ]
  },
  {
   "cell_type": "code",
   "execution_count": null,
   "metadata": {},
   "outputs": [],
   "source": [
    "cc_age = np.zeros((4,4))\n",
    "for n1,i in enumerate(['Astro','Micro','Olig', 'Endo']):\n",
    "    for n2,j in enumerate(['Astro','Micro','Olig', 'Endo']):\n",
    "        x,y = compute_celltype_obs_correlation(adata[adata.obs.cond=='ctrl'],  i,j, f\"activate_{i.lower()}\",f\"activate_{j.lower()}\",  celltype_key='cell_type_preds', radius=40)\n",
    "        cc_age[n1,n2] = np.corrcoef(x,y)[0,1]\n",
    "        print(i,j,cc_age[n1,n2])"
   ]
  },
  {
   "cell_type": "code",
   "execution_count": null,
   "metadata": {},
   "outputs": [],
   "source": [
    "plt.imshow(cc_age,cmap=plt.cm.viridis,vmin=0,vmax=1)"
   ]
  },
  {
   "cell_type": "code",
   "execution_count": null,
   "metadata": {},
   "outputs": [],
   "source": [
    "x,y = compute_celltype_obs_correlation(adata[adata.obs.age=='4wk'],  \"Endo\",\"Micro\", f\"activate_endo\",f\"activate_micro\",  celltype_key='cell_type_preds', radius=40)\n",
    "plt.figure(figsize=(5,5))\n",
    "#plt.scatter(x,y,s=1)\n",
    "plt.title(f\"Endo -> Micro (R={np.corrcoef(x,y)[0,1]})\")\n",
    "#plt.hist2d(x,y,cmap=plt.cm.viridis,bins=25);\n",
    "sns.kdeplot(x=x,y=y,fill=True)\n",
    "sns.despine()\n",
    "#plt.xlim([0,5])\n",
    "plt.savefig(\"/home/user/Dropbox/zhuang_lab/aging/aging_atlas_paper/figures_int/fig4_active_endo_micro_corr_age.pdf\",bbox_inches='tight',dpi=300)"
   ]
  },
  {
   "cell_type": "code",
   "execution_count": null,
   "metadata": {},
   "outputs": [],
   "source": [
    "x,y = compute_celltype_obs_correlation(adata[np.logical_and(adata.obs.cond=='lps',adata.obs.age=='4wk')],  \"Olig\",\"Micro\", f\"activate_olig\",f\"activate_micro\",  celltype_key='cell_type_preds', radius=40)\n",
    "plt.figure(figsize=(5,5))\n",
    "#plt.scatter(x,y,s=1)\n",
    "plt.title(f\"Olig -> Micro (R={np.corrcoef(x,y)[0,1]})\")\n",
    "#plt.hist2d(x,y,cmap=plt.cm.viridis,bins=25);\n",
    "sns.kdeplot(x=x,y=y,fill=True)\n",
    "sns.despine()\n",
    "#plt.xlim([0,5])\n",
    "plt.savefig(\"/home/user/Dropbox/zhuang_lab/aging/aging_atlas_paper/figures_int/fig4_active_olig_micro_corr_young.pdf\",bbox_inches='tight',dpi=300)"
   ]
  },
  {
   "cell_type": "code",
   "execution_count": null,
   "metadata": {},
   "outputs": [],
   "source": [
    "x,y = compute_celltype_obs_correlation(adata[np.logical_and(adata.obs.cond=='lps',adata.obs.age=='4wk')],  \"Olig\",\"Astro\", f\"activate_olig\",f\"activate_astro\",  celltype_key='cell_type_preds', radius=40)\n",
    "plt.figure(figsize=(5,5))\n",
    "#plt.scatter(x,y,s=1)\n",
    "plt.title(f\"Olig -> Astro (R={np.corrcoef(x,y)[0,1]})\")\n",
    "#plt.hist2d(x,y,cmap=plt.cm.viridis,bins=25);\n",
    "sns.kdeplot(x=x,y=y,fill=True)\n",
    "sns.despine()\n",
    "#plt.xlim([0,5])\n",
    "plt.savefig(\"/home/user/Dropbox/zhuang_lab/aging/aging_atlas_paper/figures_int/fig4_active_olig_astro_corr_young.pdf\",bbox_inches='tight',dpi=300)"
   ]
  },
  {
   "cell_type": "code",
   "execution_count": null,
   "metadata": {},
   "outputs": [],
   "source": [
    "x,y = compute_celltype_obs_correlation(adata[np.logical_and(adata.obs.cond=='lps',adata.obs.age=='4wk')],  \"Micro\",\"Astro\", f\"activate_micro\",f\"activate_astro\",  celltype_key='cell_type_preds', radius=50)\n",
    "plt.figure(figsize=(5,5))\n",
    "#plt.scatter(x,y,s=1)\n",
    "plt.title(f\"Micro -> Astro (R={np.corrcoef(x,y)[0,1]})\")\n",
    "#plt.hist2d(x,y,cmap=plt.cm.viridis,bins=25);\n",
    "sns.kdeplot(x=x,y=y,fill=True)\n",
    "sns.despine()\n",
    "#plt.xlim([0,5])\n",
    "plt.savefig(\"/home/user/Dropbox/zhuang_lab/aging/aging_atlas_paper/figures_int/fig4_active_micro_astro_corr_young_lps.pdf\",bbox_inches='tight',dpi=300)"
   ]
  },
  {
   "cell_type": "code",
   "execution_count": null,
   "metadata": {},
   "outputs": [],
   "source": [
    "x,y = compute_celltype_obs_correlation(adata[np.logical_and(adata.obs.cond=='ctrl',adata.obs.age=='4wk')],  \"Micro\",\"Astro\", f\"activate_micro\",f\"activate_astro\",  celltype_key='cell_type_preds', radius=50)\n",
    "plt.figure(figsize=(5,5))\n",
    "#plt.scatter(x,y,s=1)\n",
    "plt.title(f\"Micro -> Astro (R={np.corrcoef(x,y)[0,1]})\")\n",
    "#plt.hist2d(x,y,cmap=plt.cm.viridis,bins=25);\n",
    "sns.kdeplot(x=x,y=y,fill=True)\n",
    "sns.despine()\n",
    "#plt.xlim([0,5])\n",
    "plt.savefig(\"/home/user/Dropbox/zhuang_lab/aging/aging_atlas_paper/figures_int/fig4_active_micro_astro_corr_young_ctrl.pdf\",bbox_inches='tight',dpi=300)"
   ]
  },
  {
   "cell_type": "code",
   "execution_count": null,
   "metadata": {},
   "outputs": [],
   "source": [
    "x,y = compute_celltype_obs_correlation(adata[np.logical_and(adata.obs.cond=='ctrl',adata.obs.age=='90wk')],  \"Endo\",\"Astro\", f\"activate_endo\",f\"activate_astro\",  celltype_key='cell_type_preds', radius=40)\n",
    "plt.figure(figsize=(5,5))\n",
    "#plt.scatter(x,y,s=1)\n",
    "plt.title(f\"Endo -> Micro (R={np.corrcoef(x,y)[0,1]})\")\n",
    "#plt.hist2d(x,y,cmap=plt.cm.viridis,bins=25);\n",
    "sns.kdeplot(x=x,y=y,fill=True)\n",
    "sns.despine()\n",
    "#plt.xlim([0,5])\n",
    "plt.savefig(\"/home/user/Dropbox/zhuang_lab/aging/aging_atlas_paper/figures_int/fig4_active_endo_astro_corr_young.pdf\",bbox_inches='tight',dpi=300)"
   ]
  },
  {
   "cell_type": "code",
   "execution_count": null,
   "metadata": {},
   "outputs": [],
   "source": [
    "x,y = compute_celltype_obs_correlation(adata[np.logical_and(adata.obs.cond=='lps',adata.obs.age=='90wk')],  \"Endo\",\"Astro\", f\"activate_endo\",f\"activate_astro\",  celltype_key='cell_type_preds', radius=40)\n",
    "plt.figure(figsize=(5,5))\n",
    "#plt.scatter(x,y,s=1)\n",
    "plt.title(f\"Endo -> Micro (R={np.corrcoef(x,y)[0,1]})\")\n",
    "#plt.hist2d(x,y,cmap=plt.cm.viridis,bins=25);\n",
    "sns.kdeplot(x=x,y=y,fill=True)\n",
    "sns.despine()\n",
    "#plt.xlim([0,5])\n",
    "plt.savefig(\"/home/user/Dropbox/zhuang_lab/aging/aging_atlas_paper/figures_int/fig4_active_endo_astro_corr_young.pdf\",bbox_inches='tight',dpi=300)"
   ]
  },
  {
   "cell_type": "code",
   "execution_count": null,
   "metadata": {},
   "outputs": [],
   "source": [
    "# look at correlation between Il33 and Activated Micro/Astro\n",
    "x,y = compute_celltype_obs_correlation(adata[np.logical_and(adata.obs.cond=='lps',adata.obs.age=='4wk')],  \"Endo\",\"Micro\", f\"activate_endo\",f\"activate_micro\",  celltype_key='cell_type_preds', radius=40)\n",
    "plt.figure(figsize=(5,5))\n",
    "#plt.scatter(x,y,s=1)\n",
    "plt.title(f\"Endo -> Micro (R={np.corrcoef(x,y)[0,1]})\")\n",
    "#plt.hist2d(x,y,cmap=plt.cm.viridis,bins=25);\n",
    "sns.kdeplot(x=x,y=y,fill=True)\n",
    "sns.despine()\n",
    "#plt.xlim([0,5])\n",
    "plt.savefig(\"/home/user/Dropbox/zhuang_lab/aging/aging_atlas_paper/figures_int/fig4_active_endo_micro_corr_young.pdf\",bbox_inches='tight',dpi=300)"
   ]
  },
  {
   "cell_type": "code",
   "execution_count": null,
   "metadata": {},
   "outputs": [],
   "source": [
    "# look at correlation between Il33 and Activated Micro/Astro\n",
    "x,y = compute_celltype_obs_correlation(adata_lps[adata_lps.obs.age=='4wk'],  \"Endo\",\"Micro\", f\"activate_endo\",f\"activate_micro\",  celltype_key='cell_type_preds', radius=40)\n",
    "plt.figure(figsize=(5,5))\n",
    "#plt.scatter(x,y,s=1)\n",
    "plt.title(f\"Endo -> Micro (R={np.corrcoef(x,y)[0,1]})\")\n",
    "#plt.hist2d(x,y,cmap=plt.cm.viridis,bins=25);\n",
    "sns.kdeplot(x=x,y=y,fill=True)\n",
    "sns.despine()\n",
    "#plt.xlim([0,5])\n",
    "plt.savefig(\"/home/user/Dropbox/zhuang_lab/aging/aging_atlas_paper/figures_int/fig4_active_endo_micro_corr_young.pdf\",bbox_inches='tight',dpi=300)"
   ]
  },
  {
   "cell_type": "markdown",
   "metadata": {},
   "source": [
    "# Map spatial interactions"
   ]
  },
  {
   "cell_type": "code",
   "execution_count": null,
   "metadata": {},
   "outputs": [],
   "source": [
    "celltypes = [\n",
    "    'InN',\n",
    " 'ExN',\n",
    " 'MSN',\n",
    " 'Astro',\n",
    " 'OPC',\n",
    " 'Olig',\n",
    " 'Endo',\n",
    " 'Vlmc',\n",
    " 'Peri',\n",
    " 'Macro',\n",
    " 'Micro',\n",
    "]\n",
    "\n",
    "niter = 1000\n",
    "perturb_max = 100\n",
    "dist_thresh = 20"
   ]
  },
  {
   "cell_type": "code",
   "execution_count": null,
   "metadata": {
    "scrolled": true
   },
   "outputs": [],
   "source": [
    "ctrl_interactions_clust, ctrl_pvals_clust, ctrl_qvals_clust = compute_celltype_interactions(adata_ctl[adata_ctl.obs.age=='4wk'], \n",
    "                                                                'cell_type_preds', celltypes,niter=niter,dist_thresh=dist_thresh,perturb_max=perturb_max)\n",
    "\n",
    "lps_interactions_clust, lps_pvals_clust, lps_qvals_clust = compute_celltype_interactions(adata_lps[adata_lps.obs.age=='4wk'], \n",
    "                                                                'cell_type_preds', celltypes,niter=niter,dist_thresh=dist_thresh,perturb_max=perturb_max)\n"
   ]
  },
  {
   "cell_type": "code",
   "execution_count": null,
   "metadata": {},
   "outputs": [],
   "source": [
    "from statsmodels.stats.multitest import multipletests\n",
    "def fdr_correct(X):\n",
    "    new_X = np.zeros_like(X)\n",
    "    for i in range(X.shape[0]):\n",
    "        pvals = multipletests(X[i,:],method='fdr_bh')[1]\n",
    "        new_X[i,:] = multipletests(X[i,:],method='fdr_bh')[1]\n",
    "        new_X[:,i] = new_X[i,:]\n",
    "    #X = multipletests(X.flatten(), method='fdr_bh')[1]\n",
    "    return new_X#X.reshape(X_shape)"
   ]
  },
  {
   "cell_type": "code",
   "execution_count": null,
   "metadata": {},
   "outputs": [],
   "source": [
    "ctrl_qvals_clust = fdr_correct(ctrl_pvals_clust.copy())\n",
    "lps_qvals_clust = fdr_correct(lps_pvals_clust.copy())\n"
   ]
  },
  {
   "cell_type": "code",
   "execution_count": null,
   "metadata": {},
   "outputs": [],
   "source": [
    "ctrl_qvals_clust[np.isnan(ctrl_qvals_clust)] = 0\n",
    "lps_qvals_clust[np.isnan(lps_qvals_clust)] = 0"
   ]
  },
  {
   "cell_type": "code",
   "execution_count": null,
   "metadata": {},
   "outputs": [],
   "source": [
    "ctrl_interactions_clust[np.isinf(ctrl_interactions_clust)] = 5"
   ]
  },
  {
   "cell_type": "code",
   "execution_count": null,
   "metadata": {},
   "outputs": [],
   "source": [
    "f = plot_interactions(ctrl_qvals_clust, ctrl_interactions_clust, celltypes,celltype_colors,cmap=plt.cm.seismic,vmax=5, vmin=-5)\n",
    "f.savefig(\"/home/user/Dropbox/zhuang_lab/aging/aging_atlas_paper/figures_int/fig4_ctrl_cell_contact_diff.pdf\",bbox_inches='tight', dpi=200)"
   ]
  },
  {
   "cell_type": "code",
   "execution_count": null,
   "metadata": {},
   "outputs": [],
   "source": [
    "f = plot_interactions(lps_qvals_clust, lps_interactions_clust, celltypes,celltype_colors,cmap=plt.cm.seismic,vmax=5, vmin=-5)\n",
    "f.savefig(\"/home/user/Dropbox/zhuang_lab/aging/aging_atlas_paper/figures_int/fig4_lps_cell_contact_diff.pdf\",bbox_inches='tight', dpi=200)"
   ]
  },
  {
   "cell_type": "code",
   "execution_count": null,
   "metadata": {},
   "outputs": [],
   "source": [
    "diff = lps_interactions_clust-ctrl_interactions_clust\n",
    "diff[np.isnan(diff)] = 0\n",
    "for i in range(diff.shape[0]):\n",
    "    for j in range(diff.shape[1]):\n",
    "        if ctrl_qvals_clust[i,j] < 0.1 or lps_pvals_clust[i,j] < 0.1:\n",
    "            pass\n",
    "        else:\n",
    "            diff[i,j] = 0\n",
    "diff_qvals = np.zeros_like(lps_qvals_clust)\n",
    "for i in range(lps_qvals_clust.shape[0]):\n",
    "    for j in range(lps_qvals_clust.shape[0]):\n",
    "        if ctrl_qvals_clust[i,j] < 0.1 or lps_qvals_clust[i,j] < 0.1:\n",
    "            if diff[i,j] > np.log2(1.2) and (lps_interactions_clust[i,j] > 0 or ctrl_interactions_clust[i,j] > 0):\n",
    "                diff_qvals[i,j] = 0\n",
    "            else:\n",
    "                diff_qvals[i,j] = 1\n",
    "        else:\n",
    "            diff_qvals[i,j] = 1"
   ]
  },
  {
   "cell_type": "code",
   "execution_count": null,
   "metadata": {},
   "outputs": [],
   "source": [
    "f = plot_interactions(diff_qvals, diff, celltypes,celltype_colors,cmap=plt.cm.Reds,vmax=1.5, vmin=0)\n",
    "f.savefig(\"/home/user/Dropbox/zhuang_lab/aging/aging_atlas_paper/figures_int/fig4_lps_ctrl_cell_contact_diff.pdf\",bbox_inches='tight', dpi=200)"
   ]
  },
  {
   "cell_type": "code",
   "execution_count": null,
   "metadata": {},
   "outputs": [],
   "source": [
    "# do same comparison but with 90 wk\n",
    "ctrl_interactions_clust, ctrl_pvals_clust, ctrl_qvals_clust = compute_celltype_interactions(adata_ctl[adata_ctl.obs.age=='90wk'], \n",
    "                                                                'cell_type_preds', celltypes,niter=niter,dist_thresh=dist_thresh,perturb_max=perturb_max)\n",
    "\n",
    "lps_interactions_clust, lps_pvals_clust, lps_qvals_clust = compute_celltype_interactions(adata_lps[adata_lps.obs.age=='90wk'], \n",
    "                                                                'cell_type_preds', celltypes,niter=niter,dist_thresh=dist_thresh,perturb_max=perturb_max)\n",
    "diff = lps_interactions_clust-ctrl_interactions_clust\n",
    "diff[np.isnan(diff)] = 0\n",
    "for i in range(diff.shape[0]):\n",
    "    for j in range(diff.shape[1]):\n",
    "        if ctrl_qvals_clust[i,j] < 0.1 or lps_pvals_clust[i,j] < 0.1:\n",
    "            pass\n",
    "        else:\n",
    "            diff[i,j] = 0\n",
    "diff_qvals = np.zeros_like(lps_qvals_clust)\n",
    "for i in range(lps_qvals_clust.shape[0]):\n",
    "    for j in range(lps_qvals_clust.shape[0]):\n",
    "        if ctrl_qvals_clust[i,j] < 0.1 or lps_qvals_clust[i,j] < 0.1:\n",
    "            if diff[i,j] > np.log2(1.2) and (lps_interactions_clust[i,j] > 0 or ctrl_interactions_clust[i,j] > 0):\n",
    "                diff_qvals[i,j] = 0\n",
    "            else:\n",
    "                diff_qvals[i,j] = 1\n",
    "        else:\n",
    "            diff_qvals[i,j] = 1"
   ]
  },
  {
   "cell_type": "code",
   "execution_count": null,
   "metadata": {},
   "outputs": [],
   "source": [
    "f = plot_interactions(diff_qvals, diff, celltypes,celltype_colors,cmap=plt.cm.Reds,vmax=1.5, vmin=0)\n"
   ]
  },
  {
   "cell_type": "code",
   "execution_count": null,
   "metadata": {},
   "outputs": [],
   "source": [
    "# do same comparison but with 90 wk\n",
    "ctrl_interactions_clust, ctrl_pvals_clust, ctrl_qvals_clust = compute_celltype_interactions(adata_lps[adata_lps.obs.age=='4wk'], \n",
    "                                                                'cell_type_preds', celltypes,niter=niter,dist_thresh=dist_thresh,perturb_max=perturb_max)\n",
    "\n",
    "lps_interactions_clust, lps_pvals_clust, lps_qvals_clust = compute_celltype_interactions(adata_lps[adata_lps.obs.age=='90wk'], \n",
    "                                                                'cell_type_preds', celltypes,niter=niter,dist_thresh=dist_thresh,perturb_max=perturb_max)\n",
    "diff = lps_interactions_clust-ctrl_interactions_clust\n",
    "diff[np.isnan(diff)] = 0\n",
    "for i in range(diff.shape[0]):\n",
    "    for j in range(diff.shape[1]):\n",
    "        if ctrl_qvals_clust[i,j] < 0.1 or lps_pvals_clust[i,j] < 0.1:\n",
    "            pass\n",
    "        else:\n",
    "            diff[i,j] = 0\n",
    "diff_qvals = np.zeros_like(lps_qvals_clust)\n",
    "for i in range(lps_qvals_clust.shape[0]):\n",
    "    for j in range(lps_qvals_clust.shape[0]):\n",
    "        if ctrl_qvals_clust[i,j] < 0.1 or lps_qvals_clust[i,j] < 0.1:\n",
    "            if diff[i,j] > np.log2(1.2) and (lps_interactions_clust[i,j] > 0 or ctrl_interactions_clust[i,j] > 0):\n",
    "                diff_qvals[i,j] = 0\n",
    "            else:\n",
    "                diff_qvals[i,j] = 1\n",
    "        else:\n",
    "            diff_qvals[i,j] = 1\n",
    "f = plot_interactions(diff_qvals, diff, celltypes,celltype_colors,cmap=plt.cm.Reds,vmax=1.5, vmin=0)\n"
   ]
  },
  {
   "cell_type": "code",
   "execution_count": null,
   "metadata": {},
   "outputs": [],
   "source": [
    "def identify_nearest_neighbors_with_idx(X,Y,dist_thresh, min_dist_thresh=15):\n",
    "    if X.shape[0] > 0 and Y.shape[0] > 0:\n",
    "        kdtree = KDTree(Y)\n",
    "        ind, dists = kdtree.query_radius(X, r=dist_thresh, count_only=False,return_distance=True)\n",
    "        ind_X = np.hstack([[i]*len(ind[i]) for i in np.arange(len(ind)) if len(ind[i])>0])\n",
    "        \n",
    "        ind = np.hstack(ind)\n",
    "        dists = np.hstack(dists)\n",
    "        if len(ind) > 0:\n",
    "            ind = ind[dists>min_dist_thresh]      \n",
    "            ind_X = ind_X[dists>min_dist_thresh]\n",
    "        return ind.astype(np.int), ind_X.astype(np.int)\n",
    "    else:\n",
    "        return np.array([])\n",
    "\n",
    "\n",
    "def compute_celltype_obs_correlation(A,cell_type_X, cell_type_Y, obs_key_X, obs_key_Y, celltype_key='cell_type', radius=40, min_dist_thresh=15):\n",
    "    X = A[A.obs[celltype_key] == cell_type_X]\n",
    "    Y = A[A.obs[celltype_key] == cell_type_Y]\n",
    "    obs_X = X.obs[obs_key_X]\n",
    "    obs_Y = Y.obs[obs_key_Y]\n",
    "    curr_X = X.obsm['spatial']\n",
    "    curr_Y = Y.obsm['spatial']\n",
    "    neighbors_X, ind_X = identify_nearest_neighbors_with_idx(curr_X, curr_Y, dist_thresh=radius, min_dist_thresh=min_dist_thresh)\n",
    "    curr_expr = obs_Y[neighbors_X]\n",
    "    return obs_X.values[ind_X], curr_expr.values"
   ]
  },
  {
   "cell_type": "code",
   "execution_count": null,
   "metadata": {},
   "outputs": [],
   "source": [
    "import pandas as pd\n",
    "plt.figure(figsize=(5,5))\n",
    "x,y = compute_celltype_obs_correlation(adata_lps[adata_lps.obs.age=='90wk'], 'Astro', 'Micro', 'activate_astro', 'activate_micro', radius=40,celltype_key='cell_type_preds')\n",
    "plt.scatter(x,y,s=1,c='k')\n",
    "print(np.corrcoef(x,y))\n",
    "#plt.xlim([-0.5, 2])\n",
    "#plt.ylim([-0.5, 1.5])\n",
    "sns.despine()"
   ]
  }
 ],
 "metadata": {
  "kernelspec": {
   "display_name": "Python 3.8.1 64-bit ('scrnaseq': conda)",
   "language": "python",
   "name": "python38164bitscrnaseqcondaced2695c94d346d998c0cef2164233d9"
  },
  "language_info": {
   "codemirror_mode": {
    "name": "ipython",
    "version": 3
   },
   "file_extension": ".py",
   "mimetype": "text/x-python",
   "name": "python",
   "nbconvert_exporter": "python",
   "pygments_lexer": "ipython3",
   "version": "3.8.1"
  }
 },
 "nbformat": 4,
 "nbformat_minor": 4
}
