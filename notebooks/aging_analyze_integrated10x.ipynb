{
 "cells": [
  {
   "cell_type": "code",
   "execution_count": null,
   "metadata": {},
   "outputs": [],
   "source": [
    "%load_ext autoreload\n",
    "%autoreload 2\n",
    "import scanpy as sc\n",
    "import matplotlib.pyplot as plt\n",
    "import numpy as np\n",
    "import matplotlib as mpl\n",
    "import os\n",
    "import anndata as ad\n",
    "mpl.rcParams['figure.dpi'] = 150\n",
    "plt.rcParams['pdf.fonttype'] = 42\n",
    "\n",
    "import pandas as pd\n",
    "import sys\n",
    "from spatial_analysis import *\n",
    "from plotting import *"
   ]
  },
  {
   "cell_type": "code",
   "execution_count": null,
   "metadata": {},
   "outputs": [],
   "source": [
    "adata = ad.read_h5ad(\"/faststorage/brain_aging/merfish/exported/011722_adata_combined_harmony.h5ad\")\n",
    "adata_merfish_raw = ad.read_h5ad(\"/faststorage/brain_aging/merfish/exported/011722_merged_combined_merfish_with_doublet_umap_allages.h5ad\")\n",
    "adata = adata.raw.to_adata()\n",
    "\n",
    "adata_merfish_scaled = adata[adata.obs.dtype==\"merfish\"]\n",
    "\n",
    "adata_merfish = adata[adata.obs.dtype==\"merfish\"]\n",
    "adata_merfish.X = adata_merfish_raw[adata_merfish.obs.index,:].X\n",
    "del adata_merfish_raw\n"
   ]
  },
  {
   "cell_type": "code",
   "execution_count": null,
   "metadata": {},
   "outputs": [],
   "source": [
    "adata_10x_int = adata[adata.obs.dtype==\"scrnaseq\"]\n"
   ]
  },
  {
   "cell_type": "code",
   "execution_count": null,
   "metadata": {},
   "outputs": [],
   "source": [
    "adata10x = sc.read_h5ad(\"/faststorage/brain_aging/rna_analysis/adata_finalclusts_annot.h5ad\")\n",
    "adata10x = adata10x.raw.to_adata()\n",
    "adata10x = adata10x[adata10x.obs.area==\"PFC\"]\n",
    "adata10x = adata10x[adata_10x_int.obs.index]\n",
    "adata10x.obs['cell_type'] = adata_10x_int.obs.cell_type\n",
    "adata10x.obs['clust_annot'] = adata_10x_int.obs.clust_annot\n",
    "#del adata"
   ]
  },
  {
   "cell_type": "code",
   "execution_count": null,
   "metadata": {},
   "outputs": [],
   "source": [
    "adata_merfish_lps = ad.read_h5ad(\"/faststorage/brain_aging/merfish/exported/011722_merged_lps_ctrl_allages.h5ad\")\n"
   ]
  },
  {
   "cell_type": "markdown",
   "metadata": {},
   "source": [
    "# Show correspondence between MERFISH and 10X cell types"
   ]
  },
  {
   "cell_type": "code",
   "execution_count": null,
   "metadata": {},
   "outputs": [],
   "source": [
    "adata.obs['clust_10x'] = ''\n",
    "adata.obs.loc[adata_10x_int.obs.index,'clust_10x'] = adata10x.obs.clust_label\n",
    "adata_10x_int = adata[adata.obs.dtype==\"scrnaseq\"]\n"
   ]
  },
  {
   "cell_type": "code",
   "execution_count": null,
   "metadata": {},
   "outputs": [],
   "source": [
    "from sklearn.neural_network import MLPClassifier\n",
    "# predict labels of 10x cell types based on integrated clustering\n",
    "pred_10x_clf = MLPClassifier().fit(adata_10x_int.obsm['X_pca'], adata_10x_int.obs.clust_10x)"
   ]
  },
  {
   "cell_type": "code",
   "execution_count": null,
   "metadata": {},
   "outputs": [],
   "source": [
    "pred_10x_lbl = pred_10x_clf.predict(adata_merfish.obsm['X_pca'])"
   ]
  },
  {
   "cell_type": "code",
   "execution_count": null,
   "metadata": {},
   "outputs": [],
   "source": [
    "pred_merfish_clf = MLPClassifier().fit(adata_merfish.obsm['X_pca'], adata_merfish.obs.clust_annot)"
   ]
  },
  {
   "cell_type": "code",
   "execution_count": null,
   "metadata": {},
   "outputs": [],
   "source": [
    "pred_merfish_lbl = pred_merfish_clf.predict(adata_10x_int.obsm['X_pca'])"
   ]
  },
  {
   "cell_type": "code",
   "execution_count": null,
   "metadata": {},
   "outputs": [],
   "source": [
    "sorted(adata.obs.clust_10x.unique())"
   ]
  },
  {
   "cell_type": "code",
   "execution_count": null,
   "metadata": {},
   "outputs": [],
   "source": [
    "pred_labs_ex = [\n",
    " 'FrEx1',\n",
    " 'FrEx2',\n",
    " 'FrEx3',\n",
    " 'FrEx4',\n",
    " 'FrEx5',\n",
    " 'FrEx6',\n",
    " 'FrEx7',\n",
    " 'FrEx8',\n",
    " 'FrEx9',\n",
    " 'FrEx10',\n",
    " 'FrEx11',\n",
    " 'FrEx12',\n",
    " 'FrEx13',\n",
    " 'FrEx14',\n",
    " 'FrEx15',\n",
    " 'FrEx16',\n",
    " 'FrEx17',\n",
    " 'FrEx18']\n",
    "pred_labs_in = [\n",
    " 'FrIn10',\n",
    " 'FrIn12',\n",
    " 'FrIn13',\n",
    " 'FrIn14',\n",
    " 'FrIn15',\n",
    " 'FrIn16',\n",
    " 'FrIn17',\n",
    " 'FrIn18',\n",
    " 'FrIn7',\n",
    " 'FrIn8',\n",
    " 'FrIn9']\n",
    "pred_labs_str = [\n",
    " 'StD1M4',\n",
    " 'StD1M5',\n",
    " 'StD1M6',\n",
    " 'StD1M7',\n",
    " 'StD1M8',\n",
    " 'StD2M2',\n",
    " 'StD2M3',\n",
    " 'StD2M4',\n",
    " 'StD2M5']\n",
    "pred_labs_nn = [\n",
    " 'Astro1',\n",
    " 'Astro2',\n",
    " 'Astro3',\n",
    " 'Astro4',\n",
    " 'OPC',\n",
    " 'Olig1',\n",
    " 'Olig2',\n",
    " 'Olig3',\n",
    " 'Olig4',\n",
    " 'Olig5',\n",
    " 'Vlmc1',\n",
    " 'Vlmc2',\n",
    " 'Peri1',\n",
    " 'Peri2',\n",
    " 'Macro',\n",
    " 'Micro1',\n",
    " 'Micro2',\n",
    "]\n",
    "combined_pred_lab_names = pred_labs_ex + pred_labs_in + pred_labs_str + pred_labs_nn"
   ]
  },
  {
   "cell_type": "code",
   "execution_count": null,
   "metadata": {},
   "outputs": [],
   "source": [
    "correspondence_map = {\n",
    "    'ExN' : 'FrEx',\n",
    "    'InN' : 'FrIn',\n",
    "    'MSN' : \"StD\",\n",
    "    \"Astro\" : \"Astro\",\n",
    "    \"OPC\" : \"OPC\",\n",
    "    \"Olig\" : \"Olig\",\n",
    "    \"Vlmc\" : \"Vlmc\",\n",
    "    \n",
    "}"
   ]
  },
  {
   "cell_type": "code",
   "execution_count": null,
   "metadata": {},
   "outputs": [],
   "source": [
    "exn_clust_labs = [\n",
    " 'ExN-L2/3-1',\n",
    " 'ExN-L2/3-2',\n",
    " 'ExN-L5-1',\n",
    " 'ExN-L5-2',\n",
    " 'ExN-L5-3',\n",
    " 'ExN-L6-1',\n",
    " 'ExN-L6-2',\n",
    " 'ExN-L6-3',\n",
    " 'ExN-Olf',\n",
    "]\n",
    "inn_clust_labs = [\n",
    " 'InN-Calb2-1',\n",
    " 'InN-Calb2-2',\n",
    " 'InN-Chat',\n",
    " 'InN-Lamp5',\n",
    " 'InN-Lhx6',\n",
    " 'InN-Olf-1',\n",
    " 'InN-Olf-2',\n",
    " 'InN-Pvalb-1',\n",
    " 'InN-Pvalb-2',\n",
    " 'InN-Pvalb-3',\n",
    " 'InN-Sst-1',\n",
    " 'InN-Sst-2',\n",
    " 'InN-Vip',\n",
    "]\n",
    "msn_clust_labs = [\n",
    " 'MSN-D1-1',\n",
    " 'MSN-D1-2',\n",
    " 'MSN-D2',\n",
    "]\n",
    "nn_clust_labs = [\n",
    "'Astro-1',\n",
    " 'Astro-2',\n",
    " 'Epen',\n",
    "\n",
    " 'OPC',\n",
    " 'Olig-1',\n",
    " 'Olig-2',\n",
    " 'Olig-3',\n",
    "    'Endo-1',\n",
    " 'Endo-2',\n",
    " 'Endo-3',\n",
    "\n",
    " 'Peri-1',\n",
    " 'Peri-2',\n",
    " 'Vlmc',\n",
    " 'Micro-1',\n",
    " 'Micro-2',\n",
    " 'Micro-3',\n",
    " 'Macro',\n",
    " 'T cell',\n",
    "\n",
    " ]\n",
    "clust_labs_names = exn_clust_labs + inn_clust_labs + msn_clust_labs + nn_clust_labs"
   ]
  },
  {
   "cell_type": "code",
   "execution_count": null,
   "metadata": {},
   "outputs": [],
   "source": [
    "from scipy.optimize import linear_sum_assignment\n",
    "def make_pred_mat(clust_labs, pred_labs, clust_lab_names, pred_lab_names):\n",
    "    n_annot = len(clust_lab_names)\n",
    "    n_pred = len(pred_lab_names)\n",
    "    print(n_annot, n_pred)\n",
    "    pred_mat = np.zeros((n_annot, n_pred))\n",
    "    pred_idx = {i:k for k,i in enumerate(pred_lab_names)}\n",
    "    annot_idx = {i:k for k,i in enumerate(clust_lab_names)}\n",
    "    # make matrix of correspondence between clust annot label and predicted label\n",
    "    clust_annot_labels = list(clust_labs)\n",
    "    predicted_labels = list(pred_labs)\n",
    "    for i in range(len(clust_annot_labels)):\n",
    "        pred_mat[annot_idx[clust_annot_labels[i]], pred_idx[predicted_labels[i]]] += 1\n",
    "    #pred_mat = pred_mat.T\n",
    "    for i in range(pred_mat.shape[0]):\n",
    "        pred_mat[i,:] /= pred_mat[i,:].sum()\n",
    "    _, max_idx = linear_sum_assignment(-pred_mat)\n",
    "    pred_mat = pred_mat[:,max_idx]\n",
    "    cols_to_keep = np.argwhere(np.max(pred_mat,0)>0.1).flatten()\n",
    "    #pred_mat = pred_mat[:,cols_to_keep]\n",
    "    return pred_mat, max_idx, cols_to_keep\n",
    "\n",
    "def plot_pred_mat(clust_labs, pred_labs, clust_color_map, pred_color_map, pred_lab_names=None, clust_lab_names=None):\n",
    "    if pred_lab_names is None:\n",
    "        pred_lab_names = np.unique(pred_labs)\n",
    "    if clust_lab_names is None:\n",
    "        clust_lab_names = np.unique(clust_labs)\n",
    "    pred_mat, max_idx, cols_to_keep = make_pred_mat(clust_labs, pred_labs, clust_lab_names, pred_lab_names)\n",
    "    f, ax = plt.subplots(figsize=(4,4))\n",
    "    \n",
    "    gs = plt.GridSpec(nrows=2, ncols=3, width_ratios=[0.5,20,1], height_ratios=[20,0.5],wspace=0.01,hspace=0.01)\n",
    "    # left colorbar\n",
    "    print(pred_mat.shape, max_idx.max(), len(clust_labs_names),len(pred_lab_names))\n",
    "    ax = plt.subplot(gs[0,0])\n",
    "    curr_cmap = mpl.colors.ListedColormap([clust_color_map[i] for i in clust_lab_names])\n",
    "    ax.imshow(np.expand_dims(np.arange(pred_mat.shape[1]),1),cmap=curr_cmap,aspect='auto',interpolation='none')\n",
    "    sns.despine(ax=ax,left=True, bottom=True)\n",
    "    ax.set_xticks([])\n",
    "    ax.set_yticks(np.arange(len(clust_lab_names)))\n",
    "    ax.set_yticklabels(np.array(clust_lab_names),fontsize=5);\n",
    "    ax = plt.subplot(gs[0,1])\n",
    "    s = ax.imshow(pred_mat,aspect='auto',interpolation='none',cmap=plt.cm.gist_heat_r,vmin=0,vmax=1, rasterized=True)\n",
    "    sns.despine(ax=ax, left=True, bottom=True)\n",
    "    ax.set_yticks([])\n",
    "    ax.set_xticks([])\n",
    "    ax = plt.subplot(gs[1,1])\n",
    "    \n",
    "    xlabs = np.array(pred_lab_names)[max_idx]\n",
    "    curr_cmap = mpl.colors.ListedColormap([pred_color_map[i] for i in xlabs])\n",
    "    ax.imshow(np.expand_dims(np.arange(pred_mat.shape[1]),1).T,cmap=curr_cmap,aspect='auto',interpolation='none')\n",
    "    ax.set_yticks([])\n",
    "    ax.set_xticks(np.arange(len(xlabs)))\n",
    "    #xlabs = np.array(pred_labs)[cols_to_keep][max_idx]\n",
    "    ax.set_xticklabels(xlabs,fontsize=5,rotation=90);\n",
    "    sns.despine(ax=ax,bottom=True, left=True)\n",
    "    ax = plt.subplot(gs[0,2])\n",
    "    f.colorbar(s, ax=ax, cax=ax)\n",
    "    sns.despine(ax=ax)\n",
    "    return f\n"
   ]
  },
  {
   "cell_type": "code",
   "execution_count": null,
   "metadata": {},
   "outputs": [],
   "source": [
    "clust_colors10x = pd.read_csv(\"/home/user/src/tithonus/analysis/merfish/10x_clust_colors.csv\")\n",
    "clust_colors10x = {r.name: r.values for i,r in clust_colors10x.iteritems()}\n"
   ]
  },
  {
   "cell_type": "code",
   "execution_count": null,
   "metadata": {},
   "outputs": [],
   "source": [
    "f = plot_pred_mat(adata_merfish.obs.clust_annot,pred_10x_lbl, label_colors, clust_colors10x, clust_lab_names=clust_labs_names, pred_lab_names=combined_pred_lab_names);\n",
    "plt.savefig(\"/home/user/Dropbox/zhuang_lab/aging/aging_atlas_paper/figures_int/figS3_mer_to_10x.pdf\",bbox_inches='tight')"
   ]
  },
  {
   "cell_type": "code",
   "execution_count": null,
   "metadata": {},
   "outputs": [],
   "source": [
    "f = plot_pred_mat(adata_10x_int.obs.clust_annot,pred_merfish_lbl , label_colors, label_colors, clust_lab_names=clust_labs_names);\n",
    "plt.savefig(\"/home/user/Dropbox/zhuang_lab/aging/aging_atlas_paper/figures_int/figS3_10x_int.pdf\",bbox_inches='tight')"
   ]
  },
  {
   "cell_type": "markdown",
   "metadata": {},
   "source": [
    "# Show correlation between MERFISH and 10X"
   ]
  },
  {
   "cell_type": "code",
   "execution_count": null,
   "metadata": {},
   "outputs": [],
   "source": [
    "adata_merfish_orig = ad.read_h5ad(\"/faststorage/brain_aging/merfish/exported/102821_merged_combined_merfish_allages.h5ad\")\n",
    "adata_merfish_orig_lps = ad.read_h5ad(\"/faststorage/brain_aging/merfish/exported/112921_merged_combined_merfish_allages_lps.h5ad\")\n"
   ]
  },
  {
   "cell_type": "code",
   "execution_count": null,
   "metadata": {},
   "outputs": [],
   "source": [
    "adata_merfish_orig = adata_merfish_orig.concatenate(adata_merfish_orig_lps)"
   ]
  },
  {
   "cell_type": "code",
   "execution_count": null,
   "metadata": {},
   "outputs": [],
   "source": [
    "shared_cells = [i for i in adata_merfish_orig.obs.index if i in adata_merfish_lps.obs.index]"
   ]
  },
  {
   "cell_type": "code",
   "execution_count": null,
   "metadata": {},
   "outputs": [],
   "source": [
    "adata_merfish_orig.var.library = adata_merfish_orig_lps.var.library"
   ]
  },
  {
   "cell_type": "code",
   "execution_count": null,
   "metadata": {},
   "outputs": [],
   "source": [
    "cell_type_vars = adata_merfish_orig.var_names[adata_merfish_orig.var.library==\"cell_type\"]\n",
    "aging_vars = adata_merfish_orig.var_names[adata_merfish_orig.var.library==\"aging\"]"
   ]
  },
  {
   "cell_type": "code",
   "execution_count": null,
   "metadata": {},
   "outputs": [],
   "source": [
    "adata_10x_orig = ad.read_h5ad(\"/faststorage/brain_aging/rna_analysis/adata_combined_nodoublet.h5ad\")"
   ]
  },
  {
   "cell_type": "code",
   "execution_count": null,
   "metadata": {},
   "outputs": [],
   "source": [
    "adata_10x_orig = adata_10x_orig[adata_10x_orig.obs.area=='PFC']"
   ]
  },
  {
   "cell_type": "code",
   "execution_count": null,
   "metadata": {},
   "outputs": [],
   "source": [
    "adata_10x_orig = adata_10x_orig[adata10x.obs.index]"
   ]
  },
  {
   "cell_type": "code",
   "execution_count": null,
   "metadata": {},
   "outputs": [],
   "source": [
    "adata_10x_orig.obs['cell_type'] = adata10x.obs.cell_type"
   ]
  },
  {
   "cell_type": "code",
   "execution_count": null,
   "metadata": {},
   "outputs": [],
   "source": [
    "adata_merfish_orig = adata_merfish_orig[adata_merfish_lps.obs.index]"
   ]
  },
  {
   "cell_type": "code",
   "execution_count": null,
   "metadata": {},
   "outputs": [],
   "source": [
    "adata_merfish_orig.obs['cell_type'] = adata_merfish_lps.obs.cell_type\n",
    "adata_merfish_orig.obs['spatial_clust_annots'] = adata_merfish_lps.obs.spatial_clust_annots\n",
    "adata_merfish_orig.obs['data_batch'] = adata_merfish_lps.obs.data_batch"
   ]
  },
  {
   "cell_type": "code",
   "execution_count": null,
   "metadata": {},
   "outputs": [],
   "source": [
    "adata_merfish_orig.obs['cond'] = adata_merfish_lps.obs.cond"
   ]
  },
  {
   "cell_type": "code",
   "execution_count": null,
   "metadata": {},
   "outputs": [],
   "source": [
    "# do some basic filtering\n",
    "sc.pp.calculate_qc_metrics(adata_10x_orig, percent_top=None, log1p=False, inplace=True)\n",
    "sc.pp.filter_cells(adata_10x_orig, min_genes=1000)\n",
    "sc.pp.filter_cells(adata_10x_orig, max_counts=100000)\n",
    "#sc.pp.filter_genes(adata_10x_orig, min_cells=3)\n",
    "sc.pp.filter_cells(adata_10x_orig, min_counts=5000)"
   ]
  },
  {
   "cell_type": "code",
   "execution_count": null,
   "metadata": {},
   "outputs": [],
   "source": [
    "curr_age = ['4wk','24wk','90wk']"
   ]
  },
  {
   "cell_type": "code",
   "execution_count": null,
   "metadata": {},
   "outputs": [],
   "source": [
    "def compute_corr(A_10x, A_merfish,curr_age=['90wk'],ct=\"\",cutoff=1e-4):\n",
    "    adata_10x_avg_ct =  np.array(np.mean(A_10x[A_10x.obs.age.isin(curr_age)][:,cell_type_vars].X.toarray(),0))\n",
    "    adata_merfish_avg_ct = np.array(np.mean(A_merfish[A_merfish.obs.age.isin(curr_age)][:,cell_type_vars].X,0))\n",
    "\n",
    "    adata_10x_avg_aging =  np.array(np.mean(A_10x[A_10x.obs.age.isin(curr_age)][:,aging_vars].X.toarray(),0))\n",
    "    adata_merfish_avg_aging = np.array(np.mean(A_merfish[A_merfish.obs.age.isin(curr_age)][:,aging_vars].X,0))\n",
    "\n",
    "    # subset to expressed genes in both conditions \n",
    "    good_genes_ct = np.logical_and(adata_10x_avg_ct>cutoff, adata_merfish_avg_ct>cutoff)\n",
    "    ct_corr = np.corrcoef(np.log10(adata_10x_avg_ct[good_genes_ct]), np.log10(0+adata_merfish_avg_ct[good_genes_ct]))[0,1]\n",
    "    good_genes_age = np.logical_and(adata_10x_avg_aging>cutoff, adata_merfish_avg_aging>cutoff)\n",
    "    age_corr =  np.corrcoef(np.log10(adata_10x_avg_aging[good_genes_age]),\n",
    "                            np.log10(adata_merfish_avg_aging[good_genes_age]))[0,1]\n",
    "    print(ct_corr, age_corr)\n",
    "    all_10x = np.hstack((adata_10x_avg_ct[good_genes_ct],adata_10x_avg_aging[good_genes_age]))\n",
    "    all_merfish = np.hstack((adata_merfish_avg_ct[good_genes_ct],adata_merfish_avg_aging[good_genes_age]))\n",
    "    cc = np.corrcoef(np.log10(all_10x),\n",
    "                     np.log10(all_merfish))[0,1]\n",
    "    print(cc)\n",
    "    plt.figure(figsize=(5,5))\n",
    "    plt.loglog(adata_10x_avg_ct[good_genes_ct].T,adata_merfish_avg_ct[good_genes_ct],'g.')\n",
    "    plt.loglog(adata_10x_avg_aging[good_genes_age].T,adata_merfish_avg_aging[good_genes_age],'b.')\n",
    "    plt.legend([\"Cell type library (r=%0.02f)\"%ct_corr, \"Aging library (r=%0.02f)\"%age_corr])\n",
    "    mpl.pyplot.grid(True, which=\"both\")\n",
    "    plt.title(ct + \" \" + f\"snRNA-seq to MERFISH\")\n",
    "    plt.xlabel('snRNA-seq (UMI/cell)')\n",
    "    plt.ylabel('MERFISH (counts/cell)')\n",
    "\n"
   ]
  },
  {
   "cell_type": "code",
   "execution_count": null,
   "metadata": {},
   "outputs": [],
   "source": [
    "def compute_corr_bulk(bulk,A_merfish,curr_age=['4wk','90wk'],ct=\"\",cutoff=1e-4):\n",
    "    cell_type_vars = A_merfish.var_names[A_merfish.var.library==\"cell_type\"]\n",
    "    aging_vars = A_merfish.var_names[A_merfish.var.library==\"aging\"]\n",
    "    adata_10x_avg_ct =  np.array(bulk[bulk.genes.isin(cell_type_vars)].average.values)\n",
    "    adata_merfish_avg_ct = np.array(np.mean(A_merfish[A_merfish.obs.age.isin(curr_age)][:,bulk[bulk.genes.isin(cell_type_vars)].genes].X,0))\n",
    "    adata_10x_avg_aging =  np.array(bulk[bulk.genes.isin(aging_vars)].average.values)\n",
    "    adata_merfish_avg_aging = np.array(np.mean(A_merfish[A_merfish.obs.age.isin(curr_age)][:,bulk[bulk.genes.isin(aging_vars)].genes].X,0))\n",
    "    good_genes_ct = np.logical_and(adata_10x_avg_ct>cutoff, adata_merfish_avg_ct>cutoff)\n",
    "    ct_corr = np.corrcoef(np.log10(adata_10x_avg_ct[good_genes_ct]), np.log10(0+adata_merfish_avg_ct[good_genes_ct]))[0,1]\n",
    "    good_genes_age = np.logical_and(adata_10x_avg_aging>cutoff, adata_merfish_avg_aging>cutoff)\n",
    "\n",
    "    age_corr =  np.corrcoef(np.log10(adata_10x_avg_aging[good_genes_age]),\n",
    "                            np.log10(adata_merfish_avg_aging[good_genes_age]))[0,1]\n",
    "    all_10x = np.hstack((adata_10x_avg_ct[good_genes_ct],adata_10x_avg_aging[good_genes_age]))\n",
    "    all_merfish = np.hstack((adata_merfish_avg_ct[good_genes_ct],adata_merfish_avg_aging[good_genes_age]))\n",
    "    cc = np.corrcoef(np.log10(all_10x),\n",
    "                     np.log10(all_merfish))[0,1]\n",
    "    plt.figure(figsize=(5,5))\n",
    "    plt.loglog(adata_10x_avg_ct[good_genes_ct].T,adata_merfish_avg_ct[good_genes_ct],'b.')\n",
    "    plt.loglog(adata_10x_avg_aging[good_genes_age].T,adata_merfish_avg_aging[good_genes_age],'g.')\n",
    "    plt.legend([\"Cell type library (r=%0.02f)\"%ct_corr, \"Aging library (r=%0.02f)\"%age_corr])\n",
    "    mpl.pyplot.grid(True, which=\"both\")\n",
    "    plt.title(ct + \" \" + f\"Bulk RNA-seq to MERFISH\")\n",
    "    plt.xlabel('Bulk RNA-seq (FPKM)')\n",
    "    plt.ylabel('MERFISH (counts/cell)')\n",
    "\n"
   ]
  },
  {
   "cell_type": "code",
   "execution_count": null,
   "metadata": {},
   "outputs": [],
   "source": [
    "bad_genes = ['Prom1',\n",
    " 'Parp8',\n",
    " 'Rbpj',\n",
    " 'Skap2',\n",
    " 'Ago3',\n",
    " 'Cntnap3',\n",
    " 'Meis2',\n",
    " 'Arnt2',\n",
    " 'Hivep2',\n",
    " 'Foxn3',\n",
    " 'Parp2',\n",
    " 'Zfp608',\n",
    " 'Fbxl7',\n",
    " 'Htr2c',\n",
    " 'Klf7',\n",
    " 'Timp2',\n",
    " 'Zbtb16',\n",
    " 'Egflam',\n",
    " 'Ikzf2',\n",
    " 'Cdh13',\n",
    " 'Cd63',\n",
    " 'Marcks',\n",
    " 'Parp11',\n",
    " 'Herc6',\n",
    " 'Cdh9',\n",
    " 'Tsc22d1',\n",
    " 'Lef1',\n",
    " 'Shisa6',\n",
    " 'St8sia6',\n",
    " 'Trp53',\n",
    " 'Plch1',\n",
    " 'Cp',\n",
    " '9630014M24Rik',\n",
    " 'Elf2',\n",
    " 'Tafa1',\n",
    " 'Ntn1',\n",
    " 'Rarb',\n",
    " 'Zfp462',\n",
    " 'Sirt5',\n",
    " 'Mamdc2',\n",
    " 'Bach2']"
   ]
  },
  {
   "cell_type": "code",
   "execution_count": null,
   "metadata": {},
   "outputs": [],
   "source": [
    "m1_bulk = pd.read_csv(\"/home/user/Downloads/M1_bulk_all.csv\")\n",
    "\n",
    "curr_adata = adata_merfish_orig\n",
    "compute_corr_bulk(m1_bulk, curr_adata[curr_adata.obs.spatial_clust_annots.isin(['Pia','L2/3','L5','L6'])],cutoff=0,curr_age=['24wk'])\n",
    "plt.savefig(\"/home/user/Dropbox/zhuang_lab/aging/aging_atlas_paper/figures_int/bulk_m1_to_merfish.pdf\",bbox_inches='tight')"
   ]
  },
  {
   "cell_type": "code",
   "execution_count": null,
   "metadata": {},
   "outputs": [],
   "source": [
    "str_bulk = pd.read_excel(\"/home/user/Downloads/AllGenesExpressionTable_NAC.xlsx\")\n",
    "str_bulk[\"average\"] = (str_bulk.rep1 + str_bulk.rep2)/2\n",
    "\n",
    "curr_adata = adata_merfish_orig\n",
    "\n",
    "compute_corr_bulk(str_bulk, curr_adata[curr_adata.obs.spatial_clust_annots.isin(['Striatum'])],cutoff=0,curr_age=['24wk'])\n",
    "plt.savefig(\"/home/user/Dropbox/zhuang_lab/aging/aging_atlas_paper/figures_int/bulk_striatum_to_merfish.pdf\",bbox_inches='tight')"
   ]
  },
  {
   "cell_type": "code",
   "execution_count": null,
   "metadata": {},
   "outputs": [],
   "source": [
    "m1_bulk = pd.read_csv(\"/home/user/Downloads/M1_bulk_all.csv\")\n",
    "\n",
    "curr_adata = adata_merfish_orig#[adata_merfish_orig.obs.batch==2]\n",
    "compute_corr_bulk(m1_bulk, curr_adata[curr_adata.obs.spatial_clust_annots.isin(['Pia','L2/3','L5','L6'])],cutoff=0,curr_age=['4wk','90wk'])"
   ]
  },
  {
   "cell_type": "code",
   "execution_count": null,
   "metadata": {},
   "outputs": [],
   "source": [
    "adata_merfish_young_avg = adata_merfish_orig[adata_merfish_orig.obs.age=='4wk'].X.mean(0)\n",
    "adata_merfish_old_avg = adata_merfish_orig[adata_merfish_orig.obs.age=='90wk'].X.mean(0)"
   ]
  },
  {
   "cell_type": "code",
   "execution_count": null,
   "metadata": {},
   "outputs": [],
   "source": [
    "plt.figure(figsize=(5,5))\n",
    "plt.loglog(adata_merfish_young_avg,adata_merfish_old_avg,'k.')\n",
    "mpl.pyplot.grid(True, which=\"both\")\n",
    "plt.title(\"Young MERFISH to old MERFISH, r=%0.2f\"%np.corrcoef(np.log10(adata_merfish_young_avg), np.log10(adata_merfish_old_avg))[0,1])\n",
    "plt.xlabel('Young MERFISH (counts/cell)')\n",
    "plt.ylabel('Old MERFISH (counts/cell)')\n",
    "\n",
    "plt.savefig(\"/home/user/Dropbox/zhuang_lab/aging/aging_atlas_paper/figures_int/figS2_merfish_young_old_corr.pdf\", bbox_inches='tight', dpi=200)\n"
   ]
  },
  {
   "cell_type": "code",
   "execution_count": null,
   "metadata": {},
   "outputs": [],
   "source": [
    "batches = []\n",
    "ages = []\n",
    "for i in ['4wk','24wk','90wk']:\n",
    "    curr_batches = list(adata_merfish_orig[np.logical_and(adata_merfish_orig.obs.age == i,\n",
    "                                                          adata_merfish_orig.obs.cond==\"ctrl\")].obs.data_batch.unique())\n",
    "    batches.extend(curr_batches)\n",
    "    for j in range(len(curr_batches)):\n",
    "        ages.append(i)"
   ]
  },
  {
   "cell_type": "code",
   "execution_count": null,
   "metadata": {},
   "outputs": [],
   "source": [
    "adata_merfish_orig[adata_merfish_orig.obs.data_batch==batches[1]]"
   ]
  },
  {
   "cell_type": "code",
   "execution_count": null,
   "metadata": {},
   "outputs": [],
   "source": [
    "# young MERFISH rep 1 to rep 2\n",
    "adata_merfish_batch1_avg = np.array(adata_merfish_orig[adata_merfish_orig.obs.data_batch==\"10\"].X.mean(0))\n",
    "adata_merfish_batch2_avg = np.array(adata_merfish_orig[adata_merfish_orig.obs.data_batch==\"11\"].X.mean(0))"
   ]
  },
  {
   "cell_type": "code",
   "execution_count": null,
   "metadata": {},
   "outputs": [],
   "source": [
    "plt.figure(figsize=(5,5))\n",
    "plt.loglog(adata_merfish_batch1_avg,adata_merfish_batch2_avg,'k.')\n",
    "mpl.pyplot.grid(True, which=\"both\")\n",
    "plt.title(\"Batch 1 MERFISH to Batch 2 MERFISH, r=%0.2f\"%np.corrcoef(np.log10(adata_merfish_batch1_avg), np.log10(adata_merfish_batch2_avg))[0,1])\n",
    "plt.xlabel('MERFISH batch 1 (counts/cell)')\n",
    "plt.ylabel('MERFISH batch 2 (counts/cell)')\n",
    "\n",
    "plt.savefig(\"/home/user/Dropbox/zhuang_lab/aging/aging_atlas_paper/figures_int/figS2_merfish_batch_corr_example.pdf\", bbox_inches='tight', dpi=200)\n"
   ]
  },
  {
   "cell_type": "code",
   "execution_count": null,
   "metadata": {},
   "outputs": [],
   "source": [
    "celltype_colors, celltype_pals, label_colors, clust_pals = generate_palettes(adata10x)"
   ]
  },
  {
   "cell_type": "markdown",
   "metadata": {},
   "source": [
    "# Run GLM on 10X  for all genes"
   ]
  },
  {
   "cell_type": "code",
   "execution_count": null,
   "metadata": {},
   "outputs": [],
   "source": [
    "from de import *"
   ]
  },
  {
   "cell_type": "code",
   "execution_count": null,
   "metadata": {},
   "outputs": [],
   "source": [
    "adata10x.obs['log_umi'] = np.log10(adata10x.obs.total_counts)\n"
   ]
  },
  {
   "cell_type": "code",
   "execution_count": null,
   "metadata": {},
   "outputs": [],
   "source": [
    "adata10x"
   ]
  },
  {
   "cell_type": "code",
   "execution_count": null,
   "metadata": {},
   "outputs": [],
   "source": [
    "glm_de = {}#glm_de_partial.copy()\n",
    "for i in adata10x.obs.cell_type.unique():\n",
    "    if i not in glm_de:\n",
    "        print(i)\n",
    "        try:\n",
    "            glm_de[i] = run_glm_de_age(adata10x[adata10x.obs.cell_type==i],lognorm=True, family='ols')\n",
    "        except Exception as e:\n",
    "            print(e)"
   ]
  },
  {
   "cell_type": "code",
   "execution_count": null,
   "metadata": {},
   "outputs": [],
   "source": [
    "glm_de_df = []\n",
    "for v in glm_de.values():\n",
    "    df = list(v.values())[0]\n",
    "    df['cell_type'] = list(v.keys())[0]\n",
    "    glm_de_df.append(df)"
   ]
  },
  {
   "cell_type": "code",
   "execution_count": null,
   "metadata": {},
   "outputs": [],
   "source": [
    "#pd.concat(glm_de_df).to_csv(\"/home/user/src/tithonus/analysis/merfish/gene_lists/glm_nb_de_major_age_V2.csv\")"
   ]
  },
  {
   "cell_type": "code",
   "execution_count": null,
   "metadata": {},
   "outputs": [],
   "source": [
    "glm_de_clust = {}\n",
    "for i in adata10x.obs.clust_annot.unique():\n",
    "    print(i)\n",
    "    try:\n",
    "        if i not in glm_de_clust:\n",
    "            glm_de_clust[i] = run_glm_de_age(adata10x[adata10x.obs.clust_annot==i],lognorm=True, family='ols', grouping='clust_annot')\n",
    "    except Exception as e:\n",
    "        print(e)"
   ]
  },
  {
   "cell_type": "code",
   "execution_count": null,
   "metadata": {},
   "outputs": [],
   "source": [
    "glm_de_clust_df = []\n",
    "for v in glm_de_clust.values():\n",
    "    df = list(v.values())[0]\n",
    "    df['cell_type'] = list(v.keys())[0]\n",
    "    glm_de_clust_df.append(df)"
   ]
  },
  {
   "cell_type": "code",
   "execution_count": null,
   "metadata": {},
   "outputs": [],
   "source": [
    "pd.concat(glm_de_clust_df).to_csv(\"/home/user/src/tithonus/analysis/merfish/gene_lists/glm_nb_de_clust_age_V2.csv\")"
   ]
  },
  {
   "cell_type": "markdown",
   "metadata": {},
   "source": [
    "# Run GLM on MERFISH and 10X just for MERFISH genes"
   ]
  },
  {
   "cell_type": "code",
   "execution_count": null,
   "metadata": {},
   "outputs": [],
   "source": [
    "glm_de_clust_df = []\n",
    "for v in glm_de_clust.values():\n",
    "    df = list(v.values())[0]\n",
    "    df['cell_type'] = list(v.keys())[0]\n",
    "    glm_de_clust_df.append(df)\n",
    "glm_de_clust_df = pd.concat(glm_de_clust_df)"
   ]
  },
  {
   "cell_type": "code",
   "execution_count": null,
   "metadata": {},
   "outputs": [],
   "source": [
    "from de import *"
   ]
  },
  {
   "cell_type": "code",
   "execution_count": null,
   "metadata": {},
   "outputs": [],
   "source": [
    "#sc.pp.scale(adata_merfish,max_value=10)"
   ]
  },
  {
   "cell_type": "code",
   "execution_count": null,
   "metadata": {},
   "outputs": [],
   "source": [
    "adata_merfish.obs['log_umi'] = np.log(adata_merfish.obs.total_counts)"
   ]
  },
  {
   "cell_type": "code",
   "execution_count": null,
   "metadata": {},
   "outputs": [],
   "source": [
    "adata10x_subset = adata10x[:,adata_merfish.var_names]"
   ]
  },
  {
   "cell_type": "code",
   "execution_count": null,
   "metadata": {
    "scrolled": true
   },
   "outputs": [],
   "source": [
    "ttest_de_celltype_10x = {}\n",
    "for i in adata10x_subset.obs.cell_type.unique():\n",
    "    print(i)\n",
    "    try:\n",
    "        ttest_de_celltype_10x[i] = run_glm_de_age_merfish(adata10x_subset[adata10x_subset.obs.cell_type==i],family='ols',grouping='cell_type')\n",
    "    except Exception as e:\n",
    "        print(e)"
   ]
  },
  {
   "cell_type": "code",
   "execution_count": null,
   "metadata": {
    "scrolled": true
   },
   "outputs": [],
   "source": [
    "ttest_de_celltype_merfish = {}\n",
    "for i in adata_merfish.obs.cell_type.unique():\n",
    "    print(i)\n",
    "    try:\n",
    "        #if i not in ttest_de_celltype_merfish:\n",
    "        ttest_de_celltype_merfish[i] = run_glm_de_age_merfish(adata_merfish[adata_merfish.obs.cell_type==i],family='ols',grouping='cell_type')\n",
    "    except Exception as e:\n",
    "        print(e)"
   ]
  },
  {
   "cell_type": "code",
   "execution_count": null,
   "metadata": {},
   "outputs": [],
   "source": [
    "import pandas as pd\n",
    "from statsmodels.stats.multitest import multipletests\n",
    "def collapse_de_results(X):\n",
    "    ttest_de_clust_df = []\n",
    "    for v in X.values():\n",
    "        df = list(v.values())[0]\n",
    "        df['cell_type'] = list(v.keys())[0]\n",
    "        #print(np.sum(np.isnan(df.pval)))\n",
    "        df.pval[np.isnan(df.pval)] = 1\n",
    "        df.qval = multipletests(df.pval, method='fdr_by')[1]\n",
    "        ttest_de_clust_df.append(df)\n",
    "    ttest_de_clust_df = pd.concat(ttest_de_clust_df)\n",
    "    #ttest_de_clust_dfttest_de_clust_df[~np.isnan(ttest_de_clust_df.qval)]\n",
    "    return ttest_de_clust_df\n",
    "#ttest_de_clust_df = pd.concat(ttest_de_clust_df)\n",
    "#ttest_de_clust_df.pval = [float(i) for i in ttest_de_clust_df.pval]\n",
    "#ttest_de_clust_df.qval = [float(i) for i in ttest_de_clust_df.qval]\n"
   ]
  },
  {
   "cell_type": "code",
   "execution_count": null,
   "metadata": {},
   "outputs": [],
   "source": [
    "ttest_de_celltype_10x_df = collapse_de_results(ttest_de_celltype_10x)\n",
    "ttest_de_celltype_merfish_df = collapse_de_results(ttest_de_celltype_merfish)"
   ]
  },
  {
   "cell_type": "code",
   "execution_count": null,
   "metadata": {},
   "outputs": [],
   "source": [
    "#ttest_de_celltype_10x_df.to_csv(\"/home/user/src/tithonus/analysis/merfish/gene_lists/glm_nb_de_major_age_10x_V2.csv\")\n",
    "#ttest_de_celltype_merfish_df.to_csv(\"/home/user/src/tithonus/analysis/merfish/gene_lists/glm_nb_de_major_age_merfish_V2.csv\")"
   ]
  },
  {
   "cell_type": "code",
   "execution_count": null,
   "metadata": {},
   "outputs": [],
   "source": [
    "\n",
    "\n",
    "#ttest_de_clust_df = pd.concat(ttest_de_clust_df)\n",
    "#ttest_de_clust_df.pval = [float(i) for i in ttest_de_clust_df.pval]\n",
    "#ttest_de_clust_df.qval = [float(i) for i in ttest_de_clust_df.qval]\n",
    "\n",
    "#ttest_de_clust_df = ttest_de_clust_df[~np.isnan(ttest_de_clust_df.qval)]\n",
    "#ttest_de_clust_df.to_csv(\"/home/user/src/tithonus/analysis/merfish/gene_lists/glm_ttest_de_minor_age.csv\")\n",
    "ttest_de_clust_df = pd.read_csv(\"/home/user/src/tithonus/analysis/merfish/gene_lists/glm_nb_de_major_age_merfish_V2.csv\")\n",
    "ttest_de_celltype_df = pd.read_csv(\"/home/user/src/tithonus/analysis/merfish/gene_lists/glm_nb_de_major_age_10x_V2.csv\")"
   ]
  },
  {
   "cell_type": "code",
   "execution_count": null,
   "metadata": {
    "jupyter": {
     "outputs_hidden": true
    },
    "tags": []
   },
   "outputs": [],
   "source": [
    "ttest_de_clust_merfish = {}\n",
    "for i in adata_merfish.obs.clust_annot.unique():\n",
    "    print(i)\n",
    "    try:\n",
    "        if i not in ttest_de_clust_merfish:\n",
    "            ttest_de_clust_merfish[i] = run_glm_de_age(adata_merfish[adata_merfish.obs.clust_annot==i],lognorm=True, family='ols',grouping='clust_annot')\n",
    "    except Exception as e:\n",
    "        print(e)"
   ]
  },
  {
   "cell_type": "code",
   "execution_count": null,
   "metadata": {},
   "outputs": [],
   "source": [
    "\n",
    "ttest_de_clust_merfish_df = []\n",
    "for v in ttest_de_clust_merfish.values():\n",
    "    df = list(v.values())[0]\n",
    "    df['cell_type'] = list(v.keys())[0]\n",
    "    ttest_de_clust_merfish_df.append(df)\n",
    "ttest_de_clust_merfish_df = pd.concat(ttest_de_clust_merfish_df)\n",
    "ttest_de_clust_merfish_df.pval = [float(i) for i in ttest_de_clust_merfish_df.pval]\n",
    "ttest_de_clust_merfish_df.qval = [float(i) for i in ttest_de_clust_merfish_df.qval]\n",
    "ttest_de_clust_merfish_df = ttest_de_clust_merfish_df[~np.isnan(ttest_de_clust_merfish_df.qval)]"
   ]
  },
  {
   "cell_type": "code",
   "execution_count": null,
   "metadata": {},
   "outputs": [],
   "source": [
    "ttest_de_clust_merfish_df.to_csv(\"gene_lists/ttest_de_clust_merfish_df_for_figure_nologumi.csv\")"
   ]
  },
  {
   "cell_type": "code",
   "execution_count": null,
   "metadata": {},
   "outputs": [],
   "source": [
    "de_genes_age_minor_signif_merfish = ttest_de_clust_merfish_df[np.logical_and(np.log2(np.exp(np.abs(ttest_de_clust_merfish_df.coef))) > np.log2(1.75), ttest_de_clust_merfish_df.qval<0.05)]"
   ]
  },
  {
   "cell_type": "code",
   "execution_count": null,
   "metadata": {},
   "outputs": [],
   "source": [
    "merfish_de_genes = de_genes_age_minor_signif_merfish.gene.unique()"
   ]
  },
  {
   "cell_type": "code",
   "execution_count": null,
   "metadata": {},
   "outputs": [],
   "source": [
    "de_clust_order = [\n",
    " 'ExN-L2/3-1',\n",
    " 'ExN-L2/3-2',\n",
    " 'ExN-L5-1',\n",
    " 'ExN-L5-2',\n",
    " 'ExN-L5-3',\n",
    " 'ExN-L6-1',\n",
    " 'ExN-L6-2',\n",
    " 'ExN-L6-3',\n",
    " 'ExN-Olf',\n",
    " 'InN-Olf-1',\n",
    " 'InN-Olf-2',\n",
    "\n",
    " 'InN-Vip',\n",
    "\n",
    " 'InN-Lamp5',\n",
    "\n",
    " 'InN-Pvalb-1',\n",
    " 'InN-Pvalb-2',\n",
    " 'InN-Pvalb-3',\n",
    " 'InN-Sst-1',\n",
    " 'InN-Sst-2',\n",
    " 'InN-Calb2-1',\n",
    " 'InN-Calb2-2',\n",
    " 'InN-Chat',\n",
    " 'InN-Lhx6',\n",
    "\n",
    "'MSN-D1-1',\n",
    " 'MSN-D1-2',\n",
    " 'MSN-D2',\n",
    " 'OPC',\n",
    " 'Olig-1',\n",
    " 'Olig-2',\n",
    " 'Olig-3',\n",
    "\n",
    "'Astro-1',\n",
    " 'Astro-2',\n",
    " 'Vlmc',\n",
    " 'Peri-1',\n",
    " 'Peri-2',\n",
    " 'Endo-1',\n",
    " 'Endo-2',\n",
    " 'Endo-3',\n",
    " 'Epen',\n",
    "\n",
    " 'Micro-1',\n",
    " 'Micro-2',\n",
    " 'Micro-3',\n",
    " 'Macro',\n",
    " 'T cell',\n",
    "]"
   ]
  },
  {
   "cell_type": "code",
   "execution_count": null,
   "metadata": {},
   "outputs": [],
   "source": [
    "coef_mat = np.zeros((len(merfish_de_genes), len(de_clust_order)))\n",
    "for i,ct in enumerate(de_clust_order):\n",
    "    curr_ct = ttest_de_clust_merfish_df[ttest_de_clust_merfish_df.cell_type==ct]\n",
    "    for j,g in enumerate(merfish_de_genes):\n",
    "        coef = curr_ct[curr_ct.gene==g].coef.values\n",
    "        if len(coef) > 0:\n",
    "            coef_mat[j,i] = coef[0]"
   ]
  },
  {
   "cell_type": "code",
   "execution_count": null,
   "metadata": {},
   "outputs": [],
   "source": [
    "coef_mat = pd.DataFrame(coef_mat, columns=de_clust_order, index=merfish_de_genes)"
   ]
  },
  {
   "cell_type": "code",
   "execution_count": null,
   "metadata": {},
   "outputs": [],
   "source": [
    "#coef_mat = coef_mat.drop('T cell',axis=1)"
   ]
  },
  {
   "cell_type": "code",
   "execution_count": null,
   "metadata": {},
   "outputs": [],
   "source": [
    "sns.set_style('white')\n",
    "cg = sns.clustermap(coef_mat,vmin=-3,vmax=3,cmap=plt.cm.seismic,metric='correlation')#figsize=(12,12*(coef_mat.shape[0]/coef_mat.shape[1])),metric='correlation')\n",
    "row_idx = np.array(cg.dendrogram_row.reordered_ind)\n",
    "col_idx = np.array(cg.dendrogram_col.reordered_ind)\n",
    "#cg.ax_row_dendrogram.set_visible(False)\n",
    "#cg.ax_col_dendrogram.set_visible(False)\n",
    "cg.cax.set_visible(False)\n",
    "cg.ax_heatmap.set_rasterized(True)\n",
    "for i in cg.ax_heatmap.get_xticklabels():\n",
    "    i.set_size(20)\n",
    "    i.set_rasterized(False)\n",
    "for i in cg.ax_heatmap.get_yticklabels():\n",
    "    i.set_size(20)\n",
    "    i.set_rasterized(False)\n",
    "\n",
    "#plt.savefig(\"/home/user/Dropbox/zhuang_lab/aging/aging_atlas_paper/figures_int/fig3_expr_heatmap.pdf\",dpi=300,bbox_inches='tight')"
   ]
  },
  {
   "cell_type": "code",
   "execution_count": null,
   "metadata": {},
   "outputs": [],
   "source": [
    "celltype_colors, celltype_pals, label_colors, clust_pals = generate_palettes(adata_merfish)"
   ]
  },
  {
   "cell_type": "code",
   "execution_count": null,
   "metadata": {},
   "outputs": [],
   "source": [
    "coef_mat = coef_mat.iloc[row_idx,:]\n",
    "coef_mat = coef_mat.drop(\"T cell\",axis=1)"
   ]
  },
  {
   "cell_type": "code",
   "execution_count": null,
   "metadata": {},
   "outputs": [],
   "source": [
    "clust_idx = np.array([np.argwhere(np.array(list(label_colors.keys())) == i)[0][0] for i in list(np.array(coef_mat.columns))])\n",
    "clust_idx_cmap = mpl.colors.ListedColormap(list(label_colors.values()))\n",
    "\n"
   ]
  },
  {
   "cell_type": "code",
   "execution_count": null,
   "metadata": {},
   "outputs": [],
   "source": [
    "f, axes = plt.subplots(figsize=(10,10*len(col_idx)/len(row_idx)), ncols=2, gridspec_kw={'width_ratios':[0.5,20],'wspace':0.05})\n",
    "ax = axes[0]\n",
    "ax.imshow(np.expand_dims(clust_idx,axis=0).T,aspect='auto',interpolation='none',cmap=clust_idx_cmap)\n",
    "#ax.axis('off')\n",
    "ax.set_xticks([])\n",
    "ax.set_yticks([])\n",
    "#ax.set_yticks(np.arange(len(clust_idx)))\n",
    "#ax.set_yticklabels(np.array(coef_mat.columns)[clust_idx],fontsize=6)\n",
    "sns.despine(ax=ax,left=True,right=True, bottom=True)\n",
    "ax = axes[1]\n",
    "ax.imshow(coef_mat.values.T,cmap=plt.cm.seismic,vmin=-3,vmax=3,aspect='auto',interpolation='none')\n",
    "#ax.axis('off')\n",
    "sns.despine(ax=ax,left=True,right=True,bottom=True)\n",
    "ax.set_yticks([])\n",
    "ax.set_xticks(np.arange(len(row_idx)));\n",
    "ax.set_xticklabels(np.array(coef_mat.index)[:],rotation=90,fontsize=6);\n",
    "plt.savefig(\"/home/user/Dropbox/zhuang_lab/aging/aging_atlas_paper/figures_int/fig3_expr_heatmap_nologumi.pdf\",dpi=300,bbox_inches='tight')"
   ]
  },
  {
   "cell_type": "code",
   "execution_count": null,
   "metadata": {},
   "outputs": [],
   "source": [
    "adata_merfish.X.shape"
   ]
  },
  {
   "cell_type": "code",
   "execution_count": null,
   "metadata": {},
   "outputs": [],
   "source": [
    "de_clust_order = [i for i in de_clust_order if i != \"T cell\"]"
   ]
  },
  {
   "cell_type": "code",
   "execution_count": null,
   "metadata": {},
   "outputs": [],
   "source": [
    "de_genes_age_minor_signif_merfish = ttest_de_clust_merfish_df[np.logical_and(np.log2(np.exp(np.abs(ttest_de_clust_merfish_df.coef))) > np.log2(1.75), ttest_de_clust_merfish_df.qval<0.05)]\n",
    "sns.set_style('white')\n",
    "f, ax = plt.subplots(figsize=(8,3), nrows=3, gridspec_kw={'hspace':0.05, 'height_ratios':[10,1,10]})\n",
    "for i in [50,100,150]:\n",
    "    ax[0].axhline(i,color='gray',linestyle='--',lw=1)\n",
    "    ax[2].axhline(-i,color='gray',linestyle='--',lw=1)\n",
    "\n",
    "sns.barplot(x='gene', y='de',\n",
    "            data=pd.DataFrame(data={'gene': de_clust_order, \n",
    "                                    'de':[de_genes_age_minor_signif_merfish[np.logical_and(de_genes_age_minor_signif_merfish.cell_type==i, de_genes_age_minor_signif_merfish.coef>0)].shape[0] for i in de_clust_order]}),\n",
    "            order=de_clust_order,color='salmon',ax=ax[0])\n",
    "ax[0].set_xticks([])\n",
    "ax[0].set_xlabel(\"\")\n",
    "ax[0].set_ylim([0,12.5])\n",
    "for i in [2.5, 5, 7.5, 10, 12.5]:\n",
    "    ax[0].axhline(i,color='gray',linestyle='--')\n",
    "sns.despine(ax=ax[0],bottom=True)\n",
    "\n",
    "ax[1].imshow(np.expand_dims(clust_idx,1).T,aspect='auto',interpolation='none',cmap=clust_idx_cmap)\n",
    "ax[1].axis('off')\n",
    "sns.barplot(x='gene', y='de',\n",
    "            data=pd.DataFrame(data={'gene': de_clust_order, \n",
    "                                    'de':[-de_genes_age_minor_signif_merfish[np.logical_and(de_genes_age_minor_signif_merfish.cell_type==i, de_genes_age_minor_signif_merfish.coef<0)].shape[0] for i in de_clust_order]}),\n",
    "            order=de_clust_order,color='skyblue',ax=ax[2])\n",
    "ax[2].set_xticklabels(ax[2].get_xticklabels(),rotation = 90);\n",
    "sns.despine(ax=ax[2])\n",
    "ax[2].set_ylim([-12.5,0])\n",
    "for i in [-2.5, -5, -7.5, -10, -12.5]:\n",
    "    ax[2].axhline(i,color='gray',linestyle='--')\n",
    "\n",
    "plt.savefig(\"/home/user/Dropbox/zhuang_lab/aging/aging_atlas_paper/figures_int/fig3_num_de_merfish_nologumi.pdf\",dpi=300,bbox_inches='tight')"
   ]
  },
  {
   "cell_type": "code",
   "execution_count": null,
   "metadata": {},
   "outputs": [],
   "source": []
  },
  {
   "cell_type": "code",
   "execution_count": null,
   "metadata": {},
   "outputs": [],
   "source": [
    "gene_idx = {}\n",
    "for i,g in enumerate(de_genes_age_minor_signif_merfish.gene.unique()):\n",
    "    gene_idx[g] = i\n",
    "\n",
    "n_genes = len(de_genes_age_minor_signif_merfish.gene.unique())\n",
    "n_celltypes = len(clust_order)\n",
    "\n",
    "de_subtypes_pos = np.zeros((n_celltypes, n_genes))#pd.DataFrame(index=de_genes_age_minor_signif.cell_type.unique(), columns=de_genes_age_minor_signif.gene.unique(),data=0)\n",
    "de_subtypes_neg = np.zeros((n_celltypes, n_genes))#pd.DataFrame(index=de_genes_age_minor_signif.cell_type.unique(), columns=de_genes_age_minor_signif.gene.unique(),data=0)\n",
    "\n",
    "for n,i in enumerate(clust_order):\n",
    "    curr_type = i#.get_text()\n",
    "    curr_de = de_genes_age_minor_signif_merfish[de_genes_age_minor_signif_merfish.cell_type==curr_type]\n",
    "    #curr_de.at(curr_type, curr_)\n",
    "    for g,c in zip(curr_de.gene, curr_de.coef):\n",
    "        curr_gene_idx = gene_idx[g]\n",
    "        if c > 0:\n",
    "            de_subtypes_pos[n, curr_gene_idx] = 1\n",
    "        else:\n",
    "            de_subtypes_neg[n, curr_gene_idx]  = -1\n",
    "de_subtypes = de_subtypes_pos + de_subtypes_neg#np.hstack((de_subtypes_pos, de_subtypes_neg))#pd.concat([de_subtypes_pos, de_subtypes_neg],axis=1)\n",
    "pos_points = np.argwhere(de_subtypes>0)\n",
    "neg_points = np.argwhere(de_subtypes<0)\n",
    "sorted_gene_idx = np.argsort(np.sum(de_subtypes,0))[::-1]\n"
   ]
  },
  {
   "cell_type": "code",
   "execution_count": null,
   "metadata": {},
   "outputs": [],
   "source": [
    "sns.set_style('white')\n",
    "f = plt.figure(figsize=(10,6))\n",
    "\n",
    "gs = plt.GridSpec(figure=f,ncols=2, nrows=2,width_ratios=[1,10], height_ratios=[3,10],wspace=0.1,hspace=0.1)\n",
    "ax = plt.subplot(gs[0])\n",
    "ax.bar(np.arange(de_subtypes.shape[1]), np.sum(de_subtypes_pos[:,sorted_gene_idx],0),width=1,color='salmon',lw=0,rasterized=True)\n",
    "ax.bar(np.arange(de_subtypes.shape[1]), np.sum(de_subtypes_neg[:,sorted_gene_idx],0),width=1,color='skyblue',lw=0,rasterized=True)\n",
    "\n",
    "ax.set_xlim([0, de_subtypes.shape[1]])\n",
    "ax.set_xticklabels([])\n",
    "ax.set_ylim([-20,20])\n",
    "sns.despine(ax=ax,left=True)\n",
    "\n",
    "ax = plt.subplot(gs[1])\n",
    "ax.imshow(de_subtypes[:,sorted_gene_idx],aspect='auto',interpolation='nearest',vmin=-1,vmax=1,cmap=mpl.colors.ListedColormap(['skyblue','white','salmon']),rasterized=True)\n",
    "#ax.set_xlim([0,de_subtypes.shape[1]])\n",
    "#ax.set_ylim([0,de_subtypes.shape[0]])\n",
    "ax.set_yticks(np.arange(len(clust_order)))\n",
    "ax.set_yticklabels(clust_order,fontsize=6);\n",
    "ax.set_xlabel('Genes')\n",
    "ax.set_xticks([])\n",
    "sns.despine(ax=ax)\n",
    "\n",
    "#plt.savefig(\"/home/user/Dropbox/zhuang_lab/aging/aging_atlas_paper/figures_int/fig3_shared_de_merfish.pdf\",dpi=300,bbox_inches='tight')"
   ]
  },
  {
   "cell_type": "code",
   "execution_count": null,
   "metadata": {},
   "outputs": [],
   "source": []
  },
  {
   "cell_type": "code",
   "execution_count": null,
   "metadata": {
    "scrolled": true
   },
   "outputs": [],
   "source": [
    "ttest_de_clust = {}\n",
    "for i in adata10x.obs.clust_annot.unique():\n",
    "    print(i)\n",
    "    try:\n",
    "        if i not in ttest_de_clust:\n",
    "            ttest_de_clust[i] = run_ttest_de_age(adata10x[adata10x.obs.clust_annot==i],lognorm=True, grouping='clust_annot')\n",
    "    except Exception as e:\n",
    "        print(e)"
   ]
  },
  {
   "cell_type": "code",
   "execution_count": null,
   "metadata": {},
   "outputs": [],
   "source": [
    "ttest_de_clust_df = []\n",
    "for v in ttest_de_clust.values():\n",
    "    df = list(v.values())[0]\n",
    "    df['cell_type'] = list(v.keys())[0]\n",
    "    ttest_de_clust_df.append(df)\n",
    "\n",
    "ttest_de_clust_df = pd.concat(ttest_de_clust_df)\n",
    "ttest_de_clust_df.pval = [float(i) for i in ttest_de_clust_df.pval]\n",
    "ttest_de_clust_df.qval = [float(i) for i in ttest_de_clust_df.qval]\n",
    "\n",
    "ttest_de_clust_df = ttest_de_clust_df[~np.isnan(ttest_de_clust_df.qval)]"
   ]
  },
  {
   "cell_type": "code",
   "execution_count": null,
   "metadata": {},
   "outputs": [],
   "source": [
    "#ttest_de_clust_df.to_csv(\"/home/user/src/tithonus/analysis/merfish/gene_lists/glm_nb_de_minor_age_V3_nools.csv\")"
   ]
  },
  {
   "cell_type": "code",
   "execution_count": null,
   "metadata": {},
   "outputs": [],
   "source": [
    "#glm_de_clust_df.to_csv(\"/home/user/src/tithonus/analysis/merfish/gene_lists/glm_nb_de_minor_age.csv\")"
   ]
  },
  {
   "cell_type": "code",
   "execution_count": null,
   "metadata": {},
   "outputs": [],
   "source": [
    "#ttest_de_clust_df = pd.read_csv(\"/home/user/src/tithonus/analysis/merfish/gene_lists/glm_nb_de_minor_age.csv\")\n",
    "ttest_de_celltype_df = pd.read_csv(\"/home/user/src/tithonus/analysis/merfish/gene_lists/glm_nb_de_major_age.csv\")"
   ]
  },
  {
   "cell_type": "code",
   "execution_count": null,
   "metadata": {},
   "outputs": [],
   "source": [
    "ttest_de_clust_df = pd.read_csv(\"/home/user/src/tithonus/analysis/merfish/gene_lists/glm_nb_de_minor_age_V3_nools.csv\")\n",
    "#ttest_de_clust_df = pd.read_csv(\"/home/user/src/tithonus/analysis/merfish/gene_lists/glm_nb_de_minor_age.csv\")\n"
   ]
  },
  {
   "cell_type": "code",
   "execution_count": null,
   "metadata": {},
   "outputs": [],
   "source": [
    "# for v2\n",
    "de_genes_age_minor_signif = ttest_de_clust_df[np.logical_and(np.abs(ttest_de_clust_df.coef) > np.log(2.5), ttest_de_clust_df.qval<0.05)]\n",
    "#de_genes_age_major_signif = ttest_de_celltype_df[np.logical_and(np.abs(ttest_de_celltype_df.coef) > np.log(1.25), ttest_de_celltype_df.qval<0.05)]"
   ]
  },
  {
   "cell_type": "code",
   "execution_count": null,
   "metadata": {},
   "outputs": [],
   "source": [
    "de_genes_age_minor_signif = de_genes_age_minor_signif[~np.isinf(de_genes_age_minor_signif.coef)]\n",
    "#de_genes_age_major_signif = de_genes_age_major_signif[~np.isinf(de_genes_age_major_signif.coef)]"
   ]
  },
  {
   "cell_type": "code",
   "execution_count": null,
   "metadata": {},
   "outputs": [],
   "source": [
    "gene_idx = {}\n",
    "for i,g in enumerate(de_genes_age_minor_signif.gene.unique()):\n",
    "    gene_idx[g] = i\n",
    "\n",
    "n_genes = len(de_genes_age_minor_signif.gene.unique())\n",
    "n_celltypes = len(de_clust_order)\n",
    "\n",
    "de_subtypes_pos = np.zeros((n_celltypes, n_genes))#pd.DataFrame(index=de_genes_age_minor_signif.cell_type.unique(), columns=de_genes_age_minor_signif.gene.unique(),data=0)\n",
    "de_subtypes_neg = np.zeros((n_celltypes, n_genes))#pd.DataFrame(index=de_genes_age_minor_signif.cell_type.unique(), columns=de_genes_age_minor_signif.gene.unique(),data=0)\n",
    "\n",
    "for n,i in enumerate(de_clust_order):\n",
    "    curr_type = i#.get_text()\n",
    "    curr_de = de_genes_age_minor_signif[de_genes_age_minor_signif.cell_type==curr_type]\n",
    "    #curr_de.at(curr_type, curr_)\n",
    "    for g,c in zip(curr_de.gene, curr_de.coef):\n",
    "        curr_gene_idx = gene_idx[g]\n",
    "        if c > 0:\n",
    "            de_subtypes_pos[n, curr_gene_idx] = 1\n",
    "        else:\n",
    "            de_subtypes_neg[n, curr_gene_idx]  = -1\n",
    "de_subtypes = de_subtypes_pos + de_subtypes_neg#np.hstack((de_subtypes_pos, de_subtypes_neg))#pd.concat([de_subtypes_pos, de_subtypes_neg],axis=1)\n",
    "pos_points = np.argwhere(de_subtypes>0)\n",
    "neg_points = np.argwhere(de_subtypes<0)\n",
    "sorted_gene_idx = np.argsort(np.sum(de_subtypes,0))[::-1]\n"
   ]
  },
  {
   "cell_type": "code",
   "execution_count": null,
   "metadata": {},
   "outputs": [],
   "source": [
    "#de_genes_age_minor_signif = de_genes_age_minor[np.logical_and(de_genes_age_minor.qval<0.05,\n",
    "#                                                              np.log2(np.exp(np.abs(de_genes_age_minor.coef)))>1)]\n",
    "clust_idx = np.array([np.argwhere(np.array(list(label_colors.keys())) == i)[0][0] for i in de_clust_order])\n",
    "clust_idx_cmap = mpl.colors.ListedColormap(list(label_colors.values()))\n",
    "\n"
   ]
  },
  {
   "cell_type": "code",
   "execution_count": null,
   "metadata": {},
   "outputs": [],
   "source": [
    "sns.set_style('white')\n",
    "f, ax = plt.subplots(figsize=(8,3), nrows=3, gridspec_kw={'hspace':0.05, 'height_ratios':[10,1,10]})\n",
    "for i in [50,100,150,200,250]:\n",
    "    ax[0].axhline(i,color='gray',linestyle='--',lw=1)\n",
    "    ax[2].axhline(-i,color='gray',linestyle='--',lw=1)\n",
    "\n",
    "sns.barplot(x='gene', y='de',\n",
    "            data=pd.DataFrame(data={'gene': de_genes_age_minor_signif.cell_type.unique(), \n",
    "                                    'de':[de_genes_age_minor_signif[np.logical_and(de_genes_age_minor_signif.cell_type==i, de_genes_age_minor_signif.coef>0)].shape[0] for i in de_genes_age_minor_signif.cell_type.unique()]}),\n",
    "            order=de_clust_order,color='salmon',ax=ax[0])\n",
    "ax[0].set_xticks([])\n",
    "ax[0].set_xlabel(\"\")\n",
    "ax[0].set_ylim([0,200])\n",
    "\n",
    "sns.despine(ax=ax[0],bottom=True)\n",
    "\n",
    "ax[1].imshow(np.expand_dims(clust_idx,1).T,aspect='auto',interpolation='none',cmap=clust_idx_cmap)\n",
    "ax[1].axis('off')\n",
    "sns.barplot(x='gene', y='de',\n",
    "            data=pd.DataFrame(data={'gene': de_genes_age_minor_signif.cell_type.unique(), \n",
    "                                    'de':[-de_genes_age_minor_signif[np.logical_and(de_genes_age_minor_signif.cell_type==i, de_genes_age_minor_signif.coef<0)].shape[0] for i in de_genes_age_minor_signif.cell_type.unique()]}),\n",
    "            order=de_clust_order,color='skyblue',ax=ax[2])\n",
    "ax[2].set_xticklabels(ax[2].get_xticklabels(),rotation = 90);\n",
    "sns.despine(ax=ax[2])\n",
    "ax[2].set_ylim([-200,0])\n",
    "#plt.savefig(\"/home/user/Dropbox/zhuang_lab/aging/aging_atlas_paper/figures_int/figS4_num_de_V3_thresh2.5.pdf\",dpi=300,bbox_inches='tight')"
   ]
  },
  {
   "cell_type": "code",
   "execution_count": null,
   "metadata": {},
   "outputs": [],
   "source": [
    "for i in de_genes_age_minor_signif.cell_type.unique():\n",
    "    print(i,de_genes_age_minor_signif[de_genes_age_minor_signif.cell_type==i].shape) "
   ]
  },
  {
   "cell_type": "code",
   "execution_count": null,
   "metadata": {},
   "outputs": [],
   "source": [
    "for i in de_genes_age_major_signif.cell_type.unique():\n",
    "    print(i,de_genes_age_major_signif[de_genes_age_major_signif.cell_type==i].shape)"
   ]
  },
  {
   "cell_type": "code",
   "execution_count": null,
   "metadata": {},
   "outputs": [],
   "source": [
    "# get coef for all the genes\n",
    "all_de_genes = list(de_genes_age_minor_signif.gene.unique())\n",
    "good_ct = []\n",
    "all_de_coef = np.zeros((len(all_de_genes), len( de_genes_age_minor_signif.cell_type.unique())))\n",
    "for j,ct in enumerate(de_genes_age_minor_signif.cell_type.unique()):\n",
    "    curr_de = ttest_de_clust_df[ttest_de_clust_df.cell_type==ct]\n",
    "    if curr_de.shape[0] > 0:\n",
    "        good_ct.append(ct)\n",
    "    print(ct, curr_de.shape)\n",
    "    for i in tqdm(range(len(all_de_genes))):\n",
    "        curr_coef = curr_de[curr_de.gene==all_de_genes[i]].coef\n",
    "        if len(curr_coef) > 0:\n",
    "            all_de_coef[i,j] = curr_coef.values[0]\n",
    "        else:\n",
    "            all_de_coef[i,j] = 0\n",
    "        #all_de_coef[i,j] = ttest_de_clust_df[np.logical_and(ttest_de_clust_df.cell_type==ct, ttest_de_clust_df.gene==all_de_genes[i])].coef"
   ]
  },
  {
   "cell_type": "code",
   "execution_count": null,
   "metadata": {},
   "outputs": [],
   "source": [
    "from utils import order_values"
   ]
  },
  {
   "cell_type": "code",
   "execution_count": null,
   "metadata": {},
   "outputs": [],
   "source": [
    "all_de_coef[np.isnan(all_de_coef)] = 0\n",
    "all_de_coef[np.isinf(all_de_coef)] = all_de_coef.max()"
   ]
  },
  {
   "cell_type": "code",
   "execution_count": null,
   "metadata": {},
   "outputs": [],
   "source": [
    "all_de_coef = pd.DataFrame(data=all_de_coef,index=all_de_genes, columns=de_genes_age_minor_signif.cell_type.unique())\n",
    "cl = sns.clustermap(all_de_coef,cmap=plt.cm.seismic,vmin=-5,vmax=5, method='complete',\n",
    "                    metric='cosine',figsize=(10,20),z_score=None)"
   ]
  },
  {
   "cell_type": "code",
   "execution_count": null,
   "metadata": {},
   "outputs": [],
   "source": [
    "f,axes = plt.subplots(figsize=(20,5),ncols=2, gridspec_kw={'width_ratios':[0.25,20],'wspace':0.01})\n",
    "colnames = np.array(list(de_genes_age_minor_signif.cell_type.unique()))[cl.dendrogram_col.reordered_ind]\n",
    "ax = axes[0]\n",
    "ax.set_yticks(np.arange(len(colnames)));\n",
    "ax.set_yticklabels(colnames);\n",
    "sns.despine(ax=ax,left=True,bottom=True)\n",
    "ax.set_xticks([])\n",
    "ax.imshow(np.expand_dims(np.arange(len(colnames)),0).T,aspect='auto',interpolation='none',cmap=mpl.colors.ListedColormap([label_colors[i] for i in colnames]),rasterized=True)\n",
    "ax = axes[1]\n",
    "ax.imshow(all_de_coef.values[:,cl.dendrogram_col.reordered_ind][cl.dendrogram_row.reordered_ind,:].T,aspect='auto',interpolation='nearest',vmin=-3,vmax=3,cmap=plt.cm.seismic,rasterized=True)\n",
    "ax.set_yticks([])\n",
    "ax.set_xticks([])\n",
    "ax.set_xlabel('Genes')\n",
    "sns.despine(ax=ax,left=True,bottom=True)\n",
    "plt.savefig(\"/home/user/Dropbox/zhuang_lab/aging/aging_atlas_paper/figures_int/figS4_shared_de.pdf\",dpi=300,bbox_inches='tight')"
   ]
  },
  {
   "cell_type": "code",
   "execution_count": null,
   "metadata": {},
   "outputs": [],
   "source": [
    "bad_top_terms = ['GO:0009987', 'GO:0008150']\n",
    "\n",
    "~np.any([True if i in bad_top_terms else False for i in temp.parents.iloc[0] ])"
   ]
  },
  {
   "cell_type": "code",
   "execution_count": null,
   "metadata": {},
   "outputs": [],
   "source": [
    "def get_genes_for_celltype(de, name, direction=None):\n",
    "    clust_names = de.cell_type.unique()\n",
    "    if direction == \"pos\":\n",
    "        de = de[de.coef>=0]\n",
    "    elif direction == \"neg\":\n",
    "        de = de[de.coef<0]\n",
    "    return de[de.cell_type.isin([i for i in clust_names if name in i])].gene.unique()\n",
    "\n",
    "# code from: https://github.com/klarman-cell-observatory/inCITE-seq/blob/main/notebooks/inCITE_tools.ipynb\n",
    "def parse_GO_query(gene_list, species, db_to_keep='all'): \n",
    "    if db_to_keep=='all': \n",
    "        db_to_keep = ['GO:BP', 'GO:MF', 'KEGG', 'REAC', 'TF']\n",
    "    GO_df = sc.queries.enrich(list(gene_list), org=species)\n",
    "    GO_df = GO_df[GO_df['significant']==True]\n",
    "    GO_df = GO_df[GO_df['source'].isin(db_to_keep)]\n",
    "    return GO_df\n",
    "\n",
    "def sig_genes_GO_query(sig_genes, clust_lim=1000, source=['GO:BP']):\n",
    "    bad_top_terms = ['GO:0009987', 'GO:0008150']\n",
    "    GO_results = pd.DataFrame([],columns=['source','name','p_value','description','native','parents'])\n",
    "    clust_ct = 0\n",
    "    idx_ct = 0\n",
    "    GO_df = parse_GO_query(sig_genes,'mmusculus',source)\n",
    "    if len(GO_df)>0:\n",
    "        for index, row in GO_df.iterrows():\n",
    "            if clust_ct<clust_lim:\n",
    "                if ~np.any([True if i in bad_top_terms else False for i in row['parents']]):\n",
    "                    # exclude top level terms\n",
    "                    GO_row = pd.DataFrame({'source':row['source'],\n",
    "                                         'name':row['name'],'p_value':row['p_value'],\n",
    "                                         'description':row['description'], \n",
    "                                         'native':row['native'], 'parents':[row['parents']]},\n",
    "                                            index=[idx_ct])\n",
    "                    clust_ct+=1\n",
    "                    idx_ct+=1\n",
    "                    GO_results = pd.concat([GO_results, GO_row])\n",
    "    return GO_results\n",
    "\n",
    "def plot_GO_terms(df,alpha,filename,colormap='#d3d3d3',xlims=[0,20],ax=None): \n",
    "    \n",
    "    # add color column\n",
    "    if colormap != '#d3d3d3': \n",
    "        df['color'] = df['cluster'].map(colormap)\n",
    "        color=df['color']\n",
    "    else: \n",
    "        color=colormap\n",
    "    \n",
    "    df = df.loc[df['p_value']<=alpha]\n",
    "    \n",
    "    fig_height = df.shape[0]*(1/10)\n",
    "    if ax is None:\n",
    "        fig, ax = plt.subplots(figsize=(3,fig_height))\n",
    "    y_pos = np.arange(df.shape[0])\n",
    "    log10p = -np.log10(df['p_value'].tolist())\n",
    "    df['-log10p'] = log10p\n",
    "    \n",
    "    sns.reset_orig()\n",
    "    ax.barh(y_pos, log10p, align='center', color=color)\n",
    "    ax.set_yticks(y_pos)\n",
    "#     ax.set_yticklabels(df['native']+':'+df['name'],fontsize=6)\n",
    "    ax.set_yticklabels(df['name'],fontsize=6)\n",
    "    ax.invert_yaxis()\n",
    "    ax.set_xlabel('-log10(P)')\n",
    "    ax.set_xlim(xlims)\n",
    "    ax.spines['top'].set_visible(False)\n",
    "    ax.spines['right'].set_visible(False)\n",
    "    ax.spines['bottom'].set_linewidth(1)\n",
    "#     plt.show()\n",
    "    #figname = '%s/GO_hbar_%s.pdf' %(sc.settings.figdir, filename)\n",
    "    #print('Saving to %s' %figname)\n",
    "    #fig.savefig(figname, bbox_inches='tight')\n",
    "\n",
    "def get_sig_genes_for_celltype(de_df, cell_type, log2_thresh=np.log2(2), qval_thresh=0.05):\n",
    "    res = de_df[de_df.cell_type==cell_type].dropna()\n",
    "    #res.pval = multipletests(res.qval, method='fdr_bh')[1]\n",
    "    good_genes = np.logical_and(res.qval<qval_thresh, np.abs(res.log2fc)>log2_thresh)\n",
    "    return list(res.gene[good_genes])\n",
    "\n",
    "    return list(res.gene[good_genes])\n",
    "def get_sig_genes_for_aging(de_df, cell_type, log2_thresh=np.log2(2), pval_thresh=0.05):\n",
    "    res = de_df[de_df.cell_type==cell_type].dropna()\n",
    "    res.coef = np.log2(np.exp(res.coef))\n",
    "    res.pval = multipletests(res.pval, method='fdr_bh')[1]\n",
    "    res = res.sort_values('coef')\n",
    "    good_genes = np.logical_and(res.pval<pval_thresh, np.abs(res.coef)>log2_thresh)\n",
    "    return list(res.gene[good_genes])"
   ]
  },
  {
   "cell_type": "code",
   "execution_count": null,
   "metadata": {},
   "outputs": [],
   "source": [
    "from goatools import obo_parser"
   ]
  },
  {
   "cell_type": "code",
   "execution_count": null,
   "metadata": {},
   "outputs": [],
   "source": [
    "from goatools.base import download_ncbi_associations\n",
    "gene2go = download_ncbi_associations()\n"
   ]
  },
  {
   "cell_type": "code",
   "execution_count": null,
   "metadata": {},
   "outputs": [],
   "source": [
    "from goatools.base import download_go_basic_obo\n",
    "#obo_fname = download_go_basic_obo()\n",
    "from goatools.anno.genetogo_reader import Gene2GoReader\n",
    "\n",
    "objanno = Gene2GoReader(\"gene2go\", taxids=[10090])\n",
    "go2geneids_mus = objanno.get_id2gos(namespace='BP', go2geneids=True)\n"
   ]
  },
  {
   "cell_type": "code",
   "execution_count": null,
   "metadata": {},
   "outputs": [],
   "source": [
    "from goatools.go_search import GoSearch\n",
    "\n",
    "srchhelp = GoSearch(\"go-basic.obo\", go2items=go2geneids_human)\n"
   ]
  },
  {
   "cell_type": "code",
   "execution_count": null,
   "metadata": {},
   "outputs": [],
   "source": [
    "id_to_sym = {}\n",
    "for r,i in pd.read_table(\"entrez_gene_ids.txt\").iterrows():\n",
    "    id_to_sym[i['GeneID']] = i['Symbol']"
   ]
  },
  {
   "cell_type": "code",
   "execution_count": null,
   "metadata": {},
   "outputs": [],
   "source": [
    "def get_genes_for_go_term(go_id):\n",
    "    gos = srchhelp.add_children_gos([go_id])\n",
    "    ids = srchhelp.get_items(gos)\n",
    "    return [id_to_sym[geneid] for geneid in ids if geneid in id_to_sym]#{geneid: id_to_sym[geneid] for geneid in ids if geneid in id_to_sym}\n"
   ]
  },
  {
   "cell_type": "code",
   "execution_count": null,
   "metadata": {},
   "outputs": [],
   "source": [
    "merfish_genes = list(ttest_de_clust_df.gene.unique())"
   ]
  },
  {
   "cell_type": "code",
   "execution_count": null,
   "metadata": {},
   "outputs": [],
   "source": [
    "ttest_de_clust_df = pd.read_csv(\"gene_lists/glm_nb_de_minor_age_V3_nools.csv\")\n",
    "de_genes_age_minor_signif_high = ttest_de_clust_df[np.logical_and(np.log2(np.exp(np.abs(ttest_de_clust_df.coef))) > np.log2(2), ttest_de_clust_df.qval<0.05)]\n",
    "\n"
   ]
  },
  {
   "cell_type": "code",
   "execution_count": null,
   "metadata": {},
   "outputs": [],
   "source": [
    "cell_types = [\"Endo\", \"Astro\", \"Micro\",\"Olig\", \"ExN\", \"InN\", \"MSN\",\"OPC\"]\n"
   ]
  },
  {
   "cell_type": "code",
   "execution_count": null,
   "metadata": {},
   "outputs": [],
   "source": [
    "n_ct = len(cell_types)\n",
    "f, axes = plt.subplots(nrows=1,ncols=8, figsize=(20,5),gridspec_kw={'wspace':1})\n",
    "k = 0\n",
    "for i in range(8):\n",
    "    ax = axes[i]\n",
    "    genes_pos = get_genes_for_celltype(de_genes_age_minor_signif_high, cell_types[k],\"pos\")\n",
    "    go_terms = sig_genes_GO_query(genes_pos, source=['GO:BP','KEGG']).head(10)\n",
    "    print(cell_types[i], len(genes_pos))\n",
    "    plot_GO_terms(go_terms, 1, \"\",xlims=[0,15],ax=ax)\n",
    "    ax.set_title(cell_types[k])\n",
    "    for l in ax.get_yticklabels():\n",
    "        print(l.get_text())\n",
    "        if go_terms[go_terms.name==l.get_text()].source.iloc[0] == \"KEGG\":\n",
    "            l.set_color('r')\n",
    "    k += 1\n",
    "    print(\"--------------\")\n",
    "plt.savefig(\"/home/user/Dropbox/zhuang_lab/aging/aging_atlas_paper/figures_int/figS5_go_pos_V3.pdf\",dpi=300,bbox_inches='tight')"
   ]
  },
  {
   "cell_type": "code",
   "execution_count": null,
   "metadata": {},
   "outputs": [],
   "source": [
    "from Bio.KEGG import REST\n",
    "import io\n",
    "def to_df(result):\n",
    "    return pd.read_table(io.StringIO(result), header=None)\n",
    "\n",
    "def load_pathway(path_id):\n",
    "    genes = []\n",
    "    pathway_file = REST.kegg_get(path_id).read()  # query and read each pathway\n",
    "\n",
    "    # iterate through each KEGG pathway file, keeping track of which section\n",
    "    # of the file we're in, only read the gene in each pathway\n",
    "    current_section = None\n",
    "    for line in pathway_file.rstrip().split(\"\\n\"):\n",
    "        section = line[:12].strip()  # section names are within 12 columns\n",
    "        if not section == \"\":\n",
    "            current_section = section\n",
    "\n",
    "        if current_section == \"GENE\":\n",
    "            gene_identifiers, gene_description = line[12:].split(\"; \")\n",
    "            gene_id, gene_symbol = gene_identifiers.split()\n",
    "\n",
    "            if not gene_symbol in genes:\n",
    "                genes.append(gene_symbol)\n",
    "    return genes\n",
    "\n"
   ]
  },
  {
   "cell_type": "code",
   "execution_count": null,
   "metadata": {},
   "outputs": [],
   "source": [
    "n_ct = len(cell_types)\n",
    "f, axes = plt.subplots(nrows=1,ncols=7, figsize=(20,5),gridspec_kw={'wspace':1})\n",
    "k = 0\n",
    "for i in range(7):\n",
    "    ax = axes[i]\n",
    "    genes_pos = get_genes_for_celltype(de_genes_age_minor_signif_high, cell_types[k],\"pos\")\n",
    "    go_terms = sig_genes_GO_query(genes_pos,source=['GO','KEGG']).head(10)\n",
    "    plot_GO_terms(go_terms, 1, \"\",xlims=[0,10],ax=ax)\n",
    "    ax.set_title(cell_types[k])\n",
    "\n",
    "    k += 1\n",
    "    print(\"--------------\")\n",
    "plt.savefig(\"/home/user/Dropbox/zhuang_lab/aging/aging_atlas_paper/figures_int/figS5_go_pos.pdf\",dpi=300,bbox_inches='tight')\n"
   ]
  },
  {
   "cell_type": "code",
   "execution_count": null,
   "metadata": {},
   "outputs": [],
   "source": [
    "n_ct = len(cell_types)\n",
    "f, axes = plt.subplots(nrows=1,ncols=7, figsize=(20,5),gridspec_kw={'wspace':1})\n",
    "#plt.figure(figsize=(20,20))\n",
    "k = 0\n",
    "for i in range(7):\n",
    "    ax = axes[i]\n",
    "    genes_pos = get_genes_for_celltype(de_genes_age_minor_signif_high, cell_types[k],\"pos\")\n",
    "    go_terms = sig_genes_GO_query(genes_pos, source=['KEGG']).head(15)\n",
    "\n",
    "    plot_GO_terms(go_terms, 1, \"\",xlims=[0,20],ax=ax)\n",
    "    ax.set_title(cell_types[k])\n",
    "    k += 1\n",
    "    \n",
    "#plt.savefig(\"/home/user/Dropbox/zhuang_lab/aging/aging_atlas_paper/figures_int/figS5_go_pos.pdf\",dpi=300,bbox_inches='tight')\n",
    "#genes_neg = get_genes_for_celltype(de_genes_age_minor_signif, cell_types[i],\"neg\")"
   ]
  },
  {
   "cell_type": "code",
   "execution_count": null,
   "metadata": {},
   "outputs": [],
   "source": [
    "# get genes for each GO term"
   ]
  },
  {
   "cell_type": "code",
   "execution_count": null,
   "metadata": {},
   "outputs": [],
   "source": [
    "n_ct = len(cell_types)\n",
    "f, axes = plt.subplots(nrows=2,ncols=5, figsize=(20,10),gridspec_kw={'wspace':1})\n",
    "#plt.figure(figsize=(20,20))\n",
    "k = 0\n",
    "for i in range(5):\n",
    "    for j in range(2):\n",
    "        ax = axes[j,i]\n",
    "        genes_pos = get_genes_for_celltype(de_genes_age_minor_signif, cell_types[k],\"pos\")\n",
    "        go_terms = sig_genes_GO_query(genes_pos).head(15)\n",
    "\n",
    "        plot_GO_terms(go_terms, 1, \"\",xlims=[0,10],ax=ax)\n",
    "        ax.set_title(cell_types[k])\n",
    "        k += 1\n",
    "    \n",
    "#plt.savefig(\"/home/user/Dropbox/zhuang_lab/aging/aging_atlas_paper/figures_int/figS5_go_pos.pdf\",dpi=300,bbox_inches='tight')\n",
    "#genes_neg = get_genes_for_celltype(de_genes_age_minor_signif, cell_types[i],\"neg\")"
   ]
  },
  {
   "cell_type": "code",
   "execution_count": null,
   "metadata": {},
   "outputs": [],
   "source": [
    "n_ct = len(cell_types)\n",
    "f, axes = plt.subplots(nrows=2,ncols=5, figsize=(20,10),gridspec_kw={'wspace':1})\n",
    "#plt.figure(figsize=(20,20))\n",
    "k = 0\n",
    "for i in range(5):\n",
    "    for j in range(2):\n",
    "        ax = axes[j,i]\n",
    "        genes_pos = get_genes_for_celltype(de_genes_age_minor_signif, cell_types[k],\"neg\")\n",
    "        go_terms = sig_genes_GO_query(genes_pos).head(15)\n",
    "\n",
    "        plot_GO_terms(go_terms, 1, \"\",xlims=[0,20],ax=ax)\n",
    "        ax.set_title(cell_types[k])\n",
    "        k += 1\n",
    "plt.savefig(\"/home/user/Dropbox/zhuang_lab/aging/aging_atlas_paper/figures_int/figS5_go_neg.pdf\",dpi=300,bbox_inches='tight')\n",
    "    \n",
    "\n",
    "#genes_neg = get_genes_for_celltype(de_genes_age_minor_signif, cell_types[i],\"neg\")"
   ]
  }
 ],
 "metadata": {
  "kernelspec": {
   "display_name": "Python 3.8.1 64-bit ('scrnaseq': conda)",
   "language": "python",
   "name": "python38164bitscrnaseqcondaced2695c94d346d998c0cef2164233d9"
  },
  "language_info": {
   "codemirror_mode": {
    "name": "ipython",
    "version": 3
   },
   "file_extension": ".py",
   "mimetype": "text/x-python",
   "name": "python",
   "nbconvert_exporter": "python",
   "pygments_lexer": "ipython3",
   "version": "3.8.1"
  }
 },
 "nbformat": 4,
 "nbformat_minor": 4
}
