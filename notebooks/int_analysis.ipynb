{
 "cells": [
  {
   "cell_type": "code",
   "execution_count": null,
   "metadata": {},
   "outputs": [],
   "source": [
    "%load_ext autoreload\n",
    "%autoreload 2\n",
    "import scanpy as sc\n",
    "import matplotlib.pyplot as plt\n",
    "import numpy as np\n",
    "import matplotlib as mpl\n",
    "import os\n",
    "import anndata as ad\n",
    "mpl.rcParams['figure.dpi'] = 80\n",
    "plt.rcParams['pdf.fonttype'] = 42\n",
    "\n",
    "import pandas as pd\n",
    "import sys\n",
    "from spatial_analysis import *\n",
    "from plotting import *"
   ]
  },
  {
   "cell_type": "markdown",
   "metadata": {},
   "source": [
    "# Functions"
   ]
  },
  {
   "cell_type": "code",
   "execution_count": null,
   "metadata": {},
   "outputs": [],
   "source": [
    "def save_fig(f, name, dtype=\"png\"):\n",
    "    f.savefig(f\"/home/user/Dropbox/zhuang_lab/aging/aging_atlas_paper_v2/figures_imputed/{name}.\"+dtype,bbox_inches=\"tight\",dpi=200)\n",
    "    \n",
    "from collections import Counter\n",
    "def majority_vote(votes):\n",
    "    return Counter(votes).most_common()[0][0]\n",
    "\n",
    "def impute_celltype(pc_A, pc_B, celltype_B, k=10, n_per_batch=1000):\n",
    "    \"\"\"\n",
    "    Construct a kNN lookup for pc_B, then use to compute values of celltype for each cell in pc_A\n",
    "    \"\"\"\n",
    "    n_lookup = pc_A.shape[0]\n",
    "    bt = KDTree(pc_B)\n",
    "    \n",
    "    # divide up into chunks of n_per_batch\n",
    "    combined_ct = []\n",
    "    for i in tqdm(range(0, n_lookup, n_per_batch)):\n",
    "        dist,ind = bt.query(pc_A[i:(i+n_per_batch),:],k=k)\n",
    "        curr_ct = []\n",
    "        for idx in ind:\n",
    "            curr_vals = celltype_B[idx]\n",
    "            ct = majority_vote(curr_vals)\n",
    "            curr_ct.append(ct)\n",
    "        combined_ct.extend(curr_ct)\n",
    "    return np.array(combined_ct)\n",
    "                    \n",
    "\n",
    "def unbinarize_strings(A):\n",
    "    A.var_names = [i.decode('ascii') for i in A.var_names]\n",
    "    A.obs.index = [i.decode('ascii') for i in A.obs.index]\n",
    "    for i in A.obs.columns:\n",
    "        if A.obs[i].dtype != np.dtype('bool') and \\\n",
    "            A.obs[i].dtype != np.dtype('int64') and \\\n",
    "            A.obs[i].dtype != np.dtype('int32') and \\\n",
    "            A.obs[i].dtype != np.dtype('object_') and \\\n",
    "            A.obs[i].dtype != np.dtype('float64') and A.obs[i].dtype != np.dtype('float32'):\n",
    "            if A.obs[i].dtype.is_dtype('category'):\n",
    "                try:\n",
    "                    A.obs[i] = [i.decode('ascii') for i in A.obs[i]]\n",
    "                except Exception as e:\n",
    "                    pass\n",
    "    return A\n",
    "\n",
    "markers = ['Snap25', 'Aldh1l1', 'Trem2', 'Olig1', 'Olig2', 'Gad2','Gad1', 'Slc17a7', 'Sst', 'Pvalb', 'Cux2']\n",
    "\n",
    "import warnings\n",
    "warnings.simplefilter(action='ignore', category=FutureWarning)\n",
    "warnings.simplefilter(action='ignore', category=UserWarning)\n",
    "import numpy as np\n",
    "\n",
    "def normalize_data(data):\n",
    "    #return (data - np.percentile(data,5)) / (np.percentile(data,95) - np.percentile(data,5))\n",
    "    return (data-np.min(data))/(np.max(data) - np.min(data))\n",
    "\n",
    "def identify_variable_genes(adata,markers=None,theta=100,n_top_genes=2000, do_plot=False):\n",
    "    sc.experimental.pp.highly_variable_genes(\n",
    "        adata, flavor=\"pearson_residuals\", n_top_genes=n_top_genes, theta=theta,\n",
    "    )\n",
    "    if do_plot:\n",
    "        # plot gene expression\n",
    "        ax = plt.axes()\n",
    "        hvgs = adata.var[\"highly_variable\"]\n",
    "\n",
    "        ax.scatter(\n",
    "            adata.var[\"mean_counts\"], adata.var[\"residual_variances\"], s=3, edgecolor=\"none\"\n",
    "        )\n",
    "        ax.scatter(\n",
    "            adata.var[\"mean_counts\"][hvgs],\n",
    "            adata.var[\"residual_variances\"][hvgs],\n",
    "            c=\"tab:red\",\n",
    "            label=\"selected genes\",\n",
    "            s=3,\n",
    "            edgecolor=\"none\",\n",
    "        )\n",
    "        if markers:\n",
    "            ax.scatter(\n",
    "                adata.var[\"mean_counts\"][np.isin(adata.var_names, markers)],\n",
    "                adata.var[\"residual_variances\"][np.isin(adata.var_names, markers)],\n",
    "                c=\"k\",\n",
    "                label=\"known marker genes\",\n",
    "                s=10,\n",
    "                edgecolor=\"none\",\n",
    "            )\n",
    "        ax.set_xscale(\"log\")\n",
    "        ax.set_xlabel(\"mean expression\")\n",
    "        ax.set_yscale(\"log\")\n",
    "        ax.set_ylabel(\"residual variance\")\n",
    "        #ax.set_title(adata.uns[\"name\"])\n",
    "\n",
    "        ax.spines[\"right\"].set_visible(False)\n",
    "        ax.spines[\"top\"].set_visible(False)\n",
    "        ax.yaxis.set_ticks_position(\"left\")\n",
    "        ax.xaxis.set_ticks_position(\"bottom\")\n",
    "        \n",
    "def compute_sqrt_norm(A):\n",
    "    A.layers[\"sqrt_norm\"] = np.sqrt(sc.pp.normalize_total(A, inplace=False)[\"X\"])\n",
    "    \n",
    "def normalize_10x_data(A,n_genes=2000,theta=100, identify_var_genes=True):\n",
    "\n",
    "    A.raw = A\n",
    "    \n",
    "    A.layers[\"raw\"] = A.X.copy()\n",
    "    A.layers[\"sqrt_norm\"] = np.sqrt(sc.pp.normalize_total(A, inplace=False)[\"X\"])\n",
    "    \n",
    "    if identify_var_genes:\n",
    "        identify_variable_genes(A, n_top_genes=n_genes, theta=theta)   \n",
    "        A = A[:, A.var[\"highly_variable\"]]\n",
    "    #print(\"Normalizing pearson\")\n",
    "    sc.experimental.pp.normalize_pearson_residuals(A)\n",
    "    return A\n",
    "\n",
    "from sklearn.neighbors import BallTree, KDTree\n",
    "from sklearn.neighbors import KNeighborsClassifier, KNeighborsRegressor\n",
    "from scipy.sparse import csr_matrix, vstack\n",
    "from tqdm import tqdm\n",
    "from joblib import delayed, Parallel\n",
    "\n",
    "def impute_expr_sparse(pc_A, pc_B, expr_B, k=10, n_per_batch=1000):\n",
    "    \"\"\"\n",
    "    Construct a kNN lookup for pc_B, then use to compute sparse expression values for each cell in pc_A, weighted by\n",
    "    \"\"\"\n",
    "    n_lookup = pc_A.shape[0]\n",
    "    bt = KDTree(pc_B)\n",
    "    \n",
    "    # divide up into chunks of n_per_batch\n",
    "    combined_expr = []\n",
    "    for i in tqdm(range(0, n_lookup, n_per_batch)):\n",
    "        dist,ind = bt.query(pc_A[i:(i+n_per_batch),:],k=k)\n",
    "        curr_expr = []\n",
    "        for idx in ind:\n",
    "            curr_expr.append(np.mean(expr_B[idx,:],0))\n",
    "        combined_expr.append(csr_matrix(np.vstack(curr_expr)))\n",
    "    return vstack(combined_expr)\n",
    "                    \n",
    "\n",
    "def impute_obs(pc_A, pc_B, var_B, k=10, n_per_batch=1000):\n",
    "    \"\"\"\n",
    "    Construct a kNN lookup for pc_B, then use to compute values of obs for each cell in pc_A\n",
    "    \"\"\"\n",
    "    n_lookup = pc_A.shape[0]\n",
    "    bt = KDTree(pc_B)\n",
    "    \n",
    "    # divide up into chunks of n_per_batch\n",
    "    combined_expr = []\n",
    "    for i in tqdm(range(0, n_lookup, n_per_batch)):\n",
    "        dist,ind = bt.query(pc_A[i:(i+n_per_batch),:],k=k)\n",
    "        curr_expr = []\n",
    "        for idx in ind:\n",
    "            curr_expr.append(np.mean(var_B[idx],0))\n",
    "        combined_expr.extend(curr_expr)\n",
    "    return np.array(combined_expr)\n",
    "                    \n",
    "# compute gene modules\n",
    "from scipy.cluster.hierarchy import ward,fcluster, dendrogram, linkage\n",
    "from scipy.spatial.distance import pdist\n",
    "from scipy.stats import zscore\n",
    "from statsmodels.stats.multitest import multipletests\n",
    "from scipy.sparse.linalg import svds\n",
    "from sklearn.cluster import DBSCAN\n",
    "from sklearn.decomposition import PCA\n",
    "from umap import UMAP\n",
    "\n",
    "\n",
    "def cluster_vals(X,n_clusts=5):\n",
    "    pd = pdist(X)\n",
    "    ln = linkage(pd, method='complete')\n",
    "    return fcluster(ln, 0.5 * pd.max(), 'distance')\n",
    "\n",
    "def zscore_mat(X):\n",
    "    n_x,n_y = X.shape\n",
    "    return zscore(X.flatten()).reshape((n_x,n_y))\n",
    "\n",
    "def zscore_pval_mat(X):\n",
    "    \"\"\"\n",
    "    Take matrix of zscores and compute FDR adjusted pvals\n",
    "    \"\"\"\n",
    "    X_Z = zscore_mat(X)\n",
    "    n_x, n_y = X_Z.shape\n",
    "\n",
    "    X_pval = scipy.stats.norm.sf(np.abs(X_Z.flatten()))*2\n",
    "    X_pval = multipletests(X_pval,method='fdr_bh')[1]                                       \n",
    "    return X_Z, X_pval.reshape((n_x,n_y))\n",
    "\n",
    "def threshold_zscore_mat(X_Z, X_pval, thresh=0.1):\n",
    "    n_x, n_y = X_Z.shape\n",
    "    X_Z = X_Z.flatten()\n",
    "    X_Z[X_pval.flatten()>thresh] = 0\n",
    "    return X_Z.reshape((n_x, n_y))\n",
    "\n",
    "\n",
    "from sklearn.decomposition import PCA,FactorAnalysis,NMF\n",
    "from sklearn.manifold import TSNE\n",
    "from sklearn.cluster import SpectralClustering, DBSCAN\n",
    "from sklearn.preprocessing import scale, MinMaxScaler\n",
    "from sklearn.neighbors import NearestNeighbors\n",
    "from scipy.stats import ttest_ind, norm, ranksums\n",
    "from scipy.stats.mstats import gmean\n",
    "\n",
    "import pandas as pd\n",
    "import scanpy as sc\n",
    "def get_genes_for_celltype(de, name, direction=None):\n",
    "    clust_names = de.cell_type.unique()\n",
    "    if direction == \"pos\":\n",
    "        de = de[de.coef>=0]\n",
    "    elif direction == \"neg\":\n",
    "        de = de[de.coef<0]\n",
    "    return de[de.cell_type.isin([i for i in clust_names if name in i])].gene.unique()\n",
    "\n",
    "# code from: https://github.com/klarman-cell-observatory/inCITE-seq/blob/main/notebooks/inCITE_tools.ipynb\n",
    "def parse_GO_query(gene_list, species, db_to_keep='all'): \n",
    "    if db_to_keep=='all': \n",
    "        db_to_keep = ['GO:BP', 'GO:MF', 'KEGG', 'REAC', 'TF']\n",
    "    GO_df = sc.queries.enrich(list(gene_list), org=species)\n",
    "    GO_df = GO_df[GO_df['significant']==True]\n",
    "    GO_df = GO_df[GO_df['source'].isin(db_to_keep)]\n",
    "    return GO_df\n",
    "\n",
    "def sig_genes_GO_query(sig_genes, clust_lim=1000, source=['GO:BP','KEGG']):\n",
    "    bad_top_terms = ['GO:0009987', 'GO:0008150']\n",
    "    GO_results = pd.DataFrame([],columns=['source','name','p_value','description','native','parents'])\n",
    "    clust_ct = 0\n",
    "    idx_ct = 0\n",
    "    GO_df = parse_GO_query(sig_genes,'mmusculus',source)\n",
    "    if len(GO_df)>0:\n",
    "        for index, row in GO_df.iterrows():\n",
    "            if clust_ct<clust_lim:\n",
    "                if ~np.any([True if i in bad_top_terms else False for i in row['parents']]):\n",
    "                    # exclude top level terms\n",
    "                    GO_row = pd.DataFrame({'source':row['source'],\n",
    "                                         'name':row['name'],'p_value':row['p_value'],\n",
    "                                         'description':row['description'], \n",
    "                                         'native':row['native'], 'parents':[row['parents']]},\n",
    "                                            index=[idx_ct])\n",
    "                    clust_ct+=1\n",
    "                    idx_ct+=1\n",
    "                    GO_results = pd.concat([GO_results, GO_row])\n",
    "    return GO_results\n",
    "\n",
    "def plot_GO_terms(df,alpha,filename,colormap='#d3d3d3',xlims=[0,20],ax=None): \n",
    "    \n",
    "    # add color column\n",
    "    if colormap != '#d3d3d3': \n",
    "        df['color'] = df['cluster'].map(colormap)\n",
    "        color=df['color']\n",
    "    else: \n",
    "        color=colormap\n",
    "    \n",
    "    df = df.loc[df['p_value']<=alpha]\n",
    "    \n",
    "    fig_height = df.shape[0]*(1/10)\n",
    "    if ax is None:\n",
    "        fig, ax = plt.subplots(figsize=(3,fig_height))\n",
    "    y_pos = np.arange(df.shape[0])\n",
    "    log10p = -np.log10(df['p_value'].tolist())\n",
    "    df['-log10p'] = log10p\n",
    "    \n",
    "    sns.reset_orig()\n",
    "    ax.barh(y_pos, log10p, align='center', color=color)\n",
    "    ax.set_yticks(y_pos)\n",
    "#     ax.set_yticklabels(df['native']+':'+df['name'],fontsize=6)\n",
    "    ax.set_yticklabels(df['name'],fontsize=6)\n",
    "    ax.invert_yaxis()\n",
    "    ax.set_xlabel('-log10(P)')\n",
    "    ax.set_xlim(xlims)\n",
    "    ax.spines['top'].set_visible(False)\n",
    "    ax.spines['right'].set_visible(False)\n",
    "    ax.spines['bottom'].set_linewidth(1)\n",
    "#     plt.show()\n",
    "    #figname = '%s/GO_hbar_%s.pdf' %(sc.settings.figdir, filename)\n",
    "    #print('Saving to %s' %figname)\n",
    "    #fig.savefig(figname, bbox_inches='tight')\n",
    "\n",
    "def unbinarize_list(s):\n",
    "    try:\n",
    "        s = [i.decode('ascii') for i in s]\n",
    "    except Exception as e:\n",
    "        pass\n",
    "    return s\n",
    "\n",
    "\n",
    "def identify_nearest_neighbors_with_idx(X,Y,dist_thresh, min_dist_thresh=15):\n",
    "    if X.shape[0] > 0 and Y.shape[0] > 0:\n",
    "        kdtree = KDTree(Y)\n",
    "        ind, dists = kdtree.query_radius(X, r=dist_thresh, count_only=False,return_distance=True)\n",
    "        ind_X = np.hstack([[i]*len(ind[i]) for i in np.arange(len(ind)) if len(ind[i])>0])\n",
    "        \n",
    "        ind = np.hstack(ind)\n",
    "        dists = np.hstack(dists)\n",
    "        if len(ind) > 0:\n",
    "            ind = ind[dists>min_dist_thresh]      \n",
    "            ind_X = ind_X[dists>min_dist_thresh]\n",
    "        return ind.astype(np.int), ind_X.astype(np.int)\n",
    "    else:\n",
    "        return np.array([])\n",
    "\n",
    "def count_neighbors_with_idx(X,Y,dist_thresh, ):\n",
    "    if X.shape[0] > 0 and Y.shape[0] > 0:\n",
    "        kdtree = KDTree(Y)\n",
    "        ind, dists = kdtree.query_radius(X, r=dist_thresh, count_only=False,return_distance=True)\n",
    "        counts_Y = np.array([len(i) for i in ind])\n",
    "        ind_X = np.arange(len(ind))#np.array([i for i in np.arange(len(ind)) if len(ind[i])>0])\n",
    "        return ind_X.astype(np.int), counts_Y.astype(np.int)\n",
    "    else:\n",
    "        return np.array([])\n",
    "\n",
    "def identify_nearest_neighbors_with_dist(X,Y, min_dist=0):\n",
    "    if X.shape[0] > 0 and Y.shape[0] > 0:\n",
    "        kdtree = KDTree(Y)\n",
    "        dists, ind = kdtree.query(X, k=2,return_distance=True)\n",
    "        print(dists.shape, ind.shape)\n",
    "        good_dists = np.zeros(len(dists))\n",
    "        good_ind = np.zeros(len(ind))\n",
    "        for i in range(dists.shape[0]):\n",
    "            if dists[i,0] > 0: # remove duplicates\n",
    "                good_dists[i] = dists[i,0]\n",
    "                good_ind[i] = ind[i,0]\n",
    "            else:\n",
    "                good_dists[i] = dists[i,1]\n",
    "                good_ind[i] = ind[i,1]\n",
    "        #ind_X = np.hstack([[i]*len(ind[i]) for i in np.arange(len(ind)) if len(ind[i])>0])\n",
    "        return good_dists, good_ind\n",
    "    else:\n",
    "        return np.array([])\n",
    "    \n",
    "def compute_celltype_obs_count_correlation(A,cell_type_X, cell_type_Y, obs_key_X, celltype_key='cell_type',radius=40, min_dist_thresh=15):\n",
    "    X = A[A.obs[celltype_key] == cell_type_X]\n",
    "    Y = A[A.obs[celltype_key] == cell_type_Y]\n",
    "    obs_X = X.obs[obs_key_X]\n",
    "    curr_X = X.obsm['spatial']\n",
    "    curr_Y = Y.obsm['spatial']\n",
    "    ind_X, counts_Y = count_neighbors_with_idx(curr_X, curr_Y, dist_thresh=radius)\n",
    "    return obs_X.values[ind_X], ind_X, counts_Y\n",
    "\n",
    "\n",
    "def compute_celltype_obs_distance_correlation(A,cell_type_X, cell_type_Y, obs_key_X, celltype_key1='cell_type', celltype_key2='cell_type'):\n",
    "    X = A[A.obs[celltype_key1] == cell_type_X]\n",
    "    Y = A[A.obs[celltype_key2] == cell_type_Y]\n",
    "    obs_X = X.obs[obs_key_X]\n",
    "    curr_X = X.obsm['spatial']\n",
    "    curr_Y = Y.obsm['spatial']\n",
    "    dists_Y, ind_Y = identify_nearest_neighbors_with_dist(curr_X, curr_Y)\n",
    "    return obs_X.values, dists_Y\n",
    "\n",
    "def compute_celltype_obs_correlation(A,cell_type_X, cell_type_Y, obs_key_X, obs_key_Y, celltype_key='cell_type', radius=40, min_dist_thresh=15):\n",
    "    X = A[A.obs[celltype_key] == cell_type_X]\n",
    "    Y = A[A.obs[celltype_key] == cell_type_Y]\n",
    "    obs_X = X.obs[obs_key_X]\n",
    "    obs_Y = Y.obs[obs_key_Y]\n",
    "    curr_X = X.obsm['spatial']\n",
    "    curr_Y = Y.obsm['spatial']\n",
    "    neighbors_X, ind_X = identify_nearest_neighbors_with_idx(curr_X, curr_Y, dist_thresh=radius, min_dist_thresh=min_dist_thresh)\n",
    "    curr_expr = obs_Y[neighbors_X]\n",
    "    return obs_X.values[ind_X], curr_expr.values\n",
    "\n",
    "def compute_binned_values(dists, scores, min_d=0, max_d=100, bin_size=30):\n",
    "    binned_mean = np.zeros(max_d-min_d-bin_size)\n",
    "    binned_std = np.zeros(max_d-min_d-bin_size)\n",
    "    for i in np.arange(min_d, max_d-bin_size):\n",
    "        # find distances in this bin range\n",
    "        idx = np.argwhere(np.logical_and(dists>i, dists<=(i+bin_size)))\n",
    "        curr_scores = scores[idx]\n",
    "        binned_mean[i] = np.mean(curr_scores)#/len(idx)\n",
    "        binned_std[i] = np.std(curr_scores)/np.sqrt(len(curr_scores))#/len(idx)\n",
    "    binned_mean -= binned_mean.mean()\n",
    "    binned_std -= binned_mean.mean()\n",
    "    return binned_mean, binned_std"
   ]
  },
  {
   "cell_type": "markdown",
   "metadata": {},
   "source": [
    "# Process 10X data"
   ]
  },
  {
   "cell_type": "markdown",
   "metadata": {},
   "source": [
    "## Load and preprocess 10X"
   ]
  },
  {
   "cell_type": "code",
   "execution_count": null,
   "metadata": {},
   "outputs": [],
   "source": [
    "# load raw data that has been filtered and leiden clustered recursively\n",
    "adata_10x = unbinarize_strings(sc.read_h5ad(\"/faststorage/brain_aging/aging10x/051722_aging10x_pfc_clustered.h5ad\"))"
   ]
  },
  {
   "cell_type": "code",
   "execution_count": null,
   "metadata": {},
   "outputs": [],
   "source": [
    "sc.pl.umap(adata_10x, color=['age','leiden'])"
   ]
  },
  {
   "cell_type": "code",
   "execution_count": null,
   "metadata": {},
   "outputs": [],
   "source": []
  },
  {
   "cell_type": "markdown",
   "metadata": {},
   "source": [
    "## Subset 10X data to just CellphoneDB ligand-receptor pairs and convert gene symbols to human"
   ]
  },
  {
   "cell_type": "code",
   "execution_count": null,
   "metadata": {},
   "outputs": [],
   "source": []
  },
  {
   "cell_type": "code",
   "execution_count": null,
   "metadata": {},
   "outputs": [],
   "source": []
  },
  {
   "cell_type": "markdown",
   "metadata": {},
   "source": [
    "# Integrate MERFISH and snRNA_seq"
   ]
  },
  {
   "cell_type": "markdown",
   "metadata": {},
   "source": [
    "## Load MERFISH"
   ]
  },
  {
   "cell_type": "code",
   "execution_count": null,
   "metadata": {},
   "outputs": [],
   "source": [
    "adata_combined = unbinarize_strings(ad.read_h5ad(\"/faststorage/brain_aging/merfish/exported/011722_adata_combined_harmony.h5ad\"))"
   ]
  },
  {
   "cell_type": "markdown",
   "metadata": {},
   "source": [
    "## Copy information from combined to 10X raw data"
   ]
  },
  {
   "cell_type": "code",
   "execution_count": null,
   "metadata": {},
   "outputs": [],
   "source": [
    "adata_combined_10x = adata_combined[adata_combined.obs.dtype=='scrnaseq']\n",
    "adata_combined_mer = adata_combined[adata_combined.obs.dtype=='merfish']"
   ]
  },
  {
   "cell_type": "code",
   "execution_count": null,
   "metadata": {},
   "outputs": [],
   "source": [
    "# find just set of 10X cells that were used for integration\n",
    "match_idx_10x = [i for i in adata_combined_10x.obs.index if i in adata_10x.obs.index]\n",
    "adata_combined_10x = adata_combined_10x[match_idx_10x]"
   ]
  },
  {
   "cell_type": "code",
   "execution_count": null,
   "metadata": {},
   "outputs": [],
   "source": [
    "# copy UMAP and obs to adata_subset, for visualization\n",
    "# adata subset is the subset of 10X cells that were used for integration, but with full transcriptome\n",
    "adata_subset = adata_10x[match_idx_10x]\n",
    "adata_subset.obs = adata_combined_10x.obs.copy()\n",
    "adata_subset.obsm['X_umap'] = adata_combined_10x.obsm['X_umap']"
   ]
  },
  {
   "cell_type": "code",
   "execution_count": null,
   "metadata": {},
   "outputs": [],
   "source": [
    "adata_subset.obs['leiden_10x'] = adata_10x.obs.loc[adata_subset.obs.index, 'leiden']"
   ]
  },
  {
   "cell_type": "code",
   "execution_count": null,
   "metadata": {},
   "outputs": [],
   "source": [
    "adata_subset = adata_subset.raw.to_adata()\n",
    "adata_subset.raw = adata_subset"
   ]
  },
  {
   "cell_type": "code",
   "execution_count": null,
   "metadata": {},
   "outputs": [],
   "source": [
    "adata_subset.var_names = unbinarize_list(adata_subset.var_names)"
   ]
  },
  {
   "cell_type": "code",
   "execution_count": null,
   "metadata": {},
   "outputs": [],
   "source": [
    "#adata_subset = adata_subset[:, [i for i in adata_subset.var_names if \"Gm\" not in i]]\n",
    "#adata_subset = adata_subset[:, [i for i in adata_subset.var_names if \"Rik\" not in i]]\n"
   ]
  },
  {
   "cell_type": "code",
   "execution_count": null,
   "metadata": {
    "tags": []
   },
   "outputs": [],
   "source": [
    "#adata_subset = normalize_10x_data(adata_subset, n_genes=4000)"
   ]
  },
  {
   "cell_type": "markdown",
   "metadata": {},
   "source": [
    "## Find markers for age-dependent subtypes"
   ]
  },
  {
   "cell_type": "code",
   "execution_count": null,
   "metadata": {},
   "outputs": [],
   "source": [
    "import diffxpy.api as diffxpy\n",
    "\n",
    "def find_de_genes_for_subtype(A, celltype, log10_fc_thresh=np.log10(10), qval_thresh=1e-6):\n",
    "    A.obs['A'] = A.obs.clust_annot==celltype\n",
    "    de_results = diffxpy.test.t_test(A, \"A\")\n",
    "    de_genes = pd.DataFrame({'genes':A.var_names, 'qval' : de_results.qval, 'log10_fc' : de_results.log10_fold_change()}).sort_values('log10_fc')\n",
    "    de_genes_upreg = de_genes[np.logical_and(de_genes.qval<qval_thresh, de_genes.log10_fc>log10_fc_thresh)]\n",
    "    return de_genes_upreg"
   ]
  },
  {
   "cell_type": "code",
   "execution_count": null,
   "metadata": {},
   "outputs": [],
   "source": [
    "adata_de = adata_subset.copy()\n",
    "adata_de.X = adata_subset.layers['sqrt_norm']"
   ]
  },
  {
   "cell_type": "code",
   "execution_count": null,
   "metadata": {},
   "outputs": [],
   "source": [
    "olig_genes = find_de_genes_for_subtype(adata_de, \"Olig-3\",log10_fc_thresh=np.log10(5))\n",
    "sig_genes_GO_query(olig_genes.genes).head(10)"
   ]
  },
  {
   "cell_type": "code",
   "execution_count": null,
   "metadata": {},
   "outputs": [],
   "source": [
    "olig_genes = find_de_genes_for_subtype(adata_de, \"Astro-2\",log10_fc_thresh=np.log10(5))\n",
    "sig_genes_GO_query(olig_genes.genes).head(10)"
   ]
  },
  {
   "cell_type": "code",
   "execution_count": null,
   "metadata": {},
   "outputs": [],
   "source": [
    "olig_genes = find_de_genes_for_subtype(adata_de, \"Micro-3\",log10_fc_thresh=np.log10(5))\n",
    "sig_genes_GO_query(olig_genes.genes).head(10)"
   ]
  },
  {
   "cell_type": "code",
   "execution_count": null,
   "metadata": {},
   "outputs": [],
   "source": [
    "adata_10x.obs.clip"
   ]
  },
  {
   "cell_type": "code",
   "execution_count": null,
   "metadata": {},
   "outputs": [],
   "source": [
    "for i in [\"Endo\",\"Astro\",\"Olig\",\"Micro\"]:\n",
    "    curr_adata = adata_subset[adata_subset.obs.cell_type==i]\n",
    "    sc.tl.rank_genes_groups(curr_adata, 'clust_annot',layer='sqrt_norm',use_raw=False)\n",
    "    sc.tl.filter_rank_genes_groups(curr_adata, use_raw=False, min_fold_change=2, min_in_group_fraction=0.25)\n",
    "    sc.pl.rank_genes_groups(curr_adata)"
   ]
  },
  {
   "cell_type": "code",
   "execution_count": null,
   "metadata": {
    "tags": []
   },
   "outputs": [],
   "source": [
    "sc.tl.rank_genes_groups(adata_subset, 'clust_annot',layer='sqrt_norm',use_raw=False)\n"
   ]
  },
  {
   "cell_type": "code",
   "execution_count": null,
   "metadata": {},
   "outputs": [],
   "source": [
    "clusts = ['Astro-1','Astro-2','Olig-1','Olig-2','Olig-3','Endo-1','Endo-2','Endo-3','Micro-1','Micro-2','Micro-3']"
   ]
  },
  {
   "cell_type": "code",
   "execution_count": null,
   "metadata": {},
   "outputs": [],
   "source": [
    "temp = adata_subset[adata_subset.obs.clust_annot.isin(clusts)]"
   ]
  },
  {
   "cell_type": "code",
   "execution_count": null,
   "metadata": {},
   "outputs": [],
   "source": [
    "sc.tl.dendrogram(temp,groupby='clust_annot')"
   ]
  },
  {
   "cell_type": "code",
   "execution_count": null,
   "metadata": {},
   "outputs": [],
   "source": [
    "gene_names = [\"Msi2\", \"Slc1a2\", \"Slc1a3\", \"Gfap\",\"C4b\",  \"Efemp1\", \"Cped1\",\"Shroom3\", \"Tnc\", \"Gpc5\",\n",
    "              \"Flt1\",\"Cldn5\", \"Xdh\",  \"Fmo2\", \"Vim\", \"Nr3c2\", \"Aff1\", \"Serinc3\", \"Nfib\", \"Trim30a\",\"Parp14\",\"Sp100\", \"Dlg2\",\"Itgam\",\"C1qa\",\n",
    "             \"B2m\",\"Tnfsf8\",\"Sp100\",\"Ctss\", \"Itgb2\", \"Lyz2\", \"C1qc\",\"Trem2\", \n",
    "              \"Mbp\", \"Cd9\",\"Fth1\",\"Apoe\",\"Edil3\",\"Anln\",\"Il33\",\"Neat1\", \"Cldn14\"]"
   ]
  },
  {
   "cell_type": "code",
   "execution_count": null,
   "metadata": {},
   "outputs": [],
   "source": [
    "f = sc.pl.dotplot(temp, var_names=gene_names, groupby='clust_annot',layer='sqrt_norm',figsize=(10,5),return_fig=True)\n",
    "save_fig(f, \"fig2_de_genes\",dtype=\"pdf\")"
   ]
  },
  {
   "cell_type": "code",
   "execution_count": null,
   "metadata": {},
   "outputs": [],
   "source": []
  },
  {
   "cell_type": "code",
   "execution_count": null,
   "metadata": {},
   "outputs": [],
   "source": [
    "de_genes_age_major_signif[de_genes_age_major_signif.cell_type==\"Olig\"].sort_values('coef').tail(20)"
   ]
  },
  {
   "cell_type": "code",
   "execution_count": null,
   "metadata": {},
   "outputs": [],
   "source": [
    "sc.pl.rank_genes_groups_dotplot(temp, groupby='clust_annot',n_genes=10)"
   ]
  },
  {
   "cell_type": "code",
   "execution_count": null,
   "metadata": {},
   "outputs": [],
   "source": []
  },
  {
   "cell_type": "markdown",
   "metadata": {},
   "source": [
    "## Assign labels to leiden clusters"
   ]
  },
  {
   "cell_type": "code",
   "execution_count": null,
   "metadata": {},
   "outputs": [],
   "source": [
    "def get_base_names(class_labels):\n",
    "    base_names = []\n",
    "    for i in class_labels:\n",
    "        fields = i.split('-')\n",
    "        if fields[-1] in ['1','2','3','4','5','6','7','8','9','10']:\n",
    "            if len(fields) == 2:\n",
    "                base_names.append(fields[0])\n",
    "            elif len(fields) == 3:\n",
    "                base_names.append(fields[0]+\"-\"+fields[1])\n",
    "        else:\n",
    "            base_names.append(i)\n",
    "    return base_names"
   ]
  },
  {
   "cell_type": "code",
   "execution_count": null,
   "metadata": {
    "tags": []
   },
   "outputs": [],
   "source": [
    "base_names = np.array(get_base_names(adata_subset.obs['clust_annot']))\n",
    "clust_map = {}\n",
    "clust_counts = {}\n",
    "clust_to_celltype = {}\n",
    "for i in adata_subset.obs.leiden_10x.unique():\n",
    "    curr_clust = majority_vote(base_names[adata_subset.obs.leiden_10x==i])\n",
    "    if curr_clust not in clust_counts:\n",
    "        clust_counts[curr_clust] = 1\n",
    "    else:\n",
    "        clust_counts[curr_clust] += 1\n",
    "    clust_map[i] = curr_clust + \"-\" + str(clust_counts[curr_clust])\n",
    "    if \"ExN\" in curr_clust:\n",
    "        curr_ct = \"ExN\"\n",
    "    elif \"InN\" in curr_clust:\n",
    "        curr_ct = \"InN\"\n",
    "    elif \"MSN\" in curr_clust:\n",
    "        curr_ct = \"MSN\"\n",
    "    elif \"Olig\" in curr_clust:\n",
    "        curr_ct = \"Olig\"\n",
    "    elif \"Astro\" in curr_clust:\n",
    "        curr_ct = \"Astro\"\n",
    "    elif \"OPC\" in curr_clust:\n",
    "        curr_ct = \"OPC\"\n",
    "    elif \"Endo\" in curr_clust:\n",
    "        curr_ct = \"Endo\"\n",
    "    elif \"Peri\" in curr_clust:\n",
    "        curr_ct = \"Peri\"\n",
    "    elif \"Vlmc\" in curr_clust:\n",
    "        curr_ct = \"Vlmc\"\n",
    "    elif \"Micro\" in curr_clust:\n",
    "        curr_ct = \"Micro\"\n",
    "    elif \"Macro\" in curr_clust:\n",
    "        curr_ct = \"Macro\"\n",
    "    else:\n",
    "        curr_ct = \"NA\"\n",
    "    clust_to_celltype[i] = curr_ct\n",
    "adata_subset.obs['clust_annot_10x'] = [clust_map[i] for i in adata_subset.obs.leiden_10x]\n",
    "adata_subset.obs['cell_type_10x'] = [clust_to_celltype[i] for i in adata_subset.obs.leiden_10x]"
   ]
  },
  {
   "cell_type": "code",
   "execution_count": null,
   "metadata": {},
   "outputs": [],
   "source": [
    "adata_subset.var_names = unbinarize_list(adata_subset.var_names)"
   ]
  },
  {
   "cell_type": "code",
   "execution_count": null,
   "metadata": {
    "tags": []
   },
   "outputs": [],
   "source": [
    "# get paletes\n",
    "celltype_colors, celltype_pals, label_colors, clust_pals = generate_palettes(adata_subset)"
   ]
  },
  {
   "cell_type": "code",
   "execution_count": null,
   "metadata": {},
   "outputs": [],
   "source": [
    "sc.pl.umap(adata_subset, color='cell_type_10x',palette=celltype_colors)"
   ]
  },
  {
   "cell_type": "markdown",
   "metadata": {},
   "source": [
    "## Identify gene modules from DE genes"
   ]
  },
  {
   "cell_type": "markdown",
   "metadata": {},
   "source": [
    "### Load DE genes"
   ]
  },
  {
   "cell_type": "code",
   "execution_count": null,
   "metadata": {},
   "outputs": [],
   "source": [
    "# compute DE with t test on normalized data\n",
    "#import diffxpy\n",
    "#def compute_de_genes_by_age(A, age_key='age', cell_type_key='cell_type'):\n",
    "#    for i in A.obs[cell_type_key].unique():\n",
    "#        curr_A = "
   ]
  },
  {
   "cell_type": "code",
   "execution_count": null,
   "metadata": {},
   "outputs": [],
   "source": [
    "def get_upreg_with_age(df_major, df_minor):\n",
    "    return list(df_minor[df_minor.coef>0].gene) + list(df_major[df_major.coef>0].gene)\n",
    "\n",
    "def get_downreg_with_age(df_major, df_minor):\n",
    "    return list(df_minor[df_minor.coef<=0].gene) + list(df_major[df_major.coef<=0].gene)\n",
    "\n",
    "ttest_de_celltype_df = pd.read_csv(\"/home/user/src/tithonus/analysis/merfish/gene_lists/glm_nb_de_major_age_10x_V2.csv\")\n",
    "ttest_de_clust_df = pd.read_csv(\"/home/user/src/tithonus/analysis/merfish/gene_lists/glm_nb_de_minor_age_V3_nools.csv\")\n",
    "qval_thresh = 0.05\n",
    "coef_thresh_major = np.log(1.25)\n",
    "coef_thresh_minor = np.log(2)\n",
    "de_genes_age_minor_signif = ttest_de_clust_df[np.logical_and(np.abs(ttest_de_clust_df.coef) > coef_thresh_minor, ttest_de_clust_df.qval<qval_thresh)]\n",
    "de_genes_age_major_signif = ttest_de_celltype_df[np.logical_and(np.abs(ttest_de_celltype_df.coef) > coef_thresh_major, ttest_de_celltype_df.qval<qval_thresh)]\n",
    "de_genes_age_minor_signif = de_genes_age_minor_signif[~np.isinf(de_genes_age_minor_signif.coef)]\n",
    "de_genes_age_major_signif = de_genes_age_major_signif[~np.isinf(de_genes_age_major_signif.coef)]"
   ]
  },
  {
   "cell_type": "code",
   "execution_count": null,
   "metadata": {},
   "outputs": [],
   "source": [
    "neuronal_clusts = list(set([i for i in de_genes_age_minor_signif.cell_type if \"ExN\" in i or \"InN\" in i or \"MSN\" in i]))\n",
    "nonneuronal_clusts = list(set([i for i in de_genes_age_minor_signif.cell_type if \"ExN\" not in i and \"InN\" not in i and \"MSN\" not in i]))"
   ]
  },
  {
   "cell_type": "code",
   "execution_count": null,
   "metadata": {},
   "outputs": [],
   "source": [
    "qval_thresh = 0.1\n",
    "de_genes_age_minor_signif_neurons = de_genes_age_minor_signif[de_genes_age_minor_signif.cell_type.isin(neuronal_clusts)]\n",
    "de_genes_age_minor_signif_nonneurons = de_genes_age_minor_signif[de_genes_age_minor_signif.cell_type.isin(nonneuronal_clusts)]\n",
    "de_genes_age_major_signif_neurons = de_genes_age_major_signif[de_genes_age_major_signif.cell_type.isin([\"ExN\",\"InN\",\"MSN\"])]\n",
    "de_genes_age_major_signif_nonneurons = de_genes_age_major_signif[~de_genes_age_major_signif.cell_type.isin([\"ExN\",\"InN\",\"MSN\"])]\n",
    "\n",
    "upreg_with_age_neuron = get_upreg_with_age(de_genes_age_major_signif_neurons, de_genes_age_minor_signif_neurons)\n",
    "upreg_with_age_nonneuron = get_upreg_with_age(de_genes_age_major_signif_nonneurons, de_genes_age_minor_signif_nonneurons)\n",
    "\n",
    "downreg_with_age_neuron = get_downreg_with_age(de_genes_age_major_signif_neurons, de_genes_age_minor_signif_neurons)\n",
    "downreg_with_age_nonneuron = get_downreg_with_age(de_genes_age_major_signif_nonneurons, de_genes_age_minor_signif_nonneurons)"
   ]
  },
  {
   "cell_type": "code",
   "execution_count": null,
   "metadata": {},
   "outputs": [],
   "source": [
    "#adata_subset.var_names = [i.decode('ascii') for i in adata_subset.var_names]"
   ]
  },
  {
   "cell_type": "markdown",
   "metadata": {},
   "source": [
    "### Identify gene module genes"
   ]
  },
  {
   "cell_type": "code",
   "execution_count": null,
   "metadata": {},
   "outputs": [],
   "source": [
    "adata_subset_neurons_raw = adata_subset[adata_subset.obs.cell_type.isin(['ExN','InN','MSN'])].raw.to_adata()\n",
    "adata_subset_nonneurons_raw = adata_subset[~adata_subset.obs.cell_type.isin(['ExN','InN','MSN'])].raw.to_adata()"
   ]
  },
  {
   "cell_type": "code",
   "execution_count": null,
   "metadata": {},
   "outputs": [],
   "source": [
    "adata_subset_neurons_raw = normalize_10x_data(adata_subset_neurons_raw, n_genes=2000)\n",
    "adata_subset_nonneurons_raw = normalize_10x_data(adata_subset_nonneurons_raw, n_genes=2000)"
   ]
  },
  {
   "cell_type": "code",
   "execution_count": null,
   "metadata": {},
   "outputs": [],
   "source": [
    "def get_normalized_subset_by_genes(A, genes):\n",
    "    genes = list(set(genes))\n",
    "    var_names = A.var_names\n",
    "    try:\n",
    "        var_names = [i.decode('ascii') for i in var_names]\n",
    "        A.var_names = [i.decode('ascii') for i in A.var_names]\n",
    "    except Exception as e:\n",
    "        pass\n",
    "    genes = [i for i in genes if i in var_names]\n",
    "    \n",
    "    temp = A[:, genes]\n",
    "    temp.X = np.sqrt(sc.pp.normalize_total(temp, inplace=False)[\"X\"])\n",
    "    return temp"
   ]
  },
  {
   "cell_type": "code",
   "execution_count": null,
   "metadata": {},
   "outputs": [],
   "source": [
    "#adata_subset_neurons_upreg = get_normalized_subset_by_genes(adata_subset_neurons_raw, upreg_with_age_neuron)\n",
    "#adata_subset_neurons_downreg = get_normalized_subset_by_genes(adata_subset_neurons_raw, downreg_with_age_neuron)\n",
    "\n",
    "#adata_subset_nonneurons_upreg = get_normalized_subset_by_genes(adata_subset_nonneurons_raw, upreg_with_age_nonneuron)\n",
    "#adata_subset_nonneurons_downreg = get_normalized_subset_by_genes(adata_subset_nonneurons_raw, downreg_with_age_neuron)\n"
   ]
  },
  {
   "cell_type": "code",
   "execution_count": null,
   "metadata": {},
   "outputs": [],
   "source": [
    "um_neurons, clu_neurons, genes_neurons = find_gene_networks(adata_subset_neurons_raw, dbscan_eps=0.5)"
   ]
  },
  {
   "cell_type": "code",
   "execution_count": null,
   "metadata": {},
   "outputs": [],
   "source": [
    "plt.scatter(um_neurons[:,0], um_neurons[:,1], c=clu_neurons, cmap=plt.cm.gist_ncar,s=1)"
   ]
  },
  {
   "cell_type": "code",
   "execution_count": null,
   "metadata": {},
   "outputs": [],
   "source": [
    "um_nonneurons, clu_nonneurons, genes_nonneurons = find_gene_networks(adata_subset_nonneurons_raw,dbscan_eps=0.5)"
   ]
  },
  {
   "cell_type": "code",
   "execution_count": null,
   "metadata": {},
   "outputs": [],
   "source": [
    "genes_nonneurons"
   ]
  },
  {
   "cell_type": "code",
   "execution_count": null,
   "metadata": {},
   "outputs": [],
   "source": [
    "plt.scatter(um_nonneurons[:,0], um_nonneurons[:,1], c=clu_nonneurons, cmap=plt.cm.gist_ncar,s=1)"
   ]
  },
  {
   "cell_type": "code",
   "execution_count": null,
   "metadata": {},
   "outputs": [],
   "source": [
    "nonneuron_mod_df = pd.DataFrame({'cluster': clu_nonneurons, 'gene':[i.decode('ascii') for i in genes_nonneurons]})\n",
    "neuron_mod_df = pd.DataFrame({'cluster': clu_neurons, 'gene':[i.decode('ascii') for i in genes_neurons]})"
   ]
  },
  {
   "cell_type": "code",
   "execution_count": null,
   "metadata": {},
   "outputs": [],
   "source": [
    "neuron_mod_df.to_csv(\"gene_lists/neuron_module_genes_eps0.4.csv\")\n",
    "nonneuron_mod_df.to_csv(\"gene_lists/nonneuron_module_genes_eps0.4.csv\")"
   ]
  },
  {
   "cell_type": "code",
   "execution_count": null,
   "metadata": {},
   "outputs": [],
   "source": [
    "neuron_mod_df = pd.read_csv(\"gene_lists/neuron_module_genes_eps0.4.csv\")\n",
    "nonneuron_mod_df = pd.read_csv(\"gene_lists/nonneuron_module_genes_eps0.4.csv\")"
   ]
  },
  {
   "cell_type": "code",
   "execution_count": null,
   "metadata": {},
   "outputs": [],
   "source": [
    "genes_nonneurons = list(nonneuron_mod_df.gene.unique())\n",
    "genes_neurons = list(neuron_mod_df.gene.unique())"
   ]
  },
  {
   "cell_type": "code",
   "execution_count": null,
   "metadata": {},
   "outputs": [],
   "source": [
    "adata_subset_nonneurons_raw.var_names = [i.decode('ascii') for i in adata_subset_nonneurons_raw.var_names]\n",
    "adata_subset_neurons_raw.var_names = [i.decode('ascii') for i in adata_subset_neurons_raw.var_names]"
   ]
  },
  {
   "cell_type": "code",
   "execution_count": null,
   "metadata": {
    "jupyter": {
     "outputs_hidden": true
    },
    "tags": []
   },
   "outputs": [],
   "source": [
    "for n,i in enumerate(np.unique(clu_neurons)): \n",
    "    curr_genes = [i.decode('ascii') for i in list(genes_neurons[clu_neurons==i])]\n",
    "    print(\"--> Module\", i, curr_genes[:20])\n",
    "    print(sig_genes_GO_query(curr_genes).head(5).name)\n",
    "    sc.tl.score_genes(adata_subset_neurons_raw, gene_list=curr_genes, score_name='score_'+str(n), use_raw=False)\n",
    "    print(\"--------------------\")"
   ]
  },
  {
   "cell_type": "code",
   "execution_count": null,
   "metadata": {
    "jupyter": {
     "outputs_hidden": true
    },
    "tags": []
   },
   "outputs": [],
   "source": [
    "for n,i in enumerate(np.unique(clu_nonneurons)): \n",
    "    curr_genes = [i.decode('ascii') for i in list(genes_nonneurons[clu_nonneurons==i])]\n",
    "    print(\"--> Module\", i, curr_genes[:20])\n",
    "    print(sig_genes_GO_query(curr_genes).head(5).name)\n",
    "    sc.tl.score_genes(adata_subset_nonneurons_raw, gene_list=curr_genes, score_name='score_'+str(n), use_raw=False)\n",
    "    print(\"--------------------\")"
   ]
  },
  {
   "cell_type": "code",
   "execution_count": null,
   "metadata": {},
   "outputs": [],
   "source": [
    "adata_subset_neurons_raw.obs"
   ]
  },
  {
   "cell_type": "code",
   "execution_count": null,
   "metadata": {
    "tags": []
   },
   "outputs": [],
   "source": [
    "sc.pl.dotplot(adata_subset_neurons_raw,['score_'+str(i) for i in range(20)],groupby='cell_type',dendrogram=True)"
   ]
  },
  {
   "cell_type": "code",
   "execution_count": null,
   "metadata": {
    "tags": []
   },
   "outputs": [],
   "source": [
    "sc.pl.dotplot(adata_subset_nonneurons_raw,['score_'+str(i) for i in range(27)],groupby='cell_type', dendrogram=True)"
   ]
  },
  {
   "cell_type": "code",
   "execution_count": null,
   "metadata": {},
   "outputs": [],
   "source": [
    "nonneuron_mod_df = pd.read_csv(\"gene_lists/nonneuron_module_genes_eps0.4.csv\")"
   ]
  },
  {
   "cell_type": "code",
   "execution_count": null,
   "metadata": {
    "jupyter": {
     "outputs_hidden": true
    },
    "tags": []
   },
   "outputs": [],
   "source": [
    "print_go_terms_for_modules(list(nonneuron_mod_df.cluster), list(nonneuron_mod_df.gene))"
   ]
  },
  {
   "cell_type": "markdown",
   "metadata": {},
   "source": [
    "## Identify gene modules for each cell type"
   ]
  },
  {
   "cell_type": "code",
   "execution_count": null,
   "metadata": {},
   "outputs": [],
   "source": [
    "def test_module_correlation(corr_mat, clusters, n_repeat=1000):\n",
    "    pvals = []\n",
    "    clusters = np.array(clusters)\n",
    "    for c in tqdm(np.unique(clusters)):\n",
    "        true_corr = corr_mat[clusters==c,:][:,clusters==c].mean()\n",
    "        shuffled_corr = []\n",
    "        for i in range(n_repeat):\n",
    "            curr_clust = clusters[np.random.permutation(len(clusters))]\n",
    "            curr_shuffle = corr_mat[curr_clust==c,:][:,curr_clust==c].mean()\n",
    "            shuffled_corr.append(curr_shuffle)\n",
    "        shuffled_corr = np.array(shuffled_corr)\n",
    "        curr_pval = np.sum(shuffled_corr >= true_corr)/len(shuffled_corr)\n",
    "        pvals.append(curr_pval)\n",
    "        #print(c, true_corr, curr_pval)\n",
    "    pvals = multipletests(np.array(pvals), method='fdr_bh')[1]\n",
    "    corrected_pvals = {}\n",
    "    for i,c in enumerate(np.unique(clusters)):\n",
    "        corrected_pvals[c] = pvals[i]\n",
    "    return corrected_pvals\n",
    "\n",
    "def find_gene_networks(A, n_pcs=50, dbscan_eps=0.5, use_neighbors=True, use_dbscan=True, filter_modules=True, pval_thresh=0.1):\n",
    "    import igraph as ig\n",
    "\n",
    "    u,s,vt = svds(A.X, k=n_pcs)\n",
    "    corr_mat = np.dot(vt.T,vt)#np.corrcoef(adata_subset_micro.layers['sqrt_norm'].toarray().T)\n",
    "\n",
    "    corr_mat, corr_pval = zscore_pval_mat(corr_mat)\n",
    "    corr_mat = threshold_zscore_mat(corr_mat, corr_pval)\n",
    "    if use_neighbors:\n",
    "        nbrs = NearestNeighbors(n_neighbors=10, algorithm='kd_tree').fit(corr_mat)\n",
    "        neighbor_graph = nbrs.kneighbors_graph(corr_mat)\n",
    "        umap = UMAP().fit(neighbor_graph)\n",
    "    else:\n",
    "        umap = UMAP().fit(corr_mat)\n",
    "    if use_dbscan:\n",
    "        dbs = DBSCAN(eps=dbscan_eps).fit_predict(umap.embedding_)\n",
    "    else:\n",
    "        # cluster nearest neighbors graph\n",
    "        g = ig.Graph()\n",
    "        g = ig.GraphBase.Adjacency(neighbor_graph.toarray().tolist(), mode=ig.ADJ_UNDIRECTED)\n",
    "        sim = np.array(g.similarity_jaccard())\n",
    "        g = ig.GraphBase.Weighted_Adjacency(sim.tolist(), mode=ig.ADJ_UNDIRECTED)\n",
    "        dbs = np.array(g.community_multilevel(weights=\"weight\", return_levels=False))\n",
    "    if filter_modules:\n",
    "        pvals = test_module_correlation(corr_mat, dbs)\n",
    "        signif_idx = np.array([pvals[i]<pval_thresh for i in dbs])\n",
    "        corr_mat = corr_mat[signif_idx,:][:,signif_idx]\n",
    "        umap = UMAP().fit(corr_mat)\n",
    "        # redo dbscan\n",
    "        dbs = DBSCAN(eps=dbscan_eps).fit_predict(umap.embedding_)\n",
    "        #dbs = dbs[signif_idx]\n",
    "        gene_names = A.var_names[signif_idx]\n",
    "        corr_mat = corr_mat[np.argsort(dbs),:][:,np.argsort(dbs)]\n",
    "        \n",
    "        print(np.sum(np.array(list(pvals.values()))<pval_thresh), \"significant clusters\")\n",
    "    else:\n",
    "        gene_names = A.var_names\n",
    "    return umap.embedding_, dbs, gene_names, corr_mat\n"
   ]
  },
  {
   "cell_type": "code",
   "execution_count": null,
   "metadata": {},
   "outputs": [],
   "source": [
    "# initial run that looked good eps = 0.5, pcs=30, pval=1e-6\n",
    "#\n",
    "gene_modules = {}\n",
    "for i in adata_subset.obs.cell_type.unique():\n",
    "    print(i)\n",
    "    temp = adata_subset[adata_subset.obs.cell_type==i].raw.to_adata()\n",
    "    #temp.X = temp.layers['raw']\n",
    "    temp = normalize_10x_data(temp)\n",
    "    um, clu, genes, corr_mat = find_gene_networks(temp, dbscan_eps=0.25, n_pcs=50, pval_thresh=1e-6)\n",
    "    genes = unbinarize_list(genes)\n",
    "    gene_modules[i] = (um, clu, genes, corr_mat)"
   ]
  },
  {
   "cell_type": "code",
   "execution_count": null,
   "metadata": {},
   "outputs": [],
   "source": [
    "def save_go_terms_for_modules(clu, genes, fpath):\n",
    "    genes = np.array(genes)\n",
    "    with open(fpath,'w') as f:\n",
    "        for n,i in enumerate(np.unique(clu)): \n",
    "            curr_genes = [i for i in list(genes[clu==i])]\n",
    "            f.write(f\"--> Module  {i}:  {curr_genes[:20]}\\n\")\n",
    "            for i in sig_genes_GO_query(curr_genes).head(5).name:\n",
    "                f.write(i + \"\\n\")\n",
    "            f.write(\"--------------------\\n\")\n"
   ]
  },
  {
   "cell_type": "code",
   "execution_count": null,
   "metadata": {},
   "outputs": [],
   "source": [
    "gene_modules"
   ]
  },
  {
   "cell_type": "code",
   "execution_count": null,
   "metadata": {
    "jupyter": {
     "outputs_hidden": true
    },
    "tags": []
   },
   "outputs": [],
   "source": [
    "base_path = \"/home/user/Dropbox/zhuang_lab/aging/aging_atlas_paper_v2/module_spatial_plots\"\n",
    "for mod in gene_modules.keys():\n",
    "    print(mod)\n",
    "    curr_path = os.path.join(base_path, mod)\n",
    "    if not os.path.exists(curr_path):\n",
    "        os.mkdir(curr_path)\n",
    "        \n",
    "    um, clu, genes, corr_mat = gene_modules[mod]\n",
    "    \n",
    "    f, ax =plt.subplots(figsize=(5,5))\n",
    "    ax.scatter(um[:,0], um[:,1], c=clu, s=1, cmap=plt.cm.gist_ncar)\n",
    "    f.savefig(os.path.join(curr_path, \"gene_umap.pdf\"), dpi=300, bbox_inches=\"tight\")\n",
    "    \n",
    "    f, ax = plt.subplots(figsize=(5,5), ncols=2, nrows=2, gridspec_kw={'wspace':0.01,'hspace':0.01, 'width_ratios':[0.5,10], 'height_ratios':[0.5,10]})\n",
    "    ax[0][0].axis('off')\n",
    "    ax[0][1].imshow(np.expand_dims(np.sort(clu),1).T,aspect='auto',cmap=plt.cm.gist_ncar,interpolation='none', rasterized=True)\n",
    "    ax[0][1].axis('off')\n",
    "    ax[1][1].imshow(corr_mat,vmin=-1,vmax=1,cmap=plt.cm.bwr,aspect='auto',interpolation='bilinear')\n",
    "    ax[1][1].axis('off')\n",
    "    ax[1][0].imshow(np.expand_dims(np.sort(clu),1),aspect='auto',cmap=plt.cm.gist_ncar,interpolation='none', rasterized=True)\n",
    "    ax[1][0].axis('off')\n",
    "    sorted_mod = np.sort(clu)\n",
    "    for i in np.arange(1,len(clu)):\n",
    "        if sorted_mod[i-1] != sorted_mod[i]:\n",
    "            ax[1][1].axvline(i,color='k',lw=1)\n",
    "            ax[0][1].axvline(i,color='k',lw=1)\n",
    "\n",
    "            ax[1][1].axhline(i,color='k',lw=1)\n",
    "            ax[1][0].axhline(i,color='k',lw=1)\n",
    "    f.savefig(os.path.join(curr_path, \"gene_gene_corr.pdf\"), dpi=300, bbox_inches=\"tight\")\n",
    "    \n",
    "    save_go_terms_for_modules(clu, genes, os.path.join(curr_path, 'go_terms.txt'))"
   ]
  },
  {
   "cell_type": "code",
   "execution_count": null,
   "metadata": {},
   "outputs": [],
   "source": [
    "# make dataframe for gene modules\n",
    "umap_coords = []\n",
    "clusters = []\n",
    "genes = []\n",
    "ct = []\n",
    "for cell_type, (um, clu, g, corr_mat) in gene_modules.items():\n",
    "    umap_coords.extend(um)\n",
    "    clusters.extend(clu)\n",
    "    genes.extend(g)\n",
    "    ct.extend([cell_type]*len(clu))\n",
    "umap_coords = np.vstack(umap_coords)"
   ]
  },
  {
   "cell_type": "code",
   "execution_count": null,
   "metadata": {},
   "outputs": [],
   "source": [
    "module_df = pd.DataFrame({'cell_type':ct, 'umap0' : umap_coords[:,0], 'umap1': umap_coords[:,1], 'cluster': clusters, 'gene' : genes})\n",
    "module_df"
   ]
  },
  {
   "cell_type": "code",
   "execution_count": null,
   "metadata": {},
   "outputs": [],
   "source": [
    "def print_go_terms_for_modules(clu, genes):\n",
    "    genes = np.array(genes)\n",
    "    for n,i in enumerate(np.unique(clu)): \n",
    "        curr_genes = [i for i in list(genes[clu==i])]\n",
    "        print(\"--> Module\", i, curr_genes[:20])\n",
    "        print(sig_genes_GO_query(curr_genes).head(5).name)\n",
    "        print(\"--------------------\")\n",
    "    "
   ]
  },
  {
   "cell_type": "code",
   "execution_count": null,
   "metadata": {
    "tags": []
   },
   "outputs": [],
   "source": [
    "# do t-test across ages and save violin plots\n",
    "from scipy.stats import ttest_ind,ranksums\n",
    "ttest_mod_dfs = []\n",
    "for i in [\"Olig\"]:#adata_subset.obs.cell_type.unique():\n",
    "    print(i)\n",
    "    curr_adata = adata_subset[adata_subset.obs.cell_type==i]        \n",
    "    curr_adata.X = np.sqrt(sc.pp.normalize_total(curr_adata,inplace=False)[\"X\"])\n",
    "    curr_mods_df = module_df[module_df.cell_type==i]\n",
    "    pvals = []\n",
    "    diff = []\n",
    "    mods = []\n",
    "   # pseudoage_corr = []\n",
    "    for j in tqdm(curr_mods_df.cluster.unique()):\n",
    "        sc.settings.figdir = f\"/home/user/Dropbox/zhuang_lab/aging/aging_atlas_paper_v2/module_spatial_plots/{i}/\"\n",
    "        genes = list(curr_mods_df[curr_mods_df.cluster==j].gene)\n",
    "        genes = [i for i in genes if i in curr_adata.var_names]\n",
    "        #curr_expr_young = curr_adata[curr_adata.obs.age=='4wk',:][:, genes].X\n",
    "        #curr_expr_old = curr_adata[curr_adata.obs.age=='90wk',:][:, genes].X\n",
    "\n",
    "        sc.tl.score_genes(curr_adata, gene_list=list(curr_mods_df[curr_mods_df.cluster==j].gene), score_name=f'module_{j}',use_raw=False)\n",
    "       # ttest = de.test.two_sample(data=curr_adata,grouping='age',test='t_test')\n",
    "        #score_young = np.array(curr_expr_young.sum(1)).flatten()\n",
    "        #score_old = np.array(curr_expr_old.sum(1)).flatten()\n",
    "        #pvals.append(ranksums(score_young, score_old)[1])\n",
    "        #diff.append(np.median(score_old)-np.median(score_young))\n",
    "        #curr_adata.obs[f\"module_{j}\"] = np.array(curr_adata[:,genes].X.sum(1)).flatten()\n",
    "        #pseudoage_corr.append(np.corrcoef(curr_adata.obs[f\"module_{j}\"], curr_adata.obs[f\"pseudoage\"])[0,1])\n",
    "        #mods.append(j)\n",
    "    #mod_names_sorted = [f\"module_{mods[j]}\" for j in np.argsort(diff)]\n",
    "        #f,ax = pl\n",
    "        sc.pl.violin(curr_adata, f\"module_{j}\", groupby='age',show=False, save=f\"_aging_module_10x_{j}_score.pdf\")\n",
    "    #ttest_mod_dfs.append(pd.DataFrame({'cell_type':[i]*len(pvals), 'diff':diff, 'pval':pvals, 'module':mods}))\n"
   ]
  },
  {
   "cell_type": "code",
   "execution_count": null,
   "metadata": {},
   "outputs": [],
   "source": [
    "ttest_mod_dfs = pd.concat(ttest_mod_dfs)"
   ]
  },
  {
   "cell_type": "code",
   "execution_count": null,
   "metadata": {},
   "outputs": [],
   "source": [
    "ttest_mod_dfs['qval'] = multipletests(ttest_mod_dfs['pval'],method='fdr_bh')[1]"
   ]
  },
  {
   "cell_type": "code",
   "execution_count": null,
   "metadata": {},
   "outputs": [],
   "source": [
    "ttest_mod_dfs[ttest_mod_dfs.cell_type==\"Astro\"].sort_values('diff')"
   ]
  },
  {
   "cell_type": "code",
   "execution_count": null,
   "metadata": {},
   "outputs": [],
   "source": [
    "temp = ttest_mod_dfs.copy()"
   ]
  },
  {
   "cell_type": "code",
   "execution_count": null,
   "metadata": {},
   "outputs": [],
   "source": [
    "for i in temp.cell_type.unique():\n",
    "    if i != \"ExN\":\n",
    "        print(i)\n",
    "        temp.loc[temp.cell_type==i, 'sorted_clust'] = np.argsort(temp.loc[temp.cell_type==i,'diff'])\n",
    "    else:\n",
    "        temp.loc[temp.cell_type==i, 'sorted_clust'] = temp.loc[temp.cell_type==i,'module']"
   ]
  },
  {
   "cell_type": "code",
   "execution_count": null,
   "metadata": {},
   "outputs": [],
   "source": [
    "ttest_mod_dfs = temp"
   ]
  },
  {
   "cell_type": "code",
   "execution_count": null,
   "metadata": {},
   "outputs": [],
   "source": [
    "for i in ttest_mod_dfs.cell_type.unique():\n",
    "    print(i)\n",
    "    mod_map = {r.module:int(r.sorted_clust) for i,r in ttest_mod_dfs[ttest_mod_dfs.cell_type==i].iterrows()}\n",
    "    curr_mods = module_df[module_df.cell_type==i]\n",
    "    module_df.loc[module_df.cell_type==i, \"sorted_module\"] = [int(mod_map[i]) for i in curr_mods.cluster]"
   ]
  },
  {
   "cell_type": "code",
   "execution_count": null,
   "metadata": {},
   "outputs": [],
   "source": [
    "# save out modules\n",
    "module_df.to_csv(\"gene_lists/062422_gene_modules_eps0.5_50pcs.csv\")"
   ]
  },
  {
   "cell_type": "code",
   "execution_count": null,
   "metadata": {},
   "outputs": [],
   "source": [
    "module_df = pd.read_csv(\"gene_lists/062422_gene_modules_eps0.5_50pcs.csv\")"
   ]
  },
  {
   "cell_type": "code",
   "execution_count": null,
   "metadata": {},
   "outputs": [],
   "source": []
  },
  {
   "cell_type": "markdown",
   "metadata": {},
   "source": [
    "### Save out module activation plots and GO terms for Fig S5"
   ]
  },
  {
   "cell_type": "code",
   "execution_count": null,
   "metadata": {},
   "outputs": [],
   "source": [
    "# quantify module scores for each module across both ages\n",
    "for i in [\"Olig\",\"Astro\", \"Micro\"]:\n",
    "    print(i)\n",
    "    curr_adata = adata_subset[adata_subset.obs.cell_type==i].raw.to_adata()\n",
    "    curr_adata.var_names = unbinarize_list(curr_adata.var_names)\n",
    "    curr_mod_df = module_df[module_df.cell_type==i]\n",
    "    score_names = []\n",
    "    scores = []\n",
    "    ages = []\n",
    "    for j in tqdm(curr_mod_df.cluster.unique()):\n",
    "        if int(j) != -1:\n",
    "            sc.tl.score_genes(curr_adata, gene_list=curr_mod_df[curr_mod_df.cluster==j].gene,use_raw=False, score_name=f\"module_score\")\n",
    "            score_names.extend([j]*curr_adata.shape[0])\n",
    "            scores.extend(list(curr_adata.obs.module_score.values))\n",
    "            ages.extend(list(curr_adata.obs.age.values))\n",
    "    df = pd.DataFrame({'module':score_names, 'module_score':scores, 'age':ages})\n",
    "    mean_diff = df[df.age=='90wk'].groupby('module')['module_score'].mean()  - df[df.age=='4wk'].groupby('module')['module_score'].mean() \n",
    "    f,ax = plt.subplots(figsize=(5,10))\n",
    "    sns.boxplot(y='module',x='module_score',data=df, hue='age', order=mean_diff.sort_values().index,fliersize=1, orient='h',ax=ax, palette=sns.color_palette(age_colors[::2]))\n",
    "    sns.despine(ax=ax)\n",
    "    ax.set_xlabel('Module Score')\n",
    "    ax.set_ylabel('Module')\n",
    "    if i == \"Olig\":\n",
    "        ax.set_xlim([-2, 25])\n",
    "    else:\n",
    "        ax.set_xlim([-2, 20])\n",
    "    #ax.set_xlim([np.quantile(df.module_score,0.001), np.quantile(df.module_score,99)])\n",
    "    save_fig(f, f\"figS5_{i}_quant\",dtype=\"pdf\")"
   ]
  },
  {
   "cell_type": "code",
   "execution_count": null,
   "metadata": {},
   "outputs": [],
   "source": [
    "def save_go_terms_for_modules_table(clu, genes, fpath):\n",
    "    genes = np.array(genes)\n",
    "    with open(fpath,'w') as f:\n",
    "        for n,i in enumerate(np.unique(clu)): \n",
    "            curr_genes = [i for i in list(genes[clu==i])]\n",
    "            f.write(f\"{i}\\t\")\n",
    "            go_terms = sig_genes_GO_query(curr_genes).head(3).name\n",
    "            if len(go_terms) > 0:\n",
    "                for i in sig_genes_GO_query(curr_genes).head(3).name:\n",
    "                    print(i)\n",
    "                    f.write('\\t' + i)\n",
    "            else:\n",
    "                f.write(\"NA\")\n",
    "            f.write(\"\\n\")"
   ]
  },
  {
   "cell_type": "code",
   "execution_count": null,
   "metadata": {},
   "outputs": [],
   "source": [
    "for i in [\"Olig\"]:\n",
    "    print(i)\n",
    "    curr_mod_df = module_df[module_df.cell_type==i]\n",
    "    clu = np.array(curr_mod_df.cluster)\n",
    "    genes = np.array(curr_mod_df.gene)\n",
    "    save_go_terms_for_modules_table(clu, genes, f\"/home/user/Dropbox/zhuang_lab/aging/aging_atlas_paper_v2/module_spatial_plots/{i}/go_term_table.csv\")"
   ]
  },
  {
   "cell_type": "code",
   "execution_count": null,
   "metadata": {},
   "outputs": [],
   "source": [
    "for i in [\"Olig\"]:\n",
    "    print(i)\n",
    "    curr_mod_df = module_df[module_df.cell_type==i]\n",
    "    clu = np.array(curr_mod_df.cluster)\n",
    "    genes = np.array(curr_mod_df.gene)\n",
    "    save_go_terms_for_modules_table(clu, genes, f\"/home/user/Dropbox/zhuang_lab/aging/aging_atlas_paper_v2/module_spatial_plots/{i}/go_term_table.csv\")"
   ]
  },
  {
   "cell_type": "code",
   "execution_count": null,
   "metadata": {},
   "outputs": [],
   "source": [
    "clu"
   ]
  },
  {
   "cell_type": "code",
   "execution_count": null,
   "metadata": {},
   "outputs": [],
   "source": []
  },
  {
   "cell_type": "markdown",
   "metadata": {},
   "source": [
    "## show gene-gene correlations for a few non-neuronal cell types"
   ]
  },
  {
   "cell_type": "code",
   "execution_count": null,
   "metadata": {},
   "outputs": [],
   "source": [
    "curr_adata.var_names = unbinarize_list(curr_adata.var_names)"
   ]
  },
  {
   "cell_type": "code",
   "execution_count": null,
   "metadata": {},
   "outputs": [],
   "source": [
    "plt.figure(figsize=(5,5))\n",
    "plt.imshow(corr_mat[:, np.argsort(curr_df.cluster)][np.argsort(curr_df.cluster),:],vmin=-1,vmax=1, cmap=plt.cm.bwr,aspect='auto',interpolation='none')"
   ]
  },
  {
   "cell_type": "code",
   "execution_count": null,
   "metadata": {},
   "outputs": [],
   "source": []
  },
  {
   "cell_type": "code",
   "execution_count": null,
   "metadata": {},
   "outputs": [],
   "source": []
  },
  {
   "cell_type": "code",
   "execution_count": null,
   "metadata": {},
   "outputs": [],
   "source": [
    "def make_color_index(sort_clusts):\n",
    "    idx = 0\n",
    "    color_idx = np.zeros_like(sort_clusts)\n",
    "    for i in range(1,len(sort_clusts)):\n",
    "        if sort_clusts[i] != sort_clusts[i-1]:\n",
    "            idx += 1\n",
    "    "
   ]
  },
  {
   "cell_type": "code",
   "execution_count": null,
   "metadata": {},
   "outputs": [],
   "source": [
    "np.sort(curr_df.cluster)"
   ]
  },
  {
   "cell_type": "code",
   "execution_count": null,
   "metadata": {},
   "outputs": [],
   "source": [
    "base_path = \"/home/user/Dropbox/zhuang_lab/aging/aging_atlas_paper_v2/module_spatial_plots\"\n",
    "for mod in [\"Astro\"]:\n",
    "    print(mod)\n",
    "    curr_df = module_df[module_df.cell_type==mod]\n",
    "    curr_path = os.path.join(base_path, mod)\n",
    "    if not os.path.exists(curr_path):\n",
    "        os.mkdir(curr_path)\n",
    "        \n",
    "    #um, clu, genes, corr_mat = gene_modules[mod]\n",
    "    curr_adata = adata_subset[adata_subset.obs.cell_type==mod]\n",
    "    curr_adata = curr_adata.raw.to_adata()\n",
    "    curr_adata.var_names = unbinarize_list(curr_adata.var_names)\n",
    "    curr_adata = normalize_10x_data(curr_adata)\n",
    "    curr_adata = curr_adata[:, curr_df.gene]\n",
    "    u,s,vt = svds(curr_adata.X, k=50)\n",
    "    corr_mat = np.dot(vt.T,vt)#np.corrcoef(adata_subset_micro.layers['sqrt_norm'].toarray().T)\n",
    "\n",
    "    corr_mat, corr_pval = zscore_pval_mat(corr_mat)\n",
    "    corr_mat = threshold_zscore_mat(corr_mat, corr_pval)\n",
    "    \n",
    "    corr_mat = corr_mat[:,np.argsort(curr_df.cluster)][np.argsort(curr_df.cluster),:]\n",
    "    \n",
    "    cmap = plt.cm.get_cmap('gist_ncar', len(curr_df.cluster.unique()))\n",
    "    cmap \n",
    "   # cmap = cmap[np.random.permutation(cmap.shape[0]),:]\n",
    "   # cmap = mpl.colors.ListedColormap(list(cmap))\n",
    "    f, ax = plt.subplots(figsize=(5,5), ncols=2, nrows=2, gridspec_kw={'wspace':0.01,'hspace':0.01, 'width_ratios':[0.5,10], 'height_ratios':[0.5,10]})\n",
    "    ax[0][0].axis('off')\n",
    "    ax[0][1].imshow(np.expand_dims(np.sort(curr_df.cluster),1).T,aspect='auto',cmap=cmap,interpolation='none', rasterized=True,vmax=curr_df.cluster.max(),vmin=-1)\n",
    "    ax[0][1].axis('off')\n",
    "    ax[1][1].imshow(corr_mat,vmin=-1,vmax=1,cmap=plt.cm.bwr,aspect='auto',interpolation='bilinear')\n",
    "    ax[1][1].axis('off')\n",
    "    ax[1][0].imshow(np.expand_dims(np.sort(curr_df.cluster),1),aspect='auto',cmap=cmap,interpolation='none', rasterized=True,vmin=-1,vmax=curr_df.cluster.max())\n",
    "    ax[1][0].axis('off')\n",
    "    sorted_mod = np.sort(clu)\n",
    "\n",
    "    #f.savefig(os.path.join(curr_path, \"gene_gene_corr.pdf\"), dpi=300, bbox_inches=\"tight\")\n",
    "    \n",
    "    #save_go_terms_for_modules(clu, genes, os.path.join(curr_path, 'go_terms.txt'))"
   ]
  },
  {
   "cell_type": "code",
   "execution_count": null,
   "metadata": {},
   "outputs": [],
   "source": []
  },
  {
   "cell_type": "code",
   "execution_count": null,
   "metadata": {},
   "outputs": [],
   "source": [
    "#temp = adata_subset[adata_subset.obs.cell_type==i].raw.to_adata()\n",
    "#temp.X = temp.layers['raw']\n",
    "temp = normalize_10x_data(temp)\n"
   ]
  },
  {
   "cell_type": "code",
   "execution_count": null,
   "metadata": {},
   "outputs": [],
   "source": [
    "expr = temp.X"
   ]
  },
  {
   "cell_type": "code",
   "execution_count": null,
   "metadata": {},
   "outputs": [],
   "source": [
    "n_pcs = 30\n",
    "u,s,vt = svds(expr, k=n_pcs)\n",
    "corr_mat = np.dot(vt.T,vt)#np.corrcoef(adata_subset_micro.layers['sqrt_norm'].toarray().T)\n"
   ]
  },
  {
   "cell_type": "code",
   "execution_count": null,
   "metadata": {},
   "outputs": [],
   "source": [
    "modules = module_df[np.logical_and(module_df.cluster != -1, module_df.cell_type==celltype)]\n",
    "good_modules = modules[modules.gene.isin(curr_genes)].cluster"
   ]
  },
  {
   "cell_type": "code",
   "execution_count": null,
   "metadata": {},
   "outputs": [],
   "source": [
    "#pvals = test_module_correlation(corr_mat, modules)"
   ]
  },
  {
   "cell_type": "code",
   "execution_count": null,
   "metadata": {},
   "outputs": [],
   "source": [
    "#good_mods = np.unique(modules)[pvals<0.1]"
   ]
  },
  {
   "cell_type": "code",
   "execution_count": null,
   "metadata": {},
   "outputs": [],
   "source": [
    "#good_modules = modules[modules.isin(good_mods)]\n"
   ]
  },
  {
   "cell_type": "code",
   "execution_count": null,
   "metadata": {},
   "outputs": [],
   "source": [
    "#good_gene_idx = np.array([i for i in np.arange(len(modules)) if modules.values[i] in good_mods])"
   ]
  },
  {
   "cell_type": "code",
   "execution_count": null,
   "metadata": {},
   "outputs": [],
   "source": [
    "#temp = module_df[np.logical_and(module_df.gene.isin(np.array(curr_genes)[good_gene_idx]), module_df.cell_type==celltype)]"
   ]
  },
  {
   "cell_type": "code",
   "execution_count": null,
   "metadata": {},
   "outputs": [],
   "source": [
    "#plt.scatter(temp.umap0, temp.umap1, c=temp.cluster,cmap=plt.cm.gist_ncar)"
   ]
  },
  {
   "cell_type": "code",
   "execution_count": null,
   "metadata": {},
   "outputs": [],
   "source": [
    "corr_mat_subset = corr_mat#[good_gene_idx,:][:,good_gene_idx]"
   ]
  },
  {
   "cell_type": "code",
   "execution_count": null,
   "metadata": {},
   "outputs": [],
   "source": []
  },
  {
   "cell_type": "code",
   "execution_count": null,
   "metadata": {},
   "outputs": [],
   "source": [
    "f,ax = plt.subplots(figsize=(10,10), ncols=2, nrows=2, gridspec_kw={'wspace':0.01,'hspace':0.01, 'width_ratios':[0.5,10], 'height_ratios':[0.5,10]})\n",
    "ax[0][0].axis('off')\n",
    "ax[0][1].imshow(np.expand_dims(np.sort(good_modules),1).T,aspect='auto',cmap=plt.cm.gist_ncar,interpolation='none')\n",
    "ax[0][1].axis('off')\n",
    "ax[1][1].imshow(zscore_mat(corr_mat_subset[np.argsort(good_modules),:][:, np.argsort(good_modules)]),vmin=-2.5,vmax=2.5,cmap=plt.cm.seismic,aspect='auto',interpolation='bilinear')\n",
    "ax[1][1].axis('off')\n",
    "ax[1][0].imshow(np.expand_dims(np.sort(good_modules),1),aspect='auto',cmap=plt.cm.gist_ncar,interpolation='none')\n",
    "ax[1][0].axis('off')\n",
    "sorted_mod = np.sort(good_modules)\n",
    "for i in np.arange(1,len(sorted_mod)):\n",
    "    if sorted_mod[i-1] != sorted_mod[i]:\n",
    "        ax[1][1].axvline(i,color='k',lw=1)\n",
    "        ax[0][1].axvline(i,color='k',lw=1)\n",
    "\n",
    "        ax[1][1].axhline(i,color='k',lw=1)\n",
    "        ax[1][0].axhline(i,color='k',lw=1)\n"
   ]
  },
  {
   "cell_type": "markdown",
   "metadata": {},
   "source": [
    "## Load ligand/receptor pairs"
   ]
  },
  {
   "cell_type": "code",
   "execution_count": null,
   "metadata": {},
   "outputs": [],
   "source": [
    "# load cellchatdb \n",
    "cellchat = pd.read_csv(\"gene_lists/cellchatdb_interactions.csv\")\n",
    "# load celltalkdb databases\n",
    "celltalk = pd.read_table(\"gene_lists/mouse_lr_pair.txt\")\n",
    "\n",
    "cellchat_genes = list(set(list(cellchat['receptor']) + list(cellchat['ligand'])))\n",
    "celltalk_genes = list(set(list(celltalk['ligand_gene_symbol']) + list(celltalk['receptor_gene_symbol'])))\n",
    "cellchat_genes = [i for i in cellchat_genes if i in unbinarize_list(adata_10x.raw.var_names)]"
   ]
  },
  {
   "cell_type": "markdown",
   "metadata": {},
   "source": [
    "## Make list of genes for imputation"
   ]
  },
  {
   "cell_type": "code",
   "execution_count": null,
   "metadata": {},
   "outputs": [],
   "source": [
    "# genes to use for imputation\n",
    "genes_for_imputation = unbinarize_list(list(genes_nonneurons)) + \\\n",
    "    unbinarize_list(list(genes_neurons)) + list(de_genes_age_minor_signif.gene) + list(de_genes_age_major_signif.gene) \\\n",
    "    + cellchat_genes + celltalk_genes + list(module_df.gene.unique())"
   ]
  },
  {
   "cell_type": "code",
   "execution_count": null,
   "metadata": {},
   "outputs": [],
   "source": [
    "genes_for_imputation = sorted(list(set(genes_for_imputation))) + [\"Fezf2\"]"
   ]
  },
  {
   "cell_type": "markdown",
   "metadata": {},
   "source": [
    "## Compute pseudo-age score for each celltype"
   ]
  },
  {
   "cell_type": "code",
   "execution_count": null,
   "metadata": {},
   "outputs": [],
   "source": [
    "from sklearn.decomposition import PCA, TruncatedSVD\n",
    "def compute_pseudoage_score(A, renormalize=True, densify=False):\n",
    "    \"\"\"\n",
    "    Identifies the top PC correlated with the plane separating young from old\n",
    "    \"\"\"\n",
    "    if renormalize:\n",
    "        A = A.raw.to_adata()\n",
    "        A = normalize_10x_data(A)\n",
    "    if densify:\n",
    "        pca = PCA(n_components=5).fit_transform(A.X.toarray())\n",
    "    else:\n",
    "        pca = TruncatedSVD(n_components=5).fit_transform(A.X)\n",
    "    coef = np.mean(A[A.obs.age=='90wk'].X,0)-np.mean(A[A.obs.age=='4wk'].X,0)\n",
    "    proj = np.dot(coef, A.X.T).T\n",
    "    pc_corrs = [np.corrcoef(pca[:,i].T,proj)[0,1] for i in range(pca.shape[1])]\n",
    "    max_pc_corr = np.argsort(pc_corrs)[0]   \n",
    "    pseudoage = pca[:,np.argsort(pc_corrs)[0]]\n",
    "    # invert sign so older age is greater\n",
    "    if np.mean(pseudoage[A.obs.age=='90wk']) < np.mean(pseudoage[A.obs.age=='4wk']):\n",
    "        pseudoage = -pseudoage        \n",
    "    return pseudoage\n"
   ]
  },
  {
   "cell_type": "code",
   "execution_count": null,
   "metadata": {},
   "outputs": [],
   "source": [
    "from sklearn.discriminant_analysis import LinearDiscriminantAnalysis\n",
    "def compute_lda_pseudoage_score(A,renormalize=True):\n",
    "    if renormalize:\n",
    "        A = A.raw.to_adata()\n",
    "        A = normalize_10x_data(A)\n",
    "    lda = LinearDiscriminantAnalysis().fit_transform(A.X, A.obs.age)\n",
    "    pseudoage = normalize_data(lda)\n",
    "    return pseudoage\n"
   ]
  },
  {
   "cell_type": "code",
   "execution_count": null,
   "metadata": {},
   "outputs": [],
   "source": [
    "# actually compute pseudoage scores\n",
    "adata_subset.obs['pseudoage'] = 0\n",
    "adata_subset.obs['pseudoage_lda'] = 0\n",
    "\n",
    "pseudoage_scores = {}\n",
    "pseudoage_lda_scores = {}\n",
    "for i in adata_subset.obs.cell_type.unique():\n",
    "    print(i)\n",
    "    curr_A = adata_subset[adata_subset.obs.cell_type==i]\n",
    "    pseudoage_scores[i] = compute_pseudoage_score(curr_A)    \n",
    "    pseudoage_lda_scores[i] = compute_lda_pseudoage_score(curr_A)"
   ]
  },
  {
   "cell_type": "code",
   "execution_count": null,
   "metadata": {},
   "outputs": [],
   "source": [
    "for i in adata_subset.obs.cell_type.unique():\n",
    "    adata_subset.obs.loc[adata_subset.obs.cell_type==i,\"pseudoage\"] = pseudoage_scores[i]\n",
    "    adata_subset.obs.loc[adata_subset.obs.cell_type==i,\"pseudoage_lda\"] = pseudoage_lda_scores[i]"
   ]
  },
  {
   "cell_type": "code",
   "execution_count": null,
   "metadata": {},
   "outputs": [],
   "source": [
    "sc.pl.umap(adata_subset, color=['age','pseudoage', 'pseudoage_lda'],cmap=plt.cm.seismic,vmin=0,vmax=1,size=1)"
   ]
  },
  {
   "cell_type": "code",
   "execution_count": null,
   "metadata": {},
   "outputs": [],
   "source": [
    "sc.pl.umap(adata_subset, color=['age','leiden_10x'])"
   ]
  },
  {
   "cell_type": "code",
   "execution_count": null,
   "metadata": {},
   "outputs": [],
   "source": [
    "# find major cell types for each \n",
    "#leiden_clusts = adata_subset.obs.leiden_10x\n",
    "#int_clusts = adata_subset.obs.cell_type\n",
    "#clust_map = {}\n",
    "#xtab = pd.crosstab(leiden_clusts, int_clusts)\n",
    "#for i,r in xtab.iterrows():\n",
    "#    clust_map[i] = xtab.columns[r.argmax()]\n"
   ]
  },
  {
   "cell_type": "markdown",
   "metadata": {},
   "source": [
    "## Run imputation"
   ]
  },
  {
   "cell_type": "code",
   "execution_count": null,
   "metadata": {},
   "outputs": [],
   "source": [
    "adata_subset = adata_subset.raw.to_adata()\n"
   ]
  },
  {
   "cell_type": "code",
   "execution_count": null,
   "metadata": {},
   "outputs": [],
   "source": [
    "adata_subset.shape"
   ]
  },
  {
   "cell_type": "code",
   "execution_count": null,
   "metadata": {},
   "outputs": [],
   "source": [
    "adata_subset.var_names = unbinarize_list(adata_subset.var_names)"
   ]
  },
  {
   "cell_type": "code",
   "execution_count": null,
   "metadata": {},
   "outputs": [],
   "source": [
    "adata_subset.var_names"
   ]
  },
  {
   "cell_type": "code",
   "execution_count": null,
   "metadata": {},
   "outputs": [],
   "source": [
    "good_genes_for_imputation = [i for i in genes_for_imputation if i in list(adata_subset.var_names)]"
   ]
  },
  {
   "cell_type": "code",
   "execution_count": null,
   "metadata": {},
   "outputs": [],
   "source": [
    "len(np.unique(genes_for_imputation))"
   ]
  },
  {
   "cell_type": "code",
   "execution_count": null,
   "metadata": {},
   "outputs": [],
   "source": [
    "len(good_genes_for_imputation)"
   ]
  },
  {
   "cell_type": "code",
   "execution_count": null,
   "metadata": {},
   "outputs": [],
   "source": [
    "#good_genes_for_imputation =adata_imputed.var_names"
   ]
  },
  {
   "cell_type": "code",
   "execution_count": null,
   "metadata": {},
   "outputs": [],
   "source": [
    "adata_subset = adata_subset[:, good_genes_for_imputation]"
   ]
  },
  {
   "cell_type": "code",
   "execution_count": null,
   "metadata": {},
   "outputs": [],
   "source": [
    "adata_subset.layers['sqrt_norm'] = np.sqrt(sc.pp.normalize_total(adata_subset, inplace=False)[\"X\"])"
   ]
  },
  {
   "cell_type": "code",
   "execution_count": null,
   "metadata": {},
   "outputs": [],
   "source": [
    "adata_subset.layers['raw'] = adata_subset.X.copy()"
   ]
  },
  {
   "cell_type": "code",
   "execution_count": null,
   "metadata": {},
   "outputs": [],
   "source": [
    "adata_subset = normalize_10x_data(adata_subset, identify_var_genes=False)"
   ]
  },
  {
   "cell_type": "code",
   "execution_count": null,
   "metadata": {},
   "outputs": [],
   "source": [
    "# set up imputation for expression\n",
    "npcs = 30\n",
    "pc_A = adata_combined_mer.obsm['X_pca_harmony'][:,:npcs]\n",
    "pc_B = adata_combined_10x.obsm['X_pca_harmony'][:,:npcs]\n",
    "#expr_B = adata_subset.X"
   ]
  },
  {
   "cell_type": "code",
   "execution_count": null,
   "metadata": {},
   "outputs": [],
   "source": [
    "# actually run imputation\n",
    "imputed = impute_expr_sparse(pc_A, pc_B, adata_subset[:,good_genes_for_imputation].X, n_per_batch=10000)\n",
    "imputed_sqrt = impute_expr_sparse(pc_A, pc_B, adata_subset[:,good_genes_for_imputation].layers['sqrt_norm'],n_per_batch=10000)\n",
    "imputed_raw = impute_expr_sparse(pc_A, pc_B, adata_subset[:,good_genes_for_imputation].layers['raw'],n_per_batch=10000)"
   ]
  },
  {
   "cell_type": "code",
   "execution_count": null,
   "metadata": {},
   "outputs": [],
   "source": [
    "# impute leiden cluster identity from 10X\n",
    "#imputed_leiden = impute_celltype(pc_A, pc_B, adata_subset.obs.leiden_10x)"
   ]
  },
  {
   "cell_type": "code",
   "execution_count": null,
   "metadata": {},
   "outputs": [],
   "source": [
    "# impute top 30 PCs\n",
    "#imputed_pcs = impute_obs(pc_A, pc_B, adata_subset.obsm['X_pca'])"
   ]
  },
  {
   "cell_type": "code",
   "execution_count": null,
   "metadata": {},
   "outputs": [],
   "source": [
    "# impute pseudoage\n",
    "#imputed_pseudoage = impute_obs(pc_A, pc_B, adata_subset.obs.pseudoage, n_per_batch=10000)"
   ]
  },
  {
   "cell_type": "code",
   "execution_count": null,
   "metadata": {},
   "outputs": [],
   "source": [
    "#imputed_pseudoage_lda = impute_obs(pc_A, pc_B, adata_subset.obs.pseudoage_lda, n_per_batch=10000)"
   ]
  },
  {
   "cell_type": "code",
   "execution_count": null,
   "metadata": {},
   "outputs": [],
   "source": [
    "#adata_combined_mer.obs['pseudoage'] = imputed_pseudoage"
   ]
  },
  {
   "cell_type": "code",
   "execution_count": null,
   "metadata": {},
   "outputs": [],
   "source": [
    "#adata_combined_mer.obs['pseudoage_lda'] = imputed_pseudoage_lda"
   ]
  },
  {
   "cell_type": "code",
   "execution_count": null,
   "metadata": {},
   "outputs": [],
   "source": [
    "#adata_combined_mer.obs['leiden_10x'] = imputed_leiden"
   ]
  },
  {
   "cell_type": "code",
   "execution_count": null,
   "metadata": {},
   "outputs": [],
   "source": [
    "sc.pl.umap(adata_combined_mer, color=['age','pseudoage_lda'],cmap=plt.cm.coolwarm, vmin=0,vmax=1)"
   ]
  },
  {
   "cell_type": "code",
   "execution_count": null,
   "metadata": {
    "tags": []
   },
   "outputs": [],
   "source": [
    "adata_imputed = ad.AnnData(\n",
    "    X=imputed,\n",
    "    obs=adata_combined_mer.obs,\n",
    "    var=adata_subset.var,\n",
    "    obsm=adata_combined_mer.obsm,\n",
    "   # varm=adata_combined_mer.varm,\n",
    ")"
   ]
  },
  {
   "cell_type": "code",
   "execution_count": null,
   "metadata": {},
   "outputs": [],
   "source": [
    "adata_imputed.layers['sqrt_norm'] = imputed_sqrt\n",
    "adata_imputed.layers['raw'] = imputed_raw"
   ]
  },
  {
   "cell_type": "code",
   "execution_count": null,
   "metadata": {},
   "outputs": [],
   "source": [
    "#adata_imputed.obsm['X_pca_10x'] = imputed_pcs"
   ]
  },
  {
   "cell_type": "code",
   "execution_count": null,
   "metadata": {},
   "outputs": [],
   "source": [
    "#adata_imputed.obs['clust_annot_10x'] = [clust_map[i] for i in adata_imputed.obs.leiden_10x]\n",
    "#adata_imputed.obs['cell_type_10x'] = [clust_to_celltype[i] for i in adata_imputed.obs.leiden_10x]"
   ]
  },
  {
   "cell_type": "code",
   "execution_count": null,
   "metadata": {},
   "outputs": [],
   "source": [
    "#adata_imputed.obs['pseudoage_lda'] = imputed_pseudoage_lda"
   ]
  },
  {
   "cell_type": "markdown",
   "metadata": {},
   "source": [
    "## Save out imputed data"
   ]
  },
  {
   "cell_type": "code",
   "execution_count": null,
   "metadata": {},
   "outputs": [],
   "source": [
    "adata_imputed.write_h5ad(\"/faststorage/brain_aging/merfish/exported/062422_merfish_combined_imputed.h5ad\")"
   ]
  },
  {
   "cell_type": "markdown",
   "metadata": {},
   "source": [
    "# Load imputed data"
   ]
  },
  {
   "cell_type": "code",
   "execution_count": null,
   "metadata": {},
   "outputs": [],
   "source": [
    "# load imputed data\n",
    "adata_imputed = ad.read_h5ad(\"/faststorage/brain_aging/merfish/exported/062422_merfish_combined_imputed.h5ad\")"
   ]
  },
  {
   "cell_type": "code",
   "execution_count": null,
   "metadata": {},
   "outputs": [],
   "source": [
    "adata_imputed = unbinarize_strings(adata_imputed)"
   ]
  },
  {
   "cell_type": "code",
   "execution_count": null,
   "metadata": {},
   "outputs": [],
   "source": [
    "sc.pl.umap(adata_imputed, color='age')"
   ]
  },
  {
   "cell_type": "code",
   "execution_count": null,
   "metadata": {},
   "outputs": [],
   "source": []
  },
  {
   "cell_type": "markdown",
   "metadata": {},
   "source": [
    "# QC imputed clusters"
   ]
  },
  {
   "cell_type": "markdown",
   "metadata": {},
   "source": [
    "## Check discriminabilty of leiden clusters with MERFISH"
   ]
  },
  {
   "cell_type": "code",
   "execution_count": null,
   "metadata": {},
   "outputs": [],
   "source": [
    "vc = adata_imputed.obs['leiden_10x'].value_counts()\n",
    "good_clusts = list(vc[vc>100].index)"
   ]
  },
  {
   "cell_type": "code",
   "execution_count": null,
   "metadata": {},
   "outputs": [],
   "source": [
    "adata_imputed = adata_imputed[adata_imputed.obs.leiden_10x.isin(good_clusts)]"
   ]
  },
  {
   "cell_type": "code",
   "execution_count": null,
   "metadata": {},
   "outputs": [],
   "source": [
    "# subsample at most 1000 cells from each subtype\n",
    "class_labels = adata_imputed.obs['leiden_10x']\n",
    "#class_labels = class_labels[class_labels!='42023350']\n",
    "#class_labels = class_labels[class_labels!='35390410']\n",
    "class_X = adata_imputed.obsm['X_pca_10x'][:,:25]\n",
    "pd.DataFrame(class_labels).value_counts()"
   ]
  },
  {
   "cell_type": "code",
   "execution_count": null,
   "metadata": {},
   "outputs": [],
   "source": [
    "class_labels = LabelEncoder().fit_transform(class_labels)\n",
    "#len(class_labels)"
   ]
  },
  {
   "cell_type": "code",
   "execution_count": null,
   "metadata": {
    "tags": []
   },
   "outputs": [],
   "source": [
    "\n",
    "class_idx = []\n",
    "n_to_take = 1000\n",
    "for i in np.unique(class_labels):\n",
    "    curr_class = np.argwhere(class_labels==i).flatten()\n",
    "    #\n",
    "    class_idx.extend(curr_class[np.random.permutation(len(curr_class))][:n_to_take])\n",
    "class_idx = np.array(class_idx)\n",
    "class_X = class_X[class_idx,:]\n",
    "class_labels = class_labels[class_idx]"
   ]
  },
  {
   "cell_type": "code",
   "execution_count": null,
   "metadata": {},
   "outputs": [],
   "source": []
  },
  {
   "cell_type": "code",
   "execution_count": null,
   "metadata": {},
   "outputs": [],
   "source": [
    "# make 80/20 train-test split\n",
    "from sklearn.neural_network import MLPClassifier\n",
    "from sklearn.model_selection import StratifiedShuffleSplit\n",
    "from sklearn.ensemble import RandomForestClassifier\n",
    "#from xgboost import XGBClassifier\n",
    "from sklearn.preprocessing import LabelEncoder\n",
    "sss = StratifiedShuffleSplit(n_splits=1, test_size=0.3, random_state=0)\n",
    "for train_idx, test_idx in sss.split(class_X, class_labels):\n",
    "    X_train, X_test = class_X[train_idx,:], class_X[test_idx,:]\n",
    "    y_train, y_test = class_labels[train_idx], class_labels[test_idx]\n",
    "    \n",
    "    klass = MLPClassifier(random_state=42).fit(X_train, y_train)\n",
    "    preds = klass.predict(X_test[:,:25])"
   ]
  },
  {
   "cell_type": "code",
   "execution_count": null,
   "metadata": {},
   "outputs": [],
   "source": [
    "from sklearn.metrics import confusion_matrix, plot_confusion_matrix\n",
    "cmat = confusion_matrix(y_test, preds).astype(np.float64).T\n",
    "for i in range(cmat.shape[0]):\n",
    "    if cmat[i,:].sum() > 0:\n",
    "        cmat[i,:] = cmat[i,:]/cmat[i,:].sum()\n"
   ]
  },
  {
   "cell_type": "code",
   "execution_count": null,
   "metadata": {},
   "outputs": [],
   "source": [
    "plt.figure(figsize=(10,10))\n",
    "plt.imshow(cmat,cmap=plt.cm.Reds,vmin=0,vmax=1)\n"
   ]
  },
  {
   "cell_type": "markdown",
   "metadata": {},
   "source": [
    "### train classifier on non-imputed 10X and apply to imputed"
   ]
  },
  {
   "cell_type": "code",
   "execution_count": null,
   "metadata": {},
   "outputs": [],
   "source": [
    "klass = MLPClassifier(random_state=42).fit(adata_subset.obsm['X_pca'][:,:25], adata_subset.obs.leiden_10x)\n"
   ]
  },
  {
   "cell_type": "code",
   "execution_count": null,
   "metadata": {},
   "outputs": [],
   "source": [
    "preds = klass.predict(adata_imputed.obsm['X_pca_10x'])"
   ]
  },
  {
   "cell_type": "code",
   "execution_count": null,
   "metadata": {},
   "outputs": [],
   "source": [
    "from sklearn.metrics import confusion_matrix, plot_confusion_matrix\n",
    "cmat = confusion_matrix(adata_imputed.obs['leiden_10x'], preds).astype(np.float64).T\n",
    "for i in range(cmat.shape[0]):\n",
    "    if cmat[i,:].sum() > 0:\n",
    "        cmat[i,:] = cmat[i,:]/cmat[i,:].sum()\n"
   ]
  },
  {
   "cell_type": "code",
   "execution_count": null,
   "metadata": {},
   "outputs": [],
   "source": [
    "plt.figure(figsize=(10,10))\n",
    "plt.imshow(cmat,cmap=plt.cm.Reds,vmin=0,vmax=1)\n",
    "plt.xlabel('Predicted cluster')\n",
    "plt.ylabel('Actual cluster')"
   ]
  },
  {
   "cell_type": "markdown",
   "metadata": {},
   "source": [
    "## Plot marker genes, etc between raw, imputed, and MERFISH"
   ]
  },
  {
   "cell_type": "code",
   "execution_count": null,
   "metadata": {},
   "outputs": [],
   "source": [
    "sc.pl.umap(adata_subset, color=['age','Il33', 'Gfap','B2m','C4b','Lyz2'],layer='sqrt_norm',cmap=plt.cm.Reds)"
   ]
  },
  {
   "cell_type": "code",
   "execution_count": null,
   "metadata": {},
   "outputs": [],
   "source": [
    "sc.pl.umap(adata_imputed, color=['age','Il33', 'Gfap','B2m','C4b','Lyz2'],layer='sqrt_norm',cmap=plt.cm.Reds)"
   ]
  },
  {
   "cell_type": "markdown",
   "metadata": {},
   "source": [
    "# Fig 1: Basic data UMAP"
   ]
  },
  {
   "cell_type": "code",
   "execution_count": null,
   "metadata": {},
   "outputs": [],
   "source": [
    "# plot integrated stuff"
   ]
  },
  {
   "cell_type": "code",
   "execution_count": null,
   "metadata": {},
   "outputs": [],
   "source": [
    "#adata_imputed = unbinarize_strings(adata_imputed)"
   ]
  },
  {
   "cell_type": "code",
   "execution_count": null,
   "metadata": {},
   "outputs": [],
   "source": []
  },
  {
   "cell_type": "code",
   "execution_count": null,
   "metadata": {},
   "outputs": [],
   "source": [
    "import seaborn as sns"
   ]
  },
  {
   "cell_type": "code",
   "execution_count": null,
   "metadata": {},
   "outputs": [],
   "source": [
    "temp = adata_imputed[adata_imputed.obs.cell_type_10x==\"Astro\"]\n",
    "sc.pl.violin(temp, ['pseudoage'], groupby='clust_annot_10x')"
   ]
  },
  {
   "cell_type": "code",
   "execution_count": null,
   "metadata": {},
   "outputs": [],
   "source": [
    "temp = adata_imputed[adata_imputed.obs.cell_type_10x==\"Olig\"]\n",
    "sc.pl.violin(temp, ['pseudoage'], groupby='clust_annot_10x')"
   ]
  },
  {
   "cell_type": "code",
   "execution_count": null,
   "metadata": {},
   "outputs": [],
   "source": [
    "sorted(list(adata_imputed.obs.clust_annot_10x.unique()))"
   ]
  },
  {
   "cell_type": "code",
   "execution_count": null,
   "metadata": {},
   "outputs": [],
   "source": [
    "temp = adata_imputed[adata_imputed.obs.cell_type_10x==\"Micro\"]\n",
    "sc.pl.violin(temp, ['pseudoage'], groupby='clust_annot_10x')"
   ]
  },
  {
   "cell_type": "markdown",
   "metadata": {},
   "source": [
    "# Fig 2: Cell typing"
   ]
  },
  {
   "cell_type": "markdown",
   "metadata": {},
   "source": [
    "## Define colors"
   ]
  },
  {
   "cell_type": "code",
   "execution_count": null,
   "metadata": {},
   "outputs": [],
   "source": [
    "import seaborn as sns\n",
    "from cycler import cycler\n",
    "import numpy as np\n",
    "import matplotlib.pyplot as plt\n",
    "from scipy.spatial.transform import Rotation as R\n",
    "from statsmodels.stats.multitest import multipletests\n",
    "import matplotlib as mpl\n",
    "def gen_light_palette(prefix, color_name, uniq_clusts):\n",
    "    n = np.sum([1 if prefix in i else 0 for i in uniq_clusts])\n",
    "    return sns.light_palette(color_name, n_colors=n+2)[2:]\n",
    "\n",
    "def gen_dark_palette(prefix, color_name, uniq_clusts):\n",
    "    n = np.sum([1 if prefix in i else 0 for i in uniq_clusts])\n",
    "    return sns.dark_palette(color_name, n_colors=n+2)[2:]\n",
    "clust_cell_types_10x = {\n",
    "# Astro -- green\n",
    "\"Astro\" : \"seagreen\",\n",
    "# Excitatory -- red/orange\n",
    "\"ExN-L2/3\" : \"darkorange\",\n",
    "\"ExN-L5\" : \"lightsalmon\",\n",
    "\"ExN-L6\" : \"maroon\",\n",
    "\"ExN-Olf\" : \"firebrick\",\n",
    "# inhibitory -- blue/purple\n",
    "'InN-Olf' : \"cornflowerblue\",\n",
    "#'InN-Adarb2' : \"lightsteelblue\",\n",
    "'InN-Chat' : \"lavender\",\n",
    "#'InN-Egfr' : \"turquoise\",\n",
    "#'InN-Calb' : \"teal\",\n",
    "'InN-Lhx6':'lightsteelblue',\n",
    "\n",
    "'InN-Calb2' : \"navy\",\n",
    "'InN-Lamp5' : \"royalblue\",\n",
    "'InN-Pvalb' : \"steelblue\",\n",
    "'InN-Sst' : \"dodgerblue\",\n",
    "'InN-Vip' : \"deepskyblue\",\n",
    "\"MSN-D1\" : \"mediumslateblue\",\n",
    "\"MSN-D2\" : \"rebeccapurple\",\n",
    "# immune cells + microglia -- pink\n",
    "\"Micro\" : \"deeppink\",\n",
    "\"Macro\" : \"hotpink\",\n",
    "\n",
    "# Endothelial/vasculure -- gold/tan\n",
    "\"Vlmc\" : \"olive\",\n",
    "\"Endo\" : \"khaki\",\n",
    "\"Peri\" : \"goldenrod\",\n",
    "\n",
    "# Oligodendrocytes\n",
    "\"Olig\" : \"slategrey\",\n",
    "\"OPC\" : \"black\"\n",
    "}\n",
    " \n",
    "\n",
    "major_cell_types_10x = {\n",
    "# Astro -- green\n",
    "\"Astro\" : \"seagreen\",\n",
    "# Excitatory -- red/orange\n",
    "\"ExN\" : \"lightcoral\",\n",
    "# inhibitory -- blue/purple\n",
    "\"InN\" : \"cornflowerblue\",\n",
    "\"MSN\" : \"mediumpurple\",\n",
    "\n",
    "# immune cells + microglia -- pink\n",
    "\"Micro\" : \"pink\",\n",
    "\"Macro\" : \"violet\",\n",
    "\n",
    "# Endothelial/vasculure -- gold/tan\n",
    "\"Vlmc\" : \"gold\",\n",
    "\"Endo\" : \"khaki\",\n",
    "\"Peri\" : \"goldenrod\",\n",
    "\n",
    "# Oligodendrocytes\n",
    "\"Olig\" : \"slategrey\",\n",
    "\"OPC\" : \"black\"\n",
    "}\n",
    "\n",
    "def generate_palettes_10x(A,clust_key=\"clust_annot_10x\", cell_type_key=\"cell_type_10x\"):\n",
    "    print(\"Updated\")\n",
    "    uniq_celltypes = np.sort(np.unique(A.obs[cell_type_key]))\n",
    "    uniq_clusts = np.sort(A.obs[clust_key].unique())\n",
    "\n",
    "    celltype_pals = []\n",
    "    for i in uniq_celltypes:\n",
    "        pal = gen_dark_palette(i, major_cell_types_10x[i], uniq_celltypes)\n",
    "        celltype_pals.append(pal)\n",
    "    celltype_pals = cycler(color=np.vstack(celltype_pals))\n",
    " \n",
    "    celltype_colors = {}\n",
    "    for i,c in enumerate(iter(celltype_pals)):\n",
    "        celltype_colors[uniq_celltypes[i]] = c['color']\n",
    " \n",
    "    clust_pals = []\n",
    "    label_colors = {}\n",
    "    for i in sorted(clust_cell_types.keys()):\n",
    "        n = np.sum([1 if i in j else 0 for j in uniq_clusts])\n",
    "        if n > 0:\n",
    "            pal = gen_dark_palette(i, clust_cell_types_10x[i], uniq_clusts)\n",
    "            print(i,pal)\n",
    "            clust_pals.append(pal)\n",
    "            # find palettes for cell types\n",
    "            curr_clusts = sorted([k for k in uniq_clusts if i in k])\n",
    "            for n,p in enumerate(pal):\n",
    "                label_colors[curr_clusts[n]] = p\n",
    "        else:\n",
    "            print(\"Couldn't find clust\", i)\n",
    "    clust_pals = cycler(color=np.vstack(clust_pals))\n",
    "     #label_colors = {}\n",
    "     #for i, c in enumerate(iter(clust_pals)):\n",
    "     #    label_colors[valid_clusts[i]] = c['color']\n",
    " \n",
    "    return celltype_colors, celltype_pals, label_colors, clust_pals\n"
   ]
  },
  {
   "cell_type": "code",
   "execution_count": null,
   "metadata": {
    "tags": []
   },
   "outputs": [],
   "source": [
    "age_colors = ['cornflowerblue','thistle','lightcoral']\n",
    "age_cmap = mpl.colors.ListedColormap(age_colors)\n",
    "dtype_colors = ['mediumslateblue', 'goldenrod']\n",
    "dtype_cmap = mpl.colors.ListedColormap(dtype_colors)\n",
    "celltype_colors, celltype_pals, label_colors, clust_pals = generate_palettes(adata_imputed)"
   ]
  },
  {
   "cell_type": "code",
   "execution_count": null,
   "metadata": {},
   "outputs": [],
   "source": [
    "sc.pl.umap(adata_imputed, color=['cell_type'], palette=celltype_pals)"
   ]
  },
  {
   "cell_type": "code",
   "execution_count": null,
   "metadata": {},
   "outputs": [],
   "source": [
    "sc.pl.umap(adata_imputed, color=['clust_annot'], palette=clust_pals)"
   ]
  },
  {
   "cell_type": "code",
   "execution_count": null,
   "metadata": {},
   "outputs": [],
   "source": [
    "sc.pl.umap(adata_imputed, color=['age'], palette=sns.color_palette(age_colors))"
   ]
  },
  {
   "cell_type": "code",
   "execution_count": null,
   "metadata": {},
   "outputs": [],
   "source": [
    "sc.pl.umap(adata_imputed, color=['dtype'], palette=sns.color_palette(dtype_colors))"
   ]
  },
  {
   "cell_type": "markdown",
   "metadata": {},
   "source": [
    "## Make heatmap of celltype markers"
   ]
  },
  {
   "cell_type": "code",
   "execution_count": null,
   "metadata": {},
   "outputs": [],
   "source": [
    "adata_imputed.raw = adata_imputed\n"
   ]
  },
  {
   "cell_type": "code",
   "execution_count": null,
   "metadata": {},
   "outputs": [],
   "source": [
    "# subset of 10X cells with only clusters in MERFISH also\n",
    "adata_subset_shared = adata_subset[adata_subset.obs.clust_annot.isin(adata_imputed.obs.clust_annot.unique())]"
   ]
  },
  {
   "cell_type": "code",
   "execution_count": null,
   "metadata": {
    "tags": []
   },
   "outputs": [],
   "source": [
    "import seaborn as sns\n",
    "clust_avg = []\n",
    "clust_ids = sorted(adata_imputed.obs.clust_annot.unique())\n",
    "for i in clust_ids:\n",
    "    print(i)\n",
    "    clust_avg.append(adata_imputed[adata_imputed.obs.clust_annot == i].X.mean(0))\n",
    "# make dendrogram\n",
    "clust_avg = np.vstack(clust_avg)"
   ]
  },
  {
   "cell_type": "code",
   "execution_count": null,
   "metadata": {},
   "outputs": [],
   "source": [
    "from scipy.spatial.distance import pdist\n",
    "import scipy.cluster.hierarchy as hc\n",
    "\n",
    "D = pdist(clust_avg,'correlation')\n",
    "Z = hc.linkage(D,'complete',optimal_ordering=True)\n",
    "#label_colors['NA'] = (0,0,0)\n",
    "dn = hc.dendrogram(Z)\n",
    "lbl_order = [clust_ids[c] for c in dn['leaves']]"
   ]
  },
  {
   "cell_type": "code",
   "execution_count": null,
   "metadata": {
    "tags": []
   },
   "outputs": [],
   "source": [
    "# compute fraction of each cluster per age and per brain area\n",
    "n_bins = 100\n",
    "frac_per_age = np.zeros((len(lbl_order), n_bins))\n",
    "#frac4 = total_4wk/(total_90wk+total_24wk+total_4wk)\n",
    "#frac24 = total_24wk/(total_90wk+total_24wk+total_4wk)\n",
    "#frac90 = total_90wk/(total_90wk+total_24wk+total_4wk)\n",
    "\n",
    "total_90wk = np.sum(adata_imputed.obs.age=='90wk')\n",
    "total_24wk = np.sum(adata_imputed.obs.age=='24wk')\n",
    "total_4wk = np.sum(adata_imputed.obs.age=='4wk')\n",
    "\n",
    "for n,c in enumerate(lbl_order):\n",
    "    curr_clust = adata_imputed[adata_imputed.obs.clust_annot==c]\n",
    "    # count fraction of total cells that are in this area for each age\n",
    "    curr4 = np.sum(curr_clust.obs.age == \"4wk\")/curr_clust.shape[0] #np.sum(adata_combined.obs.age == \"4wk\")\n",
    "    curr24 = np.sum(curr_clust.obs.age == \"24wk\")/curr_clust.shape[0] #np.sum(adata_combined.obs.age == \"24wk\")\n",
    "    curr90 = np.sum(curr_clust.obs.age == \"90wk\")/curr_clust.shape[0] #np.sum(adata_combined.obs.age == \"90wk\")\n",
    "    \n",
    "    # scale based on the relative number of cells in each age in the total experiment\n",
    "    denom = total_4wk + total_24wk + total_90wk\n",
    "    #denom = total_4wk + total_90wk\n",
    "    curr4 /= total_4wk\n",
    "    curr24 /= total_24wk\n",
    "    curr90 /= total_90wk\n",
    "    denom = curr4+curr24+curr90\n",
    "    #denom = curr4+ curr90\n",
    "    curr4 /= denom\n",
    "    curr24 /= denom\n",
    "    curr90 /= denom\n",
    "    nbins90 = int(round(n_bins*curr90))\n",
    "    nbins24 = int(round(n_bins*curr24))\n",
    "    print(n, c, curr4, curr90)\n",
    "    #frac_per_age[n,:] = np.hstack([np.ones(nbins90),\n",
    "    #                               np.zeros(n_bins-nbins90)])\n",
    "\n",
    "    frac_per_age[n,:] = np.hstack([2*np.ones(nbins90),\n",
    "                                   np.ones(nbins24), \n",
    "                                   np.zeros(n_bins-nbins90-nbins24)])\n"
   ]
  },
  {
   "cell_type": "code",
   "execution_count": null,
   "metadata": {},
   "outputs": [],
   "source": [
    "# fraction of cells in MERFISH vs scRNAseq\n",
    "frac_per_dtype = np.zeros((len(lbl_order), n_bins))\n",
    "\n",
    "for n,c in enumerate(lbl_order):\n",
    "    curr_clust = adata_combined[adata_combined.obs.clust_annot==c]\n",
    "    curr_merfish = np.sum(curr_clust.obs.dtype == \"merfish\")/curr_clust.shape[0] #np.sum(adata_combined.obs.age == \"4wk\")\n",
    "    curr_10x = np.sum(curr_clust.obs.dtype == \"scrnaseq\")/curr_clust.shape[0] #np.sum(adata_combined.obs.age == \"4wk\")\n",
    "\n",
    "    curr_merfish /= np.sum(adata_combined.obs.dtype=='merfish')\n",
    "    curr_10x /=  np.sum(adata_combined.obs.dtype=='scrnaseq')\n",
    "    denom = curr_merfish + curr_10x\n",
    "    curr_merfish /= denom\n",
    "    curr_10x /= denom\n",
    "    print(n, c, curr_merfish, curr_10x)\n",
    "    frac_per_dtype[n,:] = np.hstack([np.zeros(round(n_bins*(curr_merfish))), \n",
    "                                   np.ones(round(n_bins*(1-curr_merfish)))])\n"
   ]
  },
  {
   "cell_type": "code",
   "execution_count": null,
   "metadata": {},
   "outputs": [],
   "source": [
    "# make values for dotplot\n",
    "dotplot_genes =[\n",
    " 'Slc17a7',\n",
    "\n",
    "     'Gad2',\n",
    "\n",
    "    'Olig1',\n",
    " 'Cspg4',\n",
    " 'Aqp4',\n",
    " 'Rorb',\n",
    " 'Tshz2',\n",
    " 'Cldn5',\n",
    " 'Vtn',\n",
    " 'Pdgfra',\n",
    " 'F13a1',\n",
    " 'Cd3e',\n",
    " 'Ctss',\n",
    " 'Adora2a',\n",
    " 'Drd1',\n",
    " 'Otof',\n",
    " 'Calb2',\n",
    " 'Cpne7',\n",
    " 'Chat',\n",
    " 'Vip',\n",
    " 'Adarb2',\n",
    " 'Lamp5',\n",
    " 'Cux2',\n",
    " 'Pvalb',\n",
    " 'Sst',\n",
    " 'Lhx6',\n",
    " 'Hs3st4',\n",
    " 'Syt6',\n",
    " 'Ndst4',\n",
    " 'Ptpru',\n",
    " 'Rspo1',\n",
    " 'Scube1']\n",
    "\n",
    "\n",
    "dotplot_genes = [i for i in dotplot_genes if i in adata_imputed.var_names]\n",
    "from scipy.stats import zscore\n",
    "#[\"Slc17a7\", 'Gad1','Npr3', \"Ndst4\",\"Ptpru\", \"Scube1\", \"Cux2\", \"Fezf2\",'Chat','Pvalb','Sst','Calb2','Lamp5','Adarb2','Vip',\"Drd1\",\"Drd2\",\"Cd3e\",\"Cd74\",\"Igf2\",\"Cx3cr1\",\"Cpne7\",\"Tshz2\",\"Flt1\",\"Vtn\", \"Aqp4\",\"Foxj1\", \"Pdgfra\", \"Plp1\",\"F13a1\"]\n",
    "#sc.pl.dotplot(adata, [\"Gad1\", \"Slc17a7\", \"Slc17a6\", \"Adora2a\", \"Drd1\", \"Olig1\", \"Pdgfra\", \"Aqp4\", \"Csf1r\"],\n",
    "#              categories_order=lbl_order, groupby='clust_label', swap_axes=True, ax=ax)\n",
    "dotplot_vals = np.zeros((len(dotplot_genes), len(lbl_order)))\n",
    "dotplot_frac = np.zeros((len(dotplot_genes), len(lbl_order)))\n",
    "\n",
    "for n,i in enumerate(lbl_order):\n",
    "    dotplot_vals[:,n] = np.mean(adata_imputed[adata_imputed.obs.clust_annot == i][:, dotplot_genes].X.toarray(),0)\n",
    "    dotplot_frac[:,n] = np.sum(adata_imputed[adata_imputed.obs.clust_annot == i][:, dotplot_genes].X.toarray()>0,0)/np.sum(adata_imputed.obs.clust_annot == i)\n",
    "for n,i in enumerate(dotplot_genes):\n",
    "    dotplot_vals[n,:] = zscore(dotplot_vals[n,:])\n",
    "    #dotplot_vals[n,:] /= dotplot_vals[n,:].max()\n",
    "max_idx = np.arange(len(dotplot_genes))\n",
    "\n",
    "# uncomment optimize order\n",
    "from scipy.optimize import linear_sum_assignment\n",
    "#_, max_idx = linear_sum_assignment(-dotplot_frac.T)\n",
    "#dotplot_genes = [dotplot_genes[i] for i in max_idx]\n"
   ]
  },
  {
   "cell_type": "code",
   "execution_count": null,
   "metadata": {},
   "outputs": [],
   "source": [
    "from scipy.stats import ttest_ind, ranksums, fisher_exact, chisquare\n",
    "from statsmodels.stats.proportion import proportions_ztest, test_proportions_2indep"
   ]
  },
  {
   "cell_type": "code",
   "execution_count": null,
   "metadata": {},
   "outputs": [],
   "source": [
    "sns.set_style('white')"
   ]
  },
  {
   "cell_type": "code",
   "execution_count": null,
   "metadata": {},
   "outputs": [],
   "source": [
    "#f,ax = plt.subplots(figsize=(20,2.5), nrows=3, ncols=1)\n",
    "dotscale = 35\n",
    "f = plt.figure(figsize=(8,8))\n",
    "gs = plt.GridSpec(nrows=5, ncols=1, height_ratios=[5,1,30,6,6], hspace=0.1)\n",
    "ax = plt.subplot(gs[0])\n",
    "\n",
    "hc.dendrogram(Z,ax=ax,labels=clust_ids,leaf_font_size=10,color_threshold=0,above_threshold_color='k');\n",
    "sns.despine(ax=ax,left=True)\n",
    "ax.axis('off')\n",
    "lbl_order = []\n",
    "for lbl in plt.gca().get_xmajorticklabels():\n",
    "    if lbl != 'NA':\n",
    "        #lbl.set_color(label_colors[lbl.get_text()])\n",
    "        lbl_order.append(lbl.get_text())\n",
    "ax = plt.subplot(gs[1])\n",
    "\n",
    "curr_cols = mpl.colors.ListedColormap([label_colors[c] for c in lbl_order])\n",
    "ax.imshow(np.expand_dims(np.arange(len(label_colors.keys())),1).T, cmap=curr_cols,aspect='auto',interpolation='none')\n",
    "#ax.axis('off')\n",
    "ax.set_yticklabels([])\n",
    "ax.set_xticks(np.arange(len(lbl_order)))\n",
    "ax.set_xticklabels([np.sum(adata_imputed.obs.clust_annot_10x==c) for c in lbl_order],rotation=90)\n",
    "sns.despine(ax=ax,left=True)\n",
    "ax = plt.subplot(gs[2])\n",
    "\n",
    "for i in range(dotplot_vals.shape[1]):\n",
    "    plt.scatter( i*np.ones((dotplot_vals.shape[0])),-np.arange(dotplot_vals.shape[0]), c=dotplot_vals[max_idx,:][:,i], s=dotscale*dotplot_frac[max_idx,:][:,i], cmap=plt.cm.seismic, vmin=-5,vmax=5)\n",
    "ax.set_yticks(-np.arange(len(dotplot_genes)));\n",
    "ax.set_yticklabels(dotplot_genes, fontsize=8)\n",
    "ax.set_xlim([-0.5, dotplot_vals.shape[1]-0.5])\n",
    "ax.set_xticks([])\n",
    "sns.despine(ax=ax,bottom=True)\n",
    "#ax.axis('off')\n",
    "\n",
    "# age\n",
    "ax = plt.subplot(gs[3])\n",
    "ax.imshow(frac_per_age.T, vmin=0,vmax=2,aspect='auto',interpolation='none', cmap=age_cmap)\n",
    "ax.set_yticklabels([])\n",
    "ax.set_xticks([])\n",
    "#ax.set_xticklabels(lbl_order,rotation=90); #[str(np.sum(adata.obs.clust_label==i)) + \" \" + i for i in lbl_order])\n",
    "ax.axhline(50,color='w',linestyle='--')\n",
    "#ax.axhline(66,color='w',linestyle='--')\n",
    "sns.despine(ax=ax, left=True)\n",
    "\n",
    "# dtype\n",
    "ax = plt.subplot(gs[4])\n",
    "ax.imshow(frac_per_dtype.T, vmin=0,vmax=1,aspect='auto',interpolation='none', cmap=dtype_cmap)\n",
    "ax.set_yticklabels([])\n",
    "ax.set_xticks(np.arange(len(lbl_order)))\n",
    "ax.set_xticklabels(lbl_order,rotation=90); #[str(np.sum(adata.obs.clust_label==i)) + \" \" + i for i in lbl_order])\n",
    "ax.axhline(50,color='w',linestyle='--')\n",
    "\n",
    "sns.despine(ax=ax, left=True)\n",
    "for lbl in plt.gca().get_xmajorticklabels():\n",
    "    if lbl != 'NA':\n",
    "        lbl.set_color(label_colors[lbl.get_text()])\n",
    "    #if lbl.get_text() in signif_change:\n",
    "    #    lbl.set_text(\"* \" + lbl.get_text())\n",
    "#ax.set_xticklabels(lbl_order_starred,rotation=90); #[str(np.sum(adata.obs.clust_label==i)) + \" \" + i for i in lbl_order])\n",
    "\n",
    "#save_fig(f,\"fig1_cluster_heatmap\",dtype=\"pdf\")"
   ]
  },
  {
   "cell_type": "markdown",
   "metadata": {},
   "source": [
    "## Make violin plot of marker genes for each subtype"
   ]
  },
  {
   "cell_type": "code",
   "execution_count": null,
   "metadata": {},
   "outputs": [],
   "source": [
    "genes_to_show = {\n",
    "    \"Endo\" : [\"Ly6a\",\"Apoe\",\"B2m\",\"Rbm20\",\"Tmem209\", \"Xdh\",\"Fmo2\",\"Bgn\"],\n",
    "    \"Micro\" : [\"Dpp10\",\"Meg3\",\"Ctss\",\"Chrm3\",\"Trem2\",\"Trim30a\",\"Itgb2\",\"B2m\"],\n",
    "    \"Astro\" : [\"Lsamp\",\"Gpc5\",\"Slc1a2\",\"Luzp2\",\"Trpm3\",\"Brinp3\",\"Gfap\",\"C4b\"],\n",
    "    \"Olig\" : [\"Ank2\",\"Trim2\",\"Robo1\",\"Spock1\",\"C4b\",\"Neat1\",\"Dgki\",\"Il33\"]\n",
    "}"
   ]
  },
  {
   "cell_type": "code",
   "execution_count": null,
   "metadata": {},
   "outputs": [],
   "source": [
    "for i in genes_to_show.values():\n",
    "    print(len(i))"
   ]
  },
  {
   "cell_type": "code",
   "execution_count": null,
   "metadata": {},
   "outputs": [],
   "source": [
    "cmaps = {'Endo' : plt.cm.YlOrBr,\n",
    "         'Micro' : plt.cm.Reds,\n",
    "         'Astro' : plt.cm.YlGn,\n",
    "         'Olig' : plt.cm.Greys}\n",
    "for i in [\"Endo\",\"Micro\",\"Astro\",\"Olig\"]:\n",
    "    curr_adata = adata_sqrt_norm[adata_sqrt_norm.obs.cell_type==i]\n",
    "    f, ax = plt.subplots(figsize=(5,5))\n",
    "    sc.pl.stacked_violin(curr_adata, genes_to_show[i], groupby='clust_annot',ax=ax,cmap=cmaps[i])\n",
    "    save_fig(f, f\"fig2_{i}_violin\",\"pdf\")"
   ]
  },
  {
   "cell_type": "code",
   "execution_count": null,
   "metadata": {},
   "outputs": [],
   "source": [
    "for i in [\"Endo\",\"Micro\",\"Astro\",\"Olig\"]:\n",
    "    curr_adata = adata_sqrt_norm[adata_sqrt_norm.obs.cell_type==i]\n",
    "    sc.tl.rank_genes_groups(curr_adata, 'clust_annot', use_raw=False, method='t-test_overestim_var')\n",
    "    #sc.tl.filter_rank_genes_groups(curr_adata, min_fold_change=1.5, min_in_group_fraction=0.2)\n",
    "\n",
    "    sc.pl.rank_genes_groups(curr_adata, key='rank_genes_groups')"
   ]
  },
  {
   "cell_type": "markdown",
   "metadata": {},
   "source": [
    "## Compute pseudoage based on imputed data"
   ]
  },
  {
   "cell_type": "code",
   "execution_count": null,
   "metadata": {},
   "outputs": [],
   "source": [
    "# actually compute pseudoage scores\n",
    "from sklearn.decomposition import TruncatedSVD\n",
    "adata_imputed.obs['pseudoage_imputed'] = 0\n",
    "adata_imputed.obs['pseudoage_pca'] = 0\n",
    "pseudoage_ct = ['Astro','Endo','Olig','Micro','OPC']\n",
    "pseudoage_scores = {}\n",
    "pseudoage_pca_scores = {}\n",
    "for i in pseudoage_ct:\n",
    "    print(i)\n",
    "    curr_A = adata_imputed[adata_imputed.obs.cell_type==i]\n",
    "    pca = TruncatedSVD(n_components=30).fit_transform(curr_A.X)\n",
    "    diff = pca[curr_A.obs.age=='90wk',:].mean(0) - pca[curr_A.obs.age=='4wk',:].mean(0)\n",
    "    proj = np.dot(diff, pca.T)\n",
    "    pseudoage_scores[i] = proj#compute_pseudoage_score(curr_A, renormalize=False, densify=False)    \n",
    "    pca_youngold = TruncatedSVD(n_components=30).fit(curr_A[curr_A.obs.age.isin(['4wk','90wk'])].X)\n",
    "    pseudoage_pca_scores[i] = pca_youngold.transform(curr_A.X)[:,0]"
   ]
  },
  {
   "cell_type": "code",
   "execution_count": null,
   "metadata": {},
   "outputs": [],
   "source": [
    "for i in pseudoage_ct:\n",
    "    adata_imputed.obs.loc[adata_imputed.obs.cell_type==i,'pseudoage_imputed'] = pseudoage_scores[i]\n",
    "    adata_imputed.obs.loc[adata_imputed.obs.cell_type==i,'pseudoage_pca'] = pseudoage_pca_scores[i]"
   ]
  },
  {
   "cell_type": "code",
   "execution_count": null,
   "metadata": {},
   "outputs": [],
   "source": [
    "def normalize_data_quantile(x):\n",
    "    return (x-np.quantile(x,0.05))/(np.quantile(x, 0.95) - np.quantile(x, 0.05))\n",
    "adata_imputed.obs['pseudoage_norm'] = 0\n",
    "adata_imputed.obs['pseudoage_imputed_norm'] = 0\n",
    "adata_imputed.obs['pseudoage_pca_norm'] = 0\n",
    "\n",
    "for i in pseudoage_ct:\n",
    "#    # normalize\n",
    "#    adata_imputed.obs.loc[adata_imputed.obs.cell_type==i,\"pseudoage_imputed\"] = normalize_data(pseudoage_scores[i])\n",
    "    temp = adata_imputed.obs.loc[adata_imputed.obs.cell_type==i,\"pseudoage\"]\n",
    "    adata_imputed.obs.loc[adata_imputed.obs.cell_type==i,\"pseudoage_norm\"] = normalize_data_quantile(temp)\n",
    "    temp2 = adata_imputed.obs.loc[adata_imputed.obs.cell_type==i,\"pseudoage_imputed\"]\n",
    "    adata_imputed.obs.loc[adata_imputed.obs.cell_type==i,\"pseudoage_imputed_norm\"] = normalize_data_quantile(temp2)\n",
    "    temp3 = adata_imputed.obs.loc[adata_imputed.obs.cell_type==i,\"pseudoage_pca\"]\n",
    "    adata_imputed.obs.loc[adata_imputed.obs.cell_type==i,\"pseudoage_pca_norm\"] = normalize_data_quantile(temp3)"
   ]
  },
  {
   "cell_type": "code",
   "execution_count": null,
   "metadata": {},
   "outputs": [],
   "source": [
    "sc.pl.umap(adata_imputed, color=['age','pseudoage_imputed_norm','pseudoage_pca_norm', 'pseudoage_norm'], vmin=0,vmax=1,cmap=plt.cm.seismic)"
   ]
  },
  {
   "cell_type": "markdown",
   "metadata": {},
   "source": [
    "## Plot pseudoage distribution scores"
   ]
  },
  {
   "cell_type": "code",
   "execution_count": null,
   "metadata": {},
   "outputs": [],
   "source": [
    "sns.set_style('white')"
   ]
  },
  {
   "cell_type": "code",
   "execution_count": null,
   "metadata": {},
   "outputs": [],
   "source": [
    "ylim = [-0.5, 1.75]\n",
    "key = 'pseudoage_imputed_norm'\n",
    "fig_size = [3,5]\n",
    "#f,axes = plt.subplots(nrows=2,ncols=2,figsize=(4,8),gridspec_kw={'wspace':0.75,'hspace':0.25})\n",
    "#ax = axes[0][0]\n",
    "#plt.figure(figsize=fig_size)\n",
    "sns.displot(x=key, data=adata_imputed[adata_imputed.obs.cell_type==\"Astro\"].obs, aspect=2, common_norm=False,hue='age',kind='kde',palette=sns.color_palette(age_colors),ax=ax,fill=True)\n",
    "sns.despine()\n",
    "plt.xlim(ylim)\n",
    "plt.title('Astro')\n",
    "plt.savefig(\"/home/user/Dropbox/zhuang_lab/aging/aging_atlas_paper_v2/figures_imputed/fig1_pseudoage_astro.pdf\",bbox_inches=\"tight\",dpi=300)\n",
    "\n",
    "#ax = axes[0][1]\n",
    "#plt.figure(figsize=fig_size)\n",
    "sns.displot(x=key, data=adata_imputed[adata_imputed.obs.cell_type==\"Micro\"].obs, aspect=2, common_norm=False,hue='age',kind='kde',palette=sns.color_palette(age_colors),ax=ax,fill=True)\n",
    "sns.despine()\n",
    "plt.xlim(ylim)\n",
    "plt.title('Micro')\n",
    "plt.savefig(\"/home/user/Dropbox/zhuang_lab/aging/aging_atlas_paper_v2/figures_imputed/fig1_pseudoage_micro.pdf\",bbox_inches=\"tight\",dpi=300)\n",
    "\n",
    "#ax = axes[1][0]\n",
    "#plt.figure(figsize=fig_size)\n",
    "sns.displot(x=key, data=adata_imputed[adata_imputed.obs.cell_type==\"Olig\"].obs, aspect=2, common_norm=False,hue='age',kind='kde',palette=sns.color_palette(age_colors),ax=ax,fill=True)\n",
    "plt.xlim(ylim)\n",
    "plt.title('Olig')\n",
    "plt.savefig(\"/home/user/Dropbox/zhuang_lab/aging/aging_atlas_paper_v2/figures_imputed/fig1_pseudoage_olig.pdf\",bbox_inches=\"tight\",dpi=300)\n",
    "\n",
    "#ax = axes[1][1]\n",
    "#plt.figure(figsize=fig_size)\n",
    "sns.displot(x=key, data=adata_imputed[adata_imputed.obs.cell_type==\"Endo\"].obs, aspect=2, common_norm=False,hue='age',kind='kde',palette=sns.color_palette(age_colors),ax=ax,fill=True)\n",
    "sns.despine()\n",
    "plt.title('Endo')\n",
    "plt.xlim(ylim)\n",
    "plt.savefig(\"/home/user/Dropbox/zhuang_lab/aging/aging_atlas_paper_v2/figures_imputed/fig1_pseudoage_endo.pdf\",bbox_inches=\"tight\")\n"
   ]
  },
  {
   "cell_type": "code",
   "execution_count": null,
   "metadata": {},
   "outputs": [],
   "source": [
    "ylim = [-0.5, 1.75]\n",
    "key = 'pseudoage_imputed_norm'\n",
    "f,axes = plt.subplots(nrows=2,ncols=2,figsize=(4,8),gridspec_kw={'wspace':0.75,'hspace':0.25})\n",
    "ax = axes[0][0]\n",
    "sns.boxplot(x='age',y=key, data=adata_imputed[adata_imputed.obs.cell_type==\"Astro\"].obs, palette=sns.color_palette(age_colors),ax=ax,showfliers=False)\n",
    "sns.despine()\n",
    "ax.set_ylim(ylim)\n",
    "ax.set_title('Astro')\n",
    "\n",
    "ax = axes[0][1]\n",
    "sns.boxplot(x='age',y=key, data=adata_imputed[adata_imputed.obs.cell_type==\"Micro\"].obs, palette=sns.color_palette(age_colors),ax=ax,showfliers=False)\n",
    "sns.despine()\n",
    "ax.set_ylim(ylim)\n",
    "ax.set_title('Micro')\n",
    "\n",
    "ax = axes[1][0]\n",
    "sns.boxplot(x='age',y=key, data=adata_imputed[adata_imputed.obs.cell_type==\"Olig\"].obs, palette=sns.color_palette(age_colors),ax=ax,showfliers=False)\n",
    "ax.set_ylim([0,1])\n",
    "ax.set_ylim(ylim)\n",
    "ax.set_title('Olig')\n",
    "\n",
    "ax = axes[1][1]\n",
    "sns.boxplot(x='age',y=key, data=adata_imputed[adata_imputed.obs.cell_type==\"Endo\"].obs, palette=sns.color_palette(age_colors),ax=ax,showfliers=False)\n",
    "sns.despine()\n",
    "ax.set_title('Endo')\n",
    "ax.set_ylim(ylim)\n",
    "plt.savefig(\"/home/user/Dropbox/zhuang_lab/aging/aging_atlas_paper_v2/figures_imputed/fig1_pseudoage.pdf\",bbox_inches=\"tight\")"
   ]
  },
  {
   "cell_type": "code",
   "execution_count": null,
   "metadata": {},
   "outputs": [],
   "source": [
    "ylim = [-0.5, 1.75]\n",
    "key = 'pseudoage_imputed_norm'\n",
    "f,axes = plt.subplots(nrows=2,ncols=2,figsize=(4,8),gridspec_kw={'wspace':0.75,'hspace':0.25})\n",
    "ax = axes[0][0]\n",
    "sns.boxplot(x='clust_annot_10x',y=key, data=adata_imputed[adata_imputed.obs.cell_type_10x==\"Astro\"].obs, palette=sns.color_palette(age_colors),ax=ax,showfliers=False)\n",
    "sns.despine()\n",
    "#ax.set_ylim(ylim)\n",
    "#ax.set_title('Astro')\n",
    "\n",
    "ax = axes[0][1]\n",
    "sns.boxplot(x='clust_annot_10x',y=key, data=adata_imputed[adata_imputed.obs.cell_type_10x==\"Micro\"].obs, palette=sns.color_palette(age_colors),ax=ax,showfliers=False)\n",
    "sns.despine()\n",
    "#ax.set_ylim(ylim)\n",
    "#ax.set_title('Micro')\n",
    "\n",
    "ax = axes[1][0]\n",
    "sns.boxplot(x='clust_annot_10x',y=key, data=adata_imputed[adata_imputed.obs.cell_type_10x==\"Olig\"].obs, palette=sns.color_palette(age_colors),ax=ax,showfliers=False)\n",
    "#ax.set_ylim([0,1])\n",
    "#ax.set_ylim(ylim)\n",
    "#ax.set_title('Olig')\n",
    "\n",
    "ax = axes[1][1]\n",
    "sns.boxplot(x='clust_annot_10x',y=key, data=adata_imputed[adata_imputed.obs.cell_type_10x==\"Endo\"].obs, palette=sns.color_palette(age_colors),ax=ax,showfliers=False)\n",
    "sns.despine()\n",
    "ax.set_title('Endo')\n",
    "#ax.set_ylim(ylim)\n",
    "#plt.savefig(\"/home/user/Dropbox/zhuang_lab/aging/aging_atlas_paper_v2/figures_imputed/fig1_pseudoage_celltype.pdf\",bbox_inches=\"tight\")"
   ]
  },
  {
   "cell_type": "markdown",
   "metadata": {},
   "source": [
    "# Fig 3: Spatial Analysis"
   ]
  },
  {
   "cell_type": "markdown",
   "metadata": {},
   "source": [
    "## Functions for spatial plotting"
   ]
  },
  {
   "cell_type": "code",
   "execution_count": null,
   "metadata": {},
   "outputs": [],
   "source": [
    "class SpatialPlotter(object):\n",
    "    def __init__(self, A):\n",
    "        self.A = A\n",
    "        self.plot_info = {\n",
    "            '4wk' : {\n",
    "                'batch' : 8,\n",
    "                'slice' : 1,\n",
    "                'rot' : -183,\n",
    "                'xlim' : [200, 2300],\n",
    "                'ylim' : [200, 3800]\n",
    "            },\n",
    "            '24wk' : {\n",
    "                'batch' : 12,\n",
    "                'slice' : 0,\n",
    "                'rot' : -12,\n",
    "                'xlim' : [1950, 1950+2100],\n",
    "                'ylim' : [200, 3700]\n",
    "            },\n",
    "            '90wk' : {\n",
    "                'batch' : 9,\n",
    "                'slice' : 1,\n",
    "                'rot' : 35,\n",
    "                'xlim' : [200, 2300],\n",
    "                'ylim' : [400, 3900]\n",
    "        }}\n",
    "\n",
    "    def get_info_for_age(self, age):\n",
    "        curr_adata = self.A[np.logical_and(\n",
    "                self.A.obs.batch==self.plot_info[age]['batch'], \n",
    "                self.A.obs.slice==self.plot_info[age]['slice'])]\n",
    "        curr_rot = self.plot_info[age]['rot']\n",
    "        aspect_ratio, nx, ny = calculate_aspect_ratio(curr_adata, rot=curr_rot)\n",
    "        xlim = self.plot_info[age]['xlim']\n",
    "        ylim = self.plot_info[age]['ylim']\n",
    "        aspect_ratio = (xlim[1]-xlim[0])/(ylim[1]-ylim[0])\n",
    "        return curr_adata, curr_rot, xlim, ylim\n",
    "    \n",
    "    def get_plot_info(self, age):\n",
    "        info = self.plot_info[age]\n",
    "        return info['batch'], info['slice'], info['xlim'], info['ylim'], info['rot']\n",
    "\n",
    "    def plot_gene_by_age(self, gene_name, celltype=None, vmin=0,vmax=3, s=1,celltype_key='cell_type',figsize=None,cmap=plt.cm.Reds,alpha=1):\n",
    "        if figsize is None:\n",
    "            figsize=(4,10)\n",
    "        f,ax = plt.subplots(figsize=figsize, nrows=3, ncols=1, gridspec_kw={'wspace':0.05, 'hspace':0.01})\n",
    "        for j, age in enumerate(['4wk', '24wk', '90wk']):\n",
    "            batch, dslice, xlim, ylim, rot = self.get_plot_info(age)\n",
    "            curr_ax = ax[j]\n",
    "            curr_adata = self.A[np.logical_and(self.A.obs.batch==batch, self.A.obs.slice==dslice)]\n",
    "            #if celltype is not None:\n",
    "            #    curr_clusts = [i for i in curr_adata.obs[celltype_key].unique() if i != celltype]\n",
    "            #    self.plot_celltypes_by_age(curr_adata, curr_clusts, s=s, ax=curr_ax, cmap=mpl.colors.ListedColormap(['lightgray']*len(curr_clusts)))\n",
    "            #if celltype is not None:\n",
    "            #    curr_adata = curr_adata[curr_adata.obs[celltype_key]==celltype]\n",
    "            #curr_clusts = curr_adata.obs['clust_annot'].unique()\n",
    "            plot_gene_expr(curr_adata, celltype, gene_name,rot=rot,s=s,vmin=vmin,vmax=vmax,use_raw=False,key=celltype_key,cmap=cmap,ax=curr_ax,alpha=alpha)\n",
    "            curr_ax.set_xlim(xlim)\n",
    "            curr_ax.set_ylim(ylim)\n",
    "        return f\n",
    "\n",
    "    def plot_obs_by_age(self, obs_name, figsize=None,clust_annot_key='clust_annot',vmin=0,vmax=3,cmap=plt.cm.Reds, cell_types=None,key='clust_annot_preds',s=0.1):\n",
    "        if cell_types is None:\n",
    "            cell_types = self.A.obs[clust_annot_key].unique()\n",
    "            \n",
    "        if figsize is None:\n",
    "            figsize=(4,10)\n",
    "\n",
    "        f,ax = plt.subplots(figsize=figsize, nrows=3, ncols=1, gridspec_kw={'wspace':0.05, 'hspace':0.01})\n",
    "        for j, age in enumerate(['4wk', '24wk', '90wk']):\n",
    "            batch, dslice, xlim, ylim, rot = self.get_plot_info(age)\n",
    "            curr_ax = ax[j]\n",
    "            curr_adata = self.A[np.logical_and(self.A.obs.batch==batch, self.A.obs.slice==dslice)]\n",
    "            plot_obs(curr_adata, cell_types, obs_name,rot=rot,s=s,vmin=vmin,vmax=vmax,key=clust_annot_key,cmap=cmap,ax=curr_ax,)\n",
    "            curr_ax.set_xlim(xlim)\n",
    "            curr_ax.set_ylim(ylim)\n",
    "        return f\n",
    "    \n",
    "    def plot_celltypes_by_age(self, age, cell_types, s=1, clust_key='clust_annot', ax=None, cmap=plt.cm.gist_ncar):\n",
    "        if ax is None:\n",
    "            f, ax = plt.subplots()\n",
    "        curr_adata, curr_rot, xlim, ylim = self.get_info_for_age(age)\n",
    "        plot_clust_subset(curr_adata, cell_types, cmap, rot=curr_rot,s=s, ax=ax, xlim=xlim, ylim=ylim,clust_key=clust_key)\n",
    "\n",
    "\n",
    "    def plot_obs_by_age_for_celltype(self, obs_key, cell_type, show_background=False, figsize=None, s=1,vmin=None, vmax=None,cell_type_key='cell_type', curr_size=2.5, cmap=plt.cm.rainbow,alpha=0.25):\n",
    "        #curr_adata, curr_rot, xlim, ylim = self.get_info_for_age(age)\n",
    "        if vmin is None:\n",
    "            vmin = np.quantile(self.A[self.A.obs[cell_type_key]==cell_type].obs[obs_key],0.01) #np.quantile(adata.obs.activate_micro,0.00001)\n",
    "        if vmax is None:\n",
    "            vmax = np.quantile(self.A[self.A.obs[cell_type_key]==cell_type].obs[obs_key],0.99)#np.quantile(adata.obs.activate_micro,0.99999)\n",
    "            \n",
    "        if figsize is None:\n",
    "            figsize=(4,10)\n",
    "        if not show_background:\n",
    "            curr_A = self.A[self.A.obs[cell_type_key]==cell_type]\n",
    "        else:\n",
    "            curr_A = self.A\n",
    "        f,ax = plt.subplots(figsize=figsize, nrows=3, ncols=1, gridspec_kw={'wspace':0.05, 'hspace':0.01})\n",
    "        for j, age in enumerate(['4wk', '24wk', '90wk']):\n",
    "            batch, dslice, xlim, ylim, rot = self.get_plot_info(age)\n",
    "            curr_ax = ax[j]\n",
    "            curr_adata = curr_A[np.logical_and(curr_A.obs.batch==batch, curr_A.obs.slice==dslice)]\n",
    "            plot_obs(curr_adata, cell_type, obs_key,rot=rot,s=s,vmin=vmin,vmax=vmax,key=cell_type_key,cmap=cmap,ax=curr_ax,alpha=alpha)\n",
    "            curr_ax.set_xlim(xlim)\n",
    "            curr_ax.set_ylim(ylim)\n",
    "        return f\n",
    "    \n",
    "    def plot_celltype_by_age(self, cell_type, figsize=None, s=1,vmin=None, vmax=None,cell_type_key='clust_annot', curr_size=2.5, cmap=plt.cm.gist_ncar):\n",
    "        #curr_adata, curr_rot, xlim, ylim = self.get_info_for_age(age)\n",
    "            \n",
    "        if figsize is None:\n",
    "            figsize=(4,10)\n",
    "        f,ax = plt.subplots(figsize=(4,10), nrows=3, ncols=1, gridspec_kw={'wspace':0.05, 'hspace':0.01})\n",
    "        for j, age in enumerate(['4wk', '24wk', '90wk']):\n",
    "            batch, dslice, xlim, ylim, rot = self.get_plot_info(age)\n",
    "            curr_ax = ax[j]\n",
    "            curr_adata = self.A[np.logical_and(self.A.obs.batch==batch, self.A.obs.slice==dslice)]\n",
    "            plot_clust_subset(curr_adata, cell_type, cmap, rot=rot,s=curr_size, ax=curr_ax, xlim=xlim, ylim=ylim,clust_key=cell_type_key)\n",
    "            curr_ax.set_xlim(xlim)\n",
    "            curr_ax.set_ylim(ylim)\n",
    "        return f\n",
    "            \n"
   ]
  },
  {
   "cell_type": "code",
   "execution_count": null,
   "metadata": {},
   "outputs": [],
   "source": [
    "sp = SpatialPlotter(adata_imputed)"
   ]
  },
  {
   "cell_type": "code",
   "execution_count": null,
   "metadata": {},
   "outputs": [],
   "source": [
    "curr_cmap = mpl.colors.ListedColormap([label_colors[i] for i in label_colors.keys()])\n"
   ]
  },
  {
   "cell_type": "code",
   "execution_count": null,
   "metadata": {},
   "outputs": [],
   "source": [
    "f, ax = plt.subplots(figsize=(4,7))\n",
    "sp.plot_celltypes_by_age('24wk', adata_imputed.obs.clust_annot.unique(), cmap=curr_cmap,ax=ax,s=2)\n",
    "f.set_facecolor('white')\n",
    "save_fig(f, \"fig3_allcelltypes\")"
   ]
  },
  {
   "cell_type": "code",
   "execution_count": null,
   "metadata": {},
   "outputs": [],
   "source": [
    "neuronal_subtypes = adata_imputed.obs.loc[adata_imputed.obs.cell_type.isin([\"ExN\",\"InN\",\"MSN\"]), \"clust_annot\"].unique()\n",
    "nonneuronal_subtypes = adata_imputed.obs.loc[~adata_imputed.obs.cell_type.isin([\"ExN\",\"InN\",\"MSN\"]), \"clust_annot\"].unique()"
   ]
  },
  {
   "cell_type": "code",
   "execution_count": null,
   "metadata": {},
   "outputs": [],
   "source": [
    "f, ax = plt.subplots(figsize=(4,7))\n",
    "sp.plot_celltypes_by_age('24wk', neuronal_subtypes, cmap=curr_cmap,ax=ax,s=2)\n",
    "f.set_facecolor('white')\n",
    "\n",
    "save_fig(f, \"fig3_neuronal\")"
   ]
  },
  {
   "cell_type": "code",
   "execution_count": null,
   "metadata": {},
   "outputs": [],
   "source": [
    "f, ax = plt.subplots(figsize=(4,7))\n",
    "sp.plot_celltypes_by_age('24wk', nonneuronal_subtypes, cmap=curr_cmap,ax=ax,s=2)\n",
    "f.set_facecolor('white')\n",
    "\n",
    "save_fig(f, \"fig3_nonneuronal\")"
   ]
  },
  {
   "cell_type": "code",
   "execution_count": null,
   "metadata": {},
   "outputs": [],
   "source": [
    "f, ax = plt.subplots(figsize=(4,7))\n",
    "sp.plot_celltypes_by_age('24wk', [\"Olig\",'Astro','Micro'], cmap=curr_cmap,ax=ax,s=2,clust_key='cell_type')\n",
    "f.set_facecolor('white')\n",
    "\n",
    "save_fig(f, \"fig3_olig_astro_micro\")"
   ]
  },
  {
   "cell_type": "code",
   "execution_count": null,
   "metadata": {},
   "outputs": [],
   "source": [
    "sp.plot_celltype_by_age('Endo-3', cell_type_key='clust_annot');"
   ]
  },
  {
   "cell_type": "code",
   "execution_count": null,
   "metadata": {},
   "outputs": [],
   "source": [
    "for i in ['Endo','Astro','Micro','Olig']:\n",
    "    f = sp.plot_obs_by_age_for_celltype(\"pseudoage_imputed_norm\",i,s=10,vmin=0,vmax=1,cmap=plt.cm.rainbow,figsize=(2.5,12));\n",
    "    f.savefig(f\"/home/user/Dropbox/zhuang_lab/aging/aging_atlas_paper_v2/figures_imputed/fig3_pseudoage_spatial_{i}.pdf\",bbox_inches=\"tight\",dpi=200)"
   ]
  },
  {
   "cell_type": "code",
   "execution_count": null,
   "metadata": {},
   "outputs": [],
   "source": [
    "sp.plot_obs_by_age(\"pseudoage\",vmin=-10,vmax=10,cmap=plt.cm.seismic);"
   ]
  },
  {
   "cell_type": "code",
   "execution_count": null,
   "metadata": {},
   "outputs": [],
   "source": [
    "f = sp.plot_gene_by_age('Ephb1','OPC',figsize=(4,16),vmax=1)"
   ]
  },
  {
   "cell_type": "code",
   "execution_count": null,
   "metadata": {},
   "outputs": [],
   "source": [
    "gene_module = ['Ikzf2', 'Ifi206', 'Ifi214', 'Ifi209', 'Ifi208', 'Smyd3', 'Fam107b', 'Prkcq', 'Bcl2l11', 'S100a4', 'Ifi44', 'Cd52', 'Runx3', 'Mlxip', 'Zc3hav1', 'Gimap4', 'Herc6', 'Klrk1', 'Styk1', 'Rinl']"
   ]
  },
  {
   "cell_type": "code",
   "execution_count": null,
   "metadata": {},
   "outputs": [],
   "source": []
  },
  {
   "cell_type": "code",
   "execution_count": null,
   "metadata": {},
   "outputs": [],
   "source": [
    "f = sp.plot_obs_by_age_for_celltype('module_score',\"Olig\")"
   ]
  },
  {
   "cell_type": "code",
   "execution_count": null,
   "metadata": {},
   "outputs": [],
   "source": [
    "f = sp.plot_gene_by_age('Tnf', figsize=(4,16),vmax=10)"
   ]
  },
  {
   "cell_type": "code",
   "execution_count": null,
   "metadata": {},
   "outputs": [],
   "source": [
    "f = sp.plot_gene_by_age('C4b', figsize=(4,16),vmax=10)"
   ]
  },
  {
   "cell_type": "markdown",
   "metadata": {},
   "source": [
    "## Spatial plots of example imputed genes"
   ]
  },
  {
   "cell_type": "code",
   "execution_count": null,
   "metadata": {},
   "outputs": [],
   "source": [
    "\n",
    "ttest_de_celltype_df = pd.read_csv(\"/home/user/src/tithonus/analysis/merfish/gene_lists/glm_nb_de_minor_age_V3_nools.csv\")\n",
    "qval_thresh = 0.05\n",
    "coef_thresh_major = np.log(1.25)\n",
    "coef_thresh_minor = np.log(2)\n",
    "de_genes_age_major_signif = ttest_de_celltype_df[np.logical_and(np.abs(ttest_de_celltype_df.coef) > coef_thresh_major, ttest_de_celltype_df.qval<qval_thresh)]\n",
    "de_genes_age_major_signif = de_genes_age_major_signif[~np.isinf(de_genes_age_major_signif.coef)]"
   ]
  },
  {
   "cell_type": "code",
   "execution_count": null,
   "metadata": {},
   "outputs": [],
   "source": [
    "de_genes_age_major_signif[de_genes_age_major_signif.cell_type==\"Astro-1\"].sort_values('coef').tail(30)"
   ]
  },
  {
   "cell_type": "code",
   "execution_count": null,
   "metadata": {},
   "outputs": [],
   "source": [
    "#adata_imputed_sqrt = adata_imputed.copy()\n",
    "#adata_imputed_sqrt.X = adata_imputed_sqrt.layers['sqrt_norm']"
   ]
  },
  {
   "cell_type": "code",
   "execution_count": null,
   "metadata": {},
   "outputs": [],
   "source": [
    "sp_sqrt = SpatialPlotter(adata_sqrt_norm)"
   ]
  },
  {
   "cell_type": "code",
   "execution_count": null,
   "metadata": {},
   "outputs": [],
   "source": [
    "f = sp_sqrt.plot_gene_by_age(\"Bmp6\",\"Astro\",vmax=1.5,s=5,celltype_key='cell_type',cmap=plt.cm.Reds, figsize=(3,12));\n",
    "save_fig(f, \"fig4_imputed_Astro_Bmp6\",dtype=\"png\")"
   ]
  },
  {
   "cell_type": "code",
   "execution_count": null,
   "metadata": {},
   "outputs": [],
   "source": [
    "f = sp_sqrt.plot_gene_by_age(\"Ighm\",\"ExN\",vmax=1.25,s=5,celltype_key='cell_type',cmap=plt.cm.Reds,figsize=(3,12));\n",
    "save_fig(f, \"fig4_imputed_ExN_Ighm\",dtype=\"png\")"
   ]
  },
  {
   "cell_type": "code",
   "execution_count": null,
   "metadata": {},
   "outputs": [],
   "source": [
    "f = sp.plot_gene_by_age(\"Efemp1\",\"Astro\",s=5,vmax=6,celltype_key='cell_type',cmap=plt.cm.Reds,figsize=(3,12));\n",
    "save_fig(f, \"fig4_imputed_Astro_Efemp1\",dtype=\"png\")"
   ]
  },
  {
   "cell_type": "code",
   "execution_count": null,
   "metadata": {},
   "outputs": [],
   "source": [
    "f = sp.plot_gene_by_age(\"Pakap\",\"Olig\",s=5,vmax=15,celltype_key='cell_type',cmap=plt.cm.Reds,figsize=(3,12));\n",
    "save_fig(f, \"fig4_imputed_Olig_Pakap\",dtype=\"png\")"
   ]
  },
  {
   "cell_type": "code",
   "execution_count": null,
   "metadata": {},
   "outputs": [],
   "source": [
    "f = sp.plot_gene_by_age(\"Mpp7\",\"MSN\",vmax=5,s=5,celltype_key='cell_type',cmap=plt.cm.Reds,figsize=(3,12));\n",
    "save_fig(f, \"fig4_imputed_MSN_Mpp7\",dtype=\"png\")"
   ]
  },
  {
   "cell_type": "markdown",
   "metadata": {},
   "source": [
    "## Plot comparison between MERFISH and imputed"
   ]
  },
  {
   "cell_type": "code",
   "execution_count": null,
   "metadata": {},
   "outputs": [],
   "source": [
    "adata_combined = ad.read_h5ad(\"/faststorage/brain_aging/merfish/exported/011722_adata_combined_harmony.h5ad\")\n",
    "adata_combined = unbinarize_strings(adata_combined)\n",
    "adata_raw_merfish = ad.read_h5ad(\"/faststorage/brain_aging/merfish/exported/011722_merged_combined_merfish_with_doublet_umap_allages.h5ad\")\n",
    "adata_raw_merfish = unbinarize_strings(adata_raw_merfish)\n",
    "\n",
    "adata_raw_merfish = adata_raw_merfish[adata_combined[adata_combined.obs.dtype==\"merfish\"].obs.index]\n",
    "adata_combined_merfish = adata_combined[adata_combined.obs.dtype=='merfish']\n",
    "adata_combined_merfish.X = adata_raw_merfish.X#adata_combined_merfish.uns['raw_merfish_X']"
   ]
  },
  {
   "cell_type": "markdown",
   "metadata": {},
   "source": [
    "### Plot example MERFISH genes"
   ]
  },
  {
   "cell_type": "code",
   "execution_count": null,
   "metadata": {},
   "outputs": [],
   "source": [
    "ttest_de_celltype_df = pd.read_csv(\"/home/user/src/tithonus/analysis/merfish/gene_lists/glm_nb_de_major_age_merfish_V2.csv\")\n",
    "qval_thresh = 0.05\n",
    "coef_thresh_major = np.log(1.25)\n",
    "coef_thresh_minor = np.log(2)\n",
    "de_genes_age_major_signif = ttest_de_celltype_df[np.logical_and(np.abs(ttest_de_celltype_df.coef) > coef_thresh_major, ttest_de_celltype_df.qval<qval_thresh)]\n",
    "de_genes_age_major_signif = de_genes_age_major_signif[~np.isinf(de_genes_age_major_signif.coef)]"
   ]
  },
  {
   "cell_type": "code",
   "execution_count": null,
   "metadata": {},
   "outputs": [],
   "source": [
    "de_genes_age_major_signif[de_genes_age_major_signif.cell_type==\"MSN\"].sort_values('coef').tail(20)"
   ]
  },
  {
   "cell_type": "code",
   "execution_count": null,
   "metadata": {},
   "outputs": [],
   "source": [
    "sp_mer = SpatialPlotter(adata_combined)"
   ]
  },
  {
   "cell_type": "code",
   "execution_count": null,
   "metadata": {},
   "outputs": [],
   "source": [
    "f = sp_mer.plot_gene_by_age(\"Onecut2\",\"MSN\",vmax=10, s=5, figsize=(3,12));\n",
    "save_fig(f, \"fig4_merfish_MSN_Onecut2\",dtype=\"png\")"
   ]
  },
  {
   "cell_type": "code",
   "execution_count": null,
   "metadata": {},
   "outputs": [],
   "source": [
    "f = sp_mer.plot_gene_by_age(\"Xdh\",\"Endo\",vmax=7,figsize=(3,12),s=5);\n",
    "save_fig(f, \"fig4_merfish_Endo_Xdh\",dtype=\"png\")"
   ]
  },
  {
   "cell_type": "code",
   "execution_count": null,
   "metadata": {},
   "outputs": [],
   "source": [
    "f = sp_mer.plot_gene_by_age(\"C4b\",\"Astro\",vmax=5,figsize=(3,12),s=5);\n",
    "save_fig(f, \"fig4_imputed_Astro_C4b\",dtype=\"png\")"
   ]
  },
  {
   "cell_type": "code",
   "execution_count": null,
   "metadata": {},
   "outputs": [],
   "source": [
    "f = sp_mer.plot_gene_by_age(\"Il33\",\"Olig\",vmax=6,s=5,figsize=(3,12));\n",
    "save_fig(f, \"fig4_imputed_Olig_Il33\",dtype=\"png\")"
   ]
  },
  {
   "cell_type": "code",
   "execution_count": null,
   "metadata": {},
   "outputs": [],
   "source": [
    "adata_combined_merfish.raw = adata_combined_merfish"
   ]
  },
  {
   "cell_type": "code",
   "execution_count": null,
   "metadata": {},
   "outputs": [],
   "source": [
    "curr_size = 5\n",
    "celltypes = adata_combined_merfish.obs.clust_annot.unique()\n",
    "#curr_adata = adata_combined_merfish[np.logical_and(adata_combined_merfish.obs.batch==9, adata_combined_merfish.obs.slice==1)]\n",
    "curr_adata = adata_combined_merfish[np.logical_and(adata_combined_merfish.obs.batch==8, adata_combined_merfish.obs.slice==1)]\n"
   ]
  },
  {
   "cell_type": "code",
   "execution_count": null,
   "metadata": {},
   "outputs": [],
   "source": [
    "def plot_example_genes(A, genes, save_name=None):\n",
    "    # 4 wk\n",
    "    curr_rot = -183\n",
    "    xlim = [200, 2300]\n",
    "    ylim =[200, 3800]\n",
    "    # 90 wk\n",
    "    #curr_rot = 35\n",
    "    #xlim = [200, 2300]\n",
    "    #ylim = [400, 4000]\n",
    "    aspect_ratio = (xlim[1]-xlim[0])/(ylim[1]-ylim[0])\n",
    "\n",
    "    f, axes = plt.subplots(nrows=1, ncols=len(genes), figsize=(5*aspect_ratio*(len(genes)+1),5*1))\n",
    "    #plot_seg(curr_adata, seg_cmap, rot=curr_rot,s=curr_size, ax=axes[0],xlim=xlim, ylim=ylim)\n",
    "    k = 0\n",
    "    for c in genes: \n",
    "        print(c)\n",
    "        ax = axes[k]\n",
    "        gene_expr = np.array(A[:,c].X.toarray()).flatten()\n",
    "        vmin = np.quantile(gene_expr, 0.001)\n",
    "        vmax = np.quantile(gene_expr, 0.999)\n",
    "        plot_gene_expr(A, celltypes, c, plt.cm.Purples, s=5,alpha=0.5, vmin=vmin,vmax=vmax, rot=curr_rot, ax=ax, xlim=xlim, ylim=ylim,use_raw=False)\n",
    "        k += 1\n",
    "        ax.set_title(c)\n",
    "    if save_name is not None:\n",
    "        f.savefig(f\"/home/user/Dropbox/zhuang_lab/aging/aging_atlas_paper_v2/figures_imputed/{save_name}.png\",bbox_inches='tight',dpi=300)"
   ]
  },
  {
   "cell_type": "code",
   "execution_count": null,
   "metadata": {},
   "outputs": [],
   "source": [
    "# plot area specific genes\n",
    "area_genes_excite = [\n",
    "\"Slc17a7\",\n",
    " 'Otof',\n",
    "#\"Lamp5\",\n",
    "'Cux2',\n",
    " 'Scube1',\n",
    "#    \"Ptpru\",\n",
    "  'Fezf2',\n",
    " 'Syt6',\n",
    "]\n",
    "area_genes_inhib = [\n",
    "    \"Gad2\",\n",
    "    \"Sst\",\n",
    "    \"Pvalb\",\n",
    "    \"Vip\",\n",
    "    \"Drd1\",\n",
    "    \"Drd2\"\n",
    "]\n",
    "area_genes_nonneuronal = [\n",
    "\"Aqp4\", \"Pdgfra\", \"Mbp\", \"Ctss\", \"Cldn5\", \"Vtn\"\n",
    "]\n",
    "common_genes = [i for i in area_genes_excite + area_genes_inhib + area_genes_nonneuronal if i in adata_imputed.var_names]\n"
   ]
  },
  {
   "cell_type": "code",
   "execution_count": null,
   "metadata": {},
   "outputs": [],
   "source": [
    "adata_imputed_common = adata_imputed[:, common_genes]"
   ]
  },
  {
   "cell_type": "code",
   "execution_count": null,
   "metadata": {},
   "outputs": [],
   "source": [
    "adata_imputed_common = adata_imputed_common[adata_combined_merfish.obs.index]"
   ]
  },
  {
   "cell_type": "code",
   "execution_count": null,
   "metadata": {},
   "outputs": [],
   "source": [
    "#adata_imputed_common.X = adata_imputed_common.layers['sqrt_norm']"
   ]
  },
  {
   "cell_type": "code",
   "execution_count": null,
   "metadata": {},
   "outputs": [],
   "source": [
    "def compute_gene_corr(A_mer, A_imputed, gene):\n",
    "    expr_mer = A_mer[:,gene].X.toarray().flatten()\n",
    "    expr_imputed = A_imputed[:,gene].layers['sqrt_norm'].toarray().flatten()\n",
    "    return np.corrcoef(expr_mer, expr_imputed)[0,1]"
   ]
  },
  {
   "cell_type": "code",
   "execution_count": null,
   "metadata": {},
   "outputs": [],
   "source": [
    "for i in area_genes_excite:\n",
    "    print(i, compute_gene_corr(adata_combined_merfish, adata_imputed_common, i))"
   ]
  },
  {
   "cell_type": "code",
   "execution_count": null,
   "metadata": {
    "tags": []
   },
   "outputs": [],
   "source": [
    "curr_adata = adata_combined_merfish[np.logical_and(adata_imputed.obs.batch==8, adata_imputed.obs.slice==1)]\n",
    "\n",
    "plot_example_genes(curr_adata, area_genes_nonneuronal, \"figS4_nonneuronal_mer\")\n",
    "\n",
    "plot_example_genes(curr_adata, area_genes_excite, \"figS4_excite_mer\")\n",
    "plot_example_genes(curr_adata, area_genes_inhib, \"figS4_inhib_mer\")"
   ]
  },
  {
   "cell_type": "code",
   "execution_count": null,
   "metadata": {},
   "outputs": [],
   "source": [
    "curr_adata = adata_imputed_common[np.logical_and(adata_imputed_common.obs.batch==8, adata_imputed_common.obs.slice==1)]\n"
   ]
  },
  {
   "cell_type": "code",
   "execution_count": null,
   "metadata": {},
   "outputs": [],
   "source": [
    "curr_adata.X = np.array(curr_adata.layers['sqrt_norm'].toarray()).copy()"
   ]
  },
  {
   "cell_type": "code",
   "execution_count": null,
   "metadata": {},
   "outputs": [],
   "source": [
    "\n",
    "plot_example_genes(curr_adata, area_genes_nonneuronal, \"figS4_nonneuronal_imputed\")\n",
    "\n",
    "plot_example_genes(curr_adata, area_genes_excite, \"figS4_excite_imputed\")\n",
    "plot_example_genes(curr_adata, area_genes_inhib, \"figS4_inhib_imputed\")"
   ]
  },
  {
   "cell_type": "code",
   "execution_count": null,
   "metadata": {},
   "outputs": [],
   "source": [
    "curr_adata = adata_imputed[np.logical_and(adata_imputed_common.obs.batch==8, adata_imputed_common.obs.slice==1)]\n",
    "\n",
    "imputed_genes = [\n",
    "#\"Col5a1\", #1\n",
    "\"Col12a1\", #2\n",
    "\"Cnp\", #3 \n",
    "\"Chrm3\",#4\n",
    "\"Camk4\", #5\n",
    "\"Camk2a\", #6\n",
    "\"Exph5\", #7\n",
    "\"Fat3\", #8\n",
    "\"Ephb6\", #9 \n",
    "\"Gabra4\", # 10\n",
    "    \"Fstl4\", # 11\n",
    "    \"Frmpd4\", #12\n",
    "    \"Fhod3\", # 13\n",
    "    \"Dpp10\", # 14\n",
    "    \"Alcam\", # 15\n",
    "    \"Cacna1e\", # 16\n",
    "    \"Bdnf\", #17\n",
    "]\n",
    "plot_example_genes(curr_adata, sorted(imputed_genes), \"figS4_extra_imputed\")\n"
   ]
  },
  {
   "cell_type": "code",
   "execution_count": null,
   "metadata": {},
   "outputs": [],
   "source": [
    "curr_size = 2\n",
    "celltypes = adata_imputed.obs.clust_annot.unique()\n",
    "\n",
    "curr_adata = adata_imputed[np.logical_and(adata_imputed.obs.batch==9, adata_imputed.obs.slice==1)]\n",
    "curr_rot = 35\n",
    "xlim = [200, 2300]\n",
    "ylim = [400, 4000]\n",
    "aspect_ratio = (xlim[1]-xlim[0])/(ylim[1]-ylim[0])\n",
    "\n",
    "f, axes = plt.subplots(nrows=1, ncols=1, figsize=(5*aspect_ratio*1,5*1))\n",
    "save_path = \"/home/user/Dropbox/zhuang_lab/aging/aging_atlas_paper_v2/individual_gene_plots\"\n",
    "\n",
    "for i,c in enumerate(list(adata_imputed.var_names)):\n",
    "    #print(c)\n",
    "    curr_path = os.path.join(save_path, c + \".png\")\n",
    "    if \"Rik\" not in c:\n",
    "        if not os.path.exists(curr_path):\n",
    "            print(\"Saving\", c, \"(\",i,\"/\",len(adata_imputed.var_names), \")\")\n",
    "            ax = axes\n",
    "            gene_expr = curr_adata[:,c].X.toarray()\n",
    "            vmin = np.quantile(gene_expr, 0.01)\n",
    "            vmax = np.quantile(gene_expr, 0.99)\n",
    "            plot_gene_expr(curr_adata, celltypes, c, plt.cm.Reds, s=1,alpha=0.5, vmin=vmin,vmax=vmax, rot=curr_rot, ax=ax, xlim=xlim, ylim=ylim, use_raw=False)\n",
    "\n",
    "            f.savefig(curr_path, dpi=200, bbox_inches='tight',facecolor='white', transparent=False)"
   ]
  },
  {
   "cell_type": "markdown",
   "metadata": {},
   "source": [
    "## Spatial pseudoage distribution"
   ]
  },
  {
   "cell_type": "markdown",
   "metadata": {},
   "source": [
    "## Spatial gene module plots"
   ]
  },
  {
   "cell_type": "code",
   "execution_count": null,
   "metadata": {},
   "outputs": [],
   "source": [
    "module_df"
   ]
  },
  {
   "cell_type": "code",
   "execution_count": null,
   "metadata": {},
   "outputs": [],
   "source": [
    "adata_imputed.obs.module_score"
   ]
  },
  {
   "cell_type": "code",
   "execution_count": null,
   "metadata": {},
   "outputs": [],
   "source": [
    "curr_adata.obs['module_score']"
   ]
  },
  {
   "cell_type": "code",
   "execution_count": null,
   "metadata": {
    "tags": []
   },
   "outputs": [],
   "source": [
    "base_path = \"/home/user/Dropbox/zhuang_lab/aging/aging_atlas_paper_v2/module_spatial_plots\"\n",
    "for i in [\"Olig\", \"Astro\",\"Micro\"]:#module_df.cell_type.unique():\n",
    "    curr_path = os.path.join(base_path, i)\n",
    "    curr_module_df = module_df[module_df.cell_type==i]\n",
    "    curr_adata = adata_imputed[adata_imputed.obs.cell_type==i]\n",
    "    #curr_sp = SpatialPlotter(curr_adata)\n",
    "    print(i)\n",
    "    os.system(f\"rm {curr_path}/{i}_module*\")\n",
    "\n",
    "    for j in curr_module_df.sorted_module.unique():\n",
    "        try:\n",
    "            temp = curr_module_df[curr_module_df.sorted_module==j]\n",
    "            sc.tl.score_genes(curr_adata, gene_list=list(temp.gene), score_name='module_score',use_raw=False)\n",
    "            adata_imputed.obs['module_score'] = 0\n",
    "            adata_imputed.obs.loc[curr_adata.obs.index, \"module_score\"] = curr_adata.obs['module_score']\n",
    "            \n",
    "            f = plot_age_obs_comparison(adata_imputed, \"spatial_clust_annots\", \"module_score\", i, show_pvals=False, order=spatial_order,);\n",
    "            f.savefig(os.path.join(curr_path, f\"{i}_module_spatialdist_{temp.cluster.unique()[0]}_.pdf\"),bbox_inches='tight', dpi=200)\n",
    "            \n",
    "            f = sp.plot_obs_by_age_for_celltype(\"module_score\", i,show_background=True,figsize=(2,8), curr_size=10)\n",
    "            f.set_facecolor('white')\n",
    "\n",
    "            f.savefig(os.path.join(curr_path, f\"{i}_module_{temp.cluster.unique()[0]}_.png\"),bbox_inches='tight', dpi=200)\n",
    "        except Exception as e:\n",
    "            print(e)"
   ]
  },
  {
   "cell_type": "markdown",
   "metadata": {},
   "source": [
    "# Fig 4: Differentially expressed genes/module"
   ]
  },
  {
   "cell_type": "code",
   "execution_count": null,
   "metadata": {},
   "outputs": [],
   "source": [
    "#ttest_de_clust_df = pd.read_csv(\"/home/user/src/tithonus/analysis/merfish/gene_lists/glm_nb_de_minor_age.csv\")\n"
   ]
  },
  {
   "cell_type": "markdown",
   "metadata": {},
   "source": [
    "## Compute DE genes for imputed"
   ]
  },
  {
   "cell_type": "code",
   "execution_count": null,
   "metadata": {},
   "outputs": [],
   "source": [
    "ttest_de_celltype_df[ttest_de_celltype_df.gene==\"C1qc\"]"
   ]
  },
  {
   "cell_type": "code",
   "execution_count": null,
   "metadata": {},
   "outputs": [],
   "source": []
  },
  {
   "cell_type": "code",
   "execution_count": null,
   "metadata": {
    "tags": []
   },
   "outputs": [],
   "source": [
    "de_clust_order = [\n",
    " 'ExN-L2/3-1',\n",
    " 'ExN-L2/3-2',\n",
    " 'ExN-L5-1',\n",
    " 'ExN-L5-2',\n",
    " 'ExN-L5-3',\n",
    " 'ExN-L6-1',\n",
    " 'ExN-L6-2',\n",
    " 'ExN-L6-3',\n",
    " 'ExN-Olf',\n",
    " 'InN-Olf-1',\n",
    " 'InN-Olf-2',\n",
    "\n",
    " 'InN-Vip',\n",
    "\n",
    " 'InN-Lamp5',\n",
    "\n",
    " 'InN-Pvalb-1',\n",
    " 'InN-Pvalb-2',\n",
    " 'InN-Pvalb-3',\n",
    " 'InN-Sst-1',\n",
    " 'InN-Sst-2',\n",
    " 'InN-Calb2-1',\n",
    " 'InN-Calb2-2',\n",
    " 'InN-Chat',\n",
    " 'InN-Lhx6',\n",
    "\n",
    "'MSN-D1-1',\n",
    " 'MSN-D1-2',\n",
    " 'MSN-D2',\n",
    " 'OPC',\n",
    " 'Olig-1',\n",
    " 'Olig-2',\n",
    " 'Olig-3',\n",
    "\n",
    "'Astro-1',\n",
    " 'Astro-2',\n",
    " 'Vlmc',\n",
    " 'Peri-1',\n",
    " 'Peri-2',\n",
    " 'Endo-1',\n",
    " 'Endo-2',\n",
    " 'Endo-3',\n",
    " 'Epen',\n",
    "\n",
    " 'Micro-1',\n",
    " 'Micro-2',\n",
    " 'Micro-3',\n",
    " 'Macro',\n",
    "]"
   ]
  },
  {
   "cell_type": "code",
   "execution_count": null,
   "metadata": {},
   "outputs": [],
   "source": [
    "import diffxpy.api as de\n",
    "\n",
    "de_by_celltype = []\n",
    "for i in adata_sqrt_norm.obs.cell_type.unique():\n",
    "    print(i)\n",
    "    curr_adata = adata_sqrt_norm[adata_sqrt_norm.obs.cell_type==i]\n",
    "    #curr_adata = curr_adata.raw.to_adata()\n",
    "    curr_adata = adata_sqrt_norm[adata_sqrt_norm.obs.age.isin(['4wk','90wk'])]\n",
    "    yng = curr_adata[curr_adata.obs.age=='4wk']\n",
    "    old = curr_adata[curr_adata.obs.age=='90wk']\n",
    "    expr_thresh = 0.0\n",
    "    frac_yng = np.array((yng.X>expr_thresh).sum(0)/yng.shape[0]).flatten()\n",
    "    frac_old = np.array((old.X>expr_thresh).sum(0)/old.shape[0]).flatten()\n",
    "    #curr_adata = curr_adata[:,good_genes]    \n",
    "    de_res = de.test.t_test(curr_adata, 'age')\n",
    "    \n",
    "    de_by_celltype.append(pd.DataFrame({'cell_type': [i]*len(de_res.gene_ids), 'gene' : de_res.gene_ids, 'log10_fc':de_res.log10_fold_change(), 'log10_qval': de_res.log10_qval_clean(), 'frac_yng':frac_yng, 'frac_old':frac_old }))"
   ]
  },
  {
   "cell_type": "code",
   "execution_count": null,
   "metadata": {},
   "outputs": [],
   "source": [
    "de_by_celltype_df = pd.concat(de_by_celltype)"
   ]
  },
  {
   "cell_type": "code",
   "execution_count": null,
   "metadata": {},
   "outputs": [],
   "source": [
    "#de_by_celltype_df.to_csv(\"gene_lists/0710122_ttest_diffxpy_imputed_celltype.csv\")"
   ]
  },
  {
   "cell_type": "code",
   "execution_count": null,
   "metadata": {},
   "outputs": [],
   "source": [
    "de_by_celltype_df = de_by_celltype_df[de_by_celltype_df.log10_fc.abs() < 1]"
   ]
  },
  {
   "cell_type": "code",
   "execution_count": null,
   "metadata": {
    "tags": []
   },
   "outputs": [],
   "source": [
    "import diffxpy.api as de\n",
    "\n",
    "de_by_clust = []\n",
    "for i in adata_subset.obs.clust_annot.unique():\n",
    "    print(i)\n",
    "    curr_adata = adata_sqrt_norm[adata_sqrt_norm.obs.clust_annot==i]\n",
    "    #curr_adata = curr_adata.raw.to_adata()\n",
    "    curr_adata = adata_sqrt_norm[adata_sqrt_norm.obs.age.isin(['4wk','90wk'])]\n",
    "    yng = curr_adata[curr_adata.obs.age=='4wk']\n",
    "    old = curr_adata[curr_adata.obs.age=='90wk']\n",
    "    expr_thresh = 0.1\n",
    "    frac_yng = np.array((yng.X>expr_thresh).sum(0)/yng.shape[0]).flatten()\n",
    "    frac_old = np.array((old.X>expr_thresh).sum(0)/old.shape[0]).flatten()\n",
    "    #curr_adata = curr_adata[:,good_genes]    \n",
    "    de_res = de.test.t_test(curr_adata, 'age')\n",
    "    \n",
    "    de_by_clust.append(pd.DataFrame({'cell_type': [i]*len(de_res.gene_ids), 'gene' : de_res.gene_ids, 'log10_fc':de_res.log10_fold_change(), 'log10_qval': de_res.log10_qval_clean(), 'frac_yng':frac_yng, 'frac_old':frac_old }))"
   ]
  },
  {
   "cell_type": "code",
   "execution_count": null,
   "metadata": {},
   "outputs": [],
   "source": [
    "de_by_clust_df = pd.concat(de_by_clust)"
   ]
  },
  {
   "cell_type": "code",
   "execution_count": null,
   "metadata": {},
   "outputs": [],
   "source": [
    "#de_by_clust_df.to_csv(\"gene_lists/0710122_ttest_diffxpy_imputed.csv\")"
   ]
  },
  {
   "cell_type": "code",
   "execution_count": null,
   "metadata": {},
   "outputs": [],
   "source": [
    "#de_by_clust_df = ttest_de_clust_df "
   ]
  },
  {
   "cell_type": "code",
   "execution_count": null,
   "metadata": {},
   "outputs": [],
   "source": [
    "de_by_clust_df = de_by_clust_df[de_by_clust_df.cell_type!='T cell']"
   ]
  },
  {
   "cell_type": "code",
   "execution_count": null,
   "metadata": {},
   "outputs": [],
   "source": [
    "de_by_clust_df"
   ]
  },
  {
   "cell_type": "code",
   "execution_count": null,
   "metadata": {},
   "outputs": [],
   "source": [
    "expr_frac_thresh = 0.2\n",
    "ttest_de_clust_df_signif_thresh2 = de_by_clust_df[np.logical_and(np.abs(de_by_clust_df.log10_fc) > np.log10(2), de_by_clust_df.log10_qval<np.log10(0.01))]\n",
    "ttest_de_clust_df_signif_thresh2 = ttest_de_clust_df_signif_thresh2[np.logical_and(ttest_de_clust_df_signif_thresh2.frac_yng > expr_frac_thresh, ttest_de_clust_df_signif_thresh2.frac_old > expr_frac_thresh)]\n",
    "ttest_de_clust_df_signif_thresh1_5 = de_by_clust_df[np.logical_and(np.abs(de_by_clust_df.log10_fc) > np.log10(1.5), de_by_clust_df.log10_qval<np.log10(0.01))]\n",
    "ttest_de_clust_df_signif_thresh1_5 = ttest_de_clust_df_signif_thresh1_5[np.logical_and(ttest_de_clust_df_signif_thresh1_5.frac_yng > expr_frac_thresh, ttest_de_clust_df_signif_thresh1_5.frac_old > expr_frac_thresh)]\n"
   ]
  },
  {
   "cell_type": "code",
   "execution_count": null,
   "metadata": {},
   "outputs": [],
   "source": [
    "#de_genes_age_minor_signif = de_genes_age_minor[np.logical_and(de_genes_age_minor.qval<0.05,\n",
    "#                                                              np.log2(np.exp(np.abs(de_genes_age_minor.coef)))>1)]\n",
    "clust_idx = np.array([np.argwhere(np.array(list(label_colors.keys())) == i)[0][0] for i in de_clust_order])\n",
    "clust_idx_cmap = mpl.colors.ListedColormap(list(label_colors.values()))\n",
    "\n"
   ]
  },
  {
   "cell_type": "code",
   "execution_count": null,
   "metadata": {},
   "outputs": [],
   "source": [
    "sns.set_style('white')\n",
    "f, ax = plt.subplots(figsize=(8,3), nrows=3, gridspec_kw={'hspace':0.05, 'height_ratios':[10,1,10]})\n",
    "for i in [100,200,300,400]:\n",
    "    ax[0].axhline(i,color='gray',linestyle='--',lw=1)\n",
    "    ax[2].axhline(-i,color='gray',linestyle='--',lw=1)\n",
    "\n",
    "sns.barplot(x='gene', y='de',\n",
    "            data=pd.DataFrame(data={'gene': ttest_de_clust_df_signif_thresh1_5.cell_type.unique(), \n",
    "                                    'de':[ttest_de_clust_df_signif_thresh1_5[np.logical_and(ttest_de_clust_df_signif_thresh1_5.cell_type==i, ttest_de_clust_df_signif_thresh1_5.log10_fc>0)].shape[0] for i in ttest_de_clust_df_signif_thresh1_5.cell_type.unique()]}),\n",
    "            order=de_clust_order,color='salmon',ax=ax[0])\n",
    "sns.barplot(x='gene', y='de',\n",
    "            data=pd.DataFrame(data={'gene': ttest_de_clust_df_signif_thresh2.cell_type.unique(), \n",
    "                                    'de':[ttest_de_clust_df_signif_thresh2[np.logical_and(ttest_de_clust_df_signif_thresh2.cell_type==i, ttest_de_clust_df_signif_thresh2.log10_fc>0)].shape[0] for i in ttest_de_clust_df_signif_thresh2.cell_type.unique()]}),\n",
    "            order=de_clust_order,color='red',ax=ax[0])\n",
    "\n",
    "ax[0].set_xticks([])\n",
    "ax[0].set_xlabel(\"\")\n",
    "ax[0].set_ylim([0,500])\n",
    "\n",
    "sns.despine(ax=ax[0],bottom=True)\n",
    "\n",
    "ax[1].imshow(np.expand_dims(clust_idx,1).T,aspect='auto',interpolation='none',cmap=clust_idx_cmap)\n",
    "ax[1].axis('off')\n",
    "sns.barplot(x='gene', y='de',\n",
    "            data=pd.DataFrame(data={'gene': ttest_de_clust_df_signif_thresh1_5.cell_type.unique(), \n",
    "                                    'de':[-ttest_de_clust_df_signif_thresh1_5[np.logical_and(ttest_de_clust_df_signif_thresh1_5.cell_type==i, ttest_de_clust_df_signif_thresh1_5.log10_fc<0)].shape[0] for i in ttest_de_clust_df_signif_thresh1_5.cell_type.unique()]}),\n",
    "            order=de_clust_order,color='skyblue',ax=ax[2])\n",
    "sns.barplot(x='gene', y='de',\n",
    "            data=pd.DataFrame(data={'gene': ttest_de_clust_df_signif_thresh2.cell_type.unique(), \n",
    "                                    'de':[-ttest_de_clust_df_signif_thresh2[np.logical_and(ttest_de_clust_df_signif_thresh2.cell_type==i, ttest_de_clust_df_signif_thresh2.log10_fc<0)].shape[0] for i in ttest_de_clust_df_signif_thresh2.cell_type.unique()]}),\n",
    "            order=de_clust_order,color='darkblue',ax=ax[2])\n",
    "ax[2].set_xticklabels(ax[2].get_xticklabels(),rotation = 90);\n",
    "sns.despine(ax=ax[2])\n",
    "ax[2].set_ylim([-500,0])\n",
    "#plt.savefig(\"/home/user/Dropbox/zhuang_lab/aging/aging_atlas_paper/figures_int/fig4_num_de_imputed.pdf\",dpi=300,bbox_inches='tight')"
   ]
  },
  {
   "cell_type": "markdown",
   "metadata": {},
   "source": [
    "## Use 10x DE genes for heatmap"
   ]
  },
  {
   "cell_type": "code",
   "execution_count": null,
   "metadata": {},
   "outputs": [],
   "source": [
    "ttest_de_clust_df = pd.read_csv(\"/home/user/src/tithonus/analysis/merfish/gene_lists/glm_nb_de_minor_age_V3_nools.csv\")\n",
    "ttest_de_celltype_df = pd.read_csv(\"/home/user/src/tithonus/analysis/merfish/gene_lists/glm_nb_de_major_age_V2.csv\")\n"
   ]
  },
  {
   "cell_type": "code",
   "execution_count": null,
   "metadata": {},
   "outputs": [],
   "source": [
    "ttest_de_clust_df_signif = ttest_de_clust_df[np.logical_and(np.abs(ttest_de_clust_df.coef) > np.log(2), ttest_de_clust_df.qval<0.05)]\n",
    "ttest_de_celltype_df_signif = ttest_de_celltype_df[np.logical_and(np.abs(ttest_de_celltype_df.coef) > np.log(1.25), ttest_de_celltype_df.qval<0.05)]"
   ]
  },
  {
   "cell_type": "code",
   "execution_count": null,
   "metadata": {},
   "outputs": [],
   "source": [
    "ttest_de_clust_df_signif_thresh1_5 = ttest_de_clust_df[np.logical_and(np.abs(ttest_de_clust_df.coef) > np.log(2), ttest_de_clust_df.qval<0.05)]\n",
    "ttest_de_clust_df_signif_thresh2 = ttest_de_clust_df[np.logical_and(np.abs(ttest_de_clust_df.coef) > np.log(2.5), ttest_de_clust_df.qval<0.05)]\n"
   ]
  },
  {
   "cell_type": "code",
   "execution_count": null,
   "metadata": {},
   "outputs": [],
   "source": [
    "sns.set_style('white')\n",
    "f, ax = plt.subplots(figsize=(8,3), nrows=3, gridspec_kw={'hspace':0.05, 'height_ratios':[10,1,10]})\n",
    "for i in [100,200,300,400]:\n",
    "    ax[0].axhline(i,color='gray',linestyle='--',lw=1)\n",
    "    ax[2].axhline(-i,color='gray',linestyle='--',lw=1)\n",
    "\n",
    "sns.barplot(x='gene', y='de',\n",
    "            data=pd.DataFrame(data={'gene': ttest_de_clust_df_signif_thresh1_5.cell_type.unique(), \n",
    "                                    'de':[ttest_de_clust_df_signif_thresh1_5[np.logical_and(ttest_de_clust_df_signif_thresh1_5.cell_type==i, ttest_de_clust_df_signif_thresh1_5.coef>0)].shape[0] for i in ttest_de_clust_df_signif_thresh1_5.cell_type.unique()]}),\n",
    "            order=de_clust_order,color='salmon',ax=ax[0])\n",
    "sns.barplot(x='gene', y='de',\n",
    "            data=pd.DataFrame(data={'gene': ttest_de_clust_df_signif_thresh2.cell_type.unique(), \n",
    "                                    'de':[ttest_de_clust_df_signif_thresh2[np.logical_and(ttest_de_clust_df_signif_thresh2.cell_type==i, ttest_de_clust_df_signif_thresh2.coef>0)].shape[0] for i in ttest_de_clust_df_signif_thresh2.cell_type.unique()]}),\n",
    "            order=de_clust_order,color='red',ax=ax[0])\n",
    "\n",
    "ax[0].set_xticks([])\n",
    "ax[0].set_xlabel(\"\")\n",
    "ax[0].set_ylim([0,500])\n",
    "\n",
    "sns.despine(ax=ax[0],bottom=True)\n",
    "\n",
    "ax[1].imshow(np.expand_dims(clust_idx,1).T,aspect='auto',interpolation='none',cmap=clust_idx_cmap)\n",
    "ax[1].axis('off')\n",
    "sns.barplot(x='gene', y='de',\n",
    "            data=pd.DataFrame(data={'gene': ttest_de_clust_df_signif_thresh1_5.cell_type.unique(), \n",
    "                                    'de':[-ttest_de_clust_df_signif_thresh1_5[np.logical_and(ttest_de_clust_df_signif_thresh1_5.cell_type==i, ttest_de_clust_df_signif_thresh1_5.coef<0)].shape[0] for i in ttest_de_clust_df_signif_thresh1_5.cell_type.unique()]}),\n",
    "            order=de_clust_order,color='skyblue',ax=ax[2])\n",
    "sns.barplot(x='gene', y='de',\n",
    "            data=pd.DataFrame(data={'gene': ttest_de_clust_df_signif_thresh2.cell_type.unique(), \n",
    "                                    'de':[-ttest_de_clust_df_signif_thresh2[np.logical_and(ttest_de_clust_df_signif_thresh2.cell_type==i, ttest_de_clust_df_signif_thresh2.coef<0)].shape[0] for i in ttest_de_clust_df_signif_thresh2.cell_type.unique()]}),\n",
    "            order=de_clust_order,color='darkblue',ax=ax[2])\n",
    "ax[2].set_xticklabels(ax[2].get_xticklabels(),rotation = 90);\n",
    "sns.despine(ax=ax[2])\n",
    "ax[2].set_ylim([-500,0])\n",
    "plt.savefig(\"/home/user/Dropbox/zhuang_lab/aging/aging_atlas_paper/figures_int/fig4_num_de_10x.pdf\",dpi=300,bbox_inches='tight')"
   ]
  },
  {
   "cell_type": "code",
   "execution_count": null,
   "metadata": {},
   "outputs": [],
   "source": [
    "de_genes = ttest_de_clust_df_signif.gene.unique()"
   ]
  },
  {
   "cell_type": "code",
   "execution_count": null,
   "metadata": {},
   "outputs": [],
   "source": [
    "len(de_genes)"
   ]
  },
  {
   "cell_type": "code",
   "execution_count": null,
   "metadata": {},
   "outputs": [],
   "source": [
    "for i in sorted(ttest_de_clust_df_signif.cell_type.unique()):\n",
    "    print(i, ttest_de_clust_df_signif[ttest_de_clust_df_signif.cell_type==i].shape)"
   ]
  },
  {
   "cell_type": "code",
   "execution_count": null,
   "metadata": {},
   "outputs": [],
   "source": [
    "ttest_de_clust_df"
   ]
  },
  {
   "cell_type": "code",
   "execution_count": null,
   "metadata": {},
   "outputs": [],
   "source": [
    "# cap number of displayed genes per cluster\n",
    "#max_genes = 200\n",
    "#de_genes = list(np.unique([list(ttest_de_clust_df[ttest_de_clust_df.cell_type==i].gene)[:max_genes]  for i in ttest_de_clust_df.cell_type.unique() if i != \"T cell\"]))"
   ]
  },
  {
   "cell_type": "code",
   "execution_count": null,
   "metadata": {},
   "outputs": [],
   "source": [
    "coef_mat = np.zeros((len(de_genes), len(de_clust_order)))\n",
    "for i,ct in enumerate(de_clust_order):\n",
    "    curr_ct = ttest_de_clust_df[ttest_de_clust_df.cell_type==ct]\n",
    "    for j,g in enumerate(de_genes):\n",
    "        coef = curr_ct[curr_ct.gene==g].coef.values\n",
    "        if len(coef) > 0:\n",
    "            coef_mat[j,i] = coef[0]"
   ]
  },
  {
   "cell_type": "code",
   "execution_count": null,
   "metadata": {},
   "outputs": [],
   "source": [
    "coef_mat_df = pd.DataFrame(coef_mat, columns=np.array(de_clust_order),  index=de_genes)\n",
    "#coef_mat_df = coef_mat_df.loc[:, coef_mat_df.var(0)>0]\n"
   ]
  },
  {
   "cell_type": "code",
   "execution_count": null,
   "metadata": {},
   "outputs": [],
   "source": [
    "import scipy.spatial as sp, scipy.cluster.hierarchy as hc\n",
    "\n",
    "row_dism = 1 - np.corrcoef(coef_mat_df.values.T)#.corr()\n",
    "row_dism[np.isnan(row_dism)] = 0\n",
    "row_linkage = hc.linkage(row_dism, method='complete')\n",
    "row_den = hc.dendrogram(row_linkage,no_plot=True)\n",
    "col_dism = 1 - np.corrcoef(coef_mat_df.values)#corr()\n",
    "col_dism[np.isnan(col_dism)] = 0\n",
    "col_linkage = hc.linkage(col_dism, method='complete')\n",
    "col_den = hc.dendrogram(col_linkage,no_plot=True)\n"
   ]
  },
  {
   "cell_type": "code",
   "execution_count": null,
   "metadata": {},
   "outputs": [],
   "source": [
    "col_order = np.array(col_den['leaves'])\n",
    "row_order = np.array(row_den['leaves'])"
   ]
  },
  {
   "cell_type": "code",
   "execution_count": null,
   "metadata": {},
   "outputs": [],
   "source": [
    "coef_mat_sorted = coef_mat_df#.iloc[col_order,:]"
   ]
  },
  {
   "cell_type": "code",
   "execution_count": null,
   "metadata": {},
   "outputs": [],
   "source": [
    "clust_idx = np.array([np.argwhere(np.array(list(label_colors.keys())) == i)[0][0] for i in list(np.array(coef_mat_sorted.columns))])\n",
    "clust_idx_cmap = mpl.colors.ListedColormap(list(label_colors.values()))\n",
    "\n"
   ]
  },
  {
   "cell_type": "code",
   "execution_count": null,
   "metadata": {},
   "outputs": [],
   "source": [
    "heatmap_markers = ['Bmp6','C4b','Il18','Onecut2','Il33','Pakap','Mpp7', 'Ighm','Ildr2','Ifit3','Ifitm3', 'Xdh','Lyz2','Serpina3n', 'C1qa','C1qc','B2m','Gfap','Nfkbia','Fmo2','Hexb','Hif3a', 'Nfkbib','Tnfsf8','Tnfsf13b']"
   ]
  },
  {
   "cell_type": "code",
   "execution_count": null,
   "metadata": {},
   "outputs": [],
   "source": [
    "heatmap_markers = [i for i in heatmap_markers if i in coef_mat_sorted.index]"
   ]
  },
  {
   "cell_type": "code",
   "execution_count": null,
   "metadata": {},
   "outputs": [],
   "source": [
    "coef_mat_sorted"
   ]
  },
  {
   "cell_type": "code",
   "execution_count": null,
   "metadata": {},
   "outputs": [],
   "source": [
    "for i in heatmap_markers:\n",
    "    print(i, list(ttest_de_celltype_df_signif[ttest_de_celltype_df_signif.gene==i].cell_type.unique()))"
   ]
  },
  {
   "cell_type": "code",
   "execution_count": null,
   "metadata": {},
   "outputs": [],
   "source": [
    "for i in heatmap_markers:\n",
    "    print(i, list(ttest_de_clust_df_signif[ttest_de_clust_df_signif.gene==i].cell_type.unique()))"
   ]
  },
  {
   "cell_type": "code",
   "execution_count": null,
   "metadata": {},
   "outputs": [],
   "source": [
    "heatmap_markers"
   ]
  },
  {
   "cell_type": "code",
   "execution_count": null,
   "metadata": {},
   "outputs": [],
   "source": [
    "f, axes = plt.subplots(figsize=(5,15), ncols=2, nrows=2, gridspec_kw={'wspace':0.1,'width_ratios':[10,3],'height_ratios':[0.5,20],'hspace':0.01})\n",
    "ax = axes[0,0]\n",
    "ax.imshow(np.expand_dims(clust_idx,axis=0),aspect='auto',interpolation='none',cmap=clust_idx_cmap)\n",
    "#ax.axis('off')\n",
    "ax.set_xticks([])\n",
    "ax.set_yticks([])\n",
    "#ax.set_yticks(np.arange(len(clust_idx)))\n",
    "#ax.set_yticklabels(np.array(coef_mat.columns)[clust_idx],fontsize=6)\n",
    "sns.despine(ax=ax,left=True,right=True, bottom=True)\n",
    "ax = axes[1,0]\n",
    "#ax.imshow(np.flipud(coef_mat_df.values[col_order,:][:,row_order]),cmap=plt.cm.seismic,vmin=-2.5,vmax=2.5,aspect='auto',interpolation='none',rasterized=True)\n",
    "ax.imshow(np.flipud(coef_mat_sorted.values),cmap=plt.cm.seismic,vmin=-2.5,vmax=2.5,aspect='auto',interpolation='none',rasterized=True)\n",
    "\n",
    "row_names = coef_mat_sorted.index[::-1]#np.array(coef_mat_df.index)[col_order][::-1]\n",
    "ax.set_yticks(np.arange(len(row_names)))\n",
    "ax.set_yticklabels([i if i in heatmap_markers else '' for i in row_names])\n",
    "sns.despine(ax=ax, left=True, bottom=True)\n",
    "ax.set_xticks([])\n",
    "#ax.axis('off')\n",
    "#plt.imshow(coef_mat_df.values,aspect='auto',interpolation='none',cmap=plt.cm.seismic,vmin=-2.5,vmax=2.5)\n",
    "ax = axes[1,1]\n",
    "\n",
    "hc.dendrogram(col_linkage, ax=ax,orientation='right',above_threshold_color='k',color_threshold=0)\n",
    "ax.axis('off')\n",
    "ax = axes[0,1]\n",
    "ax.axis('off')\n",
    "\n",
    "#plt.axis('off')\n",
    "save_fig(f, \"fig4_de_gene_heatmap\", dtype=\"pdf\")\n"
   ]
  },
  {
   "cell_type": "code",
   "execution_count": null,
   "metadata": {},
   "outputs": [],
   "source": [
    "celltype_colors, celltype_pals, label_colors, clust_pals = generate_palettes(adaa)"
   ]
  },
  {
   "cell_type": "code",
   "execution_count": null,
   "metadata": {},
   "outputs": [],
   "source": [
    "# do t-test across ages \n",
    "import diffxpy.api as diffxpy\n",
    "from de import filter_2group \n",
    "ttest_dfs = []\n",
    "for i in adata_subset.obs.cell_type.unique():\n",
    "    print(i)\n",
    "    curr_adata = adata_subset[adata_subset.obs.cell_type==i]        \n",
    "    curr_adata, _ = filter_2group(curr_adata, \"age\", \"4wk\", min_pct=0.1, logfc_thresh=np.log(1))\n",
    "    curr_adata.X = np.sqrt(sc.pp.normalize_total(curr_adata,inplace=False)[\"X\"])\n",
    "    ttest = diffxpy.test.two_sample(data=curr_adata,grouping='age',test='t_test')\n",
    "    qvals = ttest.qval\n",
    "    fc = ttest.log10_fold_change()\n",
    "    ttest_dfs.append(pd.DataFrame({'cell_type':[i]*len(qvals), 'fc':fc, 'qval':qvals, 'gene':list(curr_adata.var_names)}))\n",
    "    #ttest_dfs[i] = ttest"
   ]
  },
  {
   "cell_type": "markdown",
   "metadata": {},
   "source": [
    "## Quantify genes spatially upreg or downreg per cell type"
   ]
  },
  {
   "cell_type": "code",
   "execution_count": null,
   "metadata": {},
   "outputs": [],
   "source": [
    "# make plot of differentially expressed genes across major cell types\n",
    "def get_upreg_with_age(df_major, df_minor):\n",
    "    return list(df_minor[df_minor.coef>0].gene) + list(df_major[df_major.coef>0].gene)\n",
    "\n",
    "def get_downreg_with_age(df_major, df_minor):\n",
    "    return list(df_minor[df_minor.coef<=0].gene) + list(df_major[df_major.coef<=0].gene)\n",
    "\n",
    "ttest_de_celltype_df = pd.read_csv(\"/home/user/src/tithonus/analysis/merfish/gene_lists/glm_nb_de_major_age_V2.csv\")\n",
    "\n",
    "qval_thresh = 0.01\n",
    "coef_thresh_major = np.log(1.5)\n",
    "de_genes_age_major_signif = ttest_de_celltype_df[np.logical_and(np.abs(ttest_de_celltype_df.coef) > coef_thresh_major, ttest_de_celltype_df.qval<qval_thresh)]\n",
    "de_genes_age_major_signif = de_genes_age_major_signif[~np.isinf(de_genes_age_major_signif.coef)]"
   ]
  },
  {
   "cell_type": "code",
   "execution_count": null,
   "metadata": {},
   "outputs": [],
   "source": [
    "de_clust_df_signif = ttest_de_clust_df[np.logical_and(np.abs(ttest_de_clust_df.coef) > np.log(2), ttest_de_clust_df.qval<0.1)]\n"
   ]
  },
  {
   "cell_type": "code",
   "execution_count": null,
   "metadata": {},
   "outputs": [],
   "source": [
    "de_clust_df_signif[\"real_cell_type\"] = [i.split(\"-\")[0] for i in de_clust_df_signif.cell_type]"
   ]
  },
  {
   "cell_type": "code",
   "execution_count": null,
   "metadata": {},
   "outputs": [],
   "source": [
    "# count numbers for major cell types upregulated and downregulated\n",
    "upreg_counts = {}\n",
    "downreg_counts = {}\n",
    "upreg_genes = {}\n",
    "downreg_genes = {}\n",
    "for i in de_genes_age_major_signif.cell_type.unique():\n",
    "    upreg_counts[i] = de_clust_df_signif[np.logical_and(de_clust_df_signif.real_cell_type==i, de_clust_df_signif.coef>0)].shape[0]\n",
    "    downreg_counts[i] = de_clust_df_signif[np.logical_and(de_clust_df_signif.real_cell_type==i, de_clust_df_signif.coef<=0)].shape[0]\n",
    "    upreg_genes[i] = list(set(de_clust_df_signif[np.logical_and(de_clust_df_signif.real_cell_type==i, de_clust_df_signif.coef>0)].gene))\n",
    "    downreg_genes[i] = list(set(de_clust_df_signif[np.logical_and(de_clust_df_signif.real_cell_type==i, de_clust_df_signif.coef<=0)].gene))\n",
    "    "
   ]
  },
  {
   "cell_type": "code",
   "execution_count": null,
   "metadata": {
    "jupyter": {
     "outputs_hidden": true
    },
    "tags": []
   },
   "outputs": [],
   "source": [
    "upreg_genes['Astro']"
   ]
  },
  {
   "cell_type": "code",
   "execution_count": null,
   "metadata": {},
   "outputs": [],
   "source": [
    "astro_genes = de_genes_age_major_signif[de_genes_age_major_signif.cell_type==\"Astro\"].gene"
   ]
  },
  {
   "cell_type": "code",
   "execution_count": null,
   "metadata": {},
   "outputs": [],
   "source": [
    "from goatools.base import download_ncbi_associations\n",
    "gene2go = download_ncbi_associations()\n"
   ]
  },
  {
   "cell_type": "code",
   "execution_count": null,
   "metadata": {
    "tags": []
   },
   "outputs": [],
   "source": [
    "from goatools.base import download_go_basic_obo\n",
    "#obo_fname = download_go_basic_obo()\n",
    "from goatools.anno.genetogo_reader import Gene2GoReader\n",
    "\n",
    "objanno = Gene2GoReader(\"gene2go\", taxids=[10090])\n",
    "go2geneids_mus = objanno.get_id2gos(namespace='BP', go2geneids=True)\n",
    "from goatools.go_search import GoSearch\n",
    "\n",
    "srchhelp = GoSearch(\"go-basic.obo\", go2items=go2geneids_mus)\n"
   ]
  },
  {
   "cell_type": "code",
   "execution_count": null,
   "metadata": {},
   "outputs": [],
   "source": [
    "id_to_sym = {}\n",
    "for r,i in pd.read_table(\"/home/user/src/tithonus/analysis/merfish/entrez_gene_ids.txt\").iterrows():\n",
    "    id_to_sym[i['GeneID']] = i['Symbol']"
   ]
  },
  {
   "cell_type": "code",
   "execution_count": null,
   "metadata": {},
   "outputs": [],
   "source": [
    "def get_genes_for_go_term(go_id):\n",
    "    gos = srchhelp.add_children_gos([go_id])\n",
    "    ids = srchhelp.get_items(gos)\n",
    "    return [id_to_sym[geneid] for geneid in ids if geneid in id_to_sym]#{geneid: id_to_sym[geneid] for geneid in ids if geneid in id_to_sym}\n"
   ]
  },
  {
   "cell_type": "code",
   "execution_count": null,
   "metadata": {},
   "outputs": [],
   "source": [
    "            curr_syms = get_genes_for_go_term(g)# [id_to_sym[i] for i in go2geneids_mus[g] if i in id_to_sym]"
   ]
  },
  {
   "cell_type": "code",
   "execution_count": null,
   "metadata": {},
   "outputs": [],
   "source": [
    "score_names"
   ]
  },
  {
   "cell_type": "code",
   "execution_count": null,
   "metadata": {},
   "outputs": [],
   "source": [
    "sp.plot_obs_by_age_for_celltype('Micro_GO:0001816', 'Astro', figsize=(5,15));"
   ]
  },
  {
   "cell_type": "code",
   "execution_count": null,
   "metadata": {},
   "outputs": [],
   "source": [
    "go_terms"
   ]
  },
  {
   "cell_type": "code",
   "execution_count": null,
   "metadata": {},
   "outputs": [],
   "source": [
    "score_names = []\n",
    "for ct in [\"Astro\",\"Micro\",\"Endo\",\"Olig\"]:\n",
    "    genes_pos = upreg_genes[ct]#get_genes_for_celltype(upreg_genes, cell_types[k],\"pos\")\n",
    "    print(len(genes_pos))\n",
    "    go_terms = sig_genes_GO_query(genes_pos, source=['GO:BP','KEGG']).head(10)\n",
    "    for i,r in go_terms.iterrows():\n",
    "        g = r['native']\n",
    "        name = r['name']\n",
    "        if g in go2geneids_mus:\n",
    "            curr_syms = get_genes_for_go_term(g)# [id_to_sym[i] for i in go2geneids_mus[g] if i in id_to_sym]\n",
    "            syms_to_use = np.intersect1d(curr_syms, genes_pos)\n",
    "            print(g, syms_to_use, name)\n",
    "            if len(syms_to_use) > 0:\n",
    "                curr_score_name = ct + \"_\" + g\n",
    "                sc.tl.score_genes(adata_imputed, gene_list=syms_to_use, score_name=curr_score_name, use_raw=False)\n",
    "                score_names.append(curr_score_name)"
   ]
  },
  {
   "cell_type": "code",
   "execution_count": null,
   "metadata": {},
   "outputs": [],
   "source": [
    "from scipy.stats import zscore\n",
    "curr_A = adata_imputed[adata_imputed.obs.cell_type==\"Micro\"]\n",
    "for a in astro_genes:\n",
    "    if a in curr_A.var_names:\n",
    "        gene_idx = np.argwhere(curr_A.var_names == a)[0][0]\n",
    "        curr_A.obs['expr'] = curr_A.X[:,gene_idx].toarray().flatten()\n",
    "        area_avgs = zscore(curr_A.obs.groupby('spatial_clust_annots')['expr'].mean())\n",
    "        print(a, np.max(area_avgs))"
   ]
  },
  {
   "cell_type": "code",
   "execution_count": null,
   "metadata": {},
   "outputs": [],
   "source": [
    "sc.tl.score_genes(adata_imputed, gene_list=[\"Rsad2\",\"Ifit3\", \"Oas2\", \"Ifi204\", \"Usp18\",\"Isg15\",\"Stat2\"], score_name=\"interferon_score\")"
   ]
  },
  {
   "cell_type": "code",
   "execution_count": null,
   "metadata": {
    "tags": []
   },
   "outputs": [],
   "source": [
    "de_genes_age_major_signif[de_genes_age_major_signif.cell_type==\"Astro\"].sort_values('coef').tail(10)"
   ]
  },
  {
   "cell_type": "code",
   "execution_count": null,
   "metadata": {},
   "outputs": [],
   "source": [
    "genes_to_plot = [\"C4b\", \"Il33\",\"Gfap\", \"Xdh\"]"
   ]
  },
  {
   "cell_type": "code",
   "execution_count": null,
   "metadata": {},
   "outputs": [],
   "source": [
    "sp.plot_gene_by_age(\"B2m\", celltype=None,vmin=0,vmax=15, figsize=(3,15),s=0.5);"
   ]
  },
  {
   "cell_type": "code",
   "execution_count": null,
   "metadata": {},
   "outputs": [],
   "source": [
    "sp.plot_gene_by_age(\"Il18\", celltype=None,vmin=0,vmax=15, figsize=(3,15));"
   ]
  },
  {
   "cell_type": "code",
   "execution_count": null,
   "metadata": {},
   "outputs": [],
   "source": [
    "for i in genes_to_plot:\n",
    "    f = sp.plot_gene_by_age(i, celltype=None,vmin=0,vmax=10, figsize=(3,15),s=2,alpha=1);\n",
    "    save_fig(f, \"fig4_\"+i)"
   ]
  },
  {
   "cell_type": "code",
   "execution_count": null,
   "metadata": {},
   "outputs": [],
   "source": [
    "f = sp.plot_gene_by_age(\"B2m\", celltype=None,vmin=0,vmax=10, figsize=(3,15));"
   ]
  },
  {
   "cell_type": "code",
   "execution_count": null,
   "metadata": {},
   "outputs": [],
   "source": [
    "f = sp.plot_gene_by_age(\"Gfap\", celltype=None,vmin=0,vmax=10, figsize=(3,15));"
   ]
  },
  {
   "cell_type": "code",
   "execution_count": null,
   "metadata": {},
   "outputs": [],
   "source": [
    "f = sp.plot_gene_by_age(\"Xdh\", celltype=None,vmin=0,vmax=10, figsize=(3,15));"
   ]
  },
  {
   "cell_type": "code",
   "execution_count": null,
   "metadata": {},
   "outputs": [],
   "source": [
    "f = sp.plot_gene_by_age(\"Il33\", celltype=None,vmin=0,vmax=10, figsize=(3,15));"
   ]
  },
  {
   "cell_type": "code",
   "execution_count": null,
   "metadata": {},
   "outputs": [],
   "source": [
    "sns.set_style('white')\n",
    "ct_list = ['ExN','InN','MSN','Olig', 'Astro','Micro','OPC','Vlmc', 'Endo','Peri','Micro','Macro']\n",
    "sns.barplot(x='cell_type',y='count',data=pd.DataFrame({'cell_type':upreg_counts.keys(), 'count':upreg_counts.values()}),order=ct_list,color='blue')\n",
    "\n",
    "sns.barplot(x='cell_type',y='count',data=pd.DataFrame({'cell_type':downreg_counts.keys(), 'count':-np.array(list(downreg_counts.values()))}),order=ct_list,color='r')\n",
    "plt.ylim([-500,500])\n",
    "plt.savefig(\"/home/user/Dropbox/zhuang_lab/aging/aging_atlas_paper_v2/figures_imputed/fig4_de_major_ct.pdf\",bbox_inches='tight',dpi=200)"
   ]
  },
  {
   "cell_type": "code",
   "execution_count": null,
   "metadata": {},
   "outputs": [],
   "source": [
    "sig_genes_GO_query(de_genes_age_major_signif[de_genes_age_major_signif.cell_type==\"Micro\"].gene)"
   ]
  },
  {
   "cell_type": "code",
   "execution_count": null,
   "metadata": {},
   "outputs": [],
   "source": []
  },
  {
   "cell_type": "code",
   "execution_count": null,
   "metadata": {},
   "outputs": [],
   "source": [
    "# Make GO plots of DE genes for each, for supplement\n",
    "adata_subset.layers['sqrt_norm'] =  np.sqrt(sc.pp.normalize_total(adata_subset,inplace=False)[\"X\"])"
   ]
  },
  {
   "cell_type": "markdown",
   "metadata": {},
   "source": [
    "## Quantify number of DE genes per anatomical region by cell type"
   ]
  },
  {
   "cell_type": "code",
   "execution_count": null,
   "metadata": {},
   "outputs": [],
   "source": [
    "adata_sqrt_norm = adata_imputed"
   ]
  },
  {
   "cell_type": "code",
   "execution_count": null,
   "metadata": {},
   "outputs": [],
   "source": [
    "adata_sqrt_norm.X = adata_sqrt_norm.layers['sqrt_norm']"
   ]
  },
  {
   "cell_type": "code",
   "execution_count": null,
   "metadata": {},
   "outputs": [],
   "source": [
    "import diffxpy.api as de"
   ]
  },
  {
   "cell_type": "code",
   "execution_count": null,
   "metadata": {
    "tags": []
   },
   "outputs": [],
   "source": [
    "upreg_by_ct = {}\n",
    "downreg_by_ct = {}\n",
    "qval_thresh = 0.05\n",
    "for ct in [\"ExN\", \"InN\", \"MSN\", \"Olig\", \"Micro\", \"Astro\", \"Endo\",\"Vlmc\",\"Peri\",\"OPC\"]:\n",
    "    adata_ct = adata_sqrt_norm[adata_sqrt_norm.obs.cell_type==ct]    \n",
    "    upreg_by_area = {}\n",
    "    downreg_by_area = {}\n",
    "#    adata_ct.X = adata_ct.layers['sqrt_norm']\n",
    "    for i in adata_ct.obs.spatial_clust_annots.unique():\n",
    "\n",
    "        curr_adata = adata_ct[adata_ct.obs.spatial_clust_annots==i]\n",
    "        curr_adata = curr_adata[curr_adata.obs.age.isin(['4wk','90wk'])]\n",
    "        yng = curr_adata[curr_adata.obs.age=='4wk']\n",
    "        old = curr_adata[curr_adata.obs.age=='90wk']\n",
    "        expr_thresh = 0.1\n",
    "        good_genes = np.logical_or(((yng.X>0).sum(0)/yng.shape[0]).flatten() > 0.1,\n",
    "                       ((old.X>0).sum(0)/old.shape[0]).flatten() > 0.1)\n",
    "        curr_adata = curr_adata[:,good_genes]\n",
    "        # filter to genes expressed in at least 10% of either population\n",
    "        #curr_adata[\n",
    "        thresh = np.log10(2)\n",
    "        print(ct, i, curr_adata.shape)\n",
    "        if curr_adata.shape[0] > (0.05*adata_ct.shape[0]):            \n",
    "            de_res = de.test.t_test(curr_adata, \"age\")\n",
    "            fc = de_res.log10_fold_change()\n",
    "            qvals = de_res.log10_qval_clean()\n",
    "            qvals = qvals[fc<=1]\n",
    "            fc = fc[fc<1]\n",
    "            \n",
    "            #if i == \"CC\":\n",
    "            #    print(de_res.gene_ids[np.argsort(fc)[-100:]])\n",
    "            #    print(10**np.sort(fc)[-100:])\n",
    "            upreg_by_area[i] = np.sum(np.logical_and(de_res.log10_fold_change() > thresh, \n",
    "                                                    de_res.log10_qval_clean() < qval_thresh))\n",
    "            downreg_by_area[i] = np.sum(np.logical_and(de_res.log10_fold_change() <= -thresh, \n",
    "                                                    de_res.log10_qval_clean() < qval_thresh))    \n",
    "        else:\n",
    "            upreg_by_area[i] = 0\n",
    "            downreg_by_area[i] = 0\n",
    "    upreg_by_ct[ct] = upreg_by_area\n",
    "    downreg_by_ct[ct] = downreg_by_area"
   ]
  },
  {
   "cell_type": "code",
   "execution_count": null,
   "metadata": {},
   "outputs": [],
   "source": [
    "sns.set_style('white')"
   ]
  },
  {
   "cell_type": "code",
   "execution_count": null,
   "metadata": {},
   "outputs": [],
   "source": [
    "celltypes = [\"ExN\", \"InN\", \"MSN\", \"Olig\", \"Micro\", \"Astro\", \"Endo\",\"OPC\"]\n",
    "areas = ['Pia','L2/3','L5','L6','CC','Striatum','LatSept','Ventricle']\n",
    "f,ax = plt.subplots(figsize=(6,4.8))\n",
    "for i, ct in enumerate(celltypes):\n",
    "    curr_upreg = np.array([upreg_by_ct[ct][area] for j, area in enumerate(areas)])\n",
    "    print(ct,curr_upreg)\n",
    "    curr_upreg_frac = curr_upreg/curr_upreg.max()\n",
    "    vmin = curr_upreg_frac[curr_upreg_frac>0].min()\n",
    "    vmax = curr_upreg_frac[curr_upreg_frac>0].max()\n",
    "    if vmin == vmax:\n",
    "        vmin = 0\n",
    "    if curr_upreg[curr_upreg>0].min() < cell_min:\n",
    "        cell_min = curr_upreg[curr_upreg>0].min()\n",
    "    if curr_upreg[curr_upreg>0].max() > cell_max:\n",
    "        cell_max = curr_upreg[curr_upreg>0].max()\n",
    "    print(cell_max)\n",
    "#        print(upreg_by_ct[ct])\n",
    "    ax.scatter([i]*len(areas),np.arange(len(areas)),s=2*curr_upreg,c=curr_upreg_frac,cmap=plt.cm.Reds,vmin=vmin,vmax=curr_upreg_frac.max(),edgecolor='k',linewidth=1)\n",
    "        \n",
    "ax.set_xticks(np.arange(len(celltypes)))\n",
    "ax.set_yticks(np.arange(-1,len(areas)))\n",
    "ax.set_xticklabels(celltypes)\n",
    "ax.set_yticklabels(['']+['Pia','L2/3','L5','L6','CC','Striatum','Olf','Ventricle'])\n",
    "save_fig(f, \"fig4_upreg_spatial\",dtype='pdf')"
   ]
  },
  {
   "cell_type": "code",
   "execution_count": null,
   "metadata": {},
   "outputs": [],
   "source": [
    "#celltypes = [\"ExN\", \"InN\", \"MSN\", \"Olig\", \"Micro\", \"Astro\", \"Endo\"]\n",
    "areas = ['Pia','L2/3','L5','L6','CC','Striatum','LatSept','Ventricle']\n",
    "cell_min = 1e6\n",
    "cell_max = 0\n",
    "f,ax = plt.subplots(figsize=(6,4.8))\n",
    "for i, ct in enumerate(celltypes):\n",
    "    curr_upreg = np.array([downreg_by_ct[ct][area] for j, area in enumerate(areas)])\n",
    "    print(curr_upreg)\n",
    "    curr_upreg_frac = curr_upreg/curr_upreg.max()\n",
    "#        print(upreg_by_ct[ct])\n",
    "    vmin = curr_upreg_frac[curr_upreg_frac>0].min()\n",
    "    vmax = curr_upreg_frac[curr_upreg_frac>0].max()\n",
    "    if curr_upreg[curr_upreg>0].min() < cell_min:\n",
    "        cell_min = curr_upreg[curr_upreg>0].min()\n",
    "    if curr_upreg[curr_upreg>0].max() > cell_max:\n",
    "        cell_max = curr_upreg[curr_upreg>0].max()\n",
    "    if vmin == vmax:\n",
    "        vmin = 0\n",
    "    \n",
    "    ax.scatter([i]*len(areas),np.arange(len(areas)),s=2*curr_upreg,c=curr_upreg_frac,cmap=plt.cm.Blues,vmin=vmin,vmax=curr_upreg_frac.max(),edgecolor='k',linewidth=1)\n",
    "        \n",
    "ax.set_xticks(np.arange(len(celltypes)))\n",
    "ax.set_yticks(np.arange(-1,len(areas)))\n",
    "ax.set_xticklabels(celltypes)\n",
    "ax.set_yticklabels(['']+['Pia','L2/3','L5','L6','CC','Striatum','Olf','Ventricle'])\n",
    "save_fig(f, \"fig4_downreg_spatial\",dtype='pdf')"
   ]
  },
  {
   "cell_type": "code",
   "execution_count": null,
   "metadata": {},
   "outputs": [],
   "source": [
    "np.arange(20, 1200, 200)"
   ]
  },
  {
   "cell_type": "code",
   "execution_count": null,
   "metadata": {},
   "outputs": [],
   "source": [
    "f,ax = plt.subplots(figsize=(6,4.8))\n",
    "\n",
    "ax.scatter(np.arange(6), np.zeros(6), s=np.arange(0, 1200, 200),color='k',linewidth=1,edgecolor='k')\n",
    "ax.axis('off')\n",
    "ax.set_xlim([-1,7])\n",
    "save_fig(f, 'fig4_updownreg_scale',dtype='pdf')\n"
   ]
  },
  {
   "cell_type": "code",
   "execution_count": null,
   "metadata": {},
   "outputs": [],
   "source": [
    "len(np.arange(0, 1000, 200))"
   ]
  },
  {
   "cell_type": "markdown",
   "metadata": {},
   "source": [
    "# Fig. 5: Ligand receptor analysis"
   ]
  },
  {
   "cell_type": "code",
   "execution_count": null,
   "metadata": {},
   "outputs": [],
   "source": [
    "sys.path.append(\"/home/user/src/tithonus/analysis/tithonus_analysis/\")\n",
    "from spatial_analysis import *\n"
   ]
  },
  {
   "cell_type": "code",
   "execution_count": null,
   "metadata": {},
   "outputs": [],
   "source": [
    "# load ligand receptor pairs\n",
    "# load cellchatdb \n",
    "#adata_subset.var_names = unbinarize_list(adata_subset.var_names)\n",
    "cellchat = pd.read_csv(\"gene_lists/cellchatdb_interactions.csv\")\n",
    "celltalk = pd.read_table(\"gene_lists/mouse_lr_pair.txt\")\n",
    "cellchat_genes = list(set(list(cellchat['receptor']) + list(cellchat['ligand'])))\n",
    "celltalk_genes = list(set(list(celltalk['ligand_gene_symbol']) + list(celltalk['receptor_gene_symbol'])))\n",
    "print(len(celltalk_genes))\n",
    "\n",
    "celltalk_genes = [i for i in celltalk_genes if i in adata_imputed.var_names]\n"
   ]
  },
  {
   "cell_type": "code",
   "execution_count": null,
   "metadata": {},
   "outputs": [],
   "source": []
  },
  {
   "cell_type": "code",
   "execution_count": null,
   "metadata": {},
   "outputs": [],
   "source": [
    "adata_imputed_lr = adata_imputed[:, celltalk_genes]"
   ]
  },
  {
   "cell_type": "code",
   "execution_count": null,
   "metadata": {},
   "outputs": [],
   "source": [
    "adata_imputed_lr.layers['sqrt_norm']"
   ]
  },
  {
   "cell_type": "code",
   "execution_count": null,
   "metadata": {},
   "outputs": [],
   "source": [
    "celltalk_filt = celltalk[np.logical_and(celltalk.ligand_gene_symbol.isin(adata_imputed_lr.var_names),\n",
    "                        celltalk.receptor_gene_symbol.isin(adata_imputed_lr.var_names))] "
   ]
  },
  {
   "cell_type": "code",
   "execution_count": null,
   "metadata": {},
   "outputs": [],
   "source": [
    "# add index column to celltalkdb\n",
    "celltalk_filt[\"ligand_idx\"] = [np.argwhere(adata_imputed_lr.var_names == i)[0][0] for i in celltalk_filt.ligand_gene_symbol]\n",
    "celltalk_filt[\"receptor_idx\"] = [np.argwhere(adata_imputed_lr.var_names == i)[0][0] for i in celltalk_filt.receptor_gene_symbol]"
   ]
  },
  {
   "cell_type": "code",
   "execution_count": null,
   "metadata": {},
   "outputs": [],
   "source": []
  },
  {
   "cell_type": "code",
   "execution_count": null,
   "metadata": {
    "tags": []
   },
   "outputs": [],
   "source": [
    "nbors, nbor_zscore, nbor_pvals = compute_celltype_neighborhood(adata_imputed, 'cell_type', niter=500, radius=50)"
   ]
  },
  {
   "cell_type": "code",
   "execution_count": null,
   "metadata": {},
   "outputs": [],
   "source": [
    "log_nbor_pvals = -np.log10(nbor_pvals)\n",
    "log_nbor_pvals[np.isinf(log_nbor_pvals)] = -np.log10(1e-6)"
   ]
  },
  {
   "cell_type": "code",
   "execution_count": null,
   "metadata": {},
   "outputs": [],
   "source": [
    "f, ax = plt.subplots()\n",
    "ax.imshow(nbors,cmap=plt.cm.viridis,vmin=0,vmax=100000)\n",
    "ax.set_xticks(np.arange(len(adata_imputed.obs.cell_type.unique())))\n",
    "ax.set_xticklabels(list(sorted(adata_imputed.obs.cell_type.unique())),rotation=90)\n",
    "ax.set_yticks(np.arange(len(adata_imputed.obs.cell_type.unique())))\n",
    "ax.set_yticklabels(list(sorted(adata_imputed.obs.cell_type.unique())))"
   ]
  },
  {
   "cell_type": "code",
   "execution_count": null,
   "metadata": {},
   "outputs": [],
   "source": [
    "# for LR analysis, what we want to know is which pairs of celltypes have a large fraction of cells within a radius that would actually allow communication\n",
    "# we need to define what a \"large fraction\" is, in absolute terms -- not relative to other celltype interactions\n",
    "# because oligodendrocytes, for example, could interact with many different celltypes\n",
    "# what is the expected frequency if there was no interaction? There are N cells of one cell type, and K cells of another cell type, so there are N*K possible interactions\n",
    "# can compute the frequency of "
   ]
  },
  {
   "cell_type": "code",
   "execution_count": null,
   "metadata": {
    "tags": []
   },
   "outputs": [],
   "source": [
    "def _compute_neighborhood_frac(pos, labels, celltypes, radius, min_count=100):\n",
    "    \"\"\"\n",
    "    Compute the fraction of cells out of all pairs that are within a neighborhood\n",
    "    \"\"\"\n",
    "    neighbors = np.zeros((len(celltypes), len(celltypes)))\n",
    "\n",
    "    for i, c1 in enumerate(celltypes):\n",
    "        curr_X = pos[labels==c1]\n",
    "        if curr_X.shape[0] > min_count:\n",
    "            for j, c2 in enumerate(celltypes):\n",
    "                curr_Y = pos[labels==c2]\n",
    "                #if i <= j:\n",
    "                # count the fraction of celltype c1 that have celltype c2 nearby\n",
    "                neighbors[i,j] = np.sum(count_nearest_neighbors(curr_X, curr_Y, dist_thresh=radius))#/(curr_X.shape[0]*curr_Y.shape[0])\n",
    "                 #   neighbors[j,i] = neighbors[i,j]\n",
    "    return neighbors\n",
    "\n",
    "def _compute_neighbor_shuffled(pos, labels, celltypes, radius):\n",
    "    labels = np.array([labels[i] for i in np.random.choice(len(labels),len(labels))])#labels[np.random.permutation(len(labels))]#\n",
    "    return _compute_neighborhood_frac(pos, labels, celltypes, radius)\n",
    "\n",
    "def compute_celltype_enrichment(A, celltype_key, celltypes=None, radius=150, niter=10):\n",
    "    # compute the fraction of cells that are within a radius, out of the total pairs of that cell type\n",
    "    if celltypes is None:\n",
    "        celltypes = list(sorted(A.obs[celltype_key].unique()))\n",
    "    pos = A.obsm['spatial']\n",
    "    labels = A.obs[celltype_key]\n",
    "    neighbors = _compute_neighborhood_frac(pos, labels, celltypes, radius)\n",
    "    #iterations = tqdm(range(niter))\n",
    "    # for each iteration, shuffle celltype labels\n",
    "    #num_cores = multiprocessing.cpu_count()\n",
    "    #random_freq = Parallel(n_jobs=num_cores)(delayed(_compute_neighbor_shuffled)(pos, labels, celltypes, radius) for i in iterations)    \n",
    "    #print(len(random_freq))\n",
    "    # z score\n",
    "    #zs = np.zeros_like(neighbors)\n",
    "    #pval = np.zeros_like(neighbors)\n",
    "\n",
    "    #shuffled_mean = np.dstack(random_freq).mean(2)\n",
    "    #shuffled_std = np.std(np.dstack(random_freq),2)\n",
    "    #for i in range(neighbors.shape[0]):\n",
    "    #    for j in range(neighbors.shape[1]):\n",
    "    #        zs[i,j] = (neighbors[i,j] - shuffled_mean[i,j])/shuffled_std[i,j]\n",
    "    #        pval[i,j] = calc_pval(neighbors[i,j],  np.dstack(random_freq)[i,j,:])#np.sum(neighbors[i,j] <= np.dstack(random_freq)[i,j,:])/niter#np.sum(neighbors[i,j] <= np.dstack(random_freq)[i,j,:])/niter #calc_pval(neighbors[i,j],  np.dstack(random_freq)[i,j,:])#np.sum(neighbors[i,j] <= np.dstack(random_freq)[i,j,:])/niter\n",
    "    return neighbors\n",
    "\n",
    "def get_interacting_celltypes(A, neighbors, thresh=0.5):\n",
    "    celltypes = list(sorted(A.obs['cell_type'].unique()))\n",
    "    good_interactions = neighbors>thresh\n",
    "    ct_interactions = []\n",
    "    for i in range(neighbors.shape[0]):\n",
    "        for j in range(neighbors.shape[1]):\n",
    "            if good_interactions[i,j]:\n",
    "                ct_interactions.append(celltypes[i]+\"_\"+celltypes[j])\n",
    "    return ct_interactions"
   ]
  },
  {
   "cell_type": "code",
   "execution_count": null,
   "metadata": {
    "tags": []
   },
   "outputs": [],
   "source": [
    "nbors_cc = compute_celltype_enrichment(adata_imputed, 'cell_type', niter=500, radius=20) #[adata_imputed.obs.spatial_clust_annots==\"CC\"],"
   ]
  },
  {
   "cell_type": "code",
   "execution_count": null,
   "metadata": {},
   "outputs": [],
   "source": [
    "nbors_zscore_cc = zscore_mat(nbors_cc)"
   ]
  },
  {
   "cell_type": "code",
   "execution_count": null,
   "metadata": {},
   "outputs": [],
   "source": [
    "get_interacting_celltypes(adata_imputed, nbors_zscore_cc,0.1)"
   ]
  },
  {
   "cell_type": "code",
   "execution_count": null,
   "metadata": {},
   "outputs": [],
   "source": [
    "f, ax = plt.subplots()\n",
    "ax.imshow(nbors_zscore_cc,cmap=plt.cm.bwr,vmin=-1,vmax=1)\n",
    "ax.set_xticks(np.arange(len(adata_imputed.obs.cell_type.unique())))\n",
    "ax.set_xticklabels(list(sorted(adata_imputed.obs.cell_type.unique())),rotation=90);\n",
    "ax.set_yticks(np.arange(len(adata_imputed.obs.cell_type.unique())))\n",
    "ax.set_yticklabels(list(sorted(adata_imputed.obs.cell_type.unique())));"
   ]
  },
  {
   "cell_type": "code",
   "execution_count": null,
   "metadata": {},
   "outputs": [],
   "source": [
    "nbors_cc, nbor_zscore_cc, nbor_pvals_cc = compute_celltype_neighborhood(adata_imputed[adata_imputed.obs.spatial_clust_annots==\"CC\"], 'cell_type', niter=500, radius=20)"
   ]
  },
  {
   "cell_type": "code",
   "execution_count": null,
   "metadata": {},
   "outputs": [],
   "source": [
    "f, ax = plt.subplots()\n",
    "ax.imshow(nbor_zscore_cc,cmap=plt.cm.bwr,vmin=-5,vmax=5)\n",
    "ax.set_xticks(np.arange(len(adata_imputed.obs.cell_type.unique())))\n",
    "ax.set_xticklabels(list(sorted(adata_imputed.obs.cell_type.unique())),rotation=90)\n",
    "ax.set_yticks(np.arange(len(adata_imputed.obs.cell_type.unique())))\n",
    "ax.set_yticklabels(list(sorted(adata_imputed.obs.cell_type.unique())))"
   ]
  },
  {
   "cell_type": "markdown",
   "metadata": {},
   "source": [
    "# Fig 6: White matter/oligo analysis analysis"
   ]
  },
  {
   "cell_type": "markdown",
   "metadata": {},
   "source": [
    "## Score cells for activated astro/micro"
   ]
  },
  {
   "cell_type": "code",
   "execution_count": null,
   "metadata": {},
   "outputs": [],
   "source": [
    "sc.tl.score_genes(adata_imputed, gene_list=['B2m','Trem2', 'Ccl2', 'Apoe',  'Axl', 'Itgax', 'Cd9','C1qa','C1qc','Lyz2','Ctss'], score_name='activate_micro', use_raw=False)\n",
    "sc.tl.score_genes(adata_imputed, gene_list=['C4b', 'C3', 'Serpina3n', 'Cxcl10', 'Gfap', 'Vim', 'Il18','Hif3a'], score_name='activate_astro', use_raw=False)\n",
    "activate_endo = [\"B2m\", \"Nfkbia\", \"Serinc3\",\"Xdh\", \"Gfap\", \"Tap1\"]\n",
    "sc.tl.score_genes(adata_imputed, gene_list=activate_endo, score_name='activate_endo',use_raw=False)\n",
    "sc.tl.score_genes(adata_imputed, gene_list=[ \"C4b\", \"Il18\", \"Il33\"], score_name='activate_olig',use_raw=False)"
   ]
  },
  {
   "cell_type": "code",
   "execution_count": null,
   "metadata": {},
   "outputs": [],
   "source": [
    "adata_astro = adata_imputed[adata_imputed.obs.cell_type==\"Astro\"]\n",
    "adata_imputed.obs.activate_astro = adata_imputed.obs.activate_astro - np.mean(adata_astro[adata_astro.obs.age=='4wk'].obs.activate_astro)\n",
    "\n"
   ]
  },
  {
   "cell_type": "code",
   "execution_count": null,
   "metadata": {},
   "outputs": [],
   "source": [
    "adata_micro = adata_imputed[adata_imputed.obs.cell_type==\"Micro\"]\n",
    "adata_imputed.obs.activate_micro = adata_imputed.obs.activate_micro - np.mean(adata_micro[adata_micro.obs.age=='4wk'].obs.activate_micro)"
   ]
  },
  {
   "cell_type": "code",
   "execution_count": null,
   "metadata": {},
   "outputs": [],
   "source": [
    "adata_olig = adata_imputed[adata_imputed.obs.cell_type==\"Olig\"]\n",
    "adata_imputed.obs.activate_olig = adata_imputed.obs.activate_olig - np.mean(adata_olig[adata_olig.obs.age=='4wk'].obs.activate_olig)"
   ]
  },
  {
   "cell_type": "markdown",
   "metadata": {},
   "source": [
    "## Analyze microglial activation states from literatuer"
   ]
  },
  {
   "cell_type": "code",
   "execution_count": null,
   "metadata": {},
   "outputs": [],
   "source": [
    "microglial_activation_genes = pd.read_excel('safraiyan_neuron_2021_microglial_activation_genes.xlsx')"
   ]
  },
  {
   "cell_type": "code",
   "execution_count": null,
   "metadata": {},
   "outputs": [],
   "source": [
    "adata_micro = adata_imputed[adata_imputed.obs.cell_type==\"Micro\"]\n",
    "adata_micro.obs['spatial_location'] = [i if i == \"CC\" else \"Other\" for i in adata_micro.obs.spatial_clust_annots ]"
   ]
  },
  {
   "cell_type": "code",
   "execution_count": null,
   "metadata": {},
   "outputs": [],
   "source": []
  },
  {
   "cell_type": "code",
   "execution_count": null,
   "metadata": {},
   "outputs": [],
   "source": [
    "f, ax = plt.subplots(figsize=(5,5))\n",
    "\n",
    "sc.pl.umap(adata_micro, color='age',s=20,ax=ax,palette=age_colors)\n",
    "save_fig(f, \"figS7_micro_age\",dtype=\"png\")"
   ]
  },
  {
   "cell_type": "code",
   "execution_count": null,
   "metadata": {},
   "outputs": [],
   "source": [
    "f, ax = plt.subplots(figsize=(5,5))\n",
    "sc.pl.umap(adata_micro, color='spatial_location',s=20,palette=sns.color_palette([ 'black','lightgrey']),ax=ax)\n",
    "save_fig(f, \"figS7_micro_spatial\",dtype=\"png\")"
   ]
  },
  {
   "cell_type": "code",
   "execution_count": null,
   "metadata": {},
   "outputs": [],
   "source": []
  },
  {
   "cell_type": "code",
   "execution_count": null,
   "metadata": {},
   "outputs": [],
   "source": [
    "f, ax = plt.subplots(figsize=(5,5))\n",
    "sc.pl.umap(adata_micro, color='activate_micro',s=20,cmap=plt.cm.Reds,ax=ax)\n",
    "save_fig(f, \"figS7_micro_activation\",dtype=\"png\")"
   ]
  },
  {
   "cell_type": "code",
   "execution_count": null,
   "metadata": {},
   "outputs": [],
   "source": [
    "#adata_micro = adata_sqrt_norm[adata_sqrt_norm.obs.cell_type==\"Micro\"]"
   ]
  },
  {
   "cell_type": "code",
   "execution_count": null,
   "metadata": {},
   "outputs": [],
   "source": [
    "# identify activated astros in CC or pia\n",
    "activate_thresh = np.std(adata_micro.obs.activate_micro)\n",
    "adata_micro.obs[\"activate_subset\"] = \"Other\"\n",
    "adata_micro.obs.loc[np.logical_and(adata_micro.obs.activate_micro>activate_thresh, adata_micro.obs.spatial_clust_annots==\"CC\"), \"activate_subset\"] = \"Activated CC\"\n",
    "adata_micro.obs.loc[np.logical_and(adata_micro.obs.activate_micro>activate_thresh, adata_micro.obs.spatial_clust_annots!=\"CC\"), \"activate_subset\"] = \"Activated Non-CC\"\n",
    "#adata_micro.obs.loc[np.logical_and(adata_micro.obs.activate_micro>activate_thresh, adata_micro.obs.spatial_clust_annots==\"CC\"), \"activate_subset\"] = \"Activated non-CC\"\n"
   ]
  },
  {
   "cell_type": "code",
   "execution_count": null,
   "metadata": {},
   "outputs": [],
   "source": [
    "f, ax = plt.subplots(figsize=(5,5))\n",
    "sc.pl.umap(adata_micro, color='activate_subset',s=20,palette=sns.color_palette([ 'blue','red','lightgrey']),ax=ax)\n",
    "save_fig(f, \"figS7_micro_spatial_activated\",dtype=\"png\")"
   ]
  },
  {
   "cell_type": "code",
   "execution_count": null,
   "metadata": {},
   "outputs": [],
   "source": [
    "sc.tl.rank_genes_groups(adata_micro, use_raw=False, reference='Other', groups=['CC','Other'], groupby='spatial_location',method='t-test_overestim_var')\n",
    "#sc.tl.filter_rank_genes_groups(adata_astro, min_fold_change=0.25, min_in_group_fraction=0, max_out_group_fraction=1, use_raw=False,key_added='rank_genes_groups_filtered')\n",
    "f, ax = plt.subplots(figsize=(6,3))\n",
    "sc.pl.rank_genes_groups_violin(adata_micro,ax=ax,n_genes=20,key='rank_genes_groups')\n",
    "save_fig(f, \"figS7_micro_all_cc_vs_all_non\",dtype=\"png\")"
   ]
  },
  {
   "cell_type": "code",
   "execution_count": null,
   "metadata": {},
   "outputs": [],
   "source": [
    "sc.tl.rank_genes_groups(adata_micro, use_raw=False, reference='Activated CC', groups=['Activated CC','Activated Non-CC'], groupby='activate_subset',method='t-test_overestim_var')\n",
    "#sc.tl.filter_rank_genes_groups(adata_astro, min_fold_change=0.25, min_in_group_fraction=0, max_out_group_fraction=1, use_raw=False,key_added='rank_genes_groups_filtered')\n",
    "f, ax = plt.subplots(figsize=(6,3))\n",
    "sc.pl.rank_genes_groups_violin(adata_micro,ax=ax,n_genes=20,key='rank_genes_groups')\n",
    "save_fig(f, \"figS7_micro_activated_other_vs_activated_non\",dtype=\"png\")"
   ]
  },
  {
   "cell_type": "code",
   "execution_count": null,
   "metadata": {},
   "outputs": [],
   "source": [
    "sc.tl.rank_genes_groups(adata_micro, use_raw=False, reference='Other', groups=['CC','Other'], groupby='activate_subset',method='t-test_overestim_var')\n",
    "#sc.tl.filter_rank_genes_groups(adata_astro, min_fold_change=0.25, min_in_group_fraction=0, max_out_group_fraction=1, use_raw=False,key_added='rank_genes_groups_filtered')\n",
    "f, ax = plt.subplots(figsize=(6,3))\n",
    "sc.pl.rank_genes_groups_violin(adata_micro,ax=ax,n_genes=20,key='rank_genes_groups')\n",
    "save_fig(f, \"figS7_micro_activated_cc_vs_other_non\",dtype=\"png\")"
   ]
  },
  {
   "cell_type": "code",
   "execution_count": null,
   "metadata": {},
   "outputs": [],
   "source": [
    "sc.tl.rank_genes_groups(adata_micro, use_raw=False, reference='Activated Non-CC', groups=['Activated CC','Activated Non-CC'], groupby='activate_subset',method='t-test_overestim_var')\n",
    "#sc.tl.filter_rank_genes_groups(adata_astro, min_fold_change=0.25, min_in_group_fraction=0, max_out_group_fraction=1, use_raw=False,key_added='rank_genes_groups_filtered')\n",
    "f, ax = plt.subplots(figsize=(6,3))\n",
    "sc.pl.rank_genes_groups_violin(adata_micro,ax=ax,n_genes=20,key='rank_genes_groups')\n",
    "save_fig(f, \"figS7_micro_activated_cc_vs_activated_other\",dtype=\"png\")"
   ]
  },
  {
   "cell_type": "code",
   "execution_count": null,
   "metadata": {},
   "outputs": [],
   "source": [
    "f,  = plt.su\n",
    "sc.pl.violin(adata_micro[adata_micro.obs.activate_subset.isin(['Activated CC','Activated Non-CC'])],\n",
    "             keys=['Trem2','Ctsb','Apoe','Fth1','Cd63'],cmap=plt.cm.Reds, groupby='activate_subset')\n",
    "save_fig(f, \"figS7_wam_genes\",dtype=\"png\")"
   ]
  },
  {
   "cell_type": "code",
   "execution_count": null,
   "metadata": {},
   "outputs": [],
   "source": []
  },
  {
   "cell_type": "markdown",
   "metadata": {},
   "source": [
    "## Separately analyze astros in pia vs CC"
   ]
  },
  {
   "cell_type": "code",
   "execution_count": null,
   "metadata": {},
   "outputs": [],
   "source": [
    "adata_astro = adata_imputed[adata_imputed.obs.cell_type==\"Astro\"]\n",
    "adata_astro.obs['spatial_location'] = [i if i == \"CC\" or i == \"Pia\" else \"Other\" for i in adata_astro.obs.spatial_clust_annots ]"
   ]
  },
  {
   "cell_type": "code",
   "execution_count": null,
   "metadata": {},
   "outputs": [],
   "source": [
    "f, ax = plt.subplots(figsize=(5,5))\n",
    "\n",
    "sc.pl.umap(adata_astro, color='age',s=20,ax=ax,palette=age_colors)\n",
    "save_fig(f, \"figS7_astro_age\",dtype=\"png\")"
   ]
  },
  {
   "cell_type": "code",
   "execution_count": null,
   "metadata": {},
   "outputs": [],
   "source": []
  },
  {
   "cell_type": "code",
   "execution_count": null,
   "metadata": {},
   "outputs": [],
   "source": [
    "f, ax = plt.subplots(figsize=(5,5))\n",
    "\n",
    "sc.pl.umap(adata_astro, color='spatial_clust_annots',s=20,palette=sns.color_palette([ 'gray', 'orange', 'chocolate', 'brown', 'steelblue','gold',  'purple', 'darkkhaki']),ax=ax)"
   ]
  },
  {
   "cell_type": "code",
   "execution_count": null,
   "metadata": {},
   "outputs": [],
   "source": [
    "f, ax = plt.subplots(figsize=(5,5))\n",
    "sc.pl.umap(adata_astro, color='spatial_location',s=20,palette=sns.color_palette([ 'black', 'lightgray' ,'gold']),ax=ax)\n",
    "save_fig(f, \"figS7_astro_spatial_loc\",dtype=\"png\")"
   ]
  },
  {
   "cell_type": "code",
   "execution_count": null,
   "metadata": {},
   "outputs": [],
   "source": [
    "f, ax = plt.subplots(figsize=(5,5))\n",
    "sc.pl.umap(adata_astro, color='activate_astro',s=20,cmap=plt.cm.Reds,ax=ax)\n",
    "save_fig(f, \"figS7_astro_activation\",dtype=\"png\")"
   ]
  },
  {
   "cell_type": "code",
   "execution_count": null,
   "metadata": {},
   "outputs": [],
   "source": [
    "# identify activated astros in CC or pia\n",
    "activate_thresh = np.std(adata_astro.obs.activate_astro)\n",
    "adata_astro.obs[\"activate_subset\"] = \"Other\"\n",
    "adata_astro.obs.loc[np.logical_and(adata_astro.obs.activate_astro>activate_thresh, adata_astro.obs.spatial_clust_annots==\"CC\"), \"activate_subset\"] = \"CC\"\n",
    "adata_astro.obs.loc[np.logical_and(adata_astro.obs.activate_astro>activate_thresh, adata_astro.obs.spatial_clust_annots==\"Pia\"), \"activate_subset\"] = \"Pia\"\n"
   ]
  },
  {
   "cell_type": "code",
   "execution_count": null,
   "metadata": {},
   "outputs": [],
   "source": [
    "f, ax = plt.subplots(figsize=(5,5))\n",
    "sc.pl.umap(adata_astro, color='activate_subset',s=20,palette=sns.color_palette([ 'black', 'lightgray' ,'gold']),ax=ax)\n",
    "save_fig(f, \"figS7_astro_spatial_loc_activated\",dtype=\"png\")"
   ]
  },
  {
   "cell_type": "code",
   "execution_count": null,
   "metadata": {},
   "outputs": [],
   "source": [
    "f, ax = plt.subplots(figsize=(5,5))\n",
    "sc.pl.umap(adata_astro, color='spatial_location',s=20,palette=sns.color_palette([ 'black', 'lightgray' ,'gold']),ax=ax)\n",
    "save_fig(f, \"figS7_astro_spatial_loc\",dtype=\"png\")"
   ]
  },
  {
   "cell_type": "code",
   "execution_count": null,
   "metadata": {},
   "outputs": [],
   "source": [
    "sc.tl.rank_genes_groups(adata_astro, groupby='clust_annot',use_raw=False,n_genes=200)#, use_raw=False, reference='Pia', groups=['Pia','CC'], groupby='activate_subset',method='t-test_overestim_var')\n",
    "sc.tl.filter_rank_genes_groups(adata_astro, min_fold_change=1)\n"
   ]
  },
  {
   "cell_type": "code",
   "execution_count": null,
   "metadata": {},
   "outputs": [],
   "source": [
    "adata_astro_subset = adata_astro[adata_astro.obs.activate_subset != \"Other\"]"
   ]
  },
  {
   "cell_type": "code",
   "execution_count": null,
   "metadata": {},
   "outputs": [],
   "source": [
    "sc.tl.rank_genes_groups(adata_astro_subset, groupby='activate_subset', use_raw=False, reference='Pia', groups=['Pia','CC'], method='t-test_overestim_var')\n",
    "#sc.tl.filter_rank_genes_groups(adata_astro_subset,use_raw=False,min_in_group_fraction=0,max_out_group_fraction=1)\n"
   ]
  },
  {
   "cell_type": "code",
   "execution_count": null,
   "metadata": {},
   "outputs": [],
   "source": []
  },
  {
   "cell_type": "code",
   "execution_count": null,
   "metadata": {},
   "outputs": [],
   "source": [
    "temp = adata_astro[adata_astro.obs.spatial_clust_annots==\"CC\"]\n",
    "sc.tl.rank_genes_groups(temp, use_raw=False, reference='Other', groups=['CC'], groupby='activate_subset',method='t-test_overestim_var')\n",
    "#sc.tl.filter_rank_genes_groups(adata_astro, min_fold_change=0.25, min_in_group_fraction=0, max_out_group_fraction=1, use_raw=False,key_added='rank_genes_groups_filtered')\n",
    "f, ax = plt.subplots(figsize=(6,3))\n",
    "sc.pl.rank_genes_groups_violin(temp,ax=ax,n_genes=20,key='rank_genes_groups')\n",
    "save_fig(f, \"figS7_activated_cc_vs_non\",dtype=\"png\")"
   ]
  },
  {
   "cell_type": "code",
   "execution_count": null,
   "metadata": {},
   "outputs": [],
   "source": [
    "temp = adata_astro[adata_astro.obs.spatial_clust_annots==\"Pia\"]\n",
    "sc.tl.rank_genes_groups(temp, use_raw=False, reference='Other', groups=['Pia'], groupby='activate_subset',method='t-test_overestim_var')\n",
    "#sc.tl.filter_rank_genes_groups(adata_astro, min_fold_change=0.25, min_in_group_fraction=0, max_out_group_fraction=1, use_raw=False,key_added='rank_genes_groups_filtered')\n",
    "f, ax = plt.subplots(figsize=(6,3))\n",
    "sc.pl.rank_genes_groups_violin(temp,ax=ax,n_genes=20,key='rank_genes_groups')\n",
    "save_fig(f, \"figS7_activated_pia_vs_non\",dtype=\"png\")"
   ]
  },
  {
   "cell_type": "code",
   "execution_count": null,
   "metadata": {},
   "outputs": [],
   "source": [
    "sc.tl.rank_genes_groups(adata_astro_subset, use_raw=False, reference='CC', groups=['Pia','CC'], groupby='activate_subset',method='t-test_overestim_var')\n",
    "#sc.tl.filter_rank_genes_groups(adata_astro, min_fold_change=0.25, min_in_group_fraction=0, max_out_group_fraction=1, use_raw=False,key_added='rank_genes_groups_filtered')\n",
    "f, ax = plt.subplots(figsize=(6,3))\n",
    "sc.pl.rank_genes_groups_violin(adata_astro_subset,ax=ax,n_genes=20,key='rank_genes_groups')\n",
    "save_fig(f, \"figS7_pia_vs_cc\",dtype=\"png\")"
   ]
  },
  {
   "cell_type": "code",
   "execution_count": null,
   "metadata": {},
   "outputs": [],
   "source": [
    "sc.tl.rank_genes_groups(adata_astro_subset, use_raw=False, reference='Pia', groups=['Pia','CC'], groupby='activate_subset',method='t-test_overestim_var')\n",
    "#sc.tl.filter_rank_genes_groups(adata_astro, min_fold_change=0.25, min_in_group_fraction=0, max_out_group_fraction=1, use_raw=False,key_added='rank_genes_groups_filtered')\n",
    "f, ax = plt.subplots(figsize=(6,3))\n",
    "sc.pl.rank_genes_groups_violin(adata_astro_subset,ax=ax,n_genes=20,key='rank_genes_groups')\n",
    "save_fig(f, \"figS7_cc_vs_pia\",dtype=\"png\")"
   ]
  },
  {
   "cell_type": "code",
   "execution_count": null,
   "metadata": {},
   "outputs": [],
   "source": [
    "sp = SpatialPlotter(adata_imputed)"
   ]
  },
  {
   "cell_type": "code",
   "execution_count": null,
   "metadata": {},
   "outputs": [],
   "source": [
    "sp.plot_gene_by_age('Thbs4','Astro',vmin=0,vmax=40);"
   ]
  },
  {
   "cell_type": "code",
   "execution_count": null,
   "metadata": {},
   "outputs": [],
   "source": [
    "sp.plot_gene_by_age('Adcy8','Astro',vmin=-1,vmax=1);"
   ]
  },
  {
   "cell_type": "code",
   "execution_count": null,
   "metadata": {},
   "outputs": [],
   "source": [
    "sp.plot_gene_by_age('Nrp2','Astro',vmin=-1,vmax=5);"
   ]
  },
  {
   "cell_type": "code",
   "execution_count": null,
   "metadata": {},
   "outputs": [],
   "source": [
    "sc.tl.rank_genes_groups(adata_astro, use_raw=False, reference='Other', groups=['Pia'], groupby='activate_subset',method='t-test_overestim_var')\n",
    "#sc.tl.filter_rank_genes_groups(adata_astro, min_fold_change=0.25, min_in_group_fraction=0, max_out_group_fraction=1, use_raw=False,key_added='rank_genes_groups_filtered')\n",
    "f, ax = plt.subplots(figsize=(6,3))\n",
    "sc.pl.rank_genes_groups_violin(adata_astro,ax=ax,n_genes=20,key='rank_genes_groups')\n",
    "save_fig(f, \"figS7_pia_vs_other\",dtype=\"png\")"
   ]
  },
  {
   "cell_type": "code",
   "execution_count": null,
   "metadata": {},
   "outputs": [],
   "source": [
    "sc.tl.rank_genes_groups(adata_astro, use_raw=False, reference='Other', groups=['CC'], groupby='activate_subset', method='t-test_overestim_var')\n",
    "sc.tl.filter_rank_genes_groups(adata_astro, min_fold_change=2)\n",
    "f, ax = plt.subplots(figsize=(6,3))\n",
    "sc.pl.rank_genes_groups_violin(adata_astro,ax=ax)\n",
    "save_fig(f, \"figS7_cc_vs_other\",dtype=\"png\")"
   ]
  },
  {
   "cell_type": "code",
   "execution_count": null,
   "metadata": {},
   "outputs": [],
   "source": [
    "f, ax = plt.subplots(figsize=(10,5))\n",
    "sc.pl.rank_genes_groups_violin(adata_astro,ax=ax)"
   ]
  },
  {
   "cell_type": "code",
   "execution_count": null,
   "metadata": {},
   "outputs": [],
   "source": [
    "sc.pl.umap(adata_astro, color=['Il18','Il33','Trpm3','Slc1a3'],cmap=plt.cm.Reds)"
   ]
  },
  {
   "cell_type": "code",
   "execution_count": null,
   "metadata": {},
   "outputs": [],
   "source": [
    "# do DE for these two populations\n",
    "f, ax = plt.subplots(figsize=(5,5))\n",
    "sc.pl.umap(adata_astro, color=\"activate_subset\",ax=ax)"
   ]
  },
  {
   "cell_type": "code",
   "execution_count": null,
   "metadata": {},
   "outputs": [],
   "source": [
    "temp = adata_imputed[adata_imputed.obs.cell_type=='Astro']\n",
    "plt.scatter(temp.obs.pseudoage_imputed_norm, temp.obs.activate_astro,s=1)"
   ]
  },
  {
   "cell_type": "code",
   "execution_count": null,
   "metadata": {},
   "outputs": [],
   "source": [
    "f, ax = plt.subplots(figsize=(5,3))\n",
    "\n",
    "sc.pl.violin(adata_imputed,keys=[\"activate_olig\"],groupby='clust_annot',order=['Olig-1','Olig-2','Olig-3'],ax=ax)\n",
    "sns.despine(ax=ax)\n",
    "ax.set_rasterized(True)\n",
    "\n",
    "\n",
    "#f.savefig(\"/home/user/Dropbox/zhuang_lab/aging/aging_atlas_paper/figures_int/fig4_active_olig_violin.pdf\",bbox_inches='tight',dpi=300)"
   ]
  },
  {
   "cell_type": "code",
   "execution_count": null,
   "metadata": {},
   "outputs": [],
   "source": [
    "f, ax = plt.subplots(figsize=(5,3))\n",
    "astro_subtypes = ['Astro-1','Astro-2']\n",
    "sc.pl.violin(adata_imputed[adata_imputed.obs.clust_annot.isin(astro_subtypes)],keys=[\"activate_astro\"],groupby='clust_annot', order=astro_subtypes, ax=ax)\n",
    "ax.set_rasterized(True)\n",
    "sns.despine(ax=ax)\n",
    "save_fig(f, \"fig5_activate_astro_subtype\", dtype=\"pdf\")\n",
    "\n",
    "#f.savefig(\"/home/user/Dropbox/zhuang_lab/aging/aging_atlas_paper/figures_int/fig4_active_astro_violin.pdf\",bbox_inches='tight',dpi=300)"
   ]
  },
  {
   "cell_type": "code",
   "execution_count": null,
   "metadata": {},
   "outputs": [],
   "source": [
    "f, ax = plt.subplots(figsize=(5,3))\n",
    "sc.pl.violin(adata_imputed[adata_imputed.obs.clust_annot.isin(['Micro-1','Micro-2','Micro-3'])],keys=[\"activate_micro\"],groupby='clust_annot', order=['Micro-1','Micro-2','Micro-3'], ax=ax)\n",
    "sns.despine(ax=ax)\n",
    "ax.set_rasterized(True)\n",
    "save_fig(f, \"fig5_activate_micro_subtype\", dtype=\"pdf\")\n",
    "\n",
    "#f.savefig(\"/home/user/Dropbox/zhuang_lab/aging/aging_atlas_paper/figures_int/fig4_active_micro_violin.pdf\",bbox_inches='tight',dpi=300)"
   ]
  },
  {
   "cell_type": "code",
   "execution_count": null,
   "metadata": {},
   "outputs": [],
   "source": [
    "spatial_order = ['Pia','L2/3','L5','L6','CC','LatSept','Striatum','Ventricle']\n",
    "\n",
    "def plot_age_obs_comparison(data, x, y, cell_type, figsize=(5,3), show_pvals=False, order=None, clust_key='cell_type', age_pal=sns.color_palette(['cornflowerblue','thistle','lightcoral'])):\n",
    "    f, ax = plt.subplots(figsize=(5,3))\n",
    "    curr_df = data[data.obs[clust_key]==cell_type].obs\n",
    "    if order is None:\n",
    "        order = sorted(curr_df[x].unique())\n",
    "    #sns.violinplot(x=x, y=y, data=curr_df,hue='age',fliersize=1,linewidth=1,palette=age_pal, ax=ax,inner=None,order=order,rasterized=True)\n",
    "    sns.boxplot(x=x, y=y, data=curr_df,hue='age',fliersize=0,linewidth=1,palette=age_pal, ax=ax,order=order, )\n",
    "\n",
    "    sns.stripplot(data=curr_df, x=x, y=y, hue=\"age\", ax=ax,jitter=0.15,size=0.5,dodge=True,color='k',order=order, rasterized=True)\n",
    "    ax.set_ylim([np.quantile(curr_df[y],0.001), np.quantile(curr_df[y], 0.999)])\n",
    "    sns.despine()\n",
    "    plt.legend([],[], frameon=False)\n",
    "    \n",
    "    if show_pvals:\n",
    "        pvals = calc_pvals_for_grouping(x,y,curr_df, \"age\",order=order)\n",
    "        plot_pvals(ax, pvals)\n",
    "    return f\n"
   ]
  },
  {
   "cell_type": "code",
   "execution_count": null,
   "metadata": {},
   "outputs": [],
   "source": [
    "f = plot_age_obs_comparison(adata_imputed, \"spatial_clust_annots\", \"activate_astro\", \"Astro\", show_pvals=False, order=spatial_order);\n",
    "save_fig(f,\"fig5_activate_astro_spatial_quant\", dtype=\"pdf\")\n",
    "#f.savefig(\"/home/user/Dropbox/zhuang_lab/aging/aging_atlas_paper/figures_int/fig4_active_olig_spatial_merfish.pdf\",bbox_inches='tight',dpi=300)"
   ]
  },
  {
   "cell_type": "code",
   "execution_count": null,
   "metadata": {},
   "outputs": [],
   "source": [
    "f = plot_age_obs_comparison(adata_imputed, \"spatial_clust_annots\", \"activate_micro\", \"Micro\", show_pvals=False, order=spatial_order);\n",
    "save_fig(f,\"fig5_activate_micro_spatial_quant\", dtype=\"pdf\")\n",
    "\n",
    "#f.savefig(\"/home/user/Dropbox/zhuang_lab/aging/aging_atlas_paper/figures_int/fig4_active_olig_spatial_merfish.pdf\",bbox_inches='tight',dpi=300)"
   ]
  },
  {
   "cell_type": "code",
   "execution_count": null,
   "metadata": {},
   "outputs": [],
   "source": []
  },
  {
   "cell_type": "markdown",
   "metadata": {},
   "source": [
    "## Spatial plots of activation"
   ]
  },
  {
   "cell_type": "code",
   "execution_count": null,
   "metadata": {},
   "outputs": [],
   "source": [
    "pl = SpatialPlotter(adata_imputed)"
   ]
  },
  {
   "cell_type": "code",
   "execution_count": null,
   "metadata": {},
   "outputs": [],
   "source": [
    "f = pl.plot_obs_by_age_for_celltype(\"activate_astro\",'Astro',s=5,figsize=(3,15), cmap=plt.cm.turbo, show_background=True);\n",
    "f.set_facecolor('white')\n",
    "save_fig(f,\"fig5_activate_astro_spatial\", dtype=\"pdf\")\n"
   ]
  },
  {
   "cell_type": "code",
   "execution_count": null,
   "metadata": {},
   "outputs": [],
   "source": [
    "f = pl.plot_obs_by_age_for_celltype(\"activate_micro\",'Micro',s=5,figsize=(3,15), cmap=plt.cm.turbo, show_background=True);\n",
    "f.set_facecolor('white')\n",
    "#f.set_\n",
    "save_fig(f,\"fig5_activate_micro_spatial\", dtype=\"pdf\")\n"
   ]
  },
  {
   "cell_type": "markdown",
   "metadata": {},
   "source": [
    "## Cell-cell interactions "
   ]
  },
  {
   "cell_type": "code",
   "execution_count": null,
   "metadata": {},
   "outputs": [],
   "source": [
    "bin_size = 50\n"
   ]
  },
  {
   "cell_type": "code",
   "execution_count": null,
   "metadata": {},
   "outputs": [],
   "source": [
    "# astro to peri-1/peri-2\n",
    "plt.figure(figsize=(3,3))\n",
    "celltypes = [\"Peri-1\",\"Peri-2\"]\n",
    "for i in celltypes:\n",
    "    scores, dists = compute_celltype_obs_distance_correlation(adata_imputed[adata_imputed.obs.age=='4wk'], \"Astro\", i, \"activate_astro\", celltype_key2='clust_annot')\n",
    "    binned_mean, binned_std = compute_binned_values(dists, scores,bin_size=bin_size,max_d=100)\n",
    "    x = np.arange(len(binned_mean))+bin_size\n",
    "    plt.plot(x,binned_mean,color=label_colors[i])\n",
    "    plt.fill_between(x,binned_mean-binned_std, binned_mean+binned_std,alpha=0.1,color=label_colors[i])\n",
    "#plt.legend( celltypes)\n",
    "plt.ylim([-0.2, 0.3])\n",
    "sns.despine()\n",
    "#plt.savefig(\"/home/user/Dropbox/zhuang_lab/aging/aging_atlas_paper/figures_int/fig3_distance_peri_score_4wk.pdf\",bbox_inches='tight',dpi=300)"
   ]
  },
  {
   "cell_type": "code",
   "execution_count": null,
   "metadata": {},
   "outputs": [],
   "source": [
    "# astro to peri-1/peri-2\n",
    "plt.figure(figsize=(3,3))\n",
    "celltypes = [\"Peri-1\",\"Peri-2\"]\n",
    "for i in celltypes:\n",
    "    scores, dists = compute_celltype_obs_distance_correlation(adata_imputed[adata_imputed.obs.age=='90wk'], \"Astro\", i, \"activate_astro\", celltype_key2='clust_annot')\n",
    "    binned_mean, binned_std = compute_binned_values(dists, scores,bin_size=bin_size,max_d=100)\n",
    "    x = np.arange(len(binned_mean))+bin_size\n",
    "    plt.plot(x,binned_mean,color=label_colors[i])\n",
    "    plt.fill_between(x,binned_mean-binned_std, binned_mean+binned_std,alpha=0.1,color=label_colors[i])\n",
    "#plt.legend( celltypes)\n",
    "plt.ylim([-0.2, 0.4])\n",
    "sns.despine()b\n",
    "#plt.savefig(\"/home/user/Dropbox/zhuang_lab/aging/aging_atlas_paper/figures_int/fig3_distance_peri_score_90wk.pdf\",bbox_inches='tight',dpi=300)"
   ]
  },
  {
   "cell_type": "code",
   "execution_count": null,
   "metadata": {},
   "outputs": [],
   "source": [
    "f = plt.figure(figsize=(3,3))\n",
    "celltypes = [\"Endo\",\"Vlmc\", \"Olig\"]\n",
    "for i in celltypes:\n",
    "    scores, dists = compute_celltype_obs_distance_correlation(adata_imputed[adata_imputed.obs.age=='4wk'], \"Micro\", i, \"activate_micro\")\n",
    "    binned_mean, binned_std = compute_binned_values(dists, scores,bin_size=bin_size, max_d=100)\n",
    "    x = np.arange(len(binned_mean))+bin_size\n",
    "    plt.plot(x,binned_mean,color=celltype_colors[i])\n",
    "    plt.fill_between(x,binned_mean-binned_std, binned_mean+binned_std,alpha=0.1,color=celltype_colors[i])\n",
    "#plt.legend( celltypes)\n",
    "plt.ylim([-0.05, 0.12])\n",
    "sns.despine()\n",
    "save_fig(f, \"fig5_distance_score_micro_4wk\", dtype=\"pdf\")\n",
    "\n",
    "#plt.savefig(\"/home/user/Dropbox/zhuang_lab/aging/aging_atlas_paper/figures_int/fig3_distance_micro_score_4wk.pdf\",bbox_inches='tight',dpi=300)"
   ]
  },
  {
   "cell_type": "code",
   "execution_count": null,
   "metadata": {},
   "outputs": [],
   "source": [
    "f = plt.figure(figsize=(3,3))\n",
    "for i in celltypes:\n",
    "    scores, dists = compute_celltype_obs_distance_correlation(adata_imputed[adata_imputed.obs.age=='90wk'], \"Micro\", i, \"activate_micro\")\n",
    "    binned_mean, binned_std = compute_binned_values(dists, scores,bin_size=bin_size, max_d=100)\n",
    "    x = np.arange(len(binned_mean))+bin_size\n",
    "    plt.plot(x,binned_mean,color=celltype_colors[i])\n",
    "    plt.fill_between(x,binned_mean-binned_std, binned_mean+binned_std,alpha=0.1,color=celltype_colors[i])\n",
    "\n",
    "#plt.legend( celltypes)\n",
    "plt.ylim([-0.05, 0.12])\n",
    "sns.despine()\n",
    "save_fig(f, \"fig5_distance_score_micro_90wk\", dtype=\"pdf\")\n",
    "#plt.savefig(\"/home/user/Dropbox/zhuang_lab/aging/aging_atlas_paper/figures_int/fig3_distance_micro_score_90wk.pdf\",bbox_inches='tight',dpi=300)"
   ]
  },
  {
   "cell_type": "code",
   "execution_count": null,
   "metadata": {},
   "outputs": [],
   "source": [
    "f = plt.figure(figsize=(3,3))\n",
    "#celltypes = [\"Endo\",\"Vlmc\", \"Olig\", \"Micro\"]\n",
    "for i in celltypes:\n",
    "    scores, dists = compute_celltype_obs_distance_correlation(adata_imputed[adata_imputed.obs.age=='4wk'], \"Astro\", i, \"activate_astro\")\n",
    "    binned_mean, binned_std = compute_binned_values(dists, scores,bin_size=bin_size,max_d=100)\n",
    "    x = np.arange(len(binned_mean))+bin_size\n",
    "    plt.plot(x,binned_mean,color=celltype_colors[i])\n",
    "    plt.fill_between(x,binned_mean-binned_std, binned_mean+binned_std,alpha=0.1,color=celltype_colors[i])\n",
    "#plt.legend( celltypes )\n",
    "sns.despine()\n",
    "plt.ylim([-0.2, 0.5])\n",
    "save_fig(f, \"fig5_distance_score_astro_4wk\", dtype=\"pdf\")\n",
    "\n",
    "#plt.savefig(\"/home/user/Dropbox/zhuang_lab/aging/aging_atlas_paper/figures_int/fig3_distance_astro_score_4wk.pdf\",bbox_inches='tight',dpi=300)"
   ]
  },
  {
   "cell_type": "code",
   "execution_count": null,
   "metadata": {},
   "outputs": [],
   "source": [
    "f = plt.figure(figsize=(3,3))\n",
    "#celltypes = [\"Endo\",\"Vlmc\", \"Olig\", \"Micro\"]\n",
    "for i in celltypes:\n",
    "    scores, dists = compute_celltype_obs_distance_correlation(adata_imputed[adata_imputed.obs.age=='90wk'], \"Astro\", i, \"activate_astro\")\n",
    "    binned_mean, binned_std = compute_binned_values(dists, scores,bin_size=bin_size,max_d=100)\n",
    "    x = np.arange(len(binned_mean))+bin_size\n",
    "    plt.plot(x,binned_mean,color=celltype_colors[i])\n",
    "    plt.fill_between(x,binned_mean-binned_std, binned_mean+binned_std,alpha=0.1,color=celltype_colors[i])\n",
    "#plt.legend( celltypes )\n",
    "sns.despine()\n",
    "plt.ylim([-0.2, 0.5])\n",
    "save_fig(f, \"fig5_distance_score_astro_90wk\", dtype=\"pdf\")\n",
    "\n",
    "#plt.savefig(\"/home/user/Dropbox/zhuang_lab/aging/aging_atlas_paper/figures_int/fig3_distance_astro_score_4wk.pdf\",bbox_inches='tight',dpi=300)"
   ]
  },
  {
   "cell_type": "code",
   "execution_count": null,
   "metadata": {},
   "outputs": [],
   "source": [
    "adata_olig = adata_imputed[adata_imputed.obs.cell_type==\"Olig\"]\n",
    "adata_imputed.obs.activate_olig = adata_imputed.obs.activate_olig - np.mean(adata_olig[adata_olig.obs.age=='4wk'].obs.activate_olig)"
   ]
  },
  {
   "cell_type": "code",
   "execution_count": null,
   "metadata": {},
   "outputs": [],
   "source": [
    "# look at correlation between Il33 and Activated Micro/Astro\n",
    "x,y = compute_celltype_obs_correlation(adata_imputed[adata_imputed.obs.spatial_clust_annots==\"CC\"],  \"Olig\",\"Micro\", f\"activate_olig\",f\"activate_micro\",   radius=50)\n",
    "f = plt.figure(figsize=(5,5))\n",
    "#plt.scatter(x,y,s=1)\n",
    "plt.title(f\"Olig -> Micro (R={np.corrcoef(x,y)[0,1]})\")\n",
    "sns.kdeplot(x=x,y=y,fill=True)\n",
    "#plt.xlim([0,5])\n",
    "#plt.axis('off')\n",
    "sns.despine()\n",
    "save_fig(f, \"fig5_olig_to_micro_corr\",dtype=\"pdf\")\n",
    "#plt.savefig(\"/home/user/Dropbox/zhuang_lab/aging/aging_atlas_paper/figures_int/fig3_activation_corr_olig_micro.pdf\",bbox_inches='tight',dpi=300)"
   ]
  },
  {
   "cell_type": "code",
   "execution_count": null,
   "metadata": {},
   "outputs": [],
   "source": [
    "# look at correlation between Il33 and Activated Micro/Astro\n",
    "x,y = compute_celltype_obs_correlation(adata_imputed[adata_imputed.obs.spatial_clust_annots==\"CC\"],  \"Olig\",\"Astro\", f\"activate_olig\",f\"activate_astro\",   radius=50)\n",
    "f = plt.figure(figsize=(5,5))\n",
    "#plt.scatter(x,y,s=1)\n",
    "plt.title(f\"Olig -> Astro (R={np.corrcoef(x,y)[0,1]})\")\n",
    "sns.kdeplot(x=x,y=y,fill=True)\n",
    "#plt.xlim([0,5])\n",
    "#plt.axis('off')\n",
    "sns.despine()\n",
    "save_fig(f, \"fig5_olig_to_astro_corr\",dtype=\"pdf\")\n",
    "\n",
    "#plt.savefig(\"/home/user/Dropbox/zhuang_lab/aging/aging_atlas_paper/figures_int/fig3_activation_corr_olig_astro.pdf\",bbox_inches='tight',dpi=300)"
   ]
  },
  {
   "cell_type": "code",
   "execution_count": null,
   "metadata": {},
   "outputs": [],
   "source": [
    "# look at correlation between Il33 and Activated Micro/Astro\n",
    "x,y = compute_celltype_obs_correlation(adata_imputed[adata_imputed.obs.spatial_clust_annots==\"CC\"],  \"Astro\",\"Micro\", f\"activate_astro\",f\"activate_micro\",   radius=50)\n",
    "plt.figure(figsize=(5,5))\n",
    "#plt.scatter(x,y,s=1)\n",
    "plt.title(f\"Astro -> Micro (R={np.corrcoef(x,y)[0,1]})\")\n",
    "sns.kdeplot(x=x,y=y,fill=True)\n",
    "#plt.xlim([0,5])\n",
    "#plt.axis('off')\n",
    "sns.despine()\n",
    "#plt.savefig(\"/home/user/Dropbox/zhuang_lab/aging/aging_atlas_paper/figures_int/fig3_activation_corr_olig_astro.pdf\",bbox_inches='tight',dpi=300)"
   ]
  }
 ],
 "metadata": {
  "kernelspec": {
   "display_name": "Python 3.8.1 64-bit ('scrnaseq': conda)",
   "language": "python",
   "name": "python38164bitscrnaseqcondaced2695c94d346d998c0cef2164233d9"
  },
  "language_info": {
   "codemirror_mode": {
    "name": "ipython",
    "version": 3
   },
   "file_extension": ".py",
   "mimetype": "text/x-python",
   "name": "python",
   "nbconvert_exporter": "python",
   "pygments_lexer": "ipython3",
   "version": "3.8.1"
  },
  "toc-autonumbering": true
 },
 "nbformat": 4,
 "nbformat_minor": 5
}
