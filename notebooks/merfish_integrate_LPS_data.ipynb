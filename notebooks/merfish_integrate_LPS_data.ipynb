{
 "cells": [
  {
   "cell_type": "code",
   "execution_count": null,
   "metadata": {},
   "outputs": [],
   "source": [
    "%load_ext autoreload\n",
    "%autoreload 2\n",
    "import scanpy as sc\n",
    "import matplotlib.pyplot as plt\n",
    "import numpy as np\n",
    "import matplotlib as mpl\n",
    "import os\n",
    "import anndata as ad\n",
    "mpl.rcParams['figure.dpi'] = 150\n",
    "plt.rcParams['pdf.fonttype'] = 42\n",
    "\n",
    "import sys\n",
    "from spatial_analysis import *\n",
    "from plotting import *\n",
    "from utils import *"
   ]
  },
  {
   "cell_type": "code",
   "execution_count": null,
   "metadata": {},
   "outputs": [],
   "source": [
    "adata = ad.read_h5ad(\"/faststorage/brain_aging/merfish/exported/112921_merged_combined_merfish_allages_lps.h5ad\")"
   ]
  },
  {
   "cell_type": "code",
   "execution_count": null,
   "metadata": {},
   "outputs": [],
   "source": [
    "sc.pp.calculate_qc_metrics(adata, qc_vars=[], percent_top=None, log1p=False, inplace=True)\n"
   ]
  },
  {
   "cell_type": "code",
   "execution_count": null,
   "metadata": {},
   "outputs": [],
   "source": [
    "plt.scatter(adata.obs.total_counts, adata.obs.n_genes_by_counts,s=0.1,alpha=0.1,c=np.array([int(i[:-2]) for i in adata.obs.age]))\n",
    "plt.xlabel('Counts')\n",
    "plt.ylabel('Genes')\n",
    "plt.axvline(20,color='k')\n",
    "plt.axhline(5,color='k')"
   ]
  },
  {
   "cell_type": "code",
   "execution_count": null,
   "metadata": {},
   "outputs": [],
   "source": [
    "# use scrublet\n",
    "import scrublet as scr\n",
    "\n",
    "all_doublet_scores = []\n",
    "for i in adata.obs.batch.unique():\n",
    "    print(\"Doubleting\", i)\n",
    "    curr_adata = adata[adata.obs.batch==i]\n",
    "    scrub = scr.Scrublet(curr_adata.X)\n",
    "    doublet_scores, predicted_doublets = scrub.scrub_doublets()\n",
    "    all_doublet_scores.append(doublet_scores)\n",
    "    scrub.plot_histogram()"
   ]
  },
  {
   "cell_type": "code",
   "execution_count": null,
   "metadata": {},
   "outputs": [],
   "source": [
    "adata.obs[\"doublet_scores\"] = np.hstack(all_doublet_scores)"
   ]
  },
  {
   "cell_type": "code",
   "execution_count": null,
   "metadata": {},
   "outputs": [],
   "source": [
    "adata = adata[adata.obs.doublet_scores<0.2]"
   ]
  },
  {
   "cell_type": "code",
   "execution_count": null,
   "metadata": {},
   "outputs": [],
   "source": [
    "# remove cells < 100 um in volume or > 3 x median of all cells\n",
    "median_vol = np.median(adata.obs.volume)\n",
    "adata = adata[np.logical_and(adata.obs.volume >= 100, adata.obs.volume < 3*median_vol)]"
   ]
  },
  {
   "cell_type": "code",
   "execution_count": null,
   "metadata": {},
   "outputs": [],
   "source": [
    "sc.pp.filter_cells(adata, min_genes=5)\n",
    "sc.pp.filter_cells(adata, min_counts=20)\n"
   ]
  },
  {
   "cell_type": "code",
   "execution_count": null,
   "metadata": {},
   "outputs": [],
   "source": [
    "# normalize counts by volume of cell\n",
    "for i in range(adata.shape[0]):\n",
    "    adata.X[i,:] /= adata.obs.volume[i]\n",
    "\n",
    "    # We removed the cells that had total RNA counts lower than 2% quantile or higher than 98% quantile\n",
    "norm_rna_counts = adata.X.sum(1)\n",
    "quantile2 = np.quantile(norm_rna_counts, 0.02)\n",
    "quantile98 = np.quantile(norm_rna_counts, 0.98)\n",
    "adata = adata[np.logical_and(norm_rna_counts>=quantile2, norm_rna_counts<=quantile98)]\n",
    "# then by sum\n",
    "sc.pp.normalize_total(adata, target_sum=250)\n"
   ]
  },
  {
   "cell_type": "code",
   "execution_count": null,
   "metadata": {},
   "outputs": [],
   "source": [
    "sc.pl.violin(adata, ['n_genes_by_counts', 'total_counts'],\n",
    "             jitter=0.4, multi_panel=True)\n"
   ]
  },
  {
   "cell_type": "code",
   "execution_count": null,
   "metadata": {},
   "outputs": [],
   "source": [
    "print(np.median(adata.obs.n_genes_by_counts), np.median(adata.obs.total_counts))"
   ]
  },
  {
   "cell_type": "code",
   "execution_count": null,
   "metadata": {},
   "outputs": [],
   "source": [
    "sc.pp.log1p(adata)\n"
   ]
  },
  {
   "cell_type": "code",
   "execution_count": null,
   "metadata": {},
   "outputs": [],
   "source": [
    "adata = adata.raw.to_adata()"
   ]
  },
  {
   "cell_type": "code",
   "execution_count": null,
   "metadata": {},
   "outputs": [],
   "source": [
    "adata.raw = adata\n",
    "#sc.pp.regress_out(adata, ['total_counts'])\n",
    "\n",
    "sc.pp.scale(adata, max_value=10)\n",
    "\n",
    "sc.tl.pca(adata, svd_solver='arpack', n_comps=25)\n"
   ]
  },
  {
   "cell_type": "code",
   "execution_count": null,
   "metadata": {},
   "outputs": [],
   "source": [
    "sc.pl.pca(adata, color=['total_counts','Vtn','Csf1r','Adora2a','Slc17a7','Slc32a1','Mbp','Cx3cr1','Gfap','C3', 'age', 'batch'],use_raw=True,cmap=plt.cm.Reds)"
   ]
  },
  {
   "cell_type": "code",
   "execution_count": null,
   "metadata": {},
   "outputs": [],
   "source": [
    "#sc.pp.neighbors(adata, n_neighbors=5)\n",
    "import bbknn\n",
    "bbknn.bbknn(adata, 'batch')"
   ]
  },
  {
   "cell_type": "code",
   "execution_count": null,
   "metadata": {},
   "outputs": [],
   "source": [
    "sc.tl.umap(adata)\n"
   ]
  },
  {
   "cell_type": "code",
   "execution_count": null,
   "metadata": {},
   "outputs": [],
   "source": [
    "sc.pl.umap(adata,color=['total_counts','Vtn','Csf1r','Adora2a','Slc17a7','Slc32a1','Mbp','Cx3cr1', 'age', 'batch', 'Il1b'])"
   ]
  },
  {
   "cell_type": "code",
   "execution_count": null,
   "metadata": {},
   "outputs": [],
   "source": [
    "tcell_markers = [\"Tcrd\",\n",
    "\"Tcrb\",\n",
    "\"Ptprc\",\n",
    "\"Rorc\",\n",
    "\"Gata3\",\n",
    "\"Foxp3\",\n",
    "\"Tbx21\",\n",
    "\"Il2ra\",\n",
    "\"Il7r\",\n",
    "\"Il2rb\",\n",
    "\"Il2rg\",\n",
    "\"Il15ra\",\n",
    "\"Pdcd1\",\n",
    "\"Ctla4\",\n",
    "\"Cd3e\"]\n",
    "bcell_markers = [\n",
    "    \"Ms4a1\",\n",
    "    \"Cd19\",\n",
    "    \"Prdm1\"\n",
    "]\n",
    "\n",
    "sc.tl.score_genes(adata, gene_list=tcell_markers,score_name='tcell')\n",
    "sc.tl.score_genes(adata, gene_list=bcell_markers,score_name='bcell')"
   ]
  },
  {
   "cell_type": "code",
   "execution_count": null,
   "metadata": {},
   "outputs": [],
   "source": [
    "sc.pl.umap(adata[adata.obs.age=='24wk'],color=['Cd3e','tcell','bcell'],size=5, cmap=plt.cm.bwr,vmin=-1,vmax=1)"
   ]
  },
  {
   "cell_type": "code",
   "execution_count": null,
   "metadata": {},
   "outputs": [],
   "source": [
    "sc.pl.umap(adata[adata.obs.age=='90wk'],color=['Cd3e','tcell','bcell'],size=5, cmap=plt.cm.bwr,vmin=-1,vmax=1)"
   ]
  },
  {
   "cell_type": "code",
   "execution_count": null,
   "metadata": {},
   "outputs": [],
   "source": [
    "sc.pl.umap(adata[adata.obs.age=='90wk'],color=['total_counts','Cx3cr1', 'Cd3e', 'Il1b','Tnf','Cxcl10','Il6','Il33','Gfap','Serpina3n','C4b','C3','Foxj1','Ctss','Aqp4','C1qa','C1qc','Vtn','Flt1'],size=5, cmap=plt.cm.Reds)"
   ]
  },
  {
   "cell_type": "code",
   "execution_count": null,
   "metadata": {},
   "outputs": [],
   "source": [
    "sc.pl.umap(adata,color=['age','total_counts','Cx3cr1', 'Cd3e', 'Il1b','Tnf','Cxcl10','Il6','Il33','Gfap','Serpina3n','C4b','C3','Foxj1','Ctss','Aqp4','C1qa','C1qc','Vtn','Flt1'],size=1, cmap=plt.cm.Reds,use_raw=True)"
   ]
  },
  {
   "cell_type": "code",
   "execution_count": null,
   "metadata": {},
   "outputs": [],
   "source": [
    "#adata.write_h5ad(\"/faststorage/brain_aging/merfish/exported/112921_merged_lps_merfish_with_doublet_umap_allages.h5ad\")"
   ]
  },
  {
   "cell_type": "code",
   "execution_count": null,
   "metadata": {},
   "outputs": [],
   "source": [
    "adata = ad.read_h5ad(\"/faststorage/brain_aging/merfish/exported/112921_merged_lps_merfish_with_doublet_umap_allages.h5ad\")\n",
    "adata = adata.raw.to_adata()"
   ]
  },
  {
   "cell_type": "code",
   "execution_count": null,
   "metadata": {},
   "outputs": [],
   "source": [
    "# integrate with existing MERFISH data\n"
   ]
  },
  {
   "cell_type": "code",
   "execution_count": null,
   "metadata": {},
   "outputs": [],
   "source": [
    "#adata_combined = ad.read_h5ad(\"/faststorage/brain_aging/merfish/exported/103121_adata_combined_harmony.h5ad\")\n",
    "adata_merfish = ad.read_h5ad(\"/faststorage/brain_aging/merfish/exported/011722_merged_combined_merfish_with_doublet_umap_allages.h5ad\")#adata_combined[adata_combined.obs.dtype==\"merfish\"]"
   ]
  },
  {
   "cell_type": "code",
   "execution_count": null,
   "metadata": {},
   "outputs": [],
   "source": [
    "# load labels for MERFISH data\n",
    "adata_labeled = ad.read_h5ad(\"/faststorage/brain_aging/merfish/exported/011722_adata_combined_harmony.h5ad\")\n"
   ]
  },
  {
   "cell_type": "code",
   "execution_count": null,
   "metadata": {},
   "outputs": [],
   "source": [
    "adata_merfish = adata_merfish[adata_labeled[adata_labeled.obs.dtype==\"merfish\"].obs.index]"
   ]
  },
  {
   "cell_type": "code",
   "execution_count": null,
   "metadata": {},
   "outputs": [],
   "source": [
    "adata_merfish.shape"
   ]
  },
  {
   "cell_type": "code",
   "execution_count": null,
   "metadata": {},
   "outputs": [],
   "source": [
    "adata_merfish = adata_merfish.raw.to_adata()"
   ]
  },
  {
   "cell_type": "code",
   "execution_count": null,
   "metadata": {},
   "outputs": [],
   "source": [
    "sc.pl.umap(adata_merfish,color=['age','total_counts','Cx3cr1', 'Cd3e', 'Il1b','Tnf','Cxcl10','Il6','Il33','Gfap','Serpina3n','C4b','C3','Foxj1','Ctss','Aqp4','C1qa','C1qc','Vtn','Flt1'],size=1, cmap=plt.cm.Reds)"
   ]
  },
  {
   "cell_type": "code",
   "execution_count": null,
   "metadata": {},
   "outputs": [],
   "source": [
    "adata_merfish.obs['cond'] = 'ctrl'\n",
    "adata.obs['cond'] = 'lps'\n"
   ]
  },
  {
   "cell_type": "code",
   "execution_count": null,
   "metadata": {},
   "outputs": [],
   "source": [
    "adata.obs['data_batch'] = adata.obs.batch + adata_merfish.obs.batch.max() + 1"
   ]
  },
  {
   "cell_type": "code",
   "execution_count": null,
   "metadata": {},
   "outputs": [],
   "source": [
    "adata_merfish.obs['data_batch'] = adata_merfish.obs.batch"
   ]
  },
  {
   "cell_type": "code",
   "execution_count": null,
   "metadata": {},
   "outputs": [],
   "source": [
    "adata_combined = adata_merfish.concatenate(adata)"
   ]
  },
  {
   "cell_type": "code",
   "execution_count": null,
   "metadata": {},
   "outputs": [],
   "source": [
    "adata_combined.raw = adata_combined\n",
    "#sc.pp.regress_out(adata, ['total_counts', 'volume'])\n",
    "\n",
    "sc.pp.scale(adata_combined, max_value=10)\n",
    "\n",
    "sc.tl.pca(adata_combined, svd_solver='arpack', n_comps=25)\n"
   ]
  },
  {
   "cell_type": "code",
   "execution_count": null,
   "metadata": {},
   "outputs": [],
   "source": [
    "sc.pl.pca(adata_combined, color=['age','cond','data_batch'])"
   ]
  },
  {
   "cell_type": "code",
   "execution_count": null,
   "metadata": {},
   "outputs": [],
   "source": [
    "adata_combined.obs.data_batch = [str(i) for i in adata_combined.obs.data_batch]"
   ]
  },
  {
   "cell_type": "code",
   "execution_count": null,
   "metadata": {
    "scrolled": true
   },
   "outputs": [],
   "source": [
    "sc.external.pp.harmony_integrate(adata_combined, 'data_batch')"
   ]
  },
  {
   "cell_type": "code",
   "execution_count": null,
   "metadata": {},
   "outputs": [],
   "source": [
    "adata_combined.obsm['X_pca_orig'] = adata_combined.obsm['X_pca']\n",
    "adata_combined.obsm['X_pca'] = adata_combined.obsm['X_pca_harmony']"
   ]
  },
  {
   "cell_type": "code",
   "execution_count": null,
   "metadata": {},
   "outputs": [],
   "source": [
    "sc.pl.pca(adata_combined, color=['data_batch', 'batch','cond'])"
   ]
  },
  {
   "cell_type": "code",
   "execution_count": null,
   "metadata": {},
   "outputs": [],
   "source": [
    "import bbknn\n",
    "#bbknn.bbknn(adata_combined, 'data_batch')\n",
    "sc.pp.neighbors(adata_combined)"
   ]
  },
  {
   "cell_type": "code",
   "execution_count": null,
   "metadata": {},
   "outputs": [],
   "source": [
    "sc.tl.umap(adata_combined)"
   ]
  },
  {
   "cell_type": "code",
   "execution_count": null,
   "metadata": {},
   "outputs": [],
   "source": [
    "adata_combined"
   ]
  },
  {
   "cell_type": "code",
   "execution_count": null,
   "metadata": {},
   "outputs": [],
   "source": [
    "sc.pl.umap(adata_combined, color=['age','cond',],size=1, cmap=plt.cm.Reds, use_raw=False)"
   ]
  },
  {
   "cell_type": "code",
   "execution_count": null,
   "metadata": {},
   "outputs": [],
   "source": [
    "sc.pl.umap(adata_combined[adata_combined.obs.cond=='ctrl'], color=['age',],size=1, cmap=plt.cm.Reds, use_raw=False)"
   ]
  },
  {
   "cell_type": "code",
   "execution_count": null,
   "metadata": {},
   "outputs": [],
   "source": [
    "sc.pl.umap(adata_combined[adata_combined.obs.cond=='lps'], color=['age',],size=1, cmap=plt.cm.Reds, use_raw=False)"
   ]
  },
  {
   "cell_type": "code",
   "execution_count": null,
   "metadata": {},
   "outputs": [],
   "source": [
    "sc.pl.umap(adata_combined[adata_combined.obs.age=='90wk'], color=['age','cond','Cxcl10','Il33'],size=2, cmap=plt.cm.Reds, use_raw=False)"
   ]
  },
  {
   "cell_type": "code",
   "execution_count": null,
   "metadata": {},
   "outputs": [],
   "source": [
    "sc.tl.score_genes(adata_combined, gene_list=['B2m','Trem2', 'Ccl2', 'Apoe',  'Axl', 'Itgax', 'Cd9','C1qa','C1qc','Lyz2','Ctss'], score_name='activate_micro', use_raw=False)\n",
    "sc.tl.score_genes(adata_combined, gene_list=['C4b', 'C3', 'Serpina3n', 'Cxcl10', 'Gfap', 'Vim', 'Il18','Hif3a'], score_name='activate_astro', use_raw=False)\n"
   ]
  },
  {
   "cell_type": "code",
   "execution_count": null,
   "metadata": {},
   "outputs": [],
   "source": [
    "sc.pl.umap(adata_combined[np.logical_and(adata_combined.obs.cond=='ctrl',adata_combined.obs.age=='90wk')], color=['age','cond','activate_micro','activate_astro', 'C3','tcell','Tnf'],size=5, cmap=plt.cm.Reds, use_raw=False)"
   ]
  },
  {
   "cell_type": "code",
   "execution_count": null,
   "metadata": {},
   "outputs": [],
   "source": [
    "sc.pl.umap(adata_combined[np.logical_and(adata_combined.obs.cond=='lps',adata_combined.obs.age=='24wk')], color=['age','cond','activate_micro','activate_astro','tcell'],size=5, cmap=plt.cm.Reds, use_raw=True)"
   ]
  },
  {
   "cell_type": "code",
   "execution_count": null,
   "metadata": {},
   "outputs": [],
   "source": [
    "clust_annots = {i:k for i,k in adata_labeled.obs.clust_annot.items()}\n",
    "cell_types = {i:k for i,k in adata_labeled.obs.cell_type.items()}\n",
    "adata_combined.obs['clust_annot'] = [clust_annots[i[:-2]] if i[:-2] in clust_annots else \"Unlabeled\" for i in adata_combined.obs.index]\n",
    "adata_combined.obs['cell_type'] = [cell_types[i[:-2]] if i[:-2] in cell_types else \"Unlabeled\" for i in adata_combined.obs.index]"
   ]
  },
  {
   "cell_type": "code",
   "execution_count": null,
   "metadata": {},
   "outputs": [],
   "source": [
    "# train classifier in PCA space to transfer labels\n",
    "from sklearn.neural_network import MLPClassifier\n",
    "from sklearn.neighbors import KNeighborsClassifier"
   ]
  },
  {
   "cell_type": "code",
   "execution_count": null,
   "metadata": {},
   "outputs": [],
   "source": [
    "adata_ctrl = adata_combined[adata_combined.obs.cond == \"ctrl\"]\n",
    "print(adata_ctrl.obs.clust_annot.unique())\n",
    "mdl_cell_type = MLPClassifier().fit(adata_ctrl.obsm[\"X_pca\"], adata_ctrl.obs.cell_type)\n",
    "mdl_clust_annot = MLPClassifier().fit(adata_ctrl.obsm[\"X_pca\"], adata_ctrl.obs.clust_annot)"
   ]
  },
  {
   "cell_type": "code",
   "execution_count": null,
   "metadata": {},
   "outputs": [],
   "source": [
    "clust_preds_proba = mdl_clust_annot.predict_proba(adata_combined[adata_combined.obs.cond==\"lps\"].obsm['X_pca'])\n",
    "#clust_preds = mdl_clust_annot.predict(adata_combined.obsm['X_pca'])"
   ]
  },
  {
   "cell_type": "code",
   "execution_count": null,
   "metadata": {},
   "outputs": [],
   "source": [
    "cell_type_preds_proba = mdl_cell_type.predict_proba(adata_combined[adata_combined.obs.cond==\"lps\"].obsm['X_pca'])\n",
    "#cell_type_preds = mdl_cell_type.predict(adata_combined.obsm['X_pca'])"
   ]
  },
  {
   "cell_type": "code",
   "execution_count": null,
   "metadata": {},
   "outputs": [],
   "source": [
    "adata_combined.obs['cell_type_preds'] = ['Unlabeled']*adata_combined.shape[0]\n",
    "adata_combined.obs['clust_annot_preds'] = ['Unlabeled']*adata_combined.shape[0]"
   ]
  },
  {
   "cell_type": "code",
   "execution_count": null,
   "metadata": {
    "scrolled": true
   },
   "outputs": [],
   "source": [
    "adata_combined.obs.loc[adata_combined.obs.cond == \"ctrl\",'cell_type_preds'] = adata_combined.obs.loc[adata_combined.obs.cond == \"ctrl\",'cell_type']\n",
    "adata_combined.obs.loc[adata_combined.obs.cond == \"ctrl\",'clust_annot_preds'] = adata_combined.obs.loc[adata_combined.obs.cond == \"ctrl\",'clust_annot']\n"
   ]
  },
  {
   "cell_type": "code",
   "execution_count": null,
   "metadata": {},
   "outputs": [],
   "source": [
    "adata_combined.obs.loc[adata_combined.obs.cond == \"lps\",'cell_type_preds'] = [mdl_cell_type.classes_[i] for i in np.argmax(cell_type_preds_proba,1)]\n",
    "adata_combined.obs.loc[adata_combined.obs.cond == \"lps\",'clust_annot_preds'] = [mdl_clust_annot.classes_[i] for i in np.argmax(clust_preds_proba,1)]\n",
    "adata_combined.obs.loc[adata_combined.obs.cond == \"lps\",'cell_type_preds_prob'] = cell_type_preds_proba.max(axis=1)\n",
    "adata_combined.obs.loc[adata_combined.obs.cond == \"lps\",'clust_annot_preds_prob'] = clust_preds_proba.max(axis=1)\n"
   ]
  },
  {
   "cell_type": "code",
   "execution_count": null,
   "metadata": {},
   "outputs": [],
   "source": [
    "celltype_colors, celltype_pals, label_colors, clust_pals = generate_palettes(adata_combined,clust_key='clust_annot_preds',cell_type_key='cell_type_preds')"
   ]
  },
  {
   "cell_type": "code",
   "execution_count": null,
   "metadata": {},
   "outputs": [],
   "source": [
    "sc.pl.umap(adata_combined[adata_combined.obs.cond==\"ctrl\"], color=['age','clust_annot_preds'],size=1, palette=clust_pals, use_raw=True)"
   ]
  },
  {
   "cell_type": "code",
   "execution_count": null,
   "metadata": {},
   "outputs": [],
   "source": [
    "sc.pl.umap(adata_combined[adata_combined.obs.cond==\"lps\"], color=['age','clust_annot_preds'],size=1, palette=clust_pals, use_raw=True)"
   ]
  },
  {
   "cell_type": "code",
   "execution_count": null,
   "metadata": {},
   "outputs": [],
   "source": [
    "sc.pl.umap(adata_combined[adata_combined.obs.cond==\"ctrl\"], color=['age','cond','cell_type_preds','cell_type_preds_prob','clust_annot_preds','clust_annot_preds_prob'],size=1, cmap=plt.cm.Reds, use_raw=True,vmin=0.8)"
   ]
  },
  {
   "cell_type": "code",
   "execution_count": null,
   "metadata": {},
   "outputs": [],
   "source": [
    "sc.pl.umap(adata_combined[adata_combined.obs.cond==\"lps\"], color=['age','cond','cell_type_preds','cell_type_preds_prob','clust_annot_preds','clust_annot_preds_prob'],size=1, cmap=plt.cm.Reds, use_raw=True)"
   ]
  },
  {
   "cell_type": "code",
   "execution_count": null,
   "metadata": {},
   "outputs": [],
   "source": [
    "#adata_combined.write_h5ad(\"/faststorage/brain_aging/merfish/exported/011722_merged_lps_ctrl_allages.h5ad\")"
   ]
  },
  {
   "cell_type": "markdown",
   "metadata": {},
   "source": [
    "# Segment neighborhoods"
   ]
  },
  {
   "cell_type": "code",
   "execution_count": null,
   "metadata": {},
   "outputs": [],
   "source": [
    "#adata_combined = ad.read_h5ad(\"/faststorage/brain_aging/merfish/exported/11291_merged_lps_ctrl_allages.h5ad\")"
   ]
  },
  {
   "cell_type": "code",
   "execution_count": null,
   "metadata": {},
   "outputs": [],
   "source": [
    "celltype_colors, celltype_pals, label_colors, clust_pals = generate_palettes(adata_combined,clust_key='clust_annot_preds',cell_type_key='cell_type_preds')"
   ]
  },
  {
   "cell_type": "code",
   "execution_count": null,
   "metadata": {},
   "outputs": [],
   "source": [
    "# quick check of clel type numbers\n",
    "for i in adata_combined.obs.cell_type_preds.unique():\n",
    "    print(i, 100*np.sum(adata_combined[adata_combined.obs.cond=='ctrl'].obs.cell_type_preds==i)/adata_combined[adata_combined.obs.cond=='ctrl'].obs.shape[0],\n",
    "          100*np.sum(adata_combined[adata_combined.obs.cond=='lps'].obs.cell_type_preds==i)/adata_combined[adata_combined.obs.cond=='lps'].obs.shape[0])"
   ]
  },
  {
   "cell_type": "code",
   "execution_count": null,
   "metadata": {},
   "outputs": [],
   "source": [
    "# deal with spatial info\n",
    "coords = np.array(adata_combined.obs[[\"center_x\", \"center_y\"]]).astype(np.float64)\n",
    "adata_combined.obsm['spatial'] = coords"
   ]
  },
  {
   "cell_type": "code",
   "execution_count": null,
   "metadata": {},
   "outputs": [],
   "source": [
    "adata_combined.obs.data_batch.unique()"
   ]
  },
  {
   "cell_type": "code",
   "execution_count": null,
   "metadata": {
    "scrolled": true
   },
   "outputs": [],
   "source": [
    "# assign points to slices\n",
    "from sklearn.cluster import KMeans\n",
    "# number of slices for eachbatch\n",
    "nslices = {\n",
    "    0 : 1,\n",
    "    1 : 2,\n",
    "    2 : 2,\n",
    "    3 : 3,\n",
    "    4 : 3,\n",
    "    5 : 3,\n",
    "    6 : 3,\n",
    "    7 : 3,\n",
    "    8 : 3,\n",
    "    9 : 4,\n",
    "    10 : 3,\n",
    "    11 : 2,\n",
    "    12 : 2,\n",
    "    # LPS\n",
    "    13 : 3,\n",
    "    14 : 2, \n",
    "    15 : 2,\n",
    "    16 : 2,\n",
    "    17 : 2,\n",
    "    18 : 2,\n",
    "    19 : 3\n",
    "} \n",
    "slice_labels = []\n",
    "adata_combined.obs[\"slice\"] = 0\n",
    "for i in list(adata_combined.obs.data_batch.unique()):\n",
    "    curr_adata = adata_combined[adata_combined.obs.data_batch==str(i)]\n",
    "    pos = curr_adata.obsm['spatial']\n",
    "    lbl = KMeans(random_state=42, n_clusters=nslices[int(i)]).fit_predict(pos)\n",
    "    #slice_labels.extend(lbl)\n",
    "    print(pos.shape, curr_adata.shape)\n",
    "    adata_combined.obs.loc[curr_adata.obs.index, \"slice\"] = lbl\n",
    "    \n",
    "#    plt.figure()\n",
    "#    plt.scatter(curr_adata.obs.center_x, curr_adata.obs.center_y, s=1, c=lbl)\n",
    "#adata_annot.obs[\"slice\"] = slice_labels"
   ]
  },
  {
   "cell_type": "code",
   "execution_count": null,
   "metadata": {
    "scrolled": true
   },
   "outputs": [],
   "source": [
    "for i in list(adata_combined.obs.data_batch.unique()):\n",
    "    curr_adata = adata_combined[adata_combined.obs.data_batch==str(i)]\n",
    "    pos = curr_adata.obsm['spatial']\n",
    "    plt.figure(figsize=(10,10))\n",
    "    plt.title(i)\n",
    "    plt.scatter(pos[:,0], pos[:,1], s=0.1, c=curr_adata.obs.slice)\n"
   ]
  },
  {
   "cell_type": "code",
   "execution_count": null,
   "metadata": {},
   "outputs": [],
   "source": [
    "# adjust coordinates so that each brain section is far away from others \n",
    "# (a bit of a hack for neighborhood graph computation)\n",
    "coords = []\n",
    "index = []\n",
    "n = 0\n",
    "for i,b in enumerate(adata_combined.obs.data_batch.unique()):\n",
    "    print('--')\n",
    "    curr_adata = adata_combined[adata_combined.obs.data_batch==b]\n",
    "    for j,s in enumerate(sorted(curr_adata.obs.slice.unique())):\n",
    "        print(s)\n",
    "        curr_slice = curr_adata[curr_adata.obs.slice==s]\n",
    "        curr_coords = curr_slice.obsm['spatial']#np.vstack((curr_slice.obs.center_x, curr_slice.obs.center_y)).T\n",
    "        #curr_coords = curr_slice.obsm['spatial']\n",
    "        curr_coords += n*1e5\n",
    "        plt.figure()\n",
    "        plt.scatter(curr_coords[:,0], curr_coords[:,1], s=1)\n",
    "        n += 1\n",
    "        coords.append(curr_coords)\n",
    "        index.extend(list(curr_slice.obs.index))\n",
    "#adata_combined[index,:].obsm['spatial'] = np.vstack(coords)"
   ]
  },
  {
   "cell_type": "code",
   "execution_count": null,
   "metadata": {},
   "outputs": [],
   "source": [
    "adata_combined = adata_combined[index]\n",
    "adata_combined.obsm['spatial'] = np.vstack(coords)"
   ]
  },
  {
   "cell_type": "code",
   "execution_count": null,
   "metadata": {},
   "outputs": [],
   "source": [
    "x = adata_combined.obsm['spatial'][:,0]\n",
    "y = adata_combined.obsm['spatial'][:,1]\n",
    "plt.plot(x,y,'k.')"
   ]
  },
  {
   "cell_type": "code",
   "execution_count": null,
   "metadata": {},
   "outputs": [],
   "source": [
    "# cluster layers"
   ]
  },
  {
   "cell_type": "code",
   "execution_count": null,
   "metadata": {},
   "outputs": [],
   "source": [
    "from spatial_analysis import compute_neighborhood_stats"
   ]
  },
  {
   "cell_type": "code",
   "execution_count": null,
   "metadata": {},
   "outputs": [],
   "source": [
    "nbor_stats = compute_neighborhood_stats(adata_combined.obsm['spatial'], adata_combined.obs.clust_annot_preds,radius=100)"
   ]
  },
  {
   "cell_type": "code",
   "execution_count": null,
   "metadata": {},
   "outputs": [],
   "source": [
    "nbor_stats[np.isnan(nbor_stats)] = 0"
   ]
  },
  {
   "cell_type": "code",
   "execution_count": null,
   "metadata": {},
   "outputs": [],
   "source": [
    "from sklearn.decomposition import PCA\n",
    "xform = PCA(random_state=50).fit_transform(nbor_stats)"
   ]
  },
  {
   "cell_type": "code",
   "execution_count": null,
   "metadata": {},
   "outputs": [],
   "source": [
    "# get spatial clust annots\n",
    "#adata_combined.obs[\"spatial_clust_annots\"] = \"Unlabeled\"\n",
    "#adata_combined.obs.loc[adata_combined.obs.cond==\"ctrl\", \"spatial_clust_annots\"] = list(adata_labeled[adata_labeled.obs.dtype==\"merfish\"].obs.spatial_clust_annots)\n",
    "from sklearn.cluster import KMeans\n",
    "kmeans = KMeans(n_clusters=20, random_state=42).fit_predict(xform)\n",
    "adata_combined.obs['kmeans'] = kmeans"
   ]
  },
  {
   "cell_type": "code",
   "execution_count": null,
   "metadata": {},
   "outputs": [],
   "source": [
    "plt.scatter(xform[:,0],xform[:,1],s=1, c=kmeans, cmap=mpl.colors.ListedColormap(np.vstack(label_colors.values())))"
   ]
  },
  {
   "cell_type": "code",
   "execution_count": null,
   "metadata": {},
   "outputs": [],
   "source": [
    "curr_adata = adata_combined[np.logical_and(adata_combined.obs.data_batch=='16', adata_combined.obs.slice==0)]\n",
    "pos = curr_adata.obsm['spatial']\n",
    "plt.scatter(pos[:,0], pos[:,1],s=1, c=curr_adata.obs.kmeans, cmap=plt.cm.nipy_spectral)\n",
    "plt.legend()"
   ]
  },
  {
   "cell_type": "code",
   "execution_count": null,
   "metadata": {},
   "outputs": [],
   "source": [
    "def plot_clust(A,clust_name, ax,s=0.1,key='kmeans'):\n",
    "    pos = curr_adata.obsm['spatial']\n",
    "    ax.scatter(pos[:,0], pos[:,1],s=1, c='gray')\n",
    "    ax.scatter(pos[A.obs[key]==clust_name,0], pos[A.obs[key]==clust_name,1],s=s, c='r')\n",
    "    ax.axis('off')\n",
    "    ax.set_title(clust_name)"
   ]
  },
  {
   "cell_type": "code",
   "execution_count": null,
   "metadata": {},
   "outputs": [],
   "source": []
  },
  {
   "cell_type": "code",
   "execution_count": null,
   "metadata": {},
   "outputs": [],
   "source": [
    "# count cell types per kmeans clust\n",
    "clust_counts = np.vstack(adata_combined.obs.groupby('kmeans').apply(lambda x: [np.sum(x.clust_annot_preds==i) for i in sorted(adata_combined.obs.clust_annot_preds.unique())]).reset_index()[0])\n",
    "clust_avgs = np.zeros((kmeans.max()+1, nbor_stats.shape[1]))\n",
    "for i in sorted(np.unique(kmeans)):\n",
    "    clust_avgs[i,:] = nbor_stats[kmeans==i,:].mean(0)\n",
    "for i in range(clust_avgs.shape[1]):\n",
    "    clust_avgs[:,i] = zscore(clust_avgs[:,i])\n",
    "    \n",
    "    # hierarchically cluster \n",
    "from scipy.spatial.distance import pdist\n",
    "import scipy.cluster.hierarchy as hc\n",
    "\n",
    "D = pdist(clust_avgs,'correlation')\n",
    "Z = hc.linkage(D,'complete',optimal_ordering=True)\n",
    "dn = hc.dendrogram(Z)\n",
    "#lbl_order = [clust_ids[c] for c in dn['leaves']]\n",
    "\n",
    "f, ax = plt.subplots(figsize=(5,2))\n",
    "ax.imshow(clust_avgs[ dn['leaves']],aspect='auto',vmin=-5,vmax=5, cmap=plt.cm.seismic)\n",
    "#for i in range(clust_counts.shape[0]):\n",
    "    #ax.scatter(np.arange(clust_counts.shape[1]), i*np.ones(clust_counts.shape[1]), s=0.005*clust_counts[i,:],c='k')\n",
    "ax.set_xticks(np.arange(clust_counts.shape[1]));\n",
    "ax.set_yticks(np.arange(clust_counts.shape[0]));\n",
    "ax.set_yticklabels(dn['leaves'],fontsize=6)\n",
    "ax.set_xticklabels(sorted(adata_combined.obs.clust_annot_preds.unique()),rotation=90,fontsize=6);"
   ]
  },
  {
   "cell_type": "code",
   "execution_count": null,
   "metadata": {},
   "outputs": [],
   "source": [
    "def crosstab_spatial_clusts(A):\n",
    "    temp = pd.crosstab(index=A.obs.kmeans,columns=A.obs.spatial_clust_annots, normalize=True).idxmax(axis=1)\n",
    "    for i in temp.iteritems():\n",
    "        print(f\"{i[0]} : \\\"{i[1]}\\\",\")\n"
   ]
  },
  {
   "cell_type": "code",
   "execution_count": null,
   "metadata": {},
   "outputs": [],
   "source": [
    "idx = [i+\"-0\" for i in adata_labeled[adata_labeled.obs.dtype=='merfish'].obs.index]"
   ]
  },
  {
   "cell_type": "code",
   "execution_count": null,
   "metadata": {},
   "outputs": [],
   "source": [
    "adata_combined.obs.loc[idx, \"spatial_clust_annots\"] = list(adata_labeled[adata_labeled.obs.dtype=='merfish'].obs.spatial_clust_annots)"
   ]
  },
  {
   "cell_type": "code",
   "execution_count": null,
   "metadata": {},
   "outputs": [],
   "source": [
    "import pandas as pd\n",
    "crosstab_spatial_clusts(adata_combined[adata_combined.obs.spatial_clust_annots!=\"\"])"
   ]
  },
  {
   "cell_type": "code",
   "execution_count": null,
   "metadata": {},
   "outputs": [],
   "source": [
    "spatial_clust_annots = {\n",
    "0 : \"L5\",\n",
    "1 : \"L6\",\n",
    "2 : \"LatSept\",\n",
    "3 : \"Striatum\",\n",
    "4 : \"L2/3\",\n",
    "5 : \"L5\",\n",
    "6 : \"Striatum\",\n",
    "7 : \"CC\",\n",
    "8 : \"Pia\",\n",
    "9 : \"CC\",\n",
    "10 : \"L2/3\",\n",
    "11 : \"Ventricle\",\n",
    "12 : \"LatSept\",\n",
    "13 : \"L6\",\n",
    "14 : \"L6\",\n",
    "15 : \"L6\",\n",
    "16 : \"Pia\",\n",
    "17 : \"Striatum\",\n",
    "18 : \"CC\",\n",
    "19 : \"L5\",\n",
    "    \n",
    "}\n",
    "spatial_clust_annots_values = {\n",
    "    'Pia' : 0,\n",
    "    'L2/3' : 1, \n",
    "    'L5' : 2,\n",
    "    'L6' : 3, \n",
    "    'LatSept' : 4,\n",
    "    'CC' : 5,\n",
    "    'Striatum' : 6,\n",
    "    'Ventricle' : 7\n",
    "    }"
   ]
  },
  {
   "cell_type": "code",
   "execution_count": null,
   "metadata": {},
   "outputs": [],
   "source": [
    "adata_combined.obs['spatial_clust_annots'] = [spatial_clust_annots[i] for i in adata_combined.obs.kmeans]\n",
    "adata_combined.obs['spatial_clust_annots_value'] = [spatial_clust_annots_values[i] for i in adata_combined.obs.spatial_clust_annots]"
   ]
  },
  {
   "cell_type": "code",
   "execution_count": null,
   "metadata": {},
   "outputs": [],
   "source": [
    "curr_adata = adata_combined[np.logical_and(adata_combined.obs.data_batch=='19', adata_combined.obs.slice==1)]\n",
    "\n",
    "plt.figure(figsize=(20,20))\n",
    "for i in range(curr_adata.obs.spatial_clust_annots_value.max()+1):\n",
    "    ax = plt.subplot(4,5,i+1)\n",
    "    plot_clust(curr_adata,i,ax,key='spatial_clust_annots_value')"
   ]
  },
  {
   "cell_type": "code",
   "execution_count": null,
   "metadata": {},
   "outputs": [],
   "source": [
    "adata_combined.write_h5ad(\"/faststorage/brain_aging/merfish/exported/011722_merged_lps_ctrl_allages.h5ad\")"
   ]
  },
  {
   "cell_type": "code",
   "execution_count": null,
   "metadata": {},
   "outputs": [],
   "source": [
    "sc.pl.dotplot(adata_combined[np.logical_and(adata_combined.obs.age==\"90wk\", adata_combined.obs.cond==\"ctrl\")],[\"Cxcl10\",\"Tnf\",\"Il1b\",\"Il6\",\"Ifng\",\"C4b\",\"C3\",\"Gfap\",\"Il33\",'Serpina3n','Ifit3','Xdh'],groupby='cell_type_preds')"
   ]
  },
  {
   "cell_type": "code",
   "execution_count": null,
   "metadata": {},
   "outputs": [],
   "source": [
    "sc.pl.dotplot(adata_combined[np.logical_and(adata_combined.obs.age==\"90wk\", adata_combined.obs.cond==\"lps\")],[\"Cxcl10\",\"Tnf\",\"Il1b\",\"Il6\",\"Ifng\",\"C4b\",\"C3\",\"Gfap\",\"Il33\",'Serpina3n','Ifit3','Xdh'],groupby='cell_type_preds')"
   ]
  },
  {
   "cell_type": "code",
   "execution_count": null,
   "metadata": {},
   "outputs": [],
   "source": [
    "gene_name = 'Il33'\n",
    "curr_adata = adata_combined[np.logical_and(adata_combined.obs.data_batch=='15', adata_combined.obs.slice==1)]\n",
    "pos = curr_adata.obsm['spatial']\n",
    "print(curr_adata.obs.age.unique())\n",
    "print(curr_adata.obs.cond.unique())\n",
    "\n",
    "expr = curr_adata[:,gene_name].X.toarray()\n",
    "plt.scatter(pos[:,0], pos[:,1],s=0.1, c=expr, cmap=plt.cm.Reds,vmin=0,vmax=3)\n",
    "plt.legend()"
   ]
  },
  {
   "cell_type": "code",
   "execution_count": null,
   "metadata": {},
   "outputs": [],
   "source": [
    "clust_encoding = {}\n",
    "for i,v in enumerate(adata_combined.obs.clust_annot_preds.unique()):\n",
    "    clust_encoding[v] = i\n",
    "\n",
    "celltype_encoding = {}\n",
    "for i,v in enumerate(adata_combined.obs.cell_type_preds.unique()):\n",
    "    celltype_encoding[v] = i\n",
    "    \n",
    "\n",
    "adata_combined.obs[\"clust_id\"] = [clust_encoding[i] for i in adata_combined.obs.clust_annot_preds]\n",
    "adata_combined.obs[\"celltype_id\"] = [celltype_encoding[i] for i in adata_combined.obs.cell_type_preds]\n",
    "clust_encoding = {k:i for i,k in enumerate(label_colors.keys())}\n",
    "adata_combined.obs['clust_encoding'] = [clust_encoding[i] for i in adata_combined.obs.clust_annot_preds]"
   ]
  },
  {
   "cell_type": "code",
   "execution_count": null,
   "metadata": {},
   "outputs": [],
   "source": [
    "curr_adata = adata_combined[np.logical_and(adata_combined.obs.data_batch=='15', adata_combined.obs.slice==1)]\n",
    "print(curr_adata.obs.age.unique())\n",
    "curr_cmap = mpl.colors.ListedColormap([celltype_colors[i] for i in celltype_colors.keys()])\n",
    "\n",
    "plot_clust_subset(curr_adata, [\"Micro\"], curr_cmap, clust_key=\"cell_type_preds\",s=1)"
   ]
  },
  {
   "cell_type": "markdown",
   "metadata": {},
   "source": [
    "# Cell-cell interactions"
   ]
  },
  {
   "cell_type": "code",
   "execution_count": null,
   "metadata": {},
   "outputs": [],
   "source": [
    "niter = 1000\n",
    "perturb_max = 100\n",
    "dist_thresh = 20\n",
    "#celltypes = adata_annot.obs.remapped_cell_type.unique()\n",
    "celltypes = [\n",
    "    'InN',\n",
    " 'ExN',\n",
    " 'MSN',\n",
    " 'Astro',\n",
    " 'OPC',\n",
    " 'Olig',\n",
    " 'Epen',\n",
    " 'Endo',\n",
    " 'Vlmc',\n",
    " 'Peri',\n",
    " 'Macro',\n",
    " 'Micro',\n",
    "]\n"
   ]
  },
  {
   "cell_type": "code",
   "execution_count": null,
   "metadata": {
    "scrolled": true
   },
   "outputs": [],
   "source": [
    "#celltypes = sorted(adata_annot.obs.cell_type.unique())\n",
    "adata_lps = adata_combined[adata_combined.obs.cond=='lps']\n"
   ]
  },
  {
   "cell_type": "code",
   "execution_count": null,
   "metadata": {},
   "outputs": [],
   "source": [
    "young_interactions_clust, young_pvals_clust, young_qvals_clust = compute_celltype_interactions(adata_lps[adata_lps.obs.age=='4wk'], \n",
    "                                                                'cell_type_preds', celltypes,niter=niter,dist_thresh=dist_thresh,perturb_max=perturb_max)\n",
    "med_interactions_clust, med_pvals_clust, med_qvals_clust = compute_celltype_interactions(adata_lps[adata_lps.obs.age=='24wk'], \n",
    "                                                                'cell_type_preds', celltypes,niter=niter,dist_thresh=dist_thresh,perturb_max=perturb_max)\n",
    "old_interactions_clust, old_pvals_clust, old_qvals_clust = compute_celltype_interactions(adata_lps[adata_lps.obs.age=='90wk'], \n",
    "                                                                'cell_type_preds', celltypes,niter=niter,dist_thresh=dist_thresh,perturb_max=perturb_max)\n"
   ]
  },
  {
   "cell_type": "code",
   "execution_count": null,
   "metadata": {},
   "outputs": [],
   "source": [
    "sns.set_style('white')"
   ]
  },
  {
   "cell_type": "code",
   "execution_count": null,
   "metadata": {},
   "outputs": [],
   "source": [
    "young_qvals_clust = fdr_correct(young_pvals_clust.copy())\n",
    "med_qvals_clust = fdr_correct(med_pvals_clust.copy())\n",
    "old_qvals_clust = fdr_correct(old_pvals_clust.copy())\n"
   ]
  },
  {
   "cell_type": "code",
   "execution_count": null,
   "metadata": {},
   "outputs": [],
   "source": [
    "young_qvals_clust[np.isnan(young_qvals_clust)] = 1\n",
    "med_qvals_clust[np.isnan(med_qvals_clust)] = 1\n",
    "old_qvals_clust[np.isnan(old_qvals_clust)] = 1"
   ]
  },
  {
   "cell_type": "code",
   "execution_count": null,
   "metadata": {},
   "outputs": [],
   "source": [
    "f = plot_interactions(young_qvals_clust, young_interactions_clust, celltypes,celltype_colors,cmap=plt.cm.seismic,vmax=1.5, vmin=-1.5)\n"
   ]
  },
  {
   "cell_type": "code",
   "execution_count": null,
   "metadata": {},
   "outputs": [],
   "source": [
    "f = plot_interactions(old_qvals_clust, old_interactions_clust, celltypes,celltype_colors,cmap=plt.cm.seismic,vmax=1.5, vmin=-1.5)\n"
   ]
  },
  {
   "cell_type": "code",
   "execution_count": null,
   "metadata": {},
   "outputs": [],
   "source": []
  }
 ],
 "metadata": {
  "kernelspec": {
   "display_name": "Python 3.8.1 64-bit ('scrnaseq': conda)",
   "language": "python",
   "name": "python38164bitscrnaseqcondaced2695c94d346d998c0cef2164233d9"
  },
  "language_info": {
   "codemirror_mode": {
    "name": "ipython",
    "version": 3
   },
   "file_extension": ".py",
   "mimetype": "text/x-python",
   "name": "python",
   "nbconvert_exporter": "python",
   "pygments_lexer": "ipython3",
   "version": "3.8.1"
  }
 },
 "nbformat": 4,
 "nbformat_minor": 4
}
