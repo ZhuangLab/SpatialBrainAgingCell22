{
 "cells": [
  {
   "cell_type": "code",
   "execution_count": 1,
   "metadata": {},
   "outputs": [],
   "source": [
    "%load_ext autoreload\n",
    "%autoreload 2\n",
    "import matplotlib.pyplot as plt\n",
    "%matplotlib inline\n",
    "%config InlineBackend.figure_format='retina'\n"
   ]
  },
  {
   "cell_type": "code",
   "execution_count": 2,
   "metadata": {},
   "outputs": [],
   "source": [
    "import sys\n"
   ]
  },
  {
   "cell_type": "code",
   "execution_count": 3,
   "metadata": {},
   "outputs": [],
   "source": [
    "import numpy as np\n",
    "import scanpy as sc\n",
    "import pandas as pd\n",
    "import anndata as ad\n",
    "import seaborn as sns\n",
    "sns.set_style('white')"
   ]
  },
  {
   "cell_type": "code",
   "execution_count": 4,
   "metadata": {},
   "outputs": [],
   "source": [
    "sc.settings.verbosity = 3             # verbosity: errors (0), warnings (1), info (2), hints (3)\n",
    "sc.settings.set_figure_params(dpi=80, facecolor='white', frameon=False, figsize=(5,5))"
   ]
  },
  {
   "cell_type": "code",
   "execution_count": 5,
   "metadata": {},
   "outputs": [],
   "source": [
    "adata = ad.read_h5ad(\"/faststorage/brain_aging/rna_analysis/adata_finalclusts.h5ad\")"
   ]
  },
  {
   "cell_type": "code",
   "execution_count": 6,
   "metadata": {},
   "outputs": [],
   "source": [
    "adata = adata[adata.obs.final_clusts != 'NA']\n",
    "adata = adata[adata.obs.total_counts < 50000]"
   ]
  },
  {
   "cell_type": "code",
   "execution_count": 7,
   "metadata": {},
   "outputs": [],
   "source": [
    "# remove clusters with < 100 cells\n",
    "good_clusts = [i for i in adata.obs.final_clusts.unique() if np.sum(adata.obs.final_clusts==i)>200]"
   ]
  },
  {
   "cell_type": "code",
   "execution_count": 8,
   "metadata": {},
   "outputs": [],
   "source": [
    "adata = adata[adata.obs.final_clusts.isin(good_clusts)]"
   ]
  },
  {
   "cell_type": "code",
   "execution_count": 9,
   "metadata": {},
   "outputs": [],
   "source": [
    "A = adata[~adata.obs.neuronal].copy()"
   ]
  },
  {
   "cell_type": "code",
   "execution_count": null,
   "metadata": {},
   "outputs": [],
   "source": [
    "n_pcs = 20\n",
    "sc.pp.highly_variable_genes(A, n_top_genes=2000)\n",
    "A.raw = A\n",
    "A = A[:, A.var.highly_variable]\n",
    "print('regressing out')\n",
    "sc.pp.regress_out(A, ['total_counts'])\n",
    "print('scaling')\n",
    "sc.pp.scale(A, max_value=10)\n",
    "print('pca')\n",
    "sc.tl.pca(A, svd_solver='arpack', n_comps=n_pcs)\n",
    "print('neighbors')\n",
    "sc.pp.neighbors(A, n_neighbors=25, n_pcs=n_pcs)\n",
    "#sc.external.pp.bbknn(A,batch_key='age',n_pcs=n_pcs)\n",
    "print('umap')\n",
    "sc.tl.umap(A)\n",
    "print('leiden')\n",
    "sc.tl.leiden(A,resolution=0.6)\n"
   ]
  },
  {
   "cell_type": "code",
   "execution_count": null,
   "metadata": {},
   "outputs": [],
   "source": [
    "sc.pl.umap(A,color=['age', 'area','final_clusts','mouse_id'],use_raw=True,palette=sns.color_palette('gist_ncar',20))"
   ]
  },
  {
   "cell_type": "code",
   "execution_count": null,
   "metadata": {},
   "outputs": [],
   "source": [
    "sc.pl.dotplot(A, [\n",
    "                  'Csf1r', 'C1qa', 'Hexb', 'Cx3cr1', 'P2ry12', 'Tmem119', 'Tnf', 'Ccl4', # microglia\n",
    "                                 'Sox10','Cldn11', 'Mog', 'Plp1', # oligo\n",
    "                                  'Aqp4', 'Aldh1l1','Gfap', 'Aldoc', # astrocyte\n",
    "                                  'Vtn', 'Flt1', 'Pecam1','Cldn5', 'Adgrf5', # pericyte\n",
    "                                 'Mgp' ,'Slc47a1', 'Dapl1', 'Igf2', 'Sema3g', 'Acta2',  # vascular\n",
    "                                 'Pdgfra', 'Vcan', 'Cspg4', 'Olig1', # OPC\n",
    "                                 'Ccdc153', 'Tmem212', 'Hdc', 'Kcnj8',# ependymal\n",
    "                                 'Pf4', 'Cd74', 'Cxcl2', 'Lyz2', 'Ms4a7',\n",
    "], groupby='final_clusts',use_raw=True)"
   ]
  },
  {
   "cell_type": "code",
   "execution_count": null,
   "metadata": {},
   "outputs": [],
   "source": [
    "# gene sets\n",
    "# microglia -- Hexb, Csf1r, C1qa, P2ry12\n",
    "# OPCs -- Pdgfra, Vcan, Cspg4, Olig1\n",
    "# Endo -- Vtn, Flt1, Cldn5\n",
    "# Oligo -- Plp1, Mpb, Cldn11, Mog"
   ]
  },
  {
   "cell_type": "code",
   "execution_count": null,
   "metadata": {},
   "outputs": [],
   "source": [
    "nonneuronal_mapping = {'N.0' : 'Oligodendrocyte', \n",
    "                       'N.1' : 'Oligodendrocyte', \n",
    "                       'N.2':'Oligodendrocyte', \n",
    "                       'N.3':'Astrocyte',\n",
    "                       'N.4': 'Astrocyte',\n",
    "                       'N.5': 'Astrocyte', \n",
    "                       'N.6' : 'OPC',\n",
    "                       'N.7':'Microglia', \n",
    "                       'N.8' : 'Microglia',\n",
    "                        'N.9' : 'NA',\n",
    "                       'N.10' : 'NA',\n",
    "                       'N.11':'NA', \n",
    "                        'N.12' : 'NA',\n",
    "                       'N.13' : 'Vascular',\n",
    "                      'N.14' : 'Oligodendrocyte',\n",
    "                      'N.15' : 'Vascular', # vascular endoethelial cells\n",
    "                      'N.16' : 'Oligodendrocyte',\n",
    "                      'N.17' : 'Astrocyte',\n",
    "                      'N.18' : 'Immune', # perivascular macrophage\n",
    "                      'N.19' : 'Vascular', # pericyte\n",
    "                      'N.20' : 'Vascular' # vascular leptomeningeal cells\n",
    "                      }\n",
    "\n",
    "finer_nonneuronal_mapping = {'N.0' : 'Olig1', \n",
    "                       'N.1' : 'Olig2', \n",
    "                       'N.2':'Olig3', \n",
    "                       'N.3':'Astro1',\n",
    "                       'N.4': 'Astro2',\n",
    "                       'N.5': 'Astro3', \n",
    "                       'N.6' : 'OPC',\n",
    "                       'N.7':'Micro1', \n",
    "                       'N.8' : 'Micro2',\n",
    "                        'N.9' : 'NA',\n",
    "                       'N.10' : 'NA',\n",
    "                       'N.11':'NA', \n",
    "                        'N.12' : 'NA',\n",
    "                       'N.13' : 'Vlmc1',\n",
    "                      'N.14' : 'Olig4',\n",
    "                      'N.15' : 'Peri1', # \n",
    "                      'N.16' : 'Olig5',\n",
    "                      'N.17' : 'Astro4',\n",
    "                      'N.18' : 'Macro', # perivascular macrophage\n",
    "                      'N.19' : 'Peri2', # pericyte\n",
    "                      'N.20' : 'Vlmc2' # vascular leptomeningeal cells\n",
    "                      }\n",
    "\n"
   ]
  },
  {
   "cell_type": "code",
   "execution_count": null,
   "metadata": {},
   "outputs": [],
   "source": [
    "sc.pl.umap(adata, color=['final_clusts','Tac1', 'Tshz1', 'Cxcl14', 'Pdyn','Penk', 'Drd1', 'Drd2', 'Adora2a', 'Calb1','Pthlh'])"
   ]
  },
  {
   "cell_type": "code",
   "execution_count": null,
   "metadata": {},
   "outputs": [],
   "source": [
    "# identify striatal neurons\n",
    "sc.pl.dotplot(adata, ['Otof', 'Cacng5', 'Th','Ppp1r1b', 'Drd1','Tac1', 'Tshz1', 'Pdyn', 'Drd2','Penk','Adora2a', 'Calb1','Pthlh','Cxcl14','Chat'], groupby='final_clusts',use_raw=True)"
   ]
  },
  {
   "cell_type": "code",
   "execution_count": null,
   "metadata": {},
   "outputs": [],
   "source": [
    "striatal_celltypes = {\n",
    "    'H.I.7' : 'StD1M1',\n",
    "    'H.I.8' : 'StD1M2',\n",
    "    'H.I.20': 'StD2M1',\n",
    "    'H.I.27': 'StD1M3',\n",
    "    'P.I.0' : 'StD1M4',\n",
    "    'P.I.1' : 'StD1M5',\n",
    "    'P.I.2' : 'StD2M2',\n",
    "    'P.I.3' : 'StD2M3',\n",
    "    'P.I.4' : 'StD1M6',\n",
    "    'P.I.5' : 'StD2M4',\n",
    "    'P.I.10': 'StD1M7',\n",
    "    'P.I.18': 'StD2M5',\n",
    "    'P.I.19': 'StD1M8'\n",
    "}"
   ]
  },
  {
   "cell_type": "code",
   "execution_count": null,
   "metadata": {},
   "outputs": [],
   "source": [
    "cell_types = list(adata.obs.final_clusts.copy())\n",
    "for i,k in enumerate(cell_types):\n",
    "    if k in nonneuronal_mapping:\n",
    "        cell_types[i] = nonneuronal_mapping[k]\n",
    "    else:\n",
    "        #if 'N' in k:\n",
    "        #    pass\n",
    "        #else:\n",
    "        cell_types[i] = 'Neuron'\n",
    "adata.obs['cell_type'] = cell_types\n",
    "\n",
    "cell_types_fine = list(adata.obs.final_clusts.copy())\n",
    "for i,k in enumerate(cell_types_fine):\n",
    "    if k in finer_nonneuronal_mapping:\n",
    "        cell_types_fine[i] = finer_nonneuronal_mapping[k]\n",
    "    elif k in striatal_celltypes:\n",
    "        cell_types_fine[i] = striatal_celltypes[k]\n",
    "    else:\n",
    "        curr_cell_type = k.split(\".\")\n",
    "        if curr_cell_type[0] == \"H\":\n",
    "            curr_area = \"Hy\"\n",
    "        else:\n",
    "            curr_area = \"Fr\"\n",
    "        if curr_cell_type[1] == \"I\":\n",
    "            curr_type = \"In\"\n",
    "        else:\n",
    "            curr_type = \"Ex\"\n",
    "        cell_types_fine[i] = curr_area + curr_type + str(int(curr_cell_type[2])+1)\n",
    "adata.obs['clust_label'] = cell_types_fine#pd.Series(cell_types_fine,dtype='category')\n",
    "adata.obs.clust_label = adata.obs.clust_label.astype('category')"
   ]
  },
  {
   "cell_type": "code",
   "execution_count": null,
   "metadata": {},
   "outputs": [],
   "source": [
    "# remove bad non neuronal clusters\n",
    "adata = adata[~adata.obs.cell_type.isin(['NA'])]"
   ]
  },
  {
   "cell_type": "code",
   "execution_count": null,
   "metadata": {},
   "outputs": [],
   "source": [
    "# reprocess\n",
    "adata = adata.raw.to_adata()\n",
    "sc.pp.normalize_total(adata, target_sum=1e4)\n",
    "sc.pp.log1p(adata)\n",
    "sc.pp.highly_variable_genes(adata, n_top_genes=3000)\n",
    "adata.raw = adata\n",
    "adata = adata[:, adata.var.highly_variable]\n"
   ]
  },
  {
   "cell_type": "code",
   "execution_count": null,
   "metadata": {},
   "outputs": [],
   "source": [
    "sc.pp.regress_out(adata, ['total_counts'])"
   ]
  },
  {
   "cell_type": "code",
   "execution_count": null,
   "metadata": {},
   "outputs": [],
   "source": [
    "sc.pp.scale(adata, max_value=10)\n",
    "sc.tl.pca(adata, n_comps=50,svd_solver='arpack')\n",
    "\n",
    "sc.pl.pca_variance_ratio(adata, log=True,n_pcs=50)\n",
    "\n",
    "sc.pp.neighbors(adata, n_neighbors=10, n_pcs=50)\n",
    "sc.tl.umap(adata)"
   ]
  },
  {
   "cell_type": "code",
   "execution_count": null,
   "metadata": {},
   "outputs": [],
   "source": [
    "# final final clust information\n",
    "#adata.obs.to_csv(\"final_clusts.csv\")"
   ]
  },
  {
   "cell_type": "code",
   "execution_count": null,
   "metadata": {},
   "outputs": [],
   "source": [
    "#fig,ax = plt.subplots(figsize=(10,10))\n",
    "sc.pl.umap(adata, color=['doublet_score','total_counts'],size=1,add_outline=False)"
   ]
  },
  {
   "cell_type": "code",
   "execution_count": null,
   "metadata": {},
   "outputs": [],
   "source": [
    "fig,ax = plt.subplots(figsize=(10,10))\n",
    "sc.pl.umap(adata, color='cell_type',palette=sns.color_palette('Pastel1'), ax=ax,size=10,add_outline=True)"
   ]
  },
  {
   "cell_type": "code",
   "execution_count": null,
   "metadata": {},
   "outputs": [],
   "source": [
    "def gen_light_palette(prefix, color_name, uniq_clusts):\n",
    "    n = np.sum([1 if prefix in i else 0 for i in uniq_clusts])\n",
    "    return sns.light_palette(color_name, n_colors=n+2)[2:]\n",
    "\n",
    "def gen_dark_palette(prefix, color_name, uniq_clusts):\n",
    "    n = np.sum([1 if prefix in i else 0 for i in uniq_clusts])\n",
    "    return sns.dark_palette(color_name, n_colors=n+2)[2:]\n",
    "\n",
    "uniq_clusts = np.sort(adata.obs.clust_label.unique())\n",
    "\n",
    "\n",
    "print(\"Prefrontal excite\")\n",
    "fr_ex_pal = gen_light_palette(\"FrEx\", \"darkgreen\", uniq_clusts) #sns.cubehelix_palette(start=0, rot=0.2, dark=0.25, light=.9, n_colors=n_pe)\n",
    "\n",
    "print(\"Prefrontal inhib\")\n",
    "fr_in_pal = gen_light_palette(\"FrIn\", \"navy\", uniq_clusts)#sns.cubehelix_palette(start=0, rot=0.5, dark=0.25, light=.95, n_colors=n_pi)\n",
    "\n",
    "print(\"Striatal\")\n",
    "st_pal = gen_light_palette(\"St\", \"indigo\", uniq_clusts) #sns.cubehelix_palette(start=0, rot=0.5, dark=0.5, light=.95, n_colors=n_st)\n",
    "\n",
    "\n",
    "print(\"Microglial\")\n",
    "micro_pal = gen_light_palette('Micro', 'dodgerblue', uniq_clusts)\n",
    "\n",
    "print(\"Macro\")\n",
    "macro_pal = gen_light_palette('Macro', 'blue', uniq_clusts)\n",
    "\n",
    "print(\"Astrocyte\")\n",
    "astro_pal = gen_light_palette('Astro', 'darkorange', uniq_clusts)\n",
    "\n",
    "print(\"Peri\")\n",
    "peri_pal = gen_light_palette('Peri', 'lime', uniq_clusts)\n",
    "\n",
    "print(\"VLMC\")\n",
    "vlmc_pal = gen_light_palette('Vlmc', 'aqua', uniq_clusts)\n",
    "\n",
    "print(\"OPC\")\n",
    "opc_pal = gen_dark_palette('OPC', 'black', uniq_clusts)\n",
    "\n",
    "print(\"Oligo\")\n",
    "oligo_pal = gen_light_palette('Olig', 'darkgray', uniq_clusts)\n",
    "\n",
    "pals = [astro_pal, fr_ex_pal, fr_in_pal, hy_ex_pal, hy_in_pal,  macro_pal,  micro_pal, opc_pal, oligo_pal, peri_pal, st_pal, vlmc_pal]\n",
    "for i in pals:\n",
    "    sns.palplot(i)"
   ]
  },
  {
   "cell_type": "code",
   "execution_count": null,
   "metadata": {},
   "outputs": [],
   "source": [
    "from cycler import cycler\n",
    "#pal = cycler(color=)\n",
    "\n",
    "pal = cycler(color=np.vstack(pals))\n",
    "\n",
    "label_colors = {}\n",
    "for i, c in enumerate(iter(pal)):\n",
    "    label_colors[uniq_clusts[i]] = c['color']"
   ]
  },
  {
   "cell_type": "code",
   "execution_count": null,
   "metadata": {},
   "outputs": [],
   "source": [
    "fig,ax = plt.subplots(figsize=(10,10))\n",
    "sc.pl.umap(adata, color='clust_label',palette=pal,ax=ax,size=10,add_outline=True)"
   ]
  },
  {
   "cell_type": "code",
   "execution_count": null,
   "metadata": {},
   "outputs": [],
   "source": [
    "fig,ax = plt.subplots(figsize=(10,10))\n",
    "sc.pl.umap(adata, color='age',ax=ax,size=10,add_outline=True,palette=sns.color_palette('Set2',2))"
   ]
  },
  {
   "cell_type": "code",
   "execution_count": null,
   "metadata": {},
   "outputs": [],
   "source": [
    "fig,ax = plt.subplots(figsize=(10,10))\n",
    "sc.pl.umap(adata, color='area',ax=ax,size=10,add_outline=True)"
   ]
  },
  {
   "cell_type": "code",
   "execution_count": null,
   "metadata": {},
   "outputs": [],
   "source": [
    "#adata.write(\"adata_finalclusts_annot.h5ad\")"
   ]
  }
 ],
 "metadata": {
  "kernelspec": {
   "display_name": "Python 3 (ipykernel)",
   "language": "python",
   "name": "python3"
  },
  "language_info": {
   "codemirror_mode": {
    "name": "ipython",
    "version": 3
   },
   "file_extension": ".py",
   "mimetype": "text/x-python",
   "name": "python",
   "nbconvert_exporter": "python",
   "pygments_lexer": "ipython3",
   "version": "3.7.4"
  }
 },
 "nbformat": 4,
 "nbformat_minor": 4
}
