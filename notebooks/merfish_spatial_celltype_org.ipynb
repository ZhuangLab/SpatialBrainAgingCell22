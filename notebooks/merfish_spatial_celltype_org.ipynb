{
 "cells": [
  {
   "cell_type": "code",
   "execution_count": null,
   "metadata": {},
   "outputs": [],
   "source": [
    "%load_ext autoreload\n",
    "%autoreload 2\n",
    "import scanpy as sc\n",
    "import matplotlib.pyplot as plt\n",
    "import numpy as np\n",
    "import matplotlib as mpl\n",
    "import os\n",
    "import anndata as ad\n",
    "mpl.rcParams['figure.dpi'] = 150\n",
    "plt.rcParams['pdf.fonttype'] = 42\n",
    "import sys\n",
    "from spatial_analysis import *\n",
    "from plotting import *\n",
    "from utils import *"
   ]
  },
  {
   "cell_type": "code",
   "execution_count": null,
   "metadata": {},
   "outputs": [],
   "source": [
    "import seaborn as sns\n",
    "sns.set_style('white')"
   ]
  },
  {
   "cell_type": "code",
   "execution_count": null,
   "metadata": {},
   "outputs": [],
   "source": [
    "def unbinarize_strings(A):\n",
    "    try:\n",
    "        A.var_names = [i.decode('ascii') for i in A.var_names]\n",
    "        A.obs.index = [i.decode('ascii') for i in A.obs.index]\n",
    "        for i in A.obs.columns:\n",
    "            if A.obs[i].dtype != np.dtype('bool') and \\\n",
    "                A.obs[i].dtype != np.dtype('int64') and \\\n",
    "                A.obs[i].dtype != np.dtype('int32') and \\\n",
    "                A.obs[i].dtype != np.dtype('object_') and \\\n",
    "                A.obs[i].dtype != np.dtype('float64') and A.obs[i].dtype != np.dtype('float32'):\n",
    "                if A.obs[i].dtype.is_dtype('category'):\n",
    "                    try:\n",
    "                        A.obs[i] = [i.decode('ascii') for i in A.obs[i]]\n",
    "                    except Exception as e:\n",
    "                        pass\n",
    "    except Exception as e:\n",
    "        print(e)\n",
    "    return A\n"
   ]
  },
  {
   "cell_type": "code",
   "execution_count": null,
   "metadata": {},
   "outputs": [],
   "source": [
    "# load annotated data (missing aging-related genes) and full data"
   ]
  },
  {
   "cell_type": "code",
   "execution_count": null,
   "metadata": {},
   "outputs": [],
   "source": [
    "adata_annot = ad.read_h5ad(\"/faststorage/brain_aging/merfish/exported/011722_adata_combined_harmony.h5ad\")\n",
    "adata_annot = unbinarize_strings(adata_annot)\n",
    "adata_annot = adata_annot[adata_annot.obs.dtype=='merfish']"
   ]
  },
  {
   "cell_type": "code",
   "execution_count": null,
   "metadata": {},
   "outputs": [],
   "source": [
    "adata_annot.raw = unbinarize_strings(adata_annot.raw.to_adata())"
   ]
  },
  {
   "cell_type": "code",
   "execution_count": null,
   "metadata": {
    "scrolled": true
   },
   "outputs": [],
   "source": [
    "celltype_colors, celltype_pals, label_colors, clust_pals = generate_palettes(adata_annot)"
   ]
  },
  {
   "cell_type": "markdown",
   "metadata": {},
   "source": [
    "# Compute neighborhoods"
   ]
  },
  {
   "cell_type": "code",
   "execution_count": null,
   "metadata": {},
   "outputs": [],
   "source": [
    "adata_annot_young = adata_annot[adata_annot.obs.age=='4wk']\n",
    "adata_annot_med = adata_annot[adata_annot.obs.age=='24wk']\n",
    "adata_annot_old = adata_annot[adata_annot.obs.age=='90wk']\n"
   ]
  },
  {
   "cell_type": "code",
   "execution_count": null,
   "metadata": {},
   "outputs": [],
   "source": [
    "clust_order = [\n",
    " 'ExN-L2/3-1',\n",
    " 'ExN-L2/3-2',\n",
    " 'ExN-L5-1',\n",
    " 'ExN-L5-2',\n",
    " 'ExN-L5-3',\n",
    " 'ExN-L6-1',\n",
    " 'ExN-L6-2',\n",
    " 'ExN-L6-3',\n",
    " 'ExN-L6-4',\n",
    " 'ExN-LatSept',\n",
    "\n",
    " 'InN-Calb2',\n",
    " 'InN-Chat',\n",
    " 'InN-Lamp5',\n",
    " 'InN-LatSept',\n",
    " 'InN-Pvalb-1',\n",
    " 'InN-Pvalb-2',\n",
    " 'InN-Pvalb-3',\n",
    " 'InN-Sst',\n",
    " 'InN-Vip',\n",
    " 'MSN-D1-1',\n",
    " 'MSN-D1-2',\n",
    " 'MSN-D2',\n",
    " 'OPC',\n",
    " 'Olig-1',\n",
    " 'Olig-2',\n",
    " 'Olig-3',\n",
    "\n",
    "'Astro-1',\n",
    " 'Astro-2',\n",
    " 'Vlmc',\n",
    " 'Peri-1',\n",
    " 'Peri-2',\n",
    " 'Endo-1',\n",
    " 'Endo-2',\n",
    " 'Endo-3',\n",
    " 'Epen',\n",
    "\n",
    " 'Micro-1',\n",
    " 'Micro-2',\n",
    " 'Micro-3',\n",
    " 'Macro',\n",
    " 'T cell',\n",
    "]"
   ]
  },
  {
   "cell_type": "code",
   "execution_count": null,
   "metadata": {},
   "outputs": [],
   "source": [
    "import multiprocessing\n",
    "from joblib import Parallel, delayed"
   ]
  },
  {
   "cell_type": "code",
   "execution_count": null,
   "metadata": {
    "scrolled": true
   },
   "outputs": [],
   "source": [
    "young_neighbors, young_zscore, young_nbor_pvals = compute_celltype_neighborhood(adata_annot_young, 'cell_type',celltypes=clust_annots, niter=500, radius=150)"
   ]
  },
  {
   "cell_type": "code",
   "execution_count": null,
   "metadata": {},
   "outputs": [],
   "source": [
    "med_neighbors, med_zscore, med_nbor_pvals = compute_celltype_neighborhood(adata_annot_med, 'clust_annot',celltypes=clust_annots, niter=500, radius=150)"
   ]
  },
  {
   "cell_type": "code",
   "execution_count": null,
   "metadata": {
    "scrolled": true
   },
   "outputs": [],
   "source": [
    "old_neighbors, old_zscore, old_nbor_pvals = compute_celltype_neighborhood(adata_annot_old, 'clust_annot', niter=500, celltypes=clust_annots, radius=150)"
   ]
  },
  {
   "cell_type": "code",
   "execution_count": null,
   "metadata": {},
   "outputs": [],
   "source": [
    "# hierarchically cluster zscore\n",
    "from scipy.cluster.hierarchy import dendrogram, linkage\n",
    "from scipy.spatial.distance import pdist\n",
    "\n",
    "def hierarchical_cluster_order(mat, method='ward'):\n",
    "    D = pdist(mat,'cosine')\n",
    "    D[np.isnan(D)] = 0\n",
    "    Z = linkage(D,method,optimal_ordering=True)\n",
    "    den = dendrogram(Z, no_plot=True)\n",
    "    return np.array(den['leaves'])\n",
    "\n",
    "def clust_avg(A, clust_key, clust_names):\n",
    "    return np.array([A[A.obs[clust_key]==i].X.mean(0) for i in clust_names])"
   ]
  },
  {
   "cell_type": "code",
   "execution_count": null,
   "metadata": {},
   "outputs": [],
   "source": [
    "\n",
    "young_clust_avg = clust_avg(adata_annot_young, 'clust_annot', clust_annots)\n",
    "clust_order = hierarchical_cluster_order(young_zscore, method='complete')\n",
    "ex_clusts = np.argwhere([True if \"Ex\" in i else False for i in clust_annots]).flatten()\n",
    "in_clusts = np.argwhere([True if (\"In\" in i or \"MSN\" in i) else False for i in clust_annots]).flatten()\n",
    "nn_clusts = np.argwhere([True if (\"Ex\" not in i and \"In\" not in i and \"MSN\" not in i) else False for i in clust_annots]).flatten()\n",
    "\n",
    "exn_order = hierarchical_cluster_order(old_zscore[ex_clusts,:][:, ex_clusts], 'complete')\n",
    "in_order = hierarchical_cluster_order(old_zscore[in_clusts,:][:, in_clusts], 'complete')+exn_order.max()+1\n",
    "nn_order = hierarchical_cluster_order(old_zscore[nn_clusts,:][:, nn_clusts], 'complete')+in_order.max()+1\n",
    "\n",
    "clust_order = np.arange(len(clust_order))#np.hstack((exn_order, in_order, nn_order))"
   ]
  },
  {
   "cell_type": "code",
   "execution_count": null,
   "metadata": {},
   "outputs": [],
   "source": [
    "seg_points = [9, 20, 26]\n",
    "def plot_nborhood(zs, clust_order, hide_labels=False, seg_points=None,vmin=-200,vmax=200):\n",
    "    f, ax = plt.subplots(figsize=(10,10))\n",
    "    gs = plt.GridSpec(nrows=2,ncols=2,width_ratios=[0.5, 20], height_ratios=[20,0.5], wspace=0.01, hspace=0.01)\n",
    "\n",
    "    ax = plt.subplot(gs[0,0])\n",
    "    curr_cmap = mpl.colors.ListedColormap([label_colors[i] for i in np.array(clust_annots)[clust_order][::-1]])\n",
    "    ax.imshow(np.expand_dims(np.arange(zs.shape[0]),1),aspect='auto',interpolation='none', cmap=curr_cmap,rasterized=True)\n",
    "    sns.despine(ax=ax,bottom=True,left=True)\n",
    "    if hide_labels:\n",
    "        ax.set_yticks([]);\n",
    "        ax.set_yticklabels([]);\n",
    "        ax.set_xticks([])\n",
    "    else:\n",
    "        ax.set_yticks(np.arange(len(clust_annots)));\n",
    "        ax.set_yticklabels(np.array(clust_annots)[clust_order][::-1]);\n",
    "        ax.set_xticks([])\n",
    "\n",
    "    ax = plt.subplot(gs[0,1])\n",
    "    ax.imshow(np.flipud(zs[clust_order,:][:,clust_order]),aspect='auto',interpolation='none',vmin=vmin,vmax=vmax,cmap=plt.cm.seismic, rasterized=True)\n",
    "    ax.axis('off')\n",
    "    if seg_points is not None:\n",
    "        for i in seg_points:\n",
    "            ax.axvline(i-0.5,color='k',linestyle='--')\n",
    "            ax.axhline(len(clust_annots)-i-0.5,color='k',linestyle='--')\n",
    "\n",
    "    ax = plt.subplot(gs[1,1])\n",
    "    ax.imshow(np.expand_dims(np.arange(zs.shape[1])[::-1],1).T,aspect='auto',interpolation='none',cmap=curr_cmap,rasterized=True)\n",
    "    sns.despine(ax=ax,bottom=True,left=True)\n",
    "    if hide_labels:\n",
    "        ax.set_xticks([])\n",
    "        ax.set_yticks([])\n",
    "    else:\n",
    "        ax.set_xticks(np.arange(len(clust_annots)));\n",
    "        ax.set_yticks([])\n",
    "        ax.set_xticklabels(np.array(clust_annots)[clust_order],rotation=90);\n",
    "    return f\n"
   ]
  },
  {
   "cell_type": "markdown",
   "metadata": {},
   "source": [
    "# Fig. 3: Neighborhood and interaction analysis"
   ]
  },
  {
   "cell_type": "code",
   "execution_count": null,
   "metadata": {},
   "outputs": [],
   "source": [
    "def nearest_neighbor_dists(A, cell_type_source, cell_type_targets):\n",
    "    \"\"\" Compute nearest neighbor distances from source to targets \"\"\"\n",
    "    pass"
   ]
  },
  {
   "cell_type": "code",
   "execution_count": null,
   "metadata": {},
   "outputs": [],
   "source": [
    "old_pos = adata_annot[adata_annot.obs.age=='90wk'].obsm['spatial']\n",
    "old_nn, _ = KDTree(old_pos).query(old_pos, k=2)\n"
   ]
  },
  {
   "cell_type": "code",
   "execution_count": null,
   "metadata": {},
   "outputs": [],
   "source": [
    "# look at gross distances to nearest neighbors\n",
    "from sklearn.neighbors import KDTree\n",
    "old_pos = adata_annot[adata_annot.obs.age=='90wk'].obsm['spatial']\n",
    "old_nn, _ = KDTree(old_pos).query(old_pos, k=2)\n",
    "old_nn = old_nn[:,1]\n",
    "\n",
    "med_pos = adata_annot[adata_annot.obs.age=='24wk'].obsm['spatial']\n",
    "med_nn, _ = KDTree(old_pos).query(old_pos, k=2)\n",
    "med_nn = med_nn[:,1]\n",
    "\n",
    "young_pos = adata_annot[adata_annot.obs.age=='4wk'].obsm['spatial']\n",
    "young_nn, _ = KDTree(young_pos).query(young_pos, k=2)\n",
    "young_nn = young_nn[:,1]\n"
   ]
  },
  {
   "cell_type": "code",
   "execution_count": null,
   "metadata": {},
   "outputs": [],
   "source": [
    "#celltypes = adata_annot.obs.remapped_cell_type.unique()\n",
    "celltypes = [\n",
    "    'InN',\n",
    " 'ExN',\n",
    " 'MSN',\n",
    " 'Astro',\n",
    " 'OPC',\n",
    " 'Olig',\n",
    " 'Endo',\n",
    " 'Vlmc',\n",
    " 'Peri',\n",
    " 'Macro',\n",
    " 'Micro',\n",
    "]\n"
   ]
  },
  {
   "cell_type": "code",
   "execution_count": null,
   "metadata": {},
   "outputs": [],
   "source": [
    "adata_annot.obs['clust_reduced'] = [\"-\".join(i.split('-')[:-1]) if len(i.split('-'))>1 else i for i in adata_annot.obs.clust_annot]"
   ]
  },
  {
   "cell_type": "code",
   "execution_count": null,
   "metadata": {},
   "outputs": [],
   "source": [
    "clust_reduced_labels = list(adata_annot.obs.clust_reduced.unique())"
   ]
  },
  {
   "cell_type": "code",
   "execution_count": null,
   "metadata": {},
   "outputs": [],
   "source": [
    "niter = 500\n",
    "perturb_max = 100\n",
    "dist_thresh = 20"
   ]
  },
  {
   "cell_type": "code",
   "execution_count": null,
   "metadata": {
    "scrolled": true
   },
   "outputs": [],
   "source": [
    "#celltypes = sorted(adata_annot.obs.cell_type.unique())\n",
    "young_interactions_clust, young_pvals_clust, young_qvals_clust = compute_celltype_interactions(adata_annot[adata_annot.obs.age=='4wk'], \n",
    "                                                                'cell_type', celltypes,niter=niter,dist_thresh=dist_thresh,perturb_max=perturb_max)\n"
   ]
  },
  {
   "cell_type": "code",
   "execution_count": null,
   "metadata": {
    "scrolled": true
   },
   "outputs": [],
   "source": [
    "med_interactions_clust, med_pvals_clust, med_qvals_clust = compute_celltype_interactions(adata_annot[adata_annot.obs.age=='24wk'], \n",
    "                                                                'cell_type', celltypes,niter=niter,dist_thresh=dist_thresh,perturb_max=perturb_max)\n"
   ]
  },
  {
   "cell_type": "code",
   "execution_count": null,
   "metadata": {},
   "outputs": [],
   "source": [
    "old_interactions_clust, old_pvals_clust, old_qvals_clust = compute_celltype_interactions(adata_annot[adata_annot.obs.age=='90wk'], \n",
    "                                                                'cell_type', celltypes,niter=niter,dist_thresh=dist_thresh,perturb_max=perturb_max)\n"
   ]
  },
  {
   "cell_type": "code",
   "execution_count": null,
   "metadata": {},
   "outputs": [],
   "source": [
    "from statsmodels.stats.multitest import multipletests\n",
    "def fdr_correct(X):\n",
    "    new_X = np.zeros_like(X)\n",
    "    for i in range(X.shape[0]):\n",
    "        pvals = multipletests(X[i,:],method='fdr_bh')[1]\n",
    "        new_X[i,:] = multipletests(X[i,:],method='fdr_bh')[1]\n",
    "        new_X[:,i] = new_X[i,:]\n",
    "    #X = multipletests(X.flatten(), method='fdr_bh')[1]\n",
    "    return new_X#X.reshape(X_shape)"
   ]
  },
  {
   "cell_type": "code",
   "execution_count": null,
   "metadata": {},
   "outputs": [],
   "source": [
    "young_qvals_clust = fdr_correct(young_pvals_clust.copy())\n",
    "med_qvals_clust = fdr_correct(med_pvals_clust.copy())\n",
    "old_qvals_clust = fdr_correct(old_pvals_clust.copy())\n"
   ]
  },
  {
   "cell_type": "code",
   "execution_count": null,
   "metadata": {},
   "outputs": [],
   "source": [
    "young_interactions_clust[np.isinf(young_interactions_clust)] = 5\n",
    "med_interactions_clust[np.isinf(med_interactions_clust)] = 5\n",
    "old_interactions_clust[np.isinf(old_interactions_clust)] = 5\n"
   ]
  },
  {
   "cell_type": "code",
   "execution_count": null,
   "metadata": {},
   "outputs": [],
   "source": [
    "young_qvals_clust[np.isnan(young_qvals_clust)] = 1\n",
    "med_qvals_clust[np.isnan(med_qvals_clust)] = 1\n",
    "old_qvals_clust[np.isnan(old_qvals_clust)] = 1"
   ]
  },
  {
   "cell_type": "code",
   "execution_count": null,
   "metadata": {},
   "outputs": [],
   "source": [
    "from plotting import plot_interactions"
   ]
  },
  {
   "cell_type": "code",
   "execution_count": null,
   "metadata": {},
   "outputs": [],
   "source": [
    "f = plot_interactions(young_qvals_clust, young_interactions_clust, celltypes,celltype_colors,cmap=plt.cm.seismic,vmax=5, vmin=-5)\n",
    "f.savefig(\"/home/user/Dropbox/zhuang_lab/aging/aging_atlas_paper/figures_int/fig3_cell_contact_young.pdf\",bbox_inches='tight', dpi=200)"
   ]
  },
  {
   "cell_type": "code",
   "execution_count": null,
   "metadata": {},
   "outputs": [],
   "source": [
    "f = plot_interactions(med_qvals_clust, med_interactions_clust, celltypes,celltype_colors,cmap=plt.cm.seismic,vmax=3, vmin=-3)\n",
    "f.savefig(\"/home/user/Dropbox/zhuang_lab/aging/aging_atlas_paper/figures_int/fig3_cell_contact_med.pdf\",bbox_inches='tight', dpi=200)"
   ]
  },
  {
   "cell_type": "code",
   "execution_count": null,
   "metadata": {},
   "outputs": [],
   "source": [
    "f = plot_interactions(old_qvals_clust, old_interactions_clust, celltypes,celltype_colors,cmap=plt.cm.seismic,vmax=3, vmin=-3)\n",
    "f.savefig(\"/home/user/Dropbox/zhuang_lab/aging/aging_atlas_paper/figures_int/fig3_cell_contact_old.pdf\",bbox_inches='tight', dpi=200)"
   ]
  },
  {
   "cell_type": "code",
   "execution_count": null,
   "metadata": {},
   "outputs": [],
   "source": [
    "diff = old_interactions_clust-young_interactions_clust\n",
    "diff[np.isnan(diff)] = 0\n",
    "for i in range(diff.shape[0]):\n",
    "    for j in range(diff.shape[1]):\n",
    "        if young_qvals_clust[i,j] < 0.05 or old_pvals_clust[i,j] < 0.05:\n",
    "            pass\n",
    "        else:\n",
    "            diff[i,j] = 0\n",
    "diff_qvals = np.zeros_like(old_qvals_clust)\n",
    "for i in range(old_qvals_clust.shape[0]):\n",
    "    for j in range(old_qvals_clust.shape[0]):\n",
    "        if old_qvals_clust[i,j] < 0.05 or young_qvals_clust[i,j] < 0.05:\n",
    "            if (old_interactions_clust[i,j]>0 or young_interactions_clust[i,j]>0):\n",
    "                diff_qvals[i,j] = 0\n",
    "            else:\n",
    "                diff_qvals[i,j] = 1\n",
    "        else:\n",
    "            diff_qvals[i,j] = 1"
   ]
  },
  {
   "cell_type": "code",
   "execution_count": null,
   "metadata": {},
   "outputs": [],
   "source": [
    "f = plot_interactions(diff_qvals, diff, celltypes,celltype_colors,cmap=plt.cm.Reds,vmax=1.2, vmin=0)\n",
    "f.savefig(\"/home/user/Dropbox/zhuang_lab/aging/aging_atlas_paper/figures_int/fig3_cell_contact_diff.pdf\",bbox_inches='tight', dpi=200)"
   ]
  },
  {
   "cell_type": "code",
   "execution_count": null,
   "metadata": {},
   "outputs": [],
   "source": [
    "#f,ax = plt.subplots(figsize=(5,5))\n",
    "#ax.imshow(np.flipud(diff),cmap=plt.cm.seismic,vmin=-2.5, vmax=2.5)\n",
    "#ax.set_xticks(np.arange(diff.shape[0]));\n",
    "#ax.set_xticklabels(celltypes,rotation=90)\n",
    "#ax.set_yticks(np.arange(diff.shape[1]));\n",
    "#ax.set_yticklabels(celltypes[::-1]);\n",
    "#sns.despine(ax=ax,left=True, bottom=True)\n",
    "#f.savefig(\"/home/user/Dropbox/zhuang_lab/aging/aging_atlas_paper/figures_int/fig3_cell_contact_diff.pdf\",bbox_inches='tight', dpi=200)"
   ]
  },
  {
   "cell_type": "markdown",
   "metadata": {},
   "source": [
    "# Redo this at higher resolution"
   ]
  },
  {
   "cell_type": "markdown",
   "metadata": {},
   "source": [
    "# test effect of cell-cell interaction on activated state"
   ]
  },
  {
   "cell_type": "code",
   "execution_count": null,
   "metadata": {},
   "outputs": [],
   "source": [
    "sc.tl.score_genes(adata_annot, gene_list=['B2m','Trem2', 'Ccl2', 'Apoe',  'Axl', 'Itgax', 'Cd9','C1qa','C1qc','Lyz2','Ctss'], score_name='activate_micro', use_raw=False)\n",
    "sc.tl.score_genes(adata_annot, gene_list=['C4b', 'C3', 'Serpina3n', 'Cxcl10', 'Gfap', 'Vim', 'Il18','Hif3a'], score_name='activate_astro', use_raw=False)\n",
    "\n",
    "sc.tl.score_genes(adata_annot, gene_list=activate_endo, score_name='activate_endo',use_raw=False)"
   ]
  },
  {
   "cell_type": "code",
   "execution_count": null,
   "metadata": {},
   "outputs": [],
   "source": [
    "adata_micro = adata_annot[adata_annot.obs.cell_type==\"Micro\"]\n",
    "adata_annot.obs.activate_micro = adata_annot.obs.activate_micro - np.mean(adata_micro[adata_micro.obs.age=='4wk'].obs.activate_micro)"
   ]
  },
  {
   "cell_type": "code",
   "execution_count": null,
   "metadata": {},
   "outputs": [],
   "source": [
    "adata_astro = adata_annot[adata_annot.obs.cell_type==\"Astro\"]\n",
    "adata_annot.obs.activate_astro = adata_annot.obs.activate_astro - np.mean(adata_astro[adata_astro.obs.age=='4wk'].obs.activate_astro)"
   ]
  },
  {
   "cell_type": "code",
   "execution_count": null,
   "metadata": {},
   "outputs": [],
   "source": [
    "from spatial_analysis import *\n",
    "from plotting import *"
   ]
  },
  {
   "cell_type": "code",
   "execution_count": null,
   "metadata": {},
   "outputs": [],
   "source": [
    "sc.pl.umap(adata_annot, color=['age','activate_astro'])"
   ]
  },
  {
   "cell_type": "code",
   "execution_count": null,
   "metadata": {},
   "outputs": [],
   "source": [
    "def identify_nearest_neighbors_with_idx(X,Y,dist_thresh, min_dist_thresh=15):\n",
    "    if X.shape[0] > 0 and Y.shape[0] > 0:\n",
    "        kdtree = KDTree(Y)\n",
    "        ind, dists = kdtree.query_radius(X, r=dist_thresh, count_only=False,return_distance=True)\n",
    "        ind_X = np.hstack([[i]*len(ind[i]) for i in np.arange(len(ind)) if len(ind[i])>0])\n",
    "        \n",
    "        ind = np.hstack(ind)\n",
    "        dists = np.hstack(dists)\n",
    "        if len(ind) > 0:\n",
    "            ind = ind[dists>min_dist_thresh]      \n",
    "            ind_X = ind_X[dists>min_dist_thresh]\n",
    "        return ind.astype(np.int), ind_X.astype(np.int)\n",
    "    else:\n",
    "        return np.array([])\n",
    "\n",
    "def count_neighbors_with_idx(X,Y,dist_thresh, ):\n",
    "    if X.shape[0] > 0 and Y.shape[0] > 0:\n",
    "        kdtree = KDTree(Y)\n",
    "        ind, dists = kdtree.query_radius(X, r=dist_thresh, count_only=False,return_distance=True)\n",
    "        counts_Y = np.array([len(i) for i in ind])\n",
    "        ind_X = np.arange(len(ind))#np.array([i for i in np.arange(len(ind)) if len(ind[i])>0])\n",
    "        return ind_X.astype(np.int), counts_Y.astype(np.int)\n",
    "    else:\n",
    "        return np.array([])\n",
    "\n",
    "def identify_nearest_neighbors_with_dist(X,Y, min_dist=0):\n",
    "    if X.shape[0] > 0 and Y.shape[0] > 0:\n",
    "        kdtree = KDTree(Y)\n",
    "        dists, ind = kdtree.query(X, k=2,return_distance=True)\n",
    "        print(dists.shape, ind.shape)\n",
    "        good_dists = np.zeros(len(dists))\n",
    "        good_ind = np.zeros(len(ind))\n",
    "        for i in range(dists.shape[0]):\n",
    "            if dists[i,0] > 0: # remove duplicates\n",
    "                good_dists[i] = dists[i,0]\n",
    "                good_ind[i] = ind[i,0]\n",
    "            else:\n",
    "                good_dists[i] = dists[i,1]\n",
    "                good_ind[i] = ind[i,1]\n",
    "        #ind_X = np.hstack([[i]*len(ind[i]) for i in np.arange(len(ind)) if len(ind[i])>0])\n",
    "        return good_dists, good_ind\n",
    "    else:\n",
    "        return np.array([])\n",
    "    \n",
    "def compute_celltype_obs_count_correlation(A,cell_type_X, cell_type_Y, obs_key_X, celltype_key='cell_type',radius=40, min_dist_thresh=15):\n",
    "    X = A[A.obs[celltype_key] == cell_type_X]\n",
    "    Y = A[A.obs[celltype_key] == cell_type_Y]\n",
    "    obs_X = X.obs[obs_key_X]\n",
    "    curr_X = X.obsm['spatial']\n",
    "    curr_Y = Y.obsm['spatial']\n",
    "    ind_X, counts_Y = count_neighbors_with_idx(curr_X, curr_Y, dist_thresh=radius)\n",
    "    return obs_X.values[ind_X], ind_X, counts_Y\n",
    "\n",
    "\n",
    "def compute_celltype_obs_distance_correlation(A,cell_type_X, cell_type_Y, obs_key_X, celltype_key1='cell_type', celltype_key2='cell_type'):\n",
    "    X = A[A.obs[celltype_key1] == cell_type_X]\n",
    "    Y = A[A.obs[celltype_key2] == cell_type_Y]\n",
    "    obs_X = X.obs[obs_key_X]\n",
    "    curr_X = X.obsm['spatial']\n",
    "    curr_Y = Y.obsm['spatial']\n",
    "    dists_Y, ind_Y = identify_nearest_neighbors_with_dist(curr_X, curr_Y)\n",
    "    return obs_X.values, dists_Y\n",
    "\n",
    "def compute_celltype_obs_correlation(A,cell_type_X, cell_type_Y, obs_key_X, obs_key_Y, celltype_key='cell_type', radius=40, min_dist_thresh=15):\n",
    "    X = A[A.obs[celltype_key] == cell_type_X]\n",
    "    Y = A[A.obs[celltype_key] == cell_type_Y]\n",
    "    obs_X = X.obs[obs_key_X]\n",
    "    obs_Y = Y.obs[obs_key_Y]\n",
    "    curr_X = X.obsm['spatial']\n",
    "    curr_Y = Y.obsm['spatial']\n",
    "    neighbors_X, ind_X = identify_nearest_neighbors_with_idx(curr_X, curr_Y, dist_thresh=radius, min_dist_thresh=min_dist_thresh)\n",
    "    curr_expr = obs_Y[neighbors_X]\n",
    "    return obs_X.values[ind_X], curr_expr.values"
   ]
  },
  {
   "cell_type": "code",
   "execution_count": null,
   "metadata": {},
   "outputs": [],
   "source": [
    "def compute_binned_values(dists, scores, min_d=0, max_d=100, bin_size=30):\n",
    "    binned_mean = np.zeros(max_d-min_d-bin_size)\n",
    "    binned_std = np.zeros(max_d-min_d-bin_size)\n",
    "    for i in np.arange(min_d, max_d-bin_size):\n",
    "        # find distances in this bin range\n",
    "        idx = np.argwhere(np.logical_and(dists>i, dists<=(i+bin_size)))\n",
    "        curr_scores = scores[idx]\n",
    "        binned_mean[i] = np.mean(curr_scores)#/len(idx)\n",
    "        binned_std[i] = np.std(curr_scores)/np.sqrt(len(curr_scores))#/len(idx)\n",
    "    binned_mean -= binned_mean.mean()\n",
    "    binned_std -= binned_mean.mean()\n",
    "    return binned_mean, binned_std"
   ]
  },
  {
   "cell_type": "code",
   "execution_count": null,
   "metadata": {},
   "outputs": [],
   "source": [
    "# astro to peri-1/peri-2\n",
    "plt.figure(figsize=(3,3))\n",
    "celltypes = [\"Peri-1\",\"Peri-2\"]\n",
    "for i in celltypes:\n",
    "    scores, dists = compute_celltype_obs_distance_correlation(adata_annot[adata_annot.obs.age=='4wk'], \"Astro\", i, \"activate_astro\", celltype_key2='clust_annot')\n",
    "    binned_mean, binned_std = compute_binned_values(dists, scores,bin_size=30,max_d=80)\n",
    "    x = np.arange(len(binned_mean))+30\n",
    "    plt.plot(x,binned_mean,color=label_colors[i])\n",
    "    plt.fill_between(x,binned_mean-binned_std, binned_mean+binned_std,alpha=0.1,color=label_colors[i])\n",
    "#plt.legend( celltypes)\n",
    "plt.ylim([-0.2, 0.3])\n",
    "sns.despine()\n",
    "plt.savefig(\"/home/user/Dropbox/zhuang_lab/aging/aging_atlas_paper/figures_int/fig3_distance_peri_score_4wk.pdf\",bbox_inches='tight',dpi=300)"
   ]
  },
  {
   "cell_type": "code",
   "execution_count": null,
   "metadata": {},
   "outputs": [],
   "source": [
    "# astro to peri-1/peri-2\n",
    "plt.figure(figsize=(3,3))\n",
    "celltypes = [\"Peri-1\",\"Peri-2\"]\n",
    "for i in celltypes:\n",
    "    scores, dists = compute_celltype_obs_distance_correlation(adata_annot[adata_annot.obs.age=='90wk'], \"Astro\", i, \"activate_astro\", celltype_key2='clust_annot')\n",
    "    binned_mean, binned_std = compute_binned_values(dists, scores,bin_size=30,max_d=80)\n",
    "    x = np.arange(len(binned_mean))+30\n",
    "    plt.plot(x,binned_mean,color=label_colors[i])\n",
    "    plt.fill_between(x,binned_mean-binned_std, binned_mean+binned_std,alpha=0.1,color=label_colors[i])\n",
    "#plt.legend( celltypes)\n",
    "plt.ylim([-0.2, 0.4])\n",
    "sns.despine()\n",
    "plt.savefig(\"/home/user/Dropbox/zhuang_lab/aging/aging_atlas_paper/figures_int/fig3_distance_peri_score_90wk.pdf\",bbox_inches='tight',dpi=300)"
   ]
  },
  {
   "cell_type": "code",
   "execution_count": null,
   "metadata": {},
   "outputs": [],
   "source": [
    "plt.figure(figsize=(3,3))\n",
    "celltypes = [\"Peri\",\"Endo\",\"Vlmc\", \"Olig\"]\n",
    "for i in celltypes:\n",
    "    scores, dists = compute_celltype_obs_distance_correlation(adata_annot[adata_annot.obs.age=='4wk'], \"Micro\", i, \"activate_micro\")\n",
    "    binned_mean, binned_std = compute_binned_values(dists, scores,bin_size=30)\n",
    "    x = np.arange(len(binned_mean))+30\n",
    "    plt.plot(x,binned_mean,color=celltype_colors[i])\n",
    "    plt.fill_between(x,binned_mean-binned_std, binned_mean+binned_std,alpha=0.1,color=celltype_colors[i])\n",
    "plt.legend( celltypes)\n",
    "plt.ylim([-0.05, 0.12])\n",
    "sns.despine()\n",
    "#plt.savefig(\"/home/user/Dropbox/zhuang_lab/aging/aging_atlas_paper/figures_int/fig3_distance_micro_score_4wk.pdf\",bbox_inches='tight',dpi=300)"
   ]
  },
  {
   "cell_type": "code",
   "execution_count": null,
   "metadata": {},
   "outputs": [],
   "source": [
    "plt.figure(figsize=(3,3))\n",
    "for i in celltypes:\n",
    "    scores, dists = compute_celltype_obs_distance_correlation(adata_annot[adata_annot.obs.age=='90wk'], \"Micro\", i, \"activate_micro\")\n",
    "    binned_mean, binned_std = compute_binned_values(dists, scores,bin_size=30)\n",
    "    x = np.arange(len(binned_mean))+30\n",
    "    plt.plot(x,binned_mean,color=celltype_colors[i])\n",
    "    plt.fill_between(x,binned_mean-binned_std, binned_mean+binned_std,alpha=0.1,color=celltype_colors[i])\n",
    "\n",
    "plt.legend( celltypes)\n",
    "plt.ylim([-0.05, 0.12])\n",
    "sns.despine()\n",
    "#plt.savefig(\"/home/user/Dropbox/zhuang_lab/aging/aging_atlas_paper/figures_int/fig3_distance_micro_score_90wk.pdf\",bbox_inches='tight',dpi=300)"
   ]
  },
  {
   "cell_type": "code",
   "execution_count": null,
   "metadata": {},
   "outputs": [],
   "source": [
    "plt.figure(figsize=(3,3))\n",
    "#celltypes = [\"Endo\",\"Vlmc\", \"Olig\", \"Micro\"]\n",
    "for i in celltypes:\n",
    "    scores, dists = compute_celltype_obs_distance_correlation(adata_annot[adata_annot.obs.age=='4wk'], \"Astro\", i, \"activate_astro\")\n",
    "    binned_mean, binned_std = compute_binned_values(dists, scores,bin_size=30,max_d=100)\n",
    "    x = np.arange(len(binned_mean))+30\n",
    "    plt.plot(x,binned_mean,color=celltype_colors[i])\n",
    "    plt.fill_between(x,binned_mean-binned_std, binned_mean+binned_std,alpha=0.1,color=celltype_colors[i])\n",
    "plt.legend( celltypes )\n",
    "sns.despine()\n",
    "plt.ylim([-0.2, 0.3])\n",
    "#plt.savefig(\"/home/user/Dropbox/zhuang_lab/aging/aging_atlas_paper/figures_int/fig3_distance_astro_score_4wk.pdf\",bbox_inches='tight',dpi=300)"
   ]
  },
  {
   "cell_type": "code",
   "execution_count": null,
   "metadata": {},
   "outputs": [],
   "source": [
    "plt.figure(figsize=(3,3))\n",
    "\n",
    "for i in celltypes:\n",
    "    scores, dists = compute_celltype_obs_distance_correlation(adata_annot[adata_annot.obs.age=='90wk'], \"Astro\", i, \"activate_astro\")\n",
    "    binned_mean, binned_std = compute_binned_values(dists, scores,bin_size=30,max_d=150)\n",
    "    x = np.arange(len(binned_mean))+30\n",
    "    plt.plot(x,binned_mean,color=celltype_colors[i])\n",
    "    plt.fill_between(x,binned_mean-binned_std, binned_mean+binned_std,alpha=0.1,color=celltype_colors[i])\n",
    "#plt.legend(celltypes)\n",
    "sns.despine()\n",
    "#plt.ylim([-0.2, 0.3])\n",
    "#plt.savefig(\"/home/user/Dropbox/zhuang_lab/aging/aging_atlas_paper/figures_int/fig3_distance_astro_score_90wk.pdf\",bbox_inches='tight',dpi=300)"
   ]
  },
  {
   "cell_type": "code",
   "execution_count": null,
   "metadata": {},
   "outputs": [],
   "source": [
    "sc.tl.score_genes(adata_annot, gene_list=[ \"C4b\", \"Il18\", \"Il33\"], score_name=\"activate_olig\",use_raw=False)"
   ]
  },
  {
   "cell_type": "code",
   "execution_count": null,
   "metadata": {},
   "outputs": [],
   "source": [
    "adata_olig = adata_annot[adata_annot.obs.cell_type==\"Olig\"]\n",
    "adata_annot.obs.activate_olig = adata_annot.obs.activate_olig - np.mean(adata_olig[adata_olig.obs.age=='4wk'].obs.activate_olig)"
   ]
  },
  {
   "cell_type": "code",
   "execution_count": null,
   "metadata": {},
   "outputs": [],
   "source": [
    "x,y = compute_celltype_obs_correlation(adata_annot,  \"Olig\",\"Micro\", f\"activate_olig\",f\"activate_micro\",   radius=40)\n"
   ]
  },
  {
   "cell_type": "code",
   "execution_count": null,
   "metadata": {},
   "outputs": [],
   "source": [
    "spatial_regions = [\"Pia\", \"L2/3\", \"L5\", \"L6\", \"CC\", \"Striatum\", \"Ventricle\"]\n",
    "ct_combos = [[\"Olig\", \"Astro\"],[\"Olig\",\"Micro\"],[\"Micro\", \"Astro\"]]\n",
    "cc = np.zeros((len(spatial_regions), 3))\n",
    "for i,r in enumerate(spatial_regions):\n",
    "    print(r)\n",
    "    for j,t in enumerate(ct_combos):\n",
    "        t1 = t[0]\n",
    "        t2 = t[1]\n",
    "        #curr_annot = adata_annot[adata_annot.obs.age=='90wk']\n",
    "        x,y = compute_celltype_obs_correlation(adata_annot[adata_annot.obs.spatial_clust_annots==r],  t1,t2, f\"activate_{t1.lower()}\",f\"activate_{t2.lower()}\",   radius=40)\n",
    "        cc[i,j] = np.corrcoef(x,y)[0,1]\n",
    "    "
   ]
  },
  {
   "cell_type": "code",
   "execution_count": null,
   "metadata": {},
   "outputs": [],
   "source": [
    "# look at correlation between Il33 and Activated Micro/Astro\n",
    "x,y = compute_celltype_obs_correlation(adata_annot[adata_annot.obs.spatial_clust_annots==\"CC\"],  \"Olig\",\"Micro\", f\"activate_olig\",f\"activate_micro\",   radius=30)\n",
    "plt.figure(figsize=(5,5))\n",
    "#plt.scatter(x,y,s=1)\n",
    "plt.title(f\"Olig -> Micro (R={np.corrcoef(x,y)[0,1]})\")\n",
    "sns.kdeplot(x=x,y=y,fill=True)\n",
    "#plt.xlim([0,5])\n",
    "#plt.axis('off')\n",
    "sns.despine()\n",
    "plt.savefig(\"/home/user/Dropbox/zhuang_lab/aging/aging_atlas_paper/figures_int/fig3_activation_corr_olig_micro.pdf\",bbox_inches='tight',dpi=300)"
   ]
  },
  {
   "cell_type": "code",
   "execution_count": null,
   "metadata": {},
   "outputs": [],
   "source": [
    "# look at correlation between Il33 and Activated Micro/Astro\n",
    "x,y = compute_celltype_obs_correlation(adata_annot[adata_annot.obs.spatial_clust_annots==\"CC\"],  \"Olig\",\"Astro\", f\"activate_olig\",f\"activate_astro\",   radius=30)\n",
    "plt.figure(figsize=(5,5))\n",
    "#plt.scatter(x,y,s=1)\n",
    "plt.title(f\"Olig -> Astro (R={np.corrcoef(x,y)[0,1]})\")\n",
    "sns.kdeplot(x=x,y=y,fill=True)\n",
    "#plt.xlim([0,5])\n",
    "#plt.axis('off')\n",
    "sns.despine()\n",
    "#plt.savefig(\"/home/user/Dropbox/zhuang_lab/aging/aging_atlas_paper/figures_int/fig3_activation_corr_olig_astro.pdf\",bbox_inches='tight',dpi=300)"
   ]
  },
  {
   "cell_type": "code",
   "execution_count": null,
   "metadata": {},
   "outputs": [],
   "source": [
    "adata_annot_yng = adata_annot[adata_annot.obs.age=='4wk']\n",
    "adata_annot_old = adata_annot[adata_annot.obs.age=='90wk']\n"
   ]
  },
  {
   "cell_type": "code",
   "execution_count": null,
   "metadata": {},
   "outputs": [],
   "source": [
    "# look at correlation between Il33 and Activated Micro/Astro\n",
    "x,y = compute_celltype_obs_correlation(adata_annot_yng[adata_annot_yng.obs.spatial_clust_annots==\"CC\"],  \"Olig\",\"Micro\", f\"activate_olig\",f\"activate_micro\",   radius=30)\n",
    "plt.figure(figsize=(5,5))\n",
    "#plt.scatter(x,y,s=1)\n",
    "plt.title(f\"Olig -> Micro (R={np.corrcoef(x,y)[0,1]})\")\n",
    "sns.kdeplot(x=x,y=y,fill=True)\n",
    "#plt.xlim([0,5])\n",
    "#plt.axis('off')\n",
    "sns.despine()\n",
    "plt.savefig(\"/home/user/Dropbox/zhuang_lab/aging/aging_atlas_paper/figures_int/fig3_activation_corr_olig_micro_yng.pdf\",bbox_inches='tight',dpi=300)"
   ]
  },
  {
   "cell_type": "code",
   "execution_count": null,
   "metadata": {},
   "outputs": [],
   "source": [
    "# look at correlation between Il33 and Activated Micro/Astro\n",
    "x,y = compute_celltype_obs_correlation(adata_annot_old[adata_annot_old.obs.spatial_clust_annots==\"CC\"],  \"Olig\",\"Micro\", f\"activate_olig\",f\"activate_micro\",   radius=30)\n",
    "plt.figure(figsize=(5,5))\n",
    "#plt.scatter(x,y,s=1)\n",
    "plt.title(f\"Olig -> Micro (R={np.corrcoef(x,y)[0,1]})\")\n",
    "sns.kdeplot(x=x,y=y,fill=True)\n",
    "#plt.xlim([0,5])\n",
    "#plt.axis('off')\n",
    "sns.despine()\n",
    "plt.savefig(\"/home/user/Dropbox/zhuang_lab/aging/aging_atlas_paper/figures_int/fig3_activation_corr_olig_micro_old.pdf\",bbox_inches='tight',dpi=300)"
   ]
  },
  {
   "cell_type": "code",
   "execution_count": null,
   "metadata": {},
   "outputs": [],
   "source": [
    "# look at correlation between Il33 and Activated Micro/Astro\n",
    "x,y = compute_celltype_obs_correlation(adata_annot_old[adata_annot_old.obs.spatial_clust_annots==\"CC\"],  \"Olig\",\"Astro\", f\"activate_olig\",f\"activate_astro\",   radius=30)\n",
    "plt.figure(figsize=(5,5))\n",
    "#plt.scatter(x,y,s=1)\n",
    "plt.title(f\"Olig -> Astro (R={np.corrcoef(x,y)[0,1]})\")\n",
    "sns.kdeplot(x=x,y=y,fill=True)\n",
    "#plt.xlim([0,5])\n",
    "#plt.axis('off')\n",
    "sns.despine()\n",
    "plt.savefig(\"/home/user/Dropbox/zhuang_lab/aging/aging_atlas_paper/figures_int/fig3_activation_corr_olig_astro_old.pdf\",bbox_inches='tight',dpi=300)"
   ]
  },
  {
   "cell_type": "code",
   "execution_count": null,
   "metadata": {},
   "outputs": [],
   "source": [
    "# look at correlation between Il33 and Activated Micro/Astro\n",
    "x,y = compute_celltype_obs_correlation(adata_annot_yng[adata_annot_yng.obs.spatial_clust_annots==\"CC\"],  \"Olig\",\"Astro\", f\"activate_olig\",f\"activate_astro\",   radius=30)\n",
    "plt.figure(figsize=(5,5))\n",
    "#plt.scatter(x,y,s=1)\n",
    "plt.title(f\"Olig -> Astro (R={np.corrcoef(x,y)[0,1]})\")\n",
    "sns.kdeplot(x=x,y=y,fill=True)\n",
    "#plt.xlim([0,5])\n",
    "#plt.axis('off')\n",
    "sns.despine()\n",
    "plt.savefig(\"/home/user/Dropbox/zhuang_lab/aging/aging_atlas_paper/figures_int/fig3_activation_corr_olig_astro_yng.pdf\",bbox_inches='tight',dpi=300)"
   ]
  },
  {
   "cell_type": "code",
   "execution_count": null,
   "metadata": {},
   "outputs": [],
   "source": [
    "x,y = compute_celltype_obs_correlation(adata_annot[adata_annot.obs.spatial_clust_annots==\"CC\"],  \"Micro\",\"Astro\", f\"activate_micro\",f\"activate_astro\",   radius=30)\n",
    "plt.figure(figsize=(5,5))\n",
    "plt.title(f\"Micro -> Astro (R={np.corrcoef(x,y)[0,1]})\")\n",
    "#plt.hist2d(x,y,cmap=plt.cm.viridis,bins=20,rasterized=True);\n",
    "#plt.scatter(x,y,s=1)\n",
    "sns.kdeplot(x=x,y=y,fill=True)\n",
    "#plt.xlim([0,5])\n",
    "#plt.axis('off')\n",
    "sns.despine()\n",
    "\n",
    "plt.savefig(\"/home/user/Dropbox/zhuang_lab/aging/aging_atlas_paper/figures_int/fig3_activation_corr_micro_astro.pdf\",bbox_inches='tight',dpi=300)"
   ]
  }
 ],
 "metadata": {
  "kernelspec": {
   "display_name": "Python 3.8.1 64-bit ('scrnaseq': conda)",
   "language": "python",
   "name": "python38164bitscrnaseqcondaced2695c94d346d998c0cef2164233d9"
  },
  "language_info": {
   "codemirror_mode": {
    "name": "ipython",
    "version": 3
   },
   "file_extension": ".py",
   "mimetype": "text/x-python",
   "name": "python",
   "nbconvert_exporter": "python",
   "pygments_lexer": "ipython3",
   "version": "3.8.1"
  }
 },
 "nbformat": 4,
 "nbformat_minor": 4
}
